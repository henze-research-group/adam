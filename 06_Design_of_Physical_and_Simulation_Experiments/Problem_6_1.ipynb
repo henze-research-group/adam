{
  "nbformat": 4,
  "nbformat_minor": 0,
  "metadata": {
    "colab": {
      "provenance": []
    },
    "kernelspec": {
      "name": "python3",
      "display_name": "Python 3"
    },
    "language_info": {
      "name": "python"
    }
  },
  "cells": [
    {
      "cell_type": "markdown",
      "source": [
        "# *Advanced Data Analysis and Modelling*\n",
        "\n",
        "##Problem 6.1\n",
        "\n",
        "## Full-factorial design for evaluating three different missile systems\n",
        "\n",
        "*Authors: Tim Diller, Gregor Henze*\n",
        "\n",
        "A full-factorial experiment is conducted to determine which of three different missile systems is preferable. The propellant burning rate for 24 static firings was measured using four different propellant types. The experiment performed duplicate observations (replicate r = 2) of burning rates (in minutes) at each combination of the treatments. The data, after coding, are given in Table 6.32. The following hypotheses tests are to be studied:\n",
        "\n",
        "(i) There is no difference in the mean propellant burning rates when different missile systems are used.\n",
        "\n",
        "(ii) There is no difference in the mean propellant burning rates of the four propellant types.\n",
        "\n",
        "(iii) There is no interaction between the different missile systems and the different propellant types."
      ],
      "metadata": {
        "id": "nErUz7hYsv7y"
      }
    },
    {
      "cell_type": "code",
      "source": [
        "# first we import the relevant libraries\n",
        "import numpy as np\n",
        "import pandas as pd\n",
        "import statsmodels.api as sm\n",
        "from statsmodels.formula.api import ols\n",
        "import plotly.express as px\n",
        "import plotly.graph_objects as go"
      ],
      "metadata": {
        "id": "zZ4p4yqhs0ev"
      },
      "execution_count": 2,
      "outputs": []
    },
    {
      "cell_type": "markdown",
      "source": [
        "The first step is to import the data, and turn it into a dataframe to work with it."
      ],
      "metadata": {
        "id": "NN_P3c9HA68_"
      }
    },
    {
      "cell_type": "code",
      "source": [
        "# we turn the data from table 6.32 into a dataframe to make it comfortable to work with.\n",
        "data = {\n",
        "    'Missile_System': ['A1', 'A1', 'A1', 'A1','A1', 'A1', 'A1', 'A1', 'A2', 'A2', 'A2', 'A2','A2', 'A2', 'A2', 'A2', 'A3', 'A3', 'A3', 'A3', 'A3', 'A3', 'A3', 'A3'],\n",
        "    'Propellant_Type': ['b1', 'b1', 'b2', 'b2', 'b3', 'b3', 'b4', 'b4','b1', 'b1', 'b2', 'b2', 'b3', 'b3', 'b4', 'b4','b1', 'b1', 'b2', 'b2', 'b3', 'b3', 'b4', 'b4'],\n",
        "    'Burning_Rate': [34.0, 32.7, 30.1, 32.8, 29.8, 26.7, 29.0, 28.9, 32.0, 33.2, 30.2, 29.8, 28.7, 28.1, 27.6, 27.8, 28.4, 29.3, 27.3, 28.9, 29.7, 27.3, 28.8, 29.1]\n",
        "}\n",
        "\n",
        "df = pd.DataFrame(data)\n"
      ],
      "metadata": {
        "id": "VSZPkSrfs3ME"
      },
      "execution_count": 3,
      "outputs": []
    },
    {
      "cell_type": "markdown",
      "source": [
        "Next we will make a scatterplot of the data, to enable a visual inspection"
      ],
      "metadata": {
        "id": "E6U-5MNBBAX4"
      }
    },
    {
      "cell_type": "code",
      "source": [
        "# we map each Missile_System to its corresponding marker symbol\n",
        "marker_symbols = {'A1': 'triangle-up', 'A2': 'diamond', 'A3': 'circle'}\n",
        "# we map the colors to the different types of propellants\n",
        "color_values = {'b1': 'red', 'b2': 'blue', 'b3': 'purple', 'b4': 'green'}\n",
        "\n",
        "\n",
        "# Create a figure\n",
        "fig = go.Figure()\n",
        "\n",
        "# Scatter the data, connect the repeated runs.\n",
        "for missile_system, symbol in marker_symbols.items():\n",
        "    for propellant, color in color_values.items():\n",
        "        scatter_df = df[(df['Missile_System'] == missile_system) & (df['Propellant_Type'] == propellant)]\n",
        "        color = color_values[propellant]\n",
        "        fig.add_trace(go.Scatter(x=scatter_df.index, y=scatter_df['Burning_Rate'], mode='markers+lines', marker=dict(symbol=symbol, color=color, size=10),line=dict(color=color, dash='dash'), name='Missile_system:' + missile_system + ', Propellant: ' + propellant))\n",
        "\n",
        "# Update layout to adjust the width of the plot\n",
        "fig.update_layout(width=800, xaxis_title='Dataframe Index', yaxis_title='Burning Time [Minutes]', title='Burning Time as Function of Missile System and Propellant')\n",
        "\n",
        "fig.show()\n"
      ],
      "metadata": {
        "colab": {
          "base_uri": "https://localhost:8080/",
          "height": 542
        },
        "id": "zGm9mL9gyiTO",
        "outputId": "ed75e991-96dd-4522-fb63-0b75845edca3"
      },
      "execution_count": 4,
      "outputs": [
        {
          "output_type": "display_data",
          "data": {
            "text/html": [
              "<html>\n",
              "<head><meta charset=\"utf-8\" /></head>\n",
              "<body>\n",
              "    <div>            <script src=\"https://cdnjs.cloudflare.com/ajax/libs/mathjax/2.7.5/MathJax.js?config=TeX-AMS-MML_SVG\"></script><script type=\"text/javascript\">if (window.MathJax && window.MathJax.Hub && window.MathJax.Hub.Config) {window.MathJax.Hub.Config({SVG: {font: \"STIX-Web\"}});}</script>                <script type=\"text/javascript\">window.PlotlyConfig = {MathJaxConfig: 'local'};</script>\n",
              "        <script charset=\"utf-8\" src=\"https://cdn.plot.ly/plotly-2.24.1.min.js\"></script>                <div id=\"8928d74d-b745-4249-a21f-5a965641503a\" class=\"plotly-graph-div\" style=\"height:525px; width:800px;\"></div>            <script type=\"text/javascript\">                                    window.PLOTLYENV=window.PLOTLYENV || {};                                    if (document.getElementById(\"8928d74d-b745-4249-a21f-5a965641503a\")) {                    Plotly.newPlot(                        \"8928d74d-b745-4249-a21f-5a965641503a\",                        [{\"line\":{\"color\":\"red\",\"dash\":\"dash\"},\"marker\":{\"color\":\"red\",\"size\":10,\"symbol\":\"triangle-up\"},\"mode\":\"markers+lines\",\"name\":\"Missile_system:A1, Propellant: b1\",\"x\":[0,1],\"y\":[34.0,32.7],\"type\":\"scatter\"},{\"line\":{\"color\":\"blue\",\"dash\":\"dash\"},\"marker\":{\"color\":\"blue\",\"size\":10,\"symbol\":\"triangle-up\"},\"mode\":\"markers+lines\",\"name\":\"Missile_system:A1, Propellant: b2\",\"x\":[2,3],\"y\":[30.1,32.8],\"type\":\"scatter\"},{\"line\":{\"color\":\"purple\",\"dash\":\"dash\"},\"marker\":{\"color\":\"purple\",\"size\":10,\"symbol\":\"triangle-up\"},\"mode\":\"markers+lines\",\"name\":\"Missile_system:A1, Propellant: b3\",\"x\":[4,5],\"y\":[29.8,26.7],\"type\":\"scatter\"},{\"line\":{\"color\":\"green\",\"dash\":\"dash\"},\"marker\":{\"color\":\"green\",\"size\":10,\"symbol\":\"triangle-up\"},\"mode\":\"markers+lines\",\"name\":\"Missile_system:A1, Propellant: b4\",\"x\":[6,7],\"y\":[29.0,28.9],\"type\":\"scatter\"},{\"line\":{\"color\":\"red\",\"dash\":\"dash\"},\"marker\":{\"color\":\"red\",\"size\":10,\"symbol\":\"diamond\"},\"mode\":\"markers+lines\",\"name\":\"Missile_system:A2, Propellant: b1\",\"x\":[8,9],\"y\":[32.0,33.2],\"type\":\"scatter\"},{\"line\":{\"color\":\"blue\",\"dash\":\"dash\"},\"marker\":{\"color\":\"blue\",\"size\":10,\"symbol\":\"diamond\"},\"mode\":\"markers+lines\",\"name\":\"Missile_system:A2, Propellant: b2\",\"x\":[10,11],\"y\":[30.2,29.8],\"type\":\"scatter\"},{\"line\":{\"color\":\"purple\",\"dash\":\"dash\"},\"marker\":{\"color\":\"purple\",\"size\":10,\"symbol\":\"diamond\"},\"mode\":\"markers+lines\",\"name\":\"Missile_system:A2, Propellant: b3\",\"x\":[12,13],\"y\":[28.7,28.1],\"type\":\"scatter\"},{\"line\":{\"color\":\"green\",\"dash\":\"dash\"},\"marker\":{\"color\":\"green\",\"size\":10,\"symbol\":\"diamond\"},\"mode\":\"markers+lines\",\"name\":\"Missile_system:A2, Propellant: b4\",\"x\":[14,15],\"y\":[27.6,27.8],\"type\":\"scatter\"},{\"line\":{\"color\":\"red\",\"dash\":\"dash\"},\"marker\":{\"color\":\"red\",\"size\":10,\"symbol\":\"circle\"},\"mode\":\"markers+lines\",\"name\":\"Missile_system:A3, Propellant: b1\",\"x\":[16,17],\"y\":[28.4,29.3],\"type\":\"scatter\"},{\"line\":{\"color\":\"blue\",\"dash\":\"dash\"},\"marker\":{\"color\":\"blue\",\"size\":10,\"symbol\":\"circle\"},\"mode\":\"markers+lines\",\"name\":\"Missile_system:A3, Propellant: b2\",\"x\":[18,19],\"y\":[27.3,28.9],\"type\":\"scatter\"},{\"line\":{\"color\":\"purple\",\"dash\":\"dash\"},\"marker\":{\"color\":\"purple\",\"size\":10,\"symbol\":\"circle\"},\"mode\":\"markers+lines\",\"name\":\"Missile_system:A3, Propellant: b3\",\"x\":[20,21],\"y\":[29.7,27.3],\"type\":\"scatter\"},{\"line\":{\"color\":\"green\",\"dash\":\"dash\"},\"marker\":{\"color\":\"green\",\"size\":10,\"symbol\":\"circle\"},\"mode\":\"markers+lines\",\"name\":\"Missile_system:A3, Propellant: b4\",\"x\":[22,23],\"y\":[28.8,29.1],\"type\":\"scatter\"}],                        {\"template\":{\"data\":{\"histogram2dcontour\":[{\"type\":\"histogram2dcontour\",\"colorbar\":{\"outlinewidth\":0,\"ticks\":\"\"},\"colorscale\":[[0.0,\"#0d0887\"],[0.1111111111111111,\"#46039f\"],[0.2222222222222222,\"#7201a8\"],[0.3333333333333333,\"#9c179e\"],[0.4444444444444444,\"#bd3786\"],[0.5555555555555556,\"#d8576b\"],[0.6666666666666666,\"#ed7953\"],[0.7777777777777778,\"#fb9f3a\"],[0.8888888888888888,\"#fdca26\"],[1.0,\"#f0f921\"]]}],\"choropleth\":[{\"type\":\"choropleth\",\"colorbar\":{\"outlinewidth\":0,\"ticks\":\"\"}}],\"histogram2d\":[{\"type\":\"histogram2d\",\"colorbar\":{\"outlinewidth\":0,\"ticks\":\"\"},\"colorscale\":[[0.0,\"#0d0887\"],[0.1111111111111111,\"#46039f\"],[0.2222222222222222,\"#7201a8\"],[0.3333333333333333,\"#9c179e\"],[0.4444444444444444,\"#bd3786\"],[0.5555555555555556,\"#d8576b\"],[0.6666666666666666,\"#ed7953\"],[0.7777777777777778,\"#fb9f3a\"],[0.8888888888888888,\"#fdca26\"],[1.0,\"#f0f921\"]]}],\"heatmap\":[{\"type\":\"heatmap\",\"colorbar\":{\"outlinewidth\":0,\"ticks\":\"\"},\"colorscale\":[[0.0,\"#0d0887\"],[0.1111111111111111,\"#46039f\"],[0.2222222222222222,\"#7201a8\"],[0.3333333333333333,\"#9c179e\"],[0.4444444444444444,\"#bd3786\"],[0.5555555555555556,\"#d8576b\"],[0.6666666666666666,\"#ed7953\"],[0.7777777777777778,\"#fb9f3a\"],[0.8888888888888888,\"#fdca26\"],[1.0,\"#f0f921\"]]}],\"heatmapgl\":[{\"type\":\"heatmapgl\",\"colorbar\":{\"outlinewidth\":0,\"ticks\":\"\"},\"colorscale\":[[0.0,\"#0d0887\"],[0.1111111111111111,\"#46039f\"],[0.2222222222222222,\"#7201a8\"],[0.3333333333333333,\"#9c179e\"],[0.4444444444444444,\"#bd3786\"],[0.5555555555555556,\"#d8576b\"],[0.6666666666666666,\"#ed7953\"],[0.7777777777777778,\"#fb9f3a\"],[0.8888888888888888,\"#fdca26\"],[1.0,\"#f0f921\"]]}],\"contourcarpet\":[{\"type\":\"contourcarpet\",\"colorbar\":{\"outlinewidth\":0,\"ticks\":\"\"}}],\"contour\":[{\"type\":\"contour\",\"colorbar\":{\"outlinewidth\":0,\"ticks\":\"\"},\"colorscale\":[[0.0,\"#0d0887\"],[0.1111111111111111,\"#46039f\"],[0.2222222222222222,\"#7201a8\"],[0.3333333333333333,\"#9c179e\"],[0.4444444444444444,\"#bd3786\"],[0.5555555555555556,\"#d8576b\"],[0.6666666666666666,\"#ed7953\"],[0.7777777777777778,\"#fb9f3a\"],[0.8888888888888888,\"#fdca26\"],[1.0,\"#f0f921\"]]}],\"surface\":[{\"type\":\"surface\",\"colorbar\":{\"outlinewidth\":0,\"ticks\":\"\"},\"colorscale\":[[0.0,\"#0d0887\"],[0.1111111111111111,\"#46039f\"],[0.2222222222222222,\"#7201a8\"],[0.3333333333333333,\"#9c179e\"],[0.4444444444444444,\"#bd3786\"],[0.5555555555555556,\"#d8576b\"],[0.6666666666666666,\"#ed7953\"],[0.7777777777777778,\"#fb9f3a\"],[0.8888888888888888,\"#fdca26\"],[1.0,\"#f0f921\"]]}],\"mesh3d\":[{\"type\":\"mesh3d\",\"colorbar\":{\"outlinewidth\":0,\"ticks\":\"\"}}],\"scatter\":[{\"fillpattern\":{\"fillmode\":\"overlay\",\"size\":10,\"solidity\":0.2},\"type\":\"scatter\"}],\"parcoords\":[{\"type\":\"parcoords\",\"line\":{\"colorbar\":{\"outlinewidth\":0,\"ticks\":\"\"}}}],\"scatterpolargl\":[{\"type\":\"scatterpolargl\",\"marker\":{\"colorbar\":{\"outlinewidth\":0,\"ticks\":\"\"}}}],\"bar\":[{\"error_x\":{\"color\":\"#2a3f5f\"},\"error_y\":{\"color\":\"#2a3f5f\"},\"marker\":{\"line\":{\"color\":\"#E5ECF6\",\"width\":0.5},\"pattern\":{\"fillmode\":\"overlay\",\"size\":10,\"solidity\":0.2}},\"type\":\"bar\"}],\"scattergeo\":[{\"type\":\"scattergeo\",\"marker\":{\"colorbar\":{\"outlinewidth\":0,\"ticks\":\"\"}}}],\"scatterpolar\":[{\"type\":\"scatterpolar\",\"marker\":{\"colorbar\":{\"outlinewidth\":0,\"ticks\":\"\"}}}],\"histogram\":[{\"marker\":{\"pattern\":{\"fillmode\":\"overlay\",\"size\":10,\"solidity\":0.2}},\"type\":\"histogram\"}],\"scattergl\":[{\"type\":\"scattergl\",\"marker\":{\"colorbar\":{\"outlinewidth\":0,\"ticks\":\"\"}}}],\"scatter3d\":[{\"type\":\"scatter3d\",\"line\":{\"colorbar\":{\"outlinewidth\":0,\"ticks\":\"\"}},\"marker\":{\"colorbar\":{\"outlinewidth\":0,\"ticks\":\"\"}}}],\"scattermapbox\":[{\"type\":\"scattermapbox\",\"marker\":{\"colorbar\":{\"outlinewidth\":0,\"ticks\":\"\"}}}],\"scatterternary\":[{\"type\":\"scatterternary\",\"marker\":{\"colorbar\":{\"outlinewidth\":0,\"ticks\":\"\"}}}],\"scattercarpet\":[{\"type\":\"scattercarpet\",\"marker\":{\"colorbar\":{\"outlinewidth\":0,\"ticks\":\"\"}}}],\"carpet\":[{\"aaxis\":{\"endlinecolor\":\"#2a3f5f\",\"gridcolor\":\"white\",\"linecolor\":\"white\",\"minorgridcolor\":\"white\",\"startlinecolor\":\"#2a3f5f\"},\"baxis\":{\"endlinecolor\":\"#2a3f5f\",\"gridcolor\":\"white\",\"linecolor\":\"white\",\"minorgridcolor\":\"white\",\"startlinecolor\":\"#2a3f5f\"},\"type\":\"carpet\"}],\"table\":[{\"cells\":{\"fill\":{\"color\":\"#EBF0F8\"},\"line\":{\"color\":\"white\"}},\"header\":{\"fill\":{\"color\":\"#C8D4E3\"},\"line\":{\"color\":\"white\"}},\"type\":\"table\"}],\"barpolar\":[{\"marker\":{\"line\":{\"color\":\"#E5ECF6\",\"width\":0.5},\"pattern\":{\"fillmode\":\"overlay\",\"size\":10,\"solidity\":0.2}},\"type\":\"barpolar\"}],\"pie\":[{\"automargin\":true,\"type\":\"pie\"}]},\"layout\":{\"autotypenumbers\":\"strict\",\"colorway\":[\"#636efa\",\"#EF553B\",\"#00cc96\",\"#ab63fa\",\"#FFA15A\",\"#19d3f3\",\"#FF6692\",\"#B6E880\",\"#FF97FF\",\"#FECB52\"],\"font\":{\"color\":\"#2a3f5f\"},\"hovermode\":\"closest\",\"hoverlabel\":{\"align\":\"left\"},\"paper_bgcolor\":\"white\",\"plot_bgcolor\":\"#E5ECF6\",\"polar\":{\"bgcolor\":\"#E5ECF6\",\"angularaxis\":{\"gridcolor\":\"white\",\"linecolor\":\"white\",\"ticks\":\"\"},\"radialaxis\":{\"gridcolor\":\"white\",\"linecolor\":\"white\",\"ticks\":\"\"}},\"ternary\":{\"bgcolor\":\"#E5ECF6\",\"aaxis\":{\"gridcolor\":\"white\",\"linecolor\":\"white\",\"ticks\":\"\"},\"baxis\":{\"gridcolor\":\"white\",\"linecolor\":\"white\",\"ticks\":\"\"},\"caxis\":{\"gridcolor\":\"white\",\"linecolor\":\"white\",\"ticks\":\"\"}},\"coloraxis\":{\"colorbar\":{\"outlinewidth\":0,\"ticks\":\"\"}},\"colorscale\":{\"sequential\":[[0.0,\"#0d0887\"],[0.1111111111111111,\"#46039f\"],[0.2222222222222222,\"#7201a8\"],[0.3333333333333333,\"#9c179e\"],[0.4444444444444444,\"#bd3786\"],[0.5555555555555556,\"#d8576b\"],[0.6666666666666666,\"#ed7953\"],[0.7777777777777778,\"#fb9f3a\"],[0.8888888888888888,\"#fdca26\"],[1.0,\"#f0f921\"]],\"sequentialminus\":[[0.0,\"#0d0887\"],[0.1111111111111111,\"#46039f\"],[0.2222222222222222,\"#7201a8\"],[0.3333333333333333,\"#9c179e\"],[0.4444444444444444,\"#bd3786\"],[0.5555555555555556,\"#d8576b\"],[0.6666666666666666,\"#ed7953\"],[0.7777777777777778,\"#fb9f3a\"],[0.8888888888888888,\"#fdca26\"],[1.0,\"#f0f921\"]],\"diverging\":[[0,\"#8e0152\"],[0.1,\"#c51b7d\"],[0.2,\"#de77ae\"],[0.3,\"#f1b6da\"],[0.4,\"#fde0ef\"],[0.5,\"#f7f7f7\"],[0.6,\"#e6f5d0\"],[0.7,\"#b8e186\"],[0.8,\"#7fbc41\"],[0.9,\"#4d9221\"],[1,\"#276419\"]]},\"xaxis\":{\"gridcolor\":\"white\",\"linecolor\":\"white\",\"ticks\":\"\",\"title\":{\"standoff\":15},\"zerolinecolor\":\"white\",\"automargin\":true,\"zerolinewidth\":2},\"yaxis\":{\"gridcolor\":\"white\",\"linecolor\":\"white\",\"ticks\":\"\",\"title\":{\"standoff\":15},\"zerolinecolor\":\"white\",\"automargin\":true,\"zerolinewidth\":2},\"scene\":{\"xaxis\":{\"backgroundcolor\":\"#E5ECF6\",\"gridcolor\":\"white\",\"linecolor\":\"white\",\"showbackground\":true,\"ticks\":\"\",\"zerolinecolor\":\"white\",\"gridwidth\":2},\"yaxis\":{\"backgroundcolor\":\"#E5ECF6\",\"gridcolor\":\"white\",\"linecolor\":\"white\",\"showbackground\":true,\"ticks\":\"\",\"zerolinecolor\":\"white\",\"gridwidth\":2},\"zaxis\":{\"backgroundcolor\":\"#E5ECF6\",\"gridcolor\":\"white\",\"linecolor\":\"white\",\"showbackground\":true,\"ticks\":\"\",\"zerolinecolor\":\"white\",\"gridwidth\":2}},\"shapedefaults\":{\"line\":{\"color\":\"#2a3f5f\"}},\"annotationdefaults\":{\"arrowcolor\":\"#2a3f5f\",\"arrowhead\":0,\"arrowwidth\":1},\"geo\":{\"bgcolor\":\"white\",\"landcolor\":\"#E5ECF6\",\"subunitcolor\":\"white\",\"showland\":true,\"showlakes\":true,\"lakecolor\":\"white\"},\"title\":{\"x\":0.05},\"mapbox\":{\"style\":\"light\"}}},\"width\":800,\"xaxis\":{\"title\":{\"text\":\"Dataframe Index\"}},\"yaxis\":{\"title\":{\"text\":\"Burning Time [Minutes]\"}},\"title\":{\"text\":\"Burning Time as Function of Missile System and Propellant\"}},                        {\"responsive\": true}                    ).then(function(){\n",
              "                            \n",
              "var gd = document.getElementById('8928d74d-b745-4249-a21f-5a965641503a');\n",
              "var x = new MutationObserver(function (mutations, observer) {{\n",
              "        var display = window.getComputedStyle(gd).display;\n",
              "        if (!display || display === 'none') {{\n",
              "            console.log([gd, 'removed!']);\n",
              "            Plotly.purge(gd);\n",
              "            observer.disconnect();\n",
              "        }}\n",
              "}});\n",
              "\n",
              "// Listen for the removal of the full notebook cells\n",
              "var notebookContainer = gd.closest('#notebook-container');\n",
              "if (notebookContainer) {{\n",
              "    x.observe(notebookContainer, {childList: true});\n",
              "}}\n",
              "\n",
              "// Listen for the clearing of the current output cell\n",
              "var outputEl = gd.closest('.output');\n",
              "if (outputEl) {{\n",
              "    x.observe(outputEl, {childList: true});\n",
              "}}\n",
              "\n",
              "                        })                };                            </script>        </div>\n",
              "</body>\n",
              "</html>"
            ]
          },
          "metadata": {}
        }
      ]
    },
    {
      "cell_type": "markdown",
      "source": [
        "A number of conclusions can be drawn from the plot. Especially in Missile system A1, there is a significant variance in the burn rates for the replicated experiments. Also, it can be seen that some propellants seem to have higher average firing rates then others.\n",
        "\n",
        "However, an actual statistical analysis is required to see whether any of the hypotheses pass the p-value threshold of 0.05."
      ],
      "metadata": {
        "id": "tlVsC7sK_18-"
      }
    },
    {
      "cell_type": "markdown",
      "source": [
        "To conduct the statistical analysis for each hypothesis, we use the anova_lm functionality of the statsmodels API for each hypothesis separately."
      ],
      "metadata": {
        "id": "BNcrJp-N_299"
      }
    },
    {
      "cell_type": "code",
      "source": [
        "# Fit the ANOVA model for each hypothesis\n",
        "# (i) There is no difference in the mean propellant burning rates when different missile systems are used.\n",
        "model_i = ols('Burning_Rate ~ Missile_System', data=df).fit()\n",
        "anova_table_i = sm.stats.anova_lm(model_i, typ=2)\n",
        "\n",
        "# (ii) There is no difference in the mean propellant burning rates of the four propellant types.\n",
        "model_ii = ols('Burning_Rate ~ Propellant_Type', data=df).fit()\n",
        "anova_table_ii = sm.stats.anova_lm(model_ii, typ=2)\n",
        "\n",
        "# (iii) There is no interaction between the different missile systems and the different propellant types.\n",
        "model_iii = ols('Burning_Rate ~ Missile_System * Propellant_Type', data=df).fit()\n",
        "anova_table_iii = sm.stats.anova_lm(model_iii, typ=2)\n",
        "\n",
        "# Print ANOVA tables\n",
        "print(\"ANOVA Table for Hypothesis (i):\")\n",
        "print(anova_table_i)\n",
        "print(\"\\nANOVA Table for Hypothesis (ii):\")\n",
        "print(anova_table_ii)\n",
        "print(\"\\nANOVA Table for Hypothesis (iii):\")\n",
        "print(anova_table_iii)"
      ],
      "metadata": {
        "colab": {
          "base_uri": "https://localhost:8080/"
        },
        "id": "-wDLK87As-Fj",
        "outputId": "917b31c7-001f-45f7-9d2c-4fbb252b566d"
      },
      "execution_count": null,
      "outputs": [
        {
          "output_type": "stream",
          "name": "stdout",
          "text": [
            "ANOVA Table for Hypothesis (i):\n",
            "                   sum_sq    df         F    PR(>F)\n",
            "Missile_System  14.523333   2.0  1.976476  0.163502\n",
            "Residual        77.155000  21.0       NaN       NaN\n",
            "\n",
            "ANOVA Table for Hypothesis (ii):\n",
            "                    sum_sq    df         F    PR(>F)\n",
            "Propellant_Type  40.081667   3.0  5.178844  0.008235\n",
            "Residual         51.596667  20.0       NaN       NaN\n",
            "\n",
            "ANOVA Table for Hypothesis (iii):\n",
            "                                   sum_sq    df          F    PR(>F)\n",
            "Missile_System                  14.523333   2.0   5.844400  0.016898\n",
            "Propellant_Type                 40.081667   3.0  10.752962  0.001020\n",
            "Missile_System:Propellant_Type  22.163333   6.0   2.972949  0.051168\n",
            "Residual                        14.910000  12.0        NaN       NaN\n"
          ]
        }
      ]
    },
    {
      "cell_type": "markdown",
      "source": [
        "## Conclusion\n",
        "\n",
        "we can see that based on the data, we have to reject hypothesis (i), while we confirm hypothesis (ii). in hypothesis (iii), the interaction term very narrowly misses the threshold for statistical significance.\n",
        "\n",
        "However, this does not mean that it is likely that there is no relevant interaction term. It just means that more data is required to make a conclusive assessment of this interaction. See also specifically the Notebook on ANOVA testing in Chapter 6 for further explanation of the interaction between the effect strength, sample variance, and sample size in determining the p-value of an ANOVA statistic."
      ],
      "metadata": {
        "id": "FUrAaeGfCQaz"
      }
    }
  ]
}