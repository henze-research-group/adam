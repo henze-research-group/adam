{
  "nbformat": 4,
  "nbformat_minor": 0,
  "metadata": {
    "colab": {
      "provenance": [],
      "toc_visible": true
    },
    "kernelspec": {
      "name": "python3",
      "display_name": "Python 3"
    },
    "language_info": {
      "name": "python"
    }
  },
  "cells": [
    {
      "cell_type": "markdown",
      "source": [
        "###**Problem 5.1:**###\n",
        "Table 5.14 lists various properties of saturated water in the\n",
        "temperature range 0–100°C.\n",
        "\n",
        "(a) Investigate first-order and second-order polynomials that fit saturated vapor enthalpy to temperature in °C. Identify the better model by looking at R2,RMSE, and CV values for both models. Predict the value of saturated vapor enthalpy at 30°C along with 95% CI and 95% prediction intervals.\n",
        "\n",
        "(b) Repeat the above analysis for specific volume but inves tigate third-order polynomial fits as well. Predict the value of specific volume at 30°C along with 95% CI and 95% prediction intervals.\n",
        "\n",
        "(c) Calculate the skill factors for the second and third-order models with the first order as the baseline model.\n",
        "\n",
        "**Solution:**"
      ],
      "metadata": {
        "id": "cZnOJzubfug-"
      }
    },
    {
      "cell_type": "markdown",
      "source": [
        "## Importing Libraries ##"
      ],
      "metadata": {
        "id": "UHcXYB4tgd5g"
      }
    },
    {
      "cell_type": "code",
      "source": [
        "# Libraries\n",
        "import statsmodels.api as sm\n",
        "from statsmodels.tools.eval_measures import rmse\n",
        "import numpy as np\n",
        "import pandas as pd\n",
        "import matplotlib.pyplot as plt\n",
        "from sklearn.model_selection import KFold\n",
        "from sklearn.linear_model import LinearRegression\n",
        "from sklearn.metrics import mean_squared_error\n",
        "from scipy import stats\n",
        "import seaborn as sns\n",
        "import plotly.graph_objects as go\n",
        "import plotly.express as px"
      ],
      "metadata": {
        "id": "rdM1JIc7fxf2"
      },
      "execution_count": null,
      "outputs": []
    },
    {
      "cell_type": "markdown",
      "source": [
        "## Defining Units for the problem ##"
      ],
      "metadata": {
        "id": "xPG5pa9BlnS0"
      }
    },
    {
      "cell_type": "code",
      "source": [
        "#Units\n",
        "degC = 1; #Celcius degree\n",
        "m = 1; #meter\n",
        "kg = 1; #kilograms\n",
        "kJ = 1; #kilo-jouls"
      ],
      "metadata": {
        "id": "7-HGjcRprZxF"
      },
      "execution_count": null,
      "outputs": []
    },
    {
      "cell_type": "markdown",
      "source": [
        "## Data for the problem:##"
      ],
      "metadata": {
        "id": "qRUzvgqwg8JA"
      }
    },
    {
      "cell_type": "code",
      "source": [
        "d = {'Temperature t (°C)':[0, 10, 20, 30 ,40, 50 ,60 ,70, 80, 90, 100],'Specific volume v (m^3/kg)':[206.3, 106.4, 57.84, 32.93, 19.55, 12.05, 7.679, 5.046, 3.409, 2.361, 1.673],'Sat. vapor enthalpy kJ/kg':[2501.6, 2519.9, 2538.2, 2556.4, 2574.4, 2592.2, 2609.7, 2626.9, 2643.8, 2660.1, 2676]}\n",
        "df = pd.DataFrame(data=d) #lower case and define vars\n",
        "df.head() #display()"
      ],
      "metadata": {
        "colab": {
          "base_uri": "https://localhost:8080/",
          "height": 206
        },
        "id": "cqNLny8kg_Ti",
        "outputId": "54db817c-2903-49bd-8680-bb16968b977b"
      },
      "execution_count": null,
      "outputs": [
        {
          "output_type": "execute_result",
          "data": {
            "text/plain": [
              "   Temperature t (°C)  Specific volume v (m^3/kg)  Sat. vapor enthalpy kJ/kg\n",
              "0                   0                      206.30                     2501.6\n",
              "1                  10                      106.40                     2519.9\n",
              "2                  20                       57.84                     2538.2\n",
              "3                  30                       32.93                     2556.4\n",
              "4                  40                       19.55                     2574.4"
            ],
            "text/html": [
              "\n",
              "  <div id=\"df-af9d43d5-381a-4312-bd0e-997d54baa72a\" class=\"colab-df-container\">\n",
              "    <div>\n",
              "<style scoped>\n",
              "    .dataframe tbody tr th:only-of-type {\n",
              "        vertical-align: middle;\n",
              "    }\n",
              "\n",
              "    .dataframe tbody tr th {\n",
              "        vertical-align: top;\n",
              "    }\n",
              "\n",
              "    .dataframe thead th {\n",
              "        text-align: right;\n",
              "    }\n",
              "</style>\n",
              "<table border=\"1\" class=\"dataframe\">\n",
              "  <thead>\n",
              "    <tr style=\"text-align: right;\">\n",
              "      <th></th>\n",
              "      <th>Temperature t (°C)</th>\n",
              "      <th>Specific volume v (m^3/kg)</th>\n",
              "      <th>Sat. vapor enthalpy kJ/kg</th>\n",
              "    </tr>\n",
              "  </thead>\n",
              "  <tbody>\n",
              "    <tr>\n",
              "      <th>0</th>\n",
              "      <td>0</td>\n",
              "      <td>206.30</td>\n",
              "      <td>2501.6</td>\n",
              "    </tr>\n",
              "    <tr>\n",
              "      <th>1</th>\n",
              "      <td>10</td>\n",
              "      <td>106.40</td>\n",
              "      <td>2519.9</td>\n",
              "    </tr>\n",
              "    <tr>\n",
              "      <th>2</th>\n",
              "      <td>20</td>\n",
              "      <td>57.84</td>\n",
              "      <td>2538.2</td>\n",
              "    </tr>\n",
              "    <tr>\n",
              "      <th>3</th>\n",
              "      <td>30</td>\n",
              "      <td>32.93</td>\n",
              "      <td>2556.4</td>\n",
              "    </tr>\n",
              "    <tr>\n",
              "      <th>4</th>\n",
              "      <td>40</td>\n",
              "      <td>19.55</td>\n",
              "      <td>2574.4</td>\n",
              "    </tr>\n",
              "  </tbody>\n",
              "</table>\n",
              "</div>\n",
              "    <div class=\"colab-df-buttons\">\n",
              "\n",
              "  <div class=\"colab-df-container\">\n",
              "    <button class=\"colab-df-convert\" onclick=\"convertToInteractive('df-af9d43d5-381a-4312-bd0e-997d54baa72a')\"\n",
              "            title=\"Convert this dataframe to an interactive table.\"\n",
              "            style=\"display:none;\">\n",
              "\n",
              "  <svg xmlns=\"http://www.w3.org/2000/svg\" height=\"24px\" viewBox=\"0 -960 960 960\">\n",
              "    <path d=\"M120-120v-720h720v720H120Zm60-500h600v-160H180v160Zm220 220h160v-160H400v160Zm0 220h160v-160H400v160ZM180-400h160v-160H180v160Zm440 0h160v-160H620v160ZM180-180h160v-160H180v160Zm440 0h160v-160H620v160Z\"/>\n",
              "  </svg>\n",
              "    </button>\n",
              "\n",
              "  <style>\n",
              "    .colab-df-container {\n",
              "      display:flex;\n",
              "      gap: 12px;\n",
              "    }\n",
              "\n",
              "    .colab-df-convert {\n",
              "      background-color: #E8F0FE;\n",
              "      border: none;\n",
              "      border-radius: 50%;\n",
              "      cursor: pointer;\n",
              "      display: none;\n",
              "      fill: #1967D2;\n",
              "      height: 32px;\n",
              "      padding: 0 0 0 0;\n",
              "      width: 32px;\n",
              "    }\n",
              "\n",
              "    .colab-df-convert:hover {\n",
              "      background-color: #E2EBFA;\n",
              "      box-shadow: 0px 1px 2px rgba(60, 64, 67, 0.3), 0px 1px 3px 1px rgba(60, 64, 67, 0.15);\n",
              "      fill: #174EA6;\n",
              "    }\n",
              "\n",
              "    .colab-df-buttons div {\n",
              "      margin-bottom: 4px;\n",
              "    }\n",
              "\n",
              "    [theme=dark] .colab-df-convert {\n",
              "      background-color: #3B4455;\n",
              "      fill: #D2E3FC;\n",
              "    }\n",
              "\n",
              "    [theme=dark] .colab-df-convert:hover {\n",
              "      background-color: #434B5C;\n",
              "      box-shadow: 0px 1px 3px 1px rgba(0, 0, 0, 0.15);\n",
              "      filter: drop-shadow(0px 1px 2px rgba(0, 0, 0, 0.3));\n",
              "      fill: #FFFFFF;\n",
              "    }\n",
              "  </style>\n",
              "\n",
              "    <script>\n",
              "      const buttonEl =\n",
              "        document.querySelector('#df-af9d43d5-381a-4312-bd0e-997d54baa72a button.colab-df-convert');\n",
              "      buttonEl.style.display =\n",
              "        google.colab.kernel.accessAllowed ? 'block' : 'none';\n",
              "\n",
              "      async function convertToInteractive(key) {\n",
              "        const element = document.querySelector('#df-af9d43d5-381a-4312-bd0e-997d54baa72a');\n",
              "        const dataTable =\n",
              "          await google.colab.kernel.invokeFunction('convertToInteractive',\n",
              "                                                    [key], {});\n",
              "        if (!dataTable) return;\n",
              "\n",
              "        const docLinkHtml = 'Like what you see? Visit the ' +\n",
              "          '<a target=\"_blank\" href=https://colab.research.google.com/notebooks/data_table.ipynb>data table notebook</a>'\n",
              "          + ' to learn more about interactive tables.';\n",
              "        element.innerHTML = '';\n",
              "        dataTable['output_type'] = 'display_data';\n",
              "        await google.colab.output.renderOutput(dataTable, element);\n",
              "        const docLink = document.createElement('div');\n",
              "        docLink.innerHTML = docLinkHtml;\n",
              "        element.appendChild(docLink);\n",
              "      }\n",
              "    </script>\n",
              "  </div>\n",
              "\n",
              "\n",
              "<div id=\"df-d1ea861e-a723-4443-bfa7-6ffd3f204ae2\">\n",
              "  <button class=\"colab-df-quickchart\" onclick=\"quickchart('df-d1ea861e-a723-4443-bfa7-6ffd3f204ae2')\"\n",
              "            title=\"Suggest charts\"\n",
              "            style=\"display:none;\">\n",
              "\n",
              "<svg xmlns=\"http://www.w3.org/2000/svg\" height=\"24px\"viewBox=\"0 0 24 24\"\n",
              "     width=\"24px\">\n",
              "    <g>\n",
              "        <path d=\"M19 3H5c-1.1 0-2 .9-2 2v14c0 1.1.9 2 2 2h14c1.1 0 2-.9 2-2V5c0-1.1-.9-2-2-2zM9 17H7v-7h2v7zm4 0h-2V7h2v10zm4 0h-2v-4h2v4z\"/>\n",
              "    </g>\n",
              "</svg>\n",
              "  </button>\n",
              "\n",
              "<style>\n",
              "  .colab-df-quickchart {\n",
              "      --bg-color: #E8F0FE;\n",
              "      --fill-color: #1967D2;\n",
              "      --hover-bg-color: #E2EBFA;\n",
              "      --hover-fill-color: #174EA6;\n",
              "      --disabled-fill-color: #AAA;\n",
              "      --disabled-bg-color: #DDD;\n",
              "  }\n",
              "\n",
              "  [theme=dark] .colab-df-quickchart {\n",
              "      --bg-color: #3B4455;\n",
              "      --fill-color: #D2E3FC;\n",
              "      --hover-bg-color: #434B5C;\n",
              "      --hover-fill-color: #FFFFFF;\n",
              "      --disabled-bg-color: #3B4455;\n",
              "      --disabled-fill-color: #666;\n",
              "  }\n",
              "\n",
              "  .colab-df-quickchart {\n",
              "    background-color: var(--bg-color);\n",
              "    border: none;\n",
              "    border-radius: 50%;\n",
              "    cursor: pointer;\n",
              "    display: none;\n",
              "    fill: var(--fill-color);\n",
              "    height: 32px;\n",
              "    padding: 0;\n",
              "    width: 32px;\n",
              "  }\n",
              "\n",
              "  .colab-df-quickchart:hover {\n",
              "    background-color: var(--hover-bg-color);\n",
              "    box-shadow: 0 1px 2px rgba(60, 64, 67, 0.3), 0 1px 3px 1px rgba(60, 64, 67, 0.15);\n",
              "    fill: var(--button-hover-fill-color);\n",
              "  }\n",
              "\n",
              "  .colab-df-quickchart-complete:disabled,\n",
              "  .colab-df-quickchart-complete:disabled:hover {\n",
              "    background-color: var(--disabled-bg-color);\n",
              "    fill: var(--disabled-fill-color);\n",
              "    box-shadow: none;\n",
              "  }\n",
              "\n",
              "  .colab-df-spinner {\n",
              "    border: 2px solid var(--fill-color);\n",
              "    border-color: transparent;\n",
              "    border-bottom-color: var(--fill-color);\n",
              "    animation:\n",
              "      spin 1s steps(1) infinite;\n",
              "  }\n",
              "\n",
              "  @keyframes spin {\n",
              "    0% {\n",
              "      border-color: transparent;\n",
              "      border-bottom-color: var(--fill-color);\n",
              "      border-left-color: var(--fill-color);\n",
              "    }\n",
              "    20% {\n",
              "      border-color: transparent;\n",
              "      border-left-color: var(--fill-color);\n",
              "      border-top-color: var(--fill-color);\n",
              "    }\n",
              "    30% {\n",
              "      border-color: transparent;\n",
              "      border-left-color: var(--fill-color);\n",
              "      border-top-color: var(--fill-color);\n",
              "      border-right-color: var(--fill-color);\n",
              "    }\n",
              "    40% {\n",
              "      border-color: transparent;\n",
              "      border-right-color: var(--fill-color);\n",
              "      border-top-color: var(--fill-color);\n",
              "    }\n",
              "    60% {\n",
              "      border-color: transparent;\n",
              "      border-right-color: var(--fill-color);\n",
              "    }\n",
              "    80% {\n",
              "      border-color: transparent;\n",
              "      border-right-color: var(--fill-color);\n",
              "      border-bottom-color: var(--fill-color);\n",
              "    }\n",
              "    90% {\n",
              "      border-color: transparent;\n",
              "      border-bottom-color: var(--fill-color);\n",
              "    }\n",
              "  }\n",
              "</style>\n",
              "\n",
              "  <script>\n",
              "    async function quickchart(key) {\n",
              "      const quickchartButtonEl =\n",
              "        document.querySelector('#' + key + ' button');\n",
              "      quickchartButtonEl.disabled = true;  // To prevent multiple clicks.\n",
              "      quickchartButtonEl.classList.add('colab-df-spinner');\n",
              "      try {\n",
              "        const charts = await google.colab.kernel.invokeFunction(\n",
              "            'suggestCharts', [key], {});\n",
              "      } catch (error) {\n",
              "        console.error('Error during call to suggestCharts:', error);\n",
              "      }\n",
              "      quickchartButtonEl.classList.remove('colab-df-spinner');\n",
              "      quickchartButtonEl.classList.add('colab-df-quickchart-complete');\n",
              "    }\n",
              "    (() => {\n",
              "      let quickchartButtonEl =\n",
              "        document.querySelector('#df-d1ea861e-a723-4443-bfa7-6ffd3f204ae2 button');\n",
              "      quickchartButtonEl.style.display =\n",
              "        google.colab.kernel.accessAllowed ? 'block' : 'none';\n",
              "    })();\n",
              "  </script>\n",
              "</div>\n",
              "\n",
              "    </div>\n",
              "  </div>\n"
            ]
          },
          "metadata": {},
          "execution_count": 107
        }
      ]
    },
    {
      "cell_type": "markdown",
      "source": [
        "For the analysis, the data was divided into two parts: 70% (equivalent to 7 data points) for training and 30% (equivalent to 4 data points) for testing the models."
      ],
      "metadata": {
        "id": "IySG1lwHk8Yz"
      }
    },
    {
      "cell_type": "markdown",
      "source": [
        "## (a) Task definition: ##\n",
        "Investigate first-order and second-order polynomials that fit saturated vapor enthalpy to temperature in °C. Identify the better model by looking at R2,RMSE, and CV values for both models. Predict the value of saturated vapor enthalpy at 30°C along with 95% CI and 95% prediction intervals."
      ],
      "metadata": {
        "id": "GQljnQLSvoDY"
      }
    },
    {
      "cell_type": "markdown",
      "source": [
        "### a.1)1st order model: ###\n",
        "\n",
        "y = Sat. vapor enthalpy kJ/kg\n",
        "\n",
        "X = Temperature t (°C)"
      ],
      "metadata": {
        "id": "3kVjOaOil2CJ"
      }
    },
    {
      "cell_type": "markdown",
      "source": [
        "#### Splitting the data ####"
      ],
      "metadata": {
        "id": "i1AJJmvYpgvc"
      }
    },
    {
      "cell_type": "code",
      "source": [
        "#Define the items to be used for training and testing\n",
        "train_index = [0,2,3,5,6,8,10]\n",
        "test_index = [1,4,7,9]"
      ],
      "metadata": {
        "id": "YLY1sB-YVxCx"
      },
      "execution_count": null,
      "outputs": []
    },
    {
      "cell_type": "markdown",
      "source": [
        "#### Model ####"
      ],
      "metadata": {
        "id": "8LB52oKypkYd"
      }
    },
    {
      "cell_type": "code",
      "source": [
        "# Constructing the matrix for a fist order and second order model\n",
        "\n",
        "Xl = pd.DataFrame({'intercept': np.ones(df.shape[0]),\n",
        "                  'x1': df['Temperature t (°C)']})\n",
        "\n",
        "Xq = pd.DataFrame({'intercept': np.ones(df.shape[0]),\n",
        "                  'x1': df['Temperature t (°C)'],\n",
        "                           'x2': df['Temperature t (°C)']**2})\n",
        "\n",
        "y = df['Sat. vapor enthalpy kJ/kg']\n",
        "\n",
        "#Linear Model\n",
        "model1 = sm.OLS(y.iloc[train_index], Xl.iloc[train_index])\n",
        "results1 = model1.fit()\n",
        "#Quadratic Model\n",
        "model2 = sm.OLS(y.iloc[train_index], Xq.iloc[train_index])\n",
        "results2 = model2.fit()"
      ],
      "metadata": {
        "id": "0S_QMEYijOMY"
      },
      "execution_count": null,
      "outputs": []
    },
    {
      "cell_type": "markdown",
      "source": [
        "##### First Order Model Summary #####"
      ],
      "metadata": {
        "id": "yCoyNFyVpozu"
      }
    },
    {
      "cell_type": "markdown",
      "source": [
        "Below is the summary for each of the presented models:"
      ],
      "metadata": {
        "id": "tYFzd815nbKw"
      }
    },
    {
      "cell_type": "code",
      "source": [
        "#First-Order Model\n",
        "\n",
        "print(results1.summary())"
      ],
      "metadata": {
        "colab": {
          "base_uri": "https://localhost:8080/"
        },
        "id": "z4RwYp22nZy_",
        "outputId": "762be06e-6290-4c5d-a017-1309b44ff6d3"
      },
      "execution_count": null,
      "outputs": [
        {
          "output_type": "stream",
          "name": "stdout",
          "text": [
            "                                OLS Regression Results                               \n",
            "=====================================================================================\n",
            "Dep. Variable:     Sat. vapor enthalpy kJ/kg   R-squared:                       0.999\n",
            "Model:                                   OLS   Adj. R-squared:                  0.999\n",
            "Method:                        Least Squares   F-statistic:                     8770.\n",
            "Date:                       Fri, 09 Feb 2024   Prob (F-statistic):           2.63e-09\n",
            "Time:                               19:58:42   Log-Likelihood:                -12.017\n",
            "No. Observations:                          7   AIC:                             28.03\n",
            "Df Residuals:                              5   BIC:                             27.93\n",
            "Df Model:                                  1                                         \n",
            "Covariance Type:                   nonrobust                                         \n",
            "==============================================================================\n",
            "                 coef    std err          t      P>|t|      [0.025      0.975]\n",
            "------------------------------------------------------------------------------\n",
            "intercept   2503.3400      1.089   2299.342      0.000    2500.541    2506.139\n",
            "x1             1.7486      0.019     93.651      0.000       1.701       1.797\n",
            "==============================================================================\n",
            "Omnibus:                          nan   Durbin-Watson:                   0.968\n",
            "Prob(Omnibus):                    nan   Jarque-Bera (JB):                0.788\n",
            "Skew:                          -0.558   Prob(JB):                        0.674\n",
            "Kurtosis:                       1.794   Cond. No.                         105.\n",
            "==============================================================================\n",
            "\n",
            "Notes:\n",
            "[1] Standard Errors assume that the covariance matrix of the errors is correctly specified.\n"
          ]
        },
        {
          "output_type": "stream",
          "name": "stderr",
          "text": [
            "/usr/local/lib/python3.10/dist-packages/statsmodels/stats/stattools.py:74: ValueWarning:\n",
            "\n",
            "omni_normtest is not valid with less than 8 observations; 7 samples were given.\n",
            "\n"
          ]
        }
      ]
    },
    {
      "cell_type": "markdown",
      "source": [
        "**Comment:** The summary command from the OLS regression model provides a comprehensive overview of the model's performance in predicting the saturated vapor enthalpy in kJ/kg. The model boasts an almost perfect [R-squared](https://en.wikipedia.org/wiki/Coefficient_of_determination) value of 0.999, indicating that it explains 99.9% of the variance in the dependent variable, which is an exceptionally high level of explanatory power. This high R-squared, along with the [adjusted R-squared](https://www.statisticshowto.com/probability-and-statistics/coefficient-of-determination-r-squared/#:~:text=The%20Adjusted%20Coefficient%20of%20Determination%20(Adjusted%20R%2Dsquared)%20is,don't%20fit%20the%20model.) also being 0.999, suggests that the model fits the data very well, with minimal overfitting.\n",
        "\n",
        "The [F-statistic](https://en.wikipedia.org/wiki/F-test) of 8770 with a corresponding Prob (F-statistic) of 2.63e-09 demonstrates that the model is statistically significant, meaning the relationship captured by the model is not due to chance. The coefficients for the intercept and the independent variable (x1) are 2503.3400 and 1.7486, respectively, with the intercept having an extremely low [p-value](https://en.wikipedia.org/wiki/P-value), indicating a very significant intercept term. The standard errors for these coefficients are small, which contributes to the high [t-values](https://en.wikipedia.org/wiki/T-statistic), further affirming the significance of these coefficients.\n",
        "\n",
        "However, it's important to note that the model was built on a small sample size of only 7 observations, which is below the threshold for the [Omnibus test](https://en.wikipedia.org/wiki/Omnibus_test) to be valid, as indicated by the warning about the omni_normtest. This could potentially limit the generalizability of the model to a wider population. Despite this limitation, the model's diagnostics, such as the [Durbin-Watson statistic](https://en.wikipedia.org/wiki/Durbin%E2%80%93Watson_statistic) of 0.968, suggest that the residuals are independent, albeit with a slight indication towards positive autocorrelation.\n",
        "\n",
        "Overall, the OLS regression model appears to be highly effective and statistically significant in predicting the saturated vapor enthalpy, with caution advised due to the small sample size and its implications on the model's general applicability and the validity of some statistical tests."
      ],
      "metadata": {
        "id": "wIjRXadam6qM"
      }
    },
    {
      "cell_type": "markdown",
      "source": [
        "##### First Order Model Metrics #####"
      ],
      "metadata": {
        "id": "S2fCGX9VpwvJ"
      }
    },
    {
      "cell_type": "markdown",
      "source": [
        "Below we predict the target variables, calculate the performance parameters of the model"
      ],
      "metadata": {
        "id": "mybkAwLImHz8"
      }
    },
    {
      "cell_type": "code",
      "source": [
        "yhat = results1.predict(Xl.iloc[test_index]);\n",
        "\n",
        "RMSE1 = rmse(y[test_index], yhat, axis=0)\n",
        "\n",
        "print('The RMSE for the linear model is:', round(RMSE1,3))\n",
        "print('The CV for the linear model is:', round(RMSE1*100/np.mean(y[test_index]),3),'%')\n",
        "print('The R^2 for the linear model is:', round(results1.rsquared,3))"
      ],
      "metadata": {
        "colab": {
          "base_uri": "https://localhost:8080/"
        },
        "id": "WT_Yn21NwB3Z",
        "outputId": "33bd93ab-c08e-4cfe-801a-668eec585b14"
      },
      "execution_count": null,
      "outputs": [
        {
          "output_type": "stream",
          "name": "stdout",
          "text": [
            "The RMSE for the linear model is: 0.978\n",
            "The CV for the linear model is: 0.038 %\n",
            "The R^2 for the linear model is: 0.999\n"
          ]
        }
      ]
    },
    {
      "cell_type": "markdown",
      "metadata": {
        "id": "nYRN-0uncCgu"
      },
      "source": [
        "##### First Order Model Residual Analysis #####"
      ]
    },
    {
      "cell_type": "code",
      "execution_count": null,
      "metadata": {
        "id": "NGE_uCK9cCgv"
      },
      "outputs": [],
      "source": [
        "# Calculate the residuals\n",
        "predicted_values = yhat;\n",
        "residuals = y.iloc[test_index] - predicted_values"
      ]
    },
    {
      "cell_type": "code",
      "execution_count": null,
      "metadata": {
        "colab": {
          "base_uri": "https://localhost:8080/",
          "height": 952
        },
        "outputId": "ae0e9217-e02c-49fa-b26c-c48f0229911d",
        "id": "C55zTDVPcCgw"
      },
      "outputs": [
        {
          "output_type": "display_data",
          "data": {
            "text/html": [
              "<html>\n",
              "<head><meta charset=\"utf-8\" /></head>\n",
              "<body>\n",
              "    <div>            <script src=\"https://cdnjs.cloudflare.com/ajax/libs/mathjax/2.7.5/MathJax.js?config=TeX-AMS-MML_SVG\"></script><script type=\"text/javascript\">if (window.MathJax && window.MathJax.Hub && window.MathJax.Hub.Config) {window.MathJax.Hub.Config({SVG: {font: \"STIX-Web\"}});}</script>                <script type=\"text/javascript\">window.PlotlyConfig = {MathJaxConfig: 'local'};</script>\n",
              "        <script charset=\"utf-8\" src=\"https://cdn.plot.ly/plotly-2.24.1.min.js\"></script>                <div id=\"38f6b43e-5331-4872-9067-9a372440e40a\" class=\"plotly-graph-div\" style=\"height:500px; width:700px;\"></div>            <script type=\"text/javascript\">                                    window.PLOTLYENV=window.PLOTLYENV || {};                                    if (document.getElementById(\"38f6b43e-5331-4872-9067-9a372440e40a\")) {                    Plotly.newPlot(                        \"38f6b43e-5331-4872-9067-9a372440e40a\",                        [{\"hovertemplate\":\"Fitted value=%{x}\\u003cbr\\u003eResidual=%{y}\\u003cextra\\u003e\\u003c\\u002fextra\\u003e\",\"legendgroup\":\"\",\"marker\":{\"color\":\"#636efa\",\"symbol\":\"circle\"},\"mode\":\"markers\",\"name\":\"\",\"orientation\":\"v\",\"showlegend\":false,\"x\":[2520.8258823529404,2573.2835294117644,2625.7411764705885,2660.712941176471],\"xaxis\":\"x\",\"y\":[-0.9258823529403344,1.116470588235643,1.1588235294116203,-0.6129411764709403],\"yaxis\":\"y\",\"type\":\"scatter\"}],                        {\"template\":{\"data\":{\"histogram2dcontour\":[{\"type\":\"histogram2dcontour\",\"colorbar\":{\"outlinewidth\":0,\"ticks\":\"\"},\"colorscale\":[[0.0,\"#0d0887\"],[0.1111111111111111,\"#46039f\"],[0.2222222222222222,\"#7201a8\"],[0.3333333333333333,\"#9c179e\"],[0.4444444444444444,\"#bd3786\"],[0.5555555555555556,\"#d8576b\"],[0.6666666666666666,\"#ed7953\"],[0.7777777777777778,\"#fb9f3a\"],[0.8888888888888888,\"#fdca26\"],[1.0,\"#f0f921\"]]}],\"choropleth\":[{\"type\":\"choropleth\",\"colorbar\":{\"outlinewidth\":0,\"ticks\":\"\"}}],\"histogram2d\":[{\"type\":\"histogram2d\",\"colorbar\":{\"outlinewidth\":0,\"ticks\":\"\"},\"colorscale\":[[0.0,\"#0d0887\"],[0.1111111111111111,\"#46039f\"],[0.2222222222222222,\"#7201a8\"],[0.3333333333333333,\"#9c179e\"],[0.4444444444444444,\"#bd3786\"],[0.5555555555555556,\"#d8576b\"],[0.6666666666666666,\"#ed7953\"],[0.7777777777777778,\"#fb9f3a\"],[0.8888888888888888,\"#fdca26\"],[1.0,\"#f0f921\"]]}],\"heatmap\":[{\"type\":\"heatmap\",\"colorbar\":{\"outlinewidth\":0,\"ticks\":\"\"},\"colorscale\":[[0.0,\"#0d0887\"],[0.1111111111111111,\"#46039f\"],[0.2222222222222222,\"#7201a8\"],[0.3333333333333333,\"#9c179e\"],[0.4444444444444444,\"#bd3786\"],[0.5555555555555556,\"#d8576b\"],[0.6666666666666666,\"#ed7953\"],[0.7777777777777778,\"#fb9f3a\"],[0.8888888888888888,\"#fdca26\"],[1.0,\"#f0f921\"]]}],\"heatmapgl\":[{\"type\":\"heatmapgl\",\"colorbar\":{\"outlinewidth\":0,\"ticks\":\"\"},\"colorscale\":[[0.0,\"#0d0887\"],[0.1111111111111111,\"#46039f\"],[0.2222222222222222,\"#7201a8\"],[0.3333333333333333,\"#9c179e\"],[0.4444444444444444,\"#bd3786\"],[0.5555555555555556,\"#d8576b\"],[0.6666666666666666,\"#ed7953\"],[0.7777777777777778,\"#fb9f3a\"],[0.8888888888888888,\"#fdca26\"],[1.0,\"#f0f921\"]]}],\"contourcarpet\":[{\"type\":\"contourcarpet\",\"colorbar\":{\"outlinewidth\":0,\"ticks\":\"\"}}],\"contour\":[{\"type\":\"contour\",\"colorbar\":{\"outlinewidth\":0,\"ticks\":\"\"},\"colorscale\":[[0.0,\"#0d0887\"],[0.1111111111111111,\"#46039f\"],[0.2222222222222222,\"#7201a8\"],[0.3333333333333333,\"#9c179e\"],[0.4444444444444444,\"#bd3786\"],[0.5555555555555556,\"#d8576b\"],[0.6666666666666666,\"#ed7953\"],[0.7777777777777778,\"#fb9f3a\"],[0.8888888888888888,\"#fdca26\"],[1.0,\"#f0f921\"]]}],\"surface\":[{\"type\":\"surface\",\"colorbar\":{\"outlinewidth\":0,\"ticks\":\"\"},\"colorscale\":[[0.0,\"#0d0887\"],[0.1111111111111111,\"#46039f\"],[0.2222222222222222,\"#7201a8\"],[0.3333333333333333,\"#9c179e\"],[0.4444444444444444,\"#bd3786\"],[0.5555555555555556,\"#d8576b\"],[0.6666666666666666,\"#ed7953\"],[0.7777777777777778,\"#fb9f3a\"],[0.8888888888888888,\"#fdca26\"],[1.0,\"#f0f921\"]]}],\"mesh3d\":[{\"type\":\"mesh3d\",\"colorbar\":{\"outlinewidth\":0,\"ticks\":\"\"}}],\"scatter\":[{\"fillpattern\":{\"fillmode\":\"overlay\",\"size\":10,\"solidity\":0.2},\"type\":\"scatter\"}],\"parcoords\":[{\"type\":\"parcoords\",\"line\":{\"colorbar\":{\"outlinewidth\":0,\"ticks\":\"\"}}}],\"scatterpolargl\":[{\"type\":\"scatterpolargl\",\"marker\":{\"colorbar\":{\"outlinewidth\":0,\"ticks\":\"\"}}}],\"bar\":[{\"error_x\":{\"color\":\"#2a3f5f\"},\"error_y\":{\"color\":\"#2a3f5f\"},\"marker\":{\"line\":{\"color\":\"#E5ECF6\",\"width\":0.5},\"pattern\":{\"fillmode\":\"overlay\",\"size\":10,\"solidity\":0.2}},\"type\":\"bar\"}],\"scattergeo\":[{\"type\":\"scattergeo\",\"marker\":{\"colorbar\":{\"outlinewidth\":0,\"ticks\":\"\"}}}],\"scatterpolar\":[{\"type\":\"scatterpolar\",\"marker\":{\"colorbar\":{\"outlinewidth\":0,\"ticks\":\"\"}}}],\"histogram\":[{\"marker\":{\"pattern\":{\"fillmode\":\"overlay\",\"size\":10,\"solidity\":0.2}},\"type\":\"histogram\"}],\"scattergl\":[{\"type\":\"scattergl\",\"marker\":{\"colorbar\":{\"outlinewidth\":0,\"ticks\":\"\"}}}],\"scatter3d\":[{\"type\":\"scatter3d\",\"line\":{\"colorbar\":{\"outlinewidth\":0,\"ticks\":\"\"}},\"marker\":{\"colorbar\":{\"outlinewidth\":0,\"ticks\":\"\"}}}],\"scattermapbox\":[{\"type\":\"scattermapbox\",\"marker\":{\"colorbar\":{\"outlinewidth\":0,\"ticks\":\"\"}}}],\"scatterternary\":[{\"type\":\"scatterternary\",\"marker\":{\"colorbar\":{\"outlinewidth\":0,\"ticks\":\"\"}}}],\"scattercarpet\":[{\"type\":\"scattercarpet\",\"marker\":{\"colorbar\":{\"outlinewidth\":0,\"ticks\":\"\"}}}],\"carpet\":[{\"aaxis\":{\"endlinecolor\":\"#2a3f5f\",\"gridcolor\":\"white\",\"linecolor\":\"white\",\"minorgridcolor\":\"white\",\"startlinecolor\":\"#2a3f5f\"},\"baxis\":{\"endlinecolor\":\"#2a3f5f\",\"gridcolor\":\"white\",\"linecolor\":\"white\",\"minorgridcolor\":\"white\",\"startlinecolor\":\"#2a3f5f\"},\"type\":\"carpet\"}],\"table\":[{\"cells\":{\"fill\":{\"color\":\"#EBF0F8\"},\"line\":{\"color\":\"white\"}},\"header\":{\"fill\":{\"color\":\"#C8D4E3\"},\"line\":{\"color\":\"white\"}},\"type\":\"table\"}],\"barpolar\":[{\"marker\":{\"line\":{\"color\":\"#E5ECF6\",\"width\":0.5},\"pattern\":{\"fillmode\":\"overlay\",\"size\":10,\"solidity\":0.2}},\"type\":\"barpolar\"}],\"pie\":[{\"automargin\":true,\"type\":\"pie\"}]},\"layout\":{\"autotypenumbers\":\"strict\",\"colorway\":[\"#636efa\",\"#EF553B\",\"#00cc96\",\"#ab63fa\",\"#FFA15A\",\"#19d3f3\",\"#FF6692\",\"#B6E880\",\"#FF97FF\",\"#FECB52\"],\"font\":{\"color\":\"#2a3f5f\"},\"hovermode\":\"closest\",\"hoverlabel\":{\"align\":\"left\"},\"paper_bgcolor\":\"white\",\"plot_bgcolor\":\"#E5ECF6\",\"polar\":{\"bgcolor\":\"#E5ECF6\",\"angularaxis\":{\"gridcolor\":\"white\",\"linecolor\":\"white\",\"ticks\":\"\"},\"radialaxis\":{\"gridcolor\":\"white\",\"linecolor\":\"white\",\"ticks\":\"\"}},\"ternary\":{\"bgcolor\":\"#E5ECF6\",\"aaxis\":{\"gridcolor\":\"white\",\"linecolor\":\"white\",\"ticks\":\"\"},\"baxis\":{\"gridcolor\":\"white\",\"linecolor\":\"white\",\"ticks\":\"\"},\"caxis\":{\"gridcolor\":\"white\",\"linecolor\":\"white\",\"ticks\":\"\"}},\"coloraxis\":{\"colorbar\":{\"outlinewidth\":0,\"ticks\":\"\"}},\"colorscale\":{\"sequential\":[[0.0,\"#0d0887\"],[0.1111111111111111,\"#46039f\"],[0.2222222222222222,\"#7201a8\"],[0.3333333333333333,\"#9c179e\"],[0.4444444444444444,\"#bd3786\"],[0.5555555555555556,\"#d8576b\"],[0.6666666666666666,\"#ed7953\"],[0.7777777777777778,\"#fb9f3a\"],[0.8888888888888888,\"#fdca26\"],[1.0,\"#f0f921\"]],\"sequentialminus\":[[0.0,\"#0d0887\"],[0.1111111111111111,\"#46039f\"],[0.2222222222222222,\"#7201a8\"],[0.3333333333333333,\"#9c179e\"],[0.4444444444444444,\"#bd3786\"],[0.5555555555555556,\"#d8576b\"],[0.6666666666666666,\"#ed7953\"],[0.7777777777777778,\"#fb9f3a\"],[0.8888888888888888,\"#fdca26\"],[1.0,\"#f0f921\"]],\"diverging\":[[0,\"#8e0152\"],[0.1,\"#c51b7d\"],[0.2,\"#de77ae\"],[0.3,\"#f1b6da\"],[0.4,\"#fde0ef\"],[0.5,\"#f7f7f7\"],[0.6,\"#e6f5d0\"],[0.7,\"#b8e186\"],[0.8,\"#7fbc41\"],[0.9,\"#4d9221\"],[1,\"#276419\"]]},\"xaxis\":{\"gridcolor\":\"white\",\"linecolor\":\"white\",\"ticks\":\"\",\"title\":{\"standoff\":15},\"zerolinecolor\":\"white\",\"automargin\":true,\"zerolinewidth\":2},\"yaxis\":{\"gridcolor\":\"white\",\"linecolor\":\"white\",\"ticks\":\"\",\"title\":{\"standoff\":15},\"zerolinecolor\":\"white\",\"automargin\":true,\"zerolinewidth\":2},\"scene\":{\"xaxis\":{\"backgroundcolor\":\"#E5ECF6\",\"gridcolor\":\"white\",\"linecolor\":\"white\",\"showbackground\":true,\"ticks\":\"\",\"zerolinecolor\":\"white\",\"gridwidth\":2},\"yaxis\":{\"backgroundcolor\":\"#E5ECF6\",\"gridcolor\":\"white\",\"linecolor\":\"white\",\"showbackground\":true,\"ticks\":\"\",\"zerolinecolor\":\"white\",\"gridwidth\":2},\"zaxis\":{\"backgroundcolor\":\"#E5ECF6\",\"gridcolor\":\"white\",\"linecolor\":\"white\",\"showbackground\":true,\"ticks\":\"\",\"zerolinecolor\":\"white\",\"gridwidth\":2}},\"shapedefaults\":{\"line\":{\"color\":\"#2a3f5f\"}},\"annotationdefaults\":{\"arrowcolor\":\"#2a3f5f\",\"arrowhead\":0,\"arrowwidth\":1},\"geo\":{\"bgcolor\":\"white\",\"landcolor\":\"#E5ECF6\",\"subunitcolor\":\"white\",\"showland\":true,\"showlakes\":true,\"lakecolor\":\"white\"},\"title\":{\"x\":0.05},\"mapbox\":{\"style\":\"light\"}}},\"xaxis\":{\"anchor\":\"y\",\"domain\":[0.0,1.0],\"title\":{\"text\":\"Fitted value\"}},\"yaxis\":{\"anchor\":\"x\",\"domain\":[0.0,1.0],\"title\":{\"text\":\"Residual\"}},\"legend\":{\"tracegroupgap\":0},\"title\":{\"text\":\"Residuals vs. Fitted Values\"},\"shapes\":[{\"line\":{\"dash\":\"dash\"},\"type\":\"line\",\"x0\":0,\"x1\":1,\"xref\":\"x domain\",\"y0\":0,\"y1\":0,\"yref\":\"y\"}],\"width\":700,\"height\":500},                        {\"responsive\": true}                    ).then(function(){\n",
              "                            \n",
              "var gd = document.getElementById('38f6b43e-5331-4872-9067-9a372440e40a');\n",
              "var x = new MutationObserver(function (mutations, observer) {{\n",
              "        var display = window.getComputedStyle(gd).display;\n",
              "        if (!display || display === 'none') {{\n",
              "            console.log([gd, 'removed!']);\n",
              "            Plotly.purge(gd);\n",
              "            observer.disconnect();\n",
              "        }}\n",
              "}});\n",
              "\n",
              "// Listen for the removal of the full notebook cells\n",
              "var notebookContainer = gd.closest('#notebook-container');\n",
              "if (notebookContainer) {{\n",
              "    x.observe(notebookContainer, {childList: true});\n",
              "}}\n",
              "\n",
              "// Listen for the clearing of the current output cell\n",
              "var outputEl = gd.closest('.output');\n",
              "if (outputEl) {{\n",
              "    x.observe(outputEl, {childList: true});\n",
              "}}\n",
              "\n",
              "                        })                };                            </script>        </div>\n",
              "</body>\n",
              "</html>"
            ]
          },
          "metadata": {}
        },
        {
          "output_type": "display_data",
          "data": {
            "text/plain": [
              "<Figure size 700x454.545 with 1 Axes>"
            ],
            "image/png": "[encoded data removed]"
          },
          "metadata": {}
        }
      ],
      "source": [
        "# Create a list to store the figures\n",
        "figures = []\n",
        "\n",
        "# Create a DataFrame for the current model's residuals\n",
        "residuals_df = pd.DataFrame({'Fitted value': predicted_values, 'Residual': residuals})\n",
        "\n",
        "# Residuals vs. Fitted Values Plot\n",
        "fig1 = px.scatter(residuals_df, x='Fitted value', y='Residual', title='Residuals vs. Fitted Values')\n",
        "#fig1.update_yaxes(range=[-1, 1])\n",
        "fig1.add_hline(y=0, line_dash=\"dash\")\n",
        "figures.append(fig1)\n",
        "\n",
        "\n",
        "# Show the figures\n",
        "for fig in figures:\n",
        "    fig.update_layout(\n",
        "    width=700,  # Width of the figure in pixels\n",
        "    height=500, # Height of the figure in pixels\n",
        "    )\n",
        "    fig.show()\n",
        "# QQ Plot (Quantile-Quantile Plot)\n",
        "plt.figure(figsize=(700/100, 500/110))  # Adjust the width and height as needed\n",
        "\n",
        "qq_fig = stats.probplot(residuals, dist=\"norm\", plot=plt)\n",
        "plt.title('QQ Plot')\n",
        "plt.show()\n",
        "\n"
      ]
    },
    {
      "cell_type": "markdown",
      "source": [
        "Comment:\n",
        "First-order models displayed a markedly nonlinear response in the residual plot, highlighting the necessity of adopting a higher-order model to effectively address nonlinear responses."
      ],
      "metadata": {
        "id": "kXC2ZOx3cCgx"
      }
    },
    {
      "cell_type": "markdown",
      "source": [
        "##### First Order Model Predictions and Intervals #####"
      ],
      "metadata": {
        "id": "koIYbtaPp2LA"
      }
    },
    {
      "cell_type": "markdown",
      "source": [
        "Finally, here is presented the prediction from the model at 30 degC together with the CI and PI"
      ],
      "metadata": {
        "id": "PlXsOhDYmPu-"
      }
    },
    {
      "cell_type": "code",
      "source": [
        "Xnew = pd.DataFrame({'intercept': np.ones(1),\n",
        "                  'x1': 30*degC})\n",
        "\n",
        "new_predictions = results1.get_prediction(Xnew);\n",
        "CI = new_predictions.conf_int(alpha=0.05);\n",
        "PI = new_predictions.conf_int(obs = True,alpha=0.05);\n",
        "print('the predicted value of saturated vapor enthalpy at 30°C based on the linear model is',np.round(new_predictions.predicted_mean[0],1), 'kJ/kg')\n",
        "print('the predicted CI for the value of saturated vapor enthalpy at 30°C based on the linear model are: lower',np.round(CI[0,0],1),' kJ/kg upper:',np.round(CI[0,1],1),' kJ/kg')\n",
        "print('the predicted PI for the value of saturated vapor enthalpy at 30°C based on the linear model are: lower',np.round(PI[0,0],1),' kJ/kg upper:',np.round(PI[0,1],1),' kJ/kg')"
      ],
      "metadata": {
        "colab": {
          "base_uri": "https://localhost:8080/"
        },
        "id": "gxbY_Xd4rI2b",
        "outputId": "0c4104b3-2c54-4f61-e807-3cbad36b0206"
      },
      "execution_count": null,
      "outputs": [
        {
          "output_type": "stream",
          "name": "stdout",
          "text": [
            "the predicted value of saturated vapor enthalpy at 30°C based on the linear model is 2555.8 kJ/kg\n",
            "the predicted CI for the value of saturated vapor enthalpy at 30°C based on the linear model are: lower 2554.0  kJ/kg upper: 2557.6  kJ/kg\n",
            "the predicted PI for the value of saturated vapor enthalpy at 30°C based on the linear model are: lower 2551.3  kJ/kg upper: 2560.3  kJ/kg\n"
          ]
        }
      ]
    },
    {
      "cell_type": "markdown",
      "source": [
        "**Comment:** The predicted value of saturated vapor enthalpy at 30°C, 2555.8 kJ/kg, along with its confidence interval (CI) from 2554.0 to 2557.6 kJ/kg and prediction interval (PI) from 2551.3 to 2560.3 kJ/kg, were derived from a linear model. Utilizing the model's coefficients, the CI captures the range for the mean estimate with a high degree of confidence, while the PI provides a broader range, accounting for individual prediction variability, reflecting both the precision and reliability of the model's estimations."
      ],
      "metadata": {
        "id": "0BgMeo4Xo-vK"
      }
    },
    {
      "cell_type": "markdown",
      "source": [
        "### a.2) 2nd order model: ###\n",
        "\n",
        "We replicated the steps from the first model to develop this second-order model.\n",
        "\n",
        "y = Sat. vapor enthalpy kJ/kg\n",
        "\n",
        "X = Temperature t (°C)\n",
        "\n",
        "Here is presented the summary for each of the analized models:\n",
        "\n",
        "\n"
      ],
      "metadata": {
        "id": "C8SpJ_RHmf5g"
      }
    },
    {
      "cell_type": "markdown",
      "source": [
        "###### Second Order Model Summary ######"
      ],
      "metadata": {
        "id": "AdI_ixMPp_On"
      }
    },
    {
      "cell_type": "code",
      "source": [
        "#Second-Order Model\n",
        "\n",
        "print(results2.summary())"
      ],
      "metadata": {
        "colab": {
          "base_uri": "https://localhost:8080/"
        },
        "id": "knE97PUTn-lF",
        "outputId": "b20ae941-0c34-40ed-a94b-adf26a2d190b"
      },
      "execution_count": null,
      "outputs": [
        {
          "output_type": "stream",
          "name": "stdout",
          "text": [
            "                                OLS Regression Results                               \n",
            "=====================================================================================\n",
            "Dep. Variable:     Sat. vapor enthalpy kJ/kg   R-squared:                       1.000\n",
            "Model:                                   OLS   Adj. R-squared:                  1.000\n",
            "Method:                        Least Squares   F-statistic:                 1.013e+05\n",
            "Date:                       Fri, 09 Feb 2024   Prob (F-statistic):           3.90e-10\n",
            "Time:                               19:58:42   Log-Likelihood:               -0.24805\n",
            "No. Observations:                          7   AIC:                             6.496\n",
            "Df Residuals:                              4   BIC:                             6.334\n",
            "Df Model:                                  2                                         \n",
            "Covariance Type:                   nonrobust                                         \n",
            "==============================================================================\n",
            "                 coef    std err          t      P>|t|      [0.025      0.975]\n",
            "------------------------------------------------------------------------------\n",
            "intercept   2501.3343      0.296   8460.073      0.000    2500.513    2502.155\n",
            "x1             1.8847      0.013    139.933      0.000       1.847       1.922\n",
            "x2            -0.0014      0.000    -10.558      0.000      -0.002      -0.001\n",
            "==============================================================================\n",
            "Omnibus:                          nan   Durbin-Watson:                   1.867\n",
            "Prob(Omnibus):                    nan   Jarque-Bera (JB):                0.790\n",
            "Skew:                           0.105   Prob(JB):                        0.674\n",
            "Kurtosis:                       1.368   Cond. No.                     1.13e+04\n",
            "==============================================================================\n",
            "\n",
            "Notes:\n",
            "[1] Standard Errors assume that the covariance matrix of the errors is correctly specified.\n",
            "[2] The condition number is large, 1.13e+04. This might indicate that there are\n",
            "strong multicollinearity or other numerical problems.\n"
          ]
        },
        {
          "output_type": "stream",
          "name": "stderr",
          "text": [
            "/usr/local/lib/python3.10/dist-packages/statsmodels/stats/stattools.py:74: ValueWarning:\n",
            "\n",
            "omni_normtest is not valid with less than 8 observations; 7 samples were given.\n",
            "\n"
          ]
        }
      ]
    },
    {
      "cell_type": "markdown",
      "source": [
        "Comment:\n",
        "The OLS regression results indicate an almost perfect fit (R-squared = 1.000) for predicting the saturation vapor enthalpy (kJ/kg) using the given model. With an F-statistic of approximately 101,300 and a very low probability value (3.90e-10), the model's predictors are highly significant. The coefficients for the intercept, x1, and x2 are 2501.3343, 1.8847, and -0.0014, respectively, with x and x^2 showing statistical significance in their contribution to the model. However, a caution is noted regarding potential multicollinearity or numerical issues due to a large [condition number](https://en.wikipedia.org/wiki/Condition_number#:~:text=The%20condition%20number%20is%20derived,the%20data%20in%20the%20problem.) (1.13e+04). The model's diagnostics suggest careful interpretation, especially since the analysis is based on a small sample size (7 observations), which also limits the validity of the Omnibus test for normality.\n",
        "\n",
        "⚠ Important ⚠\n",
        "The summary of the developed model indicates an R-squared value of 1.000, which stems from rounding to three decimal places. Nonetheless, it's important to note that the actual value isn't exactly 1.0, as evidenced by the RMSE value provided below, which is not zero."
      ],
      "metadata": {
        "id": "8BE9jBgxqq9q"
      }
    },
    {
      "cell_type": "markdown",
      "source": [
        "###### Second Order Model Metrics ######"
      ],
      "metadata": {
        "id": "dT3B_OVwqGgC"
      }
    },
    {
      "cell_type": "markdown",
      "source": [
        "Here is presented the calculation of the parameters"
      ],
      "metadata": {
        "id": "ZyqeLFU4m0RU"
      }
    },
    {
      "cell_type": "code",
      "source": [
        "yhat = results2.predict(Xq.iloc[test_index]);\n",
        "\n",
        "RMSE2 = rmse(y[test_index], yhat, axis=0)\n",
        "\n",
        "print('The RMSE for the second order model is:', round(RMSE2,3))\n",
        "print('The CV for the second order model is:', round(RMSE2*100/np.mean(y[test_index]),3),'%')\n",
        "print('The R^2 for the second order model is:', round(results2.rsquared,3))"
      ],
      "metadata": {
        "colab": {
          "base_uri": "https://localhost:8080/"
        },
        "id": "2-8Rhu_W04Pt",
        "outputId": "7fe6821c-4d5d-4e76-ffa3-2f18c131a799"
      },
      "execution_count": null,
      "outputs": [
        {
          "output_type": "stream",
          "name": "stdout",
          "text": [
            "The RMSE for the second order model is: 0.183\n",
            "The CV for the second order model is: 0.007 %\n",
            "The R^2 for the second order model is: 1.0\n"
          ]
        }
      ]
    },
    {
      "cell_type": "markdown",
      "metadata": {
        "id": "G8XZ2w5IcdJH"
      },
      "source": [
        "##### Second Order Model Residual Analysis #####"
      ]
    },
    {
      "cell_type": "code",
      "execution_count": null,
      "metadata": {
        "id": "ffXFBnekcdJI"
      },
      "outputs": [],
      "source": [
        "# Calculate the residuals\n",
        "predicted_values = yhat;\n",
        "residuals = y.iloc[test_index] - predicted_values"
      ]
    },
    {
      "cell_type": "code",
      "execution_count": null,
      "metadata": {
        "colab": {
          "base_uri": "https://localhost:8080/",
          "height": 952
        },
        "outputId": "a756a40b-da17-4fb6-d345-3f3c01f3e9de",
        "id": "_ijiisUHcdJI"
      },
      "outputs": [
        {
          "output_type": "display_data",
          "data": {
            "text/html": [
              "<html>\n",
              "<head><meta charset=\"utf-8\" /></head>\n",
              "<body>\n",
              "    <div>            <script src=\"https://cdnjs.cloudflare.com/ajax/libs/mathjax/2.7.5/MathJax.js?config=TeX-AMS-MML_SVG\"></script><script type=\"text/javascript\">if (window.MathJax && window.MathJax.Hub && window.MathJax.Hub.Config) {window.MathJax.Hub.Config({SVG: {font: \"STIX-Web\"}});}</script>                <script type=\"text/javascript\">window.PlotlyConfig = {MathJaxConfig: 'local'};</script>\n",
              "        <script charset=\"utf-8\" src=\"https://cdn.plot.ly/plotly-2.24.1.min.js\"></script>                <div id=\"912334e4-2249-4c4b-9567-2675d6613305\" class=\"plotly-graph-div\" style=\"height:500px; width:700px;\"></div>            <script type=\"text/javascript\">                                    window.PLOTLYENV=window.PLOTLYENV || {};                                    if (document.getElementById(\"912334e4-2249-4c4b-9567-2675d6613305\")) {                    Plotly.newPlot(                        \"912334e4-2249-4c4b-9567-2675d6613305\",                        [{\"hovertemplate\":\"Fitted value=%{x}\\u003cbr\\u003eResidual=%{y}\\u003cextra\\u003e\\u003c\\u002fextra\\u003e\",\"legendgroup\":\"\",\"marker\":{\"color\":\"#636efa\",\"symbol\":\"circle\"},\"mode\":\"markers\",\"name\":\"\",\"orientation\":\"v\",\"showlegend\":false,\"x\":[2520.046251453949,2574.555810510734,2626.6260336258806,2659.984329068402],\"xaxis\":\"x\",\"y\":[-0.1462514539489348,-0.1558105107337724,0.27396637411948177,0.11567093159783326],\"yaxis\":\"y\",\"type\":\"scatter\"}],                        {\"template\":{\"data\":{\"histogram2dcontour\":[{\"type\":\"histogram2dcontour\",\"colorbar\":{\"outlinewidth\":0,\"ticks\":\"\"},\"colorscale\":[[0.0,\"#0d0887\"],[0.1111111111111111,\"#46039f\"],[0.2222222222222222,\"#7201a8\"],[0.3333333333333333,\"#9c179e\"],[0.4444444444444444,\"#bd3786\"],[0.5555555555555556,\"#d8576b\"],[0.6666666666666666,\"#ed7953\"],[0.7777777777777778,\"#fb9f3a\"],[0.8888888888888888,\"#fdca26\"],[1.0,\"#f0f921\"]]}],\"choropleth\":[{\"type\":\"choropleth\",\"colorbar\":{\"outlinewidth\":0,\"ticks\":\"\"}}],\"histogram2d\":[{\"type\":\"histogram2d\",\"colorbar\":{\"outlinewidth\":0,\"ticks\":\"\"},\"colorscale\":[[0.0,\"#0d0887\"],[0.1111111111111111,\"#46039f\"],[0.2222222222222222,\"#7201a8\"],[0.3333333333333333,\"#9c179e\"],[0.4444444444444444,\"#bd3786\"],[0.5555555555555556,\"#d8576b\"],[0.6666666666666666,\"#ed7953\"],[0.7777777777777778,\"#fb9f3a\"],[0.8888888888888888,\"#fdca26\"],[1.0,\"#f0f921\"]]}],\"heatmap\":[{\"type\":\"heatmap\",\"colorbar\":{\"outlinewidth\":0,\"ticks\":\"\"},\"colorscale\":[[0.0,\"#0d0887\"],[0.1111111111111111,\"#46039f\"],[0.2222222222222222,\"#7201a8\"],[0.3333333333333333,\"#9c179e\"],[0.4444444444444444,\"#bd3786\"],[0.5555555555555556,\"#d8576b\"],[0.6666666666666666,\"#ed7953\"],[0.7777777777777778,\"#fb9f3a\"],[0.8888888888888888,\"#fdca26\"],[1.0,\"#f0f921\"]]}],\"heatmapgl\":[{\"type\":\"heatmapgl\",\"colorbar\":{\"outlinewidth\":0,\"ticks\":\"\"},\"colorscale\":[[0.0,\"#0d0887\"],[0.1111111111111111,\"#46039f\"],[0.2222222222222222,\"#7201a8\"],[0.3333333333333333,\"#9c179e\"],[0.4444444444444444,\"#bd3786\"],[0.5555555555555556,\"#d8576b\"],[0.6666666666666666,\"#ed7953\"],[0.7777777777777778,\"#fb9f3a\"],[0.8888888888888888,\"#fdca26\"],[1.0,\"#f0f921\"]]}],\"contourcarpet\":[{\"type\":\"contourcarpet\",\"colorbar\":{\"outlinewidth\":0,\"ticks\":\"\"}}],\"contour\":[{\"type\":\"contour\",\"colorbar\":{\"outlinewidth\":0,\"ticks\":\"\"},\"colorscale\":[[0.0,\"#0d0887\"],[0.1111111111111111,\"#46039f\"],[0.2222222222222222,\"#7201a8\"],[0.3333333333333333,\"#9c179e\"],[0.4444444444444444,\"#bd3786\"],[0.5555555555555556,\"#d8576b\"],[0.6666666666666666,\"#ed7953\"],[0.7777777777777778,\"#fb9f3a\"],[0.8888888888888888,\"#fdca26\"],[1.0,\"#f0f921\"]]}],\"surface\":[{\"type\":\"surface\",\"colorbar\":{\"outlinewidth\":0,\"ticks\":\"\"},\"colorscale\":[[0.0,\"#0d0887\"],[0.1111111111111111,\"#46039f\"],[0.2222222222222222,\"#7201a8\"],[0.3333333333333333,\"#9c179e\"],[0.4444444444444444,\"#bd3786\"],[0.5555555555555556,\"#d8576b\"],[0.6666666666666666,\"#ed7953\"],[0.7777777777777778,\"#fb9f3a\"],[0.8888888888888888,\"#fdca26\"],[1.0,\"#f0f921\"]]}],\"mesh3d\":[{\"type\":\"mesh3d\",\"colorbar\":{\"outlinewidth\":0,\"ticks\":\"\"}}],\"scatter\":[{\"fillpattern\":{\"fillmode\":\"overlay\",\"size\":10,\"solidity\":0.2},\"type\":\"scatter\"}],\"parcoords\":[{\"type\":\"parcoords\",\"line\":{\"colorbar\":{\"outlinewidth\":0,\"ticks\":\"\"}}}],\"scatterpolargl\":[{\"type\":\"scatterpolargl\",\"marker\":{\"colorbar\":{\"outlinewidth\":0,\"ticks\":\"\"}}}],\"bar\":[{\"error_x\":{\"color\":\"#2a3f5f\"},\"error_y\":{\"color\":\"#2a3f5f\"},\"marker\":{\"line\":{\"color\":\"#E5ECF6\",\"width\":0.5},\"pattern\":{\"fillmode\":\"overlay\",\"size\":10,\"solidity\":0.2}},\"type\":\"bar\"}],\"scattergeo\":[{\"type\":\"scattergeo\",\"marker\":{\"colorbar\":{\"outlinewidth\":0,\"ticks\":\"\"}}}],\"scatterpolar\":[{\"type\":\"scatterpolar\",\"marker\":{\"colorbar\":{\"outlinewidth\":0,\"ticks\":\"\"}}}],\"histogram\":[{\"marker\":{\"pattern\":{\"fillmode\":\"overlay\",\"size\":10,\"solidity\":0.2}},\"type\":\"histogram\"}],\"scattergl\":[{\"type\":\"scattergl\",\"marker\":{\"colorbar\":{\"outlinewidth\":0,\"ticks\":\"\"}}}],\"scatter3d\":[{\"type\":\"scatter3d\",\"line\":{\"colorbar\":{\"outlinewidth\":0,\"ticks\":\"\"}},\"marker\":{\"colorbar\":{\"outlinewidth\":0,\"ticks\":\"\"}}}],\"scattermapbox\":[{\"type\":\"scattermapbox\",\"marker\":{\"colorbar\":{\"outlinewidth\":0,\"ticks\":\"\"}}}],\"scatterternary\":[{\"type\":\"scatterternary\",\"marker\":{\"colorbar\":{\"outlinewidth\":0,\"ticks\":\"\"}}}],\"scattercarpet\":[{\"type\":\"scattercarpet\",\"marker\":{\"colorbar\":{\"outlinewidth\":0,\"ticks\":\"\"}}}],\"carpet\":[{\"aaxis\":{\"endlinecolor\":\"#2a3f5f\",\"gridcolor\":\"white\",\"linecolor\":\"white\",\"minorgridcolor\":\"white\",\"startlinecolor\":\"#2a3f5f\"},\"baxis\":{\"endlinecolor\":\"#2a3f5f\",\"gridcolor\":\"white\",\"linecolor\":\"white\",\"minorgridcolor\":\"white\",\"startlinecolor\":\"#2a3f5f\"},\"type\":\"carpet\"}],\"table\":[{\"cells\":{\"fill\":{\"color\":\"#EBF0F8\"},\"line\":{\"color\":\"white\"}},\"header\":{\"fill\":{\"color\":\"#C8D4E3\"},\"line\":{\"color\":\"white\"}},\"type\":\"table\"}],\"barpolar\":[{\"marker\":{\"line\":{\"color\":\"#E5ECF6\",\"width\":0.5},\"pattern\":{\"fillmode\":\"overlay\",\"size\":10,\"solidity\":0.2}},\"type\":\"barpolar\"}],\"pie\":[{\"automargin\":true,\"type\":\"pie\"}]},\"layout\":{\"autotypenumbers\":\"strict\",\"colorway\":[\"#636efa\",\"#EF553B\",\"#00cc96\",\"#ab63fa\",\"#FFA15A\",\"#19d3f3\",\"#FF6692\",\"#B6E880\",\"#FF97FF\",\"#FECB52\"],\"font\":{\"color\":\"#2a3f5f\"},\"hovermode\":\"closest\",\"hoverlabel\":{\"align\":\"left\"},\"paper_bgcolor\":\"white\",\"plot_bgcolor\":\"#E5ECF6\",\"polar\":{\"bgcolor\":\"#E5ECF6\",\"angularaxis\":{\"gridcolor\":\"white\",\"linecolor\":\"white\",\"ticks\":\"\"},\"radialaxis\":{\"gridcolor\":\"white\",\"linecolor\":\"white\",\"ticks\":\"\"}},\"ternary\":{\"bgcolor\":\"#E5ECF6\",\"aaxis\":{\"gridcolor\":\"white\",\"linecolor\":\"white\",\"ticks\":\"\"},\"baxis\":{\"gridcolor\":\"white\",\"linecolor\":\"white\",\"ticks\":\"\"},\"caxis\":{\"gridcolor\":\"white\",\"linecolor\":\"white\",\"ticks\":\"\"}},\"coloraxis\":{\"colorbar\":{\"outlinewidth\":0,\"ticks\":\"\"}},\"colorscale\":{\"sequential\":[[0.0,\"#0d0887\"],[0.1111111111111111,\"#46039f\"],[0.2222222222222222,\"#7201a8\"],[0.3333333333333333,\"#9c179e\"],[0.4444444444444444,\"#bd3786\"],[0.5555555555555556,\"#d8576b\"],[0.6666666666666666,\"#ed7953\"],[0.7777777777777778,\"#fb9f3a\"],[0.8888888888888888,\"#fdca26\"],[1.0,\"#f0f921\"]],\"sequentialminus\":[[0.0,\"#0d0887\"],[0.1111111111111111,\"#46039f\"],[0.2222222222222222,\"#7201a8\"],[0.3333333333333333,\"#9c179e\"],[0.4444444444444444,\"#bd3786\"],[0.5555555555555556,\"#d8576b\"],[0.6666666666666666,\"#ed7953\"],[0.7777777777777778,\"#fb9f3a\"],[0.8888888888888888,\"#fdca26\"],[1.0,\"#f0f921\"]],\"diverging\":[[0,\"#8e0152\"],[0.1,\"#c51b7d\"],[0.2,\"#de77ae\"],[0.3,\"#f1b6da\"],[0.4,\"#fde0ef\"],[0.5,\"#f7f7f7\"],[0.6,\"#e6f5d0\"],[0.7,\"#b8e186\"],[0.8,\"#7fbc41\"],[0.9,\"#4d9221\"],[1,\"#276419\"]]},\"xaxis\":{\"gridcolor\":\"white\",\"linecolor\":\"white\",\"ticks\":\"\",\"title\":{\"standoff\":15},\"zerolinecolor\":\"white\",\"automargin\":true,\"zerolinewidth\":2},\"yaxis\":{\"gridcolor\":\"white\",\"linecolor\":\"white\",\"ticks\":\"\",\"title\":{\"standoff\":15},\"zerolinecolor\":\"white\",\"automargin\":true,\"zerolinewidth\":2},\"scene\":{\"xaxis\":{\"backgroundcolor\":\"#E5ECF6\",\"gridcolor\":\"white\",\"linecolor\":\"white\",\"showbackground\":true,\"ticks\":\"\",\"zerolinecolor\":\"white\",\"gridwidth\":2},\"yaxis\":{\"backgroundcolor\":\"#E5ECF6\",\"gridcolor\":\"white\",\"linecolor\":\"white\",\"showbackground\":true,\"ticks\":\"\",\"zerolinecolor\":\"white\",\"gridwidth\":2},\"zaxis\":{\"backgroundcolor\":\"#E5ECF6\",\"gridcolor\":\"white\",\"linecolor\":\"white\",\"showbackground\":true,\"ticks\":\"\",\"zerolinecolor\":\"white\",\"gridwidth\":2}},\"shapedefaults\":{\"line\":{\"color\":\"#2a3f5f\"}},\"annotationdefaults\":{\"arrowcolor\":\"#2a3f5f\",\"arrowhead\":0,\"arrowwidth\":1},\"geo\":{\"bgcolor\":\"white\",\"landcolor\":\"#E5ECF6\",\"subunitcolor\":\"white\",\"showland\":true,\"showlakes\":true,\"lakecolor\":\"white\"},\"title\":{\"x\":0.05},\"mapbox\":{\"style\":\"light\"}}},\"xaxis\":{\"anchor\":\"y\",\"domain\":[0.0,1.0],\"title\":{\"text\":\"Fitted value\"}},\"yaxis\":{\"anchor\":\"x\",\"domain\":[0.0,1.0],\"title\":{\"text\":\"Residual\"}},\"legend\":{\"tracegroupgap\":0},\"title\":{\"text\":\"Residuals vs. Fitted Values\"},\"shapes\":[{\"line\":{\"dash\":\"dash\"},\"type\":\"line\",\"x0\":0,\"x1\":1,\"xref\":\"x domain\",\"y0\":0,\"y1\":0,\"yref\":\"y\"}],\"width\":700,\"height\":500},                        {\"responsive\": true}                    ).then(function(){\n",
              "                            \n",
              "var gd = document.getElementById('912334e4-2249-4c4b-9567-2675d6613305');\n",
              "var x = new MutationObserver(function (mutations, observer) {{\n",
              "        var display = window.getComputedStyle(gd).display;\n",
              "        if (!display || display === 'none') {{\n",
              "            console.log([gd, 'removed!']);\n",
              "            Plotly.purge(gd);\n",
              "            observer.disconnect();\n",
              "        }}\n",
              "}});\n",
              "\n",
              "// Listen for the removal of the full notebook cells\n",
              "var notebookContainer = gd.closest('#notebook-container');\n",
              "if (notebookContainer) {{\n",
              "    x.observe(notebookContainer, {childList: true});\n",
              "}}\n",
              "\n",
              "// Listen for the clearing of the current output cell\n",
              "var outputEl = gd.closest('.output');\n",
              "if (outputEl) {{\n",
              "    x.observe(outputEl, {childList: true});\n",
              "}}\n",
              "\n",
              "                        })                };                            </script>        </div>\n",
              "</body>\n",
              "</html>"
            ]
          },
          "metadata": {}
        },
        {
          "output_type": "display_data",
          "data": {
            "text/plain": [
              "<Figure size 700x454.545 with 1 Axes>"
            ],
            "image/png": "[encoded data removed]"
          },
          "metadata": {}
        }
      ],
      "source": [
        "# Create a list to store the figures\n",
        "figures = []\n",
        "\n",
        "# Create a DataFrame for the current model's residuals\n",
        "residuals_df = pd.DataFrame({'Fitted value': predicted_values, 'Residual': residuals})\n",
        "\n",
        "# Residuals vs. Fitted Values Plot\n",
        "fig1 = px.scatter(residuals_df, x='Fitted value', y='Residual', title='Residuals vs. Fitted Values')\n",
        "#fig1.update_yaxes(range=[-1, 1])\n",
        "fig1.add_hline(y=0, line_dash=\"dash\")\n",
        "figures.append(fig1)\n",
        "\n",
        "\n",
        "# Show the figures\n",
        "for fig in figures:\n",
        "    fig.update_layout(\n",
        "    width=700,  # Width of the figure in pixels\n",
        "    height=500, # Height of the figure in pixels\n",
        "    )\n",
        "    fig.show()\n",
        "# QQ Plot (Quantile-Quantile Plot)\n",
        "plt.figure(figsize=(700/100, 500/110))  # Adjust the width and height as needed\n",
        "\n",
        "qq_fig = stats.probplot(residuals, dist=\"norm\", plot=plt)\n",
        "plt.title('QQ Plot')\n",
        "plt.show()\n",
        "\n"
      ]
    },
    {
      "cell_type": "markdown",
      "source": [
        "Comment:\n",
        "\n",
        "Second-order models demonstrated a more uniform response in the residual plot, further supporting the use of this second-order model to represent the saturation vapor enthalpy."
      ],
      "metadata": {
        "id": "lHcaF01EcdJK"
      }
    },
    {
      "cell_type": "markdown",
      "source": [
        "##### Second Order Model Predictions and Intervals #####"
      ],
      "metadata": {
        "id": "4Zv8VGI_qMAs"
      }
    },
    {
      "cell_type": "markdown",
      "source": [
        "Finally, here is presented the prediction from the model at 30C together with the CI and PI"
      ],
      "metadata": {
        "id": "DTrlJrcMm7yE"
      }
    },
    {
      "cell_type": "code",
      "source": [
        "Xnew = pd.DataFrame({'intercept': np.ones(1),\n",
        "                  'x1': 30*degC,'x2': (30*degC)**2})\n",
        "\n",
        "new_predictions = results2.get_prediction(Xnew);\n",
        "CI = new_predictions.conf_int(alpha=0.05);\n",
        "PI = new_predictions.conf_int(obs = True,alpha=0.05);\n",
        "print('the predicted value of saturated vapor enthalpy at 30°C based on the second order model is',np.round(new_predictions.predicted_mean[0],1), 'kJ/kg')\n",
        "print('the predicted CI for the value of saturated vapor enthalpy at 30°C based on the second order model are: lower',np.round(CI[0,0],1),' kJ/kg upper:',np.round(CI[0,1],1),' kJ/kg')\n",
        "print('the predicted PI for the value of saturated vapor enthalpy at 30°C based on the second order model are: lower',np.round(PI[0,0],1),' kJ/kg upper:',np.round(PI[0,1],1),' kJ/kg')"
      ],
      "metadata": {
        "colab": {
          "base_uri": "https://localhost:8080/"
        },
        "id": "iDAbOsLSuctG",
        "outputId": "83747976-f83d-4f9c-ea8a-6d306fd169a5"
      },
      "execution_count": null,
      "outputs": [
        {
          "output_type": "stream",
          "name": "stdout",
          "text": [
            "the predicted value of saturated vapor enthalpy at 30°C based on the second order model is 2556.7 kJ/kg\n",
            "the predicted CI for the value of saturated vapor enthalpy at 30°C based on the second order model are: lower 2556.2  kJ/kg upper: 2557.1  kJ/kg\n",
            "the predicted PI for the value of saturated vapor enthalpy at 30°C based on the second order model are: lower 2555.6  kJ/kg upper: 2557.7  kJ/kg\n"
          ]
        }
      ]
    },
    {
      "cell_type": "markdown",
      "source": [
        "### General Comment: Comparing first and second order models ###"
      ],
      "metadata": {
        "id": "48LN7iRAqUhB"
      }
    },
    {
      "cell_type": "markdown",
      "source": [
        "The R^2, RMSE, and CV scores suggest that both models perform well, with the second-order model showing a lower RMSE and CV, hinting at its potential advantage. Physical principles suggest that a second-order model would be more appropriate. A detailed analysis of residuals is crucial for a more informed model choice. Unfortunately, this analysis lacks a comprehensive residual analysis, which could have offered critical insights into selecting the most suitable model."
      ],
      "metadata": {
        "id": "E7N-_jZcm9Td"
      }
    },
    {
      "cell_type": "code",
      "source": [
        "fig = go.Figure(data=go.Scatter(x=df['Temperature t (°C)'], y=df['Sat. vapor enthalpy kJ/kg'],\n",
        "                                mode='markers', marker=dict(color='blue'), name='Data Points'))\n",
        "\n",
        "# Calculate line for the 1st order model\n",
        "x_line = np.linspace(df['Temperature t (°C)'].min(), df['Temperature t (°C)'].max(), 100)\n",
        "y_line1 = results1.params[0] + results1.params[1] * x_line\n",
        "\n",
        "# Add 1st order model line\n",
        "fig.add_trace(go.Scatter(x=x_line, y=y_line1, mode='lines', line=dict(dash='dash', color='red', width=1), name='1st Order Model'))\n",
        "\n",
        "# Add 2nd order model predictions\n",
        "fig.add_trace(go.Scatter(x=df['Temperature t (°C)'], y=results2.predict(Xq), mode='lines', line=dict(dash='dot', color='green', width=1), name='2nd Order Model'))\n",
        "\n",
        "# Set figure layout\n",
        "fig.update_layout(title='Saturated Vapor Enthalpy vs. Temperature',\n",
        "                  xaxis_title='Temperature [°C]',\n",
        "                  yaxis_title='Saturated Vapor Enthalpy [kJ/kg]',\n",
        "                  legend_title='Legend',\n",
        "                  width=800,  # Width of the figure in pixels\n",
        "                  height=600, # Height of the figure in pixels\n",
        "                  )\n",
        "\n",
        "# Show figure\n",
        "fig.show()"
      ],
      "metadata": {
        "colab": {
          "base_uri": "https://localhost:8080/",
          "height": 617
        },
        "id": "wAdSJLHor7fW",
        "outputId": "3d07cad7-70c5-4c8d-db8a-11b268824c04"
      },
      "execution_count": null,
      "outputs": [
        {
          "output_type": "display_data",
          "data": {
            "text/html": [
              "<html>\n",
              "<head><meta charset=\"utf-8\" /></head>\n",
              "<body>\n",
              "    <div>            <script src=\"https://cdnjs.cloudflare.com/ajax/libs/mathjax/2.7.5/MathJax.js?config=TeX-AMS-MML_SVG\"></script><script type=\"text/javascript\">if (window.MathJax && window.MathJax.Hub && window.MathJax.Hub.Config) {window.MathJax.Hub.Config({SVG: {font: \"STIX-Web\"}});}</script>                <script type=\"text/javascript\">window.PlotlyConfig = {MathJaxConfig: 'local'};</script>\n",
              "        <script charset=\"utf-8\" src=\"https://cdn.plot.ly/plotly-2.24.1.min.js\"></script>                <div id=\"f32e9a51-1806-48fa-b8a2-73c59a5b5f28\" class=\"plotly-graph-div\" style=\"height:600px; width:800px;\"></div>            <script type=\"text/javascript\">                                    window.PLOTLYENV=window.PLOTLYENV || {};                                    if (document.getElementById(\"f32e9a51-1806-48fa-b8a2-73c59a5b5f28\")) {                    Plotly.newPlot(                        \"f32e9a51-1806-48fa-b8a2-73c59a5b5f28\",                        [{\"marker\":{\"color\":\"blue\"},\"mode\":\"markers\",\"name\":\"Data Points\",\"x\":[0,10,20,30,40,50,60,70,80,90,100],\"y\":[2501.6,2519.9,2538.2,2556.4,2574.4,2592.2,2609.7,2626.9,2643.8,2660.1,2676.0],\"type\":\"scatter\"},{\"line\":{\"color\":\"red\",\"dash\":\"dash\",\"width\":1},\"mode\":\"lines\",\"name\":\"1st Order Model\",\"x\":[0.0,1.0101010101010102,2.0202020202020203,3.0303030303030303,4.040404040404041,5.050505050505051,6.0606060606060606,7.070707070707071,8.080808080808081,9.090909090909092,10.101010101010102,11.111111111111112,12.121212121212121,13.131313131313131,14.141414141414142,15.151515151515152,16.161616161616163,17.171717171717173,18.181818181818183,19.191919191919194,20.202020202020204,21.212121212121215,22.222222222222225,23.232323232323235,24.242424242424242,25.252525252525253,26.262626262626263,27.272727272727273,28.282828282828284,29.292929292929294,30.303030303030305,31.313131313131315,32.323232323232325,33.333333333333336,34.343434343434346,35.35353535353536,36.36363636363637,37.37373737373738,38.38383838383839,39.3939393939394,40.40404040404041,41.41414141414142,42.42424242424243,43.43434343434344,44.44444444444445,45.45454545454546,46.46464646464647,47.47474747474748,48.484848484848484,49.494949494949495,50.505050505050505,51.515151515151516,52.525252525252526,53.535353535353536,54.54545454545455,55.55555555555556,56.56565656565657,57.57575757575758,58.58585858585859,59.5959595959596,60.60606060606061,61.61616161616162,62.62626262626263,63.63636363636364,64.64646464646465,65.65656565656566,66.66666666666667,67.67676767676768,68.68686868686869,69.6969696969697,70.70707070707071,71.71717171717172,72.72727272727273,73.73737373737374,74.74747474747475,75.75757575757576,76.76767676767678,77.77777777777779,78.7878787878788,79.7979797979798,80.80808080808082,81.81818181818183,82.82828282828284,83.83838383838385,84.84848484848486,85.85858585858587,86.86868686868688,87.87878787878789,88.8888888888889,89.89898989898991,90.90909090909092,91.91919191919193,92.92929292929294,93.93939393939395,94.94949494949496,95.95959595959597,96.96969696969697,97.97979797979798,98.98989898989899,100.0],\"y\":[2503.3399999999992,2505.1062507427205,2506.8725014854417,2508.6387522281634,2510.4050029708847,2512.171253713606,2513.937504456327,2515.703755199049,2517.47000594177,2519.2362566844913,2521.0025074272125,2522.768758169934,2524.5350089126555,2526.3012596553767,2528.067510398098,2529.833761140819,2531.600011883541,2533.366262626262,2535.1325133689834,2536.8987641117046,2538.665014854426,2540.4312655971476,2542.197516339869,2543.96376708259,2545.7300178253113,2547.496268568033,2549.262519310754,2551.0287700534755,2552.7950207961967,2554.561271538918,2556.3275222816396,2558.093773024361,2559.860023767082,2561.6262745098034,2563.392525252525,2565.1587759952463,2566.9250267379675,2568.6912774806888,2570.4575282234105,2572.2237789661317,2573.990029708853,2575.756280451574,2577.5225311942954,2579.288781937017,2581.0550326797384,2582.8212834224596,2584.587534165181,2586.3537849079025,2588.120035650624,2589.886286393345,2591.6525371360663,2593.4187878787875,2595.185038621509,2596.9512893642304,2598.7175401069517,2600.483790849673,2602.2500415923946,2604.016292335116,2605.782543077837,2607.5487938205583,2609.3150445632796,2611.0812953060013,2612.8475460487225,2614.6137967914437,2616.380047534165,2618.1462982768867,2619.912549019608,2621.678799762329,2623.4450505050504,2625.211301247772,2626.9775519904933,2628.7438027332146,2630.510053475936,2632.276304218657,2634.0425549613788,2635.8088057041,2637.5750564468212,2639.3413071895425,2641.107557932264,2642.8738086749854,2644.6400594177067,2646.406310160428,2648.172560903149,2649.938811645871,2651.705062388592,2653.4713131313133,2655.2375638740345,2657.0038146167562,2658.7700653594775,2660.5363161021987,2662.30256684492,2664.068817587641,2665.835068330363,2667.601319073084,2669.3675698158054,2671.1338205585266,2672.9000713012483,2674.6663220439696,2676.432572786691,2678.198823529412],\"type\":\"scatter\"},{\"line\":{\"color\":\"green\",\"dash\":\"dot\",\"width\":1},\"mode\":\"lines\",\"name\":\"2nd Order Model\",\"x\":[0,10,20,30,40,50,60,70,80,90,100],\"y\":[2501.3343237813233,2520.046251453949,2538.4871417997256,2556.656994818654,2574.555810510734,2592.1835888759642,2609.540329914347,2626.6260336258806,2643.4407000105657,2659.984329068402,2676.25692079939],\"type\":\"scatter\"}],                        {\"template\":{\"data\":{\"histogram2dcontour\":[{\"type\":\"histogram2dcontour\",\"colorbar\":{\"outlinewidth\":0,\"ticks\":\"\"},\"colorscale\":[[0.0,\"#0d0887\"],[0.1111111111111111,\"#46039f\"],[0.2222222222222222,\"#7201a8\"],[0.3333333333333333,\"#9c179e\"],[0.4444444444444444,\"#bd3786\"],[0.5555555555555556,\"#d8576b\"],[0.6666666666666666,\"#ed7953\"],[0.7777777777777778,\"#fb9f3a\"],[0.8888888888888888,\"#fdca26\"],[1.0,\"#f0f921\"]]}],\"choropleth\":[{\"type\":\"choropleth\",\"colorbar\":{\"outlinewidth\":0,\"ticks\":\"\"}}],\"histogram2d\":[{\"type\":\"histogram2d\",\"colorbar\":{\"outlinewidth\":0,\"ticks\":\"\"},\"colorscale\":[[0.0,\"#0d0887\"],[0.1111111111111111,\"#46039f\"],[0.2222222222222222,\"#7201a8\"],[0.3333333333333333,\"#9c179e\"],[0.4444444444444444,\"#bd3786\"],[0.5555555555555556,\"#d8576b\"],[0.6666666666666666,\"#ed7953\"],[0.7777777777777778,\"#fb9f3a\"],[0.8888888888888888,\"#fdca26\"],[1.0,\"#f0f921\"]]}],\"heatmap\":[{\"type\":\"heatmap\",\"colorbar\":{\"outlinewidth\":0,\"ticks\":\"\"},\"colorscale\":[[0.0,\"#0d0887\"],[0.1111111111111111,\"#46039f\"],[0.2222222222222222,\"#7201a8\"],[0.3333333333333333,\"#9c179e\"],[0.4444444444444444,\"#bd3786\"],[0.5555555555555556,\"#d8576b\"],[0.6666666666666666,\"#ed7953\"],[0.7777777777777778,\"#fb9f3a\"],[0.8888888888888888,\"#fdca26\"],[1.0,\"#f0f921\"]]}],\"heatmapgl\":[{\"type\":\"heatmapgl\",\"colorbar\":{\"outlinewidth\":0,\"ticks\":\"\"},\"colorscale\":[[0.0,\"#0d0887\"],[0.1111111111111111,\"#46039f\"],[0.2222222222222222,\"#7201a8\"],[0.3333333333333333,\"#9c179e\"],[0.4444444444444444,\"#bd3786\"],[0.5555555555555556,\"#d8576b\"],[0.6666666666666666,\"#ed7953\"],[0.7777777777777778,\"#fb9f3a\"],[0.8888888888888888,\"#fdca26\"],[1.0,\"#f0f921\"]]}],\"contourcarpet\":[{\"type\":\"contourcarpet\",\"colorbar\":{\"outlinewidth\":0,\"ticks\":\"\"}}],\"contour\":[{\"type\":\"contour\",\"colorbar\":{\"outlinewidth\":0,\"ticks\":\"\"},\"colorscale\":[[0.0,\"#0d0887\"],[0.1111111111111111,\"#46039f\"],[0.2222222222222222,\"#7201a8\"],[0.3333333333333333,\"#9c179e\"],[0.4444444444444444,\"#bd3786\"],[0.5555555555555556,\"#d8576b\"],[0.6666666666666666,\"#ed7953\"],[0.7777777777777778,\"#fb9f3a\"],[0.8888888888888888,\"#fdca26\"],[1.0,\"#f0f921\"]]}],\"surface\":[{\"type\":\"surface\",\"colorbar\":{\"outlinewidth\":0,\"ticks\":\"\"},\"colorscale\":[[0.0,\"#0d0887\"],[0.1111111111111111,\"#46039f\"],[0.2222222222222222,\"#7201a8\"],[0.3333333333333333,\"#9c179e\"],[0.4444444444444444,\"#bd3786\"],[0.5555555555555556,\"#d8576b\"],[0.6666666666666666,\"#ed7953\"],[0.7777777777777778,\"#fb9f3a\"],[0.8888888888888888,\"#fdca26\"],[1.0,\"#f0f921\"]]}],\"mesh3d\":[{\"type\":\"mesh3d\",\"colorbar\":{\"outlinewidth\":0,\"ticks\":\"\"}}],\"scatter\":[{\"fillpattern\":{\"fillmode\":\"overlay\",\"size\":10,\"solidity\":0.2},\"type\":\"scatter\"}],\"parcoords\":[{\"type\":\"parcoords\",\"line\":{\"colorbar\":{\"outlinewidth\":0,\"ticks\":\"\"}}}],\"scatterpolargl\":[{\"type\":\"scatterpolargl\",\"marker\":{\"colorbar\":{\"outlinewidth\":0,\"ticks\":\"\"}}}],\"bar\":[{\"error_x\":{\"color\":\"#2a3f5f\"},\"error_y\":{\"color\":\"#2a3f5f\"},\"marker\":{\"line\":{\"color\":\"#E5ECF6\",\"width\":0.5},\"pattern\":{\"fillmode\":\"overlay\",\"size\":10,\"solidity\":0.2}},\"type\":\"bar\"}],\"scattergeo\":[{\"type\":\"scattergeo\",\"marker\":{\"colorbar\":{\"outlinewidth\":0,\"ticks\":\"\"}}}],\"scatterpolar\":[{\"type\":\"scatterpolar\",\"marker\":{\"colorbar\":{\"outlinewidth\":0,\"ticks\":\"\"}}}],\"histogram\":[{\"marker\":{\"pattern\":{\"fillmode\":\"overlay\",\"size\":10,\"solidity\":0.2}},\"type\":\"histogram\"}],\"scattergl\":[{\"type\":\"scattergl\",\"marker\":{\"colorbar\":{\"outlinewidth\":0,\"ticks\":\"\"}}}],\"scatter3d\":[{\"type\":\"scatter3d\",\"line\":{\"colorbar\":{\"outlinewidth\":0,\"ticks\":\"\"}},\"marker\":{\"colorbar\":{\"outlinewidth\":0,\"ticks\":\"\"}}}],\"scattermapbox\":[{\"type\":\"scattermapbox\",\"marker\":{\"colorbar\":{\"outlinewidth\":0,\"ticks\":\"\"}}}],\"scatterternary\":[{\"type\":\"scatterternary\",\"marker\":{\"colorbar\":{\"outlinewidth\":0,\"ticks\":\"\"}}}],\"scattercarpet\":[{\"type\":\"scattercarpet\",\"marker\":{\"colorbar\":{\"outlinewidth\":0,\"ticks\":\"\"}}}],\"carpet\":[{\"aaxis\":{\"endlinecolor\":\"#2a3f5f\",\"gridcolor\":\"white\",\"linecolor\":\"white\",\"minorgridcolor\":\"white\",\"startlinecolor\":\"#2a3f5f\"},\"baxis\":{\"endlinecolor\":\"#2a3f5f\",\"gridcolor\":\"white\",\"linecolor\":\"white\",\"minorgridcolor\":\"white\",\"startlinecolor\":\"#2a3f5f\"},\"type\":\"carpet\"}],\"table\":[{\"cells\":{\"fill\":{\"color\":\"#EBF0F8\"},\"line\":{\"color\":\"white\"}},\"header\":{\"fill\":{\"color\":\"#C8D4E3\"},\"line\":{\"color\":\"white\"}},\"type\":\"table\"}],\"barpolar\":[{\"marker\":{\"line\":{\"color\":\"#E5ECF6\",\"width\":0.5},\"pattern\":{\"fillmode\":\"overlay\",\"size\":10,\"solidity\":0.2}},\"type\":\"barpolar\"}],\"pie\":[{\"automargin\":true,\"type\":\"pie\"}]},\"layout\":{\"autotypenumbers\":\"strict\",\"colorway\":[\"#636efa\",\"#EF553B\",\"#00cc96\",\"#ab63fa\",\"#FFA15A\",\"#19d3f3\",\"#FF6692\",\"#B6E880\",\"#FF97FF\",\"#FECB52\"],\"font\":{\"color\":\"#2a3f5f\"},\"hovermode\":\"closest\",\"hoverlabel\":{\"align\":\"left\"},\"paper_bgcolor\":\"white\",\"plot_bgcolor\":\"#E5ECF6\",\"polar\":{\"bgcolor\":\"#E5ECF6\",\"angularaxis\":{\"gridcolor\":\"white\",\"linecolor\":\"white\",\"ticks\":\"\"},\"radialaxis\":{\"gridcolor\":\"white\",\"linecolor\":\"white\",\"ticks\":\"\"}},\"ternary\":{\"bgcolor\":\"#E5ECF6\",\"aaxis\":{\"gridcolor\":\"white\",\"linecolor\":\"white\",\"ticks\":\"\"},\"baxis\":{\"gridcolor\":\"white\",\"linecolor\":\"white\",\"ticks\":\"\"},\"caxis\":{\"gridcolor\":\"white\",\"linecolor\":\"white\",\"ticks\":\"\"}},\"coloraxis\":{\"colorbar\":{\"outlinewidth\":0,\"ticks\":\"\"}},\"colorscale\":{\"sequential\":[[0.0,\"#0d0887\"],[0.1111111111111111,\"#46039f\"],[0.2222222222222222,\"#7201a8\"],[0.3333333333333333,\"#9c179e\"],[0.4444444444444444,\"#bd3786\"],[0.5555555555555556,\"#d8576b\"],[0.6666666666666666,\"#ed7953\"],[0.7777777777777778,\"#fb9f3a\"],[0.8888888888888888,\"#fdca26\"],[1.0,\"#f0f921\"]],\"sequentialminus\":[[0.0,\"#0d0887\"],[0.1111111111111111,\"#46039f\"],[0.2222222222222222,\"#7201a8\"],[0.3333333333333333,\"#9c179e\"],[0.4444444444444444,\"#bd3786\"],[0.5555555555555556,\"#d8576b\"],[0.6666666666666666,\"#ed7953\"],[0.7777777777777778,\"#fb9f3a\"],[0.8888888888888888,\"#fdca26\"],[1.0,\"#f0f921\"]],\"diverging\":[[0,\"#8e0152\"],[0.1,\"#c51b7d\"],[0.2,\"#de77ae\"],[0.3,\"#f1b6da\"],[0.4,\"#fde0ef\"],[0.5,\"#f7f7f7\"],[0.6,\"#e6f5d0\"],[0.7,\"#b8e186\"],[0.8,\"#7fbc41\"],[0.9,\"#4d9221\"],[1,\"#276419\"]]},\"xaxis\":{\"gridcolor\":\"white\",\"linecolor\":\"white\",\"ticks\":\"\",\"title\":{\"standoff\":15},\"zerolinecolor\":\"white\",\"automargin\":true,\"zerolinewidth\":2},\"yaxis\":{\"gridcolor\":\"white\",\"linecolor\":\"white\",\"ticks\":\"\",\"title\":{\"standoff\":15},\"zerolinecolor\":\"white\",\"automargin\":true,\"zerolinewidth\":2},\"scene\":{\"xaxis\":{\"backgroundcolor\":\"#E5ECF6\",\"gridcolor\":\"white\",\"linecolor\":\"white\",\"showbackground\":true,\"ticks\":\"\",\"zerolinecolor\":\"white\",\"gridwidth\":2},\"yaxis\":{\"backgroundcolor\":\"#E5ECF6\",\"gridcolor\":\"white\",\"linecolor\":\"white\",\"showbackground\":true,\"ticks\":\"\",\"zerolinecolor\":\"white\",\"gridwidth\":2},\"zaxis\":{\"backgroundcolor\":\"#E5ECF6\",\"gridcolor\":\"white\",\"linecolor\":\"white\",\"showbackground\":true,\"ticks\":\"\",\"zerolinecolor\":\"white\",\"gridwidth\":2}},\"shapedefaults\":{\"line\":{\"color\":\"#2a3f5f\"}},\"annotationdefaults\":{\"arrowcolor\":\"#2a3f5f\",\"arrowhead\":0,\"arrowwidth\":1},\"geo\":{\"bgcolor\":\"white\",\"landcolor\":\"#E5ECF6\",\"subunitcolor\":\"white\",\"showland\":true,\"showlakes\":true,\"lakecolor\":\"white\"},\"title\":{\"x\":0.05},\"mapbox\":{\"style\":\"light\"}}},\"title\":{\"text\":\"Saturated Vapor Enthalpy vs. Temperature\"},\"xaxis\":{\"title\":{\"text\":\"Temperature [\\u00b0C]\"}},\"yaxis\":{\"title\":{\"text\":\"Saturated Vapor Enthalpy [kJ\\u002fkg]\"}},\"legend\":{\"title\":{\"text\":\"Legend\"}},\"width\":800,\"height\":600},                        {\"responsive\": true}                    ).then(function(){\n",
              "                            \n",
              "var gd = document.getElementById('f32e9a51-1806-48fa-b8a2-73c59a5b5f28');\n",
              "var x = new MutationObserver(function (mutations, observer) {{\n",
              "        var display = window.getComputedStyle(gd).display;\n",
              "        if (!display || display === 'none') {{\n",
              "            console.log([gd, 'removed!']);\n",
              "            Plotly.purge(gd);\n",
              "            observer.disconnect();\n",
              "        }}\n",
              "}});\n",
              "\n",
              "// Listen for the removal of the full notebook cells\n",
              "var notebookContainer = gd.closest('#notebook-container');\n",
              "if (notebookContainer) {{\n",
              "    x.observe(notebookContainer, {childList: true});\n",
              "}}\n",
              "\n",
              "// Listen for the clearing of the current output cell\n",
              "var outputEl = gd.closest('.output');\n",
              "if (outputEl) {{\n",
              "    x.observe(outputEl, {childList: true});\n",
              "}}\n",
              "\n",
              "                        })                };                            </script>        </div>\n",
              "</body>\n",
              "</html>"
            ]
          },
          "metadata": {}
        }
      ]
    },
    {
      "cell_type": "markdown",
      "source": [
        "### a.3) Calculate the skill factors for the second order model with the first order as the baseline model.###"
      ],
      "metadata": {
        "id": "ESU4v18gviFW"
      }
    },
    {
      "cell_type": "code",
      "source": [
        "#Calculating Skill Factor\n",
        "\n",
        "def get_skillfactor(RMSE1,RMSE2):\n",
        "  SF = (RMSE1-RMSE2)*100/RMSE1\n",
        "  return SF\n",
        "\n",
        "SFlqa =  get_skillfactor(RMSE1,RMSE2)\n",
        "\n",
        "print('The skill factor comparing the first to second order model is: SF',np.round(SFlqa,1),' %')"
      ],
      "metadata": {
        "colab": {
          "base_uri": "https://localhost:8080/"
        },
        "outputId": "bac8ae8f-a172-452c-d41d-a695344502be",
        "id": "LxItJFNTviFe"
      },
      "execution_count": null,
      "outputs": [
        {
          "output_type": "stream",
          "name": "stdout",
          "text": [
            "The skill factor comparing the first to second order model is: SF 81.3  %\n"
          ]
        }
      ]
    },
    {
      "cell_type": "markdown",
      "source": [
        "Comment: Since the Skill Factor (SF) is greater than 0, it indicates that the second-order model outperforms the first-order model when evaluated with the test data."
      ],
      "metadata": {
        "id": "g9NcZs0YZpKH"
      }
    },
    {
      "cell_type": "markdown",
      "source": [
        "## b) Repeat the above analysis for specific volume but investigate third-order polynomial fits as well. Predict the value of specific volume at 30°C along with 95% CI and 95% prediction intervals.##"
      ],
      "metadata": {
        "id": "5Fap-aEYpKpv"
      }
    },
    {
      "cell_type": "markdown",
      "source": [
        "###b.1) Defining the 1st order model:###\n",
        "\n",
        "y = Specific volume v (m^3/kg)\n",
        "\n",
        "X = Temperature t (°C)\n",
        "\n",
        "\n",
        "The process employed in developing the models adheres to the same steps outlined in part a).\n",
        "\n",
        "⚠⚠⚠⚠⚠⚠⚠⚠⚠\n",
        "\n",
        "Although the problem asked us to investigate polynomial models, we are also interested in evaluating an inverse model (1/x).\n",
        "\n",
        "⚠⚠⚠⚠⚠⚠⚠⚠⚠"
      ],
      "metadata": {
        "id": "_u8XuTdTp5Zf"
      }
    },
    {
      "cell_type": "markdown",
      "source": [
        "#### Model ###"
      ],
      "metadata": {
        "id": "Qi1ehDz0IYUz"
      }
    },
    {
      "cell_type": "code",
      "source": [
        "# Constructing the matrix for a fist order and second order model\n",
        "\n",
        "Xl = pd.DataFrame({'intercept': np.ones(df.shape[0]),\n",
        "                  'x1': df['Temperature t (°C)']})\n",
        "\n",
        "Xq = pd.DataFrame({'intercept': np.ones(df.shape[0]),\n",
        "                  'x1': df['Temperature t (°C)'],\n",
        "                           'x2': df['Temperature t (°C)']**2})\n",
        "\n",
        "Xc = pd.DataFrame({'intercept': np.ones(df.shape[0]),\n",
        "                  'x1': df['Temperature t (°C)'],\n",
        "                           'x2': df['Temperature t (°C)']**2,\n",
        "                           'x3': df['Temperature t (°C)']**3})\n",
        "\n",
        "Xinv = pd.DataFrame({'intercept': np.ones(df.shape[0]),\n",
        "                     'x1': df['Temperature t (°C)'].astype(float)**(-1)})\n",
        "\n",
        "\n",
        "Xinv2 = pd.DataFrame({'x1': df['Temperature t (°C)'].astype(float)**(-1)})\n",
        "\n",
        "train_indexinv = [2,3,5,6,8,10]\n",
        "\n",
        "y = df['Specific volume v (m^3/kg)']\n",
        "\n",
        "#Linear Model\n",
        "model1 = sm.OLS(y[train_index], Xl.iloc[train_index])\n",
        "results1 = model1.fit()\n",
        "#Quadratic Model\n",
        "model2 = sm.OLS(y[train_index], Xq.iloc[train_index])\n",
        "results2 = model2.fit()\n",
        "#Cubic Model\n",
        "model3 = sm.OLS(y[train_index], Xc.iloc[train_index])\n",
        "results3 = model3.fit()\n",
        "#1/x Model\n",
        "model4 = sm.OLS(y[train_indexinv ], Xinv.iloc[train_indexinv ])\n",
        "results4 = model4.fit()\n",
        "\n",
        "model5 = sm.OLS(y[train_indexinv ], Xinv2.iloc[train_indexinv ])\n",
        "results5 = model5.fit()"
      ],
      "metadata": {
        "id": "fyBRM9vgp5Zo"
      },
      "execution_count": null,
      "outputs": []
    },
    {
      "cell_type": "markdown",
      "source": [
        "##### First Order Model Summary #####"
      ],
      "metadata": {
        "id": "cfTQse4aJ624"
      }
    },
    {
      "cell_type": "markdown",
      "source": [
        "Here is presented the summary for each of the analized models:"
      ],
      "metadata": {
        "id": "Cd0bR4wXp5Zp"
      }
    },
    {
      "cell_type": "code",
      "source": [
        "#First-Order Model\n",
        "print(results1.summary())"
      ],
      "metadata": {
        "colab": {
          "base_uri": "https://localhost:8080/"
        },
        "outputId": "862be9e2-bc0e-45c5-e7c7-3f3bd33c3e14",
        "id": "-664SNmpp5Zp"
      },
      "execution_count": null,
      "outputs": [
        {
          "output_type": "stream",
          "name": "stdout",
          "text": [
            "                                OLS Regression Results                                \n",
            "======================================================================================\n",
            "Dep. Variable:     Specific volume v (m^3/kg)   R-squared:                       0.608\n",
            "Model:                                    OLS   Adj. R-squared:                  0.530\n",
            "Method:                         Least Squares   F-statistic:                     7.771\n",
            "Date:                        Fri, 09 Feb 2024   Prob (F-statistic):             0.0386\n",
            "Time:                                19:58:43   Log-Likelihood:                -36.191\n",
            "No. Observations:                           7   AIC:                             76.38\n",
            "Df Residuals:                               5   BIC:                             76.27\n",
            "Df Model:                                   1                                         \n",
            "Covariance Type:                    nonrobust                                         \n",
            "==============================================================================\n",
            "                 coef    std err          t      P>|t|      [0.025      0.975]\n",
            "------------------------------------------------------------------------------\n",
            "intercept    125.8914     34.412      3.658      0.015      37.433     214.350\n",
            "x1            -1.6452      0.590     -2.788      0.039      -3.162      -0.128\n",
            "==============================================================================\n",
            "Omnibus:                          nan   Durbin-Watson:                   1.222\n",
            "Prob(Omnibus):                    nan   Jarque-Bera (JB):                0.892\n",
            "Skew:                           0.779   Prob(JB):                        0.640\n",
            "Kurtosis:                       2.206   Cond. No.                         105.\n",
            "==============================================================================\n",
            "\n",
            "Notes:\n",
            "[1] Standard Errors assume that the covariance matrix of the errors is correctly specified.\n"
          ]
        },
        {
          "output_type": "stream",
          "name": "stderr",
          "text": [
            "/usr/local/lib/python3.10/dist-packages/statsmodels/stats/stattools.py:74: ValueWarning:\n",
            "\n",
            "omni_normtest is not valid with less than 8 observations; 7 samples were given.\n",
            "\n"
          ]
        }
      ]
    },
    {
      "cell_type": "markdown",
      "source": [
        "Comment: The OLS regression analysis on the specific volume (m^3/kg) yielded an R-squared value of 0.608, indicating that approximately 60.8% of the variance in the specific volume can be explained by the model. The adjusted R-squared value of 0.530 suggests a moderate fit when adjusting for the number of predictors. With an F-statistic of 7.771 and a significant p-value of 0.0386, the model demonstrates statistical significance. The coefficients for the intercept and x are 125.8914 and -1.6452, respectively, with the intercept being significantly different from zero (p=0.015) and x showing a negative relationship with the specific volume (p=0.039). However, the small sample size (7 observations) limits the reliability of these results and the normality tests (Omnibus and Jarque-Bera) are not valid due to less than 8 observations, indicating a need for cautious interpretation of the findings."
      ],
      "metadata": {
        "id": "_Jw4cyQiKJMD"
      }
    },
    {
      "cell_type": "markdown",
      "source": [
        "##### First Order Model Metrics #####"
      ],
      "metadata": {
        "id": "gLaIByi2KXOD"
      }
    },
    {
      "cell_type": "markdown",
      "source": [
        "Here is presented the calculation of the parameters"
      ],
      "metadata": {
        "id": "tHtBCz6Up5Zp"
      }
    },
    {
      "cell_type": "code",
      "source": [
        "yhat = results1.predict(Xl.iloc[test_index]);\n",
        "\n",
        "RMSE1 = rmse(y.iloc[test_index], yhat, axis=0)\n",
        "\n",
        "print('The RMSE for the linear model is:', round(RMSE1,3))\n",
        "print('The CV for the linear model is:', round(RMSE1*100/np.mean(y.iloc[test_index]),3),'%')\n",
        "print('The R^2 for the linear model is:', round(results1.rsquared,3))"
      ],
      "metadata": {
        "colab": {
          "base_uri": "https://localhost:8080/"
        },
        "outputId": "a17d4355-47d4-4153-adc3-a1ff8430c576",
        "id": "-LjcIXBZp5Zp"
      },
      "execution_count": null,
      "outputs": [
        {
          "output_type": "stream",
          "name": "stdout",
          "text": [
            "The RMSE for the linear model is: 23.909\n",
            "The CV for the linear model is: 71.714 %\n",
            "The R^2 for the linear model is: 0.608\n"
          ]
        }
      ]
    },
    {
      "cell_type": "markdown",
      "metadata": {
        "id": "JllMYMpvOop7"
      },
      "source": [
        "##### First Order Model Residual Analysis #####"
      ]
    },
    {
      "cell_type": "code",
      "execution_count": null,
      "metadata": {
        "id": "niqYslqvGqAy"
      },
      "outputs": [],
      "source": [
        "# Calculate the residuals\n",
        "predicted_values = yhat\n",
        "residuals = y.iloc[test_index] - predicted_values"
      ]
    },
    {
      "cell_type": "code",
      "execution_count": null,
      "metadata": {
        "colab": {
          "base_uri": "https://localhost:8080/",
          "height": 952
        },
        "id": "vNs8-Em7Gr8B",
        "outputId": "7747eaf7-5812-4f67-ba06-129b5b340042"
      },
      "outputs": [
        {
          "output_type": "display_data",
          "data": {
            "text/html": [
              "<html>\n",
              "<head><meta charset=\"utf-8\" /></head>\n",
              "<body>\n",
              "    <div>            <script src=\"https://cdnjs.cloudflare.com/ajax/libs/mathjax/2.7.5/MathJax.js?config=TeX-AMS-MML_SVG\"></script><script type=\"text/javascript\">if (window.MathJax && window.MathJax.Hub && window.MathJax.Hub.Config) {window.MathJax.Hub.Config({SVG: {font: \"STIX-Web\"}});}</script>                <script type=\"text/javascript\">window.PlotlyConfig = {MathJaxConfig: 'local'};</script>\n",
              "        <script charset=\"utf-8\" src=\"https://cdn.plot.ly/plotly-2.24.1.min.js\"></script>                <div id=\"a4963b58-c7fd-42c2-83e6-b8c2070771cf\" class=\"plotly-graph-div\" style=\"height:500px; width:700px;\"></div>            <script type=\"text/javascript\">                                    window.PLOTLYENV=window.PLOTLYENV || {};                                    if (document.getElementById(\"a4963b58-c7fd-42c2-83e6-b8c2070771cf\")) {                    Plotly.newPlot(                        \"a4963b58-c7fd-42c2-83e6-b8c2070771cf\",                        [{\"hovertemplate\":\"Fitted value=%{x}\\u003cbr\\u003eResidual=%{y}\\u003cextra\\u003e\\u003c\\u002fextra\\u003e\",\"legendgroup\":\"\",\"marker\":{\"color\":\"#636efa\",\"symbol\":\"circle\"},\"mode\":\"markers\",\"name\":\"\",\"orientation\":\"v\",\"showlegend\":false,\"x\":[109.43967058823529,60.08448235294115,10.72929411764703,-22.174164705882376],\"xaxis\":\"x\",\"y\":[-3.039670588235282,-40.534482352941154,-5.683294117647029,24.535164705882377],\"yaxis\":\"y\",\"type\":\"scatter\"}],                        {\"template\":{\"data\":{\"histogram2dcontour\":[{\"type\":\"histogram2dcontour\",\"colorbar\":{\"outlinewidth\":0,\"ticks\":\"\"},\"colorscale\":[[0.0,\"#0d0887\"],[0.1111111111111111,\"#46039f\"],[0.2222222222222222,\"#7201a8\"],[0.3333333333333333,\"#9c179e\"],[0.4444444444444444,\"#bd3786\"],[0.5555555555555556,\"#d8576b\"],[0.6666666666666666,\"#ed7953\"],[0.7777777777777778,\"#fb9f3a\"],[0.8888888888888888,\"#fdca26\"],[1.0,\"#f0f921\"]]}],\"choropleth\":[{\"type\":\"choropleth\",\"colorbar\":{\"outlinewidth\":0,\"ticks\":\"\"}}],\"histogram2d\":[{\"type\":\"histogram2d\",\"colorbar\":{\"outlinewidth\":0,\"ticks\":\"\"},\"colorscale\":[[0.0,\"#0d0887\"],[0.1111111111111111,\"#46039f\"],[0.2222222222222222,\"#7201a8\"],[0.3333333333333333,\"#9c179e\"],[0.4444444444444444,\"#bd3786\"],[0.5555555555555556,\"#d8576b\"],[0.6666666666666666,\"#ed7953\"],[0.7777777777777778,\"#fb9f3a\"],[0.8888888888888888,\"#fdca26\"],[1.0,\"#f0f921\"]]}],\"heatmap\":[{\"type\":\"heatmap\",\"colorbar\":{\"outlinewidth\":0,\"ticks\":\"\"},\"colorscale\":[[0.0,\"#0d0887\"],[0.1111111111111111,\"#46039f\"],[0.2222222222222222,\"#7201a8\"],[0.3333333333333333,\"#9c179e\"],[0.4444444444444444,\"#bd3786\"],[0.5555555555555556,\"#d8576b\"],[0.6666666666666666,\"#ed7953\"],[0.7777777777777778,\"#fb9f3a\"],[0.8888888888888888,\"#fdca26\"],[1.0,\"#f0f921\"]]}],\"heatmapgl\":[{\"type\":\"heatmapgl\",\"colorbar\":{\"outlinewidth\":0,\"ticks\":\"\"},\"colorscale\":[[0.0,\"#0d0887\"],[0.1111111111111111,\"#46039f\"],[0.2222222222222222,\"#7201a8\"],[0.3333333333333333,\"#9c179e\"],[0.4444444444444444,\"#bd3786\"],[0.5555555555555556,\"#d8576b\"],[0.6666666666666666,\"#ed7953\"],[0.7777777777777778,\"#fb9f3a\"],[0.8888888888888888,\"#fdca26\"],[1.0,\"#f0f921\"]]}],\"contourcarpet\":[{\"type\":\"contourcarpet\",\"colorbar\":{\"outlinewidth\":0,\"ticks\":\"\"}}],\"contour\":[{\"type\":\"contour\",\"colorbar\":{\"outlinewidth\":0,\"ticks\":\"\"},\"colorscale\":[[0.0,\"#0d0887\"],[0.1111111111111111,\"#46039f\"],[0.2222222222222222,\"#7201a8\"],[0.3333333333333333,\"#9c179e\"],[0.4444444444444444,\"#bd3786\"],[0.5555555555555556,\"#d8576b\"],[0.6666666666666666,\"#ed7953\"],[0.7777777777777778,\"#fb9f3a\"],[0.8888888888888888,\"#fdca26\"],[1.0,\"#f0f921\"]]}],\"surface\":[{\"type\":\"surface\",\"colorbar\":{\"outlinewidth\":0,\"ticks\":\"\"},\"colorscale\":[[0.0,\"#0d0887\"],[0.1111111111111111,\"#46039f\"],[0.2222222222222222,\"#7201a8\"],[0.3333333333333333,\"#9c179e\"],[0.4444444444444444,\"#bd3786\"],[0.5555555555555556,\"#d8576b\"],[0.6666666666666666,\"#ed7953\"],[0.7777777777777778,\"#fb9f3a\"],[0.8888888888888888,\"#fdca26\"],[1.0,\"#f0f921\"]]}],\"mesh3d\":[{\"type\":\"mesh3d\",\"colorbar\":{\"outlinewidth\":0,\"ticks\":\"\"}}],\"scatter\":[{\"fillpattern\":{\"fillmode\":\"overlay\",\"size\":10,\"solidity\":0.2},\"type\":\"scatter\"}],\"parcoords\":[{\"type\":\"parcoords\",\"line\":{\"colorbar\":{\"outlinewidth\":0,\"ticks\":\"\"}}}],\"scatterpolargl\":[{\"type\":\"scatterpolargl\",\"marker\":{\"colorbar\":{\"outlinewidth\":0,\"ticks\":\"\"}}}],\"bar\":[{\"error_x\":{\"color\":\"#2a3f5f\"},\"error_y\":{\"color\":\"#2a3f5f\"},\"marker\":{\"line\":{\"color\":\"#E5ECF6\",\"width\":0.5},\"pattern\":{\"fillmode\":\"overlay\",\"size\":10,\"solidity\":0.2}},\"type\":\"bar\"}],\"scattergeo\":[{\"type\":\"scattergeo\",\"marker\":{\"colorbar\":{\"outlinewidth\":0,\"ticks\":\"\"}}}],\"scatterpolar\":[{\"type\":\"scatterpolar\",\"marker\":{\"colorbar\":{\"outlinewidth\":0,\"ticks\":\"\"}}}],\"histogram\":[{\"marker\":{\"pattern\":{\"fillmode\":\"overlay\",\"size\":10,\"solidity\":0.2}},\"type\":\"histogram\"}],\"scattergl\":[{\"type\":\"scattergl\",\"marker\":{\"colorbar\":{\"outlinewidth\":0,\"ticks\":\"\"}}}],\"scatter3d\":[{\"type\":\"scatter3d\",\"line\":{\"colorbar\":{\"outlinewidth\":0,\"ticks\":\"\"}},\"marker\":{\"colorbar\":{\"outlinewidth\":0,\"ticks\":\"\"}}}],\"scattermapbox\":[{\"type\":\"scattermapbox\",\"marker\":{\"colorbar\":{\"outlinewidth\":0,\"ticks\":\"\"}}}],\"scatterternary\":[{\"type\":\"scatterternary\",\"marker\":{\"colorbar\":{\"outlinewidth\":0,\"ticks\":\"\"}}}],\"scattercarpet\":[{\"type\":\"scattercarpet\",\"marker\":{\"colorbar\":{\"outlinewidth\":0,\"ticks\":\"\"}}}],\"carpet\":[{\"aaxis\":{\"endlinecolor\":\"#2a3f5f\",\"gridcolor\":\"white\",\"linecolor\":\"white\",\"minorgridcolor\":\"white\",\"startlinecolor\":\"#2a3f5f\"},\"baxis\":{\"endlinecolor\":\"#2a3f5f\",\"gridcolor\":\"white\",\"linecolor\":\"white\",\"minorgridcolor\":\"white\",\"startlinecolor\":\"#2a3f5f\"},\"type\":\"carpet\"}],\"table\":[{\"cells\":{\"fill\":{\"color\":\"#EBF0F8\"},\"line\":{\"color\":\"white\"}},\"header\":{\"fill\":{\"color\":\"#C8D4E3\"},\"line\":{\"color\":\"white\"}},\"type\":\"table\"}],\"barpolar\":[{\"marker\":{\"line\":{\"color\":\"#E5ECF6\",\"width\":0.5},\"pattern\":{\"fillmode\":\"overlay\",\"size\":10,\"solidity\":0.2}},\"type\":\"barpolar\"}],\"pie\":[{\"automargin\":true,\"type\":\"pie\"}]},\"layout\":{\"autotypenumbers\":\"strict\",\"colorway\":[\"#636efa\",\"#EF553B\",\"#00cc96\",\"#ab63fa\",\"#FFA15A\",\"#19d3f3\",\"#FF6692\",\"#B6E880\",\"#FF97FF\",\"#FECB52\"],\"font\":{\"color\":\"#2a3f5f\"},\"hovermode\":\"closest\",\"hoverlabel\":{\"align\":\"left\"},\"paper_bgcolor\":\"white\",\"plot_bgcolor\":\"#E5ECF6\",\"polar\":{\"bgcolor\":\"#E5ECF6\",\"angularaxis\":{\"gridcolor\":\"white\",\"linecolor\":\"white\",\"ticks\":\"\"},\"radialaxis\":{\"gridcolor\":\"white\",\"linecolor\":\"white\",\"ticks\":\"\"}},\"ternary\":{\"bgcolor\":\"#E5ECF6\",\"aaxis\":{\"gridcolor\":\"white\",\"linecolor\":\"white\",\"ticks\":\"\"},\"baxis\":{\"gridcolor\":\"white\",\"linecolor\":\"white\",\"ticks\":\"\"},\"caxis\":{\"gridcolor\":\"white\",\"linecolor\":\"white\",\"ticks\":\"\"}},\"coloraxis\":{\"colorbar\":{\"outlinewidth\":0,\"ticks\":\"\"}},\"colorscale\":{\"sequential\":[[0.0,\"#0d0887\"],[0.1111111111111111,\"#46039f\"],[0.2222222222222222,\"#7201a8\"],[0.3333333333333333,\"#9c179e\"],[0.4444444444444444,\"#bd3786\"],[0.5555555555555556,\"#d8576b\"],[0.6666666666666666,\"#ed7953\"],[0.7777777777777778,\"#fb9f3a\"],[0.8888888888888888,\"#fdca26\"],[1.0,\"#f0f921\"]],\"sequentialminus\":[[0.0,\"#0d0887\"],[0.1111111111111111,\"#46039f\"],[0.2222222222222222,\"#7201a8\"],[0.3333333333333333,\"#9c179e\"],[0.4444444444444444,\"#bd3786\"],[0.5555555555555556,\"#d8576b\"],[0.6666666666666666,\"#ed7953\"],[0.7777777777777778,\"#fb9f3a\"],[0.8888888888888888,\"#fdca26\"],[1.0,\"#f0f921\"]],\"diverging\":[[0,\"#8e0152\"],[0.1,\"#c51b7d\"],[0.2,\"#de77ae\"],[0.3,\"#f1b6da\"],[0.4,\"#fde0ef\"],[0.5,\"#f7f7f7\"],[0.6,\"#e6f5d0\"],[0.7,\"#b8e186\"],[0.8,\"#7fbc41\"],[0.9,\"#4d9221\"],[1,\"#276419\"]]},\"xaxis\":{\"gridcolor\":\"white\",\"linecolor\":\"white\",\"ticks\":\"\",\"title\":{\"standoff\":15},\"zerolinecolor\":\"white\",\"automargin\":true,\"zerolinewidth\":2},\"yaxis\":{\"gridcolor\":\"white\",\"linecolor\":\"white\",\"ticks\":\"\",\"title\":{\"standoff\":15},\"zerolinecolor\":\"white\",\"automargin\":true,\"zerolinewidth\":2},\"scene\":{\"xaxis\":{\"backgroundcolor\":\"#E5ECF6\",\"gridcolor\":\"white\",\"linecolor\":\"white\",\"showbackground\":true,\"ticks\":\"\",\"zerolinecolor\":\"white\",\"gridwidth\":2},\"yaxis\":{\"backgroundcolor\":\"#E5ECF6\",\"gridcolor\":\"white\",\"linecolor\":\"white\",\"showbackground\":true,\"ticks\":\"\",\"zerolinecolor\":\"white\",\"gridwidth\":2},\"zaxis\":{\"backgroundcolor\":\"#E5ECF6\",\"gridcolor\":\"white\",\"linecolor\":\"white\",\"showbackground\":true,\"ticks\":\"\",\"zerolinecolor\":\"white\",\"gridwidth\":2}},\"shapedefaults\":{\"line\":{\"color\":\"#2a3f5f\"}},\"annotationdefaults\":{\"arrowcolor\":\"#2a3f5f\",\"arrowhead\":0,\"arrowwidth\":1},\"geo\":{\"bgcolor\":\"white\",\"landcolor\":\"#E5ECF6\",\"subunitcolor\":\"white\",\"showland\":true,\"showlakes\":true,\"lakecolor\":\"white\"},\"title\":{\"x\":0.05},\"mapbox\":{\"style\":\"light\"}}},\"xaxis\":{\"anchor\":\"y\",\"domain\":[0.0,1.0],\"title\":{\"text\":\"Fitted value\"}},\"yaxis\":{\"anchor\":\"x\",\"domain\":[0.0,1.0],\"title\":{\"text\":\"Residual\"}},\"legend\":{\"tracegroupgap\":0},\"title\":{\"text\":\"Residuals vs. Fitted Values\"},\"shapes\":[{\"line\":{\"dash\":\"dash\"},\"type\":\"line\",\"x0\":0,\"x1\":1,\"xref\":\"x domain\",\"y0\":0,\"y1\":0,\"yref\":\"y\"}],\"width\":700,\"height\":500},                        {\"responsive\": true}                    ).then(function(){\n",
              "                            \n",
              "var gd = document.getElementById('a4963b58-c7fd-42c2-83e6-b8c2070771cf');\n",
              "var x = new MutationObserver(function (mutations, observer) {{\n",
              "        var display = window.getComputedStyle(gd).display;\n",
              "        if (!display || display === 'none') {{\n",
              "            console.log([gd, 'removed!']);\n",
              "            Plotly.purge(gd);\n",
              "            observer.disconnect();\n",
              "        }}\n",
              "}});\n",
              "\n",
              "// Listen for the removal of the full notebook cells\n",
              "var notebookContainer = gd.closest('#notebook-container');\n",
              "if (notebookContainer) {{\n",
              "    x.observe(notebookContainer, {childList: true});\n",
              "}}\n",
              "\n",
              "// Listen for the clearing of the current output cell\n",
              "var outputEl = gd.closest('.output');\n",
              "if (outputEl) {{\n",
              "    x.observe(outputEl, {childList: true});\n",
              "}}\n",
              "\n",
              "                        })                };                            </script>        </div>\n",
              "</body>\n",
              "</html>"
            ]
          },
          "metadata": {}
        },
        {
          "output_type": "display_data",
          "data": {
            "text/plain": [
              "<Figure size 700x454.545 with 1 Axes>"
            ],
            "image/png": "[encoded data removed]"
          },
          "metadata": {}
        }
      ],
      "source": [
        "# Create a list to store the figures\n",
        "figures = []\n",
        "\n",
        "# Create a DataFrame for the current model's residuals\n",
        "residuals_df = pd.DataFrame({'Fitted value': predicted_values, 'Residual': residuals})\n",
        "\n",
        "# Residuals vs. Fitted Values Plot\n",
        "fig1 = px.scatter(residuals_df, x='Fitted value', y='Residual', title='Residuals vs. Fitted Values')\n",
        "#fig1.update_yaxes(range=[-1, 1])\n",
        "fig1.add_hline(y=0, line_dash=\"dash\")\n",
        "figures.append(fig1)\n",
        "\n",
        "# Show the figures\n",
        "for fig in figures:\n",
        "    fig.update_layout(\n",
        "    width=700,  # Width of the figure in pixels\n",
        "    height=500, # Height of the figure in pixels\n",
        "    )\n",
        "    fig.show()\n",
        "\n",
        "# QQ Plot (Quantile-Quantile Plot)\n",
        "plt.figure(figsize=(700/100, 500/110))  # Adjust the width and height as needed\n",
        "\n",
        "qq_fig = stats.probplot(residuals, dist=\"norm\", plot=plt)\n",
        "plt.title('QQ Plot')\n",
        "plt.show()"
      ]
    },
    {
      "cell_type": "markdown",
      "source": [
        "Comment:\n",
        "The previous analysis reveals that while the linear model moderately succeeds in approximating the trend of  specific volume, the residual analysis points to certain non-linear relationships that the model fails to capture."
      ],
      "metadata": {
        "id": "a683tzZaGb4M"
      }
    },
    {
      "cell_type": "markdown",
      "source": [
        "##### First Order Model Predictions and Intervals #####"
      ],
      "metadata": {
        "id": "zUSYx4FGKbDo"
      }
    },
    {
      "cell_type": "markdown",
      "source": [
        "Finally, here is presented the prediction from the model at 30C together with the CI and PI"
      ],
      "metadata": {
        "id": "HF_69iYRp5Zp"
      }
    },
    {
      "cell_type": "code",
      "source": [
        "Xnew = pd.DataFrame({'intercept': np.ones(1),\n",
        "                  'x1': 30*degC})\n",
        "\n",
        "new_predictions = results1.get_prediction(Xnew);\n",
        "CI = new_predictions.conf_int(alpha=0.05);\n",
        "PI = new_predictions.conf_int(obs = True,alpha=0.05);\n",
        "if np.round(PI[0,0],1) < 0:\n",
        " a = 0\n",
        "else:\n",
        " a = np.round(PI[0,0],1)\n",
        "print('the predicted value of Specific volume at 30°C based on the linear model is',np.round(new_predictions.predicted_mean[0],1), 'm^3/kg')\n",
        "print('the predicted CI for the value of Specific volume at 30°C based on the linear model are: lower',np.round(CI[0,0],1),' kJ/kg upper:',np.round(CI[0,1],1),' m^3/kg')\n",
        "print('the predicted PI for the value of Specific volume at 30°C based on the linear model are: lower',a,' kJ/kg upper:',np.round(PI[0,1],1),' m^3/kg')"
      ],
      "metadata": {
        "colab": {
          "base_uri": "https://localhost:8080/"
        },
        "outputId": "b2bf5d27-406d-4794-ddfc-16e862564a19",
        "id": "6QhL6hwsp5Zp"
      },
      "execution_count": null,
      "outputs": [
        {
          "output_type": "stream",
          "name": "stdout",
          "text": [
            "the predicted value of Specific volume at 30°C based on the linear model is 76.5 m^3/kg\n",
            "the predicted CI for the value of Specific volume at 30°C based on the linear model are: lower 20.1  kJ/kg upper: 133.0  m^3/kg\n",
            "the predicted PI for the value of Specific volume at 30°C based on the linear model are: lower 0  kJ/kg upper: 217.8  m^3/kg\n"
          ]
        }
      ]
    },
    {
      "cell_type": "markdown",
      "source": [
        "###b.2) For the second order model:###\n",
        "\n",
        "y = Specific volume v (m^3/kg)\n",
        "\n",
        "X = Temperature t (°C)\n",
        "\n",
        "Here is presented the summary for each of the analized models:\n",
        "\n",
        "\n"
      ],
      "metadata": {
        "id": "wis2VtJ9p5Zp"
      }
    },
    {
      "cell_type": "markdown",
      "source": [
        "##### Second Order Model Summary #####"
      ],
      "metadata": {
        "id": "5SHaMX7NKx4k"
      }
    },
    {
      "cell_type": "code",
      "source": [
        "#Second-Order Model\n",
        "\n",
        "print(results2.summary())"
      ],
      "metadata": {
        "colab": {
          "base_uri": "https://localhost:8080/"
        },
        "outputId": "d5f384d0-1f9b-4942-e5c3-cf65c870847f",
        "id": "IWHlZ6ADp5Zp"
      },
      "execution_count": null,
      "outputs": [
        {
          "output_type": "stream",
          "name": "stdout",
          "text": [
            "                                OLS Regression Results                                \n",
            "======================================================================================\n",
            "Dep. Variable:     Specific volume v (m^3/kg)   R-squared:                       0.918\n",
            "Model:                                    OLS   Adj. R-squared:                  0.878\n",
            "Method:                         Least Squares   F-statistic:                     22.53\n",
            "Date:                        Fri, 09 Feb 2024   Prob (F-statistic):            0.00665\n",
            "Time:                                19:58:43   Log-Likelihood:                -30.699\n",
            "No. Observations:                           7   AIC:                             67.40\n",
            "Df Residuals:                               4   BIC:                             67.24\n",
            "Df Model:                                   2                                         \n",
            "Covariance Type:                    nonrobust                                         \n",
            "==============================================================================\n",
            "                 coef    std err          t      P>|t|      [0.025      0.975]\n",
            "------------------------------------------------------------------------------\n",
            "intercept    183.3045     22.911      8.001      0.001     119.693     246.916\n",
            "x1            -5.5427      1.044     -5.311      0.006      -8.441      -2.645\n",
            "x2             0.0388      0.010      3.900      0.018       0.011       0.066\n",
            "==============================================================================\n",
            "Omnibus:                          nan   Durbin-Watson:                   1.791\n",
            "Prob(Omnibus):                    nan   Jarque-Bera (JB):                0.824\n",
            "Skew:                          -0.316   Prob(JB):                        0.662\n",
            "Kurtosis:                       1.442   Cond. No.                     1.13e+04\n",
            "==============================================================================\n",
            "\n",
            "Notes:\n",
            "[1] Standard Errors assume that the covariance matrix of the errors is correctly specified.\n",
            "[2] The condition number is large, 1.13e+04. This might indicate that there are\n",
            "strong multicollinearity or other numerical problems.\n"
          ]
        },
        {
          "output_type": "stream",
          "name": "stderr",
          "text": [
            "/usr/local/lib/python3.10/dist-packages/statsmodels/stats/stattools.py:74: ValueWarning:\n",
            "\n",
            "omni_normtest is not valid with less than 8 observations; 7 samples were given.\n",
            "\n"
          ]
        }
      ]
    },
    {
      "cell_type": "markdown",
      "source": [
        "Comment: The OLS regression results for predicting specific volume show a strong R-squared value of 0.918, indicating that the model explains a significant portion of the variability in the data. However, the adjusted R-squared drops to 0.878, suggesting that every predictor is not equally useful, or there might be some overfitting given the small sample size of 7 observations. The F-statistic and its associated p-value signify that the model is statistically significant. Coefficients for the intercept and predictors x and x^2 are significant, as indicated by their p-values, but the model's reliability might be questioned due to the high condition number, pointing to potential multicollinearity or numerical issues. The absence of a valid omnibus norm test due to the small sample size further underscores the need for cautious interpretation of the results."
      ],
      "metadata": {
        "id": "o5TbZ9mGKvR0"
      }
    },
    {
      "cell_type": "markdown",
      "source": [
        "##### Second Order Model Metrics #####"
      ],
      "metadata": {
        "id": "Sle0C7epK2oa"
      }
    },
    {
      "cell_type": "markdown",
      "source": [
        "Here is presented the calculation of the parameters"
      ],
      "metadata": {
        "id": "E69DOazPp5Zq"
      }
    },
    {
      "cell_type": "code",
      "source": [
        "yhat2 = results2.predict(Xq.iloc[test_index]);\n",
        "\n",
        "RMSE2 = rmse(y.iloc[test_index], yhat2, axis=0)\n",
        "\n",
        "\n",
        "print('The RMSE for the second order model is:', round(RMSE2,3))\n",
        "print('The CV for the second order model is:', round(RMSE2*100/np.mean(y.iloc[test_index]),3),'%')\n",
        "print('The R^2 for the second order model is:', round(results2.rsquared,3))"
      ],
      "metadata": {
        "colab": {
          "base_uri": "https://localhost:8080/"
        },
        "outputId": "becac717-4102-4b06-ac7a-ae2e33e5d2d7",
        "id": "4j4y8778p5Zq"
      },
      "execution_count": null,
      "outputs": [
        {
          "output_type": "stream",
          "name": "stdout",
          "text": [
            "The RMSE for the second order model is: 16.274\n",
            "The CV for the second order model is: 48.814 %\n",
            "The R^2 for the second order model is: 0.918\n"
          ]
        }
      ]
    },
    {
      "cell_type": "markdown",
      "metadata": {
        "id": "xePb6YZCXOPB"
      },
      "source": [
        "##### Second Order Model Residual Analysis #####"
      ]
    },
    {
      "cell_type": "code",
      "execution_count": null,
      "metadata": {
        "id": "fef-5wBBXOPC"
      },
      "outputs": [],
      "source": [
        "# Calculate the residuals\n",
        "predicted_values = yhat2;\n",
        "residuals = y.iloc[test_index] - predicted_values"
      ]
    },
    {
      "cell_type": "code",
      "execution_count": null,
      "metadata": {
        "colab": {
          "base_uri": "https://localhost:8080/",
          "height": 952
        },
        "outputId": "db2d725f-8ac0-479a-db77-2046a7fa0ba4",
        "id": "H2G3i-xbXOPD"
      },
      "outputs": [
        {
          "output_type": "display_data",
          "data": {
            "text/html": [
              "<html>\n",
              "<head><meta charset=\"utf-8\" /></head>\n",
              "<body>\n",
              "    <div>            <script src=\"https://cdnjs.cloudflare.com/ajax/libs/mathjax/2.7.5/MathJax.js?config=TeX-AMS-MML_SVG\"></script><script type=\"text/javascript\">if (window.MathJax && window.MathJax.Hub && window.MathJax.Hub.Config) {window.MathJax.Hub.Config({SVG: {font: \"STIX-Web\"}});}</script>                <script type=\"text/javascript\">window.PlotlyConfig = {MathJaxConfig: 'local'};</script>\n",
              "        <script charset=\"utf-8\" src=\"https://cdn.plot.ly/plotly-2.24.1.min.js\"></script>                <div id=\"bba91dc6-4a82-4496-b79a-503b5f1db376\" class=\"plotly-graph-div\" style=\"height:500px; width:700px;\"></div>            <script type=\"text/javascript\">                                    window.PLOTLYENV=window.PLOTLYENV || {};                                    if (document.getElementById(\"bba91dc6-4a82-4496-b79a-503b5f1db376\")) {                    Plotly.newPlot(                        \"bba91dc6-4a82-4496-b79a-503b5f1db376\",                        [{\"hovertemplate\":\"Fitted value=%{x}\\u003cbr\\u003eResidual=%{y}\\u003cextra\\u003e\\u003c\\u002fextra\\u003e\",\"legendgroup\":\"\",\"marker\":{\"color\":\"#636efa\",\"symbol\":\"circle\"},\"mode\":\"markers\",\"name\":\"\",\"orientation\":\"v\",\"showlegend\":false,\"x\":[131.75682954425585,23.665069578089295,-14.599996722010133,-1.3174333298169358],\"xaxis\":\"x\",\"y\":[-25.356829544255845,-4.115069578089294,19.645996722010132,3.678433329816936],\"yaxis\":\"y\",\"type\":\"scatter\"}],                        {\"template\":{\"data\":{\"histogram2dcontour\":[{\"type\":\"histogram2dcontour\",\"colorbar\":{\"outlinewidth\":0,\"ticks\":\"\"},\"colorscale\":[[0.0,\"#0d0887\"],[0.1111111111111111,\"#46039f\"],[0.2222222222222222,\"#7201a8\"],[0.3333333333333333,\"#9c179e\"],[0.4444444444444444,\"#bd3786\"],[0.5555555555555556,\"#d8576b\"],[0.6666666666666666,\"#ed7953\"],[0.7777777777777778,\"#fb9f3a\"],[0.8888888888888888,\"#fdca26\"],[1.0,\"#f0f921\"]]}],\"choropleth\":[{\"type\":\"choropleth\",\"colorbar\":{\"outlinewidth\":0,\"ticks\":\"\"}}],\"histogram2d\":[{\"type\":\"histogram2d\",\"colorbar\":{\"outlinewidth\":0,\"ticks\":\"\"},\"colorscale\":[[0.0,\"#0d0887\"],[0.1111111111111111,\"#46039f\"],[0.2222222222222222,\"#7201a8\"],[0.3333333333333333,\"#9c179e\"],[0.4444444444444444,\"#bd3786\"],[0.5555555555555556,\"#d8576b\"],[0.6666666666666666,\"#ed7953\"],[0.7777777777777778,\"#fb9f3a\"],[0.8888888888888888,\"#fdca26\"],[1.0,\"#f0f921\"]]}],\"heatmap\":[{\"type\":\"heatmap\",\"colorbar\":{\"outlinewidth\":0,\"ticks\":\"\"},\"colorscale\":[[0.0,\"#0d0887\"],[0.1111111111111111,\"#46039f\"],[0.2222222222222222,\"#7201a8\"],[0.3333333333333333,\"#9c179e\"],[0.4444444444444444,\"#bd3786\"],[0.5555555555555556,\"#d8576b\"],[0.6666666666666666,\"#ed7953\"],[0.7777777777777778,\"#fb9f3a\"],[0.8888888888888888,\"#fdca26\"],[1.0,\"#f0f921\"]]}],\"heatmapgl\":[{\"type\":\"heatmapgl\",\"colorbar\":{\"outlinewidth\":0,\"ticks\":\"\"},\"colorscale\":[[0.0,\"#0d0887\"],[0.1111111111111111,\"#46039f\"],[0.2222222222222222,\"#7201a8\"],[0.3333333333333333,\"#9c179e\"],[0.4444444444444444,\"#bd3786\"],[0.5555555555555556,\"#d8576b\"],[0.6666666666666666,\"#ed7953\"],[0.7777777777777778,\"#fb9f3a\"],[0.8888888888888888,\"#fdca26\"],[1.0,\"#f0f921\"]]}],\"contourcarpet\":[{\"type\":\"contourcarpet\",\"colorbar\":{\"outlinewidth\":0,\"ticks\":\"\"}}],\"contour\":[{\"type\":\"contour\",\"colorbar\":{\"outlinewidth\":0,\"ticks\":\"\"},\"colorscale\":[[0.0,\"#0d0887\"],[0.1111111111111111,\"#46039f\"],[0.2222222222222222,\"#7201a8\"],[0.3333333333333333,\"#9c179e\"],[0.4444444444444444,\"#bd3786\"],[0.5555555555555556,\"#d8576b\"],[0.6666666666666666,\"#ed7953\"],[0.7777777777777778,\"#fb9f3a\"],[0.8888888888888888,\"#fdca26\"],[1.0,\"#f0f921\"]]}],\"surface\":[{\"type\":\"surface\",\"colorbar\":{\"outlinewidth\":0,\"ticks\":\"\"},\"colorscale\":[[0.0,\"#0d0887\"],[0.1111111111111111,\"#46039f\"],[0.2222222222222222,\"#7201a8\"],[0.3333333333333333,\"#9c179e\"],[0.4444444444444444,\"#bd3786\"],[0.5555555555555556,\"#d8576b\"],[0.6666666666666666,\"#ed7953\"],[0.7777777777777778,\"#fb9f3a\"],[0.8888888888888888,\"#fdca26\"],[1.0,\"#f0f921\"]]}],\"mesh3d\":[{\"type\":\"mesh3d\",\"colorbar\":{\"outlinewidth\":0,\"ticks\":\"\"}}],\"scatter\":[{\"fillpattern\":{\"fillmode\":\"overlay\",\"size\":10,\"solidity\":0.2},\"type\":\"scatter\"}],\"parcoords\":[{\"type\":\"parcoords\",\"line\":{\"colorbar\":{\"outlinewidth\":0,\"ticks\":\"\"}}}],\"scatterpolargl\":[{\"type\":\"scatterpolargl\",\"marker\":{\"colorbar\":{\"outlinewidth\":0,\"ticks\":\"\"}}}],\"bar\":[{\"error_x\":{\"color\":\"#2a3f5f\"},\"error_y\":{\"color\":\"#2a3f5f\"},\"marker\":{\"line\":{\"color\":\"#E5ECF6\",\"width\":0.5},\"pattern\":{\"fillmode\":\"overlay\",\"size\":10,\"solidity\":0.2}},\"type\":\"bar\"}],\"scattergeo\":[{\"type\":\"scattergeo\",\"marker\":{\"colorbar\":{\"outlinewidth\":0,\"ticks\":\"\"}}}],\"scatterpolar\":[{\"type\":\"scatterpolar\",\"marker\":{\"colorbar\":{\"outlinewidth\":0,\"ticks\":\"\"}}}],\"histogram\":[{\"marker\":{\"pattern\":{\"fillmode\":\"overlay\",\"size\":10,\"solidity\":0.2}},\"type\":\"histogram\"}],\"scattergl\":[{\"type\":\"scattergl\",\"marker\":{\"colorbar\":{\"outlinewidth\":0,\"ticks\":\"\"}}}],\"scatter3d\":[{\"type\":\"scatter3d\",\"line\":{\"colorbar\":{\"outlinewidth\":0,\"ticks\":\"\"}},\"marker\":{\"colorbar\":{\"outlinewidth\":0,\"ticks\":\"\"}}}],\"scattermapbox\":[{\"type\":\"scattermapbox\",\"marker\":{\"colorbar\":{\"outlinewidth\":0,\"ticks\":\"\"}}}],\"scatterternary\":[{\"type\":\"scatterternary\",\"marker\":{\"colorbar\":{\"outlinewidth\":0,\"ticks\":\"\"}}}],\"scattercarpet\":[{\"type\":\"scattercarpet\",\"marker\":{\"colorbar\":{\"outlinewidth\":0,\"ticks\":\"\"}}}],\"carpet\":[{\"aaxis\":{\"endlinecolor\":\"#2a3f5f\",\"gridcolor\":\"white\",\"linecolor\":\"white\",\"minorgridcolor\":\"white\",\"startlinecolor\":\"#2a3f5f\"},\"baxis\":{\"endlinecolor\":\"#2a3f5f\",\"gridcolor\":\"white\",\"linecolor\":\"white\",\"minorgridcolor\":\"white\",\"startlinecolor\":\"#2a3f5f\"},\"type\":\"carpet\"}],\"table\":[{\"cells\":{\"fill\":{\"color\":\"#EBF0F8\"},\"line\":{\"color\":\"white\"}},\"header\":{\"fill\":{\"color\":\"#C8D4E3\"},\"line\":{\"color\":\"white\"}},\"type\":\"table\"}],\"barpolar\":[{\"marker\":{\"line\":{\"color\":\"#E5ECF6\",\"width\":0.5},\"pattern\":{\"fillmode\":\"overlay\",\"size\":10,\"solidity\":0.2}},\"type\":\"barpolar\"}],\"pie\":[{\"automargin\":true,\"type\":\"pie\"}]},\"layout\":{\"autotypenumbers\":\"strict\",\"colorway\":[\"#636efa\",\"#EF553B\",\"#00cc96\",\"#ab63fa\",\"#FFA15A\",\"#19d3f3\",\"#FF6692\",\"#B6E880\",\"#FF97FF\",\"#FECB52\"],\"font\":{\"color\":\"#2a3f5f\"},\"hovermode\":\"closest\",\"hoverlabel\":{\"align\":\"left\"},\"paper_bgcolor\":\"white\",\"plot_bgcolor\":\"#E5ECF6\",\"polar\":{\"bgcolor\":\"#E5ECF6\",\"angularaxis\":{\"gridcolor\":\"white\",\"linecolor\":\"white\",\"ticks\":\"\"},\"radialaxis\":{\"gridcolor\":\"white\",\"linecolor\":\"white\",\"ticks\":\"\"}},\"ternary\":{\"bgcolor\":\"#E5ECF6\",\"aaxis\":{\"gridcolor\":\"white\",\"linecolor\":\"white\",\"ticks\":\"\"},\"baxis\":{\"gridcolor\":\"white\",\"linecolor\":\"white\",\"ticks\":\"\"},\"caxis\":{\"gridcolor\":\"white\",\"linecolor\":\"white\",\"ticks\":\"\"}},\"coloraxis\":{\"colorbar\":{\"outlinewidth\":0,\"ticks\":\"\"}},\"colorscale\":{\"sequential\":[[0.0,\"#0d0887\"],[0.1111111111111111,\"#46039f\"],[0.2222222222222222,\"#7201a8\"],[0.3333333333333333,\"#9c179e\"],[0.4444444444444444,\"#bd3786\"],[0.5555555555555556,\"#d8576b\"],[0.6666666666666666,\"#ed7953\"],[0.7777777777777778,\"#fb9f3a\"],[0.8888888888888888,\"#fdca26\"],[1.0,\"#f0f921\"]],\"sequentialminus\":[[0.0,\"#0d0887\"],[0.1111111111111111,\"#46039f\"],[0.2222222222222222,\"#7201a8\"],[0.3333333333333333,\"#9c179e\"],[0.4444444444444444,\"#bd3786\"],[0.5555555555555556,\"#d8576b\"],[0.6666666666666666,\"#ed7953\"],[0.7777777777777778,\"#fb9f3a\"],[0.8888888888888888,\"#fdca26\"],[1.0,\"#f0f921\"]],\"diverging\":[[0,\"#8e0152\"],[0.1,\"#c51b7d\"],[0.2,\"#de77ae\"],[0.3,\"#f1b6da\"],[0.4,\"#fde0ef\"],[0.5,\"#f7f7f7\"],[0.6,\"#e6f5d0\"],[0.7,\"#b8e186\"],[0.8,\"#7fbc41\"],[0.9,\"#4d9221\"],[1,\"#276419\"]]},\"xaxis\":{\"gridcolor\":\"white\",\"linecolor\":\"white\",\"ticks\":\"\",\"title\":{\"standoff\":15},\"zerolinecolor\":\"white\",\"automargin\":true,\"zerolinewidth\":2},\"yaxis\":{\"gridcolor\":\"white\",\"linecolor\":\"white\",\"ticks\":\"\",\"title\":{\"standoff\":15},\"zerolinecolor\":\"white\",\"automargin\":true,\"zerolinewidth\":2},\"scene\":{\"xaxis\":{\"backgroundcolor\":\"#E5ECF6\",\"gridcolor\":\"white\",\"linecolor\":\"white\",\"showbackground\":true,\"ticks\":\"\",\"zerolinecolor\":\"white\",\"gridwidth\":2},\"yaxis\":{\"backgroundcolor\":\"#E5ECF6\",\"gridcolor\":\"white\",\"linecolor\":\"white\",\"showbackground\":true,\"ticks\":\"\",\"zerolinecolor\":\"white\",\"gridwidth\":2},\"zaxis\":{\"backgroundcolor\":\"#E5ECF6\",\"gridcolor\":\"white\",\"linecolor\":\"white\",\"showbackground\":true,\"ticks\":\"\",\"zerolinecolor\":\"white\",\"gridwidth\":2}},\"shapedefaults\":{\"line\":{\"color\":\"#2a3f5f\"}},\"annotationdefaults\":{\"arrowcolor\":\"#2a3f5f\",\"arrowhead\":0,\"arrowwidth\":1},\"geo\":{\"bgcolor\":\"white\",\"landcolor\":\"#E5ECF6\",\"subunitcolor\":\"white\",\"showland\":true,\"showlakes\":true,\"lakecolor\":\"white\"},\"title\":{\"x\":0.05},\"mapbox\":{\"style\":\"light\"}}},\"xaxis\":{\"anchor\":\"y\",\"domain\":[0.0,1.0],\"title\":{\"text\":\"Fitted value\"}},\"yaxis\":{\"anchor\":\"x\",\"domain\":[0.0,1.0],\"title\":{\"text\":\"Residual\"}},\"legend\":{\"tracegroupgap\":0},\"title\":{\"text\":\"Residuals vs. Fitted Values\"},\"shapes\":[{\"line\":{\"dash\":\"dash\"},\"type\":\"line\",\"x0\":0,\"x1\":1,\"xref\":\"x domain\",\"y0\":0,\"y1\":0,\"yref\":\"y\"}],\"width\":700,\"height\":500},                        {\"responsive\": true}                    ).then(function(){\n",
              "                            \n",
              "var gd = document.getElementById('bba91dc6-4a82-4496-b79a-503b5f1db376');\n",
              "var x = new MutationObserver(function (mutations, observer) {{\n",
              "        var display = window.getComputedStyle(gd).display;\n",
              "        if (!display || display === 'none') {{\n",
              "            console.log([gd, 'removed!']);\n",
              "            Plotly.purge(gd);\n",
              "            observer.disconnect();\n",
              "        }}\n",
              "}});\n",
              "\n",
              "// Listen for the removal of the full notebook cells\n",
              "var notebookContainer = gd.closest('#notebook-container');\n",
              "if (notebookContainer) {{\n",
              "    x.observe(notebookContainer, {childList: true});\n",
              "}}\n",
              "\n",
              "// Listen for the clearing of the current output cell\n",
              "var outputEl = gd.closest('.output');\n",
              "if (outputEl) {{\n",
              "    x.observe(outputEl, {childList: true});\n",
              "}}\n",
              "\n",
              "                        })                };                            </script>        </div>\n",
              "</body>\n",
              "</html>"
            ]
          },
          "metadata": {}
        },
        {
          "output_type": "display_data",
          "data": {
            "text/plain": [
              "<Figure size 700x454.545 with 1 Axes>"
            ],
            "image/png": "[encoded data removed]"
          },
          "metadata": {}
        }
      ],
      "source": [
        "# Create a list to store the figures\n",
        "figures = []\n",
        "\n",
        "# Create a DataFrame for the current model's residuals\n",
        "residuals_df = pd.DataFrame({'Fitted value': predicted_values, 'Residual': residuals})\n",
        "\n",
        "# Residuals vs. Fitted Values Plot\n",
        "fig1 = px.scatter(residuals_df, x='Fitted value', y='Residual', title='Residuals vs. Fitted Values')\n",
        "#fig1.update_yaxes(range=[-1, 1])\n",
        "fig1.add_hline(y=0, line_dash=\"dash\")\n",
        "figures.append(fig1)\n",
        "\n",
        "# Show the figures\n",
        "for fig in figures:\n",
        "    fig.update_layout(\n",
        "    width=700,  # Width of the figure in pixels\n",
        "    height=500, # Height of the figure in pixels\n",
        "    )\n",
        "    fig.show()\n",
        "\n",
        "# QQ Plot (Quantile-Quantile Plot)\n",
        "plt.figure(figsize=(700/100, 500/110))  # Adjust the width and height as needed\n",
        "\n",
        "qq_fig = stats.probplot(residuals, dist=\"norm\", plot=plt)\n",
        "plt.title('QQ Plot')\n",
        "plt.show()\n",
        "\n"
      ]
    },
    {
      "cell_type": "markdown",
      "source": [
        "Comment:\n",
        "The second-order model demonstrates a nonlinear response in the residual plot, indicating the necessity to explore models of higher order."
      ],
      "metadata": {
        "id": "rkq3EtaRXOPD"
      }
    },
    {
      "cell_type": "markdown",
      "source": [
        "##### Second Order Model Predictions and Intervals #####"
      ],
      "metadata": {
        "id": "MNbqJztYK46m"
      }
    },
    {
      "cell_type": "markdown",
      "source": [
        "Finally, here is presented the prediction from the model at 30C together with the CI and PI"
      ],
      "metadata": {
        "id": "3-jP2WWrp5Zq"
      }
    },
    {
      "cell_type": "code",
      "source": [
        "Xnew = pd.DataFrame({'intercept': np.ones(1),\n",
        "                  'x1': 30*degC,'x2': (30*degC)**2})\n",
        "\n",
        "new_predictions = results2.get_prediction(Xnew);\n",
        "CI = new_predictions.conf_int(alpha=0.05);\n",
        "PI = new_predictions.conf_int(obs = True,alpha=0.05);\n",
        "if np.round(PI[0,0],1) < 0:\n",
        " a = 0\n",
        "else:\n",
        " a = np.round(PI[0,0],1)\n",
        "print('the predicted value of Specific volume at 30°C based on the second order model is',np.round(new_predictions.predicted_mean[0],1), 'm^3/kg')\n",
        "print('the predicted CI for the value of Specific volume at 30°C based on the second order model are: lower',np.round(CI[0,0],1),' kJ/kg upper:',np.round(CI[0,1],1),' m^3/kg')\n",
        "print('the predicted PI for the value of Specific volume at 30°C based on the second order model are: lower',a,' kJ/kg upper:',np.round(PI[0,1],1),' m^3/kg')"
      ],
      "metadata": {
        "colab": {
          "base_uri": "https://localhost:8080/"
        },
        "outputId": "90eab515-7189-45f3-b080-cf064c1b7fd2",
        "id": "QY-HwlLYp5Zq"
      },
      "execution_count": null,
      "outputs": [
        {
          "output_type": "stream",
          "name": "stdout",
          "text": [
            "the predicted value of Specific volume at 30°C based on the second order model is 51.9 m^3/kg\n",
            "the predicted CI for the value of Specific volume at 30°C based on the second order model are: lower 16.2  kJ/kg upper: 87.6  m^3/kg\n",
            "the predicted PI for the value of Specific volume at 30°C based on the second order model are: lower 0  kJ/kg upper: 131.7  m^3/kg\n"
          ]
        }
      ]
    },
    {
      "cell_type": "markdown",
      "source": [
        "###b.3) For the third order model:###\n",
        "\n",
        "y = Specific volume v (m^3/kg)\n",
        "\n",
        "X = Temperature t (°C)\n",
        "\n",
        "Here is presented the summary for each of the analized models:\n",
        "\n",
        "\n"
      ],
      "metadata": {
        "id": "xIWTZw6vq6Bn"
      }
    },
    {
      "cell_type": "markdown",
      "source": [
        "##### Third Order Model Summary #####"
      ],
      "metadata": {
        "id": "8oEEbKIKK8cl"
      }
    },
    {
      "cell_type": "code",
      "source": [
        "#Third-Order Model\n",
        "\n",
        "print(results3.summary())"
      ],
      "metadata": {
        "colab": {
          "base_uri": "https://localhost:8080/"
        },
        "outputId": "a490d45d-e358-46e5-bac1-caf1e71e80b7",
        "id": "_qnUXXdkq6B5"
      },
      "execution_count": null,
      "outputs": [
        {
          "output_type": "stream",
          "name": "stdout",
          "text": [
            "                                OLS Regression Results                                \n",
            "======================================================================================\n",
            "Dep. Variable:     Specific volume v (m^3/kg)   R-squared:                       0.993\n",
            "Model:                                    OLS   Adj. R-squared:                  0.986\n",
            "Method:                         Least Squares   F-statistic:                     137.4\n",
            "Date:                        Fri, 09 Feb 2024   Prob (F-statistic):            0.00104\n",
            "Time:                                19:58:44   Log-Likelihood:                -22.219\n",
            "No. Observations:                           7   AIC:                             52.44\n",
            "Df Residuals:                               3   BIC:                             52.22\n",
            "Df Model:                                   3                                         \n",
            "Covariance Type:                    nonrobust                                         \n",
            "==============================================================================\n",
            "                 coef    std err          t      P>|t|      [0.025      0.975]\n",
            "------------------------------------------------------------------------------\n",
            "intercept    203.3554      8.665     23.467      0.000     175.778     230.933\n",
            "x1            -9.4491      0.790    -11.965      0.001     -11.962      -6.936\n",
            "x2             0.1450      0.019      7.463      0.005       0.083       0.207\n",
            "x3            -0.0007      0.000     -5.553      0.012      -0.001      -0.000\n",
            "==============================================================================\n",
            "Omnibus:                          nan   Durbin-Watson:                   2.419\n",
            "Prob(Omnibus):                    nan   Jarque-Bera (JB):                0.840\n",
            "Skew:                          -0.645   Prob(JB):                        0.657\n",
            "Kurtosis:                       1.899   Cond. No.                     1.13e+06\n",
            "==============================================================================\n",
            "\n",
            "Notes:\n",
            "[1] Standard Errors assume that the covariance matrix of the errors is correctly specified.\n",
            "[2] The condition number is large, 1.13e+06. This might indicate that there are\n",
            "strong multicollinearity or other numerical problems.\n"
          ]
        },
        {
          "output_type": "stream",
          "name": "stderr",
          "text": [
            "/usr/local/lib/python3.10/dist-packages/statsmodels/stats/stattools.py:74: ValueWarning:\n",
            "\n",
            "omni_normtest is not valid with less than 8 observations; 7 samples were given.\n",
            "\n"
          ]
        }
      ]
    },
    {
      "cell_type": "markdown",
      "source": [
        "Comment: The OLS regression results, showcasing a very high R-squared value of 0.993, indicate that the model excellently captures the variability in the specific volume v (m^3/kg). An adjusted R-squared of 0.986 confirms that the inclusion of additional predictors (up to three in this case) contributes significantly to the model's predictive power. The F-statistic and its associated low p-value highlight the overall statistical significance of the model. Individual coefficients for the intercept, x, x^2, and x^3, are statistically significant, as shown by their respective t-values and p-values. Despite the model's strong performance, caution is advised due to a very high condition number, suggesting potential multicollinearity or other numerical issues, which could affect the reliability of the coefficient estimates. Additionally, the warning about the omnibus norm test being invalid for small samples (less than 8 observations) underlines the need for careful interpretation of the statistical tests and model diagnostics.\n",
        "\n",
        "\n",
        "\n",
        "\n",
        "\n"
      ],
      "metadata": {
        "id": "1HY3SEKtK-ex"
      }
    },
    {
      "cell_type": "markdown",
      "source": [
        "##### Third Order Model Metrics #####"
      ],
      "metadata": {
        "id": "uXEUVJYEK_dO"
      }
    },
    {
      "cell_type": "markdown",
      "source": [
        "Here is presented the calculation of the parameters"
      ],
      "metadata": {
        "id": "cd9NoZtWq6B6"
      }
    },
    {
      "cell_type": "code",
      "source": [
        "yhat3 = results3.predict(Xc.iloc[test_index]);\n",
        "\n",
        "RMSE3 = rmse(y.iloc[test_index], yhat3, axis=0)\n",
        "\n",
        "\n",
        "print('The RMSE for the second order model is:', round(RMSE3,3))\n",
        "print('The CV for the second order model is:', round(RMSE3*100/np.mean(y.iloc[test_index]),3),'%')\n",
        "print('The R^2 for the second order model is:', round(results3.rsquared,3))"
      ],
      "metadata": {
        "colab": {
          "base_uri": "https://localhost:8080/"
        },
        "outputId": "b674594a-8948-4f8d-e084-286facaaa368",
        "id": "3OiJnJCTq6B6"
      },
      "execution_count": null,
      "outputs": [
        {
          "output_type": "stream",
          "name": "stdout",
          "text": [
            "The RMSE for the second order model is: 9.951\n",
            "The CV for the second order model is: 29.848 %\n",
            "The R^2 for the second order model is: 0.993\n"
          ]
        }
      ]
    },
    {
      "cell_type": "markdown",
      "metadata": {
        "id": "y74wCAvJZhI_"
      },
      "source": [
        "##### Third Order Model Residual Analysis #####"
      ]
    },
    {
      "cell_type": "code",
      "execution_count": null,
      "metadata": {
        "id": "U1Qa19B8ZhJA"
      },
      "outputs": [],
      "source": [
        "# Calculate the residuals\n",
        "predicted_values = yhat3;\n",
        "residuals = y.iloc[test_index] - predicted_values"
      ]
    },
    {
      "cell_type": "code",
      "execution_count": null,
      "metadata": {
        "colab": {
          "base_uri": "https://localhost:8080/",
          "height": 952
        },
        "outputId": "15da1120-c6bb-4d39-9a41-cf5974551eec",
        "id": "S-ioKK_kZhJA"
      },
      "outputs": [
        {
          "output_type": "display_data",
          "data": {
            "text/html": [
              "<html>\n",
              "<head><meta charset=\"utf-8\" /></head>\n",
              "<body>\n",
              "    <div>            <script src=\"https://cdnjs.cloudflare.com/ajax/libs/mathjax/2.7.5/MathJax.js?config=TeX-AMS-MML_SVG\"></script><script type=\"text/javascript\">if (window.MathJax && window.MathJax.Hub && window.MathJax.Hub.Config) {window.MathJax.Hub.Config({SVG: {font: \"STIX-Web\"}});}</script>                <script type=\"text/javascript\">window.PlotlyConfig = {MathJaxConfig: 'local'};</script>\n",
              "        <script charset=\"utf-8\" src=\"https://cdn.plot.ly/plotly-2.24.1.min.js\"></script>                <div id=\"bf12f638-5adf-49fe-8ac1-5a922fb406b4\" class=\"plotly-graph-div\" style=\"height:500px; width:700px;\"></div>            <script type=\"text/javascript\">                                    window.PLOTLYENV=window.PLOTLYENV || {};                                    if (document.getElementById(\"bf12f638-5adf-49fe-8ac1-5a922fb406b4\")) {                    Plotly.newPlot(                        \"bf12f638-5adf-49fe-8ac1-5a922fb406b4\",                        [{\"hovertemplate\":\"Fitted value=%{x}\\u003cbr\\u003eResidual=%{y}\\u003cextra\\u003e\\u003c\\u002fextra\\u003e\",\"legendgroup\":\"\",\"marker\":{\"color\":\"#636efa\",\"symbol\":\"circle\"},\"mode\":\"markers\",\"name\":\"\",\"orientation\":\"v\",\"showlegend\":false,\"x\":[122.65682910417526,11.98894288740081,9.004508923590151,10.040224875728427],\"xaxis\":\"x\",\"y\":[-16.256829104175253,7.56105711259919,-3.958508923590151,-7.679224875728426],\"yaxis\":\"y\",\"type\":\"scatter\"}],                        {\"template\":{\"data\":{\"histogram2dcontour\":[{\"type\":\"histogram2dcontour\",\"colorbar\":{\"outlinewidth\":0,\"ticks\":\"\"},\"colorscale\":[[0.0,\"#0d0887\"],[0.1111111111111111,\"#46039f\"],[0.2222222222222222,\"#7201a8\"],[0.3333333333333333,\"#9c179e\"],[0.4444444444444444,\"#bd3786\"],[0.5555555555555556,\"#d8576b\"],[0.6666666666666666,\"#ed7953\"],[0.7777777777777778,\"#fb9f3a\"],[0.8888888888888888,\"#fdca26\"],[1.0,\"#f0f921\"]]}],\"choropleth\":[{\"type\":\"choropleth\",\"colorbar\":{\"outlinewidth\":0,\"ticks\":\"\"}}],\"histogram2d\":[{\"type\":\"histogram2d\",\"colorbar\":{\"outlinewidth\":0,\"ticks\":\"\"},\"colorscale\":[[0.0,\"#0d0887\"],[0.1111111111111111,\"#46039f\"],[0.2222222222222222,\"#7201a8\"],[0.3333333333333333,\"#9c179e\"],[0.4444444444444444,\"#bd3786\"],[0.5555555555555556,\"#d8576b\"],[0.6666666666666666,\"#ed7953\"],[0.7777777777777778,\"#fb9f3a\"],[0.8888888888888888,\"#fdca26\"],[1.0,\"#f0f921\"]]}],\"heatmap\":[{\"type\":\"heatmap\",\"colorbar\":{\"outlinewidth\":0,\"ticks\":\"\"},\"colorscale\":[[0.0,\"#0d0887\"],[0.1111111111111111,\"#46039f\"],[0.2222222222222222,\"#7201a8\"],[0.3333333333333333,\"#9c179e\"],[0.4444444444444444,\"#bd3786\"],[0.5555555555555556,\"#d8576b\"],[0.6666666666666666,\"#ed7953\"],[0.7777777777777778,\"#fb9f3a\"],[0.8888888888888888,\"#fdca26\"],[1.0,\"#f0f921\"]]}],\"heatmapgl\":[{\"type\":\"heatmapgl\",\"colorbar\":{\"outlinewidth\":0,\"ticks\":\"\"},\"colorscale\":[[0.0,\"#0d0887\"],[0.1111111111111111,\"#46039f\"],[0.2222222222222222,\"#7201a8\"],[0.3333333333333333,\"#9c179e\"],[0.4444444444444444,\"#bd3786\"],[0.5555555555555556,\"#d8576b\"],[0.6666666666666666,\"#ed7953\"],[0.7777777777777778,\"#fb9f3a\"],[0.8888888888888888,\"#fdca26\"],[1.0,\"#f0f921\"]]}],\"contourcarpet\":[{\"type\":\"contourcarpet\",\"colorbar\":{\"outlinewidth\":0,\"ticks\":\"\"}}],\"contour\":[{\"type\":\"contour\",\"colorbar\":{\"outlinewidth\":0,\"ticks\":\"\"},\"colorscale\":[[0.0,\"#0d0887\"],[0.1111111111111111,\"#46039f\"],[0.2222222222222222,\"#7201a8\"],[0.3333333333333333,\"#9c179e\"],[0.4444444444444444,\"#bd3786\"],[0.5555555555555556,\"#d8576b\"],[0.6666666666666666,\"#ed7953\"],[0.7777777777777778,\"#fb9f3a\"],[0.8888888888888888,\"#fdca26\"],[1.0,\"#f0f921\"]]}],\"surface\":[{\"type\":\"surface\",\"colorbar\":{\"outlinewidth\":0,\"ticks\":\"\"},\"colorscale\":[[0.0,\"#0d0887\"],[0.1111111111111111,\"#46039f\"],[0.2222222222222222,\"#7201a8\"],[0.3333333333333333,\"#9c179e\"],[0.4444444444444444,\"#bd3786\"],[0.5555555555555556,\"#d8576b\"],[0.6666666666666666,\"#ed7953\"],[0.7777777777777778,\"#fb9f3a\"],[0.8888888888888888,\"#fdca26\"],[1.0,\"#f0f921\"]]}],\"mesh3d\":[{\"type\":\"mesh3d\",\"colorbar\":{\"outlinewidth\":0,\"ticks\":\"\"}}],\"scatter\":[{\"fillpattern\":{\"fillmode\":\"overlay\",\"size\":10,\"solidity\":0.2},\"type\":\"scatter\"}],\"parcoords\":[{\"type\":\"parcoords\",\"line\":{\"colorbar\":{\"outlinewidth\":0,\"ticks\":\"\"}}}],\"scatterpolargl\":[{\"type\":\"scatterpolargl\",\"marker\":{\"colorbar\":{\"outlinewidth\":0,\"ticks\":\"\"}}}],\"bar\":[{\"error_x\":{\"color\":\"#2a3f5f\"},\"error_y\":{\"color\":\"#2a3f5f\"},\"marker\":{\"line\":{\"color\":\"#E5ECF6\",\"width\":0.5},\"pattern\":{\"fillmode\":\"overlay\",\"size\":10,\"solidity\":0.2}},\"type\":\"bar\"}],\"scattergeo\":[{\"type\":\"scattergeo\",\"marker\":{\"colorbar\":{\"outlinewidth\":0,\"ticks\":\"\"}}}],\"scatterpolar\":[{\"type\":\"scatterpolar\",\"marker\":{\"colorbar\":{\"outlinewidth\":0,\"ticks\":\"\"}}}],\"histogram\":[{\"marker\":{\"pattern\":{\"fillmode\":\"overlay\",\"size\":10,\"solidity\":0.2}},\"type\":\"histogram\"}],\"scattergl\":[{\"type\":\"scattergl\",\"marker\":{\"colorbar\":{\"outlinewidth\":0,\"ticks\":\"\"}}}],\"scatter3d\":[{\"type\":\"scatter3d\",\"line\":{\"colorbar\":{\"outlinewidth\":0,\"ticks\":\"\"}},\"marker\":{\"colorbar\":{\"outlinewidth\":0,\"ticks\":\"\"}}}],\"scattermapbox\":[{\"type\":\"scattermapbox\",\"marker\":{\"colorbar\":{\"outlinewidth\":0,\"ticks\":\"\"}}}],\"scatterternary\":[{\"type\":\"scatterternary\",\"marker\":{\"colorbar\":{\"outlinewidth\":0,\"ticks\":\"\"}}}],\"scattercarpet\":[{\"type\":\"scattercarpet\",\"marker\":{\"colorbar\":{\"outlinewidth\":0,\"ticks\":\"\"}}}],\"carpet\":[{\"aaxis\":{\"endlinecolor\":\"#2a3f5f\",\"gridcolor\":\"white\",\"linecolor\":\"white\",\"minorgridcolor\":\"white\",\"startlinecolor\":\"#2a3f5f\"},\"baxis\":{\"endlinecolor\":\"#2a3f5f\",\"gridcolor\":\"white\",\"linecolor\":\"white\",\"minorgridcolor\":\"white\",\"startlinecolor\":\"#2a3f5f\"},\"type\":\"carpet\"}],\"table\":[{\"cells\":{\"fill\":{\"color\":\"#EBF0F8\"},\"line\":{\"color\":\"white\"}},\"header\":{\"fill\":{\"color\":\"#C8D4E3\"},\"line\":{\"color\":\"white\"}},\"type\":\"table\"}],\"barpolar\":[{\"marker\":{\"line\":{\"color\":\"#E5ECF6\",\"width\":0.5},\"pattern\":{\"fillmode\":\"overlay\",\"size\":10,\"solidity\":0.2}},\"type\":\"barpolar\"}],\"pie\":[{\"automargin\":true,\"type\":\"pie\"}]},\"layout\":{\"autotypenumbers\":\"strict\",\"colorway\":[\"#636efa\",\"#EF553B\",\"#00cc96\",\"#ab63fa\",\"#FFA15A\",\"#19d3f3\",\"#FF6692\",\"#B6E880\",\"#FF97FF\",\"#FECB52\"],\"font\":{\"color\":\"#2a3f5f\"},\"hovermode\":\"closest\",\"hoverlabel\":{\"align\":\"left\"},\"paper_bgcolor\":\"white\",\"plot_bgcolor\":\"#E5ECF6\",\"polar\":{\"bgcolor\":\"#E5ECF6\",\"angularaxis\":{\"gridcolor\":\"white\",\"linecolor\":\"white\",\"ticks\":\"\"},\"radialaxis\":{\"gridcolor\":\"white\",\"linecolor\":\"white\",\"ticks\":\"\"}},\"ternary\":{\"bgcolor\":\"#E5ECF6\",\"aaxis\":{\"gridcolor\":\"white\",\"linecolor\":\"white\",\"ticks\":\"\"},\"baxis\":{\"gridcolor\":\"white\",\"linecolor\":\"white\",\"ticks\":\"\"},\"caxis\":{\"gridcolor\":\"white\",\"linecolor\":\"white\",\"ticks\":\"\"}},\"coloraxis\":{\"colorbar\":{\"outlinewidth\":0,\"ticks\":\"\"}},\"colorscale\":{\"sequential\":[[0.0,\"#0d0887\"],[0.1111111111111111,\"#46039f\"],[0.2222222222222222,\"#7201a8\"],[0.3333333333333333,\"#9c179e\"],[0.4444444444444444,\"#bd3786\"],[0.5555555555555556,\"#d8576b\"],[0.6666666666666666,\"#ed7953\"],[0.7777777777777778,\"#fb9f3a\"],[0.8888888888888888,\"#fdca26\"],[1.0,\"#f0f921\"]],\"sequentialminus\":[[0.0,\"#0d0887\"],[0.1111111111111111,\"#46039f\"],[0.2222222222222222,\"#7201a8\"],[0.3333333333333333,\"#9c179e\"],[0.4444444444444444,\"#bd3786\"],[0.5555555555555556,\"#d8576b\"],[0.6666666666666666,\"#ed7953\"],[0.7777777777777778,\"#fb9f3a\"],[0.8888888888888888,\"#fdca26\"],[1.0,\"#f0f921\"]],\"diverging\":[[0,\"#8e0152\"],[0.1,\"#c51b7d\"],[0.2,\"#de77ae\"],[0.3,\"#f1b6da\"],[0.4,\"#fde0ef\"],[0.5,\"#f7f7f7\"],[0.6,\"#e6f5d0\"],[0.7,\"#b8e186\"],[0.8,\"#7fbc41\"],[0.9,\"#4d9221\"],[1,\"#276419\"]]},\"xaxis\":{\"gridcolor\":\"white\",\"linecolor\":\"white\",\"ticks\":\"\",\"title\":{\"standoff\":15},\"zerolinecolor\":\"white\",\"automargin\":true,\"zerolinewidth\":2},\"yaxis\":{\"gridcolor\":\"white\",\"linecolor\":\"white\",\"ticks\":\"\",\"title\":{\"standoff\":15},\"zerolinecolor\":\"white\",\"automargin\":true,\"zerolinewidth\":2},\"scene\":{\"xaxis\":{\"backgroundcolor\":\"#E5ECF6\",\"gridcolor\":\"white\",\"linecolor\":\"white\",\"showbackground\":true,\"ticks\":\"\",\"zerolinecolor\":\"white\",\"gridwidth\":2},\"yaxis\":{\"backgroundcolor\":\"#E5ECF6\",\"gridcolor\":\"white\",\"linecolor\":\"white\",\"showbackground\":true,\"ticks\":\"\",\"zerolinecolor\":\"white\",\"gridwidth\":2},\"zaxis\":{\"backgroundcolor\":\"#E5ECF6\",\"gridcolor\":\"white\",\"linecolor\":\"white\",\"showbackground\":true,\"ticks\":\"\",\"zerolinecolor\":\"white\",\"gridwidth\":2}},\"shapedefaults\":{\"line\":{\"color\":\"#2a3f5f\"}},\"annotationdefaults\":{\"arrowcolor\":\"#2a3f5f\",\"arrowhead\":0,\"arrowwidth\":1},\"geo\":{\"bgcolor\":\"white\",\"landcolor\":\"#E5ECF6\",\"subunitcolor\":\"white\",\"showland\":true,\"showlakes\":true,\"lakecolor\":\"white\"},\"title\":{\"x\":0.05},\"mapbox\":{\"style\":\"light\"}}},\"xaxis\":{\"anchor\":\"y\",\"domain\":[0.0,1.0],\"title\":{\"text\":\"Fitted value\"}},\"yaxis\":{\"anchor\":\"x\",\"domain\":[0.0,1.0],\"title\":{\"text\":\"Residual\"}},\"legend\":{\"tracegroupgap\":0},\"title\":{\"text\":\"Residuals vs. Fitted Values\"},\"shapes\":[{\"line\":{\"dash\":\"dash\"},\"type\":\"line\",\"x0\":0,\"x1\":1,\"xref\":\"x domain\",\"y0\":0,\"y1\":0,\"yref\":\"y\"}],\"width\":700,\"height\":500},                        {\"responsive\": true}                    ).then(function(){\n",
              "                            \n",
              "var gd = document.getElementById('bf12f638-5adf-49fe-8ac1-5a922fb406b4');\n",
              "var x = new MutationObserver(function (mutations, observer) {{\n",
              "        var display = window.getComputedStyle(gd).display;\n",
              "        if (!display || display === 'none') {{\n",
              "            console.log([gd, 'removed!']);\n",
              "            Plotly.purge(gd);\n",
              "            observer.disconnect();\n",
              "        }}\n",
              "}});\n",
              "\n",
              "// Listen for the removal of the full notebook cells\n",
              "var notebookContainer = gd.closest('#notebook-container');\n",
              "if (notebookContainer) {{\n",
              "    x.observe(notebookContainer, {childList: true});\n",
              "}}\n",
              "\n",
              "// Listen for the clearing of the current output cell\n",
              "var outputEl = gd.closest('.output');\n",
              "if (outputEl) {{\n",
              "    x.observe(outputEl, {childList: true});\n",
              "}}\n",
              "\n",
              "                        })                };                            </script>        </div>\n",
              "</body>\n",
              "</html>"
            ]
          },
          "metadata": {}
        },
        {
          "output_type": "display_data",
          "data": {
            "text/plain": [
              "<Figure size 700x454.545 with 1 Axes>"
            ],
            "image/png": "[encoded data removed]"
          },
          "metadata": {}
        }
      ],
      "source": [
        "# Create a list to store the figures\n",
        "figures = []\n",
        "\n",
        "# Create a DataFrame for the current model's residuals\n",
        "residuals_df = pd.DataFrame({'Fitted value': predicted_values, 'Residual': residuals})\n",
        "\n",
        "# Residuals vs. Fitted Values Plot\n",
        "fig1 = px.scatter(residuals_df, x='Fitted value', y='Residual', title='Residuals vs. Fitted Values')\n",
        "#fig1.update_yaxes(range=[-1, 1])\n",
        "fig1.add_hline(y=0, line_dash=\"dash\")\n",
        "figures.append(fig1)\n",
        "\n",
        "\n",
        "# Show the figures\n",
        "for fig in figures:\n",
        "    fig.update_layout(\n",
        "    width=700,  # Width of the figure in pixels\n",
        "    height=500, # Height of the figure in pixels\n",
        "    )\n",
        "    fig.show()\n",
        "\n",
        "# QQ Plot (Quantile-Quantile Plot)\n",
        "plt.figure(figsize=(700/100, 500/110))  # Adjust the width and height as needed\n",
        "\n",
        "qq_fig = stats.probplot(residuals, dist=\"norm\", plot=plt)\n",
        "plt.title('QQ Plot')\n",
        "plt.show()\n",
        "\n"
      ]
    },
    {
      "cell_type": "markdown",
      "source": [
        "Comment:\n",
        "The third-order model shows that the majority of the tested points adhere to the expected pattern along the horizontal line, with the exception of just one point."
      ],
      "metadata": {
        "id": "_QRroq4fZhJA"
      }
    },
    {
      "cell_type": "markdown",
      "source": [
        "##### Third Order Model Predictions and Intervals #####"
      ],
      "metadata": {
        "id": "n-V1KZiNLBpv"
      }
    },
    {
      "cell_type": "markdown",
      "source": [
        "Finally, here is presented the prediction from the model at 30C together with the CI and PI"
      ],
      "metadata": {
        "id": "Hy9AXrOXq6B6"
      }
    },
    {
      "cell_type": "code",
      "source": [
        "Xnew = pd.DataFrame({'intercept': np.ones(1),\n",
        "                  'x1': 30*degC,'x2': (30*degC)**2,'x3': (30*degC)**3})\n",
        "\n",
        "new_predictions = results3.get_prediction(Xnew);\n",
        "CI = new_predictions.conf_int(alpha=0.05);\n",
        "PI = new_predictions.conf_int(obs = True,alpha=0.05);\n",
        "if np.round(PI[0,0],1) < 0:\n",
        " a = 0\n",
        "else:\n",
        " a = np.round(PI[0,0],1)\n",
        "print('the predicted value of Specific volume at 30°C based on the second order model is',np.round(new_predictions.predicted_mean[0],1), 'm^3/kg')\n",
        "print('the predicted CI for the value of Specific volume at 30°C based on the second order model are: lower',np.round(CI[0,0],1),' kJ/kg upper:',np.round(CI[0,1],1),' m^3/kg')\n",
        "print('the predicted PI for the value of Specific volume at 30°C based on the second order model are: lower',a,' kJ/kg upper:',np.round(PI[0,1],1),' m^3/kg')"
      ],
      "metadata": {
        "colab": {
          "base_uri": "https://localhost:8080/"
        },
        "outputId": "f4234f74-9301-433a-c79a-bde28be45bda",
        "id": "bh20qgHDq6B7"
      },
      "execution_count": null,
      "outputs": [
        {
          "output_type": "stream",
          "name": "stdout",
          "text": [
            "the predicted value of Specific volume at 30°C based on the second order model is 31.2 m^3/kg\n",
            "the predicted CI for the value of Specific volume at 30°C based on the second order model are: lower 12.8  kJ/kg upper: 49.6  m^3/kg\n",
            "the predicted PI for the value of Specific volume at 30°C based on the second order model are: lower 0  kJ/kg upper: 64.8  m^3/kg\n"
          ]
        }
      ]
    },
    {
      "cell_type": "markdown",
      "source": [
        "##### Inverse Model Summary with Intercept #####"
      ],
      "metadata": {
        "id": "eHKZvBcPLE7m"
      }
    },
    {
      "cell_type": "code",
      "source": [
        "print(results4.summary())"
      ],
      "metadata": {
        "colab": {
          "base_uri": "https://localhost:8080/"
        },
        "id": "fCB0Zj72LHEi",
        "outputId": "d98306b5-34c6-4da3-adf1-f15817f61095"
      },
      "execution_count": null,
      "outputs": [
        {
          "output_type": "stream",
          "name": "stdout",
          "text": [
            "                                OLS Regression Results                                \n",
            "======================================================================================\n",
            "Dep. Variable:     Specific volume v (m^3/kg)   R-squared:                       0.996\n",
            "Model:                                    OLS   Adj. R-squared:                  0.994\n",
            "Method:                         Least Squares   F-statistic:                     890.9\n",
            "Date:                        Fri, 09 Feb 2024   Prob (F-statistic):           7.50e-06\n",
            "Time:                                19:58:44   Log-Likelihood:                -10.284\n",
            "No. Observations:                           6   AIC:                             24.57\n",
            "Df Residuals:                               4   BIC:                             24.15\n",
            "Df Model:                                   1                                         \n",
            "Covariance Type:                    nonrobust                                         \n",
            "==============================================================================\n",
            "                 coef    std err          t      P>|t|      [0.025      0.975]\n",
            "------------------------------------------------------------------------------\n",
            "intercept    -14.9660      1.329    -11.261      0.000     -18.656     -11.276\n",
            "x1          1441.2438     48.287     29.848      0.000    1307.178    1575.310\n",
            "==============================================================================\n",
            "Omnibus:                          nan   Durbin-Watson:                   0.946\n",
            "Prob(Omnibus):                    nan   Jarque-Bera (JB):                0.289\n",
            "Skew:                           0.204   Prob(JB):                        0.866\n",
            "Kurtosis:                       2.006   Cond. No.                         71.9\n",
            "==============================================================================\n",
            "\n",
            "Notes:\n",
            "[1] Standard Errors assume that the covariance matrix of the errors is correctly specified.\n"
          ]
        },
        {
          "output_type": "stream",
          "name": "stderr",
          "text": [
            "/usr/local/lib/python3.10/dist-packages/statsmodels/stats/stattools.py:74: ValueWarning:\n",
            "\n",
            "omni_normtest is not valid with less than 8 observations; 6 samples were given.\n",
            "\n"
          ]
        }
      ]
    },
    {
      "cell_type": "markdown",
      "source": [
        "##### Inverse Model Summary without Intercept #####"
      ],
      "metadata": {
        "id": "nJH-fB-iMJX4"
      }
    },
    {
      "cell_type": "code",
      "source": [
        "print(results5.summary())"
      ],
      "metadata": {
        "colab": {
          "base_uri": "https://localhost:8080/"
        },
        "id": "zTfdYUaRMK6N",
        "outputId": "93c3bb55-2638-4bc2-d624-20bdba425bf6"
      },
      "execution_count": null,
      "outputs": [
        {
          "output_type": "stream",
          "name": "stdout",
          "text": [
            "                                     OLS Regression Results                                    \n",
            "===============================================================================================\n",
            "Dep. Variable:     Specific volume v (m^3/kg)   R-squared (uncentered):                   0.924\n",
            "Model:                                    OLS   Adj. R-squared (uncentered):              0.909\n",
            "Method:                         Least Squares   F-statistic:                              60.65\n",
            "Date:                        Fri, 09 Feb 2024   Prob (F-statistic):                    0.000559\n",
            "Time:                                19:58:44   Log-Likelihood:                         -20.747\n",
            "No. Observations:                           6   AIC:                                      43.49\n",
            "Df Residuals:                               5   BIC:                                      43.28\n",
            "Df Model:                                   1                                                  \n",
            "Covariance Type:                    nonrobust                                                  \n",
            "==============================================================================\n",
            "                 coef    std err          t      P>|t|      [0.025      0.975]\n",
            "------------------------------------------------------------------------------\n",
            "x1           972.0259    124.815      7.788      0.001     651.179    1292.872\n",
            "==============================================================================\n",
            "Omnibus:                          nan   Durbin-Watson:                   0.397\n",
            "Prob(Omnibus):                    nan   Jarque-Bera (JB):                1.263\n",
            "Skew:                           1.108   Prob(JB):                        0.532\n",
            "Kurtosis:                       2.622   Cond. No.                         1.00\n",
            "==============================================================================\n",
            "\n",
            "Notes:\n",
            "[1] R² is computed without centering (uncentered) since the model does not contain a constant.\n",
            "[2] Standard Errors assume that the covariance matrix of the errors is correctly specified.\n"
          ]
        },
        {
          "output_type": "stream",
          "name": "stderr",
          "text": [
            "/usr/local/lib/python3.10/dist-packages/statsmodels/stats/stattools.py:74: ValueWarning:\n",
            "\n",
            "omni_normtest is not valid with less than 8 observations; 6 samples were given.\n",
            "\n"
          ]
        }
      ]
    },
    {
      "cell_type": "markdown",
      "source": [
        "Comment: The comparative analysis of the Inverse Model Summaries, with and without an intercept, presents insightful contrasts in modeling specific volume v (m^3/kg). The model including an intercept achieved an R-squared of 0.996 and an adjusted R-squared of 0.94, indicating a high degree of variance explanation with a slight penalty for the number of predictors. The significant F-statistic and its corresponding p-value reinforce the model's statistical strength. Conversely, the model without an intercept showed a slightly lower, uncentered R-squared of 0.924 and adjusted R-squared of 0.909, still demonstrating substantial explanatory power but suggesting that including an intercept may provide a more accurate fit. Both models exhibit a large condition number, hinting at potential multicollinearity or numerical issues, which could affect the precision of the coefficient estimates. Additionally, the small sample size (7 observations) limits the validity of omnibus norm tests, highlighting the need for cautious interpretation of model diagnostics."
      ],
      "metadata": {
        "id": "rukMTp5wLkwH"
      }
    },
    {
      "cell_type": "markdown",
      "metadata": {
        "id": "XqRUL4yxaYDt"
      },
      "source": [
        "##### Inverse Model Residual Analysis without Intercept  #####"
      ]
    },
    {
      "cell_type": "code",
      "execution_count": null,
      "metadata": {
        "id": "IiNWAih2aYDu"
      },
      "outputs": [],
      "source": [
        "# Calculate the residuals\n",
        "predicted_values = results5.predict(Xinv2.iloc[test_index]);\n",
        "residuals = y.iloc[test_index] - predicted_values"
      ]
    },
    {
      "cell_type": "code",
      "execution_count": null,
      "metadata": {
        "colab": {
          "base_uri": "https://localhost:8080/",
          "height": 952
        },
        "outputId": "8f3b603e-771a-494c-f0bf-6e8a26d3ce2e",
        "id": "BYKg-VNOaYDv"
      },
      "outputs": [
        {
          "output_type": "display_data",
          "data": {
            "text/html": [
              "<html>\n",
              "<head><meta charset=\"utf-8\" /></head>\n",
              "<body>\n",
              "    <div>            <script src=\"https://cdnjs.cloudflare.com/ajax/libs/mathjax/2.7.5/MathJax.js?config=TeX-AMS-MML_SVG\"></script><script type=\"text/javascript\">if (window.MathJax && window.MathJax.Hub && window.MathJax.Hub.Config) {window.MathJax.Hub.Config({SVG: {font: \"STIX-Web\"}});}</script>                <script type=\"text/javascript\">window.PlotlyConfig = {MathJaxConfig: 'local'};</script>\n",
              "        <script charset=\"utf-8\" src=\"https://cdn.plot.ly/plotly-2.24.1.min.js\"></script>                <div id=\"3d5dc1d0-ea13-41a9-bf9b-3771b50e0287\" class=\"plotly-graph-div\" style=\"height:500px; width:700px;\"></div>            <script type=\"text/javascript\">                                    window.PLOTLYENV=window.PLOTLYENV || {};                                    if (document.getElementById(\"3d5dc1d0-ea13-41a9-bf9b-3771b50e0287\")) {                    Plotly.newPlot(                        \"3d5dc1d0-ea13-41a9-bf9b-3771b50e0287\",                        [{\"hovertemplate\":\"Fitted value=%{x}\\u003cbr\\u003eResidual=%{y}\\u003cextra\\u003e\\u003c\\u002fextra\\u003e\",\"legendgroup\":\"\",\"marker\":{\"color\":\"#636efa\",\"symbol\":\"circle\"},\"mode\":\"markers\",\"name\":\"\",\"orientation\":\"v\",\"showlegend\":false,\"x\":[97.20258517952634,24.300646294881584,13.886083597075189,10.800287242169592],\"xaxis\":\"x\",\"y\":[9.197414820473668,-4.750646294881584,-8.84008359707519,-8.439287242169591],\"yaxis\":\"y\",\"type\":\"scatter\"}],                        {\"template\":{\"data\":{\"histogram2dcontour\":[{\"type\":\"histogram2dcontour\",\"colorbar\":{\"outlinewidth\":0,\"ticks\":\"\"},\"colorscale\":[[0.0,\"#0d0887\"],[0.1111111111111111,\"#46039f\"],[0.2222222222222222,\"#7201a8\"],[0.3333333333333333,\"#9c179e\"],[0.4444444444444444,\"#bd3786\"],[0.5555555555555556,\"#d8576b\"],[0.6666666666666666,\"#ed7953\"],[0.7777777777777778,\"#fb9f3a\"],[0.8888888888888888,\"#fdca26\"],[1.0,\"#f0f921\"]]}],\"choropleth\":[{\"type\":\"choropleth\",\"colorbar\":{\"outlinewidth\":0,\"ticks\":\"\"}}],\"histogram2d\":[{\"type\":\"histogram2d\",\"colorbar\":{\"outlinewidth\":0,\"ticks\":\"\"},\"colorscale\":[[0.0,\"#0d0887\"],[0.1111111111111111,\"#46039f\"],[0.2222222222222222,\"#7201a8\"],[0.3333333333333333,\"#9c179e\"],[0.4444444444444444,\"#bd3786\"],[0.5555555555555556,\"#d8576b\"],[0.6666666666666666,\"#ed7953\"],[0.7777777777777778,\"#fb9f3a\"],[0.8888888888888888,\"#fdca26\"],[1.0,\"#f0f921\"]]}],\"heatmap\":[{\"type\":\"heatmap\",\"colorbar\":{\"outlinewidth\":0,\"ticks\":\"\"},\"colorscale\":[[0.0,\"#0d0887\"],[0.1111111111111111,\"#46039f\"],[0.2222222222222222,\"#7201a8\"],[0.3333333333333333,\"#9c179e\"],[0.4444444444444444,\"#bd3786\"],[0.5555555555555556,\"#d8576b\"],[0.6666666666666666,\"#ed7953\"],[0.7777777777777778,\"#fb9f3a\"],[0.8888888888888888,\"#fdca26\"],[1.0,\"#f0f921\"]]}],\"heatmapgl\":[{\"type\":\"heatmapgl\",\"colorbar\":{\"outlinewidth\":0,\"ticks\":\"\"},\"colorscale\":[[0.0,\"#0d0887\"],[0.1111111111111111,\"#46039f\"],[0.2222222222222222,\"#7201a8\"],[0.3333333333333333,\"#9c179e\"],[0.4444444444444444,\"#bd3786\"],[0.5555555555555556,\"#d8576b\"],[0.6666666666666666,\"#ed7953\"],[0.7777777777777778,\"#fb9f3a\"],[0.8888888888888888,\"#fdca26\"],[1.0,\"#f0f921\"]]}],\"contourcarpet\":[{\"type\":\"contourcarpet\",\"colorbar\":{\"outlinewidth\":0,\"ticks\":\"\"}}],\"contour\":[{\"type\":\"contour\",\"colorbar\":{\"outlinewidth\":0,\"ticks\":\"\"},\"colorscale\":[[0.0,\"#0d0887\"],[0.1111111111111111,\"#46039f\"],[0.2222222222222222,\"#7201a8\"],[0.3333333333333333,\"#9c179e\"],[0.4444444444444444,\"#bd3786\"],[0.5555555555555556,\"#d8576b\"],[0.6666666666666666,\"#ed7953\"],[0.7777777777777778,\"#fb9f3a\"],[0.8888888888888888,\"#fdca26\"],[1.0,\"#f0f921\"]]}],\"surface\":[{\"type\":\"surface\",\"colorbar\":{\"outlinewidth\":0,\"ticks\":\"\"},\"colorscale\":[[0.0,\"#0d0887\"],[0.1111111111111111,\"#46039f\"],[0.2222222222222222,\"#7201a8\"],[0.3333333333333333,\"#9c179e\"],[0.4444444444444444,\"#bd3786\"],[0.5555555555555556,\"#d8576b\"],[0.6666666666666666,\"#ed7953\"],[0.7777777777777778,\"#fb9f3a\"],[0.8888888888888888,\"#fdca26\"],[1.0,\"#f0f921\"]]}],\"mesh3d\":[{\"type\":\"mesh3d\",\"colorbar\":{\"outlinewidth\":0,\"ticks\":\"\"}}],\"scatter\":[{\"fillpattern\":{\"fillmode\":\"overlay\",\"size\":10,\"solidity\":0.2},\"type\":\"scatter\"}],\"parcoords\":[{\"type\":\"parcoords\",\"line\":{\"colorbar\":{\"outlinewidth\":0,\"ticks\":\"\"}}}],\"scatterpolargl\":[{\"type\":\"scatterpolargl\",\"marker\":{\"colorbar\":{\"outlinewidth\":0,\"ticks\":\"\"}}}],\"bar\":[{\"error_x\":{\"color\":\"#2a3f5f\"},\"error_y\":{\"color\":\"#2a3f5f\"},\"marker\":{\"line\":{\"color\":\"#E5ECF6\",\"width\":0.5},\"pattern\":{\"fillmode\":\"overlay\",\"size\":10,\"solidity\":0.2}},\"type\":\"bar\"}],\"scattergeo\":[{\"type\":\"scattergeo\",\"marker\":{\"colorbar\":{\"outlinewidth\":0,\"ticks\":\"\"}}}],\"scatterpolar\":[{\"type\":\"scatterpolar\",\"marker\":{\"colorbar\":{\"outlinewidth\":0,\"ticks\":\"\"}}}],\"histogram\":[{\"marker\":{\"pattern\":{\"fillmode\":\"overlay\",\"size\":10,\"solidity\":0.2}},\"type\":\"histogram\"}],\"scattergl\":[{\"type\":\"scattergl\",\"marker\":{\"colorbar\":{\"outlinewidth\":0,\"ticks\":\"\"}}}],\"scatter3d\":[{\"type\":\"scatter3d\",\"line\":{\"colorbar\":{\"outlinewidth\":0,\"ticks\":\"\"}},\"marker\":{\"colorbar\":{\"outlinewidth\":0,\"ticks\":\"\"}}}],\"scattermapbox\":[{\"type\":\"scattermapbox\",\"marker\":{\"colorbar\":{\"outlinewidth\":0,\"ticks\":\"\"}}}],\"scatterternary\":[{\"type\":\"scatterternary\",\"marker\":{\"colorbar\":{\"outlinewidth\":0,\"ticks\":\"\"}}}],\"scattercarpet\":[{\"type\":\"scattercarpet\",\"marker\":{\"colorbar\":{\"outlinewidth\":0,\"ticks\":\"\"}}}],\"carpet\":[{\"aaxis\":{\"endlinecolor\":\"#2a3f5f\",\"gridcolor\":\"white\",\"linecolor\":\"white\",\"minorgridcolor\":\"white\",\"startlinecolor\":\"#2a3f5f\"},\"baxis\":{\"endlinecolor\":\"#2a3f5f\",\"gridcolor\":\"white\",\"linecolor\":\"white\",\"minorgridcolor\":\"white\",\"startlinecolor\":\"#2a3f5f\"},\"type\":\"carpet\"}],\"table\":[{\"cells\":{\"fill\":{\"color\":\"#EBF0F8\"},\"line\":{\"color\":\"white\"}},\"header\":{\"fill\":{\"color\":\"#C8D4E3\"},\"line\":{\"color\":\"white\"}},\"type\":\"table\"}],\"barpolar\":[{\"marker\":{\"line\":{\"color\":\"#E5ECF6\",\"width\":0.5},\"pattern\":{\"fillmode\":\"overlay\",\"size\":10,\"solidity\":0.2}},\"type\":\"barpolar\"}],\"pie\":[{\"automargin\":true,\"type\":\"pie\"}]},\"layout\":{\"autotypenumbers\":\"strict\",\"colorway\":[\"#636efa\",\"#EF553B\",\"#00cc96\",\"#ab63fa\",\"#FFA15A\",\"#19d3f3\",\"#FF6692\",\"#B6E880\",\"#FF97FF\",\"#FECB52\"],\"font\":{\"color\":\"#2a3f5f\"},\"hovermode\":\"closest\",\"hoverlabel\":{\"align\":\"left\"},\"paper_bgcolor\":\"white\",\"plot_bgcolor\":\"#E5ECF6\",\"polar\":{\"bgcolor\":\"#E5ECF6\",\"angularaxis\":{\"gridcolor\":\"white\",\"linecolor\":\"white\",\"ticks\":\"\"},\"radialaxis\":{\"gridcolor\":\"white\",\"linecolor\":\"white\",\"ticks\":\"\"}},\"ternary\":{\"bgcolor\":\"#E5ECF6\",\"aaxis\":{\"gridcolor\":\"white\",\"linecolor\":\"white\",\"ticks\":\"\"},\"baxis\":{\"gridcolor\":\"white\",\"linecolor\":\"white\",\"ticks\":\"\"},\"caxis\":{\"gridcolor\":\"white\",\"linecolor\":\"white\",\"ticks\":\"\"}},\"coloraxis\":{\"colorbar\":{\"outlinewidth\":0,\"ticks\":\"\"}},\"colorscale\":{\"sequential\":[[0.0,\"#0d0887\"],[0.1111111111111111,\"#46039f\"],[0.2222222222222222,\"#7201a8\"],[0.3333333333333333,\"#9c179e\"],[0.4444444444444444,\"#bd3786\"],[0.5555555555555556,\"#d8576b\"],[0.6666666666666666,\"#ed7953\"],[0.7777777777777778,\"#fb9f3a\"],[0.8888888888888888,\"#fdca26\"],[1.0,\"#f0f921\"]],\"sequentialminus\":[[0.0,\"#0d0887\"],[0.1111111111111111,\"#46039f\"],[0.2222222222222222,\"#7201a8\"],[0.3333333333333333,\"#9c179e\"],[0.4444444444444444,\"#bd3786\"],[0.5555555555555556,\"#d8576b\"],[0.6666666666666666,\"#ed7953\"],[0.7777777777777778,\"#fb9f3a\"],[0.8888888888888888,\"#fdca26\"],[1.0,\"#f0f921\"]],\"diverging\":[[0,\"#8e0152\"],[0.1,\"#c51b7d\"],[0.2,\"#de77ae\"],[0.3,\"#f1b6da\"],[0.4,\"#fde0ef\"],[0.5,\"#f7f7f7\"],[0.6,\"#e6f5d0\"],[0.7,\"#b8e186\"],[0.8,\"#7fbc41\"],[0.9,\"#4d9221\"],[1,\"#276419\"]]},\"xaxis\":{\"gridcolor\":\"white\",\"linecolor\":\"white\",\"ticks\":\"\",\"title\":{\"standoff\":15},\"zerolinecolor\":\"white\",\"automargin\":true,\"zerolinewidth\":2},\"yaxis\":{\"gridcolor\":\"white\",\"linecolor\":\"white\",\"ticks\":\"\",\"title\":{\"standoff\":15},\"zerolinecolor\":\"white\",\"automargin\":true,\"zerolinewidth\":2},\"scene\":{\"xaxis\":{\"backgroundcolor\":\"#E5ECF6\",\"gridcolor\":\"white\",\"linecolor\":\"white\",\"showbackground\":true,\"ticks\":\"\",\"zerolinecolor\":\"white\",\"gridwidth\":2},\"yaxis\":{\"backgroundcolor\":\"#E5ECF6\",\"gridcolor\":\"white\",\"linecolor\":\"white\",\"showbackground\":true,\"ticks\":\"\",\"zerolinecolor\":\"white\",\"gridwidth\":2},\"zaxis\":{\"backgroundcolor\":\"#E5ECF6\",\"gridcolor\":\"white\",\"linecolor\":\"white\",\"showbackground\":true,\"ticks\":\"\",\"zerolinecolor\":\"white\",\"gridwidth\":2}},\"shapedefaults\":{\"line\":{\"color\":\"#2a3f5f\"}},\"annotationdefaults\":{\"arrowcolor\":\"#2a3f5f\",\"arrowhead\":0,\"arrowwidth\":1},\"geo\":{\"bgcolor\":\"white\",\"landcolor\":\"#E5ECF6\",\"subunitcolor\":\"white\",\"showland\":true,\"showlakes\":true,\"lakecolor\":\"white\"},\"title\":{\"x\":0.05},\"mapbox\":{\"style\":\"light\"}}},\"xaxis\":{\"anchor\":\"y\",\"domain\":[0.0,1.0],\"title\":{\"text\":\"Fitted value\"}},\"yaxis\":{\"anchor\":\"x\",\"domain\":[0.0,1.0],\"title\":{\"text\":\"Residual\"}},\"legend\":{\"tracegroupgap\":0},\"title\":{\"text\":\"Residuals vs. Fitted Values\"},\"shapes\":[{\"line\":{\"dash\":\"dash\"},\"type\":\"line\",\"x0\":0,\"x1\":1,\"xref\":\"x domain\",\"y0\":0,\"y1\":0,\"yref\":\"y\"}],\"width\":700,\"height\":500},                        {\"responsive\": true}                    ).then(function(){\n",
              "                            \n",
              "var gd = document.getElementById('3d5dc1d0-ea13-41a9-bf9b-3771b50e0287');\n",
              "var x = new MutationObserver(function (mutations, observer) {{\n",
              "        var display = window.getComputedStyle(gd).display;\n",
              "        if (!display || display === 'none') {{\n",
              "            console.log([gd, 'removed!']);\n",
              "            Plotly.purge(gd);\n",
              "            observer.disconnect();\n",
              "        }}\n",
              "}});\n",
              "\n",
              "// Listen for the removal of the full notebook cells\n",
              "var notebookContainer = gd.closest('#notebook-container');\n",
              "if (notebookContainer) {{\n",
              "    x.observe(notebookContainer, {childList: true});\n",
              "}}\n",
              "\n",
              "// Listen for the clearing of the current output cell\n",
              "var outputEl = gd.closest('.output');\n",
              "if (outputEl) {{\n",
              "    x.observe(outputEl, {childList: true});\n",
              "}}\n",
              "\n",
              "                        })                };                            </script>        </div>\n",
              "</body>\n",
              "</html>"
            ]
          },
          "metadata": {}
        },
        {
          "output_type": "display_data",
          "data": {
            "text/plain": [
              "<Figure size 700x454.545 with 1 Axes>"
            ],
            "image/png": "[encoded data removed]"
          },
          "metadata": {}
        }
      ],
      "source": [
        "# Create a list to store the figures\n",
        "figures = []\n",
        "\n",
        "# Create a DataFrame for the current model's residuals\n",
        "residuals_df = pd.DataFrame({'Fitted value': predicted_values, 'Residual': residuals})\n",
        "\n",
        "# Residuals vs. Fitted Values Plot\n",
        "fig1 = px.scatter(residuals_df, x='Fitted value', y='Residual', title='Residuals vs. Fitted Values')\n",
        "#fig1.update_yaxes(range=[-1, 1])\n",
        "fig1.add_hline(y=0, line_dash=\"dash\")\n",
        "figures.append(fig1)\n",
        "\n",
        "\n",
        "# Show the figures\n",
        "for fig in figures:\n",
        "    fig.update_layout(\n",
        "    width=700,  # Width of the figure in pixels\n",
        "    height=500, # Height of the figure in pixels\n",
        "    )\n",
        "    fig.show()\n",
        "# QQ Plot (Quantile-Quantile Plot)\n",
        "plt.figure(figsize=(700/100, 500/110))  # Adjust the width and height as needed\n",
        "\n",
        "qq_fig = stats.probplot(residuals, dist=\"norm\", plot=plt)\n",
        "plt.title('QQ Plot')\n",
        "plt.show()\n",
        "\n"
      ]
    },
    {
      "cell_type": "markdown",
      "source": [
        "Comment:\n",
        "Inverse models tend to exhibit a more favorable shape in the residuals' response compared to previous models."
      ],
      "metadata": {
        "id": "gPRoh9U-aYDw"
      }
    },
    {
      "cell_type": "markdown",
      "source": [
        "### Plotting All Models ###"
      ],
      "metadata": {
        "id": "GAAhMjcBb19u"
      }
    },
    {
      "cell_type": "code",
      "source": [
        "fig = go.Figure(data=go.Scatter(x=df['Temperature t (°C)'], y=df['Specific volume v (m^3/kg)'],\n",
        "                                mode='markers', marker=dict(color='black'), name='Data Points'))\n",
        "\n",
        "# Calculate line for the 1st order model\n",
        "x_line = np.linspace(df['Temperature t (°C)'].min(), df['Temperature t (°C)'].max(), 100)\n",
        "y_line1 = results1.params[0] + results1.params[1] * x_line\n",
        "\n",
        "# Add 1st order model line\n",
        "fig.add_trace(go.Scatter(x=x_line, y=y_line1, mode='lines', line=dict(dash='dash', color='red', width=1), name='1st Order Model'))\n",
        "\n",
        "# Add 2nd order model predictions\n",
        "fig.add_trace(go.Scatter(x=df['Temperature t (°C)'], y=results2.predict(Xq), mode='lines', line=dict(dash='dot', color='green', width=1), name='2nd Order Model'))\n",
        "\n",
        "# Add 3rd order model predictions\n",
        "fig.add_trace(go.Scatter(x=df['Temperature t (°C)'], y=results3.predict(Xc), mode='lines', line=dict(dash='dot', color='blue', width=1), name='3rd Order Model'))\n",
        "\n",
        "# Add Inverse model predictions\n",
        "fig.add_trace(go.Scatter(x=df['Temperature t (°C)'], y=results5.predict(Xinv2), mode='lines', line=dict(dash='dot', color='magenta', width=1), name='Inverse Model'))\n",
        "\n",
        "\n",
        "# Set figure layout\n",
        "fig.update_layout(title='Specific volume vs. Temperature',\n",
        "                  xaxis_title='Temperature [°C]',\n",
        "                  yaxis_title='Specific volume v (m^3/kg)',\n",
        "                  legend_title='Legend',\n",
        "                  width=800,  # Width of the figure in pixels\n",
        "                  height=600, # Height of the figure in pixels\n",
        "                  )\n",
        "\n",
        "# Show figure\n",
        "fig.show()"
      ],
      "metadata": {
        "colab": {
          "base_uri": "https://localhost:8080/",
          "height": 617
        },
        "id": "5pAhkrRmMjNJ",
        "outputId": "43b2e23b-273d-4658-9063-39426efa2ed9"
      },
      "execution_count": null,
      "outputs": [
        {
          "output_type": "display_data",
          "data": {
            "text/html": [
              "<html>\n",
              "<head><meta charset=\"utf-8\" /></head>\n",
              "<body>\n",
              "    <div>            <script src=\"https://cdnjs.cloudflare.com/ajax/libs/mathjax/2.7.5/MathJax.js?config=TeX-AMS-MML_SVG\"></script><script type=\"text/javascript\">if (window.MathJax && window.MathJax.Hub && window.MathJax.Hub.Config) {window.MathJax.Hub.Config({SVG: {font: \"STIX-Web\"}});}</script>                <script type=\"text/javascript\">window.PlotlyConfig = {MathJaxConfig: 'local'};</script>\n",
              "        <script charset=\"utf-8\" src=\"https://cdn.plot.ly/plotly-2.24.1.min.js\"></script>                <div id=\"e3043d22-7c51-4009-9b3c-d507f9c589da\" class=\"plotly-graph-div\" style=\"height:600px; width:800px;\"></div>            <script type=\"text/javascript\">                                    window.PLOTLYENV=window.PLOTLYENV || {};                                    if (document.getElementById(\"e3043d22-7c51-4009-9b3c-d507f9c589da\")) {                    Plotly.newPlot(                        \"e3043d22-7c51-4009-9b3c-d507f9c589da\",                        [{\"marker\":{\"color\":\"black\"},\"mode\":\"markers\",\"name\":\"Data Points\",\"x\":[0,10,20,30,40,50,60,70,80,90,100],\"y\":[206.3,106.4,57.84,32.93,19.55,12.05,7.679,5.046,3.409,2.361,1.673],\"type\":\"scatter\"},{\"line\":{\"color\":\"red\",\"dash\":\"dash\",\"width\":1},\"mode\":\"lines\",\"name\":\"1st Order Model\",\"x\":[0.0,1.0101010101010102,2.0202020202020203,3.0303030303030303,4.040404040404041,5.050505050505051,6.0606060606060606,7.070707070707071,8.080808080808081,9.090909090909092,10.101010101010102,11.111111111111112,12.121212121212121,13.131313131313131,14.141414141414142,15.151515151515152,16.161616161616163,17.171717171717173,18.181818181818183,19.191919191919194,20.202020202020204,21.212121212121215,22.222222222222225,23.232323232323235,24.242424242424242,25.252525252525253,26.262626262626263,27.272727272727273,28.282828282828284,29.292929292929294,30.303030303030305,31.313131313131315,32.323232323232325,33.333333333333336,34.343434343434346,35.35353535353536,36.36363636363637,37.37373737373738,38.38383838383839,39.3939393939394,40.40404040404041,41.41414141414142,42.42424242424243,43.43434343434344,44.44444444444445,45.45454545454546,46.46464646464647,47.47474747474748,48.484848484848484,49.494949494949495,50.505050505050505,51.515151515151516,52.525252525252526,53.535353535353536,54.54545454545455,55.55555555555556,56.56565656565657,57.57575757575758,58.58585858585859,59.5959595959596,60.60606060606061,61.61616161616162,62.62626262626263,63.63636363636364,64.64646464646465,65.65656565656566,66.66666666666667,67.67676767676768,68.68686868686869,69.6969696969697,70.70707070707071,71.71717171717172,72.72727272727273,73.73737373737374,74.74747474747475,75.75757575757576,76.76767676767678,77.77777777777779,78.7878787878788,79.7979797979798,80.80808080808082,81.81818181818183,82.82828282828284,83.83838383838385,84.84848484848486,85.85858585858587,86.86868686868688,87.87878787878789,88.8888888888889,89.89898989898991,90.90909090909092,91.91919191919193,92.92929292929294,93.93939393939395,94.94949494949496,95.95959595959597,96.96969696969697,97.97979797979798,98.98989898989899,100.0],\"y\":[125.89139999999999,124.22960915032678,122.56781830065358,120.90602745098039,119.24423660130718,117.58244575163397,115.92065490196077,114.25886405228756,112.59707320261437,110.93528235294116,109.27349150326796,107.61170065359475,105.94990980392156,104.28811895424835,102.62632810457515,100.96453725490194,99.30274640522875,97.64095555555554,95.97916470588234,94.31737385620913,92.65558300653592,90.99379215686272,89.33200130718953,87.67021045751632,86.00841960784312,84.34662875816991,82.68483790849672,81.02304705882352,79.3612562091503,77.6994653594771,76.0376745098039,74.3758836601307,72.71409281045749,71.05230196078429,69.3905111111111,67.72872026143789,66.06692941176468,64.40513856209148,62.74334771241828,61.081556862745074,59.419766013071865,57.75797516339867,56.09618431372546,54.43439346405226,52.77260261437905,51.11081176470586,49.44902091503265,47.78723006535944,46.12543921568626,44.46364836601305,42.80185751633985,41.14006666666664,39.478275816993445,37.816484967320235,36.15469411764704,34.49290326797383,32.83111241830062,31.169321568627424,29.507530718954214,27.84573986928102,26.18394901960781,24.522158169934613,22.860367320261403,21.198576470588208,19.536785620914998,17.874994771241802,16.213203921568592,14.551413071895396,12.889622222222187,11.227831372548977,9.566040522875781,7.904249673202571,6.242458823529375,4.5806679738561655,2.91887712418297,1.25708627450976,-0.4047045751634357,-2.0664954248366456,-3.7282862745098413,-5.390077124183037,-7.051867973856261,-8.713658823529457,-10.375449673202652,-12.037240522875877,-13.699031372549072,-15.360822222222268,-17.022613071895464,-18.684403921568688,-20.346194771241883,-22.00798562091508,-23.669776470588275,-25.3315673202615,-26.993358169934695,-28.65514901960789,-30.316939869281114,-31.97873071895431,-33.64052156862748,-35.30231241830067,-36.9641032679739,-38.62589411764709],\"type\":\"scatter\"},{\"line\":{\"color\":\"green\",\"dash\":\"dot\",\"width\":1},\"mode\":\"lines\",\"name\":\"2nd Order Model\",\"x\":[0,10,20,30,40,50,60,70,80,90,100],\"y\":[183.3044592365485,131.75682954425585,87.96772137041509,51.93713471502625,23.665069578089295,3.1515259596042426,-9.603496140428888,-14.599996722010133,-11.837975785139491,-1.3174333298169358,16.961630643957506],\"type\":\"scatter\"},{\"line\":{\"color\":\"blue\",\"dash\":\"dot\",\"width\":1},\"mode\":\"lines\",\"name\":\"3rd Order Model\",\"x\":[0,10,20,30,40,50,60,70,80,90,100],\"y\":[203.3553611070308,122.65682910417526,66.70285547724458,31.23353011029957,11.98894288740081,4.709183692609258,5.134342409985379,9.004508923590151,12.059773117484326,10.04022487572854,-1.314045917616454],\"type\":\"scatter\"},{\"line\":{\"color\":\"magenta\",\"dash\":\"dot\",\"width\":1},\"mode\":\"lines\",\"name\":\"Inverse Model\",\"x\":[0,10,20,30,40,50,60,70,80,90,100],\"y\":[null,97.20258517952634,48.60129258976317,32.40086172650878,24.300646294881584,19.440517035905266,16.20043086325439,13.886083597075189,12.150323147440792,10.800287242169592,9.720258517952633],\"type\":\"scatter\"}],                        {\"template\":{\"data\":{\"histogram2dcontour\":[{\"type\":\"histogram2dcontour\",\"colorbar\":{\"outlinewidth\":0,\"ticks\":\"\"},\"colorscale\":[[0.0,\"#0d0887\"],[0.1111111111111111,\"#46039f\"],[0.2222222222222222,\"#7201a8\"],[0.3333333333333333,\"#9c179e\"],[0.4444444444444444,\"#bd3786\"],[0.5555555555555556,\"#d8576b\"],[0.6666666666666666,\"#ed7953\"],[0.7777777777777778,\"#fb9f3a\"],[0.8888888888888888,\"#fdca26\"],[1.0,\"#f0f921\"]]}],\"choropleth\":[{\"type\":\"choropleth\",\"colorbar\":{\"outlinewidth\":0,\"ticks\":\"\"}}],\"histogram2d\":[{\"type\":\"histogram2d\",\"colorbar\":{\"outlinewidth\":0,\"ticks\":\"\"},\"colorscale\":[[0.0,\"#0d0887\"],[0.1111111111111111,\"#46039f\"],[0.2222222222222222,\"#7201a8\"],[0.3333333333333333,\"#9c179e\"],[0.4444444444444444,\"#bd3786\"],[0.5555555555555556,\"#d8576b\"],[0.6666666666666666,\"#ed7953\"],[0.7777777777777778,\"#fb9f3a\"],[0.8888888888888888,\"#fdca26\"],[1.0,\"#f0f921\"]]}],\"heatmap\":[{\"type\":\"heatmap\",\"colorbar\":{\"outlinewidth\":0,\"ticks\":\"\"},\"colorscale\":[[0.0,\"#0d0887\"],[0.1111111111111111,\"#46039f\"],[0.2222222222222222,\"#7201a8\"],[0.3333333333333333,\"#9c179e\"],[0.4444444444444444,\"#bd3786\"],[0.5555555555555556,\"#d8576b\"],[0.6666666666666666,\"#ed7953\"],[0.7777777777777778,\"#fb9f3a\"],[0.8888888888888888,\"#fdca26\"],[1.0,\"#f0f921\"]]}],\"heatmapgl\":[{\"type\":\"heatmapgl\",\"colorbar\":{\"outlinewidth\":0,\"ticks\":\"\"},\"colorscale\":[[0.0,\"#0d0887\"],[0.1111111111111111,\"#46039f\"],[0.2222222222222222,\"#7201a8\"],[0.3333333333333333,\"#9c179e\"],[0.4444444444444444,\"#bd3786\"],[0.5555555555555556,\"#d8576b\"],[0.6666666666666666,\"#ed7953\"],[0.7777777777777778,\"#fb9f3a\"],[0.8888888888888888,\"#fdca26\"],[1.0,\"#f0f921\"]]}],\"contourcarpet\":[{\"type\":\"contourcarpet\",\"colorbar\":{\"outlinewidth\":0,\"ticks\":\"\"}}],\"contour\":[{\"type\":\"contour\",\"colorbar\":{\"outlinewidth\":0,\"ticks\":\"\"},\"colorscale\":[[0.0,\"#0d0887\"],[0.1111111111111111,\"#46039f\"],[0.2222222222222222,\"#7201a8\"],[0.3333333333333333,\"#9c179e\"],[0.4444444444444444,\"#bd3786\"],[0.5555555555555556,\"#d8576b\"],[0.6666666666666666,\"#ed7953\"],[0.7777777777777778,\"#fb9f3a\"],[0.8888888888888888,\"#fdca26\"],[1.0,\"#f0f921\"]]}],\"surface\":[{\"type\":\"surface\",\"colorbar\":{\"outlinewidth\":0,\"ticks\":\"\"},\"colorscale\":[[0.0,\"#0d0887\"],[0.1111111111111111,\"#46039f\"],[0.2222222222222222,\"#7201a8\"],[0.3333333333333333,\"#9c179e\"],[0.4444444444444444,\"#bd3786\"],[0.5555555555555556,\"#d8576b\"],[0.6666666666666666,\"#ed7953\"],[0.7777777777777778,\"#fb9f3a\"],[0.8888888888888888,\"#fdca26\"],[1.0,\"#f0f921\"]]}],\"mesh3d\":[{\"type\":\"mesh3d\",\"colorbar\":{\"outlinewidth\":0,\"ticks\":\"\"}}],\"scatter\":[{\"fillpattern\":{\"fillmode\":\"overlay\",\"size\":10,\"solidity\":0.2},\"type\":\"scatter\"}],\"parcoords\":[{\"type\":\"parcoords\",\"line\":{\"colorbar\":{\"outlinewidth\":0,\"ticks\":\"\"}}}],\"scatterpolargl\":[{\"type\":\"scatterpolargl\",\"marker\":{\"colorbar\":{\"outlinewidth\":0,\"ticks\":\"\"}}}],\"bar\":[{\"error_x\":{\"color\":\"#2a3f5f\"},\"error_y\":{\"color\":\"#2a3f5f\"},\"marker\":{\"line\":{\"color\":\"#E5ECF6\",\"width\":0.5},\"pattern\":{\"fillmode\":\"overlay\",\"size\":10,\"solidity\":0.2}},\"type\":\"bar\"}],\"scattergeo\":[{\"type\":\"scattergeo\",\"marker\":{\"colorbar\":{\"outlinewidth\":0,\"ticks\":\"\"}}}],\"scatterpolar\":[{\"type\":\"scatterpolar\",\"marker\":{\"colorbar\":{\"outlinewidth\":0,\"ticks\":\"\"}}}],\"histogram\":[{\"marker\":{\"pattern\":{\"fillmode\":\"overlay\",\"size\":10,\"solidity\":0.2}},\"type\":\"histogram\"}],\"scattergl\":[{\"type\":\"scattergl\",\"marker\":{\"colorbar\":{\"outlinewidth\":0,\"ticks\":\"\"}}}],\"scatter3d\":[{\"type\":\"scatter3d\",\"line\":{\"colorbar\":{\"outlinewidth\":0,\"ticks\":\"\"}},\"marker\":{\"colorbar\":{\"outlinewidth\":0,\"ticks\":\"\"}}}],\"scattermapbox\":[{\"type\":\"scattermapbox\",\"marker\":{\"colorbar\":{\"outlinewidth\":0,\"ticks\":\"\"}}}],\"scatterternary\":[{\"type\":\"scatterternary\",\"marker\":{\"colorbar\":{\"outlinewidth\":0,\"ticks\":\"\"}}}],\"scattercarpet\":[{\"type\":\"scattercarpet\",\"marker\":{\"colorbar\":{\"outlinewidth\":0,\"ticks\":\"\"}}}],\"carpet\":[{\"aaxis\":{\"endlinecolor\":\"#2a3f5f\",\"gridcolor\":\"white\",\"linecolor\":\"white\",\"minorgridcolor\":\"white\",\"startlinecolor\":\"#2a3f5f\"},\"baxis\":{\"endlinecolor\":\"#2a3f5f\",\"gridcolor\":\"white\",\"linecolor\":\"white\",\"minorgridcolor\":\"white\",\"startlinecolor\":\"#2a3f5f\"},\"type\":\"carpet\"}],\"table\":[{\"cells\":{\"fill\":{\"color\":\"#EBF0F8\"},\"line\":{\"color\":\"white\"}},\"header\":{\"fill\":{\"color\":\"#C8D4E3\"},\"line\":{\"color\":\"white\"}},\"type\":\"table\"}],\"barpolar\":[{\"marker\":{\"line\":{\"color\":\"#E5ECF6\",\"width\":0.5},\"pattern\":{\"fillmode\":\"overlay\",\"size\":10,\"solidity\":0.2}},\"type\":\"barpolar\"}],\"pie\":[{\"automargin\":true,\"type\":\"pie\"}]},\"layout\":{\"autotypenumbers\":\"strict\",\"colorway\":[\"#636efa\",\"#EF553B\",\"#00cc96\",\"#ab63fa\",\"#FFA15A\",\"#19d3f3\",\"#FF6692\",\"#B6E880\",\"#FF97FF\",\"#FECB52\"],\"font\":{\"color\":\"#2a3f5f\"},\"hovermode\":\"closest\",\"hoverlabel\":{\"align\":\"left\"},\"paper_bgcolor\":\"white\",\"plot_bgcolor\":\"#E5ECF6\",\"polar\":{\"bgcolor\":\"#E5ECF6\",\"angularaxis\":{\"gridcolor\":\"white\",\"linecolor\":\"white\",\"ticks\":\"\"},\"radialaxis\":{\"gridcolor\":\"white\",\"linecolor\":\"white\",\"ticks\":\"\"}},\"ternary\":{\"bgcolor\":\"#E5ECF6\",\"aaxis\":{\"gridcolor\":\"white\",\"linecolor\":\"white\",\"ticks\":\"\"},\"baxis\":{\"gridcolor\":\"white\",\"linecolor\":\"white\",\"ticks\":\"\"},\"caxis\":{\"gridcolor\":\"white\",\"linecolor\":\"white\",\"ticks\":\"\"}},\"coloraxis\":{\"colorbar\":{\"outlinewidth\":0,\"ticks\":\"\"}},\"colorscale\":{\"sequential\":[[0.0,\"#0d0887\"],[0.1111111111111111,\"#46039f\"],[0.2222222222222222,\"#7201a8\"],[0.3333333333333333,\"#9c179e\"],[0.4444444444444444,\"#bd3786\"],[0.5555555555555556,\"#d8576b\"],[0.6666666666666666,\"#ed7953\"],[0.7777777777777778,\"#fb9f3a\"],[0.8888888888888888,\"#fdca26\"],[1.0,\"#f0f921\"]],\"sequentialminus\":[[0.0,\"#0d0887\"],[0.1111111111111111,\"#46039f\"],[0.2222222222222222,\"#7201a8\"],[0.3333333333333333,\"#9c179e\"],[0.4444444444444444,\"#bd3786\"],[0.5555555555555556,\"#d8576b\"],[0.6666666666666666,\"#ed7953\"],[0.7777777777777778,\"#fb9f3a\"],[0.8888888888888888,\"#fdca26\"],[1.0,\"#f0f921\"]],\"diverging\":[[0,\"#8e0152\"],[0.1,\"#c51b7d\"],[0.2,\"#de77ae\"],[0.3,\"#f1b6da\"],[0.4,\"#fde0ef\"],[0.5,\"#f7f7f7\"],[0.6,\"#e6f5d0\"],[0.7,\"#b8e186\"],[0.8,\"#7fbc41\"],[0.9,\"#4d9221\"],[1,\"#276419\"]]},\"xaxis\":{\"gridcolor\":\"white\",\"linecolor\":\"white\",\"ticks\":\"\",\"title\":{\"standoff\":15},\"zerolinecolor\":\"white\",\"automargin\":true,\"zerolinewidth\":2},\"yaxis\":{\"gridcolor\":\"white\",\"linecolor\":\"white\",\"ticks\":\"\",\"title\":{\"standoff\":15},\"zerolinecolor\":\"white\",\"automargin\":true,\"zerolinewidth\":2},\"scene\":{\"xaxis\":{\"backgroundcolor\":\"#E5ECF6\",\"gridcolor\":\"white\",\"linecolor\":\"white\",\"showbackground\":true,\"ticks\":\"\",\"zerolinecolor\":\"white\",\"gridwidth\":2},\"yaxis\":{\"backgroundcolor\":\"#E5ECF6\",\"gridcolor\":\"white\",\"linecolor\":\"white\",\"showbackground\":true,\"ticks\":\"\",\"zerolinecolor\":\"white\",\"gridwidth\":2},\"zaxis\":{\"backgroundcolor\":\"#E5ECF6\",\"gridcolor\":\"white\",\"linecolor\":\"white\",\"showbackground\":true,\"ticks\":\"\",\"zerolinecolor\":\"white\",\"gridwidth\":2}},\"shapedefaults\":{\"line\":{\"color\":\"#2a3f5f\"}},\"annotationdefaults\":{\"arrowcolor\":\"#2a3f5f\",\"arrowhead\":0,\"arrowwidth\":1},\"geo\":{\"bgcolor\":\"white\",\"landcolor\":\"#E5ECF6\",\"subunitcolor\":\"white\",\"showland\":true,\"showlakes\":true,\"lakecolor\":\"white\"},\"title\":{\"x\":0.05},\"mapbox\":{\"style\":\"light\"}}},\"title\":{\"text\":\"Specific volume vs. Temperature\"},\"xaxis\":{\"title\":{\"text\":\"Temperature [\\u00b0C]\"}},\"yaxis\":{\"title\":{\"text\":\"Specific volume v (m^3\\u002fkg)\"}},\"legend\":{\"title\":{\"text\":\"Legend\"}},\"width\":800,\"height\":600},                        {\"responsive\": true}                    ).then(function(){\n",
              "                            \n",
              "var gd = document.getElementById('e3043d22-7c51-4009-9b3c-d507f9c589da');\n",
              "var x = new MutationObserver(function (mutations, observer) {{\n",
              "        var display = window.getComputedStyle(gd).display;\n",
              "        if (!display || display === 'none') {{\n",
              "            console.log([gd, 'removed!']);\n",
              "            Plotly.purge(gd);\n",
              "            observer.disconnect();\n",
              "        }}\n",
              "}});\n",
              "\n",
              "// Listen for the removal of the full notebook cells\n",
              "var notebookContainer = gd.closest('#notebook-container');\n",
              "if (notebookContainer) {{\n",
              "    x.observe(notebookContainer, {childList: true});\n",
              "}}\n",
              "\n",
              "// Listen for the clearing of the current output cell\n",
              "var outputEl = gd.closest('.output');\n",
              "if (outputEl) {{\n",
              "    x.observe(outputEl, {childList: true});\n",
              "}}\n",
              "\n",
              "                        })                };                            </script>        </div>\n",
              "</body>\n",
              "</html>"
            ]
          },
          "metadata": {}
        }
      ]
    },
    {
      "cell_type": "markdown",
      "source": [
        "### General Comment ###"
      ],
      "metadata": {
        "id": "sG63DE1QPVWa"
      }
    },
    {
      "cell_type": "markdown",
      "source": [
        "Considering the R^2, RMSE, and CV metrics along with visual analysis, the third-order polynomial model exhibits superior performance among polynomial alternatives. However, the inverse model, due to its greater accuracy and simplicity, is chosen as the optimal model in this analysis."
      ],
      "metadata": {
        "id": "oD48yrohp5Zr"
      }
    },
    {
      "cell_type": "markdown",
      "source": [
        "###b.3) Calculate the skill factors for the second and third-order models with the first order as the baseline model.###"
      ],
      "metadata": {
        "id": "Iii8aMxqvUug"
      }
    },
    {
      "cell_type": "code",
      "source": [
        "#Calculating Skill Factor\n",
        "\n",
        "SFlqb =  get_skillfactor(RMSE1,RMSE2)\n",
        "SFlcb =  get_skillfactor(RMSE1,RMSE3)\n",
        "\n",
        "print('Tnhe skill factor comparing the first to second order model is: SF',np.round(SFlqb,1),' %')\n",
        "\n",
        "print('Tnhe skill factor comparing the first to third order model is: SF',np.round(SFlcb,1),' %')"
      ],
      "metadata": {
        "colab": {
          "base_uri": "https://localhost:8080/"
        },
        "id": "zpMUzAmM1kFP",
        "outputId": "71b56925-c2b7-4c86-ef25-0f844ae27873"
      },
      "execution_count": null,
      "outputs": [
        {
          "output_type": "stream",
          "name": "stdout",
          "text": [
            "Tnhe skill factor comparing the first to second order model is: SF 31.9  %\n",
            "Tnhe skill factor comparing the first to third order model is: SF 58.4  %\n"
          ]
        }
      ]
    },
    {
      "cell_type": "markdown",
      "source": [
        "Comment: Since the Skill Factor (SF) is greater than 0, it indicates that the third and second-order models outperform the first-order model when evaluated with the test data."
      ],
      "metadata": {
        "id": "lmmXLzYEdZM8"
      }
    }
  ]
}