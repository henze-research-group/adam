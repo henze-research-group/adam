{
  "nbformat": 4,
  "nbformat_minor": 0,
  "metadata": {
    "colab": {
      "provenance": [],
      "toc_visible": true
    },
    "kernelspec": {
      "name": "python3",
      "display_name": "Python 3"
    },
    "language_info": {
      "name": "python"
    }
  },
  "cells": [
    {
      "cell_type": "markdown",
      "source": [
        "# *ADAM Chapter 4 - Making Statistical Inferences from Samples* #\n",
        "\n",
        "### *Pr. 4.4 Using classical and Bootstrap approaches to verify claimed benefit of gasoline additive*\n",
        "\n",
        "Authors: Diego Valdivieso, Tim Diller, and Gregor Henze\n",
        "\n",
        "Created: May 23rd, 2024"
      ],
      "metadata": {
        "id": "D4cWsL3xrytk"
      }
    },
    {
      "cell_type": "markdown",
      "source": [
        "An inventor claims to have developed a gasoline additive\n",
        "which increases gas mileage of cars. He specifically states\n",
        "that tests using a specific model and make of car resulting in\n",
        "an increase of 30 miles per filling. An independent testing\n",
        "group repeated the tests on six identical cars and obtained the\n",
        "results shown in Table 4.15.\n",
        "\n",
        "\n",
        "Table 4.15\n",
        "\n",
        "| Regular      | 395 | 420 | 405 | 417 | 399 | 410 |\n",
        "|--------------|-----|-----|-----|-----|-----|-----|\n",
        "| With Additive| 440 | 436 | 447 | 453 | 444 | 426 |\n",
        "\n",
        "\n",
        "(a) Check whether the data sets are approximately normally\n",
        "distributed.\n",
        "\n",
        "(b) Even if they are not, assume normal distribution, and\n",
        "perform parametric tests at the 95% CL to verify the\n",
        "inventor’s claim.\n",
        "\n",
        "(c) (This approach does not involve any assumptions about\n",
        "the shape of the distribution). Repeat the problem using\n",
        "the bootstrap method with 500 samples.\n",
        "\n",
        "(d) Compare results from (b) and (c)."
      ],
      "metadata": {
        "id": "6072DLQu3Qf2"
      }
    },
    {
      "cell_type": "markdown",
      "source": [
        "# Introduction #"
      ],
      "metadata": {
        "id": "oXL-HkM63RTR"
      }
    },
    {
      "cell_type": "markdown",
      "source": [
        "The problem involves verifying the claimed benefit of a gasoline additive that purportedly increases gas mileage by 30 miles per filling. To test this claim, we have data from an independent testing group that conducted tests on six identical cars. We will use both classical and [bootstrap statistical methods](https://en.wikipedia.org/wiki/Bootstrapping_(statistics)) to analyze the data. The steps involved include checking the normality of the data, performing parametric tests assuming normal distribution, and applying the bootstrap method. Finally, we will compare the results obtained from both methods."
      ],
      "metadata": {
        "id": "rkf-49jjO7hk"
      }
    },
    {
      "cell_type": "markdown",
      "metadata": {
        "id": "SG2n7J4M2FdO"
      },
      "source": [
        "##  Importing Libraries##"
      ]
    },
    {
      "cell_type": "code",
      "source": [
        "import pandas as pd\n",
        "import numpy as np\n",
        "from scipy.stats import shapiro, probplot, ttest_rel, ttest_1samp\n",
        "import plotly.graph_objects as go\n",
        "import plotly.express as px\n",
        "from plotly.subplots import make_subplots\n",
        "import matplotlib.pyplot as plt"
      ],
      "metadata": {
        "id": "ON-RFTAX18wO"
      },
      "execution_count": 1,
      "outputs": []
    },
    {
      "cell_type": "markdown",
      "source": [
        "## Units ##"
      ],
      "metadata": {
        "id": "etVf0h_AkJ6n"
      }
    },
    {
      "cell_type": "code",
      "source": [
        "m = 1 # miles"
      ],
      "metadata": {
        "id": "9h9jeSVvkKEl"
      },
      "execution_count": 2,
      "outputs": []
    },
    {
      "cell_type": "markdown",
      "source": [
        "# Solution ##"
      ],
      "metadata": {
        "id": "w9l5Tjk5fBfD"
      }
    },
    {
      "cell_type": "markdown",
      "source": [
        "##(a): Check Whether the Data Sets are Approximately Normally Distributed##"
      ],
      "metadata": {
        "id": "-Oac8ZPkOsEK"
      }
    },
    {
      "cell_type": "markdown",
      "source": [
        "We will use [Q-Q plots](https://en.wikipedia.org/wiki/Q%E2%80%93Q_plot) to visually inspect if the data is approximately normally distributed, and also visualize the data with Violin plots. Additionally, we will use statistical tests such as the [Shapiro-Wilk test](https://en.wikipedia.org/wiki/Shapiro%E2%80%93Wilk_test)."
      ],
      "metadata": {
        "id": "6okSWypuRLGT"
      }
    },
    {
      "cell_type": "markdown",
      "source": [
        "### Shapiro-Wilk Test ###"
      ],
      "metadata": {
        "id": "QEEy5nGmTUC7"
      }
    },
    {
      "cell_type": "code",
      "source": [
        "# Data\n",
        "regular = [395, 420, 405, 417, 399, 410]*m\n",
        "with_additive = [440, 436, 447, 453, 444, 426]*m\n",
        "\n",
        "# Creating DataFrame\n",
        "df = pd.DataFrame({'Regular': regular, 'With_Additive': with_additive})\n",
        "\n",
        "# Normality test\n",
        "stat_r, p_value_r = shapiro(df['Regular'])\n",
        "print(f\"Shapiro-Wilk test for Regular: Statistics={np.round(stat_r,3)}, p-value={np.round(p_value_r,3)}\")\n",
        "\n",
        "alpha = 0.05\n",
        "if p_value_r < alpha:\n",
        "    print(\"The Regular gasoline data is not normally distributed.\")\n",
        "else:\n",
        "    print(\"The Regular gasoline data is normally distributed.\")\n",
        "\n",
        "stat_wa, p_value_wa = shapiro(df['With_Additive'])\n",
        "print(f\"Shapiro-Wilk test for With_Additive: Statistics={np.round(stat_wa,3)}, p-value={np.round(p_value_wa,3)}\")\n",
        "\n",
        "if p_value_wa < alpha:\n",
        "    print(\"The with additive gasoline data is not normally distributed.\")\n",
        "else:\n",
        "    print(\"The with additive gasoline data is normally distributed.\")"
      ],
      "metadata": {
        "colab": {
          "base_uri": "https://localhost:8080/"
        },
        "id": "qVmCmotSOsVk",
        "outputId": "0d0600f8-c134-42b3-99b1-f1fb3fd19730"
      },
      "execution_count": 3,
      "outputs": [
        {
          "output_type": "stream",
          "name": "stdout",
          "text": [
            "Shapiro-Wilk test for Regular: Statistics=0.955, p-value=0.777\n",
            "The Regular gasoline data is normally distributed.\n",
            "Shapiro-Wilk test for With_Additive: Statistics=0.983, p-value=0.967\n",
            "The with additive gasoline data is normally distributed.\n"
          ]
        }
      ]
    },
    {
      "cell_type": "markdown",
      "source": [
        "Comment: Based on the Shapiro-Wilk test, the p-values are greater than 0.05, we do not reject the null hypothesis, indicating the data is normally distributed."
      ],
      "metadata": {
        "id": "wdbdf2u0TJHR"
      }
    },
    {
      "cell_type": "markdown",
      "source": [
        "### Violin plots of the data ###"
      ],
      "metadata": {
        "id": "BcNr5BthTRPQ"
      }
    },
    {
      "cell_type": "code",
      "source": [
        "# Create a single violin plot with two violins\n",
        "fig = go.Figure()\n",
        "\n",
        "# Add violin plot for Regular Mileage\n",
        "fig.add_trace(go.Violin(y=df['Regular'],\n",
        "                        name='Regular',\n",
        "                        box_visible=True,\n",
        "                        meanline_visible=True))\n",
        "\n",
        "# Add violin plot for Mileage with Additive\n",
        "fig.add_trace(go.Violin(y=df['With_Additive'],\n",
        "                        name='With Additive',\n",
        "                        box_visible=True,\n",
        "                        meanline_visible=True))\n",
        "\n",
        "# Update layout\n",
        "fig.update_layout(\n",
        "    title='Violin Plot of Mileage',\n",
        "    width=800,  # Width of the figure in pixels\n",
        "    height=600, # Height of the figure in pixels\n",
        "    yaxis_title='Mileage'\n",
        ")\n",
        "\n",
        "fig.show()"
      ],
      "metadata": {
        "colab": {
          "base_uri": "https://localhost:8080/",
          "height": 617
        },
        "id": "ZmTdBoVX5QsK",
        "outputId": "a76225e0-4ae0-44a8-b983-de55da4dee6a"
      },
      "execution_count": 7,
      "outputs": [
        {
          "output_type": "display_data",
          "data": {
            "text/html": [
              "<html>\n",
              "<head><meta charset=\"utf-8\" /></head>\n",
              "<body>\n",
              "    <div>            <script src=\"https://cdnjs.cloudflare.com/ajax/libs/mathjax/2.7.5/MathJax.js?config=TeX-AMS-MML_SVG\"></script><script type=\"text/javascript\">if (window.MathJax && window.MathJax.Hub && window.MathJax.Hub.Config) {window.MathJax.Hub.Config({SVG: {font: \"STIX-Web\"}});}</script>                <script type=\"text/javascript\">window.PlotlyConfig = {MathJaxConfig: 'local'};</script>\n",
              "        <script charset=\"utf-8\" src=\"https://cdn.plot.ly/plotly-2.24.1.min.js\"></script>                <div id=\"e26569ce-2c7c-4989-a687-3c6770c3f0ed\" class=\"plotly-graph-div\" style=\"height:600px; width:800px;\"></div>            <script type=\"text/javascript\">                                    window.PLOTLYENV=window.PLOTLYENV || {};                                    if (document.getElementById(\"e26569ce-2c7c-4989-a687-3c6770c3f0ed\")) {                    Plotly.newPlot(                        \"e26569ce-2c7c-4989-a687-3c6770c3f0ed\",                        [{\"box\":{\"visible\":true},\"meanline\":{\"visible\":true},\"name\":\"Regular\",\"y\":[395,420,405,417,399,410],\"type\":\"violin\"},{\"box\":{\"visible\":true},\"meanline\":{\"visible\":true},\"name\":\"With Additive\",\"y\":[440,436,447,453,444,426],\"type\":\"violin\"}],                        {\"template\":{\"data\":{\"histogram2dcontour\":[{\"type\":\"histogram2dcontour\",\"colorbar\":{\"outlinewidth\":0,\"ticks\":\"\"},\"colorscale\":[[0.0,\"#0d0887\"],[0.1111111111111111,\"#46039f\"],[0.2222222222222222,\"#7201a8\"],[0.3333333333333333,\"#9c179e\"],[0.4444444444444444,\"#bd3786\"],[0.5555555555555556,\"#d8576b\"],[0.6666666666666666,\"#ed7953\"],[0.7777777777777778,\"#fb9f3a\"],[0.8888888888888888,\"#fdca26\"],[1.0,\"#f0f921\"]]}],\"choropleth\":[{\"type\":\"choropleth\",\"colorbar\":{\"outlinewidth\":0,\"ticks\":\"\"}}],\"histogram2d\":[{\"type\":\"histogram2d\",\"colorbar\":{\"outlinewidth\":0,\"ticks\":\"\"},\"colorscale\":[[0.0,\"#0d0887\"],[0.1111111111111111,\"#46039f\"],[0.2222222222222222,\"#7201a8\"],[0.3333333333333333,\"#9c179e\"],[0.4444444444444444,\"#bd3786\"],[0.5555555555555556,\"#d8576b\"],[0.6666666666666666,\"#ed7953\"],[0.7777777777777778,\"#fb9f3a\"],[0.8888888888888888,\"#fdca26\"],[1.0,\"#f0f921\"]]}],\"heatmap\":[{\"type\":\"heatmap\",\"colorbar\":{\"outlinewidth\":0,\"ticks\":\"\"},\"colorscale\":[[0.0,\"#0d0887\"],[0.1111111111111111,\"#46039f\"],[0.2222222222222222,\"#7201a8\"],[0.3333333333333333,\"#9c179e\"],[0.4444444444444444,\"#bd3786\"],[0.5555555555555556,\"#d8576b\"],[0.6666666666666666,\"#ed7953\"],[0.7777777777777778,\"#fb9f3a\"],[0.8888888888888888,\"#fdca26\"],[1.0,\"#f0f921\"]]}],\"heatmapgl\":[{\"type\":\"heatmapgl\",\"colorbar\":{\"outlinewidth\":0,\"ticks\":\"\"},\"colorscale\":[[0.0,\"#0d0887\"],[0.1111111111111111,\"#46039f\"],[0.2222222222222222,\"#7201a8\"],[0.3333333333333333,\"#9c179e\"],[0.4444444444444444,\"#bd3786\"],[0.5555555555555556,\"#d8576b\"],[0.6666666666666666,\"#ed7953\"],[0.7777777777777778,\"#fb9f3a\"],[0.8888888888888888,\"#fdca26\"],[1.0,\"#f0f921\"]]}],\"contourcarpet\":[{\"type\":\"contourcarpet\",\"colorbar\":{\"outlinewidth\":0,\"ticks\":\"\"}}],\"contour\":[{\"type\":\"contour\",\"colorbar\":{\"outlinewidth\":0,\"ticks\":\"\"},\"colorscale\":[[0.0,\"#0d0887\"],[0.1111111111111111,\"#46039f\"],[0.2222222222222222,\"#7201a8\"],[0.3333333333333333,\"#9c179e\"],[0.4444444444444444,\"#bd3786\"],[0.5555555555555556,\"#d8576b\"],[0.6666666666666666,\"#ed7953\"],[0.7777777777777778,\"#fb9f3a\"],[0.8888888888888888,\"#fdca26\"],[1.0,\"#f0f921\"]]}],\"surface\":[{\"type\":\"surface\",\"colorbar\":{\"outlinewidth\":0,\"ticks\":\"\"},\"colorscale\":[[0.0,\"#0d0887\"],[0.1111111111111111,\"#46039f\"],[0.2222222222222222,\"#7201a8\"],[0.3333333333333333,\"#9c179e\"],[0.4444444444444444,\"#bd3786\"],[0.5555555555555556,\"#d8576b\"],[0.6666666666666666,\"#ed7953\"],[0.7777777777777778,\"#fb9f3a\"],[0.8888888888888888,\"#fdca26\"],[1.0,\"#f0f921\"]]}],\"mesh3d\":[{\"type\":\"mesh3d\",\"colorbar\":{\"outlinewidth\":0,\"ticks\":\"\"}}],\"scatter\":[{\"fillpattern\":{\"fillmode\":\"overlay\",\"size\":10,\"solidity\":0.2},\"type\":\"scatter\"}],\"parcoords\":[{\"type\":\"parcoords\",\"line\":{\"colorbar\":{\"outlinewidth\":0,\"ticks\":\"\"}}}],\"scatterpolargl\":[{\"type\":\"scatterpolargl\",\"marker\":{\"colorbar\":{\"outlinewidth\":0,\"ticks\":\"\"}}}],\"bar\":[{\"error_x\":{\"color\":\"#2a3f5f\"},\"error_y\":{\"color\":\"#2a3f5f\"},\"marker\":{\"line\":{\"color\":\"#E5ECF6\",\"width\":0.5},\"pattern\":{\"fillmode\":\"overlay\",\"size\":10,\"solidity\":0.2}},\"type\":\"bar\"}],\"scattergeo\":[{\"type\":\"scattergeo\",\"marker\":{\"colorbar\":{\"outlinewidth\":0,\"ticks\":\"\"}}}],\"scatterpolar\":[{\"type\":\"scatterpolar\",\"marker\":{\"colorbar\":{\"outlinewidth\":0,\"ticks\":\"\"}}}],\"histogram\":[{\"marker\":{\"pattern\":{\"fillmode\":\"overlay\",\"size\":10,\"solidity\":0.2}},\"type\":\"histogram\"}],\"scattergl\":[{\"type\":\"scattergl\",\"marker\":{\"colorbar\":{\"outlinewidth\":0,\"ticks\":\"\"}}}],\"scatter3d\":[{\"type\":\"scatter3d\",\"line\":{\"colorbar\":{\"outlinewidth\":0,\"ticks\":\"\"}},\"marker\":{\"colorbar\":{\"outlinewidth\":0,\"ticks\":\"\"}}}],\"scattermapbox\":[{\"type\":\"scattermapbox\",\"marker\":{\"colorbar\":{\"outlinewidth\":0,\"ticks\":\"\"}}}],\"scatterternary\":[{\"type\":\"scatterternary\",\"marker\":{\"colorbar\":{\"outlinewidth\":0,\"ticks\":\"\"}}}],\"scattercarpet\":[{\"type\":\"scattercarpet\",\"marker\":{\"colorbar\":{\"outlinewidth\":0,\"ticks\":\"\"}}}],\"carpet\":[{\"aaxis\":{\"endlinecolor\":\"#2a3f5f\",\"gridcolor\":\"white\",\"linecolor\":\"white\",\"minorgridcolor\":\"white\",\"startlinecolor\":\"#2a3f5f\"},\"baxis\":{\"endlinecolor\":\"#2a3f5f\",\"gridcolor\":\"white\",\"linecolor\":\"white\",\"minorgridcolor\":\"white\",\"startlinecolor\":\"#2a3f5f\"},\"type\":\"carpet\"}],\"table\":[{\"cells\":{\"fill\":{\"color\":\"#EBF0F8\"},\"line\":{\"color\":\"white\"}},\"header\":{\"fill\":{\"color\":\"#C8D4E3\"},\"line\":{\"color\":\"white\"}},\"type\":\"table\"}],\"barpolar\":[{\"marker\":{\"line\":{\"color\":\"#E5ECF6\",\"width\":0.5},\"pattern\":{\"fillmode\":\"overlay\",\"size\":10,\"solidity\":0.2}},\"type\":\"barpolar\"}],\"pie\":[{\"automargin\":true,\"type\":\"pie\"}]},\"layout\":{\"autotypenumbers\":\"strict\",\"colorway\":[\"#636efa\",\"#EF553B\",\"#00cc96\",\"#ab63fa\",\"#FFA15A\",\"#19d3f3\",\"#FF6692\",\"#B6E880\",\"#FF97FF\",\"#FECB52\"],\"font\":{\"color\":\"#2a3f5f\"},\"hovermode\":\"closest\",\"hoverlabel\":{\"align\":\"left\"},\"paper_bgcolor\":\"white\",\"plot_bgcolor\":\"#E5ECF6\",\"polar\":{\"bgcolor\":\"#E5ECF6\",\"angularaxis\":{\"gridcolor\":\"white\",\"linecolor\":\"white\",\"ticks\":\"\"},\"radialaxis\":{\"gridcolor\":\"white\",\"linecolor\":\"white\",\"ticks\":\"\"}},\"ternary\":{\"bgcolor\":\"#E5ECF6\",\"aaxis\":{\"gridcolor\":\"white\",\"linecolor\":\"white\",\"ticks\":\"\"},\"baxis\":{\"gridcolor\":\"white\",\"linecolor\":\"white\",\"ticks\":\"\"},\"caxis\":{\"gridcolor\":\"white\",\"linecolor\":\"white\",\"ticks\":\"\"}},\"coloraxis\":{\"colorbar\":{\"outlinewidth\":0,\"ticks\":\"\"}},\"colorscale\":{\"sequential\":[[0.0,\"#0d0887\"],[0.1111111111111111,\"#46039f\"],[0.2222222222222222,\"#7201a8\"],[0.3333333333333333,\"#9c179e\"],[0.4444444444444444,\"#bd3786\"],[0.5555555555555556,\"#d8576b\"],[0.6666666666666666,\"#ed7953\"],[0.7777777777777778,\"#fb9f3a\"],[0.8888888888888888,\"#fdca26\"],[1.0,\"#f0f921\"]],\"sequentialminus\":[[0.0,\"#0d0887\"],[0.1111111111111111,\"#46039f\"],[0.2222222222222222,\"#7201a8\"],[0.3333333333333333,\"#9c179e\"],[0.4444444444444444,\"#bd3786\"],[0.5555555555555556,\"#d8576b\"],[0.6666666666666666,\"#ed7953\"],[0.7777777777777778,\"#fb9f3a\"],[0.8888888888888888,\"#fdca26\"],[1.0,\"#f0f921\"]],\"diverging\":[[0,\"#8e0152\"],[0.1,\"#c51b7d\"],[0.2,\"#de77ae\"],[0.3,\"#f1b6da\"],[0.4,\"#fde0ef\"],[0.5,\"#f7f7f7\"],[0.6,\"#e6f5d0\"],[0.7,\"#b8e186\"],[0.8,\"#7fbc41\"],[0.9,\"#4d9221\"],[1,\"#276419\"]]},\"xaxis\":{\"gridcolor\":\"white\",\"linecolor\":\"white\",\"ticks\":\"\",\"title\":{\"standoff\":15},\"zerolinecolor\":\"white\",\"automargin\":true,\"zerolinewidth\":2},\"yaxis\":{\"gridcolor\":\"white\",\"linecolor\":\"white\",\"ticks\":\"\",\"title\":{\"standoff\":15},\"zerolinecolor\":\"white\",\"automargin\":true,\"zerolinewidth\":2},\"scene\":{\"xaxis\":{\"backgroundcolor\":\"#E5ECF6\",\"gridcolor\":\"white\",\"linecolor\":\"white\",\"showbackground\":true,\"ticks\":\"\",\"zerolinecolor\":\"white\",\"gridwidth\":2},\"yaxis\":{\"backgroundcolor\":\"#E5ECF6\",\"gridcolor\":\"white\",\"linecolor\":\"white\",\"showbackground\":true,\"ticks\":\"\",\"zerolinecolor\":\"white\",\"gridwidth\":2},\"zaxis\":{\"backgroundcolor\":\"#E5ECF6\",\"gridcolor\":\"white\",\"linecolor\":\"white\",\"showbackground\":true,\"ticks\":\"\",\"zerolinecolor\":\"white\",\"gridwidth\":2}},\"shapedefaults\":{\"line\":{\"color\":\"#2a3f5f\"}},\"annotationdefaults\":{\"arrowcolor\":\"#2a3f5f\",\"arrowhead\":0,\"arrowwidth\":1},\"geo\":{\"bgcolor\":\"white\",\"landcolor\":\"#E5ECF6\",\"subunitcolor\":\"white\",\"showland\":true,\"showlakes\":true,\"lakecolor\":\"white\"},\"title\":{\"x\":0.05},\"mapbox\":{\"style\":\"light\"}}},\"title\":{\"text\":\"Violin Plot of Mileage\"},\"width\":800,\"height\":600,\"yaxis\":{\"title\":{\"text\":\"Mileage\"}}},                        {\"responsive\": true}                    ).then(function(){\n",
              "                            \n",
              "var gd = document.getElementById('e26569ce-2c7c-4989-a687-3c6770c3f0ed');\n",
              "var x = new MutationObserver(function (mutations, observer) {{\n",
              "        var display = window.getComputedStyle(gd).display;\n",
              "        if (!display || display === 'none') {{\n",
              "            console.log([gd, 'removed!']);\n",
              "            Plotly.purge(gd);\n",
              "            observer.disconnect();\n",
              "        }}\n",
              "}});\n",
              "\n",
              "// Listen for the removal of the full notebook cells\n",
              "var notebookContainer = gd.closest('#notebook-container');\n",
              "if (notebookContainer) {{\n",
              "    x.observe(notebookContainer, {childList: true});\n",
              "}}\n",
              "\n",
              "// Listen for the clearing of the current output cell\n",
              "var outputEl = gd.closest('.output');\n",
              "if (outputEl) {{\n",
              "    x.observe(outputEl, {childList: true});\n",
              "}}\n",
              "\n",
              "                        })                };                            </script>        </div>\n",
              "</body>\n",
              "</html>"
            ]
          },
          "metadata": {}
        }
      ]
    },
    {
      "cell_type": "markdown",
      "source": [
        "### Q-Q plots ###"
      ],
      "metadata": {
        "id": "ygdGKGw8T30M"
      }
    },
    {
      "cell_type": "code",
      "source": [
        "# Q-Q plots\n",
        "probplot(regular, dist=\"norm\", plot=plt)\n",
        "plt.title('Q-Q Plot of Regular Gas Mileage')\n",
        "plt.show()\n",
        "\n",
        "probplot(with_additive, dist=\"norm\", plot=plt)\n",
        "plt.title('Q-Q Plot of Additive Gas Mileage')\n",
        "plt.show()"
      ],
      "metadata": {
        "colab": {
          "base_uri": "https://localhost:8080/",
          "height": 927
        },
        "outputId": "4b326ad2-b357-47fb-c3d7-82e86b8b14ce",
        "id": "GesjP-OlT30M"
      },
      "execution_count": 8,
      "outputs": [
        {
          "output_type": "display_data",
          "data": {
            "text/plain": [
              "<Figure size 640x480 with 1 Axes>"
            ],
            "image/png": "[encoded data removed]"
          },
          "metadata": {}
        },
        {
          "output_type": "display_data",
          "data": {
            "text/plain": [
              "<Figure size 640x480 with 1 Axes>"
            ],
            "image/png": "[encoded data removed]"
          },
          "metadata": {}
        }
      ]
    },
    {
      "cell_type": "markdown",
      "source": [
        "Comment: When we evaluate both Q-Q plots, it is possible to conclude from visual inspection that both data sets follow a normal distribution, supporting the findings from the Shapiro-Wilk Test. The Violin plot also show that there is likely a difference between the dataset where the additive is used and the dataset where it isnt, though the next chapter will quantify this probability."
      ],
      "metadata": {
        "id": "UowqIdIvUMss"
      }
    },
    {
      "cell_type": "markdown",
      "source": [
        "## (b) Even if they are not, assume normal distribution, and perform parametric tests at the 95% CL to verify the inventor’s claim. ##"
      ],
      "metadata": {
        "id": "IatlSxxQUzE-"
      }
    },
    {
      "cell_type": "markdown",
      "source": [
        "To verify the inventor's claim, we will use a paired t-test to evaluate the differences between the gas mileage of cars using regular gasoline and those using the gasoline with the additive. The paired [t-test](https://en.wikipedia.org/wiki/Student%27s_t-test) is appropriate here as it compares the means of two related groups (the same cars tested with and without the additive) to determine if there is a statistically significant difference between them. This test will help us assess whether the additive significantly increases gas mileage by the claimed 30 miles per filling.\n",
        "\n",
        "We first evaluate is the data sets are different or not\n",
        "\n",
        "Null Hypothesis (H0):\n",
        "The null hypothesis states that there is no difference in the mean gas mileage between the cars using regular gasoline and those using the gasoline additive. In other words, the mean difference between the two sets of observations is zero.\n",
        "\n",
        "Alternative Hypothesis (H1):\n",
        "The alternative hypothesis states that there is a difference in the mean gas mileage between the cars using regular gasoline and those using the gasoline additive. In other words, the mean difference between the two sets of observations is not zero."
      ],
      "metadata": {
        "id": "yFjdTXdiViZq"
      }
    },
    {
      "cell_type": "code",
      "source": [
        "# Parametric test\n",
        "# Perform paired t-test\n",
        "ttest_result = ttest_rel(with_additive, regular)\n",
        "\n",
        "# Results\n",
        "t_stat, p_value = ttest_result\n",
        "print(f\"T-statistic: {t_stat}, P-value: {p_value}\")\n",
        "\n",
        "alpha = 5/100\n",
        "# Interpretation\n",
        "if p_value < alpha:\n",
        "    print(\"Reject the null hypothesis: There is a significant difference in gas mileage with the additive.\")\n",
        "else:\n",
        "    print(\"Fail to reject the null hypothesis: There is no significant difference in gas mileage with the additive.\")"
      ],
      "metadata": {
        "colab": {
          "base_uri": "https://localhost:8080/"
        },
        "id": "hJ2YVgMNVLyc",
        "outputId": "fee74332-d33e-42a0-8fd2-0eddc3d2a595"
      },
      "execution_count": null,
      "outputs": [
        {
          "output_type": "stream",
          "name": "stdout",
          "text": [
            "T-statistic: 5.906931124580457, P-value: 0.0019796944062025245\n",
            "Reject the null hypothesis: There is a significant difference in gas mileage with the additive.\n"
          ]
        }
      ]
    },
    {
      "cell_type": "markdown",
      "source": [
        "Comment: We observe that the data sets differ. Now, we are interested in determining if these differences are significant at the inventor's claimed level of a 30-mile increase per filling (i.e., at least 30). To achieve this, we will evaluate the difference between the observed mileage and the claimed increase of 30 miles per filling.\n",
        "\n",
        "Null Hypothesis (H0): The mean difference in gas mileage is less than 30 miles per filling.\n",
        "\n",
        "Alternative Hypothesis (H1): The mean difference in gas mileage is greater than or equal to 30 miles per filling.\n",
        "\n",
        "\n",
        "To test if the gasoline additive achieves the claimed benefit of increasing gas mileage by at least 30 miles per filling, we can modify our hypotheses accordingly. This involves using a one-sample t-test on the differences between the gas mileage with and without the additive."
      ],
      "metadata": {
        "id": "DfeAhJdbXKDV"
      }
    },
    {
      "cell_type": "code",
      "source": [
        "# Calculate the differences\n",
        "differences = np.array(with_additive) - np.array(regular)\n",
        "\n",
        "# Perform one-sample t-test\n",
        "claimed_difference = 30*m\n",
        "t_stat, p_value = ttest_1samp(differences, claimed_difference)\n",
        "\n",
        "print(f\"T-statistic: {t_stat}, P-value: {p_value}\")\n",
        "\n",
        "# Since we are performing a one-tailed test, we need to divide the p-value by 2\n",
        "p_value_one_tailed = p_value / 2\n",
        "\n",
        "# Check if the mean difference is greater than or equal to 30\n",
        "if t_stat > 0 and p_value_one_tailed < alpha:\n",
        "    print(\"Reject the null hypothesis: The mean difference in gas mileage is greater than or equal to 30 miles per filling.\")\n",
        "else:\n",
        "    print(\"Fail to reject the null hypothesis: The mean difference in gas mileage is not significantly greater than or equal to 30 miles per filling.\")"
      ],
      "metadata": {
        "colab": {
          "base_uri": "https://localhost:8080/"
        },
        "id": "VhTi4N5Icxa1",
        "outputId": "078be7c8-f5a9-456a-99b1-5f6756344600"
      },
      "execution_count": null,
      "outputs": [
        {
          "output_type": "stream",
          "name": "stdout",
          "text": [
            "T-statistic: 0.5906931124580461, P-value: 0.5804138380204138\n",
            "Fail to reject the null hypothesis: The mean difference in gas mileage is not significantly greater than or equal to 30 miles per filling.\n"
          ]
        }
      ]
    },
    {
      "cell_type": "markdown",
      "source": [
        "Comment:Since the calculated p-value is 0.58, which is higher than our threshold of 0.05, we conclude that there is no statistically significant difference in gas mileage with the additive compared to the claimed increase of 30 miles per filling. This means that based on our sample data, we do not have sufficient evidence to support the inventor's claim that the additive increases gas mileage by 30 miles per filling. Therefore, the observed differences could likely be due to random variation rather than a true effect of the additive.\n",
        "\n"
      ],
      "metadata": {
        "id": "GRA_mO4qZwbP"
      }
    },
    {
      "cell_type": "markdown",
      "source": [
        "## (c) (This approach does not involve any assumptions about the shape of the distribution). Repeat the problem using the bootstrap method with 500 samples. and check the claim of 30% added mileage ##"
      ],
      "metadata": {
        "id": "9FtvkNGIdeX4"
      }
    },
    {
      "cell_type": "markdown",
      "source": [
        "Using the bootstrap method, we generated 500 samples and calculated the mean differences in gas mileage between the cars using the additive and regular gasoline."
      ],
      "metadata": {
        "id": "R19XuIULdeX5"
      }
    },
    {
      "cell_type": "code",
      "source": [
        "# Bootstrap function with seed\n",
        "# Bootstrap function with seed\n",
        "def bootstrap(data, n_samples=500, alpha=5, seed=42):\n",
        "    np.random.seed(seed)\n",
        "    boot_means = []\n",
        "    for _ in range(n_samples):\n",
        "        sample = data.sample(frac=1, replace=True)\n",
        "        boot_mean = sample['With_Additive'].mean() - sample['Regular'].mean()\n",
        "        boot_means.append(boot_mean)\n",
        "    return np.percentile(boot_means, [alpha/2, 100-alpha/2]), boot_means\n",
        "\n",
        "ci, boot_means = bootstrap(df)\n",
        "print(f\"Bootstrap 95% CI: {ci}\")"
      ],
      "metadata": {
        "colab": {
          "base_uri": "https://localhost:8080/"
        },
        "id": "PYtrWNr4dr8_",
        "outputId": "8c33c903-8f18-434e-8c1a-86a40be1f22a"
      },
      "execution_count": null,
      "outputs": [
        {
          "output_type": "stream",
          "name": "stdout",
          "text": [
            "Bootstrap 95% CI: [22.66666667 43.        ]\n"
          ]
        }
      ]
    },
    {
      "cell_type": "markdown",
      "source": [
        "Comment: The 95% confidence interval for the mean difference is calculated to be between 22.7 and 43 miles per filling. This means that while the upper bound of the confidence interval suggests that the mean increase could be as high as 43 miles per filling, the lower bound indicates that the increase could be as low as 22.7 miles per filling. Since 30 miles is not entirely within the confidence interval, we cannot conclusively say that the gasoline additive achieves the claimed benefit of increasing gas mileage by at least 30 miles per filling.\n",
        "\n",
        "Thus, based on the bootstrap confidence interval, we conclude that there is not sufficient evidence to support the claim that the gasoline additive increases gas mileage by at least 30 miles per filling. The actual increase could be lower than the claimed 30 miles."
      ],
      "metadata": {
        "id": "h6lohr3NeGAY"
      }
    },
    {
      "cell_type": "markdown",
      "source": [
        "## (d) Compare results from (b) and (c) ##"
      ],
      "metadata": {
        "id": "sJlPkwrJesLI"
      }
    },
    {
      "cell_type": "markdown",
      "source": [
        "Both the parametric t-test and the non-parametric bootstrap method lead to similar conclusions regarding the effectiveness of the gasoline additive.\n",
        "\n",
        "T-Statistic Test: The p-value of 0.58 indicates that there is no statistically significant evidence to support the claim that the additive increases gas mileage by at least 30 miles per filling.\n",
        "\n",
        "Bootstrap Method: The 95% confidence interval of [22.7, 43] suggests that while there is a potential increase in gas mileage, it is not definitively at least 30 miles per filling. The lower bound of the interval (22.7) being below 30 miles indicates that the claimed benefit may not be consistently achieved."
      ],
      "metadata": {
        "id": "B37q24xBesdQ"
      }
    },
    {
      "cell_type": "markdown",
      "source": [
        "# Conclusion #"
      ],
      "metadata": {
        "id": "E4jJIiL5e0KC"
      }
    },
    {
      "cell_type": "markdown",
      "source": [
        "Based on both the classical parametric t-test and the bootstrap method, we do not have sufficient evidence to support the inventor's claim that the gasoline additive increases gas mileage by at least 30 miles per filling. The observed data suggest that the actual increase in mileage could be less than the claimed 30 miles. Therefore, further investigation or additional data may be necessary to conclusively determine the additive's effectiveness."
      ],
      "metadata": {
        "id": "rYNVSuPCfLPo"
      }
    }
  ]
}