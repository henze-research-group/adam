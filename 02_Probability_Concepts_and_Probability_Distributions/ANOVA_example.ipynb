{
  "nbformat": 4,
  "nbformat_minor": 0,
  "metadata": {
    "colab": {
      "provenance": []
    },
    "kernelspec": {
      "name": "python3",
      "display_name": "Python 3"
    },
    "language_info": {
      "name": "python"
    }
  },
  "cells": [
    {
      "cell_type": "markdown",
      "source": [
        "**Note: Please create a local copy of this notebook on your Google account before using it**\n",
        "\n",
        "# *Data Science for Energy and Buildings*\n",
        "\n",
        "# *ANalysis Of VAriance*\n",
        "\n",
        "Authors: Tim Diller and Gregor Henze\n",
        "\n",
        "Created: August 14th, 2023\n",
        "\n",
        "\n",
        "\n",
        "In this chapter, we will explore the statistical technique known as Analysis of Variance (ANOVA), a tool that assists in evaluating differences among multiple groups. ANOVA is a systematic approach to determine whether observed differences between group means are statistically significant or if they could be attributed to random chance.\n",
        "\n",
        "## Functional Explanation:\n",
        "Consider a scenario with several groups, each subjected to different treatments or conditions. ANOVA comes into play by examining the variability present within each group's data. It achieves this by comparing the variance within each group to the variance observed between the groups. The primary question ANOVA addresses is: \"Are the observed differences in means substantial enough to conclude that they are statistically significant, or could they have occurred by chance?\"\n",
        "\n",
        "## Statistical Significance:\n",
        "In the toolkit of statistical methods, ANOVA holds a crucial role. Its utility lies in its ability to simultaneously account for the effects of multiple factors, making it a versatile analytical tool. By helping researchers discern whether the observed differences are likely to have real-world implications or are simply due to inherent variability, ANOVA guides decision-making based on experimental findings.\n",
        "\n",
        "Beyond its core functionality, ANOVA extends its usefulness to more complex experimental designs. It allows for the exploration of interactions among factors, which is valuable for revealing dependencies and uncovering nuanced relationships that might not be apparent through simpler analyses.\n",
        "\n",
        "## Practical Considerations:\n",
        "For those delving into ANOVA, adherence to certain assumptions is pivotal. Ideally, the data should demonstrate characteristics such as normality, homogeneity of variances, and independence, ensuring the robustness of the results. Armed with these methodological foundations, researchers can confidently navigate the ANOVA process.\n",
        "\n",
        "To summarize, ANOVA is a pragmatic cornerstone in statistical analysis. Its ability to evaluate group differences and distinguish genuine disparities from random fluctuations makes it an indispensable tool for researchers seeking meaningful insights from their data. As you delve into ANOVA's mechanics, you will gain a deeper understanding that enhances your analytical prowess. So, researchers, embrace ANOVA's functionality, and let its systematic approach shed light on the nuances of group comparisons."
      ],
      "metadata": {
        "id": "jIO_mJVCoP1Z"
      }
    },
    {
      "cell_type": "code",
      "source": [
        "import pandas as pd\n",
        "import numpy as np\n",
        "from scipy.stats import f_oneway\n",
        "from statsmodels.formula.api import ols\n",
        "from statsmodels.stats.anova import anova_lm\n",
        "import plotly.graph_objects as go\n",
        "import matplotlib.pyplot as plt\n",
        "\n",
        "np.random.seed(0)\n",
        "\n",
        "# Create a function to generate datasets\n",
        "def generate_dataset(treatment_effect, n_samples, baseline = 100, stdev = 20):\n",
        "\n",
        "    treatments = ['A', 'B']\n",
        "    data = []\n",
        "\n",
        "    for _ in range(n_samples):\n",
        "        treatment = np.random.choice(treatments)\n",
        "\n",
        "        if treatment == 'A':\n",
        "            score = np.random.normal(loc=baseline + treatment_effect, scale=stdev)\n",
        "        else:\n",
        "            score = np.random.normal(loc=baseline, scale=stdev)\n",
        "\n",
        "        data.append({'Treatment': treatment,'Score': score})\n",
        "\n",
        "    return pd.DataFrame(data)\n",
        "\n",
        "# Create and analyze four datasets\n",
        "datasets = []\n",
        "\n",
        "sample_sizes = [10, 20, 50, 80, 100, 200, 300, 1000, 10000]\n",
        "effects = [0, 1, 2, 4, 5, 10, 20, 50, 100]\n",
        "stdev =20\n",
        "\n",
        "max_sample = max(sample_sizes)\n",
        "\n",
        "for effect in effects:\n",
        "    datasets.append(generate_dataset(effect, max_sample, baseline=100, stdev=stdev))\n",
        "\n",
        "p_values = []\n",
        "\n",
        "for index, dataset in enumerate(datasets):\n",
        "    print(index, effects[index])\n",
        "    p_value_list = []\n",
        "    for sample_size in sample_sizes:\n",
        "        model = ols('Score ~ Treatment', data=dataset.head(sample_size)).fit()\n",
        "        anova_table = anova_lm(model, typ=2)\n",
        "\n",
        "        p_value_list.append(anova_table['PR(>F)']['Treatment'])  # Interaction p-value)\n",
        "\n",
        "    p_values.append(p_value_list)\n",
        "\n",
        "\n",
        "# Create a figure\n",
        "fig = go.Figure()\n",
        "\n",
        "# Add traces for each p_value_list\n",
        "for index, p_value_list in enumerate(p_values):\n",
        "    name = 'effect strength: ' + str(round(effects[index]/stdev, 3))\n",
        "    fig.add_trace(go.Scatter(x=sample_sizes, y=p_value_list, mode='lines+markers', name=name))\n",
        "\n",
        "# Set plot layout\n",
        "fig.update_layout(\n",
        "    title=\"P-Value Analysis for different effects and sample sizes\",\n",
        "    xaxis_title=\"Sample Sizes (log scale)\",\n",
        "    yaxis_title=\"P-Values\",\n",
        "    xaxis_type='log',  # Set x-axis to log scale\n",
        "    showlegend=True\n",
        ")\n",
        "\n",
        "# Show the plot\n",
        "fig.show()\n"
      ],
      "metadata": {
        "colab": {
          "base_uri": "https://localhost:8080/",
          "height": 703
        },
        "id": "29C52oKUoQbo",
        "outputId": "e229f755-0f10-4d93-9464-664b224fe30f"
      },
      "execution_count": null,
      "outputs": [
        {
          "output_type": "stream",
          "name": "stdout",
          "text": [
            "0 0\n",
            "1 1\n",
            "2 2\n",
            "3 4\n",
            "4 5\n",
            "5 10\n",
            "6 20\n",
            "7 50\n",
            "8 100\n"
          ]
        },
        {
          "output_type": "display_data",
          "data": {
            "text/html": [
              "<html>\n",
              "<head><meta charset=\"utf-8\" /></head>\n",
              "<body>\n",
              "    <div>            <script src=\"https://cdnjs.cloudflare.com/ajax/libs/mathjax/2.7.5/MathJax.js?config=TeX-AMS-MML_SVG\"></script><script type=\"text/javascript\">if (window.MathJax && window.MathJax.Hub && window.MathJax.Hub.Config) {window.MathJax.Hub.Config({SVG: {font: \"STIX-Web\"}});}</script>                <script type=\"text/javascript\">window.PlotlyConfig = {MathJaxConfig: 'local'};</script>\n",
              "        <script charset=\"utf-8\" src=\"https://cdn.plot.ly/plotly-2.24.1.min.js\"></script>                <div id=\"4ea2787f-c4ba-48f9-9322-870b8b11ddf1\" class=\"plotly-graph-div\" style=\"height:525px; width:100%;\"></div>            <script type=\"text/javascript\">                                    window.PLOTLYENV=window.PLOTLYENV || {};                                    if (document.getElementById(\"4ea2787f-c4ba-48f9-9322-870b8b11ddf1\")) {                    Plotly.newPlot(                        \"4ea2787f-c4ba-48f9-9322-870b8b11ddf1\",                        [{\"mode\":\"lines+markers\",\"name\":\"effect strength :0.0\",\"x\":[10,20,50,80,100,200,300,1000,10000],\"y\":[0.8137162502896971,0.5940360271598129,0.758645415109055,0.43954596290834747,0.871993916607146,0.37991607669500727,0.760654071439778,0.3216988851885838,0.7089862526469008],\"type\":\"scatter\"},{\"mode\":\"lines+markers\",\"name\":\"effect strength :0.05\",\"x\":[10,20,50,80,100,200,300,1000,10000],\"y\":[0.1283863909844821,0.38208001191078445,0.2320088986225521,0.9527464835494522,0.8905984925422831,0.8164276215412182,0.7052066782089963,0.8421440686234586,0.03996352064860311],\"type\":\"scatter\"},{\"mode\":\"lines+markers\",\"name\":\"effect strength :0.1\",\"x\":[10,20,50,80,100,200,300,1000,10000],\"y\":[0.8914060525020183,0.8747160305213605,0.9960032595574362,0.4002219537982826,0.9788773541303121,0.6072825885567461,0.3480819210702586,0.0011068929058928127,3.3001816524703547e-07],\"type\":\"scatter\"},{\"mode\":\"lines+markers\",\"name\":\"effect strength :0.2\",\"x\":[10,20,50,80,100,200,300,1000,10000],\"y\":[0.8698410063743359,0.2654208153220431,0.45279487385653217,0.9315255276041777,0.5368204402815253,0.16826806214886816,0.02274732551129427,0.00042145657779736406,8.133420832661952e-19],\"type\":\"scatter\"},{\"mode\":\"lines+markers\",\"name\":\"effect strength :0.25\",\"x\":[10,20,50,80,100,200,300,1000,10000],\"y\":[0.254112290521431,0.18148932687525138,0.37730171881576346,0.2758803758735172,0.24992327761193833,0.0187941876869567,0.008211504457371897,0.0007242902843077077,7.618701035223241e-47],\"type\":\"scatter\"},{\"mode\":\"lines+markers\",\"name\":\"effect strength :0.5\",\"x\":[10,20,50,80,100,200,300,1000,10000],\"y\":[0.17894495579242709,0.019001711683640357,0.0003339684976365525,0.00022964070294756867,2.3656055851426313e-05,0.00010571990227642372,4.789691728509008e-06,8.817769557629935e-13,2.4555376743953508e-123],\"type\":\"scatter\"},{\"mode\":\"lines+markers\",\"name\":\"effect strength :1.0\",\"x\":[10,20,50,80,100,200,300,1000,10000],\"y\":[0.24338389751912395,0.0022164820528188037,3.5055084345234935e-06,4.2723656317631494e-08,1.0685940489047846e-08,4.397908568792798e-12,3.1405345386148194e-16,6.885913135963743e-52,0.0],\"type\":\"scatter\"},{\"mode\":\"lines+markers\",\"name\":\"effect strength :2.5\",\"x\":[10,20,50,80,100,200,300,1000,10000],\"y\":[0.0006398773558414723,3.7382198118654195e-05,2.200719071244476e-11,2.9371810733070677e-20,2.8269233848152955e-25,4.6989505177675614e-48,3.202953345321683e-68,1.1102496111509015e-207,0.0],\"type\":\"scatter\"},{\"mode\":\"lines+markers\",\"name\":\"effect strength :5.0\",\"x\":[10,20,50,80,100,200,300,1000,10000],\"y\":[0.00024361509886400499,1.2578245440290814e-09,3.508564338733016e-22,1.990494745683151e-37,7.085068833681605e-45,6.187610742608656e-89,1.2334391015815375e-133,0.0,0.0],\"type\":\"scatter\"}],                        {\"template\":{\"data\":{\"histogram2dcontour\":[{\"type\":\"histogram2dcontour\",\"colorbar\":{\"outlinewidth\":0,\"ticks\":\"\"},\"colorscale\":[[0.0,\"#0d0887\"],[0.1111111111111111,\"#46039f\"],[0.2222222222222222,\"#7201a8\"],[0.3333333333333333,\"#9c179e\"],[0.4444444444444444,\"#bd3786\"],[0.5555555555555556,\"#d8576b\"],[0.6666666666666666,\"#ed7953\"],[0.7777777777777778,\"#fb9f3a\"],[0.8888888888888888,\"#fdca26\"],[1.0,\"#f0f921\"]]}],\"choropleth\":[{\"type\":\"choropleth\",\"colorbar\":{\"outlinewidth\":0,\"ticks\":\"\"}}],\"histogram2d\":[{\"type\":\"histogram2d\",\"colorbar\":{\"outlinewidth\":0,\"ticks\":\"\"},\"colorscale\":[[0.0,\"#0d0887\"],[0.1111111111111111,\"#46039f\"],[0.2222222222222222,\"#7201a8\"],[0.3333333333333333,\"#9c179e\"],[0.4444444444444444,\"#bd3786\"],[0.5555555555555556,\"#d8576b\"],[0.6666666666666666,\"#ed7953\"],[0.7777777777777778,\"#fb9f3a\"],[0.8888888888888888,\"#fdca26\"],[1.0,\"#f0f921\"]]}],\"heatmap\":[{\"type\":\"heatmap\",\"colorbar\":{\"outlinewidth\":0,\"ticks\":\"\"},\"colorscale\":[[0.0,\"#0d0887\"],[0.1111111111111111,\"#46039f\"],[0.2222222222222222,\"#7201a8\"],[0.3333333333333333,\"#9c179e\"],[0.4444444444444444,\"#bd3786\"],[0.5555555555555556,\"#d8576b\"],[0.6666666666666666,\"#ed7953\"],[0.7777777777777778,\"#fb9f3a\"],[0.8888888888888888,\"#fdca26\"],[1.0,\"#f0f921\"]]}],\"heatmapgl\":[{\"type\":\"heatmapgl\",\"colorbar\":{\"outlinewidth\":0,\"ticks\":\"\"},\"colorscale\":[[0.0,\"#0d0887\"],[0.1111111111111111,\"#46039f\"],[0.2222222222222222,\"#7201a8\"],[0.3333333333333333,\"#9c179e\"],[0.4444444444444444,\"#bd3786\"],[0.5555555555555556,\"#d8576b\"],[0.6666666666666666,\"#ed7953\"],[0.7777777777777778,\"#fb9f3a\"],[0.8888888888888888,\"#fdca26\"],[1.0,\"#f0f921\"]]}],\"contourcarpet\":[{\"type\":\"contourcarpet\",\"colorbar\":{\"outlinewidth\":0,\"ticks\":\"\"}}],\"contour\":[{\"type\":\"contour\",\"colorbar\":{\"outlinewidth\":0,\"ticks\":\"\"},\"colorscale\":[[0.0,\"#0d0887\"],[0.1111111111111111,\"#46039f\"],[0.2222222222222222,\"#7201a8\"],[0.3333333333333333,\"#9c179e\"],[0.4444444444444444,\"#bd3786\"],[0.5555555555555556,\"#d8576b\"],[0.6666666666666666,\"#ed7953\"],[0.7777777777777778,\"#fb9f3a\"],[0.8888888888888888,\"#fdca26\"],[1.0,\"#f0f921\"]]}],\"surface\":[{\"type\":\"surface\",\"colorbar\":{\"outlinewidth\":0,\"ticks\":\"\"},\"colorscale\":[[0.0,\"#0d0887\"],[0.1111111111111111,\"#46039f\"],[0.2222222222222222,\"#7201a8\"],[0.3333333333333333,\"#9c179e\"],[0.4444444444444444,\"#bd3786\"],[0.5555555555555556,\"#d8576b\"],[0.6666666666666666,\"#ed7953\"],[0.7777777777777778,\"#fb9f3a\"],[0.8888888888888888,\"#fdca26\"],[1.0,\"#f0f921\"]]}],\"mesh3d\":[{\"type\":\"mesh3d\",\"colorbar\":{\"outlinewidth\":0,\"ticks\":\"\"}}],\"scatter\":[{\"fillpattern\":{\"fillmode\":\"overlay\",\"size\":10,\"solidity\":0.2},\"type\":\"scatter\"}],\"parcoords\":[{\"type\":\"parcoords\",\"line\":{\"colorbar\":{\"outlinewidth\":0,\"ticks\":\"\"}}}],\"scatterpolargl\":[{\"type\":\"scatterpolargl\",\"marker\":{\"colorbar\":{\"outlinewidth\":0,\"ticks\":\"\"}}}],\"bar\":[{\"error_x\":{\"color\":\"#2a3f5f\"},\"error_y\":{\"color\":\"#2a3f5f\"},\"marker\":{\"line\":{\"color\":\"#E5ECF6\",\"width\":0.5},\"pattern\":{\"fillmode\":\"overlay\",\"size\":10,\"solidity\":0.2}},\"type\":\"bar\"}],\"scattergeo\":[{\"type\":\"scattergeo\",\"marker\":{\"colorbar\":{\"outlinewidth\":0,\"ticks\":\"\"}}}],\"scatterpolar\":[{\"type\":\"scatterpolar\",\"marker\":{\"colorbar\":{\"outlinewidth\":0,\"ticks\":\"\"}}}],\"histogram\":[{\"marker\":{\"pattern\":{\"fillmode\":\"overlay\",\"size\":10,\"solidity\":0.2}},\"type\":\"histogram\"}],\"scattergl\":[{\"type\":\"scattergl\",\"marker\":{\"colorbar\":{\"outlinewidth\":0,\"ticks\":\"\"}}}],\"scatter3d\":[{\"type\":\"scatter3d\",\"line\":{\"colorbar\":{\"outlinewidth\":0,\"ticks\":\"\"}},\"marker\":{\"colorbar\":{\"outlinewidth\":0,\"ticks\":\"\"}}}],\"scattermapbox\":[{\"type\":\"scattermapbox\",\"marker\":{\"colorbar\":{\"outlinewidth\":0,\"ticks\":\"\"}}}],\"scatterternary\":[{\"type\":\"scatterternary\",\"marker\":{\"colorbar\":{\"outlinewidth\":0,\"ticks\":\"\"}}}],\"scattercarpet\":[{\"type\":\"scattercarpet\",\"marker\":{\"colorbar\":{\"outlinewidth\":0,\"ticks\":\"\"}}}],\"carpet\":[{\"aaxis\":{\"endlinecolor\":\"#2a3f5f\",\"gridcolor\":\"white\",\"linecolor\":\"white\",\"minorgridcolor\":\"white\",\"startlinecolor\":\"#2a3f5f\"},\"baxis\":{\"endlinecolor\":\"#2a3f5f\",\"gridcolor\":\"white\",\"linecolor\":\"white\",\"minorgridcolor\":\"white\",\"startlinecolor\":\"#2a3f5f\"},\"type\":\"carpet\"}],\"table\":[{\"cells\":{\"fill\":{\"color\":\"#EBF0F8\"},\"line\":{\"color\":\"white\"}},\"header\":{\"fill\":{\"color\":\"#C8D4E3\"},\"line\":{\"color\":\"white\"}},\"type\":\"table\"}],\"barpolar\":[{\"marker\":{\"line\":{\"color\":\"#E5ECF6\",\"width\":0.5},\"pattern\":{\"fillmode\":\"overlay\",\"size\":10,\"solidity\":0.2}},\"type\":\"barpolar\"}],\"pie\":[{\"automargin\":true,\"type\":\"pie\"}]},\"layout\":{\"autotypenumbers\":\"strict\",\"colorway\":[\"#636efa\",\"#EF553B\",\"#00cc96\",\"#ab63fa\",\"#FFA15A\",\"#19d3f3\",\"#FF6692\",\"#B6E880\",\"#FF97FF\",\"#FECB52\"],\"font\":{\"color\":\"#2a3f5f\"},\"hovermode\":\"closest\",\"hoverlabel\":{\"align\":\"left\"},\"paper_bgcolor\":\"white\",\"plot_bgcolor\":\"#E5ECF6\",\"polar\":{\"bgcolor\":\"#E5ECF6\",\"angularaxis\":{\"gridcolor\":\"white\",\"linecolor\":\"white\",\"ticks\":\"\"},\"radialaxis\":{\"gridcolor\":\"white\",\"linecolor\":\"white\",\"ticks\":\"\"}},\"ternary\":{\"bgcolor\":\"#E5ECF6\",\"aaxis\":{\"gridcolor\":\"white\",\"linecolor\":\"white\",\"ticks\":\"\"},\"baxis\":{\"gridcolor\":\"white\",\"linecolor\":\"white\",\"ticks\":\"\"},\"caxis\":{\"gridcolor\":\"white\",\"linecolor\":\"white\",\"ticks\":\"\"}},\"coloraxis\":{\"colorbar\":{\"outlinewidth\":0,\"ticks\":\"\"}},\"colorscale\":{\"sequential\":[[0.0,\"#0d0887\"],[0.1111111111111111,\"#46039f\"],[0.2222222222222222,\"#7201a8\"],[0.3333333333333333,\"#9c179e\"],[0.4444444444444444,\"#bd3786\"],[0.5555555555555556,\"#d8576b\"],[0.6666666666666666,\"#ed7953\"],[0.7777777777777778,\"#fb9f3a\"],[0.8888888888888888,\"#fdca26\"],[1.0,\"#f0f921\"]],\"sequentialminus\":[[0.0,\"#0d0887\"],[0.1111111111111111,\"#46039f\"],[0.2222222222222222,\"#7201a8\"],[0.3333333333333333,\"#9c179e\"],[0.4444444444444444,\"#bd3786\"],[0.5555555555555556,\"#d8576b\"],[0.6666666666666666,\"#ed7953\"],[0.7777777777777778,\"#fb9f3a\"],[0.8888888888888888,\"#fdca26\"],[1.0,\"#f0f921\"]],\"diverging\":[[0,\"#8e0152\"],[0.1,\"#c51b7d\"],[0.2,\"#de77ae\"],[0.3,\"#f1b6da\"],[0.4,\"#fde0ef\"],[0.5,\"#f7f7f7\"],[0.6,\"#e6f5d0\"],[0.7,\"#b8e186\"],[0.8,\"#7fbc41\"],[0.9,\"#4d9221\"],[1,\"#276419\"]]},\"xaxis\":{\"gridcolor\":\"white\",\"linecolor\":\"white\",\"ticks\":\"\",\"title\":{\"standoff\":15},\"zerolinecolor\":\"white\",\"automargin\":true,\"zerolinewidth\":2},\"yaxis\":{\"gridcolor\":\"white\",\"linecolor\":\"white\",\"ticks\":\"\",\"title\":{\"standoff\":15},\"zerolinecolor\":\"white\",\"automargin\":true,\"zerolinewidth\":2},\"scene\":{\"xaxis\":{\"backgroundcolor\":\"#E5ECF6\",\"gridcolor\":\"white\",\"linecolor\":\"white\",\"showbackground\":true,\"ticks\":\"\",\"zerolinecolor\":\"white\",\"gridwidth\":2},\"yaxis\":{\"backgroundcolor\":\"#E5ECF6\",\"gridcolor\":\"white\",\"linecolor\":\"white\",\"showbackground\":true,\"ticks\":\"\",\"zerolinecolor\":\"white\",\"gridwidth\":2},\"zaxis\":{\"backgroundcolor\":\"#E5ECF6\",\"gridcolor\":\"white\",\"linecolor\":\"white\",\"showbackground\":true,\"ticks\":\"\",\"zerolinecolor\":\"white\",\"gridwidth\":2}},\"shapedefaults\":{\"line\":{\"color\":\"#2a3f5f\"}},\"annotationdefaults\":{\"arrowcolor\":\"#2a3f5f\",\"arrowhead\":0,\"arrowwidth\":1},\"geo\":{\"bgcolor\":\"white\",\"landcolor\":\"#E5ECF6\",\"subunitcolor\":\"white\",\"showland\":true,\"showlakes\":true,\"lakecolor\":\"white\"},\"title\":{\"x\":0.05},\"mapbox\":{\"style\":\"light\"}}},\"xaxis\":{\"title\":{\"text\":\"Sample Sizes (log scale)\"},\"type\":\"log\"},\"title\":{\"text\":\"P-Value Analysis for different effects and sample sizes\"},\"yaxis\":{\"title\":{\"text\":\"P-Values\"}},\"showlegend\":true},                        {\"responsive\": true}                    ).then(function(){\n",
              "                            \n",
              "var gd = document.getElementById('4ea2787f-c4ba-48f9-9322-870b8b11ddf1');\n",
              "var x = new MutationObserver(function (mutations, observer) {{\n",
              "        var display = window.getComputedStyle(gd).display;\n",
              "        if (!display || display === 'none') {{\n",
              "            console.log([gd, 'removed!']);\n",
              "            Plotly.purge(gd);\n",
              "            observer.disconnect();\n",
              "        }}\n",
              "}});\n",
              "\n",
              "// Listen for the removal of the full notebook cells\n",
              "var notebookContainer = gd.closest('#notebook-container');\n",
              "if (notebookContainer) {{\n",
              "    x.observe(notebookContainer, {childList: true});\n",
              "}}\n",
              "\n",
              "// Listen for the clearing of the current output cell\n",
              "var outputEl = gd.closest('.output');\n",
              "if (outputEl) {{\n",
              "    x.observe(outputEl, {childList: true});\n",
              "}}\n",
              "\n",
              "                        })                };                            </script>        </div>\n",
              "</body>\n",
              "</html>"
            ]
          },
          "metadata": {}
        }
      ]
    }
  ]
}