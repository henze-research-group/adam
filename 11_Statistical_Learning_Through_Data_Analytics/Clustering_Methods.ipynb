{
  "nbformat": 4,
  "nbformat_minor": 0,
  "metadata": {
    "colab": {
      "provenance": []
    },
    "kernelspec": {
      "name": "python3",
      "display_name": "Python 3"
    },
    "language_info": {
      "name": "python"
    }
  },
  "cells": [
    {
      "cell_type": "markdown",
      "source": [
        "# **Clustering Analysis of Weather Data**\n",
        "### Author: *Phani Arvind Vadali*\n",
        "\n",
        "In this study, weather data from Boulder, CO obtained from the Energy Plus weather (epw) file will be analyzed in an unsupervised manner. The objective of the study is to find patterns in weather data."
      ],
      "metadata": {
        "id": "VcYgyU82kNhV"
      }
    },
    {
      "cell_type": "markdown",
      "source": [
        "## Mount Drive"
      ],
      "metadata": {
        "id": "yOXU9lpfMI8v"
      }
    },
    {
      "cell_type": "code",
      "source": [
        "from google.colab import drive  # The google colab module to access folders on GDrive\n",
        "import os  # the python module for all things related to the OS.\n",
        "\n",
        "# we mount our gDrive drive at the startpoint\n",
        "drive.mount('/content/drive')\n",
        "\n",
        "# change that into the path you want to change into (as if you were starting in your current root folder in drive)\n",
        "my_folder_path = \"AREN5030/HOMEWORKS/HW6\"\n",
        "\n",
        "# we navigate to the target folder\n",
        "os.chdir(\"drive/My Drive/\" + my_folder_path)"
      ],
      "metadata": {
        "colab": {
          "base_uri": "https://localhost:8080/"
        },
        "id": "g3n0hCFdHxL_",
        "outputId": "0f561320-4b89-4921-de3c-7917e88db2d9"
      },
      "execution_count": null,
      "outputs": [
        {
          "output_type": "stream",
          "name": "stdout",
          "text": [
            "Mounted at /content/drive\n"
          ]
        }
      ]
    },
    {
      "cell_type": "markdown",
      "source": [
        "## Import all packages"
      ],
      "metadata": {
        "id": "A01pjea9MNCG"
      }
    },
    {
      "cell_type": "code",
      "execution_count": null,
      "metadata": {
        "id": "n6mLkN3akK80"
      },
      "outputs": [],
      "source": [
        "import pandas as pd\n",
        "import numpy as np\n",
        "import plotly.graph_objects as go\n",
        "import plotly.express as px\n",
        "import plotly.subplots as sp\n",
        "import random\n",
        "import itertools\n",
        "from sklearn.model_selection import KFold\n",
        "from sklearn.preprocessing import StandardScaler\n",
        "from sklearn.decomposition import PCA\n",
        "from sklearn.model_selection import GridSearchCV, train_test_split, cross_val_score\n",
        "from sklearn.metrics import confusion_matrix, accuracy_score, recall_score, make_scorer, r2_score\n",
        "from sklearn.cluster import KMeans, AgglomerativeClustering\n",
        "from scipy.cluster.hierarchy import dendrogram, linkage, cut_tree"
      ]
    },
    {
      "cell_type": "markdown",
      "source": [
        "## Import Data\n",
        "Extract data from a csv file to a dataframe and set index in datetime format."
      ],
      "metadata": {
        "id": "ejMYv5PzMQUr"
      }
    },
    {
      "cell_type": "code",
      "source": [
        "df = pd.read_csv(\"BoulderWeather.csv\")\n",
        "TimeRange = pd.date_range(start = pd.to_datetime(\"2023-01-01 01:00:00\"),end=pd.to_datetime(\"2024-01-01 00:00:00\"),freq=\"1H\")\n",
        "df = df.set_index(TimeRange)\n",
        "df = df.drop(columns=[\"HH:MM\",\"Date\"])\n",
        "df = pd.concat([pd.DataFrame(index=[pd.to_datetime(\"2023-01-01 00:00:00\")],columns=df.columns,data=df.iloc[[-1]].values),df])\n",
        "df = df.iloc[:-1]\n",
        "df.head()"
      ],
      "metadata": {
        "id": "iBdEKezOKHMT",
        "colab": {
          "base_uri": "https://localhost:8080/",
          "height": 516
        },
        "outputId": "2b893815-f9f9-4e30-9632-71a0f1ba57b0"
      },
      "execution_count": null,
      "outputs": [
        {
          "output_type": "execute_result",
          "data": {
            "text/plain": [
              "                     Dry Bulb Temperature {C}  Dew Point Temperature {C}  \\\n",
              "2023-01-01 00:00:00                     -13.0                      -15.0   \n",
              "2023-01-01 01:00:00                     -13.0                      -16.0   \n",
              "2023-01-01 02:00:00                     -14.0                      -16.0   \n",
              "2023-01-01 03:00:00                     -14.0                      -16.0   \n",
              "2023-01-01 04:00:00                     -15.0                      -17.0   \n",
              "\n",
              "                     Relative Humidity {%}  Atmospheric Pressure {Pa}  \\\n",
              "2023-01-01 00:00:00                   83.0                    82331.0   \n",
              "2023-01-01 01:00:00                   76.0                    82331.0   \n",
              "2023-01-01 02:00:00                   83.0                    82267.0   \n",
              "2023-01-01 03:00:00                   83.0                    82267.0   \n",
              "2023-01-01 04:00:00                   83.0                    82202.0   \n",
              "\n",
              "                     Extraterrestrial Horizontal Radiation {Wh/m2}  \\\n",
              "2023-01-01 00:00:00                                            0.0   \n",
              "2023-01-01 01:00:00                                            0.0   \n",
              "2023-01-01 02:00:00                                            0.0   \n",
              "2023-01-01 03:00:00                                            0.0   \n",
              "2023-01-01 04:00:00                                            0.0   \n",
              "\n",
              "                     Extraterrestrial Direct Normal Radiation {Wh/m2}  \\\n",
              "2023-01-01 00:00:00                                               0.0   \n",
              "2023-01-01 01:00:00                                               0.0   \n",
              "2023-01-01 02:00:00                                               0.0   \n",
              "2023-01-01 03:00:00                                               0.0   \n",
              "2023-01-01 04:00:00                                               0.0   \n",
              "\n",
              "                     Horizontal Infrared Radiation Intensity from Sky {Wh/m2}  \\\n",
              "2023-01-01 00:00:00                                              212.0          \n",
              "2023-01-01 01:00:00                                              207.0          \n",
              "2023-01-01 02:00:00                                              200.0          \n",
              "2023-01-01 03:00:00                                              210.0          \n",
              "2023-01-01 04:00:00                                              214.0          \n",
              "\n",
              "                     Global Horizontal Radiation {Wh/m2}  \\\n",
              "2023-01-01 00:00:00                                  0.0   \n",
              "2023-01-01 01:00:00                                  0.0   \n",
              "2023-01-01 02:00:00                                  0.0   \n",
              "2023-01-01 03:00:00                                  0.0   \n",
              "2023-01-01 04:00:00                                  0.0   \n",
              "\n",
              "                     Direct Normal Radiation {Wh/m2}  \\\n",
              "2023-01-01 00:00:00                              0.0   \n",
              "2023-01-01 01:00:00                              0.0   \n",
              "2023-01-01 02:00:00                              0.0   \n",
              "2023-01-01 03:00:00                              0.0   \n",
              "2023-01-01 04:00:00                              0.0   \n",
              "\n",
              "                     Diffuse Horizontal Radiation {Wh/m2}  ...  \\\n",
              "2023-01-01 00:00:00                                   0.0  ...   \n",
              "2023-01-01 01:00:00                                   0.0  ...   \n",
              "2023-01-01 02:00:00                                   0.0  ...   \n",
              "2023-01-01 03:00:00                                   0.0  ...   \n",
              "2023-01-01 04:00:00                                   0.0  ...   \n",
              "\n",
              "                     Visibility {km}  Ceiling Height {m}  \\\n",
              "2023-01-01 00:00:00           8047.0               457.0   \n",
              "2023-01-01 01:00:00            777.7               610.0   \n",
              "2023-01-01 02:00:00           6437.0               427.0   \n",
              "2023-01-01 03:00:00           6437.0               792.0   \n",
              "2023-01-01 04:00:00           6437.0               579.0   \n",
              "\n",
              "                     Present Weather Observation  Precipitable Water {mm}  \\\n",
              "2023-01-01 00:00:00                          0.0                      2.0   \n",
              "2023-01-01 01:00:00                          0.0                      2.0   \n",
              "2023-01-01 02:00:00                          0.0                      2.0   \n",
              "2023-01-01 03:00:00                          0.0                      2.0   \n",
              "2023-01-01 04:00:00                          0.0                      2.0   \n",
              "\n",
              "                     Aerosol Optical Depth {.001}  Snow Depth {cm}  \\\n",
              "2023-01-01 00:00:00                         0.085             11.0   \n",
              "2023-01-01 01:00:00                         0.085             12.0   \n",
              "2023-01-01 02:00:00                         0.085             12.0   \n",
              "2023-01-01 03:00:00                         0.085             12.0   \n",
              "2023-01-01 04:00:00                         0.085             11.0   \n",
              "\n",
              "                     Days Since Last Snow  Albedo {.01}  \\\n",
              "2023-01-01 00:00:00                  88.0          0.55   \n",
              "2023-01-01 01:00:00                  88.0          0.56   \n",
              "2023-01-01 02:00:00                  88.0          0.56   \n",
              "2023-01-01 03:00:00                  88.0          0.56   \n",
              "2023-01-01 04:00:00                  88.0          0.54   \n",
              "\n",
              "                     Liquid Precipitation Depth {mm}  \\\n",
              "2023-01-01 00:00:00                              0.1   \n",
              "2023-01-01 01:00:00                              0.1   \n",
              "2023-01-01 02:00:00                              0.0   \n",
              "2023-01-01 03:00:00                              0.0   \n",
              "2023-01-01 04:00:00                              0.0   \n",
              "\n",
              "                     Liquid Precipitation Quantity {hr}  \n",
              "2023-01-01 00:00:00                                 0.0  \n",
              "2023-01-01 01:00:00                                 0.0  \n",
              "2023-01-01 02:00:00                                 0.0  \n",
              "2023-01-01 03:00:00                                 0.0  \n",
              "2023-01-01 04:00:00                                 0.0  \n",
              "\n",
              "[5 rows x 28 columns]"
            ],
            "text/html": [
              "\n",
              "  <div id=\"df-03a8c598-03a0-4a37-ae4d-0930f95214cb\" class=\"colab-df-container\">\n",
              "    <div>\n",
              "<style scoped>\n",
              "    .dataframe tbody tr th:only-of-type {\n",
              "        vertical-align: middle;\n",
              "    }\n",
              "\n",
              "    .dataframe tbody tr th {\n",
              "        vertical-align: top;\n",
              "    }\n",
              "\n",
              "    .dataframe thead th {\n",
              "        text-align: right;\n",
              "    }\n",
              "</style>\n",
              "<table border=\"1\" class=\"dataframe\">\n",
              "  <thead>\n",
              "    <tr style=\"text-align: right;\">\n",
              "      <th></th>\n",
              "      <th>Dry Bulb Temperature {C}</th>\n",
              "      <th>Dew Point Temperature {C}</th>\n",
              "      <th>Relative Humidity {%}</th>\n",
              "      <th>Atmospheric Pressure {Pa}</th>\n",
              "      <th>Extraterrestrial Horizontal Radiation {Wh/m2}</th>\n",
              "      <th>Extraterrestrial Direct Normal Radiation {Wh/m2}</th>\n",
              "      <th>Horizontal Infrared Radiation Intensity from Sky {Wh/m2}</th>\n",
              "      <th>Global Horizontal Radiation {Wh/m2}</th>\n",
              "      <th>Direct Normal Radiation {Wh/m2}</th>\n",
              "      <th>Diffuse Horizontal Radiation {Wh/m2}</th>\n",
              "      <th>...</th>\n",
              "      <th>Visibility {km}</th>\n",
              "      <th>Ceiling Height {m}</th>\n",
              "      <th>Present Weather Observation</th>\n",
              "      <th>Precipitable Water {mm}</th>\n",
              "      <th>Aerosol Optical Depth {.001}</th>\n",
              "      <th>Snow Depth {cm}</th>\n",
              "      <th>Days Since Last Snow</th>\n",
              "      <th>Albedo {.01}</th>\n",
              "      <th>Liquid Precipitation Depth {mm}</th>\n",
              "      <th>Liquid Precipitation Quantity {hr}</th>\n",
              "    </tr>\n",
              "  </thead>\n",
              "  <tbody>\n",
              "    <tr>\n",
              "      <th>2023-01-01 00:00:00</th>\n",
              "      <td>-13.0</td>\n",
              "      <td>-15.0</td>\n",
              "      <td>83.0</td>\n",
              "      <td>82331.0</td>\n",
              "      <td>0.0</td>\n",
              "      <td>0.0</td>\n",
              "      <td>212.0</td>\n",
              "      <td>0.0</td>\n",
              "      <td>0.0</td>\n",
              "      <td>0.0</td>\n",
              "      <td>...</td>\n",
              "      <td>8047.0</td>\n",
              "      <td>457.0</td>\n",
              "      <td>0.0</td>\n",
              "      <td>2.0</td>\n",
              "      <td>0.085</td>\n",
              "      <td>11.0</td>\n",
              "      <td>88.0</td>\n",
              "      <td>0.55</td>\n",
              "      <td>0.1</td>\n",
              "      <td>0.0</td>\n",
              "    </tr>\n",
              "    <tr>\n",
              "      <th>2023-01-01 01:00:00</th>\n",
              "      <td>-13.0</td>\n",
              "      <td>-16.0</td>\n",
              "      <td>76.0</td>\n",
              "      <td>82331.0</td>\n",
              "      <td>0.0</td>\n",
              "      <td>0.0</td>\n",
              "      <td>207.0</td>\n",
              "      <td>0.0</td>\n",
              "      <td>0.0</td>\n",
              "      <td>0.0</td>\n",
              "      <td>...</td>\n",
              "      <td>777.7</td>\n",
              "      <td>610.0</td>\n",
              "      <td>0.0</td>\n",
              "      <td>2.0</td>\n",
              "      <td>0.085</td>\n",
              "      <td>12.0</td>\n",
              "      <td>88.0</td>\n",
              "      <td>0.56</td>\n",
              "      <td>0.1</td>\n",
              "      <td>0.0</td>\n",
              "    </tr>\n",
              "    <tr>\n",
              "      <th>2023-01-01 02:00:00</th>\n",
              "      <td>-14.0</td>\n",
              "      <td>-16.0</td>\n",
              "      <td>83.0</td>\n",
              "      <td>82267.0</td>\n",
              "      <td>0.0</td>\n",
              "      <td>0.0</td>\n",
              "      <td>200.0</td>\n",
              "      <td>0.0</td>\n",
              "      <td>0.0</td>\n",
              "      <td>0.0</td>\n",
              "      <td>...</td>\n",
              "      <td>6437.0</td>\n",
              "      <td>427.0</td>\n",
              "      <td>0.0</td>\n",
              "      <td>2.0</td>\n",
              "      <td>0.085</td>\n",
              "      <td>12.0</td>\n",
              "      <td>88.0</td>\n",
              "      <td>0.56</td>\n",
              "      <td>0.0</td>\n",
              "      <td>0.0</td>\n",
              "    </tr>\n",
              "    <tr>\n",
              "      <th>2023-01-01 03:00:00</th>\n",
              "      <td>-14.0</td>\n",
              "      <td>-16.0</td>\n",
              "      <td>83.0</td>\n",
              "      <td>82267.0</td>\n",
              "      <td>0.0</td>\n",
              "      <td>0.0</td>\n",
              "      <td>210.0</td>\n",
              "      <td>0.0</td>\n",
              "      <td>0.0</td>\n",
              "      <td>0.0</td>\n",
              "      <td>...</td>\n",
              "      <td>6437.0</td>\n",
              "      <td>792.0</td>\n",
              "      <td>0.0</td>\n",
              "      <td>2.0</td>\n",
              "      <td>0.085</td>\n",
              "      <td>12.0</td>\n",
              "      <td>88.0</td>\n",
              "      <td>0.56</td>\n",
              "      <td>0.0</td>\n",
              "      <td>0.0</td>\n",
              "    </tr>\n",
              "    <tr>\n",
              "      <th>2023-01-01 04:00:00</th>\n",
              "      <td>-15.0</td>\n",
              "      <td>-17.0</td>\n",
              "      <td>83.0</td>\n",
              "      <td>82202.0</td>\n",
              "      <td>0.0</td>\n",
              "      <td>0.0</td>\n",
              "      <td>214.0</td>\n",
              "      <td>0.0</td>\n",
              "      <td>0.0</td>\n",
              "      <td>0.0</td>\n",
              "      <td>...</td>\n",
              "      <td>6437.0</td>\n",
              "      <td>579.0</td>\n",
              "      <td>0.0</td>\n",
              "      <td>2.0</td>\n",
              "      <td>0.085</td>\n",
              "      <td>11.0</td>\n",
              "      <td>88.0</td>\n",
              "      <td>0.54</td>\n",
              "      <td>0.0</td>\n",
              "      <td>0.0</td>\n",
              "    </tr>\n",
              "  </tbody>\n",
              "</table>\n",
              "<p>5 rows × 28 columns</p>\n",
              "</div>\n",
              "    <div class=\"colab-df-buttons\">\n",
              "\n",
              "  <div class=\"colab-df-container\">\n",
              "    <button class=\"colab-df-convert\" onclick=\"convertToInteractive('df-03a8c598-03a0-4a37-ae4d-0930f95214cb')\"\n",
              "            title=\"Convert this dataframe to an interactive table.\"\n",
              "            style=\"display:none;\">\n",
              "\n",
              "  <svg xmlns=\"http://www.w3.org/2000/svg\" height=\"24px\" viewBox=\"0 -960 960 960\">\n",
              "    <path d=\"M120-120v-720h720v720H120Zm60-500h600v-160H180v160Zm220 220h160v-160H400v160Zm0 220h160v-160H400v160ZM180-400h160v-160H180v160Zm440 0h160v-160H620v160ZM180-180h160v-160H180v160Zm440 0h160v-160H620v160Z\"/>\n",
              "  </svg>\n",
              "    </button>\n",
              "\n",
              "  <style>\n",
              "    .colab-df-container {\n",
              "      display:flex;\n",
              "      gap: 12px;\n",
              "    }\n",
              "\n",
              "    .colab-df-convert {\n",
              "      background-color: #E8F0FE;\n",
              "      border: none;\n",
              "      border-radius: 50%;\n",
              "      cursor: pointer;\n",
              "      display: none;\n",
              "      fill: #1967D2;\n",
              "      height: 32px;\n",
              "      padding: 0 0 0 0;\n",
              "      width: 32px;\n",
              "    }\n",
              "\n",
              "    .colab-df-convert:hover {\n",
              "      background-color: #E2EBFA;\n",
              "      box-shadow: 0px 1px 2px rgba(60, 64, 67, 0.3), 0px 1px 3px 1px rgba(60, 64, 67, 0.15);\n",
              "      fill: #174EA6;\n",
              "    }\n",
              "\n",
              "    .colab-df-buttons div {\n",
              "      margin-bottom: 4px;\n",
              "    }\n",
              "\n",
              "    [theme=dark] .colab-df-convert {\n",
              "      background-color: #3B4455;\n",
              "      fill: #D2E3FC;\n",
              "    }\n",
              "\n",
              "    [theme=dark] .colab-df-convert:hover {\n",
              "      background-color: #434B5C;\n",
              "      box-shadow: 0px 1px 3px 1px rgba(0, 0, 0, 0.15);\n",
              "      filter: drop-shadow(0px 1px 2px rgba(0, 0, 0, 0.3));\n",
              "      fill: #FFFFFF;\n",
              "    }\n",
              "  </style>\n",
              "\n",
              "    <script>\n",
              "      const buttonEl =\n",
              "        document.querySelector('#df-03a8c598-03a0-4a37-ae4d-0930f95214cb button.colab-df-convert');\n",
              "      buttonEl.style.display =\n",
              "        google.colab.kernel.accessAllowed ? 'block' : 'none';\n",
              "\n",
              "      async function convertToInteractive(key) {\n",
              "        const element = document.querySelector('#df-03a8c598-03a0-4a37-ae4d-0930f95214cb');\n",
              "        const dataTable =\n",
              "          await google.colab.kernel.invokeFunction('convertToInteractive',\n",
              "                                                    [key], {});\n",
              "        if (!dataTable) return;\n",
              "\n",
              "        const docLinkHtml = 'Like what you see? Visit the ' +\n",
              "          '<a target=\"_blank\" href=https://colab.research.google.com/notebooks/data_table.ipynb>data table notebook</a>'\n",
              "          + ' to learn more about interactive tables.';\n",
              "        element.innerHTML = '';\n",
              "        dataTable['output_type'] = 'display_data';\n",
              "        await google.colab.output.renderOutput(dataTable, element);\n",
              "        const docLink = document.createElement('div');\n",
              "        docLink.innerHTML = docLinkHtml;\n",
              "        element.appendChild(docLink);\n",
              "      }\n",
              "    </script>\n",
              "  </div>\n",
              "\n",
              "\n",
              "<div id=\"df-6a971535-4234-4422-8f61-8da60bfc1a32\">\n",
              "  <button class=\"colab-df-quickchart\" onclick=\"quickchart('df-6a971535-4234-4422-8f61-8da60bfc1a32')\"\n",
              "            title=\"Suggest charts\"\n",
              "            style=\"display:none;\">\n",
              "\n",
              "<svg xmlns=\"http://www.w3.org/2000/svg\" height=\"24px\"viewBox=\"0 0 24 24\"\n",
              "     width=\"24px\">\n",
              "    <g>\n",
              "        <path d=\"M19 3H5c-1.1 0-2 .9-2 2v14c0 1.1.9 2 2 2h14c1.1 0 2-.9 2-2V5c0-1.1-.9-2-2-2zM9 17H7v-7h2v7zm4 0h-2V7h2v10zm4 0h-2v-4h2v4z\"/>\n",
              "    </g>\n",
              "</svg>\n",
              "  </button>\n",
              "\n",
              "<style>\n",
              "  .colab-df-quickchart {\n",
              "      --bg-color: #E8F0FE;\n",
              "      --fill-color: #1967D2;\n",
              "      --hover-bg-color: #E2EBFA;\n",
              "      --hover-fill-color: #174EA6;\n",
              "      --disabled-fill-color: #AAA;\n",
              "      --disabled-bg-color: #DDD;\n",
              "  }\n",
              "\n",
              "  [theme=dark] .colab-df-quickchart {\n",
              "      --bg-color: #3B4455;\n",
              "      --fill-color: #D2E3FC;\n",
              "      --hover-bg-color: #434B5C;\n",
              "      --hover-fill-color: #FFFFFF;\n",
              "      --disabled-bg-color: #3B4455;\n",
              "      --disabled-fill-color: #666;\n",
              "  }\n",
              "\n",
              "  .colab-df-quickchart {\n",
              "    background-color: var(--bg-color);\n",
              "    border: none;\n",
              "    border-radius: 50%;\n",
              "    cursor: pointer;\n",
              "    display: none;\n",
              "    fill: var(--fill-color);\n",
              "    height: 32px;\n",
              "    padding: 0;\n",
              "    width: 32px;\n",
              "  }\n",
              "\n",
              "  .colab-df-quickchart:hover {\n",
              "    background-color: var(--hover-bg-color);\n",
              "    box-shadow: 0 1px 2px rgba(60, 64, 67, 0.3), 0 1px 3px 1px rgba(60, 64, 67, 0.15);\n",
              "    fill: var(--button-hover-fill-color);\n",
              "  }\n",
              "\n",
              "  .colab-df-quickchart-complete:disabled,\n",
              "  .colab-df-quickchart-complete:disabled:hover {\n",
              "    background-color: var(--disabled-bg-color);\n",
              "    fill: var(--disabled-fill-color);\n",
              "    box-shadow: none;\n",
              "  }\n",
              "\n",
              "  .colab-df-spinner {\n",
              "    border: 2px solid var(--fill-color);\n",
              "    border-color: transparent;\n",
              "    border-bottom-color: var(--fill-color);\n",
              "    animation:\n",
              "      spin 1s steps(1) infinite;\n",
              "  }\n",
              "\n",
              "  @keyframes spin {\n",
              "    0% {\n",
              "      border-color: transparent;\n",
              "      border-bottom-color: var(--fill-color);\n",
              "      border-left-color: var(--fill-color);\n",
              "    }\n",
              "    20% {\n",
              "      border-color: transparent;\n",
              "      border-left-color: var(--fill-color);\n",
              "      border-top-color: var(--fill-color);\n",
              "    }\n",
              "    30% {\n",
              "      border-color: transparent;\n",
              "      border-left-color: var(--fill-color);\n",
              "      border-top-color: var(--fill-color);\n",
              "      border-right-color: var(--fill-color);\n",
              "    }\n",
              "    40% {\n",
              "      border-color: transparent;\n",
              "      border-right-color: var(--fill-color);\n",
              "      border-top-color: var(--fill-color);\n",
              "    }\n",
              "    60% {\n",
              "      border-color: transparent;\n",
              "      border-right-color: var(--fill-color);\n",
              "    }\n",
              "    80% {\n",
              "      border-color: transparent;\n",
              "      border-right-color: var(--fill-color);\n",
              "      border-bottom-color: var(--fill-color);\n",
              "    }\n",
              "    90% {\n",
              "      border-color: transparent;\n",
              "      border-bottom-color: var(--fill-color);\n",
              "    }\n",
              "  }\n",
              "</style>\n",
              "\n",
              "  <script>\n",
              "    async function quickchart(key) {\n",
              "      const quickchartButtonEl =\n",
              "        document.querySelector('#' + key + ' button');\n",
              "      quickchartButtonEl.disabled = true;  // To prevent multiple clicks.\n",
              "      quickchartButtonEl.classList.add('colab-df-spinner');\n",
              "      try {\n",
              "        const charts = await google.colab.kernel.invokeFunction(\n",
              "            'suggestCharts', [key], {});\n",
              "      } catch (error) {\n",
              "        console.error('Error during call to suggestCharts:', error);\n",
              "      }\n",
              "      quickchartButtonEl.classList.remove('colab-df-spinner');\n",
              "      quickchartButtonEl.classList.add('colab-df-quickchart-complete');\n",
              "    }\n",
              "    (() => {\n",
              "      let quickchartButtonEl =\n",
              "        document.querySelector('#df-6a971535-4234-4422-8f61-8da60bfc1a32 button');\n",
              "      quickchartButtonEl.style.display =\n",
              "        google.colab.kernel.accessAllowed ? 'block' : 'none';\n",
              "    })();\n",
              "  </script>\n",
              "</div>\n",
              "    </div>\n",
              "  </div>\n"
            ]
          },
          "metadata": {},
          "execution_count": 4
        }
      ]
    },
    {
      "cell_type": "markdown",
      "source": [
        "Create columns to represent the hour of day and day of the year.\n"
      ],
      "metadata": {
        "id": "AJhK4BRwovJQ"
      }
    },
    {
      "cell_type": "code",
      "source": [
        "df['day_of_year'] = np.repeat(np.arange(1, 366), 24)  # This will repeat each element of the array 24 times.\n",
        "df['hour'] = df.index.hour"
      ],
      "metadata": {
        "id": "JzAaCLd6cN4p"
      },
      "execution_count": null,
      "outputs": []
    },
    {
      "cell_type": "markdown",
      "source": [
        "Pivot the current dataframe such that the hours of the day are the columns and the days of the year are rows with each cell containing the corresponding dry bulb temperature."
      ],
      "metadata": {
        "id": "T23-KPoQOHO_"
      }
    },
    {
      "cell_type": "code",
      "source": [
        "df_pivoted = df.pivot(index=\"day_of_year\", columns=\"hour\", values='Dry Bulb Temperature {C}')\n",
        "df_pivoted.head()"
      ],
      "metadata": {
        "colab": {
          "base_uri": "https://localhost:8080/",
          "height": 267
        },
        "id": "TryGNYEKOGmF",
        "outputId": "7dea67c9-cf6a-4e37-d27b-e703ad9f84fe"
      },
      "execution_count": null,
      "outputs": [
        {
          "output_type": "execute_result",
          "data": {
            "text/plain": [
              "hour           0     1     2     3     4     5     6     7     8     9   ...  \\\n",
              "day_of_year                                                              ...   \n",
              "1           -13.0 -13.0 -14.0 -14.0 -15.0 -15.0 -15.0 -15.0 -16.0 -15.0  ...   \n",
              "2           -15.0 -15.0 -13.0 -13.0 -12.0 -11.0 -11.0 -13.0 -10.0 -10.0  ...   \n",
              "3            -5.0  -6.0  -5.0  -4.0  -6.0  -6.0  -4.0  -5.0  -5.0  -3.0  ...   \n",
              "4             6.0   8.0  10.0   5.0   1.0   0.0   0.0  -2.0   1.0   2.0  ...   \n",
              "5             4.0   3.0   2.0   2.0   1.0   2.0   1.0   0.0   0.0   2.0  ...   \n",
              "\n",
              "hour           14    15    16    17    18    19    20    21    22    23  \n",
              "day_of_year                                                              \n",
              "1           -11.0 -10.0 -10.0 -11.0 -12.0 -13.0 -13.0 -15.0 -14.0 -14.0  \n",
              "2             1.0   0.4   1.0   1.0  -1.0  -2.0  -2.0  -4.0  -4.0  -3.0  \n",
              "3             5.1   6.0   5.7   3.8   1.3   6.0   8.0   3.0   4.0   4.0  \n",
              "4            11.1  15.0  10.9   8.8   4.4   2.4   1.2   4.0   6.0   3.0  \n",
              "5            13.0  13.0   9.8   8.7   8.0   8.0   8.0   4.8   4.7   4.0  \n",
              "\n",
              "[5 rows x 24 columns]"
            ],
            "text/html": [
              "\n",
              "  <div id=\"df-2de000c3-3584-4bd6-a162-61a3846e6c9d\" class=\"colab-df-container\">\n",
              "    <div>\n",
              "<style scoped>\n",
              "    .dataframe tbody tr th:only-of-type {\n",
              "        vertical-align: middle;\n",
              "    }\n",
              "\n",
              "    .dataframe tbody tr th {\n",
              "        vertical-align: top;\n",
              "    }\n",
              "\n",
              "    .dataframe thead th {\n",
              "        text-align: right;\n",
              "    }\n",
              "</style>\n",
              "<table border=\"1\" class=\"dataframe\">\n",
              "  <thead>\n",
              "    <tr style=\"text-align: right;\">\n",
              "      <th>hour</th>\n",
              "      <th>0</th>\n",
              "      <th>1</th>\n",
              "      <th>2</th>\n",
              "      <th>3</th>\n",
              "      <th>4</th>\n",
              "      <th>5</th>\n",
              "      <th>6</th>\n",
              "      <th>7</th>\n",
              "      <th>8</th>\n",
              "      <th>9</th>\n",
              "      <th>...</th>\n",
              "      <th>14</th>\n",
              "      <th>15</th>\n",
              "      <th>16</th>\n",
              "      <th>17</th>\n",
              "      <th>18</th>\n",
              "      <th>19</th>\n",
              "      <th>20</th>\n",
              "      <th>21</th>\n",
              "      <th>22</th>\n",
              "      <th>23</th>\n",
              "    </tr>\n",
              "    <tr>\n",
              "      <th>day_of_year</th>\n",
              "      <th></th>\n",
              "      <th></th>\n",
              "      <th></th>\n",
              "      <th></th>\n",
              "      <th></th>\n",
              "      <th></th>\n",
              "      <th></th>\n",
              "      <th></th>\n",
              "      <th></th>\n",
              "      <th></th>\n",
              "      <th></th>\n",
              "      <th></th>\n",
              "      <th></th>\n",
              "      <th></th>\n",
              "      <th></th>\n",
              "      <th></th>\n",
              "      <th></th>\n",
              "      <th></th>\n",
              "      <th></th>\n",
              "      <th></th>\n",
              "      <th></th>\n",
              "    </tr>\n",
              "  </thead>\n",
              "  <tbody>\n",
              "    <tr>\n",
              "      <th>1</th>\n",
              "      <td>-13.0</td>\n",
              "      <td>-13.0</td>\n",
              "      <td>-14.0</td>\n",
              "      <td>-14.0</td>\n",
              "      <td>-15.0</td>\n",
              "      <td>-15.0</td>\n",
              "      <td>-15.0</td>\n",
              "      <td>-15.0</td>\n",
              "      <td>-16.0</td>\n",
              "      <td>-15.0</td>\n",
              "      <td>...</td>\n",
              "      <td>-11.0</td>\n",
              "      <td>-10.0</td>\n",
              "      <td>-10.0</td>\n",
              "      <td>-11.0</td>\n",
              "      <td>-12.0</td>\n",
              "      <td>-13.0</td>\n",
              "      <td>-13.0</td>\n",
              "      <td>-15.0</td>\n",
              "      <td>-14.0</td>\n",
              "      <td>-14.0</td>\n",
              "    </tr>\n",
              "    <tr>\n",
              "      <th>2</th>\n",
              "      <td>-15.0</td>\n",
              "      <td>-15.0</td>\n",
              "      <td>-13.0</td>\n",
              "      <td>-13.0</td>\n",
              "      <td>-12.0</td>\n",
              "      <td>-11.0</td>\n",
              "      <td>-11.0</td>\n",
              "      <td>-13.0</td>\n",
              "      <td>-10.0</td>\n",
              "      <td>-10.0</td>\n",
              "      <td>...</td>\n",
              "      <td>1.0</td>\n",
              "      <td>0.4</td>\n",
              "      <td>1.0</td>\n",
              "      <td>1.0</td>\n",
              "      <td>-1.0</td>\n",
              "      <td>-2.0</td>\n",
              "      <td>-2.0</td>\n",
              "      <td>-4.0</td>\n",
              "      <td>-4.0</td>\n",
              "      <td>-3.0</td>\n",
              "    </tr>\n",
              "    <tr>\n",
              "      <th>3</th>\n",
              "      <td>-5.0</td>\n",
              "      <td>-6.0</td>\n",
              "      <td>-5.0</td>\n",
              "      <td>-4.0</td>\n",
              "      <td>-6.0</td>\n",
              "      <td>-6.0</td>\n",
              "      <td>-4.0</td>\n",
              "      <td>-5.0</td>\n",
              "      <td>-5.0</td>\n",
              "      <td>-3.0</td>\n",
              "      <td>...</td>\n",
              "      <td>5.1</td>\n",
              "      <td>6.0</td>\n",
              "      <td>5.7</td>\n",
              "      <td>3.8</td>\n",
              "      <td>1.3</td>\n",
              "      <td>6.0</td>\n",
              "      <td>8.0</td>\n",
              "      <td>3.0</td>\n",
              "      <td>4.0</td>\n",
              "      <td>4.0</td>\n",
              "    </tr>\n",
              "    <tr>\n",
              "      <th>4</th>\n",
              "      <td>6.0</td>\n",
              "      <td>8.0</td>\n",
              "      <td>10.0</td>\n",
              "      <td>5.0</td>\n",
              "      <td>1.0</td>\n",
              "      <td>0.0</td>\n",
              "      <td>0.0</td>\n",
              "      <td>-2.0</td>\n",
              "      <td>1.0</td>\n",
              "      <td>2.0</td>\n",
              "      <td>...</td>\n",
              "      <td>11.1</td>\n",
              "      <td>15.0</td>\n",
              "      <td>10.9</td>\n",
              "      <td>8.8</td>\n",
              "      <td>4.4</td>\n",
              "      <td>2.4</td>\n",
              "      <td>1.2</td>\n",
              "      <td>4.0</td>\n",
              "      <td>6.0</td>\n",
              "      <td>3.0</td>\n",
              "    </tr>\n",
              "    <tr>\n",
              "      <th>5</th>\n",
              "      <td>4.0</td>\n",
              "      <td>3.0</td>\n",
              "      <td>2.0</td>\n",
              "      <td>2.0</td>\n",
              "      <td>1.0</td>\n",
              "      <td>2.0</td>\n",
              "      <td>1.0</td>\n",
              "      <td>0.0</td>\n",
              "      <td>0.0</td>\n",
              "      <td>2.0</td>\n",
              "      <td>...</td>\n",
              "      <td>13.0</td>\n",
              "      <td>13.0</td>\n",
              "      <td>9.8</td>\n",
              "      <td>8.7</td>\n",
              "      <td>8.0</td>\n",
              "      <td>8.0</td>\n",
              "      <td>8.0</td>\n",
              "      <td>4.8</td>\n",
              "      <td>4.7</td>\n",
              "      <td>4.0</td>\n",
              "    </tr>\n",
              "  </tbody>\n",
              "</table>\n",
              "<p>5 rows × 24 columns</p>\n",
              "</div>\n",
              "    <div class=\"colab-df-buttons\">\n",
              "\n",
              "  <div class=\"colab-df-container\">\n",
              "    <button class=\"colab-df-convert\" onclick=\"convertToInteractive('df-2de000c3-3584-4bd6-a162-61a3846e6c9d')\"\n",
              "            title=\"Convert this dataframe to an interactive table.\"\n",
              "            style=\"display:none;\">\n",
              "\n",
              "  <svg xmlns=\"http://www.w3.org/2000/svg\" height=\"24px\" viewBox=\"0 -960 960 960\">\n",
              "    <path d=\"M120-120v-720h720v720H120Zm60-500h600v-160H180v160Zm220 220h160v-160H400v160Zm0 220h160v-160H400v160ZM180-400h160v-160H180v160Zm440 0h160v-160H620v160ZM180-180h160v-160H180v160Zm440 0h160v-160H620v160Z\"/>\n",
              "  </svg>\n",
              "    </button>\n",
              "\n",
              "  <style>\n",
              "    .colab-df-container {\n",
              "      display:flex;\n",
              "      gap: 12px;\n",
              "    }\n",
              "\n",
              "    .colab-df-convert {\n",
              "      background-color: #E8F0FE;\n",
              "      border: none;\n",
              "      border-radius: 50%;\n",
              "      cursor: pointer;\n",
              "      display: none;\n",
              "      fill: #1967D2;\n",
              "      height: 32px;\n",
              "      padding: 0 0 0 0;\n",
              "      width: 32px;\n",
              "    }\n",
              "\n",
              "    .colab-df-convert:hover {\n",
              "      background-color: #E2EBFA;\n",
              "      box-shadow: 0px 1px 2px rgba(60, 64, 67, 0.3), 0px 1px 3px 1px rgba(60, 64, 67, 0.15);\n",
              "      fill: #174EA6;\n",
              "    }\n",
              "\n",
              "    .colab-df-buttons div {\n",
              "      margin-bottom: 4px;\n",
              "    }\n",
              "\n",
              "    [theme=dark] .colab-df-convert {\n",
              "      background-color: #3B4455;\n",
              "      fill: #D2E3FC;\n",
              "    }\n",
              "\n",
              "    [theme=dark] .colab-df-convert:hover {\n",
              "      background-color: #434B5C;\n",
              "      box-shadow: 0px 1px 3px 1px rgba(0, 0, 0, 0.15);\n",
              "      filter: drop-shadow(0px 1px 2px rgba(0, 0, 0, 0.3));\n",
              "      fill: #FFFFFF;\n",
              "    }\n",
              "  </style>\n",
              "\n",
              "    <script>\n",
              "      const buttonEl =\n",
              "        document.querySelector('#df-2de000c3-3584-4bd6-a162-61a3846e6c9d button.colab-df-convert');\n",
              "      buttonEl.style.display =\n",
              "        google.colab.kernel.accessAllowed ? 'block' : 'none';\n",
              "\n",
              "      async function convertToInteractive(key) {\n",
              "        const element = document.querySelector('#df-2de000c3-3584-4bd6-a162-61a3846e6c9d');\n",
              "        const dataTable =\n",
              "          await google.colab.kernel.invokeFunction('convertToInteractive',\n",
              "                                                    [key], {});\n",
              "        if (!dataTable) return;\n",
              "\n",
              "        const docLinkHtml = 'Like what you see? Visit the ' +\n",
              "          '<a target=\"_blank\" href=https://colab.research.google.com/notebooks/data_table.ipynb>data table notebook</a>'\n",
              "          + ' to learn more about interactive tables.';\n",
              "        element.innerHTML = '';\n",
              "        dataTable['output_type'] = 'display_data';\n",
              "        await google.colab.output.renderOutput(dataTable, element);\n",
              "        const docLink = document.createElement('div');\n",
              "        docLink.innerHTML = docLinkHtml;\n",
              "        element.appendChild(docLink);\n",
              "      }\n",
              "    </script>\n",
              "  </div>\n",
              "\n",
              "\n",
              "<div id=\"df-e60cd340-d111-419c-b06c-655764e89c5f\">\n",
              "  <button class=\"colab-df-quickchart\" onclick=\"quickchart('df-e60cd340-d111-419c-b06c-655764e89c5f')\"\n",
              "            title=\"Suggest charts\"\n",
              "            style=\"display:none;\">\n",
              "\n",
              "<svg xmlns=\"http://www.w3.org/2000/svg\" height=\"24px\"viewBox=\"0 0 24 24\"\n",
              "     width=\"24px\">\n",
              "    <g>\n",
              "        <path d=\"M19 3H5c-1.1 0-2 .9-2 2v14c0 1.1.9 2 2 2h14c1.1 0 2-.9 2-2V5c0-1.1-.9-2-2-2zM9 17H7v-7h2v7zm4 0h-2V7h2v10zm4 0h-2v-4h2v4z\"/>\n",
              "    </g>\n",
              "</svg>\n",
              "  </button>\n",
              "\n",
              "<style>\n",
              "  .colab-df-quickchart {\n",
              "      --bg-color: #E8F0FE;\n",
              "      --fill-color: #1967D2;\n",
              "      --hover-bg-color: #E2EBFA;\n",
              "      --hover-fill-color: #174EA6;\n",
              "      --disabled-fill-color: #AAA;\n",
              "      --disabled-bg-color: #DDD;\n",
              "  }\n",
              "\n",
              "  [theme=dark] .colab-df-quickchart {\n",
              "      --bg-color: #3B4455;\n",
              "      --fill-color: #D2E3FC;\n",
              "      --hover-bg-color: #434B5C;\n",
              "      --hover-fill-color: #FFFFFF;\n",
              "      --disabled-bg-color: #3B4455;\n",
              "      --disabled-fill-color: #666;\n",
              "  }\n",
              "\n",
              "  .colab-df-quickchart {\n",
              "    background-color: var(--bg-color);\n",
              "    border: none;\n",
              "    border-radius: 50%;\n",
              "    cursor: pointer;\n",
              "    display: none;\n",
              "    fill: var(--fill-color);\n",
              "    height: 32px;\n",
              "    padding: 0;\n",
              "    width: 32px;\n",
              "  }\n",
              "\n",
              "  .colab-df-quickchart:hover {\n",
              "    background-color: var(--hover-bg-color);\n",
              "    box-shadow: 0 1px 2px rgba(60, 64, 67, 0.3), 0 1px 3px 1px rgba(60, 64, 67, 0.15);\n",
              "    fill: var(--button-hover-fill-color);\n",
              "  }\n",
              "\n",
              "  .colab-df-quickchart-complete:disabled,\n",
              "  .colab-df-quickchart-complete:disabled:hover {\n",
              "    background-color: var(--disabled-bg-color);\n",
              "    fill: var(--disabled-fill-color);\n",
              "    box-shadow: none;\n",
              "  }\n",
              "\n",
              "  .colab-df-spinner {\n",
              "    border: 2px solid var(--fill-color);\n",
              "    border-color: transparent;\n",
              "    border-bottom-color: var(--fill-color);\n",
              "    animation:\n",
              "      spin 1s steps(1) infinite;\n",
              "  }\n",
              "\n",
              "  @keyframes spin {\n",
              "    0% {\n",
              "      border-color: transparent;\n",
              "      border-bottom-color: var(--fill-color);\n",
              "      border-left-color: var(--fill-color);\n",
              "    }\n",
              "    20% {\n",
              "      border-color: transparent;\n",
              "      border-left-color: var(--fill-color);\n",
              "      border-top-color: var(--fill-color);\n",
              "    }\n",
              "    30% {\n",
              "      border-color: transparent;\n",
              "      border-left-color: var(--fill-color);\n",
              "      border-top-color: var(--fill-color);\n",
              "      border-right-color: var(--fill-color);\n",
              "    }\n",
              "    40% {\n",
              "      border-color: transparent;\n",
              "      border-right-color: var(--fill-color);\n",
              "      border-top-color: var(--fill-color);\n",
              "    }\n",
              "    60% {\n",
              "      border-color: transparent;\n",
              "      border-right-color: var(--fill-color);\n",
              "    }\n",
              "    80% {\n",
              "      border-color: transparent;\n",
              "      border-right-color: var(--fill-color);\n",
              "      border-bottom-color: var(--fill-color);\n",
              "    }\n",
              "    90% {\n",
              "      border-color: transparent;\n",
              "      border-bottom-color: var(--fill-color);\n",
              "    }\n",
              "  }\n",
              "</style>\n",
              "\n",
              "  <script>\n",
              "    async function quickchart(key) {\n",
              "      const quickchartButtonEl =\n",
              "        document.querySelector('#' + key + ' button');\n",
              "      quickchartButtonEl.disabled = true;  // To prevent multiple clicks.\n",
              "      quickchartButtonEl.classList.add('colab-df-spinner');\n",
              "      try {\n",
              "        const charts = await google.colab.kernel.invokeFunction(\n",
              "            'suggestCharts', [key], {});\n",
              "      } catch (error) {\n",
              "        console.error('Error during call to suggestCharts:', error);\n",
              "      }\n",
              "      quickchartButtonEl.classList.remove('colab-df-spinner');\n",
              "      quickchartButtonEl.classList.add('colab-df-quickchart-complete');\n",
              "    }\n",
              "    (() => {\n",
              "      let quickchartButtonEl =\n",
              "        document.querySelector('#df-e60cd340-d111-419c-b06c-655764e89c5f button');\n",
              "      quickchartButtonEl.style.display =\n",
              "        google.colab.kernel.accessAllowed ? 'block' : 'none';\n",
              "    })();\n",
              "  </script>\n",
              "</div>\n",
              "    </div>\n",
              "  </div>\n"
            ]
          },
          "metadata": {},
          "execution_count": 62
        }
      ]
    },
    {
      "cell_type": "markdown",
      "source": [
        "## K - Means Clustering\n",
        "Now using K-means clustering the days of the year can be divided into clusters. Here 4 clusters are chosen hopefully to represent each temperature range."
      ],
      "metadata": {
        "id": "T5uf0tGeCkCx"
      }
    },
    {
      "cell_type": "code",
      "source": [
        "DryBulb_Kmeans = KMeans(n_clusters=4,random_state=3,n_init=20).fit(df_pivoted)\n",
        "df_pivoted[\"KCluster\"] = DryBulb_Kmeans.labels_        # Labelling each data point\n",
        "cluster_centers = DryBulb_Kmeans.cluster_centers_   # Mean of all points in the cluster"
      ],
      "metadata": {
        "id": "hm66fANfqeo4"
      },
      "execution_count": null,
      "outputs": []
    },
    {
      "cell_type": "markdown",
      "source": [
        "To check if the four clusters were necessary or sufficient the daily average temperature is plotted against the day of the year for all the days of each cluster."
      ],
      "metadata": {
        "id": "r-wCY-XQkQGO"
      }
    },
    {
      "cell_type": "code",
      "source": [
        "df_pivoted[\"DailyAvgTemp\"] = df_pivoted.loc[:,~df_pivoted.columns.isin([\"KCluster\"])].mean(axis=1)\n",
        "fig = go.Figure()\n",
        "colors = ['rgb(31, 119, 180)', 'rgb(255, 127, 14)', 'rgb(44, 160, 44)', 'rgb(214, 39, 40)']\n",
        "\n",
        "for class_label in {0,1,2,3}:\n",
        "    df_class = df_pivoted[df_pivoted['KCluster'] == class_label]\n",
        "    fig.add_trace(go.Scatter(x=df_class.index, y=df_class['DailyAvgTemp'],\n",
        "                             mode='markers',\n",
        "                             marker=dict(size=10,color=colors[class_label]),\n",
        "                             name=f'Cluster {class_label}'))\n",
        "fig.update_layout(title='Daily average temperature across the year segregated by cluster', xaxis_title='Day of the year', yaxis_title='Temperature (C)')\n",
        "\n",
        "fig.update_layout(\n",
        "    margin=dict(l=50, r=50, b=50, t=75),  # Adjust margins to make the plot tighter\n",
        "    autosize=False,  # Disable autosizing\n",
        "    width=1000,       # Set the width of the plot\n",
        "    height=400,       # Set the height of the plot\n",
        "    title_x=0.5,\n",
        "    title_y=0.95\n",
        ")\n",
        "fig.show()\n"
      ],
      "metadata": {
        "colab": {
          "base_uri": "https://localhost:8080/",
          "height": 417
        },
        "id": "RGYlDyjqg9NQ",
        "outputId": "7f05293e-29f1-4674-e5eb-396c9123bae7"
      },
      "execution_count": null,
      "outputs": [
        {
          "output_type": "display_data",
          "data": {
            "text/html": [
              "<html>\n",
              "<head><meta charset=\"utf-8\" /></head>\n",
              "<body>\n",
              "    <div>            <script src=\"https://cdnjs.cloudflare.com/ajax/libs/mathjax/2.7.5/MathJax.js?config=TeX-AMS-MML_SVG\"></script><script type=\"text/javascript\">if (window.MathJax && window.MathJax.Hub && window.MathJax.Hub.Config) {window.MathJax.Hub.Config({SVG: {font: \"STIX-Web\"}});}</script>                <script type=\"text/javascript\">window.PlotlyConfig = {MathJaxConfig: 'local'};</script>\n",
              "        <script charset=\"utf-8\" src=\"https://cdn.plot.ly/plotly-2.24.1.min.js\"></script>                <div id=\"098634c1-ad00-4bce-8ca2-341b7d8faa69\" class=\"plotly-graph-div\" style=\"height:400px; width:1000px;\"></div>            <script type=\"text/javascript\">                                    window.PLOTLYENV=window.PLOTLYENV || {};                                    if (document.getElementById(\"098634c1-ad00-4bce-8ca2-341b7d8faa69\")) {                    Plotly.newPlot(                        \"098634c1-ad00-4bce-8ca2-341b7d8faa69\",                        [{\"marker\":{\"color\":\"rgb(31, 119, 180)\",\"size\":10},\"mode\":\"markers\",\"name\":\"Cluster 0\",\"x\":[133,155,156,157,158,159,160,161,162,163,164,165,166,167,168,169,170,171,172,173,177,178,179,180,182,183,184,185,186,187,188,189,190,191,192,193,194,195,196,197,198,199,200,201,202,203,204,205,206,207,208,209,210,211,212,213,214,215,216,217,218,219,220,221,222,223,224,225,226,227,228,229,230,231,232,233,234,235,236,237,238,239,240,241,242,243,244,245,246,247,251,252,253,254,255,256,257,258,259,260,261,262,263,265,266,267],\"y\":[17.27916666666667,17.633333333333333,17.2625,17.420833333333334,18.462500000000002,18.650000000000002,23.025000000000002,23.229166666666668,18.59166666666667,20.625,17.099999999999998,19.429166666666664,19.916666666666668,22.337500000000002,18.883333333333333,19.641666666666666,20.8125,24.03333333333333,26.4375,22.5125,20.570833333333333,23.508333333333336,21.47083333333333,18.97083333333333,18.900000000000002,20.433333333333334,20.754166666666666,22.962499999999995,23.075,23.85833333333333,22.241666666666664,24.258333333333336,25.458333333333332,23.1375,24.645833333333332,22.316666666666663,21.179166666666667,20.491666666666667,20.404166666666665,20.704166666666666,22.620833333333334,23.358333333333334,21.662499999999998,21.358333333333334,21.441666666666666,24.679166666666664,23.329166666666666,22.400000000000002,18.904166666666665,19.991666666666667,18.333333333333332,17.291666666666668,17.541666666666668,20.808333333333334,22.17083333333333,21.55,22.458333333333332,24.75,23.787499999999998,22.658333333333335,24.100000000000005,22.77916666666667,20.875,23.587500000000002,21.941666666666666,20.650000000000002,22.049999999999997,21.5625,21.683333333333334,23.85833333333333,20.287499999999998,21.175,19.3875,23.641666666666666,24.791666666666668,20.091666666666665,20.770833333333332,20.7375,19.7,25.145833333333332,19.55,17.304166666666667,20.941666666666666,21.537500000000005,19.620833333333334,21.24166666666667,18.979166666666668,18.054166666666664,19.020833333333332,18.349999999999998,17.120833333333334,20.070833333333333,20.0875,19.71666666666667,21.4375,22.391666666666666,21.845833333333335,21.204166666666666,21.941666666666666,21.78333333333333,20.941666666666666,18.991666666666667,19.116666666666667,17.966666666666665,18.408333333333335,17.3875],\"type\":\"scatter\"},{\"marker\":{\"color\":\"rgb(255, 127, 14)\",\"size\":10},\"mode\":\"markers\",\"name\":\"Cluster 1\",\"x\":[4,5,6,7,10,17,20,21,27,32,33,53,58,59,60,61,62,63,67,68,69,71,72,73,74,75,76,77,79,80,82,83,84,85,89,90,91,93,94,97,98,99,104,105,107,108,109,110,112,115,116,121,122,123,130,140,141,142,143,147,271,273,274,276,282,283,285,286,290,300,301,303,304,305,306,307,308,309,310,314,318,319,320,324,325,326,327,331,332,333,345,349,350,351,352,353,355,364],\"y\":[4.879166666666667,5.429166666666667,4.404166666666667,5.133333333333333,4.75,4.666666666666667,5.154166666666667,2.1708333333333334,5.225,5.887499999999999,6.670833333333334,5.599999999999999,3.566666666666667,5.583333333333333,2.9375,8.833333333333334,9.012500000000001,6.4375,4.916666666666667,7.854166666666667,3.545833333333333,3.858333333333334,4.483333333333333,8.166666666666666,6.125,4.075,6.133333333333333,3.1666666666666665,2.966666666666667,6.045833333333334,9.654166666666667,7.7250000000000005,6.358333333333334,2.591666666666667,6.104166666666667,4.283333333333333,2.5708333333333333,3.725,6.116666666666667,2.1625,8.995833333333334,4.379166666666666,5.108333333333333,7.895833333333333,9.058333333333334,5.470833333333334,7.4375,4.7250000000000005,8.191666666666666,7.708333333333333,7.466666666666668,8.237499999999999,6.462500000000001,5.541666666666667,9.004166666666668,6.804166666666667,8.829166666666667,8.566666666666666,7.979166666666667,8.345833333333333,6.429166666666667,8.758333333333335,7.933333333333334,6.395833333333333,10.258333333333333,9.429166666666665,7.7749999999999995,6.183333333333334,8.654166666666667,5.870833333333334,5.766666666666666,7.920833333333333,5.166666666666667,5.070833333333333,8.883333333333335,5.395833333333333,4.145833333333333,5.1875,3.529166666666667,4.304166666666666,4.554166666666666,6.5874999999999995,3.441666666666667,2.2291666666666665,3.558333333333333,3.7916666666666665,4.504166666666666,3.683333333333333,6.416666666666667,3.1625,3.6166666666666667,3.7083333333333335,4.270833333333333,3.5041666666666664,3.920833333333333,3.658333333333333,3.9666666666666663,2.6833333333333336],\"type\":\"scatter\"},{\"marker\":{\"color\":\"rgb(44, 160, 44)\",\"size\":10},\"mode\":\"markers\",\"name\":\"Cluster 2\",\"x\":[81,92,95,100,101,102,106,113,117,118,119,120,124,125,126,127,128,129,131,132,134,135,136,137,144,145,146,148,149,150,151,152,153,154,174,175,176,181,248,249,250,264,268,269,270,272,275,277,278,279,280,281,284,287,288,289,291,292,293,294,295,296,297,298,299,302],\"y\":[9.433333333333332,10.008333333333333,9.154166666666667,10.4625,14.129166666666668,10.995833333333332,9.658333333333333,10.183333333333334,11.891666666666666,11.799999999999999,16.070833333333333,11.179166666666667,11.262500000000001,14.345833333333331,16.620833333333334,14.950000000000001,11.933333333333332,11.879166666666668,10.766666666666666,14.5,15.008333333333335,15.091666666666667,11.620833333333332,10.554166666666667,14.975,13.991666666666665,10.604166666666666,10.429166666666667,11.75,14.35,15.745833333333332,15.970833333333333,15.166666666666666,16.633333333333333,12.725,15.729166666666666,15.608333333333334,14.775,15.183333333333332,15.566666666666668,15.5375,14.883333333333333,10.695833333333333,11.5,14.591666666666669,14.674999999999999,9.329166666666666,11.104166666666666,13.295833333333334,14.366666666666667,15.170833333333333,13.604166666666666,10.983333333333333,10.475,11.462499999999999,13.170833333333334,9.725,12.612499999999999,12.029166666666669,12.695833333333335,11.429166666666665,11.258333333333335,14.291666666666666,12.825000000000001,14.487499999999999,8.645833333333334],\"type\":\"scatter\"},{\"marker\":{\"color\":\"rgb(214, 39, 40)\",\"size\":10},\"mode\":\"markers\",\"name\":\"Cluster 3\",\"x\":[1,2,3,8,9,11,12,13,14,15,16,18,19,22,23,24,25,26,28,29,30,31,34,35,36,37,38,39,40,41,42,43,44,45,46,47,48,49,50,51,52,54,55,56,57,64,65,66,70,78,86,87,88,96,103,111,114,138,139,311,312,313,315,316,317,321,322,323,328,329,330,334,335,336,337,338,339,340,341,342,343,344,346,347,348,354,356,357,358,359,360,361,362,363,365],\"y\":[-13.375,-6.1499999999999995,0.19999999999999996,0.7000000000000001,0.8458333333333333,0.6416666666666667,0.6541666666666667,-0.5875,-0.2625,0.9041666666666667,2.0833333333333335,0.7708333333333334,0.9833333333333334,-1.5416666666666667,0.0958333333333334,-3.75,-3.6374999999999997,1.3416666666666668,-3.1125000000000003,-6.625,-2.3625000000000003,2.0708333333333333,-4.291666666666667,-9.583333333333334,-9.041666666666666,-1.1458333333333333,-1.9583333333333333,-0.40833333333333327,-1.9124999999999999,-4.833333333333333,-5.875,-1.0833333333333333,-5.791666666666667,-1.1958333333333335,0.8125000000000001,1.3125,0.7958333333333333,-2.375,-5.083333333333333,-6.625,-0.4666666666666666,2.0833333333333335,1.0708333333333333,-2.8333333333333335,-3.1625,0.30833333333333335,1.3166666666666667,1.3083333333333333,1.8041666666666665,1.8375000000000001,1.8500000000000003,1.8708333333333336,0.65,-0.22083333333333335,2.341666666666667,1.1166666666666665,1.5958333333333332,1.1083333333333332,1.3208333333333333,0.31250000000000006,-0.45416666666666666,-1.6541666666666666,-2.5416666666666665,-4.25,-0.7625000000000001,-1.6125,-1.7583333333333335,0.8666666666666667,2.4625,0.9416666666666668,-0.10416666666666659,0.22916666666666666,-0.375,-0.9583333333333334,-2.0416666666666665,-0.625,-1.7291666666666667,-4.541666666666667,-2.2541666666666664,-0.4625000000000001,-0.08333333333333333,0.85,2.1125000000000003,-0.029166666666666674,1.6708333333333334,0.425,0.5958333333333333,-0.7708333333333334,1.2916666666666667,-0.1708333333333333,-1.1916666666666667,-3.2916666666666665,-6.625,-5.483333333333333,-6.75],\"type\":\"scatter\"}],                        {\"template\":{\"data\":{\"histogram2dcontour\":[{\"type\":\"histogram2dcontour\",\"colorbar\":{\"outlinewidth\":0,\"ticks\":\"\"},\"colorscale\":[[0.0,\"#0d0887\"],[0.1111111111111111,\"#46039f\"],[0.2222222222222222,\"#7201a8\"],[0.3333333333333333,\"#9c179e\"],[0.4444444444444444,\"#bd3786\"],[0.5555555555555556,\"#d8576b\"],[0.6666666666666666,\"#ed7953\"],[0.7777777777777778,\"#fb9f3a\"],[0.8888888888888888,\"#fdca26\"],[1.0,\"#f0f921\"]]}],\"choropleth\":[{\"type\":\"choropleth\",\"colorbar\":{\"outlinewidth\":0,\"ticks\":\"\"}}],\"histogram2d\":[{\"type\":\"histogram2d\",\"colorbar\":{\"outlinewidth\":0,\"ticks\":\"\"},\"colorscale\":[[0.0,\"#0d0887\"],[0.1111111111111111,\"#46039f\"],[0.2222222222222222,\"#7201a8\"],[0.3333333333333333,\"#9c179e\"],[0.4444444444444444,\"#bd3786\"],[0.5555555555555556,\"#d8576b\"],[0.6666666666666666,\"#ed7953\"],[0.7777777777777778,\"#fb9f3a\"],[0.8888888888888888,\"#fdca26\"],[1.0,\"#f0f921\"]]}],\"heatmap\":[{\"type\":\"heatmap\",\"colorbar\":{\"outlinewidth\":0,\"ticks\":\"\"},\"colorscale\":[[0.0,\"#0d0887\"],[0.1111111111111111,\"#46039f\"],[0.2222222222222222,\"#7201a8\"],[0.3333333333333333,\"#9c179e\"],[0.4444444444444444,\"#bd3786\"],[0.5555555555555556,\"#d8576b\"],[0.6666666666666666,\"#ed7953\"],[0.7777777777777778,\"#fb9f3a\"],[0.8888888888888888,\"#fdca26\"],[1.0,\"#f0f921\"]]}],\"heatmapgl\":[{\"type\":\"heatmapgl\",\"colorbar\":{\"outlinewidth\":0,\"ticks\":\"\"},\"colorscale\":[[0.0,\"#0d0887\"],[0.1111111111111111,\"#46039f\"],[0.2222222222222222,\"#7201a8\"],[0.3333333333333333,\"#9c179e\"],[0.4444444444444444,\"#bd3786\"],[0.5555555555555556,\"#d8576b\"],[0.6666666666666666,\"#ed7953\"],[0.7777777777777778,\"#fb9f3a\"],[0.8888888888888888,\"#fdca26\"],[1.0,\"#f0f921\"]]}],\"contourcarpet\":[{\"type\":\"contourcarpet\",\"colorbar\":{\"outlinewidth\":0,\"ticks\":\"\"}}],\"contour\":[{\"type\":\"contour\",\"colorbar\":{\"outlinewidth\":0,\"ticks\":\"\"},\"colorscale\":[[0.0,\"#0d0887\"],[0.1111111111111111,\"#46039f\"],[0.2222222222222222,\"#7201a8\"],[0.3333333333333333,\"#9c179e\"],[0.4444444444444444,\"#bd3786\"],[0.5555555555555556,\"#d8576b\"],[0.6666666666666666,\"#ed7953\"],[0.7777777777777778,\"#fb9f3a\"],[0.8888888888888888,\"#fdca26\"],[1.0,\"#f0f921\"]]}],\"surface\":[{\"type\":\"surface\",\"colorbar\":{\"outlinewidth\":0,\"ticks\":\"\"},\"colorscale\":[[0.0,\"#0d0887\"],[0.1111111111111111,\"#46039f\"],[0.2222222222222222,\"#7201a8\"],[0.3333333333333333,\"#9c179e\"],[0.4444444444444444,\"#bd3786\"],[0.5555555555555556,\"#d8576b\"],[0.6666666666666666,\"#ed7953\"],[0.7777777777777778,\"#fb9f3a\"],[0.8888888888888888,\"#fdca26\"],[1.0,\"#f0f921\"]]}],\"mesh3d\":[{\"type\":\"mesh3d\",\"colorbar\":{\"outlinewidth\":0,\"ticks\":\"\"}}],\"scatter\":[{\"fillpattern\":{\"fillmode\":\"overlay\",\"size\":10,\"solidity\":0.2},\"type\":\"scatter\"}],\"parcoords\":[{\"type\":\"parcoords\",\"line\":{\"colorbar\":{\"outlinewidth\":0,\"ticks\":\"\"}}}],\"scatterpolargl\":[{\"type\":\"scatterpolargl\",\"marker\":{\"colorbar\":{\"outlinewidth\":0,\"ticks\":\"\"}}}],\"bar\":[{\"error_x\":{\"color\":\"#2a3f5f\"},\"error_y\":{\"color\":\"#2a3f5f\"},\"marker\":{\"line\":{\"color\":\"#E5ECF6\",\"width\":0.5},\"pattern\":{\"fillmode\":\"overlay\",\"size\":10,\"solidity\":0.2}},\"type\":\"bar\"}],\"scattergeo\":[{\"type\":\"scattergeo\",\"marker\":{\"colorbar\":{\"outlinewidth\":0,\"ticks\":\"\"}}}],\"scatterpolar\":[{\"type\":\"scatterpolar\",\"marker\":{\"colorbar\":{\"outlinewidth\":0,\"ticks\":\"\"}}}],\"histogram\":[{\"marker\":{\"pattern\":{\"fillmode\":\"overlay\",\"size\":10,\"solidity\":0.2}},\"type\":\"histogram\"}],\"scattergl\":[{\"type\":\"scattergl\",\"marker\":{\"colorbar\":{\"outlinewidth\":0,\"ticks\":\"\"}}}],\"scatter3d\":[{\"type\":\"scatter3d\",\"line\":{\"colorbar\":{\"outlinewidth\":0,\"ticks\":\"\"}},\"marker\":{\"colorbar\":{\"outlinewidth\":0,\"ticks\":\"\"}}}],\"scattermapbox\":[{\"type\":\"scattermapbox\",\"marker\":{\"colorbar\":{\"outlinewidth\":0,\"ticks\":\"\"}}}],\"scatterternary\":[{\"type\":\"scatterternary\",\"marker\":{\"colorbar\":{\"outlinewidth\":0,\"ticks\":\"\"}}}],\"scattercarpet\":[{\"type\":\"scattercarpet\",\"marker\":{\"colorbar\":{\"outlinewidth\":0,\"ticks\":\"\"}}}],\"carpet\":[{\"aaxis\":{\"endlinecolor\":\"#2a3f5f\",\"gridcolor\":\"white\",\"linecolor\":\"white\",\"minorgridcolor\":\"white\",\"startlinecolor\":\"#2a3f5f\"},\"baxis\":{\"endlinecolor\":\"#2a3f5f\",\"gridcolor\":\"white\",\"linecolor\":\"white\",\"minorgridcolor\":\"white\",\"startlinecolor\":\"#2a3f5f\"},\"type\":\"carpet\"}],\"table\":[{\"cells\":{\"fill\":{\"color\":\"#EBF0F8\"},\"line\":{\"color\":\"white\"}},\"header\":{\"fill\":{\"color\":\"#C8D4E3\"},\"line\":{\"color\":\"white\"}},\"type\":\"table\"}],\"barpolar\":[{\"marker\":{\"line\":{\"color\":\"#E5ECF6\",\"width\":0.5},\"pattern\":{\"fillmode\":\"overlay\",\"size\":10,\"solidity\":0.2}},\"type\":\"barpolar\"}],\"pie\":[{\"automargin\":true,\"type\":\"pie\"}]},\"layout\":{\"autotypenumbers\":\"strict\",\"colorway\":[\"#636efa\",\"#EF553B\",\"#00cc96\",\"#ab63fa\",\"#FFA15A\",\"#19d3f3\",\"#FF6692\",\"#B6E880\",\"#FF97FF\",\"#FECB52\"],\"font\":{\"color\":\"#2a3f5f\"},\"hovermode\":\"closest\",\"hoverlabel\":{\"align\":\"left\"},\"paper_bgcolor\":\"white\",\"plot_bgcolor\":\"#E5ECF6\",\"polar\":{\"bgcolor\":\"#E5ECF6\",\"angularaxis\":{\"gridcolor\":\"white\",\"linecolor\":\"white\",\"ticks\":\"\"},\"radialaxis\":{\"gridcolor\":\"white\",\"linecolor\":\"white\",\"ticks\":\"\"}},\"ternary\":{\"bgcolor\":\"#E5ECF6\",\"aaxis\":{\"gridcolor\":\"white\",\"linecolor\":\"white\",\"ticks\":\"\"},\"baxis\":{\"gridcolor\":\"white\",\"linecolor\":\"white\",\"ticks\":\"\"},\"caxis\":{\"gridcolor\":\"white\",\"linecolor\":\"white\",\"ticks\":\"\"}},\"coloraxis\":{\"colorbar\":{\"outlinewidth\":0,\"ticks\":\"\"}},\"colorscale\":{\"sequential\":[[0.0,\"#0d0887\"],[0.1111111111111111,\"#46039f\"],[0.2222222222222222,\"#7201a8\"],[0.3333333333333333,\"#9c179e\"],[0.4444444444444444,\"#bd3786\"],[0.5555555555555556,\"#d8576b\"],[0.6666666666666666,\"#ed7953\"],[0.7777777777777778,\"#fb9f3a\"],[0.8888888888888888,\"#fdca26\"],[1.0,\"#f0f921\"]],\"sequentialminus\":[[0.0,\"#0d0887\"],[0.1111111111111111,\"#46039f\"],[0.2222222222222222,\"#7201a8\"],[0.3333333333333333,\"#9c179e\"],[0.4444444444444444,\"#bd3786\"],[0.5555555555555556,\"#d8576b\"],[0.6666666666666666,\"#ed7953\"],[0.7777777777777778,\"#fb9f3a\"],[0.8888888888888888,\"#fdca26\"],[1.0,\"#f0f921\"]],\"diverging\":[[0,\"#8e0152\"],[0.1,\"#c51b7d\"],[0.2,\"#de77ae\"],[0.3,\"#f1b6da\"],[0.4,\"#fde0ef\"],[0.5,\"#f7f7f7\"],[0.6,\"#e6f5d0\"],[0.7,\"#b8e186\"],[0.8,\"#7fbc41\"],[0.9,\"#4d9221\"],[1,\"#276419\"]]},\"xaxis\":{\"gridcolor\":\"white\",\"linecolor\":\"white\",\"ticks\":\"\",\"title\":{\"standoff\":15},\"zerolinecolor\":\"white\",\"automargin\":true,\"zerolinewidth\":2},\"yaxis\":{\"gridcolor\":\"white\",\"linecolor\":\"white\",\"ticks\":\"\",\"title\":{\"standoff\":15},\"zerolinecolor\":\"white\",\"automargin\":true,\"zerolinewidth\":2},\"scene\":{\"xaxis\":{\"backgroundcolor\":\"#E5ECF6\",\"gridcolor\":\"white\",\"linecolor\":\"white\",\"showbackground\":true,\"ticks\":\"\",\"zerolinecolor\":\"white\",\"gridwidth\":2},\"yaxis\":{\"backgroundcolor\":\"#E5ECF6\",\"gridcolor\":\"white\",\"linecolor\":\"white\",\"showbackground\":true,\"ticks\":\"\",\"zerolinecolor\":\"white\",\"gridwidth\":2},\"zaxis\":{\"backgroundcolor\":\"#E5ECF6\",\"gridcolor\":\"white\",\"linecolor\":\"white\",\"showbackground\":true,\"ticks\":\"\",\"zerolinecolor\":\"white\",\"gridwidth\":2}},\"shapedefaults\":{\"line\":{\"color\":\"#2a3f5f\"}},\"annotationdefaults\":{\"arrowcolor\":\"#2a3f5f\",\"arrowhead\":0,\"arrowwidth\":1},\"geo\":{\"bgcolor\":\"white\",\"landcolor\":\"#E5ECF6\",\"subunitcolor\":\"white\",\"showland\":true,\"showlakes\":true,\"lakecolor\":\"white\"},\"title\":{\"x\":0.05},\"mapbox\":{\"style\":\"light\"}}},\"title\":{\"text\":\"Daily average temperature across the year segregated by cluster\",\"x\":0.5,\"y\":0.95},\"xaxis\":{\"title\":{\"text\":\"Day of the year\"}},\"yaxis\":{\"title\":{\"text\":\"Temperature (C)\"}},\"margin\":{\"l\":50,\"r\":50,\"b\":50,\"t\":75},\"autosize\":false,\"width\":1000,\"height\":400},                        {\"responsive\": true}                    ).then(function(){\n",
              "                            \n",
              "var gd = document.getElementById('098634c1-ad00-4bce-8ca2-341b7d8faa69');\n",
              "var x = new MutationObserver(function (mutations, observer) {{\n",
              "        var display = window.getComputedStyle(gd).display;\n",
              "        if (!display || display === 'none') {{\n",
              "            console.log([gd, 'removed!']);\n",
              "            Plotly.purge(gd);\n",
              "            observer.disconnect();\n",
              "        }}\n",
              "}});\n",
              "\n",
              "// Listen for the removal of the full notebook cells\n",
              "var notebookContainer = gd.closest('#notebook-container');\n",
              "if (notebookContainer) {{\n",
              "    x.observe(notebookContainer, {childList: true});\n",
              "}}\n",
              "\n",
              "// Listen for the clearing of the current output cell\n",
              "var outputEl = gd.closest('.output');\n",
              "if (outputEl) {{\n",
              "    x.observe(outputEl, {childList: true});\n",
              "}}\n",
              "\n",
              "                        })                };                            </script>        </div>\n",
              "</body>\n",
              "</html>"
            ]
          },
          "metadata": {}
        }
      ]
    },
    {
      "cell_type": "markdown",
      "source": [
        "In the plot above a clear demarcation can be seen among the four clusters with a decreasing trend in daily average temperature across the clusters. Further, the plot indicates that indeed four clusters are necessary and suffient to fully capture the different groupings in the data."
      ],
      "metadata": {
        "id": "D4G-SGC_kjiu"
      }
    },
    {
      "cell_type": "markdown",
      "source": [
        "Although K-means clustering will report the centers of each of the individual clusters, a more useful piece of information will be the data point closest to the cluster center since this data point will effectively represent a representative day for the whole cluster."
      ],
      "metadata": {
        "id": "qexosaAilJ-Z"
      }
    },
    {
      "cell_type": "code",
      "source": [
        "df_rep = pd.DataFrame()\n",
        "for i in range(0,4):\n",
        "  dfi = df_pivoted.loc[df_pivoted[\"KCluster\"]==i]\n",
        "  dfi_rep = dfi.iloc[np.argmin(np.linalg.norm(dfi.iloc[:,:-2].values - cluster_centers[[i]], axis=1))]  #Identify the data point closest to the center\n",
        "  df_rep = pd.concat([df_rep,dfi_rep],axis=1)\n",
        "sorted_columns = sorted(df_rep.columns, reverse=True)\n",
        "df_rep = df_rep.reindex(columns=sorted_columns) # Sort the column names which is the day of the year in descending order\n",
        "rep_days = sorted(np.unique(df.loc[df[\"day_of_year\"].isin(df_rep.columns)].index.date),reverse=True) # Find the dates of the representative days based on day of year column and sort them in descending order\n",
        "df_rep.rename(columns=dict(zip(df_rep.columns, rep_days)), inplace=True)\n",
        "df_rep = df_rep[df_rep.iloc[0].sort_values().index]\n",
        "df_rep.head()"
      ],
      "metadata": {
        "id": "LvqS0XZLutjE",
        "colab": {
          "base_uri": "https://localhost:8080/",
          "height": 206
        },
        "outputId": "7afc9189-3627-4541-a78f-1f257d155680"
      },
      "execution_count": null,
      "outputs": [
        {
          "output_type": "execute_result",
          "data": {
            "text/plain": [
              "   2023-12-26  2023-11-01  2023-10-08  2023-07-16\n",
              "0        -1.0         2.9         8.2        18.0\n",
              "1        -1.0         3.8         8.1        16.0\n",
              "2        -1.0         3.1         7.4        15.0\n",
              "3        -2.0         3.3         7.0        15.0\n",
              "4        -2.0         3.1         6.8        11.0"
            ],
            "text/html": [
              "\n",
              "  <div id=\"df-df123080-17a1-4326-95bb-47d79b3a15d6\" class=\"colab-df-container\">\n",
              "    <div>\n",
              "<style scoped>\n",
              "    .dataframe tbody tr th:only-of-type {\n",
              "        vertical-align: middle;\n",
              "    }\n",
              "\n",
              "    .dataframe tbody tr th {\n",
              "        vertical-align: top;\n",
              "    }\n",
              "\n",
              "    .dataframe thead th {\n",
              "        text-align: right;\n",
              "    }\n",
              "</style>\n",
              "<table border=\"1\" class=\"dataframe\">\n",
              "  <thead>\n",
              "    <tr style=\"text-align: right;\">\n",
              "      <th></th>\n",
              "      <th>2023-12-26</th>\n",
              "      <th>2023-11-01</th>\n",
              "      <th>2023-10-08</th>\n",
              "      <th>2023-07-16</th>\n",
              "    </tr>\n",
              "  </thead>\n",
              "  <tbody>\n",
              "    <tr>\n",
              "      <th>0</th>\n",
              "      <td>-1.0</td>\n",
              "      <td>2.9</td>\n",
              "      <td>8.2</td>\n",
              "      <td>18.0</td>\n",
              "    </tr>\n",
              "    <tr>\n",
              "      <th>1</th>\n",
              "      <td>-1.0</td>\n",
              "      <td>3.8</td>\n",
              "      <td>8.1</td>\n",
              "      <td>16.0</td>\n",
              "    </tr>\n",
              "    <tr>\n",
              "      <th>2</th>\n",
              "      <td>-1.0</td>\n",
              "      <td>3.1</td>\n",
              "      <td>7.4</td>\n",
              "      <td>15.0</td>\n",
              "    </tr>\n",
              "    <tr>\n",
              "      <th>3</th>\n",
              "      <td>-2.0</td>\n",
              "      <td>3.3</td>\n",
              "      <td>7.0</td>\n",
              "      <td>15.0</td>\n",
              "    </tr>\n",
              "    <tr>\n",
              "      <th>4</th>\n",
              "      <td>-2.0</td>\n",
              "      <td>3.1</td>\n",
              "      <td>6.8</td>\n",
              "      <td>11.0</td>\n",
              "    </tr>\n",
              "  </tbody>\n",
              "</table>\n",
              "</div>\n",
              "    <div class=\"colab-df-buttons\">\n",
              "\n",
              "  <div class=\"colab-df-container\">\n",
              "    <button class=\"colab-df-convert\" onclick=\"convertToInteractive('df-df123080-17a1-4326-95bb-47d79b3a15d6')\"\n",
              "            title=\"Convert this dataframe to an interactive table.\"\n",
              "            style=\"display:none;\">\n",
              "\n",
              "  <svg xmlns=\"http://www.w3.org/2000/svg\" height=\"24px\" viewBox=\"0 -960 960 960\">\n",
              "    <path d=\"M120-120v-720h720v720H120Zm60-500h600v-160H180v160Zm220 220h160v-160H400v160Zm0 220h160v-160H400v160ZM180-400h160v-160H180v160Zm440 0h160v-160H620v160ZM180-180h160v-160H180v160Zm440 0h160v-160H620v160Z\"/>\n",
              "  </svg>\n",
              "    </button>\n",
              "\n",
              "  <style>\n",
              "    .colab-df-container {\n",
              "      display:flex;\n",
              "      gap: 12px;\n",
              "    }\n",
              "\n",
              "    .colab-df-convert {\n",
              "      background-color: #E8F0FE;\n",
              "      border: none;\n",
              "      border-radius: 50%;\n",
              "      cursor: pointer;\n",
              "      display: none;\n",
              "      fill: #1967D2;\n",
              "      height: 32px;\n",
              "      padding: 0 0 0 0;\n",
              "      width: 32px;\n",
              "    }\n",
              "\n",
              "    .colab-df-convert:hover {\n",
              "      background-color: #E2EBFA;\n",
              "      box-shadow: 0px 1px 2px rgba(60, 64, 67, 0.3), 0px 1px 3px 1px rgba(60, 64, 67, 0.15);\n",
              "      fill: #174EA6;\n",
              "    }\n",
              "\n",
              "    .colab-df-buttons div {\n",
              "      margin-bottom: 4px;\n",
              "    }\n",
              "\n",
              "    [theme=dark] .colab-df-convert {\n",
              "      background-color: #3B4455;\n",
              "      fill: #D2E3FC;\n",
              "    }\n",
              "\n",
              "    [theme=dark] .colab-df-convert:hover {\n",
              "      background-color: #434B5C;\n",
              "      box-shadow: 0px 1px 3px 1px rgba(0, 0, 0, 0.15);\n",
              "      filter: drop-shadow(0px 1px 2px rgba(0, 0, 0, 0.3));\n",
              "      fill: #FFFFFF;\n",
              "    }\n",
              "  </style>\n",
              "\n",
              "    <script>\n",
              "      const buttonEl =\n",
              "        document.querySelector('#df-df123080-17a1-4326-95bb-47d79b3a15d6 button.colab-df-convert');\n",
              "      buttonEl.style.display =\n",
              "        google.colab.kernel.accessAllowed ? 'block' : 'none';\n",
              "\n",
              "      async function convertToInteractive(key) {\n",
              "        const element = document.querySelector('#df-df123080-17a1-4326-95bb-47d79b3a15d6');\n",
              "        const dataTable =\n",
              "          await google.colab.kernel.invokeFunction('convertToInteractive',\n",
              "                                                    [key], {});\n",
              "        if (!dataTable) return;\n",
              "\n",
              "        const docLinkHtml = 'Like what you see? Visit the ' +\n",
              "          '<a target=\"_blank\" href=https://colab.research.google.com/notebooks/data_table.ipynb>data table notebook</a>'\n",
              "          + ' to learn more about interactive tables.';\n",
              "        element.innerHTML = '';\n",
              "        dataTable['output_type'] = 'display_data';\n",
              "        await google.colab.output.renderOutput(dataTable, element);\n",
              "        const docLink = document.createElement('div');\n",
              "        docLink.innerHTML = docLinkHtml;\n",
              "        element.appendChild(docLink);\n",
              "      }\n",
              "    </script>\n",
              "  </div>\n",
              "\n",
              "\n",
              "<div id=\"df-3564b421-b3ea-4a12-9592-e48a56e7b8a1\">\n",
              "  <button class=\"colab-df-quickchart\" onclick=\"quickchart('df-3564b421-b3ea-4a12-9592-e48a56e7b8a1')\"\n",
              "            title=\"Suggest charts\"\n",
              "            style=\"display:none;\">\n",
              "\n",
              "<svg xmlns=\"http://www.w3.org/2000/svg\" height=\"24px\"viewBox=\"0 0 24 24\"\n",
              "     width=\"24px\">\n",
              "    <g>\n",
              "        <path d=\"M19 3H5c-1.1 0-2 .9-2 2v14c0 1.1.9 2 2 2h14c1.1 0 2-.9 2-2V5c0-1.1-.9-2-2-2zM9 17H7v-7h2v7zm4 0h-2V7h2v10zm4 0h-2v-4h2v4z\"/>\n",
              "    </g>\n",
              "</svg>\n",
              "  </button>\n",
              "\n",
              "<style>\n",
              "  .colab-df-quickchart {\n",
              "      --bg-color: #E8F0FE;\n",
              "      --fill-color: #1967D2;\n",
              "      --hover-bg-color: #E2EBFA;\n",
              "      --hover-fill-color: #174EA6;\n",
              "      --disabled-fill-color: #AAA;\n",
              "      --disabled-bg-color: #DDD;\n",
              "  }\n",
              "\n",
              "  [theme=dark] .colab-df-quickchart {\n",
              "      --bg-color: #3B4455;\n",
              "      --fill-color: #D2E3FC;\n",
              "      --hover-bg-color: #434B5C;\n",
              "      --hover-fill-color: #FFFFFF;\n",
              "      --disabled-bg-color: #3B4455;\n",
              "      --disabled-fill-color: #666;\n",
              "  }\n",
              "\n",
              "  .colab-df-quickchart {\n",
              "    background-color: var(--bg-color);\n",
              "    border: none;\n",
              "    border-radius: 50%;\n",
              "    cursor: pointer;\n",
              "    display: none;\n",
              "    fill: var(--fill-color);\n",
              "    height: 32px;\n",
              "    padding: 0;\n",
              "    width: 32px;\n",
              "  }\n",
              "\n",
              "  .colab-df-quickchart:hover {\n",
              "    background-color: var(--hover-bg-color);\n",
              "    box-shadow: 0 1px 2px rgba(60, 64, 67, 0.3), 0 1px 3px 1px rgba(60, 64, 67, 0.15);\n",
              "    fill: var(--button-hover-fill-color);\n",
              "  }\n",
              "\n",
              "  .colab-df-quickchart-complete:disabled,\n",
              "  .colab-df-quickchart-complete:disabled:hover {\n",
              "    background-color: var(--disabled-bg-color);\n",
              "    fill: var(--disabled-fill-color);\n",
              "    box-shadow: none;\n",
              "  }\n",
              "\n",
              "  .colab-df-spinner {\n",
              "    border: 2px solid var(--fill-color);\n",
              "    border-color: transparent;\n",
              "    border-bottom-color: var(--fill-color);\n",
              "    animation:\n",
              "      spin 1s steps(1) infinite;\n",
              "  }\n",
              "\n",
              "  @keyframes spin {\n",
              "    0% {\n",
              "      border-color: transparent;\n",
              "      border-bottom-color: var(--fill-color);\n",
              "      border-left-color: var(--fill-color);\n",
              "    }\n",
              "    20% {\n",
              "      border-color: transparent;\n",
              "      border-left-color: var(--fill-color);\n",
              "      border-top-color: var(--fill-color);\n",
              "    }\n",
              "    30% {\n",
              "      border-color: transparent;\n",
              "      border-left-color: var(--fill-color);\n",
              "      border-top-color: var(--fill-color);\n",
              "      border-right-color: var(--fill-color);\n",
              "    }\n",
              "    40% {\n",
              "      border-color: transparent;\n",
              "      border-right-color: var(--fill-color);\n",
              "      border-top-color: var(--fill-color);\n",
              "    }\n",
              "    60% {\n",
              "      border-color: transparent;\n",
              "      border-right-color: var(--fill-color);\n",
              "    }\n",
              "    80% {\n",
              "      border-color: transparent;\n",
              "      border-right-color: var(--fill-color);\n",
              "      border-bottom-color: var(--fill-color);\n",
              "    }\n",
              "    90% {\n",
              "      border-color: transparent;\n",
              "      border-bottom-color: var(--fill-color);\n",
              "    }\n",
              "  }\n",
              "</style>\n",
              "\n",
              "  <script>\n",
              "    async function quickchart(key) {\n",
              "      const quickchartButtonEl =\n",
              "        document.querySelector('#' + key + ' button');\n",
              "      quickchartButtonEl.disabled = true;  // To prevent multiple clicks.\n",
              "      quickchartButtonEl.classList.add('colab-df-spinner');\n",
              "      try {\n",
              "        const charts = await google.colab.kernel.invokeFunction(\n",
              "            'suggestCharts', [key], {});\n",
              "      } catch (error) {\n",
              "        console.error('Error during call to suggestCharts:', error);\n",
              "      }\n",
              "      quickchartButtonEl.classList.remove('colab-df-spinner');\n",
              "      quickchartButtonEl.classList.add('colab-df-quickchart-complete');\n",
              "    }\n",
              "    (() => {\n",
              "      let quickchartButtonEl =\n",
              "        document.querySelector('#df-3564b421-b3ea-4a12-9592-e48a56e7b8a1 button');\n",
              "      quickchartButtonEl.style.display =\n",
              "        google.colab.kernel.accessAllowed ? 'block' : 'none';\n",
              "    })();\n",
              "  </script>\n",
              "</div>\n",
              "    </div>\n",
              "  </div>\n"
            ]
          },
          "metadata": {},
          "execution_count": 65
        }
      ]
    },
    {
      "cell_type": "markdown",
      "source": [
        "The representative days are identified, along with the data are plotted below. The days correspond to: 16th July which is summer, 8th October which is representative of mild summer/spring weather, 1st November which is fall and 26th December which represents winter weather."
      ],
      "metadata": {
        "id": "lpvBJneFDSBM"
      }
    },
    {
      "cell_type": "code",
      "source": [
        "fig = go.Figure()\n",
        "\n",
        "colors = ['rgb(214, 39, 40)', 'rgb(255, 127, 14)', 'rgb(44, 160, 44)', 'rgb(31, 119, 180)']\n",
        "for i, column in enumerate(df_rep.columns):\n",
        "    fig.add_trace(go.Scatter(\n",
        "        x=df_rep.index,\n",
        "        y=df_rep[column],\n",
        "        mode='lines+markers',\n",
        "        name=str(column),\n",
        "        marker=dict(color=colors[i])  # Use 'color' instead of 'colors'\n",
        "    ))\n",
        "\n",
        "fig.update_layout(\n",
        "    title='Hourly Variation in Outdoor Temperature for 4 Representative Days',\n",
        "    xaxis_title='Hour of Day',\n",
        "    yaxis_title='Temperature (C)',\n",
        "    margin=dict(l=50, r=50, b=50, t=75),  # Adjust margins\n",
        "    autosize=False,  # Disable autosizing\n",
        "    width=1000,      # Set plot width\n",
        "    height=400,      # Set plot height\n",
        "    title_x=0.5,     # Center the title horizontally\n",
        "    title_y=0.95     # Adjust the title position vertically\n",
        ")\n",
        "\n",
        "fig.show()"
      ],
      "metadata": {
        "colab": {
          "base_uri": "https://localhost:8080/",
          "height": 417
        },
        "id": "ptXkvlNv40Y_",
        "outputId": "9a79ef94-9179-40c9-fe24-f531d3152837"
      },
      "execution_count": null,
      "outputs": [
        {
          "output_type": "display_data",
          "data": {
            "text/html": [
              "<html>\n",
              "<head><meta charset=\"utf-8\" /></head>\n",
              "<body>\n",
              "    <div>            <script src=\"https://cdnjs.cloudflare.com/ajax/libs/mathjax/2.7.5/MathJax.js?config=TeX-AMS-MML_SVG\"></script><script type=\"text/javascript\">if (window.MathJax && window.MathJax.Hub && window.MathJax.Hub.Config) {window.MathJax.Hub.Config({SVG: {font: \"STIX-Web\"}});}</script>                <script type=\"text/javascript\">window.PlotlyConfig = {MathJaxConfig: 'local'};</script>\n",
              "        <script charset=\"utf-8\" src=\"https://cdn.plot.ly/plotly-2.24.1.min.js\"></script>                <div id=\"f70e3b61-8b42-4b6e-9f6a-225011859bfb\" class=\"plotly-graph-div\" style=\"height:400px; width:1000px;\"></div>            <script type=\"text/javascript\">                                    window.PLOTLYENV=window.PLOTLYENV || {};                                    if (document.getElementById(\"f70e3b61-8b42-4b6e-9f6a-225011859bfb\")) {                    Plotly.newPlot(                        \"f70e3b61-8b42-4b6e-9f6a-225011859bfb\",                        [{\"marker\":{\"color\":\"rgb(214, 39, 40)\"},\"mode\":\"lines+markers\",\"name\":\"2023-12-26\",\"x\":[0,1,2,3,4,5,6,7,8,9,10,11,12,13,14,15,16,17,18,19,20,21,22,23,\"KCluster\",\"DailyAvgTemp\"],\"y\":[-1.0,-1.0,-1.0,-2.0,-2.0,-4.0,-4.0,-5.0,-5.0,-5.0,-3.0,-1.0,0.0,0.6,2.1,2.0,1.3,0.3,0.1,1.0,0.0,0.0,-1.0,-1.0,3.0,-1.1916666666666667],\"type\":\"scatter\"},{\"marker\":{\"color\":\"rgb(255, 127, 14)\"},\"mode\":\"lines+markers\",\"name\":\"2023-11-01\",\"x\":[0,1,2,3,4,5,6,7,8,9,10,11,12,13,14,15,16,17,18,19,20,21,22,23,\"KCluster\",\"DailyAvgTemp\"],\"y\":[2.9,3.8,3.1,3.3,3.1,2.3,2.8,2.0,2.0,2.4,4.6,6.7,7.3,7.7,9.1,10.0,9.4,8.8,7.6,5.5,4.2,4.1,4.4,4.6,1.0,5.070833333333333],\"type\":\"scatter\"},{\"marker\":{\"color\":\"rgb(44, 160, 44)\"},\"mode\":\"lines+markers\",\"name\":\"2023-10-08\",\"x\":[0,1,2,3,4,5,6,7,8,9,10,11,12,13,14,15,16,17,18,19,20,21,22,23,\"KCluster\",\"DailyAvgTemp\"],\"y\":[8.2,8.1,7.4,7.0,6.8,6.4,6.2,6.1,6.8,12.0,15.0,16.0,20.0,22.0,23.0,23.0,23.0,22.0,20.0,17.0,16.0,12.0,13.0,9.5,2.0,13.604166666666666],\"type\":\"scatter\"},{\"marker\":{\"color\":\"rgb(31, 119, 180)\"},\"mode\":\"lines+markers\",\"name\":\"2023-07-16\",\"x\":[0,1,2,3,4,5,6,7,8,9,10,11,12,13,14,15,16,17,18,19,20,21,22,23,\"KCluster\",\"DailyAvgTemp\"],\"y\":[18.0,16.0,15.0,15.0,11.0,13.0,11.2,12.4,18.0,20.0,21.0,23.0,25.0,26.0,27.0,28.0,29.0,30.0,28.0,26.0,25.0,18.3,21.0,20.0,0.0,20.704166666666666],\"type\":\"scatter\"}],                        {\"template\":{\"data\":{\"histogram2dcontour\":[{\"type\":\"histogram2dcontour\",\"colorbar\":{\"outlinewidth\":0,\"ticks\":\"\"},\"colorscale\":[[0.0,\"#0d0887\"],[0.1111111111111111,\"#46039f\"],[0.2222222222222222,\"#7201a8\"],[0.3333333333333333,\"#9c179e\"],[0.4444444444444444,\"#bd3786\"],[0.5555555555555556,\"#d8576b\"],[0.6666666666666666,\"#ed7953\"],[0.7777777777777778,\"#fb9f3a\"],[0.8888888888888888,\"#fdca26\"],[1.0,\"#f0f921\"]]}],\"choropleth\":[{\"type\":\"choropleth\",\"colorbar\":{\"outlinewidth\":0,\"ticks\":\"\"}}],\"histogram2d\":[{\"type\":\"histogram2d\",\"colorbar\":{\"outlinewidth\":0,\"ticks\":\"\"},\"colorscale\":[[0.0,\"#0d0887\"],[0.1111111111111111,\"#46039f\"],[0.2222222222222222,\"#7201a8\"],[0.3333333333333333,\"#9c179e\"],[0.4444444444444444,\"#bd3786\"],[0.5555555555555556,\"#d8576b\"],[0.6666666666666666,\"#ed7953\"],[0.7777777777777778,\"#fb9f3a\"],[0.8888888888888888,\"#fdca26\"],[1.0,\"#f0f921\"]]}],\"heatmap\":[{\"type\":\"heatmap\",\"colorbar\":{\"outlinewidth\":0,\"ticks\":\"\"},\"colorscale\":[[0.0,\"#0d0887\"],[0.1111111111111111,\"#46039f\"],[0.2222222222222222,\"#7201a8\"],[0.3333333333333333,\"#9c179e\"],[0.4444444444444444,\"#bd3786\"],[0.5555555555555556,\"#d8576b\"],[0.6666666666666666,\"#ed7953\"],[0.7777777777777778,\"#fb9f3a\"],[0.8888888888888888,\"#fdca26\"],[1.0,\"#f0f921\"]]}],\"heatmapgl\":[{\"type\":\"heatmapgl\",\"colorbar\":{\"outlinewidth\":0,\"ticks\":\"\"},\"colorscale\":[[0.0,\"#0d0887\"],[0.1111111111111111,\"#46039f\"],[0.2222222222222222,\"#7201a8\"],[0.3333333333333333,\"#9c179e\"],[0.4444444444444444,\"#bd3786\"],[0.5555555555555556,\"#d8576b\"],[0.6666666666666666,\"#ed7953\"],[0.7777777777777778,\"#fb9f3a\"],[0.8888888888888888,\"#fdca26\"],[1.0,\"#f0f921\"]]}],\"contourcarpet\":[{\"type\":\"contourcarpet\",\"colorbar\":{\"outlinewidth\":0,\"ticks\":\"\"}}],\"contour\":[{\"type\":\"contour\",\"colorbar\":{\"outlinewidth\":0,\"ticks\":\"\"},\"colorscale\":[[0.0,\"#0d0887\"],[0.1111111111111111,\"#46039f\"],[0.2222222222222222,\"#7201a8\"],[0.3333333333333333,\"#9c179e\"],[0.4444444444444444,\"#bd3786\"],[0.5555555555555556,\"#d8576b\"],[0.6666666666666666,\"#ed7953\"],[0.7777777777777778,\"#fb9f3a\"],[0.8888888888888888,\"#fdca26\"],[1.0,\"#f0f921\"]]}],\"surface\":[{\"type\":\"surface\",\"colorbar\":{\"outlinewidth\":0,\"ticks\":\"\"},\"colorscale\":[[0.0,\"#0d0887\"],[0.1111111111111111,\"#46039f\"],[0.2222222222222222,\"#7201a8\"],[0.3333333333333333,\"#9c179e\"],[0.4444444444444444,\"#bd3786\"],[0.5555555555555556,\"#d8576b\"],[0.6666666666666666,\"#ed7953\"],[0.7777777777777778,\"#fb9f3a\"],[0.8888888888888888,\"#fdca26\"],[1.0,\"#f0f921\"]]}],\"mesh3d\":[{\"type\":\"mesh3d\",\"colorbar\":{\"outlinewidth\":0,\"ticks\":\"\"}}],\"scatter\":[{\"fillpattern\":{\"fillmode\":\"overlay\",\"size\":10,\"solidity\":0.2},\"type\":\"scatter\"}],\"parcoords\":[{\"type\":\"parcoords\",\"line\":{\"colorbar\":{\"outlinewidth\":0,\"ticks\":\"\"}}}],\"scatterpolargl\":[{\"type\":\"scatterpolargl\",\"marker\":{\"colorbar\":{\"outlinewidth\":0,\"ticks\":\"\"}}}],\"bar\":[{\"error_x\":{\"color\":\"#2a3f5f\"},\"error_y\":{\"color\":\"#2a3f5f\"},\"marker\":{\"line\":{\"color\":\"#E5ECF6\",\"width\":0.5},\"pattern\":{\"fillmode\":\"overlay\",\"size\":10,\"solidity\":0.2}},\"type\":\"bar\"}],\"scattergeo\":[{\"type\":\"scattergeo\",\"marker\":{\"colorbar\":{\"outlinewidth\":0,\"ticks\":\"\"}}}],\"scatterpolar\":[{\"type\":\"scatterpolar\",\"marker\":{\"colorbar\":{\"outlinewidth\":0,\"ticks\":\"\"}}}],\"histogram\":[{\"marker\":{\"pattern\":{\"fillmode\":\"overlay\",\"size\":10,\"solidity\":0.2}},\"type\":\"histogram\"}],\"scattergl\":[{\"type\":\"scattergl\",\"marker\":{\"colorbar\":{\"outlinewidth\":0,\"ticks\":\"\"}}}],\"scatter3d\":[{\"type\":\"scatter3d\",\"line\":{\"colorbar\":{\"outlinewidth\":0,\"ticks\":\"\"}},\"marker\":{\"colorbar\":{\"outlinewidth\":0,\"ticks\":\"\"}}}],\"scattermapbox\":[{\"type\":\"scattermapbox\",\"marker\":{\"colorbar\":{\"outlinewidth\":0,\"ticks\":\"\"}}}],\"scatterternary\":[{\"type\":\"scatterternary\",\"marker\":{\"colorbar\":{\"outlinewidth\":0,\"ticks\":\"\"}}}],\"scattercarpet\":[{\"type\":\"scattercarpet\",\"marker\":{\"colorbar\":{\"outlinewidth\":0,\"ticks\":\"\"}}}],\"carpet\":[{\"aaxis\":{\"endlinecolor\":\"#2a3f5f\",\"gridcolor\":\"white\",\"linecolor\":\"white\",\"minorgridcolor\":\"white\",\"startlinecolor\":\"#2a3f5f\"},\"baxis\":{\"endlinecolor\":\"#2a3f5f\",\"gridcolor\":\"white\",\"linecolor\":\"white\",\"minorgridcolor\":\"white\",\"startlinecolor\":\"#2a3f5f\"},\"type\":\"carpet\"}],\"table\":[{\"cells\":{\"fill\":{\"color\":\"#EBF0F8\"},\"line\":{\"color\":\"white\"}},\"header\":{\"fill\":{\"color\":\"#C8D4E3\"},\"line\":{\"color\":\"white\"}},\"type\":\"table\"}],\"barpolar\":[{\"marker\":{\"line\":{\"color\":\"#E5ECF6\",\"width\":0.5},\"pattern\":{\"fillmode\":\"overlay\",\"size\":10,\"solidity\":0.2}},\"type\":\"barpolar\"}],\"pie\":[{\"automargin\":true,\"type\":\"pie\"}]},\"layout\":{\"autotypenumbers\":\"strict\",\"colorway\":[\"#636efa\",\"#EF553B\",\"#00cc96\",\"#ab63fa\",\"#FFA15A\",\"#19d3f3\",\"#FF6692\",\"#B6E880\",\"#FF97FF\",\"#FECB52\"],\"font\":{\"color\":\"#2a3f5f\"},\"hovermode\":\"closest\",\"hoverlabel\":{\"align\":\"left\"},\"paper_bgcolor\":\"white\",\"plot_bgcolor\":\"#E5ECF6\",\"polar\":{\"bgcolor\":\"#E5ECF6\",\"angularaxis\":{\"gridcolor\":\"white\",\"linecolor\":\"white\",\"ticks\":\"\"},\"radialaxis\":{\"gridcolor\":\"white\",\"linecolor\":\"white\",\"ticks\":\"\"}},\"ternary\":{\"bgcolor\":\"#E5ECF6\",\"aaxis\":{\"gridcolor\":\"white\",\"linecolor\":\"white\",\"ticks\":\"\"},\"baxis\":{\"gridcolor\":\"white\",\"linecolor\":\"white\",\"ticks\":\"\"},\"caxis\":{\"gridcolor\":\"white\",\"linecolor\":\"white\",\"ticks\":\"\"}},\"coloraxis\":{\"colorbar\":{\"outlinewidth\":0,\"ticks\":\"\"}},\"colorscale\":{\"sequential\":[[0.0,\"#0d0887\"],[0.1111111111111111,\"#46039f\"],[0.2222222222222222,\"#7201a8\"],[0.3333333333333333,\"#9c179e\"],[0.4444444444444444,\"#bd3786\"],[0.5555555555555556,\"#d8576b\"],[0.6666666666666666,\"#ed7953\"],[0.7777777777777778,\"#fb9f3a\"],[0.8888888888888888,\"#fdca26\"],[1.0,\"#f0f921\"]],\"sequentialminus\":[[0.0,\"#0d0887\"],[0.1111111111111111,\"#46039f\"],[0.2222222222222222,\"#7201a8\"],[0.3333333333333333,\"#9c179e\"],[0.4444444444444444,\"#bd3786\"],[0.5555555555555556,\"#d8576b\"],[0.6666666666666666,\"#ed7953\"],[0.7777777777777778,\"#fb9f3a\"],[0.8888888888888888,\"#fdca26\"],[1.0,\"#f0f921\"]],\"diverging\":[[0,\"#8e0152\"],[0.1,\"#c51b7d\"],[0.2,\"#de77ae\"],[0.3,\"#f1b6da\"],[0.4,\"#fde0ef\"],[0.5,\"#f7f7f7\"],[0.6,\"#e6f5d0\"],[0.7,\"#b8e186\"],[0.8,\"#7fbc41\"],[0.9,\"#4d9221\"],[1,\"#276419\"]]},\"xaxis\":{\"gridcolor\":\"white\",\"linecolor\":\"white\",\"ticks\":\"\",\"title\":{\"standoff\":15},\"zerolinecolor\":\"white\",\"automargin\":true,\"zerolinewidth\":2},\"yaxis\":{\"gridcolor\":\"white\",\"linecolor\":\"white\",\"ticks\":\"\",\"title\":{\"standoff\":15},\"zerolinecolor\":\"white\",\"automargin\":true,\"zerolinewidth\":2},\"scene\":{\"xaxis\":{\"backgroundcolor\":\"#E5ECF6\",\"gridcolor\":\"white\",\"linecolor\":\"white\",\"showbackground\":true,\"ticks\":\"\",\"zerolinecolor\":\"white\",\"gridwidth\":2},\"yaxis\":{\"backgroundcolor\":\"#E5ECF6\",\"gridcolor\":\"white\",\"linecolor\":\"white\",\"showbackground\":true,\"ticks\":\"\",\"zerolinecolor\":\"white\",\"gridwidth\":2},\"zaxis\":{\"backgroundcolor\":\"#E5ECF6\",\"gridcolor\":\"white\",\"linecolor\":\"white\",\"showbackground\":true,\"ticks\":\"\",\"zerolinecolor\":\"white\",\"gridwidth\":2}},\"shapedefaults\":{\"line\":{\"color\":\"#2a3f5f\"}},\"annotationdefaults\":{\"arrowcolor\":\"#2a3f5f\",\"arrowhead\":0,\"arrowwidth\":1},\"geo\":{\"bgcolor\":\"white\",\"landcolor\":\"#E5ECF6\",\"subunitcolor\":\"white\",\"showland\":true,\"showlakes\":true,\"lakecolor\":\"white\"},\"title\":{\"x\":0.05},\"mapbox\":{\"style\":\"light\"}}},\"margin\":{\"l\":50,\"r\":50,\"b\":50,\"t\":75},\"title\":{\"text\":\"Hourly Variation in Outdoor Temperature for 4 Representative Days\",\"x\":0.5,\"y\":0.95},\"xaxis\":{\"title\":{\"text\":\"Hour of Day\"}},\"yaxis\":{\"title\":{\"text\":\"Temperature (C)\"}},\"autosize\":false,\"width\":1000,\"height\":400},                        {\"responsive\": true}                    ).then(function(){\n",
              "                            \n",
              "var gd = document.getElementById('f70e3b61-8b42-4b6e-9f6a-225011859bfb');\n",
              "var x = new MutationObserver(function (mutations, observer) {{\n",
              "        var display = window.getComputedStyle(gd).display;\n",
              "        if (!display || display === 'none') {{\n",
              "            console.log([gd, 'removed!']);\n",
              "            Plotly.purge(gd);\n",
              "            observer.disconnect();\n",
              "        }}\n",
              "}});\n",
              "\n",
              "// Listen for the removal of the full notebook cells\n",
              "var notebookContainer = gd.closest('#notebook-container');\n",
              "if (notebookContainer) {{\n",
              "    x.observe(notebookContainer, {childList: true});\n",
              "}}\n",
              "\n",
              "// Listen for the clearing of the current output cell\n",
              "var outputEl = gd.closest('.output');\n",
              "if (outputEl) {{\n",
              "    x.observe(outputEl, {childList: true});\n",
              "}}\n",
              "\n",
              "                        })                };                            </script>        </div>\n",
              "</body>\n",
              "</html>"
            ]
          },
          "metadata": {}
        }
      ]
    },
    {
      "cell_type": "markdown",
      "source": [
        "In a final test, the variance of the whole years worth of hourly temperature data can be compared with the variance of the hourly temperature data from each individual cluster using box plots."
      ],
      "metadata": {
        "id": "0vQIsG-I6CT7"
      }
    },
    {
      "cell_type": "code",
      "source": [
        "fig = go.Figure()\n",
        "xlab = [1,2,3,4,5]\n",
        "fig.add_trace(go.Box(y=df[\"Dry Bulb Temperature {C}\"], name='Whole Year'))\n",
        "#fig.update_layout(title='Whole Dataset Box Plot')\n",
        "\n",
        "# Create box plots for each cluster sequentially\n",
        "colors = ['rgb(31, 119, 180)', 'rgb(255, 127, 14)', 'rgb(44, 160, 44)', 'rgb(214, 39, 40)']\n",
        "\n",
        "for i in range(4):\n",
        "    cluster_data = df_pivoted[df_pivoted['KCluster'] == i]\n",
        "    fig.add_trace(go.Box(y=cluster_data.values.flatten(),name=f\"Cluster {i}\",marker_color=colors[i]))\n",
        "\n",
        "fig.update_layout(title='Box plots of hourly temperature data from the whole year as well as from each individual cluster', yaxis_title='Temperature (C)')\n",
        "fig.update_layout(\n",
        "    margin=dict(l=50, r=50, b=50, t=75),  # Adjust margins to make the plot tighter\n",
        "    autosize=False,  # Disable autosizing\n",
        "    width=1000,       # Set the width of the plot\n",
        "    height=400,       # Set the height of the plot\n",
        "    title_x=0.5,\n",
        "    title_y=0.95\n",
        ")\n",
        "# Show plot\n",
        "fig.show()"
      ],
      "metadata": {
        "colab": {
          "base_uri": "https://localhost:8080/",
          "height": 417
        },
        "id": "EuHydpb6o4cp",
        "outputId": "a3f0f866-6910-4b9b-a402-b1855a5eb30a"
      },
      "execution_count": null,
      "outputs": [
        {
          "output_type": "display_data",
          "data": {
            "text/html": [
              "<html>\n",
              "<head><meta charset=\"utf-8\" /></head>\n",
              "<body>\n",
              "    <div>            <script src=\"https://cdnjs.cloudflare.com/ajax/libs/mathjax/2.7.5/MathJax.js?config=TeX-AMS-MML_SVG\"></script><script type=\"text/javascript\">if (window.MathJax && window.MathJax.Hub && window.MathJax.Hub.Config) {window.MathJax.Hub.Config({SVG: {font: \"STIX-Web\"}});}</script>                <script type=\"text/javascript\">window.PlotlyConfig = {MathJaxConfig: 'local'};</script>\n",
              "        <script charset=\"utf-8\" src=\"https://cdn.plot.ly/plotly-2.24.1.min.js\"></script>                <div id=\"63edf3b4-47ba-43dc-9fbc-6d8dbf635b0d\" class=\"plotly-graph-div\" style=\"height:400px; width:1000px;\"></div>            <script type=\"text/javascript\">                                    window.PLOTLYENV=window.PLOTLYENV || {};                                    if (document.getElementById(\"63edf3b4-47ba-43dc-9fbc-6d8dbf635b0d\")) {                    Plotly.newPlot(                        \"63edf3b4-47ba-43dc-9fbc-6d8dbf635b0d\",                        [{\"name\":\"Whole Year\",\"y\":[-13.0,-13.0,-14.0,-14.0,-15.0,-15.0,-15.0,-15.0,-16.0,-15.0,-15.0,-15.0,-12.0,-11.0,-11.0,-10.0,-10.0,-11.0,-12.0,-13.0,-13.0,-15.0,-14.0,-14.0,-15.0,-15.0,-13.0,-13.0,-12.0,-11.0,-11.0,-13.0,-10.0,-10.0,-7.0,-3.0,-2.0,0.0,1.0,0.4,1.0,1.0,-1.0,-2.0,-2.0,-4.0,-4.0,-3.0,-5.0,-6.0,-5.0,-4.0,-6.0,-6.0,-4.0,-5.0,-5.0,-3.0,0.0,0.3,3.0,3.6,5.1,6.0,5.7,3.8,1.3,6.0,8.0,3.0,4.0,4.0,6.0,8.0,10.0,5.0,1.0,0.0,0.0,-2.0,1.0,2.0,1.4,3.5,6.5,7.9,11.1,15.0,10.9,8.8,4.4,2.4,1.2,4.0,6.0,3.0,4.0,3.0,2.0,2.0,1.0,2.0,1.0,0.0,0.0,2.0,2.3,8.0,10.0,11.0,13.0,13.0,9.8,8.7,8.0,8.0,8.0,4.8,4.7,4.0,3.4,2.9,2.1,1.7,2.0,1.0,0.0,0.0,0.0,0.0,0.8,6.7,11.0,9.4,12.0,12.0,8.8,8.1,6.1,4.4,3.3,1.0,5.0,4.0,3.0,3.0,3.0,5.0,5.0,5.0,4.0,4.0,5.0,5.0,1.2,5.7,8.0,8.0,7.1,10.0,8.0,7.0,5.6,6.0,5.2,4.2,3.6,1.6,1.0,1.0,0.0,-2.0,-1.0,-2.0,-3.0,-3.0,-3.0,-2.0,-1.0,1.6,3.2,4.7,5.5,6.0,4.3,3.6,1.4,1.5,1.0,0.0,0.0,-1.0,-1.0,-1.0,-3.0,-3.0,-3.0,-2.0,-2.0,-3.0,-3.0,-2.0,0.0,1.6,2.7,5.0,6.0,7.0,5.7,4.4,4.7,3.0,1.2,0.0,1.0,1.0,0.0,1.0,0.0,0.0,2.0,2.0,2.0,2.0,0.0,0.2,4.0,8.0,10.0,12.0,12.0,12.0,11.0,7.8,10.0,8.0,4.2,2.4,1.7,1.7,1.7,2.2,1.7,1.4,1.3,0.6,0.3,0.3,0.0,0.2,0.2,0.2,1.0,1.0,0.0,0.2,2.0,0.1,0.0,0.0,0.0,0.0,1.0,0.0,0.0,0.0,1.0,1.0,1.0,0.0,0.0,0.0,0.0,0.0,1.0,2.0,0.1,0.2,0.2,0.2,3.0,3.0,1.0,0.0,0.0,1.0,1.0,0.0,-1.0,-2.0,-2.0,-2.0,-2.0,-3.0,-3.0,-3.0,-4.0,-2.0,-1.0,0.0,2.0,3.0,3.0,0.3,4.0,0.6,1.0,0.0,0.0,0.0,-1.0,-2.0,-1.0,-2.0,-3.0,-3.0,-5.0,-5.0,-4.0,-6.0,-5.0,-3.0,0.0,2.0,4.0,0.6,2.1,4.0,4.5,3.5,2.0,2.0,2.0,2.0,1.0,1.0,-2.0,-2.0,-3.0,-2.0,-3.0,-3.0,-3.0,-3.0,-3.0,-2.0,0.0,3.0,2.7,4.5,8.0,7.0,5.1,4.7,0.7,4.0,3.0,2.0,2.0,1.0,1.0,0.0,1.0,0.0,1.0,0.0,0.0,0.0,0.0,0.0,1.0,3.0,5.0,4.0,6.4,6.1,5.9,6.0,2.7,2.2,1.9,1.1,1.1,0.6,0.2,5.0,5.0,5.0,4.0,7.0,3.0,4.0,5.0,6.0,0.7,4.1,8.0,7.2,7.7,9.5,9.5,9.0,7.0,3.1,1.1,0.3,0.0,0.6,0.4,0.2,0.2,6.0,0.2,0.4,0.2,2.0,1.0,2.0,2.0,1.0,1.0,0.6,0.2,0.5,0.3,0.3,1.0,1.0,0.0,0.0,0.0,-2.0,-1.0,-1.0,0.0,0.0,-3.0,-2.0,-4.0,-1.0,2.0,2.0,3.0,0.4,1.9,2.7,3.1,4.4,3.7,3.4,1.8,1.1,0.9,0.1,0.1,5.0,5.0,7.0,7.0,5.0,6.0,4.0,5.0,5.0,3.0,2.0,3.5,5.4,6.7,9.2,9.7,8.0,6.6,7.6,8.0,4.1,0.9,3.0,1.0,1.0,1.0,0.0,0.0,0.0,-1.0,-2.0,-1.0,-3.0,-2.0,-2.0,0.2,5.3,9.3,7.8,7.0,8.9,6.1,5.8,4.0,2.4,1.3,3.0,2.0,-1.0,-1.0,-1.0,-1.0,-1.0,0.0,-1.0,-2.0,-3.0,-3.0,-3.0,-1.0,-2.0,0.0,0.0,0.0,0.0,0.0,0.0,-1.0,-2.0,-3.0,-3.0,-4.0,-5.0,-5.0,-1.0,-1.0,0.0,-6.0,-6.0,-1.0,0.0,0.0,0.0,2.0,5.0,0.2,0.9,1.2,3.5,1.9,1.5,0.9,3.0,2.1,0.1,0.0,0.0,0.0,0.0,-1.0,-2.0,-2.0,-3.0,-3.0,-3.0,-4.0,-6.0,-6.0,-6.0,-5.0,-4.0,-2.0,-1.0,-1.0,-3.0,-5.0,-6.0,-6.0,-7.0,-7.0,-7.0,-7.0,-8.0,-8.0,-10.0,-8.0,-10.0,-8.0,-10.0,-8.0,-8.0,-3.0,-1.0,0.0,2.0,3.0,0.7,2.0,1.0,0.0,-1.0,-1.0,-1.0,-1.0,-3.0,-2.0,2.0,0.0,-2.0,-3.0,-3.0,-1.0,1.0,1.0,2.0,-2.0,1.1,1.0,1.2,2.1,3.5,3.2,2.5,2.2,2.4,5.0,5.0,5.0,5.0,5.0,6.0,4.0,5.0,5.0,5.0,5.0,4.0,6.0,0.5,1.7,5.0,5.9,8.0,6.9,6.8,6.5,6.8,7.1,6.6,7.1,4.8,4.0,2.7,1.9,0.0,1.4,0.0,0.0,0.0,-1.0,-2.0,-3.0,-5.0,-5.0,-4.0,-3.0,-3.0,-4.0,-2.0,-2.0,-2.0,-4.0,-6.0,-6.0,-7.0,-8.0,-11.0,-10.0,-10.0,-11.0,-11.0,-10.0,-10.0,-11.0,-10.0,-11.0,-10.0,-8.0,-7.0,-5.0,-3.0,-1.0,0.0,0.0,-1.0,-2.0,-5.0,-5.0,-6.0,-6.0,-6.0,-6.0,-10.0,-10.0,-10.0,-10.0,-13.0,-12.0,-13.0,-11.0,-6.0,5.0,1.0,0.1,2.8,4.4,5.0,3.0,2.7,1.3,5.0,3.0,6.0,2.0,3.0,1.0,6.0,6.0,0.0,-1.0,-3.0,-3.0,-3.0,-4.0,-1.0,0.0,2.0,4.0,5.0,6.0,8.0,6.1,5.3,4.1,1.7,2.0,1.2,2.5,3.8,3.3,3.6,1.9,0.4,0.8,1.3,2.2,1.7,2.4,3.8,5.0,8.2,10.5,11.7,12.3,16.0,11.1,10.2,8.9,7.8,5.8,4.7,4.2,3.5,3.1,2.2,2.1,2.4,2.0,1.2,1.0,0.9,0.8,1.7,6.0,10.6,13.8,15.6,16.3,17.4,16.2,15.3,12.3,8.5,4.8,1.7,1.2,3.0,1.0,0.0,0.0,0.0,-1.0,-1.0,-1.0,-3.0,-3.0,-4.0,-4.0,-5.0,-6.0,-6.0,-6.0,-6.0,-6.0,-7.0,-7.0,-7.0,-7.0,-8.0,-8.0,-8.0,-8.0,-8.0,-9.0,-9.0,-10.0,-10.0,-10.0,-10.0,-10.0,-10.0,-10.0,-9.0,-8.0,-8.0,-8.0,-8.0,-8.0,-8.0,-9.0,-11.0,-11.0,-13.0,-13.0,-12.0,-12.0,-14.0,-12.0,-13.0,-16.0,-15.0,-16.0,-16.0,-16.0,-15.0,-13.0,-10.0,-7.0,-6.0,-5.0,-2.0,-2.0,-5.0,-6.0,-6.0,-3.0,-2.0,-2.0,-3.0,-4.0,-2.0,-3.0,-3.0,-3.0,-3.0,-2.0,0.0,-3.0,-2.0,-3.0,-3.0,-2.0,1.0,2.0,0.5,2.0,2.0,1.0,0.0,0.0,0.0,0.0,-3.0,-3.0,-3.0,-3.0,-2.0,-2.0,-2.0,-3.0,-3.0,-3.0,-3.0,-3.0,-2.0,-1.0,-1.0,-1.0,-1.0,-1.0,-1.0,-1.0,-2.0,-2.0,-1.0,-1.0,-2.0,-2.0,-3.0,-5.0,-5.0,-5.0,-6.0,-5.0,-6.0,-5.0,-3.0,-1.0,1.1,1.0,1.3,3.0,5.0,4.4,6.5,6.4,2.5,1.3,0.7,1.0,2.0,0.1,2.0,1.0,0.0,0.0,0.0,-1.0,-1.0,-2.0,-3.0,-3.0,-2.0,-2.0,-2.0,-2.0,-2.0,-2.0,-2.0,-3.0,-3.0,-3.0,-4.0,-5.0,-7.0,-8.0,-9.0,-10.0,-8.0,-8.0,-9.0,-9.0,-8.0,-9.0,-7.0,-6.0,-2.0,-1.0,-1.0,0.0,0.0,-1.0,0.0,-1.0,-3.0,-4.0,-4.0,-4.0,-4.0,-5.0,-5.0,-6.0,-6.0,-6.0,-7.0,-9.0,-12.0,-11.0,-9.0,-8.0,-6.0,-4.0,-3.0,-2.0,-1.0,-2.0,-2.0,-3.0,-6.0,-7.0,-7.0,-8.0,-6.0,-5.0,-5.0,-5.0,1.0,0.0,0.0,0.0,0.0,1.0,0.0,1.0,3.0,2.0,1.0,1.0,-1.0,-1.0,-1.0,-1.0,-2.0,-3.0,-3.0,-4.0,-5.0,-5.0,-6.0,-6.0,-6.0,-6.0,-7.0,-7.0,-7.0,-7.0,-7.0,-6.0,-6.0,-5.0,-4.0,-3.0,-2.0,-2.0,-2.0,-5.0,-7.0,-7.0,-9.0,-8.0,-9.0,-8.0,-10.0,-10.0,-11.0,-10.0,-10.0,-11.0,-11.0,-10.0,-7.0,-5.0,1.7,2.6,6.4,5.0,8.2,8.2,9.5,5.4,3.3,2.0,8.0,6.0,8.0,6.0,5.0,6.0,0.0,-1.0,-2.0,-3.0,-3.0,-3.0,-2.0,1.0,2.0,2.0,5.0,0.2,1.2,1.3,1.0,2.3,2.3,2.2,-1.0,-1.0,-2.0,-2.0,-3.0,-2.0,-3.0,-3.0,-2.0,-2.0,-2.0,-1.0,-1.0,0.0,1.6,4.5,5.2,5.0,6.0,6.0,5.0,7.0,5.3,2.5,1.3,1.6,1.5,1.6,1.6,1.6,0.6,0.0,0.0,0.0,0.0,-1.0,1.0,0.6,1.2,1.5,1.4,1.6,1.4,5.0,4.0,2.0,2.0,0.0,-2.0,-2.0,-3.0,-3.0,-4.0,-4.0,-3.0,-6.0,-7.0,-6.0,-8.0,-6.0,-3.0,-2.0,-1.0,0.0,1.0,1.0,1.0,2.0,1.0,-1.0,-2.0,-2.0,-1.0,-2.0,-2.0,-4.0,-5.0,-5.0,-5.0,-6.0,-7.0,-5.0,-4.0,-5.0,-4.0,-4.0,-3.0,-4.0,-3.0,-3.0,-4.0,-4.0,-5.0,-5.0,-6.0,-7.0,-7.0,-8.0,-9.0,-8.0,-8.0,-10.0,-11.0,-12.0,-12.0,-12.0,-12.0,-13.0,-12.0,-10.0,-7.0,-5.0,-3.0,0.0,1.0,0.0,0.0,-2.0,-3.0,-4.0,-5.0,-5.0,-6.0,-7.0,-7.0,-7.0,-8.0,-7.0,-8.0,-7.0,-6.0,-6.0,-2.0,2.0,3.0,1.0,2.4,7.0,8.0,8.0,8.0,7.0,2.4,3.0,2.0,0.0,0.0,0.0,0.0,0.0,0.0,1.0,10.0,11.0,10.0,10.0,11.0,1.6,4.1,8.0,7.3,6.3,5.9,7.9,9.0,9.0,5.6,4.4,3.7,5.0,3.6,3.0,3.1,3.1,3.0,1.9,2.3,1.9,1.5,1.0,1.7,1.3,1.1,1.5,1.5,2.0,2.5,2.5,2.3,3.8,4.0,2.0,2.0,1.0,0.0,0.0,0.0,0.0,0.0,3.0,0.0,0.0,0.0,5.0,5.0,3.0,2.0,4.0,2.0,0.3,0.4,1.0,1.0,0.0,0.0,0.0,-1.0,0.0,0.0,-1.0,-1.0,-1.0,-2.0,-2.0,-3.0,-3.0,-3.0,-2.0,-2.0,-3.0,-2.0,-2.0,-2.0,-2.0,-2.0,-2.0,-2.0,-3.0,-4.0,-5.0,-6.0,-6.0,-7.0,-8.0,-8.0,-9.0,-10.0,-10.0,-10.0,-11.0,-10.0,-9.0,-6.0,-4.0,-1.0,0.0,1.0,2.0,1.0,0.5,1.0,0.6,3.0,3.0,3.0,3.0,2.0,4.0,4.0,2.0,3.0,3.0,3.0,2.0,1.0,0.0,4.0,5.0,1.0,2.1,2.5,3.3,4.3,4.3,5.2,5.2,6.0,2.7,6.0,6.0,6.0,6.0,6.0,6.0,5.0,6.0,6.0,5.0,6.0,6.0,8.0,1.4,3.1,6.0,5.9,6.7,7.4,8.1,8.0,8.1,5.6,4.5,5.0,3.0,1.2,0.0,-1.0,-1.5,-1.8,-2.0,-2.5,-2.2,-3.0,-3.0,-1.0,0.0,2.0,5.0,7.0,9.0,10.0,10.0,10.0,8.0,7.0,3.5,6.0,4.0,7.0,4.0,6.0,5.0,7.0,7.0,2.0,1.0,0.0,0.0,1.5,6.1,9.0,12.5,13.6,14.8,20.0,20.0,19.0,13.6,11.9,6.0,11.0,11.0,10.0,9.0,7.0,5.0,5.0,5.0,2.0,3.0,3.0,1.0,1.0,6.3,11.0,14.0,15.0,17.0,18.0,18.0,18.0,17.0,13.0,6.2,0.8,11.0,10.0,6.0,5.0,8.0,5.0,3.0,2.0,5.0,5.0,2.0,3.4,8.0,11.0,14.0,12.9,12.8,14.0,11.3,8.5,4.9,3.8,1.9,3.0,3.0,1.0,0.0,0.0,0.0,0.0,0.0,-1.0,-1.0,-1.0,0.0,0.0,1.0,1.0,2.0,0.2,0.5,1.3,0.8,0.6,0.0,1.0,1.0,0.0,1.0,0.0,0.0,-1.0,0.0,-1.0,-1.0,-1.0,-1.0,-1.0,-1.0,1.0,2.0,0.2,1.0,2.3,3.4,4.7,5.7,5.8,5.2,3.3,3.0,2.0,0.0,-1.0,-3.0,-3.0,-3.0,-3.0,-3.0,-3.0,-6.0,-5.0,-5.0,-2.0,0.0,3.1,5.0,7.0,6.8,10.0,8.6,8.2,7.4,4.3,0.0,3.0,3.0,1.0,0.0,0.0,-1.0,-1.0,0.0,0.0,0.0,0.0,0.0,0.0,3.1,10.0,10.2,10.8,11.1,11.8,13.1,12.9,11.1,13.0,6.1,3.3,1.9,1.6,1.3,1.0,0.5,1.1,10.0,10.0,9.0,8.0,0.2,6.1,8.3,10.1,11.1,12.0,13.0,17.0,13.4,12.9,14.0,9.6,11.0,3.9,2.9,2.1,1.8,2.4,2.5,2.3,1.3,1.2,0.8,0.4,0.3,3.3,6.1,6.9,6.8,7.2,7.6,6.7,5.5,6.2,5.8,3.0,4.0,2.0,1.0,0.0,0.0,-1.0,-1.0,-1.0,-3.0,-2.0,-3.0,-3.0,-3.0,0.0,0.8,3.0,4.0,4.8,5.9,6.8,7.0,7.1,5.7,6.0,2.2,3.0,2.0,2.0,1.0,1.0,0.0,-1.0,-1.0,-2.0,-2.0,-2.0,-1.0,1.0,4.0,6.7,9.0,7.9,9.5,12.0,12.0,12.0,10.0,8.0,4.1,1.2,1.4,0.8,4.0,2.0,1.0,0.0,0.0,-1.0,-1.0,-1.0,0.0,1.0,3.0,5.0,8.0,7.6,9.1,12.0,13.0,13.0,12.0,9.0,8.0,1.5,0.9,0.5,7.0,6.0,2.0,2.0,1.0,1.0,1.0,0.0,2.0,3.3,10.0,12.0,15.0,17.0,18.0,18.0,14.6,14.4,17.0,15.0,9.5,4.4,3.8,2.0,0.4,0.1,0.3,5.0,5.0,0.2,0.4,0.2,0.7,8.0,11.0,13.0,15.0,17.0,16.0,16.0,9.6,7.6,6.3,5.7,5.0,2.3,1.3,0.9,0.2,0.2,0.7,0.8,0.5,0.7,0.5,0.2,0.4,2.4,4.4,7.2,8.0,8.1,8.0,8.4,7.8,8.0,7.7,5.3,4.3,6.0,4.0,4.0,5.0,4.0,2.0,2.0,0.0,0.0,0.0,0.0,0.0,2.1,5.0,7.0,10.0,11.0,13.0,15.0,15.0,16.0,14.0,12.0,7.2,2.9,2.2,1.8,1.9,1.4,0.3,0.2,2.0,1.0,1.0,1.0,0.0,4.5,7.0,9.0,10.0,8.6,7.6,6.0,4.4,3.9,2.4,0.4,0.4,1.0,1.0,1.0,1.0,1.0,0.0,0.0,0.0,0.0,0.0,0.0,0.0,2.0,3.0,1.5,3.2,3.1,3.8,6.0,4.2,3.9,3.4,3.0,2.0,2.0,1.0,0.0,0.0,0.0,0.0,0.0,0.0,-1.0,-1.0,-1.0,-1.0,0.7,2.2,4.3,5.4,5.7,6.4,7.1,7.3,7.0,8.0,4.7,6.0,2.4,4.0,4.0,2.0,2.0,1.0,1.0,0.0,0.0,0.0,-1.0,1.0,2.3,7.0,8.0,11.0,13.0,11.7,13.0,13.0,14.0,13.0,12.0,10.0,4.7,3.5,2.9,3.0,2.1,2.1,1.4,0.7,0.9,1.1,1.3,2.9,7.9,11.6,14.1,18.0,16.2,16.7,20.0,21.0,20.0,15.8,14.3,11.3,8.0,8.0,8.0,7.5,7.1,7.2,6.6,6.0,6.4,6.9,5.8,8.0,11.6,12.9,16.0,11.7,11.4,13.2,16.0,11.4,11.4,13.0,12.0,11.0,7.2,6.8,4.6,3.7,2.2,1.4,1.1,3.0,2.0,1.0,1.0,0.7,6.0,8.0,11.0,12.0,15.0,16.0,16.0,16.0,16.0,15.0,14.0,10.0,5.4,4.6,4.3,4.0,2.9,3.0,2.4,4.0,2.0,2.0,1.0,1.3,6.0,7.0,11.0,13.0,15.0,15.0,15.0,10.8,10.0,8.5,7.5,5.6,2.4,1.7,1.5,0.8,0.5,1.2,0.9,0.3,0.5,0.2,0.6,0.8,3.0,4.0,5.0,6.0,6.0,8.0,9.0,5.9,3.8,2.5,2.2,1.0,0.0,0.0,0.0,0.0,0.0,0.0,0.0,0.0,0.0,0.0,0.0,0.0,0.0,1.0,0.8,0.9,1.2,2.5,3.8,5.5,5.7,5.1,5.6,4.7,1.6,3.0,3.0,2.0,2.0,2.0,2.0,1.0,1.0,0.0,0.0,2.0,1.9,3.0,3.9,3.7,5.1,4.6,3.2,1.5,1.0,1.0,1.0,1.0,1.0,1.0,0.0,0.0,0.0,-2.0,-1.0,-1.0,-2.0,-3.0,-2.0,0.0,0.0,0.3,4.0,2.6,3.5,3.6,2.8,2.5,1.2,0.5,0.6,1.0,2.0,1.0,1.0,1.0,0.0,0.0,0.0,0.0,-1.0,-1.0,-1.0,0.0,2.0,3.7,6.0,7.5,10.8,15.0,16.0,16.0,16.0,12.5,10.5,9.6,8.0,7.9,7.0,6.2,5.7,4.6,3.4,0.7,0.0,1.0,0.3,1.0,2.5,4.1,6.1,7.5,10.0,12.0,13.0,10.0,9.0,6.8,0.9,0.2,-0.2,-0.8,-1.2,-1.8,-2.0,-2.0,-2.2,-2.5,-2.5,-1.8,-3.0,-2.0,0.6,2.5,4.4,5.0,5.2,6.9,9.0,9.8,8.0,10.0,9.8,5.0,2.4,1.7,1.2,0.5,0.2,0.2,2.0,1.0,0.0,1.0,0.1,5.0,9.7,10.0,13.0,20.0,21.0,17.4,22.0,22.0,21.0,16.0,14.2,10.5,11.0,13.0,9.4,5.5,3.7,0.8,5.0,2.0,1.0,0.0,0.0,1.0,3.0,1.3,3.1,4.0,4.9,5.8,7.2,7.0,7.0,6.7,4.3,3.1,5.0,4.0,4.0,2.0,0.0,0.0,-1.0,-1.0,-1.0,-1.0,-1.0,0.0,4.1,7.5,8.0,12.0,14.0,15.0,15.0,14.0,13.0,13.0,11.0,9.0,5.8,4.1,4.3,3.2,2.8,3.2,4.1,1.5,1.4,1.6,1.7,4.9,12.0,11.0,15.0,16.0,16.0,16.0,17.0,18.0,16.0,15.0,11.0,9.6,8.7,7.6,6.4,5.7,4.7,4.4,3.9,2.4,1.7,2.0,1.2,1.0,1.5,1.2,-2.0,-2.0,-2.0,-2.0,-2.0,-1.0,-3.0,-3.0,-3.0,-3.0,-4.0,-4.0,-4.0,-4.0,-4.0,-5.0,-5.0,-5.0,-5.0,-5.0,-4.0,-3.0,-1.0,0.7,2.8,4.5,5.9,7.0,8.0,8.0,9.0,9.0,8.0,8.0,7.0,7.0,8.0,7.3,6.3,5.8,6.6,4.2,4.9,5.6,5.3,5.6,11.0,11.0,10.6,14.0,11.9,15.0,16.0,13.0,13.0,12.0,9.0,7.4,6.8,8.0,5.6,3.5,1.8,0.5,5.0,0.8,1.9,1.0,0.8,0.5,2.2,3.3,7.0,8.0,8.0,10.0,8.9,9.8,9.8,8.1,6.5,4.1,1.5,1.0,1.1,1.0,0.0,4.0,4.0,3.0,3.0,5.0,2.0,3.0,8.0,10.0,12.0,16.0,18.0,20.0,21.0,20.0,20.0,20.0,19.0,18.0,10.1,7.6,6.4,5.8,5.9,6.1,6.6,5.8,5.7,5.4,5.2,8.1,14.1,20.0,20.0,22.0,23.0,23.0,24.0,25.0,25.0,23.0,22.0,20.0,9.9,7.6,5.9,5.5,5.4,5.3,3.9,3.7,3.6,3.8,4.2,8.0,10.0,10.0,12.0,15.0,18.0,17.9,23.0,19.2,23.0,21.0,17.0,15.0,7.8,6.7,4.9,3.0,3.1,2.2,0.7,0.3,0.3,0.6,0.7,1.2,2.2,3.1,3.5,4.4,4.5,4.7,4.7,3.2,3.3,2.7,1.9,1.6,0.3,3.0,1.0,1.0,1.0,2.0,1.0,1.0,1.0,0.0,1.0,0.7,3.5,7.0,7.0,7.5,8.5,10.0,14.0,13.0,10.1,9.0,7.6,4.8,5.2,4.7,2.0,1.9,2.0,2.0,2.0,0.4,0.0,1.0,1.0,3.0,7.0,10.0,11.0,13.0,14.0,15.0,16.0,15.0,15.0,15.0,14.0,9.3,6.9,9.0,6.0,4.2,3.4,3.0,1.7,2.0,2.0,1.0,3.0,3.0,8.1,11.6,11.0,13.0,15.0,18.0,18.0,18.0,18.0,17.0,16.0,15.0,9.4,9.4,11.0,11.0,8.0,7.0,7.0,6.8,6.3,6.2,5.6,10.1,18.0,20.0,20.0,20.0,17.0,10.0,8.7,6.9,5.7,5.2,5.2,3.7,1.0,5.0,3.0,3.0,0.1,4.0,4.0,3.0,2.0,2.0,2.0,0.7,4.0,5.2,6.6,7.3,8.3,9.4,13.0,13.0,10.2,9.4,8.1,7.0,2.1,0.9,6.0,0.1,3.0,3.0,1.3,0.2,0.2,0.0,1.0,3.0,5.0,7.0,8.0,10.0,12.0,13.0,15.0,15.0,15.0,15.0,14.0,13.0,7.7,9.0,8.0,7.0,5.4,4.2,4.1,1.8,2.3,2.4,2.8,6.0,7.0,7.0,7.0,8.0,9.0,9.0,10.0,5.1,3.2,3.3,3.2,2.5,1.3,1.1,0.7,0.4,0.0,0.0,1.0,1.0,1.0,0.0,0.0,0.1,1.4,1.4,1.5,0.5,0.4,0.3,1.2,3.3,3.4,3.4,3.0,2.0,0.8,0.1,0.6,2.0,1.0,0.0,2.0,0.0,0.0,0.0,1.0,1.1,6.0,9.0,12.0,14.0,12.4,17.0,17.0,17.0,17.0,17.0,16.0,14.0,8.4,7.6,5.1,4.9,3.8,3.3,2.4,1.6,1.5,1.2,1.7,5.5,10.0,13.0,15.0,16.0,18.0,16.0,18.0,22.0,20.0,15.7,18.0,14.0,8.8,8.0,6.0,5.0,3.0,3.0,2.0,1.0,0.7,0.4,0.2,0.5,1.4,1.5,1.7,1.7,1.0,2.0,3.0,2.1,2.0,2.1,1.6,1.5,0.2,0.4,0.3,0.6,0.3,2.0,1.0,0.0,0.0,0.0,1.0,2.0,5.0,7.0,10.0,12.0,14.0,16.0,17.0,18.0,19.0,19.0,17.0,10.7,5.4,4.8,3.2,2.8,2.4,2.8,4.0,5.1,4.1,3.1,3.4,5.8,7.5,10.0,11.0,12.0,10.3,10.8,12.0,15.0,15.0,12.0,10.6,12.0,4.1,2.4,1.0,0.2,6.0,6.0,5.0,5.0,3.0,4.0,0.8,6.3,12.0,16.0,18.0,19.0,20.0,21.0,21.0,21.0,21.0,21.0,20.0,17.0,8.6,7.2,6.3,4.9,4.2,3.3,2.1,1.9,1.6,1.8,2.8,9.0,11.0,13.0,16.0,18.0,19.0,19.0,21.0,22.0,21.0,22.0,21.0,14.8,12.1,11.5,10.2,9.6,9.5,10.0,12.0,6.1,6.2,6.4,7.9,12.0,17.0,22.0,24.0,24.0,25.0,26.0,26.0,25.0,24.0,23.0,22.0,16.0,11.8,11.3,8.9,7.8,6.0,4.9,4.1,5.0,5.3,5.0,6.1,9.4,15.0,16.0,16.0,17.0,18.0,18.0,20.0,19.0,20.0,19.0,11.3,8.5,6.3,5.6,5.0,4.6,4.1,3.7,3.6,3.6,3.8,5.4,3.9,4.3,9.8,11.0,11.8,11.9,13.0,13.5,18.0,12.4,12.5,11.6,12.0,8.1,6.2,5.4,3.5,1.8,1.5,2.6,1.8,2.7,2.0,2.0,2.4,3.9,8.0,8.2,9.4,9.4,10.2,10.1,10.5,10.4,10.2,12.0,12.0,8.0,5.8,5.2,5.0,4.5,3.8,3.5,3.2,1.2,2.0,1.8,1.6,3.0,4.1,4.1,5.0,6.0,5.7,7.6,11.0,13.0,13.0,13.0,12.0,7.0,3.1,2.5,1.3,0.7,5.0,5.0,4.0,3.0,3.0,3.0,1.1,5.5,11.0,15.0,17.0,18.0,18.0,20.0,20.0,21.0,21.0,21.0,21.0,14.1,9.3,8.1,5.5,5.5,4.8,4.4,2.9,3.3,3.7,4.0,5.1,13.0,16.0,19.0,21.0,22.0,23.0,25.0,25.0,25.0,25.0,25.0,23.0,15.6,12.2,10.9,9.9,8.5,7.6,6.7,5.4,5.4,5.7,6.0,7.6,15.0,17.0,20.0,23.0,26.0,28.0,30.0,27.0,28.0,22.2,25.0,23.0,21.0,15.1,13.7,12.0,11.3,10.6,9.4,8.6,9.6,9.7,9.9,11.1,13.6,20.0,17.3,22.0,23.0,25.0,25.0,25.0,20.8,16.0,17.0,16.0,12.3,9.5,8.1,8.0,7.3,7.2,7.2,6.6,6.8,6.8,6.6,8.0,13.0,17.0,17.0,18.0,20.0,19.0,18.0,16.0,10.9,12.0,13.0,12.0,12.0,11.0,11.0,10.0,11.0,11.0,10.0,10.0,10.0,10.0,10.0,10.0,8.7,12.0,13.0,11.8,12.8,12.4,12.5,16.0,15.0,13.3,13.1,12.7,15.0,13.0,13.0,8.8,9.5,12.0,8.9,8.8,6.7,6.3,6.3,7.5,10.0,11.0,11.0,11.0,10.0,11.0,11.0,11.0,8.6,10.0,10.0,9.0,7.0,6.3,6.6,6.6,8.0,6.3,6.1,5.6,7.0,5.3,5.6,6.3,8.0,11.0,11.0,12.0,14.0,16.0,15.0,17.0,17.0,18.0,17.0,17.0,11.7,8.3,8.5,6.7,6.0,5.2,4.6,4.1,4.6,4.3,4.0,5.3,11.0,13.0,17.0,18.0,21.0,22.0,25.0,25.0,26.0,26.0,25.0,23.0,21.0,13.4,12.3,11.2,10.0,8.5,7.7,6.9,6.9,6.7,6.5,7.6,15.0,17.0,20.0,23.0,25.0,27.0,28.0,28.0,27.0,28.0,28.0,23.0,23.0,15.3,14.7,11.9,10.9,11.6,10.8,9.0,8.6,7.4,7.2,8.5,15.0,16.0,17.0,18.0,18.0,20.0,21.0,22.0,22.0,21.0,20.0,20.0,18.0,13.4,13.1,11.7,10.3,9.2,8.4,6.6,6.4,6.6,6.9,7.6,12.0,14.0,15.0,18.0,21.0,22.0,24.0,24.0,24.0,22.0,23.0,21.0,20.0,14.1,13.4,12.7,11.3,9.9,9.3,7.8,6.3,6.2,6.3,6.8,13.0,16.0,18.0,20.0,21.0,19.0,15.0,15.0,13.0,12.0,9.4,9.3,11.0,7.7,9.0,6.6,8.0,6.0,5.0,4.1,4.1,3.5,3.9,5.0,11.0,16.0,17.0,18.0,20.0,20.0,17.1,20.0,18.0,15.0,11.1,9.6,7.0,4.5,4.4,5.0,4.0,4.0,3.0,3.0,0.7,0.1,0.1,2.0,1.0,0.0,0.0,0.4,0.2,0.1,1.0,1.0,1.0,1.0,1.0,0.0,1.0,0.0,1.0,1.0,1.0,1.0,1.0,1.0,1.0,1.0,1.0,1.0,0.6,1.5,1.7,2.0,1.9,1.5,1.5,1.8,1.7,1.6,1.6,1.5,1.3,1.0,1.1,1.4,0.0,2.0,0.3,1.0,1.0,0.0,1.0,3.0,1.2,6.3,7.0,10.0,8.8,10.8,11.7,15.0,15.0,16.0,12.4,14.0,9.5,6.5,5.5,5.3,4.8,3.8,2.2,0.7,2.1,1.6,1.9,3.4,6.8,12.0,15.0,16.0,13.4,13.9,17.0,14.3,13.0,13.0,13.0,12.0,10.0,9.0,6.6,6.4,6.0,5.5,5.0,3.9,3.0,2.7,2.9,3.9,7.2,13.0,11.5,17.0,18.0,17.0,14.9,17.0,14.0,9.0,7.0,7.0,7.0,4.7,4.8,3.6,2.5,1.9,1.2,0.9,0.3,0.9,1.0,2.0,3.9,8.4,9.8,14.0,11.7,15.0,16.0,15.0,16.0,16.0,13.4,12.7,9.9,7.7,5.9,5.4,4.8,3.2,2.8,1.4,2.2,2.4,3.0,4.6,8.6,13.0,16.0,21.0,25.0,26.0,27.0,27.0,28.0,28.0,28.0,26.0,22.0,14.5,13.1,11.8,10.8,10.2,10.4,9.8,10.2,10.4,9.5,10.6,14.1,20.0,18.0,18.0,21.0,17.0,18.0,20.0,17.0,19.0,17.0,15.0,12.0,11.0,8.3,8.5,10.0,8.0,8.0,8.0,6.3,7.0,7.0,8.0,7.7,10.0,11.0,11.0,11.0,13.8,13.3,12.8,14.2,13.8,14.9,15.3,13.7,10.3,9.9,9.5,8.6,8.1,7.2,7.0,6.5,5.9,5.8,7.2,9.3,11.6,10.5,9.4,9.9,9.2,8.1,9.4,9.8,10.3,10.5,10.4,9.9,6.1,5.6,4.0,3.4,2.8,2.6,2.5,2.9,2.9,2.8,3.8,8.5,13.4,14.6,15.6,16.2,16.7,17.2,17.8,17.1,17.1,16.5,15.8,13.0,10.1,9.1,7.9,6.8,7.0,7.2,5.2,4.8,4.6,4.7,6.1,10.0,15.0,17.0,18.0,19.0,17.0,17.0,16.0,18.0,18.0,17.0,17.0,12.1,8.7,8.6,7.2,6.1,5.4,4.7,3.7,5.4,5.4,5.5,7.3,14.0,16.0,17.0,20.0,21.0,22.0,22.0,23.0,22.0,23.0,23.0,22.0,20.0,12.4,11.9,11.6,10.5,9.2,7.2,4.7,5.6,5.7,5.7,7.9,16.0,18.0,20.0,22.0,23.0,24.0,25.0,26.0,26.0,25.0,20.2,19.0,17.8,15.3,13.1,11.0,9.2,8.1,7.5,7.0,7.2,9.5,12.1,8.7,16.0,17.0,20.0,21.0,23.0,25.0,24.0,23.0,21.0,18.7,24.0,23.0,21.0,13.2,12.3,11.8,10.8,9.7,9.2,8.6,8.5,9.2,9.6,10.9,17.0,20.0,20.0,21.0,22.0,22.0,22.0,19.0,18.0,16.6,21.0,20.0,17.0,11.4,10.5,10.0,9.7,9.1,8.5,7.1,7.0,9.0,7.6,8.9,13.3,20.0,20.0,21.0,22.0,23.0,23.0,23.0,24.0,23.0,25.0,23.0,21.0,18.0,17.0,16.0,16.0,10.9,10.5,8.6,7.9,7.5,7.6,8.4,16.0,18.0,20.0,21.0,23.0,24.0,25.0,26.0,27.0,27.0,27.0,25.0,22.0,16.4,14.3,14.1,16.0,12.8,11.6,10.2,10.0,9.8,9.5,11.6,18.0,20.0,22.0,25.0,23.0,22.0,24.0,20.8,23.0,19.1,19.5,19.8,22.0,14.5,17.0,13.1,15.0,15.0,15.0,14.0,10.0,9.8,11.0,13.4,14.6,21.0,21.0,21.0,23.0,22.0,21.0,23.0,23.0,18.0,17.4,22.0,19.0,18.0,13.9,17.0,18.0,16.0,15.0,15.0,12.0,13.0,13.0,11.9,17.0,19.0,21.0,22.0,23.0,24.0,22.0,25.0,18.7,20.0,20.8,25.0,22.0,16.7,17.0,16.0,15.0,11.9,11.4,13.0,11.0,12.0,11.0,11.7,16.0,18.0,19.0,21.0,23.0,25.0,25.0,26.0,25.0,25.0,25.0,23.0,22.0,21.0,16.6,20.0,18.0,16.0,12.1,11.0,13.0,12.0,13.0,16.0,19.0,23.0,26.0,30.0,32.0,31.0,32.0,32.0,32.0,33.0,32.0,31.0,28.0,24.0,18.9,17.6,16.0,14.6,14.8,13.8,13.6,16.0,16.0,20.0,24.0,28.0,30.0,31.0,32.0,31.0,31.0,32.0,32.0,29.0,27.0,26.0,25.0,23.0,17.2,14.5,12.2,11.8,11.8,15.0,15.0,16.0,13.4,18.0,17.0,17.0,20.0,20.0,21.0,23.0,23.0,24.0,24.0,25.0,23.0,23.0,22.0,21.0,15.6,14.4,14.1,14.2,13.1,11.7,12.1,12.1,13.3,14.1,20.0,21.0,23.0,24.0,26.0,26.0,28.0,30.0,30.0,28.0,28.0,31.0,23.7,19.0,17.1,15.5,13.4,12.9,13.0,9.5,8.1,7.6,7.9,10.4,12.2,18.0,18.0,20.0,20.0,22.0,24.0,26.0,25.0,25.0,23.0,24.0,22.0,20.0,14.7,13.7,13.6,12.7,10.8,10.5,9.0,9.1,9.6,10.8,14.5,22.0,24.0,26.0,27.0,28.0,28.0,30.0,30.0,30.0,30.0,22.3,24.0,17.2,13.7,13.5,10.6,10.4,10.1,9.8,9.1,8.4,8.8,11.3,21.0,22.0,23.0,25.0,28.0,30.0,30.0,29.0,29.0,29.0,27.0,26.0,25.0,23.0,17.0,15.5,15.0,13.1,11.8,10.6,9.3,9.1,9.4,11.9,23.0,27.0,28.0,30.0,28.0,30.0,30.0,32.0,33.0,33.0,31.0,32.0,28.0,19.7,19.2,22.0,16.9,16.2,15.9,15.5,14.1,14.9,14.5,15.2,20.0,22.0,22.0,21.0,23.0,24.0,26.0,25.0,21.0,20.0,20.0,18.0,18.0,17.0,17.0,16.0,16.0,12.2,11.8,10.8,11.2,11.2,10.5,11.6,14.1,20.0,21.0,21.0,23.0,25.0,26.0,27.0,28.0,28.0,28.0,27.0,25.0,23.0,21.0,19.0,18.0,17.0,16.0,16.0,15.0,15.0,10.9,12.9,18.0,20.0,21.0,23.0,25.0,26.0,27.0,28.0,28.0,28.0,28.0,27.0,24.0,18.2,21.0,16.5,20.0,14.8,13.6,13.0,11.9,15.0,15.0,14.2,21.0,24.0,27.0,30.0,33.0,34.0,36.0,35.0,33.0,32.0,34.0,32.0,29.0,21.6,19.3,18.4,24.0,18.8,21.0,19.0,16.8,16.7,15.9,17.0,21.3,30.0,31.0,32.0,33.0,36.0,33.0,35.0,36.0,36.0,32.0,30.0,31.0,29.0,20.6,19.4,18.1,17.2,18.2,17.8,16.2,16.6,16.6,17.6,25.0,30.0,32.0,32.0,30.0,30.0,27.0,25.0,23.0,23.0,23.0,22.0,22.0,21.0,19.0,18.0,18.0,14.7,14.1,12.3,11.3,10.9,10.0,10.0,10.0,11.0,11.0,11.0,11.0,12.0,12.0,13.0,15.0,15.0,16.0,16.0,15.0,13.0,13.0,10.1,12.0,12.0,12.0,10.0,9.0,10.0,10.0,11.0,13.0,14.0,15.0,17.0,18.0,19.0,21.0,22.0,23.0,22.0,23.0,21.0,20.0,15.1,14.4,14.0,13.1,12.7,11.7,9.8,13.0,12.0,9.3,9.9,15.0,15.0,16.0,16.0,16.0,17.0,18.0,19.0,21.0,21.0,21.0,21.0,19.0,17.0,14.1,17.0,11.9,12.0,11.8,12.0,12.0,13.0,13.0,14.0,17.0,18.0,21.0,23.0,25.0,26.0,28.0,29.0,30.0,30.0,29.0,27.0,26.0,24.0,21.0,20.0,18.0,14.0,17.0,16.0,14.0,13.0,15.0,16.0,18.0,20.0,21.0,23.0,31.0,35.0,33.0,35.0,35.0,35.0,33.0,32.0,30.0,23.0,22.0,15.2,12.9,12.1,11.9,11.6,10.5,11.4,11.9,17.0,19.0,23.0,25.0,26.0,27.0,27.0,30.0,30.0,31.0,31.0,28.0,28.0,26.0,23.0,22.0,20.0,15.8,15.2,13.2,11.9,10.3,10.9,10.8,12.0,15.8,22.0,23.0,26.0,27.0,28.0,27.0,26.0,27.0,25.0,26.0,23.0,21.0,14.1,12.6,11.7,11.9,13.0,9.5,9.5,9.8,9.8,13.0,10.4,13.0,13.0,15.0,16.0,18.0,18.0,18.0,21.0,22.0,22.0,23.0,16.9,14.4,12.3,12.5,12.6,12.8,12.5,11.7,11.3,11.3,13.2,15.0,12.8,18.0,18.0,19.0,20.0,22.0,23.0,26.0,25.0,26.0,25.0,25.0,25.0,22.0,21.0,20.0,18.0,17.0,13.5,16.0,11.5,11.5,10.9,12.0,16.0,18.0,19.0,21.0,23.0,25.0,26.0,27.0,27.0,28.0,28.0,27.0,26.0,24.0,22.0,21.0,20.0,15.5,13.2,12.0,11.0,9.8,9.6,9.6,12.1,20.0,21.0,24.0,26.0,27.0,28.0,30.0,31.0,30.0,31.0,30.0,27.0,23.0,23.0,18.2,16.1,15.6,14.8,15.0,14.9,13.8,14.2,14.4,14.9,23.0,26.0,29.0,30.0,31.0,32.0,32.0,32.0,27.0,26.0,27.0,26.0,26.0,20.5,24.0,22.0,21.0,20.0,20.0,19.0,15.3,15.5,20.0,20.0,22.0,25.0,25.0,27.0,30.0,28.0,28.0,28.0,28.0,25.0,24.0,24.0,23.0,22.0,22.0,22.0,18.0,18.0,18.0,21.0,16.2,16.5,16.4,16.6,20.4,26.0,28.0,31.0,31.0,33.0,33.0,29.0,28.0,28.0,28.0,27.0,26.0,18.5,22.0,23.0,16.4,16.2,15.1,14.7,12.9,13.9,14.2,15.3,22.0,22.0,25.0,27.0,28.0,30.0,30.0,32.0,24.6,27.0,30.0,29.0,26.0,19.5,22.0,21.0,16.5,15.1,15.0,15.3,14.3,14.2,17.0,19.0,22.0,23.0,26.0,28.0,32.0,35.0,34.0,31.0,33.0,32.0,32.0,32.0,31.0,27.0,18.8,19.0,17.7,16.9,21.0,17.0,14.1,13.8,14.1,16.4,26.0,27.0,31.0,32.0,34.0,34.0,35.0,34.0,32.0,34.0,32.0,30.0,27.0,26.0,23.0,23.0,21.0,21.0,20.0,19.0,13.7,14.0,17.0,15.2,21.0,23.0,24.0,25.0,27.0,27.0,30.0,31.0,33.0,33.0,25.5,31.0,28.0,19.8,19.0,17.1,20.0,15.7,15.2,14.5,12.6,12.9,12.6,14.9,22.0,23.0,26.0,28.0,31.0,33.0,35.0,37.0,37.0,37.0,35.0,32.0,30.0,22.9,25.0,19.2,18.3,17.7,17.1,16.6,16.5,16.9,17.0,17.5,23.0,26.0,28.0,31.0,32.0,33.0,31.0,21.0,20.0,23.0,24.0,22.0,22.0,21.0,21.0,20.0,20.0,21.0,21.0,20.0,15.4,19.0,15.1,15.8,21.0,23.0,26.0,28.0,29.0,29.0,25.0,22.0,22.0,21.0,19.0,20.0,20.0,19.0,19.0,18.0,18.0,17.0,17.0,17.0,17.0,17.0,15.0,17.0,20.0,22.0,24.0,22.0,22.0,22.0,25.0,26.0,26.0,25.0,25.0,25.0,23.0,16.6,16.5,16.7,16.6,20.0,19.0,18.0,18.0,18.0,18.0,19.0,20.0,21.0,22.0,24.0,19.4,23.0,22.0,23.0,22.0,23.0,23.0,24.0,22.0,16.7,20.0,18.0,18.0,16.0,15.0,15.0,11.0,13.0,11.2,12.4,18.0,20.0,21.0,23.0,25.0,26.0,27.0,28.0,29.0,30.0,28.0,26.0,25.0,18.3,21.0,20.0,18.0,17.0,17.0,16.0,11.4,11.5,15.0,17.0,18.0,20.0,22.0,24.0,26.0,27.0,29.0,30.0,31.0,31.0,31.0,30.0,28.0,26.0,25.0,22.0,17.5,21.0,21.0,16.1,19.0,18.0,17.0,20.0,23.0,25.0,27.0,29.0,31.0,33.0,26.0,28.0,23.0,25.0,26.0,24.0,23.0,22.0,23.0,23.0,22.0,21.0,20.0,20.0,19.0,15.2,19.0,16.0,17.9,26.0,21.1,26.0,27.0,27.0,27.0,27.0,20.6,26.0,25.0,25.0,23.0,17.0,16.7,15.4,18.0,18.0,14.3,16.0,11.9,12.2,12.4,17.0,21.0,22.0,25.0,27.0,27.0,31.0,30.0,31.0,29.0,29.0,28.0,22.0,20.0,20.0,15.3,15.5,15.0,18.0,12.2,12.4,15.0,15.0,15.0,16.0,18.0,21.0,21.0,22.0,24.0,26.0,27.0,28.0,30.0,31.0,31.0,30.0,28.0,20.5,19.6,18.9,17.7,17.5,20.0,18.0,18.0,14.7,18.0,15.4,18.8,25.0,27.0,28.0,30.0,32.0,33.0,34.0,34.0,34.0,33.0,32.0,29.0,21.0,20.2,22.0,16.6,16.0,15.6,14.6,14.3,15.0,19.0,15.8,22.0,23.0,25.0,26.0,27.0,29.0,31.0,31.0,32.0,32.0,31.0,29.0,26.0,25.0,23.0,21.0,21.0,21.0,21.0,20.0,19.0,15.6,18.0,18.0,21.0,22.0,24.0,25.0,26.0,27.0,26.0,26.0,26.0,26.0,25.0,26.0,25.0,23.0,19.0,17.0,16.0,16.0,15.0,16.0,15.0,15.0,15.0,16.0,16.0,18.0,21.0,23.0,25.0,24.0,23.7,17.0,20.0,22.0,21.4,20.8,20.2,19.6,19.0,19.0,18.0,14.4,13.9,17.0,12.2,11.9,11.8,12.6,18.0,20.0,22.0,23.0,25.0,26.0,26.0,26.0,26.0,27.0,28.0,27.0,21.0,18.0,18.0,17.0,16.0,16.0,15.0,15.0,14.0,13.0,12.0,15.0,17.0,18.0,21.0,22.0,23.0,23.0,22.0,22.0,23.0,23.0,22.0,20.0,18.0,17.0,17.0,16.0,16.0,15.0,16.0,16.0,15.0,16.0,15.0,15.0,15.0,15.0,16.0,17.0,17.0,17.0,17.0,18.0,21.0,22.0,22.0,21.0,20.0,18.0,18.0,17.0,16.0,16.0,15.0,16.0,15.0,15.0,15.0,15.0,16.0,16.0,17.0,17.0,18.0,18.0,18.0,18.0,20.0,22.0,22.0,22.0,21.0,18.0,18.0,17.0,13.6,17.0,16.0,16.0,9.6,9.4,9.2,9.6,18.0,21.0,23.0,25.0,28.0,29.0,30.0,31.0,30.0,29.0,28.0,26.0,21.0,21.0,21.0,18.0,18.0,18.0,16.0,14.4,12.9,15.0,16.0,13.6,20.0,22.0,25.0,27.0,27.0,30.0,32.0,32.0,32.0,31.0,28.0,22.5,21.2,20.0,19.8,18.7,17.8,17.0,16.3,16.3,16.7,18.0,19.2,18.0,20.0,22.0,25.0,26.0,28.0,26.0,27.0,25.0,24.0,25.0,26.0,25.0,24.0,16.9,20.0,18.0,18.0,18.0,17.0,18.0,17.0,16.0,16.0,18.0,20.0,23.0,25.0,27.0,28.0,29.0,30.0,29.0,23.0,28.0,27.0,25.0,23.0,23.0,22.0,19.0,21.0,20.0,18.0,18.0,13.3,13.5,15.0,18.0,21.0,22.0,25.0,27.0,30.0,32.0,33.0,33.0,35.0,35.0,32.0,32.0,29.0,27.0,20.2,24.0,17.8,17.2,17.0,17.5,18.0,18.0,18.0,20.0,23.0,25.0,27.0,30.0,31.0,28.0,30.0,31.0,30.0,28.0,29.0,28.0,28.0,20.4,19.8,19.2,19.5,18.8,17.4,20.0,15.3,15.4,19.0,15.4,22.0,23.0,26.0,28.0,30.0,28.0,31.0,25.0,26.0,28.0,25.0,25.0,23.0,22.0,21.0,20.0,20.0,17.0,15.1,17.0,12.9,12.9,13.3,14.2,21.0,23.0,26.0,28.0,31.0,33.0,33.0,32.0,32.0,35.0,32.0,30.0,27.0,26.0,24.0,23.0,21.0,17.3,17.2,16.3,14.1,18.0,17.0,15.8,22.0,23.0,24.0,26.0,27.0,28.0,29.0,31.0,30.0,28.0,28.0,27.0,26.0,20.0,20.0,21.0,19.0,18.0,18.0,18.0,18.0,18.0,18.0,18.0,20.0,21.0,23.0,25.0,26.0,25.0,25.0,26.0,23.0,21.0,22.0,21.0,21.0,19.0,19.0,19.0,18.0,15.1,15.4,18.0,17.0,17.0,16.0,18.0,20.0,22.0,25.0,28.0,30.0,32.0,32.0,34.0,33.0,32.0,31.0,29.0,21.3,23.0,18.3,21.0,17.8,17.3,16.2,14.9,15.7,15.5,15.5,15.9,23.0,23.0,23.0,27.0,27.0,28.0,29.0,28.0,28.0,27.0,26.0,25.0,25.0,18.2,23.0,17.6,20.0,18.0,15.7,18.0,19.0,18.0,17.0,18.0,18.0,20.0,22.0,25.0,25.0,24.0,23.0,24.0,25.0,25.0,21.0,25.0,23.0,16.4,20.0,15.5,18.0,13.9,12.7,12.0,12.9,13.3,13.6,17.0,16.8,23.0,24.8,26.6,28.4,30.2,32.0,32.0,33.0,31.0,30.0,28.0,25.0,18.1,21.0,15.9,14.8,13.3,13.3,16.0,11.9,11.7,11.6,12.2,20.0,22.0,25.0,27.0,29.0,31.0,29.0,29.0,31.0,31.0,30.0,26.0,24.0,22.0,21.0,15.7,15.2,17.0,17.0,16.0,12.0,12.2,14.0,15.0,17.0,19.0,22.0,24.0,26.0,27.0,30.0,30.0,30.0,31.0,29.0,28.0,25.0,22.0,22.0,20.0,15.3,13.9,17.0,13.2,15.0,15.0,14.0,12.9,16.8,28.0,28.0,29.0,32.0,32.0,34.0,34.0,34.0,33.0,33.0,32.0,28.0,25.0,17.5,20.0,15.6,18.0,14.4,13.6,17.0,14.0,15.0,16.0,17.0,19.0,21.0,22.0,24.0,25.0,26.0,26.0,26.0,30.0,22.9,26.0,25.0,18.2,18.4,16.8,16.6,16.2,15.8,15.5,13.5,16.0,16.0,13.3,18.0,22.0,26.0,30.0,25.2,30.0,30.0,27.0,26.0,24.6,29.0,23.2,25.0,18.0,16.3,15.0,14.3,13.8,13.4,13.7,10.2,9.9,10.5,10.9,15.0,16.0,17.0,20.0,22.0,25.0,26.0,29.0,30.0,30.0,28.0,27.0,25.0,23.0,18.7,16.9,15.6,14.0,12.8,11.9,11.9,11.9,11.8,12.3,17.6,27.0,30.0,33.0,33.0,35.0,36.0,36.0,35.0,34.0,33.0,30.0,28.0,21.0,19.1,17.5,15.9,15.3,14.4,17.0,14.1,14.3,14.0,18.0,21.0,25.0,30.0,32.0,35.0,36.0,36.0,36.0,36.0,36.0,25.0,27.0,26.0,25.0,23.0,23.0,20.0,16.8,16.0,14.9,12.5,12.6,12.8,13.4,20.0,21.0,21.0,24.0,26.0,26.0,26.0,26.0,26.0,24.0,23.0,22.0,22.0,18.2,20.0,18.0,17.0,14.1,17.0,13.0,11.0,11.1,11.4,11.9,17.0,18.0,22.0,23.0,26.0,28.0,28.0,28.0,29.0,31.0,29.0,27.0,24.0,22.0,20.0,20.0,16.6,16.0,16.2,15.9,15.5,17.0,18.0,18.0,19.0,22.0,23.0,25.0,27.0,26.0,28.0,30.0,29.0,23.0,22.4,25.0,18.9,16.0,15.5,14.7,17.0,12.7,11.4,10.9,10.6,9.6,9.8,10.6,16.0,18.0,20.0,23.0,25.0,27.0,29.0,30.0,31.0,30.0,27.0,27.0,24.0,21.0,16.4,15.8,18.0,17.0,16.0,16.0,16.0,15.0,17.0,14.5,17.5,29.0,31.0,32.0,33.0,34.0,35.0,36.0,35.0,35.0,35.0,32.0,30.0,20.9,19.7,18.9,18.7,22.0,21.0,21.0,12.0,12.5,11.9,12.3,14.1,20.0,21.0,21.0,22.0,23.0,23.0,24.0,25.0,25.0,24.0,23.0,21.0,15.7,18.0,18.0,14.1,13.5,16.0,11.7,14.0,10.9,10.3,10.0,12.5,17.0,18.0,20.0,21.0,22.0,23.0,23.0,23.0,24.0,23.0,22.0,20.0,14.3,17.0,15.0,15.0,14.0,10.8,10.2,9.3,9.5,9.0,9.2,16.0,19.0,23.0,26.0,31.0,31.0,33.0,33.0,33.0,33.0,32.0,29.0,25.0,21.0,16.7,13.9,13.4,13.2,12.9,12.2,11.5,11.7,12.0,11.9,17.1,30.0,30.0,30.0,30.0,30.0,31.0,31.0,30.0,28.0,26.0,25.0,22.0,20.0,20.0,18.0,17.0,16.0,16.0,15.0,14.0,15.0,14.0,13.0,16.0,17.0,19.0,20.0,21.0,24.0,25.0,27.0,27.0,27.0,28.0,26.0,20.8,17.9,17.2,18.0,18.0,13.9,17.0,12.8,12.5,12.4,15.0,15.0,18.0,20.0,22.0,25.0,28.0,29.0,29.0,31.0,31.0,31.0,30.0,23.0,21.5,20.3,18.0,16.4,13.8,11.7,11.3,11.1,11.1,11.9,14.1,10.9,14.5,20.0,23.0,23.0,25.0,26.0,25.0,27.0,26.0,26.0,26.0,24.0,23.0,16.1,18.0,17.0,17.0,12.7,15.0,13.0,9.1,9.3,9.4,9.7,16.0,18.0,21.0,21.0,22.0,23.0,25.0,26.0,25.0,26.0,23.0,22.0,20.0,15.1,18.0,17.0,15.0,12.5,12.5,12.8,15.0,15.0,15.0,12.7,17.0,19.0,21.0,21.0,22.0,25.0,25.0,26.0,27.0,27.0,25.0,22.0,21.0,19.0,14.8,14.2,16.0,11.6,10.6,10.2,9.9,13.0,13.0,12.0,16.0,18.0,22.0,23.0,25.0,26.0,26.0,27.0,26.0,25.0,23.0,22.0,21.0,15.9,14.4,13.8,14.1,13.0,15.0,14.0,14.0,13.0,11.2,13.0,13.0,15.0,16.0,17.0,18.0,19.0,18.0,17.0,17.0,16.0,16.0,16.0,16.0,15.0,16.0,12.1,15.0,14.0,13.0,12.0,12.0,12.0,11.0,11.0,13.0,14.0,16.0,18.0,20.0,21.0,20.0,18.0,17.0,20.0,20.0,18.0,16.0,16.0,15.0,11.6,10.6,9.8,8.7,7.8,8.4,8.5,8.5,8.5,11.5,17.0,18.0,20.0,21.0,22.0,23.0,23.0,23.0,23.0,22.0,21.0,18.0,13.7,13.4,12.5,15.0,11.3,10.4,9.3,8.9,11.0,8.7,8.7,12.0,12.0,17.0,19.0,22.0,23.0,25.0,26.0,26.0,24.0,25.0,22.0,21.0,21.0,16.5,16.1,13.6,14.2,14.1,12.4,12.5,12.1,11.9,11.9,16.0,21.0,22.0,26.0,29.0,30.0,30.0,28.0,30.0,28.0,28.0,25.0,22.0,16.2,14.6,13.2,12.6,12.6,11.9,11.2,10.3,9.9,9.8,10.1,12.9,20.0,23.0,25.0,27.0,28.0,31.0,32.0,32.0,30.0,28.0,26.0,23.0,21.0,21.0,13.8,11.1,11.1,11.6,11.6,12.3,13.1,12.9,13.3,16.0,21.4,26.2,28.0,28.3,28.1,28.0,28.3,27.3,27.5,25.8,23.7,20.1,16.9,15.9,14.7,13.9,12.2,11.6,11.4,10.6,10.6,11.0,10.4,14.9,23.0,26.0,31.0,32.0,32.0,33.0,33.0,33.0,33.0,32.0,27.0,24.0,18.7,15.5,14.7,13.7,13.3,13.0,13.4,13.2,13.4,12.9,12.7,14.5,27.0,29.0,31.0,31.0,32.0,33.0,33.0,33.0,34.0,32.0,27.0,25.0,17.4,17.4,15.5,13.8,13.0,12.4,11.9,11.9,11.9,13.0,11.1,14.1,23.0,28.0,30.0,31.0,31.0,33.0,33.0,33.0,32.0,31.0,26.0,23.0,22.0,16.2,19.0,14.5,12.0,10.1,9.9,9.4,9.4,10.0,9.6,16.0,20.0,25.0,27.0,29.0,30.0,31.0,32.0,32.0,32.0,31.0,28.0,25.0,23.0,23.0,20.0,19.0,16.0,14.0,11.7,10.3,10.7,10.7,11.1,18.0,23.0,26.0,28.0,29.7,31.3,33.0,32.0,33.0,32.0,30.0,28.0,25.0,22.5,16.1,15.5,15.3,13.9,13.0,12.4,11.7,12.5,12.4,12.4,18.0,24.0,28.0,28.0,32.0,31.0,31.0,32.0,32.0,28.0,28.0,28.0,25.0,22.0,17.1,15.1,14.4,12.2,11.6,11.3,11.5,11.0,11.3,11.0,14.3,22.0,25.0,26.0,27.0,29.0,30.0,30.0,30.0,31.0,30.0,26.0,24.0,22.0,22.0,20.0,20.0,16.0,13.2,11.9,12.0,11.9,15.0,11.7,14.1,22.0,23.0,25.0,25.0,25.0,27.0,26.0,26.0,22.0,21.0,20.0,19.0,16.0,16.0,17.0,16.0,16.0,16.0,16.0,16.0,15.0,15.0,15.0,16.0,17.0,18.0,21.0,25.0,26.0,28.0,28.0,28.0,27.0,26.0,23.0,17.1,13.1,11.5,9.1,9.2,9.4,12.0,8.4,7.0,7.0,6.4,6.4,8.2,13.0,16.0,17.0,19.0,21.0,22.0,23.0,23.0,23.0,22.0,20.0,19.0,17.0,17.0,11.2,10.8,9.5,8.4,6.4,7.6,8.0,9.0,8.0,12.0,16.0,21.0,26.0,28.0,30.0,30.0,30.0,30.0,30.0,27.0,24.0,20.0,14.9,13.5,11.1,10.0,8.1,7.7,7.5,8.6,8.2,8.3,8.4,12.0,22.0,27.0,28.0,29.0,30.0,29.0,28.0,28.0,28.0,27.0,24.0,21.0,15.1,13.9,13.0,13.4,13.6,13.5,17.0,12.0,12.6,12.0,14.0,15.0,17.0,20.0,22.0,25.0,20.6,21.6,23.0,22.0,23.0,22.0,21.0,17.0,14.1,13.6,12.3,13.0,12.0,12.0,7.6,5.4,4.2,3.8,3.6,5.6,8.3,12.0,13.0,11.2,12.4,17.0,17.0,17.0,17.0,16.0,14.0,12.0,7.0,7.6,8.0,6.0,5.4,5.3,4.6,3.2,2.8,2.9,2.8,4.5,10.0,12.0,15.0,17.0,18.0,20.0,21.0,22.0,21.0,20.0,16.0,15.0,14.0,9.6,7.9,7.1,6.2,6.4,6.1,6.2,6.1,6.1,5.7,8.0,17.0,19.0,21.0,22.0,25.0,26.0,24.0,23.0,25.0,22.0,18.0,16.0,14.0,10.9,9.4,11.0,7.9,6.8,5.4,3.6,3.3,3.5,4.0,5.0,7.0,7.0,8.0,8.0,8.0,9.0,8.0,8.0,8.0,8.0,8.0,5.2,4.0,4.0,3.6,4.4,4.3,4.2,5.0,3.8,4.0,4.1,4.3,5.0,11.7,18.4,21.8,20.0,26.0,28.0,28.0,29.0,28.0,25.0,21.0,17.0,15.0,14.0,10.2,8.6,10.0,8.0,7.0,6.0,6.0,6.0,6.0,7.0,7.0,8.0,10.8,12.1,10.0,11.0,13.0,12.0,12.0,12.0,8.5,7.8,7.2,7.1,7.1,7.4,7.2,7.1,6.8,6.1,6.2,6.8,5.6,6.4,9.4,10.4,12.0,12.8,12.2,15.0,13.0,7.4,9.0,6.3,5.3,5.0,4.4,4.5,4.1,3.7,3.8,4.1,3.7,3.9,3.1,3.0,3.0,3.9,6.4,8.3,13.0,15.0,16.0,16.0,18.0,17.0,17.0,15.0,13.0,13.0,10.1,8.8,5.1,6.0,2.4,0.7,0.8,0.5,0.2,2.0,2.0,0.4,2.8,6.0,8.0,10.0,11.0,13.0,15.0,15.0,14.0,13.0,10.0,9.0,4.6,4.1,3.0,3.3,3.0,2.4,2.6,2.3,2.5,3.0,3.0,4.6,10.0,12.0,15.0,17.0,20.0,21.0,22.0,21.0,20.0,21.0,20.0,13.2,10.4,9.4,7.8,8.3,7.8,6.9,6.4,5.8,5.6,5.3,4.9,6.4,11.0,14.2,20.0,22.0,22.0,23.0,23.0,23.0,22.0,20.0,18.0,18.0,9.8,8.8,6.9,6.5,6.2,6.4,6.2,5.8,5.7,5.9,5.3,7.2,11.9,14.6,17.4,23.0,26.0,26.0,26.0,24.0,23.0,22.0,20.0,21.0,12.4,11.7,10.6,9.9,9.3,8.5,7.1,7.1,7.1,6.7,6.5,8.4,13.2,21.0,23.0,25.0,25.0,26.0,26.0,26.0,23.0,21.0,18.0,16.0,11.0,10.4,8.9,8.2,8.1,7.4,7.0,6.8,6.4,6.2,6.1,6.8,12.0,15.0,16.0,20.0,22.0,23.0,23.0,23.0,22.0,20.0,17.0,16.0,12.0,13.0,9.5,12.0,10.3,10.0,9.7,9.2,8.7,9.6,10.0,12.0,11.9,11.0,11.0,10.4,10.0,9.7,12.0,12.0,11.0,10.0,10.0,10.0,10.0,7.8,7.9,7.9,7.9,10.0,9.0,9.0,9.0,9.0,7.2,7.6,10.0,8.7,11.0,10.0,10.7,14.0,13.0,13.0,13.0,13.0,8.5,7.9,5.9,5.9,5.1,4.8,4.5,4.2,3.9,3.6,3.5,3.6,3.9,5.3,10.0,12.0,15.0,20.0,18.0,21.0,22.0,20.0,18.0,18.0,15.0,11.0,9.5,8.6,8.2,8.4,8.7,9.1,9.2,9.2,9.0,8.4,7.6,8.1,9.5,10.0,8.8,12.0,10.0,7.1,7.2,7.8,7.6,6.6,6.0,5.1,4.6,3.9,2.7,1.5,1.7,1.1,1.2,0.8,0.6,0.3,0.4,1.6,5.4,6.5,10.0,9.5,12.0,13.0,15.0,15.0,15.0,12.0,10.0,6.6,3.5,3.1,2.6,2.2,1.9,2.0,1.8,2.3,2.1,2.1,3.0,3.6,7.6,12.0,15.0,19.0,22.0,23.0,23.0,23.0,22.0,20.0,15.0,10.0,8.4,6.1,4.3,3.4,2.8,2.6,2.3,2.1,2.1,2.5,2.6,4.6,12.0,16.0,19.0,20.0,21.0,21.0,21.0,22.0,21.0,23.0,15.2,11.8,9.5,8.8,8.8,8.9,9.0,9.4,8.3,8.8,8.5,8.5,7.3,9.1,12.4,13.0,16.0,21.0,21.0,22.0,20.0,21.0,18.0,16.0,14.0,14.0,12.0,11.0,6.9,7.4,6.0,5.2,3.7,2.0,2.0,2.1,2.7,3.0,9.0,11.0,12.0,13.0,15.0,15.0,16.0,16.0,15.0,13.0,11.0,10.0,6.3,6.2,5.1,4.9,4.0,3.4,3.2,3.4,2.3,2.0,2.0,3.2,9.0,12.0,13.0,16.0,17.0,18.0,20.0,20.0,18.0,16.0,14.0,12.0,7.9,6.7,5.4,5.6,4.9,4.6,4.5,4.8,5.2,5.1,5.1,6.4,12.0,17.0,21.0,23.0,23.0,22.0,23.0,23.0,22.0,18.0,16.0,15.0,7.5,7.1,6.9,6.8,6.5,5.2,4.2,3.7,3.7,3.8,3.4,4.3,10.1,15.0,18.0,20.0,21.0,22.0,22.0,23.0,21.0,19.0,17.0,13.6,9.7,8.4,7.3,6.8,6.1,6.2,5.8,5.4,5.5,5.2,5.6,7.1,12.0,17.0,20.0,21.0,22.0,23.0,21.0,22.0,16.3,15.4,14.9,13.9,11.7,10.8,10.0,9.6,9.6,11.0,8.2,6.1,6.0,5.7,5.8,6.7,10.9,13.0,13.0,18.0,18.0,16.4,18.0,18.0,18.0,17.0,16.0,10.1,6.9,6.7,5.6,5.3,4.7,4.3,3.8,3.4,3.2,3.1,3.2,4.4,11.0,15.0,19.0,20.0,20.0,21.0,22.0,23.0,17.1,15.3,13.5,11.9,9.1,8.6,8.3,8.0,7.6,7.5,8.9,8.5,8.6,9.1,9.2,9.7,11.2,18.0,22.0,25.0,26.0,21.9,28.0,22.2,20.5,22.0,19.0,12.9,6.8,5.6,4.8,4.5,4.8,4.9,5.4,3.5,3.2,3.3,2.8,4.1,10.3,20.0,22.0,24.0,25.0,26.0,26.0,26.0,19.8,22.0,17.0,13.0,7.9,6.7,5.6,5.9,6.0,6.3,6.9,8.5,8.8,9.3,9.9,10.2,15.0,20.0,18.9,24.0,25.0,25.0,25.0,25.0,24.0,20.0,14.0,11.7,9.0,9.4,9.9,9.8,7.7,6.3,6.2,4.0,4.2,4.0,3.9,6.0,8.0,6.7,7.7,8.3,8.5,8.6,7.8,6.6,5.5,4.0,3.0,2.1,6.0,3.0,3.0,3.0,1.0,0.6,1.4,0.6,1.4,2.0,2.2,2.2,6.0,8.0,9.0,11.0,12.0,12.0,14.0,13.0,12.0,10.0,8.0,4.5,2.1,1.7,0.7,0.0,4.0,2.0,2.0,1.0,2.0,0.1,0.5,1.5,7.0,13.0,14.0,18.0,15.4,16.8,21.0,15.9,14.8,17.0,14.3,12.7,6.9,4.3,3.3,3.3,3.2,2.6,1.7,1.4,2.0,2.1,1.2,2.4,7.0,12.0,14.0,15.0,16.0,16.0,16.0,12.6,11.4,9.7,11.0,10.0,7.0,7.0,5.5,5.0,2.6,1.4,0.6,4.0,2.0,1.0,1.0,1.0,3.2,5.6,7.0,8.0,10.0,11.0,12.0,12.0,11.0,9.0,5.3,3.8,2.5,2.3,2.7,2.9,3.8,3.1,3.3,3.1,2.3,2.8,2.0,2.0,2.4,4.6,6.7,7.3,7.7,9.1,10.0,9.4,8.8,7.6,5.5,4.2,4.1,4.4,4.6,5.0,6.0,3.8,3.0,4.0,4.1,4.6,5.0,4.0,7.2,9.0,11.6,12.6,13.4,13.3,15.0,13.2,15.0,13.0,15.0,10.9,8.4,7.0,9.1,8.0,7.8,8.0,6.0,3.8,3.6,3.9,5.0,3.4,6.0,6.0,7.0,7.4,8.2,8.6,9.0,6.6,5.9,7.0,4.3,2.7,0.7,0.2,0.4,2.0,2.0,1.0,1.0,-1.0,0.0,0.0,0.0,0.0,1.4,3.3,5.0,6.0,8.0,7.0,8.0,9.0,9.0,6.3,6.6,7.2,6.1,5.9,5.7,5.8,5.2,4.7,3.4,3.5,2.5,2.1,1.8,1.7,4.3,6.0,7.6,8.3,8.3,8.6,8.6,7.2,6.4,4.4,6.0,4.9,1.2,7.0,5.0,3.0,3.0,2.0,2.0,2.0,3.0,2.0,2.0,3.0,0.2,3.2,5.6,5.8,6.3,6.8,7.6,5.4,4.7,2.2,0.9,5.0,4.0,3.0,2.0,2.0,0.0,-1.0,-1.0,-2.0,-2.0,-1.0,-1.0,-1.0,-1.0,0.0,0.0,1.6,2.3,2.9,5.0,2.7,1.0,0.0,1.0,0.0,0.0,-1.0,0.0,0.0,0.0,-1.0,-2.0,-2.0,-3.0,-3.0,-3.0,-3.0,-2.0,-2.0,-1.0,0.0,0.0,3.0,0.1,3.0,3.0,1.0,1.0,2.0,0.0,-1.0,-1.0,2.0,-3.0,-3.0,-4.0,-4.0,-5.0,-5.0,-5.0,-6.0,-6.0,-4.0,-2.0,0.0,0.1,2.0,3.0,1.3,1.5,1.4,0.0,0.0,-1.0,-1.0,-2.0,-1.0,-1.0,-1.0,-1.0,4.0,6.0,6.0,8.0,6.0,11.0,7.0,2.4,4.4,4.9,8.0,8.9,6.6,5.4,4.0,5.0,1.7,4.0,2.0,2.0,0.0,0.0,-1.0,-2.0,-2.0,-2.0,-2.0,-2.0,-2.0,-2.0,-2.0,-2.0,-2.0,-2.0,-3.0,-3.0,-3.0,-4.0,-4.0,-4.0,-5.0,-5.0,-4.0,-3.0,-3.0,-4.0,-5.0,-5.0,-5.0,-5.0,-5.0,-5.0,-6.0,-6.0,-4.0,-2.0,-2.0,-2.0,-1.0,-1.0,-1.0,-3.0,-4.0,-6.0,-6.0,-7.0,-6.0,-8.0,-8.0,-7.0,-6.0,-5.0,-4.0,-3.0,-5.0,-4.0,-4.0,-3.0,1.0,0.3,1.8,2.3,2.8,4.8,4.8,3.7,0.2,3.0,2.0,2.0,1.0,1.0,0.0,0.0,1.0,0.0,1.0,1.0,0.0,1.0,3.0,8.0,1.6,4.7,7.5,7.7,12.0,13.0,7.3,6.4,4.2,1.8,1.1,8.0,9.0,10.0,10.0,10.0,8.0,10.0,11.0,10.0,7.0,4.0,3.0,0.8,4.1,5.9,6.9,9.8,10.1,10.7,8.4,7.3,3.5,1.6,6.0,5.0,2.0,3.0,2.0,1.0,0.0,0.0,0.0,0.0,0.0,2.0,5.0,10.0,2.5,5.1,5.8,5.8,6.0,7.5,5.6,4.9,4.6,2.0,0.2,7.0,5.0,0.6,0.4,0.9,3.0,2.0,2.0,2.0,1.0,1.0,1.0,0.0,-1.0,-2.0,-2.0,-3.0,-3.0,-3.0,-4.0,-4.0,-5.0,-5.0,-5.0,-5.0,-5.0,-5.0,-5.0,-5.0,-5.0,-5.0,-5.0,-6.0,-8.0,-8.0,-7.0,-5.0,-2.0,0.0,2.0,0.9,4.0,5.0,2.0,0.9,2.0,1.0,1.0,0.0,0.0,0.0,-1.0,-1.0,-2.0,-1.0,-1.0,-1.0,0.0,-3.0,-2.0,0.0,2.0,0.7,4.0,4.2,4.0,4.8,2.5,4.4,2.2,2.0,1.0,1.0,0.0,0.0,0.0,-1.0,0.0,-2.0,-2.0,-2.0,-3.0,-3.0,-2.0,0.0,3.0,2.9,4.6,6.7,11.0,12.0,8.2,6.7,1.2,0.2,5.0,3.0,2.0,2.0,2.0,1.0,1.0,1.0,0.0,-1.0,0.0,0.0,0.0,2.0,6.0,4.4,6.1,7.3,8.7,10.5,7.5,4.4,2.5,0.0,7.0,5.0,5.0,5.0,4.0,5.0,1.0,1.0,1.0,1.0,2.0,1.0,1.0,3.0,5.0,4.4,6.3,7.3,9.5,8.9,6.9,5.9,4.5,3.5,3.1,2.3,2.2,1.2,1.5,0.9,0.0,7.0,7.0,6.0,5.0,6.0,6.0,0.3,3.2,5.6,5.7,5.8,5.7,6.0,4.7,4.8,4.7,3.8,2.4,5.0,5.0,6.0,8.0,2.0,3.0,1.0,0.0,0.0,0.0,0.0,-1.0,0.5,3.0,5.6,7.1,7.3,5.1,2.3,0.2,4.0,3.0,2.0,1.0,3.0,1.0,1.0,1.0,1.0,0.0,0.0,0.0,0.0,-1.0,-2.0,-2.0,0.0,3.0,5.0,6.0,1.0,1.0,2.3,0.3,4.0,3.0,1.0,1.0,0.0,-1.0,-1.0,-2.0,-3.0,-3.0,-3.0,-5.0,-5.0,-5.0,-5.0,-5.0,-3.0,-1.0,0.0,1.3,2.6,3.9,5.3,5.2,4.2,2.0,3.0,0.0,1.0,1.0,8.0,8.0,7.0,7.0,2.0,2.0,1.0,0.0,0.0,-1.0,2.0,2.2,5.4,5.0,5.1,7.2,6.4,5.7,5.6,5.0,4.2,3.5,2.4,1.8,0.9,0.8,1.2,1.6,2.5,10.0,12.0,11.0,11.0,11.0,1.4,5.2,12.0,8.8,9.7,10.5,10.1,9.1,8.3,4.7,4.0,3.5,1.7,1.9,2.0,2.2,1.1,0.8,0.5,0.1,3.0,3.0,2.0,0.1,3.0,2.4,5.0,6.0,5.4,7.0,8.0,4.7,3.9,5.0,4.0,3.0,0.7,3.0,2.0,1.0,0.0,0.0,0.0,-1.0,-1.0,-1.0,-1.0,0.0,0.0,1.0,1.0,1.0,1.0,1.4,1.4,0.3,0.1,0.3,0.8,0.8,0.2,0.0,-0.8,-1.2,-1.8,-2.8,-3.5,-4.2,-4.5,-3.8,-5.0,-4.0,-1.0,1.0,1.3,2.2,2.8,3.4,3.4,2.0,0.5,3.0,0.2,2.0,2.0,0.0,-1.0,0.0,-1.0,0.0,-1.0,-1.0,-4.0,-5.0,-5.0,-6.0,-4.0,-1.0,1.0,2.0,2.0,3.0,2.0,1.0,0.0,0.0,0.0,0.0,-2.0,-2.0,-2.0,-3.0,-3.0,-3.0,-3.0,-3.0,-3.0,-6.0,-5.0,-4.0,-3.0,-2.0,-2.0,0.0,0.0,0.0,1.0,0.0,0.0,-1.0,-1.0,-1.0,-2.0,-3.0,-2.0,-2.0,-3.0,-5.0,-7.0,-6.0,-4.0,-2.0,-2.0,-3.0,-1.0,0.0,1.0,2.0,3.0,3.0,3.0,3.0,2.0,1.0,0.0,0.0,1.0,1.0,0.0,-4.0,-5.0,-5.0,-6.0,-7.0,-7.0,-7.0,-6.0,-6.0,-3.0,0.0,2.0,2.2,3.7,3.9,4.7,2.0,2.0,0.0,0.0,-1.0,-1.0,-2.0,-2.0,-3.0,-4.0,-5.0,-5.0,-5.0,-5.0,-5.0,-6.0,-6.0,-6.0,-5.0,-5.0,-5.0,-4.0,-4.0,-3.0,-3.0,-4.0,-5.0,-4.0,-4.0,-4.0,-4.0,-5.0,-4.0,-5.0,-6.0,-6.0,-5.0,-5.0,-6.0,-6.0,-7.0,-6.0,-3.0,0.0,1.0,0.9,2.0,2.8,3.0,2.0,0.2,0.0,-1.0,-1.0,-2.0,-3.0,-2.0,-3.0,-3.0,-6.0,-5.0,-5.0,-5.0,-5.0,-6.0,-3.0,0.0,3.0,2.1,3.9,4.1,5.7,4.1,3.8,2.2,2.0,1.0,0.0,0.0,0.0,0.0,-2.0,-2.0,-2.0,-2.0,-3.0,-3.0,-3.0,-2.0,-2.0,0.0,0.3,1.6,1.9,3.3,4.3,1.7,1.7,0.2,1.0,2.0,1.0,0.0,0.0,-1.0,-2.0,-3.0,-3.0,-4.0,-5.0,-4.0,-6.0,-5.0,-3.0,1.0,0.6,4.6,5.6,6.9,8.0,7.0,2.6,1.9,0.8,0.4,3.0,4.0,10.0,6.0,4.0,2.0,3.0,-1.0,1.0,2.0,1.0,2.0,4.0,1.8,5.5,9.2,7.8,8.2,7.4,6.2,6.1,0.6,4.0,5.0,1.0,0.0,0.0,0.0,-1.0,-1.0,-2.0,-2.0,-1.0,-1.0,-1.0,2.0,3.0,0.4,3.0,5.2,6.2,7.8,10.0,3.8,4.0,3.6,2.0,0.7,5.0,3.0,0.0,0.0,0.0,0.0,-2.0,-1.0,-3.0,-3.0,-3.0,-3.0,-2.0,0.0,2.0,4.0,6.0,1.1,1.9,1.5,0.8,2.0,0.0,0.0,0.0,-1.0,-2.0,-2.0,-2.0,-2.0,-2.0,-2.0,-3.0,-3.0,-2.0,-3.0,-1.0,2.0,3.7,6.0,6.5,7.0,8.2,7.2,5.7,4.8,4.0,3.0,2.0,1.0,1.0,0.0,0.0,0.0,0.0,0.0,0.0,1.0,8.0,10.0,0.1,1.8,6.2,7.6,8.7,9.6,10.3,7.8,6.3,2.6,1.9,0.1,2.0,2.0,3.0,2.0,1.0,1.0,2.0,3.0,2.0,-2.0,0.0,0.0,1.0,1.3,6.9,9.1,12.0,9.9,12.0,12.0,10.0,7.0,2.3,3.0,2.0,3.0,2.0,1.0,1.0,1.0,0.0,0.0,0.0,0.0,0.0,-1.0,1.0,6.0,5.4,8.5,9.2,10.4,13.0,9.1,6.9,4.7,3.0,2.0,2.3,0.4,0.2,1.6,1.9,1.5,1.4,3.0,3.0,2.0,1.0,0.0,2.0,2.5,7.0,9.0,8.7,9.5,10.0,8.0,7.5,4.3,2.1,1.5,6.0,0.2,0.4,0.8,1.8,2.9,5.9,6.2,5.2,4.7,4.9,4.5,4.6,5.8,6.4,5.8,5.6,5.3,5.5,3.3,2.8,1.6,0.2,3.0,1.0,0.0,0.0,-1.0,-1.0,-3.0,-3.0,-3.0,-3.0,-3.0,-3.0,-5.0,-2.0,0.0,1.5,3.2,4.3,7.0,8.0,5.6,3.6,3.0,1.0,1.0,0.0,0.0,-1.0,0.0,-1.0,-1.0,0.0,1.0,2.0,0.1,2.0,3.0,0.9,3.8,7.1,12.0,11.1,10.9,10.6,8.6,7.4,5.4,4.7,4.3,1.4,0.2,0.7,1.3,2.0,1.0,1.0,1.0,0.0,-1.0,0.0,0.0,0.0,0.0,1.0,2.0,2.0,5.0,4.0,4.0,1.0,-1.0,-1.0,-2.0,-3.0,-4.0,1.0,-1.0,0.0,-6.0,-6.0,-7.0,-6.0,-6.0,-6.0,-6.0,-3.0,-2.0,0.4,2.8,4.0,4.9,6.1,5.4,3.1,0.8,2.0,1.0,0.0,0.0,0.0,0.0,-1.0,-2.0,-2.0,-2.0,0.0,-1.0,0.0,0.0,0.0,2.0,2.1,3.6,4.1,4.3,4.7,3.9,3.3,2.0,3.0,4.0,1.0,1.0,0.0,-1.0,-3.0,-2.0,-2.0,-2.0,-3.0,-3.0,-3.0,-3.0,-2.0,0.0,0.9,1.6,2.0,3.3,3.6,1.9,0.6,3.0,1.0,1.0,0.0,1.0,0.0,-1.0,-1.0,-1.0,-2.0,-2.0,-4.0,-4.0,-5.0,-5.0,-5.0,-3.0,-1.0,0.0,0.6,2.1,2.0,1.3,0.3,0.1,1.0,0.0,0.0,-1.0,-1.0,-2.0,-2.0,-2.0,-3.0,-4.0,-5.0,-5.0,-5.0,-5.0,-5.0,-3.0,-2.0,0.0,-1.0,-1.0,-1.0,-1.0,-3.0,-4.0,-5.0,-5.0,-5.0,-5.0,-5.0,-5.0,-6.0,-6.0,-6.0,-7.0,-8.0,-8.0,-8.0,-8.0,-8.0,-7.0,-7.0,-7.0,-6.0,-6.0,-6.0,-6.0,-6.0,-6.0,-6.0,-6.0,-6.0,-7.0,-7.0,-7.0,-8.0,-9.0,-10.0,-10.0,-11.0,-12.0,-12.0,-12.0,-11.0,-8.0,-6.0,-4.0,-2.0,0.0,0.4,2.0,1.0,-1.0,-2.0,-1.0,-3.0,-3.0,-3.0,-4.0,-4.0,3.0,5.0,4.0,4.0,-5.0,-5.0,-3.0,-2.0,1.1,4.7,5.0,7.0,9.0,9.0,5.3,5.8,4.5,1.0,5.0,5.0,5.0,4.0,3.0,2.0,2.0,0.0,-1.0,-3.0,-2.0,-3.0,-6.0,-8.0,-9.0,-9.0,-9.0,-8.0,-8.0,-8.0,-10.0,-11.0,-12.0,-12.0,-12.0,-12.0,-13.0,-13.0],\"type\":\"box\"},{\"marker\":{\"color\":\"rgb(31, 119, 180)\"},\"name\":\"Cluster 0\",\"y\":[10.0,8.5,7.7,6.9,6.9,6.7,6.5,7.6,15.0,17.0,20.0,23.0,25.0,27.0,28.0,28.0,27.0,28.0,28.0,23.0,23.0,15.3,14.7,11.9,0.0,17.27916666666667,16.0,10.9,10.5,8.6,7.9,7.5,7.6,8.4,16.0,18.0,20.0,21.0,23.0,24.0,25.0,26.0,27.0,27.0,27.0,25.0,22.0,16.4,14.3,14.1,0.0,17.633333333333333,16.0,12.8,11.6,10.2,10.0,9.8,9.5,11.6,18.0,20.0,22.0,25.0,23.0,22.0,24.0,20.8,23.0,19.1,19.5,19.8,22.0,14.5,17.0,13.1,0.0,17.2625,15.0,15.0,15.0,14.0,10.0,9.8,11.0,13.4,14.6,21.0,21.0,21.0,23.0,22.0,21.0,23.0,23.0,18.0,17.4,22.0,19.0,18.0,13.9,17.0,0.0,17.420833333333334,18.0,16.0,15.0,15.0,12.0,13.0,13.0,11.9,17.0,19.0,21.0,22.0,23.0,24.0,22.0,25.0,18.7,20.0,20.8,25.0,22.0,16.7,17.0,16.0,0.0,18.462500000000002,15.0,11.9,11.4,13.0,11.0,12.0,11.0,11.7,16.0,18.0,19.0,21.0,23.0,25.0,25.0,26.0,25.0,25.0,25.0,23.0,22.0,21.0,16.6,20.0,0.0,18.650000000000002,18.0,16.0,12.1,11.0,13.0,12.0,13.0,16.0,19.0,23.0,26.0,30.0,32.0,31.0,32.0,32.0,32.0,33.0,32.0,31.0,28.0,24.0,18.9,17.6,0.0,23.025000000000002,16.0,14.6,14.8,13.8,13.6,16.0,16.0,20.0,24.0,28.0,30.0,31.0,32.0,31.0,31.0,32.0,32.0,29.0,27.0,26.0,25.0,23.0,17.2,14.5,0.0,23.229166666666668,12.2,11.8,11.8,15.0,15.0,16.0,13.4,18.0,17.0,17.0,20.0,20.0,21.0,23.0,23.0,24.0,24.0,25.0,23.0,23.0,22.0,21.0,15.6,14.4,0.0,18.59166666666667,14.1,14.2,13.1,11.7,12.1,12.1,13.3,14.1,20.0,21.0,23.0,24.0,26.0,26.0,28.0,30.0,30.0,28.0,28.0,31.0,23.7,19.0,17.1,15.5,0.0,20.625,13.4,12.9,13.0,9.5,8.1,7.6,7.9,10.4,12.2,18.0,18.0,20.0,20.0,22.0,24.0,26.0,25.0,25.0,23.0,24.0,22.0,20.0,14.7,13.7,0.0,17.099999999999998,13.6,12.7,10.8,10.5,9.0,9.1,9.6,10.8,14.5,22.0,24.0,26.0,27.0,28.0,28.0,30.0,30.0,30.0,30.0,22.3,24.0,17.2,13.7,13.5,0.0,19.429166666666664,10.6,10.4,10.1,9.8,9.1,8.4,8.8,11.3,21.0,22.0,23.0,25.0,28.0,30.0,30.0,29.0,29.0,29.0,27.0,26.0,25.0,23.0,17.0,15.5,0.0,19.916666666666668,15.0,13.1,11.8,10.6,9.3,9.1,9.4,11.9,23.0,27.0,28.0,30.0,28.0,30.0,30.0,32.0,33.0,33.0,31.0,32.0,28.0,19.7,19.2,22.0,0.0,22.337500000000002,16.9,16.2,15.9,15.5,14.1,14.9,14.5,15.2,20.0,22.0,22.0,21.0,23.0,24.0,26.0,25.0,21.0,20.0,20.0,18.0,18.0,17.0,17.0,16.0,0.0,18.883333333333333,16.0,12.2,11.8,10.8,11.2,11.2,10.5,11.6,14.1,20.0,21.0,21.0,23.0,25.0,26.0,27.0,28.0,28.0,28.0,27.0,25.0,23.0,21.0,19.0,0.0,19.641666666666666,18.0,17.0,16.0,16.0,15.0,15.0,10.9,12.9,18.0,20.0,21.0,23.0,25.0,26.0,27.0,28.0,28.0,28.0,28.0,27.0,24.0,18.2,21.0,16.5,0.0,20.8125,20.0,14.8,13.6,13.0,11.9,15.0,15.0,14.2,21.0,24.0,27.0,30.0,33.0,34.0,36.0,35.0,33.0,32.0,34.0,32.0,29.0,21.6,19.3,18.4,0.0,24.03333333333333,24.0,18.8,21.0,19.0,16.8,16.7,15.9,17.0,21.3,30.0,31.0,32.0,33.0,36.0,33.0,35.0,36.0,36.0,32.0,30.0,31.0,29.0,20.6,19.4,0.0,26.4375,18.1,17.2,18.2,17.8,16.2,16.6,16.6,17.6,25.0,30.0,32.0,32.0,30.0,30.0,27.0,25.0,23.0,23.0,23.0,22.0,22.0,21.0,19.0,18.0,0.0,22.5125,11.9,12.0,11.8,12.0,12.0,13.0,13.0,14.0,17.0,18.0,21.0,23.0,25.0,26.0,28.0,29.0,30.0,30.0,29.0,27.0,26.0,24.0,21.0,20.0,0.0,20.570833333333333,18.0,14.0,17.0,16.0,14.0,13.0,15.0,16.0,18.0,20.0,21.0,23.0,31.0,35.0,33.0,35.0,35.0,35.0,33.0,32.0,30.0,23.0,22.0,15.2,0.0,23.508333333333336,12.9,12.1,11.9,11.6,10.5,11.4,11.9,17.0,19.0,23.0,25.0,26.0,27.0,27.0,30.0,30.0,31.0,31.0,28.0,28.0,26.0,23.0,22.0,20.0,0.0,21.47083333333333,15.8,15.2,13.2,11.9,10.3,10.9,10.8,12.0,15.8,22.0,23.0,26.0,27.0,28.0,27.0,26.0,27.0,25.0,26.0,23.0,21.0,14.1,12.6,11.7,0.0,18.97083333333333,12.8,12.5,11.7,11.3,11.3,13.2,15.0,12.8,18.0,18.0,19.0,20.0,22.0,23.0,26.0,25.0,26.0,25.0,25.0,25.0,22.0,21.0,20.0,18.0,0.0,18.900000000000002,17.0,13.5,16.0,11.5,11.5,10.9,12.0,16.0,18.0,19.0,21.0,23.0,25.0,26.0,27.0,27.0,28.0,28.0,27.0,26.0,24.0,22.0,21.0,20.0,0.0,20.433333333333334,15.5,13.2,12.0,11.0,9.8,9.6,9.6,12.1,20.0,21.0,24.0,26.0,27.0,28.0,30.0,31.0,30.0,31.0,30.0,27.0,23.0,23.0,18.2,16.1,0.0,20.754166666666666,15.6,14.8,15.0,14.9,13.8,14.2,14.4,14.9,23.0,26.0,29.0,30.0,31.0,32.0,32.0,32.0,27.0,26.0,27.0,26.0,26.0,20.5,24.0,22.0,0.0,22.962499999999995,21.0,20.0,20.0,19.0,15.3,15.5,20.0,20.0,22.0,25.0,25.0,27.0,30.0,28.0,28.0,28.0,28.0,25.0,24.0,24.0,23.0,22.0,22.0,22.0,0.0,23.075,18.0,18.0,18.0,21.0,16.2,16.5,16.4,16.6,20.4,26.0,28.0,31.0,31.0,33.0,33.0,29.0,28.0,28.0,28.0,27.0,26.0,18.5,22.0,23.0,0.0,23.85833333333333,16.4,16.2,15.1,14.7,12.9,13.9,14.2,15.3,22.0,22.0,25.0,27.0,28.0,30.0,30.0,32.0,24.6,27.0,30.0,29.0,26.0,19.5,22.0,21.0,0.0,22.241666666666664,16.5,15.1,15.0,15.3,14.3,14.2,17.0,19.0,22.0,23.0,26.0,28.0,32.0,35.0,34.0,31.0,33.0,32.0,32.0,32.0,31.0,27.0,18.8,19.0,0.0,24.258333333333336,17.7,16.9,21.0,17.0,14.1,13.8,14.1,16.4,26.0,27.0,31.0,32.0,34.0,34.0,35.0,34.0,32.0,34.0,32.0,30.0,27.0,26.0,23.0,23.0,0.0,25.458333333333332,21.0,21.0,20.0,19.0,13.7,14.0,17.0,15.2,21.0,23.0,24.0,25.0,27.0,27.0,30.0,31.0,33.0,33.0,25.5,31.0,28.0,19.8,19.0,17.1,0.0,23.1375,20.0,15.7,15.2,14.5,12.6,12.9,12.6,14.9,22.0,23.0,26.0,28.0,31.0,33.0,35.0,37.0,37.0,37.0,35.0,32.0,30.0,22.9,25.0,19.2,0.0,24.645833333333332,18.3,17.7,17.1,16.6,16.5,16.9,17.0,17.5,23.0,26.0,28.0,31.0,32.0,33.0,31.0,21.0,20.0,23.0,24.0,22.0,22.0,21.0,21.0,20.0,0.0,22.316666666666663,20.0,21.0,21.0,20.0,15.4,19.0,15.1,15.8,21.0,23.0,26.0,28.0,29.0,29.0,25.0,22.0,22.0,21.0,19.0,20.0,20.0,19.0,19.0,18.0,0.0,21.179166666666667,18.0,17.0,17.0,17.0,17.0,17.0,15.0,17.0,20.0,22.0,24.0,22.0,22.0,22.0,25.0,26.0,26.0,25.0,25.0,25.0,23.0,16.6,16.5,16.7,0.0,20.491666666666667,16.6,20.0,19.0,18.0,18.0,18.0,18.0,19.0,20.0,21.0,22.0,24.0,19.4,23.0,22.0,23.0,22.0,23.0,23.0,24.0,22.0,16.7,20.0,18.0,0.0,20.404166666666665,18.0,16.0,15.0,15.0,11.0,13.0,11.2,12.4,18.0,20.0,21.0,23.0,25.0,26.0,27.0,28.0,29.0,30.0,28.0,26.0,25.0,18.3,21.0,20.0,0.0,20.704166666666666,18.0,17.0,17.0,16.0,11.4,11.5,15.0,17.0,18.0,20.0,22.0,24.0,26.0,27.0,29.0,30.0,31.0,31.0,31.0,30.0,28.0,26.0,25.0,22.0,0.0,22.620833333333334,17.5,21.0,21.0,16.1,19.0,18.0,17.0,20.0,23.0,25.0,27.0,29.0,31.0,33.0,26.0,28.0,23.0,25.0,26.0,24.0,23.0,22.0,23.0,23.0,0.0,23.358333333333334,22.0,21.0,20.0,20.0,19.0,15.2,19.0,16.0,17.9,26.0,21.1,26.0,27.0,27.0,27.0,27.0,20.6,26.0,25.0,25.0,23.0,17.0,16.7,15.4,0.0,21.662499999999998,18.0,18.0,14.3,16.0,11.9,12.2,12.4,17.0,21.0,22.0,25.0,27.0,27.0,31.0,30.0,31.0,29.0,29.0,28.0,22.0,20.0,20.0,15.3,15.5,0.0,21.358333333333334,15.0,18.0,12.2,12.4,15.0,15.0,15.0,16.0,18.0,21.0,21.0,22.0,24.0,26.0,27.0,28.0,30.0,31.0,31.0,30.0,28.0,20.5,19.6,18.9,0.0,21.441666666666666,17.7,17.5,20.0,18.0,18.0,14.7,18.0,15.4,18.8,25.0,27.0,28.0,30.0,32.0,33.0,34.0,34.0,34.0,33.0,32.0,29.0,21.0,20.2,22.0,0.0,24.679166666666664,16.6,16.0,15.6,14.6,14.3,15.0,19.0,15.8,22.0,23.0,25.0,26.0,27.0,29.0,31.0,31.0,32.0,32.0,31.0,29.0,26.0,25.0,23.0,21.0,0.0,23.329166666666666,21.0,21.0,21.0,20.0,19.0,15.6,18.0,18.0,21.0,22.0,24.0,25.0,26.0,27.0,26.0,26.0,26.0,26.0,25.0,26.0,25.0,23.0,19.0,17.0,0.0,22.400000000000002,16.0,16.0,15.0,16.0,15.0,15.0,15.0,16.0,16.0,18.0,21.0,23.0,25.0,24.0,23.7,17.0,20.0,22.0,21.4,20.8,20.2,19.6,19.0,19.0,0.0,18.904166666666665,18.0,14.4,13.9,17.0,12.2,11.9,11.8,12.6,18.0,20.0,22.0,23.0,25.0,26.0,26.0,26.0,26.0,27.0,28.0,27.0,21.0,18.0,18.0,17.0,0.0,19.991666666666667,16.0,16.0,15.0,15.0,14.0,13.0,12.0,15.0,17.0,18.0,21.0,22.0,23.0,23.0,22.0,22.0,23.0,23.0,22.0,20.0,18.0,17.0,17.0,16.0,0.0,18.333333333333332,16.0,15.0,16.0,16.0,15.0,16.0,15.0,15.0,15.0,15.0,16.0,17.0,17.0,17.0,17.0,18.0,21.0,22.0,22.0,21.0,20.0,18.0,18.0,17.0,0.0,17.291666666666668,16.0,16.0,15.0,16.0,15.0,15.0,15.0,15.0,16.0,16.0,17.0,17.0,18.0,18.0,18.0,18.0,20.0,22.0,22.0,22.0,21.0,18.0,18.0,17.0,0.0,17.541666666666668,13.6,17.0,16.0,16.0,9.6,9.4,9.2,9.6,18.0,21.0,23.0,25.0,28.0,29.0,30.0,31.0,30.0,29.0,28.0,26.0,21.0,21.0,21.0,18.0,0.0,20.808333333333334,18.0,18.0,16.0,14.4,12.9,15.0,16.0,13.6,20.0,22.0,25.0,27.0,27.0,30.0,32.0,32.0,32.0,31.0,28.0,22.5,21.2,20.0,19.8,18.7,0.0,22.17083333333333,17.8,17.0,16.3,16.3,16.7,18.0,19.2,18.0,20.0,22.0,25.0,26.0,28.0,26.0,27.0,25.0,24.0,25.0,26.0,25.0,24.0,16.9,20.0,18.0,0.0,21.55,18.0,18.0,17.0,18.0,17.0,16.0,16.0,18.0,20.0,23.0,25.0,27.0,28.0,29.0,30.0,29.0,23.0,28.0,27.0,25.0,23.0,23.0,22.0,19.0,0.0,22.458333333333332,21.0,20.0,18.0,18.0,13.3,13.5,15.0,18.0,21.0,22.0,25.0,27.0,30.0,32.0,33.0,33.0,35.0,35.0,32.0,32.0,29.0,27.0,20.2,24.0,0.0,24.75,17.8,17.2,17.0,17.5,18.0,18.0,18.0,20.0,23.0,25.0,27.0,30.0,31.0,28.0,30.0,31.0,30.0,28.0,29.0,28.0,28.0,20.4,19.8,19.2,0.0,23.787499999999998,19.5,18.8,17.4,20.0,15.3,15.4,19.0,15.4,22.0,23.0,26.0,28.0,30.0,28.0,31.0,25.0,26.0,28.0,25.0,25.0,23.0,22.0,21.0,20.0,0.0,22.658333333333335,20.0,17.0,15.1,17.0,12.9,12.9,13.3,14.2,21.0,23.0,26.0,28.0,31.0,33.0,33.0,32.0,32.0,35.0,32.0,30.0,27.0,26.0,24.0,23.0,0.0,24.100000000000005,21.0,17.3,17.2,16.3,14.1,18.0,17.0,15.8,22.0,23.0,24.0,26.0,27.0,28.0,29.0,31.0,30.0,28.0,28.0,27.0,26.0,20.0,20.0,21.0,0.0,22.77916666666667,19.0,18.0,18.0,18.0,18.0,18.0,18.0,18.0,20.0,21.0,23.0,25.0,26.0,25.0,25.0,26.0,23.0,21.0,22.0,21.0,21.0,19.0,19.0,19.0,0.0,20.875,18.0,15.1,15.4,18.0,17.0,17.0,16.0,18.0,20.0,22.0,25.0,28.0,30.0,32.0,32.0,34.0,33.0,32.0,31.0,29.0,21.3,23.0,18.3,21.0,0.0,23.587500000000002,17.8,17.3,16.2,14.9,15.7,15.5,15.5,15.9,23.0,23.0,23.0,27.0,27.0,28.0,29.0,28.0,28.0,27.0,26.0,25.0,25.0,18.2,23.0,17.6,0.0,21.941666666666666,20.0,18.0,15.7,18.0,19.0,18.0,17.0,18.0,18.0,20.0,22.0,25.0,25.0,24.0,23.0,24.0,25.0,25.0,21.0,25.0,23.0,16.4,20.0,15.5,0.0,20.650000000000002,18.0,13.9,12.7,12.0,12.9,13.3,13.6,17.0,16.8,23.0,24.8,26.6,28.4,30.2,32.0,32.0,33.0,31.0,30.0,28.0,25.0,18.1,21.0,15.9,0.0,22.049999999999997,14.8,13.3,13.3,16.0,11.9,11.7,11.6,12.2,20.0,22.0,25.0,27.0,29.0,31.0,29.0,29.0,31.0,31.0,30.0,26.0,24.0,22.0,21.0,15.7,0.0,21.5625,15.2,17.0,17.0,16.0,12.0,12.2,14.0,15.0,17.0,19.0,22.0,24.0,26.0,27.0,30.0,30.0,30.0,31.0,29.0,28.0,25.0,22.0,22.0,20.0,0.0,21.683333333333334,15.3,13.9,17.0,13.2,15.0,15.0,14.0,12.9,16.8,28.0,28.0,29.0,32.0,32.0,34.0,34.0,34.0,33.0,33.0,32.0,28.0,25.0,17.5,20.0,0.0,23.85833333333333,15.6,18.0,14.4,13.6,17.0,14.0,15.0,16.0,17.0,19.0,21.0,22.0,24.0,25.0,26.0,26.0,26.0,30.0,22.9,26.0,25.0,18.2,18.4,16.8,0.0,20.287499999999998,16.6,16.2,15.8,15.5,13.5,16.0,16.0,13.3,18.0,22.0,26.0,30.0,25.2,30.0,30.0,27.0,26.0,24.6,29.0,23.2,25.0,18.0,16.3,15.0,0.0,21.175,14.3,13.8,13.4,13.7,10.2,9.9,10.5,10.9,15.0,16.0,17.0,20.0,22.0,25.0,26.0,29.0,30.0,30.0,28.0,27.0,25.0,23.0,18.7,16.9,0.0,19.3875,15.6,14.0,12.8,11.9,11.9,11.9,11.8,12.3,17.6,27.0,30.0,33.0,33.0,35.0,36.0,36.0,35.0,34.0,33.0,30.0,28.0,21.0,19.1,17.5,0.0,23.641666666666666,15.9,15.3,14.4,17.0,14.1,14.3,14.0,18.0,21.0,25.0,30.0,32.0,35.0,36.0,36.0,36.0,36.0,36.0,25.0,27.0,26.0,25.0,23.0,23.0,0.0,24.791666666666668,20.0,16.8,16.0,14.9,12.5,12.6,12.8,13.4,20.0,21.0,21.0,24.0,26.0,26.0,26.0,26.0,26.0,24.0,23.0,22.0,22.0,18.2,20.0,18.0,0.0,20.091666666666665,17.0,14.1,17.0,13.0,11.0,11.1,11.4,11.9,17.0,18.0,22.0,23.0,26.0,28.0,28.0,28.0,29.0,31.0,29.0,27.0,24.0,22.0,20.0,20.0,0.0,20.770833333333332,16.6,16.0,16.2,15.9,15.5,17.0,18.0,18.0,19.0,22.0,23.0,25.0,27.0,26.0,28.0,30.0,29.0,23.0,22.4,25.0,18.9,16.0,15.5,14.7,0.0,20.7375,17.0,12.7,11.4,10.9,10.6,9.6,9.8,10.6,16.0,18.0,20.0,23.0,25.0,27.0,29.0,30.0,31.0,30.0,27.0,27.0,24.0,21.0,16.4,15.8,0.0,19.7,18.0,17.0,16.0,16.0,16.0,15.0,17.0,14.5,17.5,29.0,31.0,32.0,33.0,34.0,35.0,36.0,35.0,35.0,35.0,32.0,30.0,20.9,19.7,18.9,0.0,25.145833333333332,18.7,22.0,21.0,21.0,12.0,12.5,11.9,12.3,14.1,20.0,21.0,21.0,22.0,23.0,23.0,24.0,25.0,25.0,24.0,23.0,21.0,15.7,18.0,18.0,0.0,19.55,14.1,13.5,16.0,11.7,14.0,10.9,10.3,10.0,12.5,17.0,18.0,20.0,21.0,22.0,23.0,23.0,23.0,24.0,23.0,22.0,20.0,14.3,17.0,15.0,0.0,17.304166666666667,15.0,14.0,10.8,10.2,9.3,9.5,9.0,9.2,16.0,19.0,23.0,26.0,31.0,31.0,33.0,33.0,33.0,33.0,32.0,29.0,25.0,21.0,16.7,13.9,0.0,20.941666666666666,13.4,13.2,12.9,12.2,11.5,11.7,12.0,11.9,17.1,30.0,30.0,30.0,30.0,30.0,31.0,31.0,30.0,28.0,26.0,25.0,22.0,20.0,20.0,18.0,0.0,21.537500000000005,17.0,16.0,16.0,15.0,14.0,15.0,14.0,13.0,16.0,17.0,19.0,20.0,21.0,24.0,25.0,27.0,27.0,27.0,28.0,26.0,20.8,17.9,17.2,18.0,0.0,19.620833333333334,18.0,13.9,17.0,12.8,12.5,12.4,15.0,15.0,18.0,20.0,22.0,25.0,28.0,29.0,29.0,31.0,31.0,31.0,30.0,23.0,21.5,20.3,18.0,16.4,0.0,21.24166666666667,13.8,11.7,11.3,11.1,11.1,11.9,14.1,10.9,14.5,20.0,23.0,23.0,25.0,26.0,25.0,27.0,26.0,26.0,26.0,24.0,23.0,16.1,18.0,17.0,0.0,18.979166666666668,17.0,12.7,15.0,13.0,9.1,9.3,9.4,9.7,16.0,18.0,21.0,21.0,22.0,23.0,25.0,26.0,25.0,26.0,23.0,22.0,20.0,15.1,18.0,17.0,0.0,18.054166666666664,15.0,12.5,12.5,12.8,15.0,15.0,15.0,12.7,17.0,19.0,21.0,21.0,22.0,25.0,25.0,26.0,27.0,27.0,25.0,22.0,21.0,19.0,14.8,14.2,0.0,19.020833333333332,16.0,11.6,10.6,10.2,9.9,13.0,13.0,12.0,16.0,18.0,22.0,23.0,25.0,26.0,26.0,27.0,26.0,25.0,23.0,22.0,21.0,15.9,14.4,13.8,0.0,18.349999999999998,15.0,11.3,10.4,9.3,8.9,11.0,8.7,8.7,12.0,12.0,17.0,19.0,22.0,23.0,25.0,26.0,26.0,24.0,25.0,22.0,21.0,21.0,16.5,16.1,0.0,17.120833333333334,13.6,14.2,14.1,12.4,12.5,12.1,11.9,11.9,16.0,21.0,22.0,26.0,29.0,30.0,30.0,28.0,30.0,28.0,28.0,25.0,22.0,16.2,14.6,13.2,0.0,20.070833333333333,12.6,12.6,11.9,11.2,10.3,9.9,9.8,10.1,12.9,20.0,23.0,25.0,27.0,28.0,31.0,32.0,32.0,30.0,28.0,26.0,23.0,21.0,21.0,13.8,0.0,20.0875,11.1,11.1,11.6,11.6,12.3,13.1,12.9,13.3,16.0,21.4,26.2,28.0,28.3,28.1,28.0,28.3,27.3,27.5,25.8,23.7,20.1,16.9,15.9,14.7,0.0,19.71666666666667,13.9,12.2,11.6,11.4,10.6,10.6,11.0,10.4,14.9,23.0,26.0,31.0,32.0,32.0,33.0,33.0,33.0,33.0,32.0,27.0,24.0,18.7,15.5,14.7,0.0,21.4375,13.7,13.3,13.0,13.4,13.2,13.4,12.9,12.7,14.5,27.0,29.0,31.0,31.0,32.0,33.0,33.0,33.0,34.0,32.0,27.0,25.0,17.4,17.4,15.5,0.0,22.391666666666666,13.8,13.0,12.4,11.9,11.9,11.9,13.0,11.1,14.1,23.0,28.0,30.0,31.0,31.0,33.0,33.0,33.0,32.0,31.0,26.0,23.0,22.0,16.2,19.0,0.0,21.845833333333335,14.5,12.0,10.1,9.9,9.4,9.4,10.0,9.6,16.0,20.0,25.0,27.0,29.0,30.0,31.0,32.0,32.0,32.0,31.0,28.0,25.0,23.0,23.0,20.0,0.0,21.204166666666666,19.0,16.0,14.0,11.7,10.3,10.7,10.7,11.1,18.0,23.0,26.0,28.0,29.7,31.3,33.0,32.0,33.0,32.0,30.0,28.0,25.0,22.5,16.1,15.5,0.0,21.941666666666666,15.3,13.9,13.0,12.4,11.7,12.5,12.4,12.4,18.0,24.0,28.0,28.0,32.0,31.0,31.0,32.0,32.0,28.0,28.0,28.0,25.0,22.0,17.1,15.1,0.0,21.78333333333333,14.4,12.2,11.6,11.3,11.5,11.0,11.3,11.0,14.3,22.0,25.0,26.0,27.0,29.0,30.0,30.0,30.0,31.0,30.0,26.0,24.0,22.0,22.0,20.0,0.0,20.941666666666666,20.0,16.0,13.2,11.9,12.0,11.9,15.0,11.7,14.1,22.0,23.0,25.0,25.0,25.0,27.0,26.0,26.0,22.0,21.0,20.0,19.0,16.0,16.0,17.0,0.0,18.991666666666667,16.0,16.0,16.0,16.0,16.0,15.0,15.0,15.0,16.0,17.0,18.0,21.0,25.0,26.0,28.0,28.0,28.0,27.0,26.0,23.0,17.1,13.1,11.5,9.1,0.0,19.116666666666667,10.8,9.5,8.4,6.4,7.6,8.0,9.0,8.0,12.0,16.0,21.0,26.0,28.0,30.0,30.0,30.0,30.0,30.0,27.0,24.0,20.0,14.9,13.5,11.1,0.0,17.966666666666665,10.0,8.1,7.7,7.5,8.6,8.2,8.3,8.4,12.0,22.0,27.0,28.0,29.0,30.0,29.0,28.0,28.0,28.0,27.0,24.0,21.0,15.1,13.9,13.0,0.0,18.408333333333335,13.4,13.6,13.5,17.0,12.0,12.6,12.0,14.0,15.0,17.0,20.0,22.0,25.0,20.6,21.6,23.0,22.0,23.0,22.0,21.0,17.0,14.1,13.6,12.3,0.0,17.3875],\"type\":\"box\"},{\"marker\":{\"color\":\"rgb(255, 127, 14)\"},\"name\":\"Cluster 1\",\"y\":[6.0,8.0,10.0,5.0,1.0,0.0,0.0,-2.0,1.0,2.0,1.4,3.5,6.5,7.9,11.1,15.0,10.9,8.8,4.4,2.4,1.2,4.0,6.0,3.0,1.0,4.879166666666667,4.0,3.0,2.0,2.0,1.0,2.0,1.0,0.0,0.0,2.0,2.3,8.0,10.0,11.0,13.0,13.0,9.8,8.7,8.0,8.0,8.0,4.8,4.7,4.0,1.0,5.429166666666667,3.4,2.9,2.1,1.7,2.0,1.0,0.0,0.0,0.0,0.0,0.8,6.7,11.0,9.4,12.0,12.0,8.8,8.1,6.1,4.4,3.3,1.0,5.0,4.0,1.0,4.404166666666667,3.0,3.0,3.0,5.0,5.0,5.0,4.0,4.0,5.0,5.0,1.2,5.7,8.0,8.0,7.1,10.0,8.0,7.0,5.6,6.0,5.2,4.2,3.6,1.6,1.0,5.133333333333333,0.0,1.0,0.0,0.0,2.0,2.0,2.0,2.0,0.0,0.2,4.0,8.0,10.0,12.0,12.0,12.0,11.0,7.8,10.0,8.0,4.2,2.4,1.7,1.7,1.0,4.75,0.2,5.0,5.0,5.0,4.0,7.0,3.0,4.0,5.0,6.0,0.7,4.1,8.0,7.2,7.7,9.5,9.5,9.0,7.0,3.1,1.1,0.3,0.0,0.6,1.0,4.666666666666667,5.0,7.0,7.0,5.0,6.0,4.0,5.0,5.0,3.0,2.0,3.5,5.4,6.7,9.2,9.7,8.0,6.6,7.6,8.0,4.1,0.9,3.0,1.0,1.0,1.0,5.154166666666667,1.0,0.0,0.0,0.0,-1.0,-2.0,-1.0,-3.0,-2.0,-2.0,0.2,5.3,9.3,7.8,7.0,8.9,6.1,5.8,4.0,2.4,1.3,3.0,2.0,-1.0,1.0,2.1708333333333334,5.0,6.0,4.0,5.0,5.0,5.0,5.0,4.0,6.0,0.5,1.7,5.0,5.9,8.0,6.9,6.8,6.5,6.8,7.1,6.6,7.1,4.8,4.0,2.7,1.0,5.225,3.3,3.6,1.9,0.4,0.8,1.3,2.2,1.7,2.4,3.8,5.0,8.2,10.5,11.7,12.3,16.0,11.1,10.2,8.9,7.8,5.8,4.7,4.2,3.5,1.0,5.887499999999999,3.1,2.2,2.1,2.4,2.0,1.2,1.0,0.9,0.8,1.7,6.0,10.6,13.8,15.6,16.3,17.4,16.2,15.3,12.3,8.5,4.8,1.7,1.2,3.0,1.0,6.670833333333334,0.0,0.0,0.0,0.0,1.0,10.0,11.0,10.0,10.0,11.0,1.6,4.1,8.0,7.3,6.3,5.9,7.9,9.0,9.0,5.6,4.4,3.7,5.0,3.6,1.0,5.599999999999999,4.0,4.0,2.0,3.0,3.0,3.0,2.0,1.0,0.0,4.0,5.0,1.0,2.1,2.5,3.3,4.3,4.3,5.2,5.2,6.0,2.7,6.0,6.0,6.0,1.0,3.566666666666667,6.0,6.0,6.0,5.0,6.0,6.0,5.0,6.0,6.0,8.0,1.4,3.1,6.0,5.9,6.7,7.4,8.1,8.0,8.1,5.6,4.5,5.0,3.0,1.2,1.0,5.583333333333333,0.0,-1.0,-1.5,-1.8,-2.0,-2.5,-2.2,-3.0,-3.0,-1.0,0.0,2.0,5.0,7.0,9.0,10.0,10.0,10.0,8.0,7.0,3.5,6.0,4.0,7.0,1.0,2.9375,4.0,6.0,5.0,7.0,7.0,2.0,1.0,0.0,0.0,1.5,6.1,9.0,12.5,13.6,14.8,20.0,20.0,19.0,13.6,11.9,6.0,11.0,11.0,10.0,1.0,8.833333333333334,9.0,7.0,5.0,5.0,5.0,2.0,3.0,3.0,1.0,1.0,6.3,11.0,14.0,15.0,17.0,18.0,18.0,18.0,17.0,13.0,6.2,0.8,11.0,10.0,1.0,9.012500000000001,6.0,5.0,8.0,5.0,3.0,2.0,5.0,5.0,2.0,3.4,8.0,11.0,14.0,12.9,12.8,14.0,11.3,8.5,4.9,3.8,1.9,3.0,3.0,1.0,1.0,6.4375,0.0,0.0,-1.0,-1.0,0.0,0.0,0.0,0.0,0.0,0.0,3.1,10.0,10.2,10.8,11.1,11.8,13.1,12.9,11.1,13.0,6.1,3.3,1.9,1.6,1.0,4.916666666666667,1.3,1.0,0.5,1.1,10.0,10.0,9.0,8.0,0.2,6.1,8.3,10.1,11.1,12.0,13.0,17.0,13.4,12.9,14.0,9.6,11.0,3.9,2.9,2.1,1.0,7.854166666666667,1.8,2.4,2.5,2.3,1.3,1.2,0.8,0.4,0.3,3.3,6.1,6.9,6.8,7.2,7.6,6.7,5.5,6.2,5.8,3.0,4.0,2.0,1.0,0.0,1.0,3.545833333333333,1.0,1.0,0.0,-1.0,-1.0,-2.0,-2.0,-2.0,-1.0,1.0,4.0,6.7,9.0,7.9,9.5,12.0,12.0,12.0,10.0,8.0,4.1,1.2,1.4,0.8,1.0,3.858333333333334,4.0,2.0,1.0,0.0,0.0,-1.0,-1.0,-1.0,0.0,1.0,3.0,5.0,8.0,7.6,9.1,12.0,13.0,13.0,12.0,9.0,8.0,1.5,0.9,0.5,1.0,4.483333333333333,7.0,6.0,2.0,2.0,1.0,1.0,1.0,0.0,2.0,3.3,10.0,12.0,15.0,17.0,18.0,18.0,14.6,14.4,17.0,15.0,9.5,4.4,3.8,2.0,1.0,8.166666666666666,0.4,0.1,0.3,5.0,5.0,0.2,0.4,0.2,0.7,8.0,11.0,13.0,15.0,17.0,16.0,16.0,9.6,7.6,6.3,5.7,5.0,2.3,1.3,0.9,1.0,6.125,0.2,0.2,0.7,0.8,0.5,0.7,0.5,0.2,0.4,2.4,4.4,7.2,8.0,8.1,8.0,8.4,7.8,8.0,7.7,5.3,4.3,6.0,4.0,4.0,1.0,4.075,5.0,4.0,2.0,2.0,0.0,0.0,0.0,0.0,0.0,2.1,5.0,7.0,10.0,11.0,13.0,15.0,15.0,16.0,14.0,12.0,7.2,2.9,2.2,1.8,1.0,6.133333333333333,1.9,1.4,0.3,0.2,2.0,1.0,1.0,1.0,0.0,4.5,7.0,9.0,10.0,8.6,7.6,6.0,4.4,3.9,2.4,0.4,0.4,1.0,1.0,1.0,1.0,3.1666666666666665,0.0,0.0,0.0,0.0,0.0,-1.0,-1.0,-1.0,-1.0,0.7,2.2,4.3,5.4,5.7,6.4,7.1,7.3,7.0,8.0,4.7,6.0,2.4,4.0,4.0,1.0,2.966666666666667,2.0,2.0,1.0,1.0,0.0,0.0,0.0,-1.0,1.0,2.3,7.0,8.0,11.0,13.0,11.7,13.0,13.0,14.0,13.0,12.0,10.0,4.7,3.5,2.9,1.0,6.045833333333334,7.5,7.1,7.2,6.6,6.0,6.4,6.9,5.8,8.0,11.6,12.9,16.0,11.7,11.4,13.2,16.0,11.4,11.4,13.0,12.0,11.0,7.2,6.8,4.6,1.0,9.654166666666667,3.7,2.2,1.4,1.1,3.0,2.0,1.0,1.0,0.7,6.0,8.0,11.0,12.0,15.0,16.0,16.0,16.0,16.0,15.0,14.0,10.0,5.4,4.6,4.3,1.0,7.7250000000000005,4.0,2.9,3.0,2.4,4.0,2.0,2.0,1.0,1.3,6.0,7.0,11.0,13.0,15.0,15.0,15.0,10.8,10.0,8.5,7.5,5.6,2.4,1.7,1.5,1.0,6.358333333333334,0.8,0.5,1.2,0.9,0.3,0.5,0.2,0.6,0.8,3.0,4.0,5.0,6.0,6.0,8.0,9.0,5.9,3.8,2.5,2.2,1.0,0.0,0.0,0.0,1.0,2.591666666666667,1.0,0.0,0.0,0.0,0.0,-1.0,-1.0,-1.0,0.0,2.0,3.7,6.0,7.5,10.8,15.0,16.0,16.0,16.0,12.5,10.5,9.6,8.0,7.9,7.0,1.0,6.104166666666667,6.2,5.7,4.6,3.4,0.7,0.0,1.0,0.3,1.0,2.5,4.1,6.1,7.5,10.0,12.0,13.0,10.0,9.0,6.8,0.9,0.2,-0.2,-0.8,-1.2,1.0,4.283333333333333,-1.8,-2.0,-2.0,-2.2,-2.5,-2.5,-1.8,-3.0,-2.0,0.6,2.5,4.4,5.0,5.2,6.9,9.0,9.8,8.0,10.0,9.8,5.0,2.4,1.7,1.2,1.0,2.5708333333333333,5.5,3.7,0.8,5.0,2.0,1.0,0.0,0.0,1.0,3.0,1.3,3.1,4.0,4.9,5.8,7.2,7.0,7.0,6.7,4.3,3.1,5.0,4.0,4.0,1.0,3.725,2.0,0.0,0.0,-1.0,-1.0,-1.0,-1.0,-1.0,0.0,4.1,7.5,8.0,12.0,14.0,15.0,15.0,14.0,13.0,13.0,11.0,9.0,5.8,4.1,4.3,1.0,6.116666666666667,-4.0,-4.0,-5.0,-5.0,-5.0,-5.0,-5.0,-4.0,-3.0,-1.0,0.7,2.8,4.5,5.9,7.0,8.0,8.0,9.0,9.0,8.0,8.0,7.0,7.0,8.0,1.0,2.1625,7.3,6.3,5.8,6.6,4.2,4.9,5.6,5.3,5.6,11.0,11.0,10.6,14.0,11.9,15.0,16.0,13.0,13.0,12.0,9.0,7.4,6.8,8.0,5.6,1.0,8.995833333333334,3.5,1.8,0.5,5.0,0.8,1.9,1.0,0.8,0.5,2.2,3.3,7.0,8.0,8.0,10.0,8.9,9.8,9.8,8.1,6.5,4.1,1.5,1.0,1.1,1.0,4.379166666666666,1.0,1.0,2.0,1.0,1.0,1.0,0.0,1.0,0.7,3.5,7.0,7.0,7.5,8.5,10.0,14.0,13.0,10.1,9.0,7.6,4.8,5.2,4.7,2.0,1.0,5.108333333333333,1.9,2.0,2.0,2.0,0.4,0.0,1.0,1.0,3.0,7.0,10.0,11.0,13.0,14.0,15.0,16.0,15.0,15.0,15.0,14.0,9.3,6.9,9.0,6.0,1.0,7.895833333333333,11.0,8.0,7.0,7.0,6.8,6.3,6.2,5.6,10.1,18.0,20.0,20.0,20.0,17.0,10.0,8.7,6.9,5.7,5.2,5.2,3.7,1.0,5.0,3.0,1.0,9.058333333333334,3.0,0.1,4.0,4.0,3.0,2.0,2.0,2.0,0.7,4.0,5.2,6.6,7.3,8.3,9.4,13.0,13.0,10.2,9.4,8.1,7.0,2.1,0.9,6.0,1.0,5.470833333333334,0.1,3.0,3.0,1.3,0.2,0.2,0.0,1.0,3.0,5.0,7.0,8.0,10.0,12.0,13.0,15.0,15.0,15.0,15.0,14.0,13.0,7.7,9.0,8.0,1.0,7.4375,7.0,5.4,4.2,4.1,1.8,2.3,2.4,2.8,6.0,7.0,7.0,7.0,8.0,9.0,9.0,10.0,5.1,3.2,3.3,3.2,2.5,1.3,1.1,0.7,1.0,4.7250000000000005,2.0,1.0,0.0,2.0,0.0,0.0,0.0,1.0,1.1,6.0,9.0,12.0,14.0,12.4,17.0,17.0,17.0,17.0,17.0,16.0,14.0,8.4,7.6,5.1,1.0,8.191666666666666,0.6,0.3,2.0,1.0,0.0,0.0,0.0,1.0,2.0,5.0,7.0,10.0,12.0,14.0,16.0,17.0,18.0,19.0,19.0,17.0,10.7,5.4,4.8,3.2,1.0,7.708333333333333,2.8,2.4,2.8,4.0,5.1,4.1,3.1,3.4,5.8,7.5,10.0,11.0,12.0,10.3,10.8,12.0,15.0,15.0,12.0,10.6,12.0,4.1,2.4,1.0,1.0,7.466666666666668,4.6,4.1,3.7,3.6,3.6,3.8,5.4,3.9,4.3,9.8,11.0,11.8,11.9,13.0,13.5,18.0,12.4,12.5,11.6,12.0,8.1,6.2,5.4,3.5,1.0,8.237499999999999,1.8,1.5,2.6,1.8,2.7,2.0,2.0,2.4,3.9,8.0,8.2,9.4,9.4,10.2,10.1,10.5,10.4,10.2,12.0,12.0,8.0,5.8,5.2,5.0,1.0,6.462500000000001,4.5,3.8,3.5,3.2,1.2,2.0,1.8,1.6,3.0,4.1,4.1,5.0,6.0,5.7,7.6,11.0,13.0,13.0,13.0,12.0,7.0,3.1,2.5,1.3,1.0,5.541666666666667,9.5,12.0,8.9,8.8,6.7,6.3,6.3,7.5,10.0,11.0,11.0,11.0,10.0,11.0,11.0,11.0,8.6,10.0,10.0,9.0,7.0,6.3,6.6,6.6,1.0,9.004166666666668,0.0,2.0,0.3,1.0,1.0,0.0,1.0,3.0,1.2,6.3,7.0,10.0,8.8,10.8,11.7,15.0,15.0,16.0,12.4,14.0,9.5,6.5,5.5,5.3,1.0,6.804166666666667,4.8,3.8,2.2,0.7,2.1,1.6,1.9,3.4,6.8,12.0,15.0,16.0,13.4,13.9,17.0,14.3,13.0,13.0,13.0,12.0,10.0,9.0,6.6,6.4,1.0,8.829166666666667,6.0,5.5,5.0,3.9,3.0,2.7,2.9,3.9,7.2,13.0,11.5,17.0,18.0,17.0,14.9,17.0,14.0,9.0,7.0,7.0,7.0,4.7,4.8,3.6,1.0,8.566666666666666,2.5,1.9,1.2,0.9,0.3,0.9,1.0,2.0,3.9,8.4,9.8,14.0,11.7,15.0,16.0,15.0,16.0,16.0,13.4,12.7,9.9,7.7,5.9,5.4,1.0,7.979166666666667,8.6,8.1,7.2,7.0,6.5,5.9,5.8,7.2,9.3,11.6,10.5,9.4,9.9,9.2,8.1,9.4,9.8,10.3,10.5,10.4,9.9,6.1,5.6,4.0,1.0,8.345833333333333,11.0,7.9,6.8,5.4,3.6,3.3,3.5,4.0,5.0,7.0,7.0,8.0,8.0,8.0,9.0,8.0,8.0,8.0,8.0,8.0,5.2,4.0,4.0,3.6,1.0,6.429166666666667,8.6,10.0,8.0,7.0,6.0,6.0,6.0,6.0,7.0,7.0,8.0,10.8,12.1,10.0,11.0,13.0,12.0,12.0,12.0,8.5,7.8,7.2,7.1,7.1,1.0,8.758333333333335,7.4,7.2,7.1,6.8,6.1,6.2,6.8,5.6,6.4,9.4,10.4,12.0,12.8,12.2,15.0,13.0,7.4,9.0,6.3,5.3,5.0,4.4,4.5,4.1,1.0,7.933333333333334,6.0,2.4,0.7,0.8,0.5,0.2,2.0,2.0,0.4,2.8,6.0,8.0,10.0,11.0,13.0,15.0,15.0,14.0,13.0,10.0,9.0,4.6,4.1,3.0,1.0,6.395833333333333,12.0,10.3,10.0,9.7,9.2,8.7,9.6,10.0,12.0,11.9,11.0,11.0,10.4,10.0,9.7,12.0,12.0,11.0,10.0,10.0,10.0,10.0,7.8,7.9,1.0,10.258333333333333,7.9,7.9,10.0,9.0,9.0,9.0,9.0,7.2,7.6,10.0,8.7,11.0,10.0,10.7,14.0,13.0,13.0,13.0,13.0,8.5,7.9,5.9,5.9,5.1,1.0,9.429166666666665,8.4,8.7,9.1,9.2,9.2,9.0,8.4,7.6,8.1,9.5,10.0,8.8,12.0,10.0,7.1,7.2,7.8,7.6,6.6,6.0,5.1,4.6,3.9,2.7,1.0,7.7749999999999995,1.5,1.7,1.1,1.2,0.8,0.6,0.3,0.4,1.6,5.4,6.5,10.0,9.5,12.0,13.0,15.0,15.0,15.0,12.0,10.0,6.6,3.5,3.1,2.6,1.0,6.183333333333334,7.4,6.0,5.2,3.7,2.0,2.0,2.1,2.7,3.0,9.0,11.0,12.0,13.0,15.0,15.0,16.0,16.0,15.0,13.0,11.0,10.0,6.3,6.2,5.1,1.0,8.654166666666667,9.8,7.7,6.3,6.2,4.0,4.2,4.0,3.9,6.0,8.0,6.7,7.7,8.3,8.5,8.6,7.8,6.6,5.5,4.0,3.0,2.1,6.0,3.0,3.0,1.0,5.870833333333334,3.0,1.0,0.6,1.4,0.6,1.4,2.0,2.2,2.2,6.0,8.0,9.0,11.0,12.0,12.0,14.0,13.0,12.0,10.0,8.0,4.5,2.1,1.7,0.7,1.0,5.766666666666666,3.3,3.2,2.6,1.7,1.4,2.0,2.1,1.2,2.4,7.0,12.0,14.0,15.0,16.0,16.0,16.0,12.6,11.4,9.7,11.0,10.0,7.0,7.0,5.5,1.0,7.920833333333333,5.0,2.6,1.4,0.6,4.0,2.0,1.0,1.0,1.0,3.2,5.6,7.0,8.0,10.0,11.0,12.0,12.0,11.0,9.0,5.3,3.8,2.5,2.3,2.7,1.0,5.166666666666667,2.9,3.8,3.1,3.3,3.1,2.3,2.8,2.0,2.0,2.4,4.6,6.7,7.3,7.7,9.1,10.0,9.4,8.8,7.6,5.5,4.2,4.1,4.4,4.6,1.0,5.070833333333333,5.0,6.0,3.8,3.0,4.0,4.1,4.6,5.0,4.0,7.2,9.0,11.6,12.6,13.4,13.3,15.0,13.2,15.0,13.0,15.0,10.9,8.4,7.0,9.1,1.0,8.883333333333335,8.0,7.8,8.0,6.0,3.8,3.6,3.9,5.0,3.4,6.0,6.0,7.0,7.4,8.2,8.6,9.0,6.6,5.9,7.0,4.3,2.7,0.7,0.2,0.4,1.0,5.395833333333333,2.0,2.0,1.0,1.0,-1.0,0.0,0.0,0.0,0.0,1.4,3.3,5.0,6.0,8.0,7.0,8.0,9.0,9.0,6.3,6.6,7.2,6.1,5.9,5.7,1.0,4.145833333333333,5.8,5.2,4.7,3.4,3.5,2.5,2.1,1.8,1.7,4.3,6.0,7.6,8.3,8.3,8.6,8.6,7.2,6.4,4.4,6.0,4.9,1.2,7.0,5.0,1.0,5.1875,3.0,3.0,2.0,2.0,2.0,3.0,2.0,2.0,3.0,0.2,3.2,5.6,5.8,6.3,6.8,7.6,5.4,4.7,2.2,0.9,5.0,4.0,3.0,2.0,1.0,3.529166666666667,-1.0,-1.0,-1.0,-1.0,4.0,6.0,6.0,8.0,6.0,11.0,7.0,2.4,4.4,4.9,8.0,8.9,6.6,5.4,4.0,5.0,1.7,4.0,2.0,2.0,1.0,4.304166666666666,0.0,0.0,1.0,0.0,1.0,1.0,0.0,1.0,3.0,8.0,1.6,4.7,7.5,7.7,12.0,13.0,7.3,6.4,4.2,1.8,1.1,8.0,9.0,10.0,1.0,4.554166666666666,10.0,10.0,8.0,10.0,11.0,10.0,7.0,4.0,3.0,0.8,4.1,5.9,6.9,9.8,10.1,10.7,8.4,7.3,3.5,1.6,6.0,5.0,2.0,3.0,1.0,6.5874999999999995,2.0,1.0,0.0,0.0,0.0,0.0,0.0,2.0,5.0,10.0,2.5,5.1,5.8,5.8,6.0,7.5,5.6,4.9,4.6,2.0,0.2,7.0,5.0,0.6,1.0,3.441666666666667,0.0,-1.0,0.0,-2.0,-2.0,-2.0,-3.0,-3.0,-2.0,0.0,3.0,2.9,4.6,6.7,11.0,12.0,8.2,6.7,1.2,0.2,5.0,3.0,2.0,2.0,1.0,2.2291666666666665,2.0,1.0,1.0,1.0,0.0,-1.0,0.0,0.0,0.0,2.0,6.0,4.4,6.1,7.3,8.7,10.5,7.5,4.4,2.5,0.0,7.0,5.0,5.0,5.0,1.0,3.558333333333333,4.0,5.0,1.0,1.0,1.0,1.0,2.0,1.0,1.0,3.0,5.0,4.4,6.3,7.3,9.5,8.9,6.9,5.9,4.5,3.5,3.1,2.3,2.2,1.2,1.0,3.7916666666666665,1.5,0.9,0.0,7.0,7.0,6.0,5.0,6.0,6.0,0.3,3.2,5.6,5.7,5.8,5.7,6.0,4.7,4.8,4.7,3.8,2.4,5.0,5.0,6.0,1.0,4.504166666666666,8.0,7.0,7.0,2.0,2.0,1.0,0.0,0.0,-1.0,2.0,2.2,5.4,5.0,5.1,7.2,6.4,5.7,5.6,5.0,4.2,3.5,2.4,1.8,0.9,1.0,3.683333333333333,0.8,1.2,1.6,2.5,10.0,12.0,11.0,11.0,11.0,1.4,5.2,12.0,8.8,9.7,10.5,10.1,9.1,8.3,4.7,4.0,3.5,1.7,1.9,2.0,1.0,6.416666666666667,2.2,1.1,0.8,0.5,0.1,3.0,3.0,2.0,0.1,3.0,2.4,5.0,6.0,5.4,7.0,8.0,4.7,3.9,5.0,4.0,3.0,0.7,3.0,2.0,1.0,3.1625,6.0,4.0,2.0,3.0,-1.0,1.0,2.0,1.0,2.0,4.0,1.8,5.5,9.2,7.8,8.2,7.4,6.2,6.1,0.6,4.0,5.0,1.0,0.0,0.0,1.0,3.6166666666666667,0.0,0.0,0.0,0.0,0.0,0.0,1.0,8.0,10.0,0.1,1.8,6.2,7.6,8.7,9.6,10.3,7.8,6.3,2.6,1.9,0.1,2.0,2.0,3.0,1.0,3.7083333333333335,2.0,1.0,1.0,2.0,3.0,2.0,-2.0,0.0,0.0,1.0,1.3,6.9,9.1,12.0,9.9,12.0,12.0,10.0,7.0,2.3,3.0,2.0,3.0,2.0,1.0,4.270833333333333,1.0,1.0,1.0,0.0,0.0,0.0,0.0,0.0,-1.0,1.0,6.0,5.4,8.5,9.2,10.4,13.0,9.1,6.9,4.7,3.0,2.0,2.3,0.4,0.2,1.0,3.5041666666666664,1.6,1.9,1.5,1.4,3.0,3.0,2.0,1.0,0.0,2.0,2.5,7.0,9.0,8.7,9.5,10.0,8.0,7.5,4.3,2.1,1.5,6.0,0.2,0.4,1.0,3.920833333333333,0.8,1.8,2.9,5.9,6.2,5.2,4.7,4.9,4.5,4.6,5.8,6.4,5.8,5.6,5.3,5.5,3.3,2.8,1.6,0.2,3.0,1.0,0.0,0.0,1.0,3.658333333333333,0.0,-1.0,-1.0,0.0,1.0,2.0,0.1,2.0,3.0,0.9,3.8,7.1,12.0,11.1,10.9,10.6,8.6,7.4,5.4,4.7,4.3,1.4,0.2,0.7,1.0,3.9666666666666663,-4.0,-4.0,3.0,5.0,4.0,4.0,-5.0,-5.0,-3.0,-2.0,1.1,4.7,5.0,7.0,9.0,9.0,5.3,5.8,4.5,1.0,5.0,5.0,5.0,4.0,1.0,2.6833333333333336],\"type\":\"box\"},{\"marker\":{\"color\":\"rgb(44, 160, 44)\"},\"name\":\"Cluster 2\",\"y\":[3.0,2.1,2.1,1.4,0.7,0.9,1.1,1.3,2.9,7.9,11.6,14.1,18.0,16.2,16.7,20.0,21.0,20.0,15.8,14.3,11.3,8.0,8.0,8.0,2.0,9.433333333333332,0.5,0.2,0.2,2.0,1.0,0.0,1.0,0.1,5.0,9.7,10.0,13.0,20.0,21.0,17.4,22.0,22.0,21.0,16.0,14.2,10.5,11.0,13.0,9.4,2.0,10.008333333333333,3.2,2.8,3.2,4.1,1.5,1.4,1.6,1.7,4.9,12.0,11.0,15.0,16.0,16.0,16.0,17.0,18.0,16.0,15.0,11.0,9.6,8.7,7.6,6.4,2.0,9.154166666666667,1.0,0.0,4.0,4.0,3.0,3.0,5.0,2.0,3.0,8.0,10.0,12.0,16.0,18.0,20.0,21.0,20.0,20.0,20.0,19.0,18.0,10.1,7.6,6.4,2.0,10.4625,5.8,5.9,6.1,6.6,5.8,5.7,5.4,5.2,8.1,14.1,20.0,20.0,22.0,23.0,23.0,24.0,25.0,25.0,23.0,22.0,20.0,9.9,7.6,5.9,2.0,14.129166666666668,5.5,5.4,5.3,3.9,3.7,3.6,3.8,4.2,8.0,10.0,10.0,12.0,15.0,18.0,17.9,23.0,19.2,23.0,21.0,17.0,15.0,7.8,6.7,4.9,2.0,10.995833333333332,4.2,3.4,3.0,1.7,2.0,2.0,1.0,3.0,3.0,8.1,11.6,11.0,13.0,15.0,18.0,18.0,18.0,18.0,17.0,16.0,15.0,9.4,9.4,11.0,2.0,9.658333333333333,4.9,3.8,3.3,2.4,1.6,1.5,1.2,1.7,5.5,10.0,13.0,15.0,16.0,18.0,16.0,18.0,22.0,20.0,15.7,18.0,14.0,8.8,8.0,6.0,2.0,10.183333333333334,0.2,6.0,6.0,5.0,5.0,3.0,4.0,0.8,6.3,12.0,16.0,18.0,19.0,20.0,21.0,21.0,21.0,21.0,21.0,20.0,17.0,8.6,7.2,6.3,2.0,11.891666666666666,4.9,4.2,3.3,2.1,1.9,1.6,1.8,2.8,9.0,11.0,13.0,16.0,18.0,19.0,19.0,21.0,22.0,21.0,22.0,21.0,14.8,12.1,11.5,10.2,2.0,11.799999999999999,9.6,9.5,10.0,12.0,6.1,6.2,6.4,7.9,12.0,17.0,22.0,24.0,24.0,25.0,26.0,26.0,25.0,24.0,23.0,22.0,16.0,11.8,11.3,8.9,2.0,16.070833333333333,7.8,6.0,4.9,4.1,5.0,5.3,5.0,6.1,9.4,15.0,16.0,16.0,17.0,18.0,18.0,20.0,19.0,20.0,19.0,11.3,8.5,6.3,5.6,5.0,2.0,11.179166666666667,0.7,5.0,5.0,4.0,3.0,3.0,3.0,1.1,5.5,11.0,15.0,17.0,18.0,18.0,20.0,20.0,21.0,21.0,21.0,21.0,14.1,9.3,8.1,5.5,2.0,11.262500000000001,5.5,4.8,4.4,2.9,3.3,3.7,4.0,5.1,13.0,16.0,19.0,21.0,22.0,23.0,25.0,25.0,25.0,25.0,25.0,23.0,15.6,12.2,10.9,9.9,2.0,14.345833333333331,8.5,7.6,6.7,5.4,5.4,5.7,6.0,7.6,15.0,17.0,20.0,23.0,26.0,28.0,30.0,27.0,28.0,22.2,25.0,23.0,21.0,15.1,13.7,12.0,2.0,16.620833333333334,11.3,10.6,9.4,8.6,9.6,9.7,9.9,11.1,13.6,20.0,17.3,22.0,23.0,25.0,25.0,25.0,20.8,16.0,17.0,16.0,12.3,9.5,8.1,8.0,2.0,14.950000000000001,7.3,7.2,7.2,6.6,6.8,6.8,6.6,8.0,13.0,17.0,17.0,18.0,20.0,19.0,18.0,16.0,10.9,12.0,13.0,12.0,12.0,11.0,11.0,10.0,2.0,11.933333333333332,11.0,11.0,10.0,10.0,10.0,10.0,10.0,10.0,8.7,12.0,13.0,11.8,12.8,12.4,12.5,16.0,15.0,13.3,13.1,12.7,15.0,13.0,13.0,8.8,2.0,11.879166666666668,8.0,6.3,6.1,5.6,7.0,5.3,5.6,6.3,8.0,11.0,11.0,12.0,14.0,16.0,15.0,17.0,17.0,18.0,17.0,17.0,11.7,8.3,8.5,6.7,2.0,10.766666666666666,6.0,5.2,4.6,4.1,4.6,4.3,4.0,5.3,11.0,13.0,17.0,18.0,21.0,22.0,25.0,25.0,26.0,26.0,25.0,23.0,21.0,13.4,12.3,11.2,2.0,14.5,10.9,11.6,10.8,9.0,8.6,7.4,7.2,8.5,15.0,16.0,17.0,18.0,18.0,20.0,21.0,22.0,22.0,21.0,20.0,20.0,18.0,13.4,13.1,11.7,2.0,15.008333333333335,10.3,9.2,8.4,6.6,6.4,6.6,6.9,7.6,12.0,14.0,15.0,18.0,21.0,22.0,24.0,24.0,24.0,22.0,23.0,21.0,20.0,14.1,13.4,12.7,2.0,15.091666666666667,11.3,9.9,9.3,7.8,6.3,6.2,6.3,6.8,13.0,16.0,18.0,20.0,21.0,19.0,15.0,15.0,13.0,12.0,9.4,9.3,11.0,7.7,9.0,6.6,2.0,11.620833333333332,8.0,6.0,5.0,4.1,4.1,3.5,3.9,5.0,11.0,16.0,17.0,18.0,20.0,20.0,17.1,20.0,18.0,15.0,11.1,9.6,7.0,4.5,4.4,5.0,2.0,10.554166666666667,4.8,3.2,2.8,1.4,2.2,2.4,3.0,4.6,8.6,13.0,16.0,21.0,25.0,26.0,27.0,27.0,28.0,28.0,28.0,26.0,22.0,14.5,13.1,11.8,2.0,14.975,10.8,10.2,10.4,9.8,10.2,10.4,9.5,10.6,14.1,20.0,18.0,18.0,21.0,17.0,18.0,20.0,17.0,19.0,17.0,15.0,12.0,11.0,8.3,8.5,2.0,13.991666666666665,10.0,8.0,8.0,8.0,6.3,7.0,7.0,8.0,7.7,10.0,11.0,11.0,11.0,13.8,13.3,12.8,14.2,13.8,14.9,15.3,13.7,10.3,9.9,9.5,2.0,10.604166666666666,3.4,2.8,2.6,2.5,2.9,2.9,2.8,3.8,8.5,13.4,14.6,15.6,16.2,16.7,17.2,17.8,17.1,17.1,16.5,15.8,13.0,10.1,9.1,7.9,2.0,10.429166666666667,6.8,7.0,7.2,5.2,4.8,4.6,4.7,6.1,10.0,15.0,17.0,18.0,19.0,17.0,17.0,16.0,18.0,18.0,17.0,17.0,12.1,8.7,8.6,7.2,2.0,11.75,6.1,5.4,4.7,3.7,5.4,5.4,5.5,7.3,14.0,16.0,17.0,20.0,21.0,22.0,22.0,23.0,22.0,23.0,23.0,22.0,20.0,12.4,11.9,11.6,2.0,14.35,10.5,9.2,7.2,4.7,5.6,5.7,5.7,7.9,16.0,18.0,20.0,22.0,23.0,24.0,25.0,26.0,26.0,25.0,20.2,19.0,17.8,15.3,13.1,11.0,2.0,15.745833333333332,9.2,8.1,7.5,7.0,7.2,9.5,12.1,8.7,16.0,17.0,20.0,21.0,23.0,25.0,24.0,23.0,21.0,18.7,24.0,23.0,21.0,13.2,12.3,11.8,2.0,15.970833333333333,10.8,9.7,9.2,8.6,8.5,9.2,9.6,10.9,17.0,20.0,20.0,21.0,22.0,22.0,22.0,19.0,18.0,16.6,21.0,20.0,17.0,11.4,10.5,10.0,2.0,15.166666666666666,9.7,9.1,8.5,7.1,7.0,9.0,7.6,8.9,13.3,20.0,20.0,21.0,22.0,23.0,23.0,23.0,24.0,23.0,25.0,23.0,21.0,18.0,17.0,16.0,2.0,16.633333333333333,18.0,14.7,14.1,12.3,11.3,10.9,10.0,10.0,10.0,11.0,11.0,11.0,11.0,12.0,12.0,13.0,15.0,15.0,16.0,16.0,15.0,13.0,13.0,10.1,2.0,12.725,12.0,12.0,12.0,10.0,9.0,10.0,10.0,11.0,13.0,14.0,15.0,17.0,18.0,19.0,21.0,22.0,23.0,22.0,23.0,21.0,20.0,15.1,14.4,14.0,2.0,15.729166666666666,13.1,12.7,11.7,9.8,13.0,12.0,9.3,9.9,15.0,15.0,16.0,16.0,16.0,17.0,18.0,19.0,21.0,21.0,21.0,21.0,19.0,17.0,14.1,17.0,2.0,15.608333333333334,11.9,13.0,9.5,9.5,9.8,9.8,13.0,10.4,13.0,13.0,15.0,16.0,18.0,18.0,18.0,21.0,22.0,22.0,23.0,16.9,14.4,12.3,12.5,12.6,2.0,14.775,14.1,13.0,15.0,14.0,14.0,13.0,11.2,13.0,13.0,15.0,16.0,17.0,18.0,19.0,18.0,17.0,17.0,16.0,16.0,16.0,16.0,15.0,16.0,12.1,2.0,15.183333333333332,15.0,14.0,13.0,12.0,12.0,12.0,11.0,11.0,13.0,14.0,16.0,18.0,20.0,21.0,20.0,18.0,17.0,20.0,20.0,18.0,16.0,16.0,15.0,11.6,2.0,15.566666666666668,10.6,9.8,8.7,7.8,8.4,8.5,8.5,8.5,11.5,17.0,18.0,20.0,21.0,22.0,23.0,23.0,23.0,23.0,22.0,21.0,18.0,13.7,13.4,12.5,2.0,15.5375,9.2,9.4,12.0,8.4,7.0,7.0,6.4,6.4,8.2,13.0,16.0,17.0,19.0,21.0,22.0,23.0,23.0,23.0,22.0,20.0,19.0,17.0,17.0,11.2,2.0,14.883333333333333,13.0,12.0,12.0,7.6,5.4,4.2,3.8,3.6,5.6,8.3,12.0,13.0,11.2,12.4,17.0,17.0,17.0,17.0,16.0,14.0,12.0,7.0,7.6,8.0,2.0,10.695833333333333,6.0,5.4,5.3,4.6,3.2,2.8,2.9,2.8,4.5,10.0,12.0,15.0,17.0,18.0,20.0,21.0,22.0,21.0,20.0,16.0,15.0,14.0,9.6,7.9,2.0,11.5,7.1,6.2,6.4,6.1,6.2,6.1,6.1,5.7,8.0,17.0,19.0,21.0,22.0,25.0,26.0,24.0,23.0,25.0,22.0,18.0,16.0,14.0,10.9,9.4,2.0,14.591666666666669,4.4,4.3,4.2,5.0,3.8,4.0,4.1,4.3,5.0,11.7,18.4,21.8,20.0,26.0,28.0,28.0,29.0,28.0,25.0,21.0,17.0,15.0,14.0,10.2,2.0,14.674999999999999,3.7,3.8,4.1,3.7,3.9,3.1,3.0,3.0,3.9,6.4,8.3,13.0,15.0,16.0,16.0,18.0,17.0,17.0,15.0,13.0,13.0,10.1,8.8,5.1,2.0,9.329166666666666,3.3,3.0,2.4,2.6,2.3,2.5,3.0,3.0,4.6,10.0,12.0,15.0,17.0,20.0,21.0,22.0,21.0,20.0,21.0,20.0,13.2,10.4,9.4,7.8,2.0,11.104166666666666,8.3,7.8,6.9,6.4,5.8,5.6,5.3,4.9,6.4,11.0,14.2,20.0,22.0,22.0,23.0,23.0,23.0,22.0,20.0,18.0,18.0,9.8,8.8,6.9,2.0,13.295833333333334,6.5,6.2,6.4,6.2,5.8,5.7,5.9,5.3,7.2,11.9,14.6,17.4,23.0,26.0,26.0,26.0,24.0,23.0,22.0,20.0,21.0,12.4,11.7,10.6,2.0,14.366666666666667,9.9,9.3,8.5,7.1,7.1,7.1,6.7,6.5,8.4,13.2,21.0,23.0,25.0,25.0,26.0,26.0,26.0,23.0,21.0,18.0,16.0,11.0,10.4,8.9,2.0,15.170833333333333,8.2,8.1,7.4,7.0,6.8,6.4,6.2,6.1,6.8,12.0,15.0,16.0,20.0,22.0,23.0,23.0,23.0,22.0,20.0,17.0,16.0,12.0,13.0,9.5,2.0,13.604166666666666,4.8,4.5,4.2,3.9,3.6,3.5,3.6,3.9,5.3,10.0,12.0,15.0,20.0,18.0,21.0,22.0,20.0,18.0,18.0,15.0,11.0,9.5,8.6,8.2,2.0,10.983333333333333,2.2,1.9,2.0,1.8,2.3,2.1,2.1,3.0,3.6,7.6,12.0,15.0,19.0,22.0,23.0,23.0,23.0,22.0,20.0,15.0,10.0,8.4,6.1,4.3,2.0,10.475,3.4,2.8,2.6,2.3,2.1,2.1,2.5,2.6,4.6,12.0,16.0,19.0,20.0,21.0,21.0,21.0,22.0,21.0,23.0,15.2,11.8,9.5,8.8,8.8,2.0,11.462499999999999,8.9,9.0,9.4,8.3,8.8,8.5,8.5,7.3,9.1,12.4,13.0,16.0,21.0,21.0,22.0,20.0,21.0,18.0,16.0,14.0,14.0,12.0,11.0,6.9,2.0,13.170833333333334,4.9,4.0,3.4,3.2,3.4,2.3,2.0,2.0,3.2,9.0,12.0,13.0,16.0,17.0,18.0,20.0,20.0,18.0,16.0,14.0,12.0,7.9,6.7,5.4,2.0,9.725,5.6,4.9,4.6,4.5,4.8,5.2,5.1,5.1,6.4,12.0,17.0,21.0,23.0,23.0,22.0,23.0,23.0,22.0,18.0,16.0,15.0,7.5,7.1,6.9,2.0,12.612499999999999,6.8,6.5,5.2,4.2,3.7,3.7,3.8,3.4,4.3,10.1,15.0,18.0,20.0,21.0,22.0,22.0,23.0,21.0,19.0,17.0,13.6,9.7,8.4,7.3,2.0,12.029166666666669,6.8,6.1,6.2,5.8,5.4,5.5,5.2,5.6,7.1,12.0,17.0,20.0,21.0,22.0,23.0,21.0,22.0,16.3,15.4,14.9,13.9,11.7,10.8,10.0,2.0,12.695833333333335,9.6,9.6,11.0,8.2,6.1,6.0,5.7,5.8,6.7,10.9,13.0,13.0,18.0,18.0,16.4,18.0,18.0,18.0,17.0,16.0,10.1,6.9,6.7,5.6,2.0,11.429166666666665,5.3,4.7,4.3,3.8,3.4,3.2,3.1,3.2,4.4,11.0,15.0,19.0,20.0,20.0,21.0,22.0,23.0,17.1,15.3,13.5,11.9,9.1,8.6,8.3,2.0,11.258333333333335,8.0,7.6,7.5,8.9,8.5,8.6,9.1,9.2,9.7,11.2,18.0,22.0,25.0,26.0,21.9,28.0,22.2,20.5,22.0,19.0,12.9,6.8,5.6,4.8,2.0,14.291666666666666,4.5,4.8,4.9,5.4,3.5,3.2,3.3,2.8,4.1,10.3,20.0,22.0,24.0,25.0,26.0,26.0,26.0,19.8,22.0,17.0,13.0,7.9,6.7,5.6,2.0,12.825000000000001,5.9,6.0,6.3,6.9,8.5,8.8,9.3,9.9,10.2,15.0,20.0,18.9,24.0,25.0,25.0,25.0,25.0,24.0,20.0,14.0,11.7,9.0,9.4,9.9,2.0,14.487499999999999,0.0,4.0,2.0,2.0,1.0,2.0,0.1,0.5,1.5,7.0,13.0,14.0,18.0,15.4,16.8,21.0,15.9,14.8,17.0,14.3,12.7,6.9,4.3,3.3,2.0,8.645833333333334],\"type\":\"box\"},{\"marker\":{\"color\":\"rgb(214, 39, 40)\"},\"name\":\"Cluster 3\",\"y\":[-13.0,-13.0,-14.0,-14.0,-15.0,-15.0,-15.0,-15.0,-16.0,-15.0,-15.0,-15.0,-12.0,-11.0,-11.0,-10.0,-10.0,-11.0,-12.0,-13.0,-13.0,-15.0,-14.0,-14.0,3.0,-13.375,-15.0,-15.0,-13.0,-13.0,-12.0,-11.0,-11.0,-13.0,-10.0,-10.0,-7.0,-3.0,-2.0,0.0,1.0,0.4,1.0,1.0,-1.0,-2.0,-2.0,-4.0,-4.0,-3.0,3.0,-6.1499999999999995,-5.0,-6.0,-5.0,-4.0,-6.0,-6.0,-4.0,-5.0,-5.0,-3.0,0.0,0.3,3.0,3.6,5.1,6.0,5.7,3.8,1.3,6.0,8.0,3.0,4.0,4.0,3.0,0.19999999999999996,1.0,1.0,0.0,-2.0,-1.0,-2.0,-3.0,-3.0,-3.0,-2.0,-1.0,1.6,3.2,4.7,5.5,6.0,4.3,3.6,1.4,1.5,1.0,0.0,0.0,-1.0,3.0,0.7000000000000001,-1.0,-1.0,-3.0,-3.0,-3.0,-2.0,-2.0,-3.0,-3.0,-2.0,0.0,1.6,2.7,5.0,6.0,7.0,5.7,4.4,4.7,3.0,1.2,0.0,1.0,1.0,3.0,0.8458333333333333,1.7,2.2,1.7,1.4,1.3,0.6,0.3,0.3,0.0,0.2,0.2,0.2,1.0,1.0,0.0,0.2,2.0,0.1,0.0,0.0,0.0,0.0,1.0,0.0,3.0,0.6416666666666667,0.0,0.0,1.0,1.0,1.0,0.0,0.0,0.0,0.0,0.0,1.0,2.0,0.1,0.2,0.2,0.2,3.0,3.0,1.0,0.0,0.0,1.0,1.0,0.0,3.0,0.6541666666666667,-1.0,-2.0,-2.0,-2.0,-2.0,-3.0,-3.0,-3.0,-4.0,-2.0,-1.0,0.0,2.0,3.0,3.0,0.3,4.0,0.6,1.0,0.0,0.0,0.0,-1.0,-2.0,3.0,-0.5875,-1.0,-2.0,-3.0,-3.0,-5.0,-5.0,-4.0,-6.0,-5.0,-3.0,0.0,2.0,4.0,0.6,2.1,4.0,4.5,3.5,2.0,2.0,2.0,2.0,1.0,1.0,3.0,-0.2625,-2.0,-2.0,-3.0,-2.0,-3.0,-3.0,-3.0,-3.0,-3.0,-2.0,0.0,3.0,2.7,4.5,8.0,7.0,5.1,4.7,0.7,4.0,3.0,2.0,2.0,1.0,3.0,0.9041666666666667,1.0,0.0,1.0,0.0,1.0,0.0,0.0,0.0,0.0,0.0,1.0,3.0,5.0,4.0,6.4,6.1,5.9,6.0,2.7,2.2,1.9,1.1,1.1,0.6,3.0,2.0833333333333335,0.4,0.2,0.2,6.0,0.2,0.4,0.2,2.0,1.0,2.0,2.0,1.0,1.0,0.6,0.2,0.5,0.3,0.3,1.0,1.0,0.0,0.0,0.0,-2.0,3.0,0.7708333333333334,-1.0,-1.0,0.0,0.0,-3.0,-2.0,-4.0,-1.0,2.0,2.0,3.0,0.4,1.9,2.7,3.1,4.4,3.7,3.4,1.8,1.1,0.9,0.1,0.1,5.0,3.0,0.9833333333333334,-1.0,-1.0,-1.0,-1.0,0.0,-1.0,-2.0,-3.0,-3.0,-3.0,-1.0,-2.0,0.0,0.0,0.0,0.0,0.0,0.0,-1.0,-2.0,-3.0,-3.0,-4.0,-5.0,3.0,-1.5416666666666667,-5.0,-1.0,-1.0,0.0,-6.0,-6.0,-1.0,0.0,0.0,0.0,2.0,5.0,0.2,0.9,1.2,3.5,1.9,1.5,0.9,3.0,2.1,0.1,0.0,0.0,3.0,0.0958333333333334,0.0,0.0,-1.0,-2.0,-2.0,-3.0,-3.0,-3.0,-4.0,-6.0,-6.0,-6.0,-5.0,-4.0,-2.0,-1.0,-1.0,-3.0,-5.0,-6.0,-6.0,-7.0,-7.0,-7.0,3.0,-3.75,-7.0,-8.0,-8.0,-10.0,-8.0,-10.0,-8.0,-10.0,-8.0,-8.0,-3.0,-1.0,0.0,2.0,3.0,0.7,2.0,1.0,0.0,-1.0,-1.0,-1.0,-1.0,-3.0,3.0,-3.6374999999999997,-2.0,2.0,0.0,-2.0,-3.0,-3.0,-1.0,1.0,1.0,2.0,-2.0,1.1,1.0,1.2,2.1,3.5,3.2,2.5,2.2,2.4,5.0,5.0,5.0,5.0,3.0,1.3416666666666668,1.9,0.0,1.4,0.0,0.0,0.0,-1.0,-2.0,-3.0,-5.0,-5.0,-4.0,-3.0,-3.0,-4.0,-2.0,-2.0,-2.0,-4.0,-6.0,-6.0,-7.0,-8.0,-11.0,3.0,-3.1125000000000003,-10.0,-10.0,-11.0,-11.0,-10.0,-10.0,-11.0,-10.0,-11.0,-10.0,-8.0,-7.0,-5.0,-3.0,-1.0,0.0,0.0,-1.0,-2.0,-5.0,-5.0,-6.0,-6.0,-6.0,3.0,-6.625,-6.0,-10.0,-10.0,-10.0,-10.0,-13.0,-12.0,-13.0,-11.0,-6.0,5.0,1.0,0.1,2.8,4.4,5.0,3.0,2.7,1.3,5.0,3.0,6.0,2.0,3.0,3.0,-2.3625000000000003,1.0,6.0,6.0,0.0,-1.0,-3.0,-3.0,-3.0,-4.0,-1.0,0.0,2.0,4.0,5.0,6.0,8.0,6.1,5.3,4.1,1.7,2.0,1.2,2.5,3.8,3.0,2.0708333333333333,1.0,0.0,0.0,0.0,-1.0,-1.0,-1.0,-3.0,-3.0,-4.0,-4.0,-5.0,-6.0,-6.0,-6.0,-6.0,-6.0,-7.0,-7.0,-7.0,-7.0,-8.0,-8.0,-8.0,3.0,-4.291666666666667,-8.0,-8.0,-9.0,-9.0,-10.0,-10.0,-10.0,-10.0,-10.0,-10.0,-10.0,-9.0,-8.0,-8.0,-8.0,-8.0,-8.0,-8.0,-9.0,-11.0,-11.0,-13.0,-13.0,-12.0,3.0,-9.583333333333334,-12.0,-14.0,-12.0,-13.0,-16.0,-15.0,-16.0,-16.0,-16.0,-15.0,-13.0,-10.0,-7.0,-6.0,-5.0,-2.0,-2.0,-5.0,-6.0,-6.0,-3.0,-2.0,-2.0,-3.0,3.0,-9.041666666666666,-4.0,-2.0,-3.0,-3.0,-3.0,-3.0,-2.0,0.0,-3.0,-2.0,-3.0,-3.0,-2.0,1.0,2.0,0.5,2.0,2.0,1.0,0.0,0.0,0.0,0.0,-3.0,3.0,-1.1458333333333333,-3.0,-3.0,-3.0,-2.0,-2.0,-2.0,-3.0,-3.0,-3.0,-3.0,-3.0,-2.0,-1.0,-1.0,-1.0,-1.0,-1.0,-1.0,-1.0,-2.0,-2.0,-1.0,-1.0,-2.0,3.0,-1.9583333333333333,-2.0,-3.0,-5.0,-5.0,-5.0,-6.0,-5.0,-6.0,-5.0,-3.0,-1.0,1.1,1.0,1.3,3.0,5.0,4.4,6.5,6.4,2.5,1.3,0.7,1.0,2.0,3.0,-0.40833333333333327,0.1,2.0,1.0,0.0,0.0,0.0,-1.0,-1.0,-2.0,-3.0,-3.0,-2.0,-2.0,-2.0,-2.0,-2.0,-2.0,-2.0,-3.0,-3.0,-3.0,-4.0,-5.0,-7.0,3.0,-1.9124999999999999,-8.0,-9.0,-10.0,-8.0,-8.0,-9.0,-9.0,-8.0,-9.0,-7.0,-6.0,-2.0,-1.0,-1.0,0.0,0.0,-1.0,0.0,-1.0,-3.0,-4.0,-4.0,-4.0,-4.0,3.0,-4.833333333333333,-5.0,-5.0,-6.0,-6.0,-6.0,-7.0,-9.0,-12.0,-11.0,-9.0,-8.0,-6.0,-4.0,-3.0,-2.0,-1.0,-2.0,-2.0,-3.0,-6.0,-7.0,-7.0,-8.0,-6.0,3.0,-5.875,-5.0,-5.0,-5.0,1.0,0.0,0.0,0.0,0.0,1.0,0.0,1.0,3.0,2.0,1.0,1.0,-1.0,-1.0,-1.0,-1.0,-2.0,-3.0,-3.0,-4.0,-5.0,3.0,-1.0833333333333333,-5.0,-6.0,-6.0,-6.0,-6.0,-7.0,-7.0,-7.0,-7.0,-7.0,-6.0,-6.0,-5.0,-4.0,-3.0,-2.0,-2.0,-2.0,-5.0,-7.0,-7.0,-9.0,-8.0,-9.0,3.0,-5.791666666666667,-8.0,-10.0,-10.0,-11.0,-10.0,-10.0,-11.0,-11.0,-10.0,-7.0,-5.0,1.7,2.6,6.4,5.0,8.2,8.2,9.5,5.4,3.3,2.0,8.0,6.0,8.0,3.0,-1.1958333333333335,6.0,5.0,6.0,0.0,-1.0,-2.0,-3.0,-3.0,-3.0,-2.0,1.0,2.0,2.0,5.0,0.2,1.2,1.3,1.0,2.3,2.3,2.2,-1.0,-1.0,-2.0,3.0,0.8125000000000001,-2.0,-3.0,-2.0,-3.0,-3.0,-2.0,-2.0,-2.0,-1.0,-1.0,0.0,1.6,4.5,5.2,5.0,6.0,6.0,5.0,7.0,5.3,2.5,1.3,1.6,1.5,3.0,1.3125,1.6,1.6,1.6,0.6,0.0,0.0,0.0,0.0,-1.0,1.0,0.6,1.2,1.5,1.4,1.6,1.4,5.0,4.0,2.0,2.0,0.0,-2.0,-2.0,-3.0,3.0,0.7958333333333333,-3.0,-4.0,-4.0,-3.0,-6.0,-7.0,-6.0,-8.0,-6.0,-3.0,-2.0,-1.0,0.0,1.0,1.0,1.0,2.0,1.0,-1.0,-2.0,-2.0,-1.0,-2.0,-2.0,3.0,-2.375,-4.0,-5.0,-5.0,-5.0,-6.0,-7.0,-5.0,-4.0,-5.0,-4.0,-4.0,-3.0,-4.0,-3.0,-3.0,-4.0,-4.0,-5.0,-5.0,-6.0,-7.0,-7.0,-8.0,-9.0,3.0,-5.083333333333333,-8.0,-8.0,-10.0,-11.0,-12.0,-12.0,-12.0,-12.0,-13.0,-12.0,-10.0,-7.0,-5.0,-3.0,0.0,1.0,0.0,0.0,-2.0,-3.0,-4.0,-5.0,-5.0,-6.0,3.0,-6.625,-7.0,-7.0,-7.0,-8.0,-7.0,-8.0,-7.0,-6.0,-6.0,-2.0,2.0,3.0,1.0,2.4,7.0,8.0,8.0,8.0,7.0,2.4,3.0,2.0,0.0,0.0,3.0,-0.4666666666666666,3.0,3.1,3.1,3.0,1.9,2.3,1.9,1.5,1.0,1.7,1.3,1.1,1.5,1.5,2.0,2.5,2.5,2.3,3.8,4.0,2.0,2.0,1.0,0.0,3.0,2.0833333333333335,0.0,0.0,0.0,0.0,3.0,0.0,0.0,0.0,5.0,5.0,3.0,2.0,4.0,2.0,0.3,0.4,1.0,1.0,0.0,0.0,0.0,-1.0,0.0,0.0,3.0,1.0708333333333333,-1.0,-1.0,-1.0,-2.0,-2.0,-3.0,-3.0,-3.0,-2.0,-2.0,-3.0,-2.0,-2.0,-2.0,-2.0,-2.0,-2.0,-2.0,-3.0,-4.0,-5.0,-6.0,-6.0,-7.0,3.0,-2.8333333333333335,-8.0,-8.0,-9.0,-10.0,-10.0,-10.0,-11.0,-10.0,-9.0,-6.0,-4.0,-1.0,0.0,1.0,2.0,1.0,0.5,1.0,0.6,3.0,3.0,3.0,3.0,2.0,3.0,-3.1625,0.0,0.0,0.0,0.0,0.0,-1.0,-1.0,-1.0,0.0,0.0,1.0,1.0,2.0,0.2,0.5,1.3,0.8,0.6,0.0,1.0,1.0,0.0,1.0,0.0,3.0,0.30833333333333335,0.0,-1.0,0.0,-1.0,-1.0,-1.0,-1.0,-1.0,-1.0,1.0,2.0,0.2,1.0,2.3,3.4,4.7,5.7,5.8,5.2,3.3,3.0,2.0,0.0,-1.0,3.0,1.3166666666666667,-3.0,-3.0,-3.0,-3.0,-3.0,-3.0,-6.0,-5.0,-5.0,-2.0,0.0,3.1,5.0,7.0,6.8,10.0,8.6,8.2,7.4,4.3,0.0,3.0,3.0,1.0,3.0,1.3083333333333333,0.0,-1.0,-1.0,-1.0,-3.0,-2.0,-3.0,-3.0,-3.0,0.0,0.8,3.0,4.0,4.8,5.9,6.8,7.0,7.1,5.7,6.0,2.2,3.0,2.0,2.0,3.0,1.8041666666666665,1.0,1.0,0.0,0.0,0.0,0.0,0.0,0.0,0.0,2.0,3.0,1.5,3.2,3.1,3.8,6.0,4.2,3.9,3.4,3.0,2.0,2.0,1.0,0.0,3.0,1.8375000000000001,0.0,0.0,0.0,0.0,0.0,0.0,0.0,0.0,0.0,0.0,1.0,0.8,0.9,1.2,2.5,3.8,5.5,5.7,5.1,5.6,4.7,1.6,3.0,3.0,3.0,1.8500000000000003,2.0,2.0,2.0,2.0,1.0,1.0,0.0,0.0,2.0,1.9,3.0,3.9,3.7,5.1,4.6,3.2,1.5,1.0,1.0,1.0,1.0,1.0,1.0,0.0,3.0,1.8708333333333336,0.0,0.0,-2.0,-1.0,-1.0,-2.0,-3.0,-2.0,0.0,0.0,0.3,4.0,2.6,3.5,3.6,2.8,2.5,1.2,0.5,0.6,1.0,2.0,1.0,1.0,3.0,0.65,5.7,4.7,4.4,3.9,2.4,1.7,2.0,1.2,1.0,1.5,1.2,-2.0,-2.0,-2.0,-2.0,-2.0,-1.0,-3.0,-3.0,-3.0,-3.0,-4.0,-4.0,-4.0,3.0,-0.22083333333333335,3.0,3.1,2.2,0.7,0.3,0.3,0.6,0.7,1.2,2.2,3.1,3.5,4.4,4.5,4.7,4.7,3.2,3.3,2.7,1.9,1.6,0.3,3.0,1.0,3.0,2.341666666666667,0.4,0.0,0.0,1.0,1.0,1.0,0.0,0.0,0.1,1.4,1.4,1.5,0.5,0.4,0.3,1.2,3.3,3.4,3.4,3.0,2.0,0.8,0.1,0.6,3.0,1.1166666666666665,5.0,3.0,3.0,2.0,1.0,0.7,0.4,0.2,0.5,1.4,1.5,1.7,1.7,1.0,2.0,3.0,2.1,2.0,2.1,1.6,1.5,0.2,0.4,0.3,3.0,1.5958333333333332,4.0,4.0,3.0,3.0,0.7,0.1,0.1,2.0,1.0,0.0,0.0,0.4,0.2,0.1,1.0,1.0,1.0,1.0,1.0,0.0,1.0,0.0,1.0,1.0,3.0,1.1083333333333332,1.0,1.0,1.0,1.0,1.0,1.0,1.0,1.0,0.6,1.5,1.7,2.0,1.9,1.5,1.5,1.8,1.7,1.6,1.6,1.5,1.3,1.0,1.1,1.4,3.0,1.3208333333333333,2.0,0.0,-1.0,-1.0,-2.0,-2.0,-1.0,-1.0,-1.0,-1.0,0.0,0.0,1.6,2.3,2.9,5.0,2.7,1.0,0.0,1.0,0.0,0.0,-1.0,0.0,3.0,0.31250000000000006,0.0,0.0,-1.0,-2.0,-2.0,-3.0,-3.0,-3.0,-3.0,-2.0,-2.0,-1.0,0.0,0.0,3.0,0.1,3.0,3.0,1.0,1.0,2.0,0.0,-1.0,-1.0,3.0,-0.45416666666666666,2.0,-3.0,-3.0,-4.0,-4.0,-5.0,-5.0,-5.0,-6.0,-6.0,-4.0,-2.0,0.0,0.1,2.0,3.0,1.3,1.5,1.4,0.0,0.0,-1.0,-1.0,-2.0,3.0,-1.6541666666666666,0.0,0.0,-1.0,-2.0,-2.0,-2.0,-2.0,-2.0,-2.0,-2.0,-2.0,-2.0,-2.0,-2.0,-3.0,-3.0,-3.0,-4.0,-4.0,-4.0,-5.0,-5.0,-4.0,-3.0,3.0,-2.5416666666666665,-3.0,-4.0,-5.0,-5.0,-5.0,-5.0,-5.0,-5.0,-6.0,-6.0,-4.0,-2.0,-2.0,-2.0,-1.0,-1.0,-1.0,-3.0,-4.0,-6.0,-6.0,-7.0,-6.0,-8.0,3.0,-4.25,-8.0,-7.0,-6.0,-5.0,-4.0,-3.0,-5.0,-4.0,-4.0,-3.0,1.0,0.3,1.8,2.3,2.8,4.8,4.8,3.7,0.2,3.0,2.0,2.0,1.0,1.0,3.0,-0.7625000000000001,0.4,0.9,3.0,2.0,2.0,2.0,1.0,1.0,1.0,0.0,-1.0,-2.0,-2.0,-3.0,-3.0,-3.0,-4.0,-4.0,-5.0,-5.0,-5.0,-5.0,-5.0,-5.0,3.0,-1.6125,-5.0,-5.0,-5.0,-5.0,-5.0,-6.0,-8.0,-8.0,-7.0,-5.0,-2.0,0.0,2.0,0.9,4.0,5.0,2.0,0.9,2.0,1.0,1.0,0.0,0.0,0.0,3.0,-1.7583333333333335,-1.0,-1.0,-2.0,-1.0,-1.0,-1.0,0.0,-3.0,-2.0,0.0,2.0,0.7,4.0,4.2,4.0,4.8,2.5,4.4,2.2,2.0,1.0,1.0,0.0,0.0,3.0,0.8666666666666667,8.0,2.0,3.0,1.0,0.0,0.0,0.0,0.0,-1.0,0.5,3.0,5.6,7.1,7.3,5.1,2.3,0.2,4.0,3.0,2.0,1.0,3.0,1.0,1.0,3.0,2.4625,1.0,1.0,0.0,0.0,0.0,0.0,-1.0,-2.0,-2.0,0.0,3.0,5.0,6.0,1.0,1.0,2.3,0.3,4.0,3.0,1.0,1.0,0.0,-1.0,-1.0,3.0,0.9416666666666668,-2.0,-3.0,-3.0,-3.0,-5.0,-5.0,-5.0,-5.0,-5.0,-3.0,-1.0,0.0,1.3,2.6,3.9,5.3,5.2,4.2,2.0,3.0,0.0,1.0,1.0,8.0,3.0,-0.10416666666666659,1.0,0.0,0.0,0.0,-1.0,-1.0,-1.0,-1.0,0.0,0.0,1.0,1.0,1.0,1.0,1.4,1.4,0.3,0.1,0.3,0.8,0.8,0.2,0.0,-0.8,3.0,0.22916666666666666,-1.2,-1.8,-2.8,-3.5,-4.2,-4.5,-3.8,-5.0,-4.0,-1.0,1.0,1.3,2.2,2.8,3.4,3.4,2.0,0.5,3.0,0.2,2.0,2.0,0.0,-1.0,3.0,-0.375,0.0,-1.0,0.0,-1.0,-1.0,-4.0,-5.0,-5.0,-6.0,-4.0,-1.0,1.0,2.0,2.0,3.0,2.0,1.0,0.0,0.0,0.0,0.0,-2.0,-2.0,-2.0,3.0,-0.9583333333333334,-3.0,-3.0,-3.0,-3.0,-3.0,-3.0,-6.0,-5.0,-4.0,-3.0,-2.0,-2.0,0.0,0.0,0.0,1.0,0.0,0.0,-1.0,-1.0,-1.0,-2.0,-3.0,-2.0,3.0,-2.0416666666666665,-2.0,-3.0,-5.0,-7.0,-6.0,-4.0,-2.0,-2.0,-3.0,-1.0,0.0,1.0,2.0,3.0,3.0,3.0,3.0,2.0,1.0,0.0,0.0,1.0,1.0,0.0,3.0,-0.625,-4.0,-5.0,-5.0,-6.0,-7.0,-7.0,-7.0,-6.0,-6.0,-3.0,0.0,2.0,2.2,3.7,3.9,4.7,2.0,2.0,0.0,0.0,-1.0,-1.0,-2.0,-2.0,3.0,-1.7291666666666667,-3.0,-4.0,-5.0,-5.0,-5.0,-5.0,-5.0,-6.0,-6.0,-6.0,-5.0,-5.0,-5.0,-4.0,-4.0,-3.0,-3.0,-4.0,-5.0,-4.0,-4.0,-4.0,-4.0,-5.0,3.0,-4.541666666666667,-4.0,-5.0,-6.0,-6.0,-5.0,-5.0,-6.0,-6.0,-7.0,-6.0,-3.0,0.0,1.0,0.9,2.0,2.8,3.0,2.0,0.2,0.0,-1.0,-1.0,-2.0,-3.0,3.0,-2.2541666666666664,-2.0,-3.0,-3.0,-6.0,-5.0,-5.0,-5.0,-5.0,-6.0,-3.0,0.0,3.0,2.1,3.9,4.1,5.7,4.1,3.8,2.2,2.0,1.0,0.0,0.0,0.0,3.0,-0.4625000000000001,0.0,-2.0,-2.0,-2.0,-2.0,-3.0,-3.0,-3.0,-2.0,-2.0,0.0,0.3,1.6,1.9,3.3,4.3,1.7,1.7,0.2,1.0,2.0,1.0,0.0,0.0,3.0,-0.08333333333333333,-1.0,-2.0,-3.0,-3.0,-4.0,-5.0,-4.0,-6.0,-5.0,-3.0,1.0,0.6,4.6,5.6,6.9,8.0,7.0,2.6,1.9,0.8,0.4,3.0,4.0,10.0,3.0,0.85,0.0,-1.0,-1.0,-2.0,-2.0,-1.0,-1.0,-1.0,2.0,3.0,0.4,3.0,5.2,6.2,7.8,10.0,3.8,4.0,3.6,2.0,0.7,5.0,3.0,0.0,3.0,2.1125000000000003,0.0,0.0,0.0,-2.0,-1.0,-3.0,-3.0,-3.0,-3.0,-2.0,0.0,2.0,4.0,6.0,1.1,1.9,1.5,0.8,2.0,0.0,0.0,0.0,-1.0,-2.0,3.0,-0.029166666666666674,-2.0,-2.0,-2.0,-2.0,-2.0,-3.0,-3.0,-2.0,-3.0,-1.0,2.0,3.7,6.0,6.5,7.0,8.2,7.2,5.7,4.8,4.0,3.0,2.0,1.0,1.0,3.0,1.6708333333333334,-1.0,-1.0,-3.0,-3.0,-3.0,-3.0,-3.0,-3.0,-5.0,-2.0,0.0,1.5,3.2,4.3,7.0,8.0,5.6,3.6,3.0,1.0,1.0,0.0,0.0,-1.0,3.0,0.425,1.3,2.0,1.0,1.0,1.0,0.0,-1.0,0.0,0.0,0.0,0.0,1.0,2.0,2.0,5.0,4.0,4.0,1.0,-1.0,-1.0,-2.0,-3.0,-4.0,1.0,3.0,0.5958333333333333,-1.0,0.0,-6.0,-6.0,-7.0,-6.0,-6.0,-6.0,-6.0,-3.0,-2.0,0.4,2.8,4.0,4.9,6.1,5.4,3.1,0.8,2.0,1.0,0.0,0.0,0.0,3.0,-0.7708333333333334,0.0,-1.0,-2.0,-2.0,-2.0,0.0,-1.0,0.0,0.0,0.0,2.0,2.1,3.6,4.1,4.3,4.7,3.9,3.3,2.0,3.0,4.0,1.0,1.0,0.0,3.0,1.2916666666666667,-1.0,-3.0,-2.0,-2.0,-2.0,-3.0,-3.0,-3.0,-3.0,-2.0,0.0,0.9,1.6,2.0,3.3,3.6,1.9,0.6,3.0,1.0,1.0,0.0,1.0,0.0,3.0,-0.1708333333333333,-1.0,-1.0,-1.0,-2.0,-2.0,-4.0,-4.0,-5.0,-5.0,-5.0,-3.0,-1.0,0.0,0.6,2.1,2.0,1.3,0.3,0.1,1.0,0.0,0.0,-1.0,-1.0,3.0,-1.1916666666666667,-2.0,-2.0,-2.0,-3.0,-4.0,-5.0,-5.0,-5.0,-5.0,-5.0,-3.0,-2.0,0.0,-1.0,-1.0,-1.0,-1.0,-3.0,-4.0,-5.0,-5.0,-5.0,-5.0,-5.0,3.0,-3.2916666666666665,-5.0,-6.0,-6.0,-6.0,-7.0,-8.0,-8.0,-8.0,-8.0,-8.0,-7.0,-7.0,-7.0,-6.0,-6.0,-6.0,-6.0,-6.0,-6.0,-6.0,-6.0,-6.0,-7.0,-7.0,3.0,-6.625,-7.0,-8.0,-9.0,-10.0,-10.0,-11.0,-12.0,-12.0,-12.0,-11.0,-8.0,-6.0,-4.0,-2.0,0.0,0.4,2.0,1.0,-1.0,-2.0,-1.0,-3.0,-3.0,-3.0,3.0,-5.483333333333333,3.0,2.0,2.0,0.0,-1.0,-3.0,-2.0,-3.0,-6.0,-8.0,-9.0,-9.0,-9.0,-8.0,-8.0,-8.0,-10.0,-11.0,-12.0,-12.0,-12.0,-12.0,-13.0,-13.0,3.0,-6.75],\"type\":\"box\"}],                        {\"template\":{\"data\":{\"histogram2dcontour\":[{\"type\":\"histogram2dcontour\",\"colorbar\":{\"outlinewidth\":0,\"ticks\":\"\"},\"colorscale\":[[0.0,\"#0d0887\"],[0.1111111111111111,\"#46039f\"],[0.2222222222222222,\"#7201a8\"],[0.3333333333333333,\"#9c179e\"],[0.4444444444444444,\"#bd3786\"],[0.5555555555555556,\"#d8576b\"],[0.6666666666666666,\"#ed7953\"],[0.7777777777777778,\"#fb9f3a\"],[0.8888888888888888,\"#fdca26\"],[1.0,\"#f0f921\"]]}],\"choropleth\":[{\"type\":\"choropleth\",\"colorbar\":{\"outlinewidth\":0,\"ticks\":\"\"}}],\"histogram2d\":[{\"type\":\"histogram2d\",\"colorbar\":{\"outlinewidth\":0,\"ticks\":\"\"},\"colorscale\":[[0.0,\"#0d0887\"],[0.1111111111111111,\"#46039f\"],[0.2222222222222222,\"#7201a8\"],[0.3333333333333333,\"#9c179e\"],[0.4444444444444444,\"#bd3786\"],[0.5555555555555556,\"#d8576b\"],[0.6666666666666666,\"#ed7953\"],[0.7777777777777778,\"#fb9f3a\"],[0.8888888888888888,\"#fdca26\"],[1.0,\"#f0f921\"]]}],\"heatmap\":[{\"type\":\"heatmap\",\"colorbar\":{\"outlinewidth\":0,\"ticks\":\"\"},\"colorscale\":[[0.0,\"#0d0887\"],[0.1111111111111111,\"#46039f\"],[0.2222222222222222,\"#7201a8\"],[0.3333333333333333,\"#9c179e\"],[0.4444444444444444,\"#bd3786\"],[0.5555555555555556,\"#d8576b\"],[0.6666666666666666,\"#ed7953\"],[0.7777777777777778,\"#fb9f3a\"],[0.8888888888888888,\"#fdca26\"],[1.0,\"#f0f921\"]]}],\"heatmapgl\":[{\"type\":\"heatmapgl\",\"colorbar\":{\"outlinewidth\":0,\"ticks\":\"\"},\"colorscale\":[[0.0,\"#0d0887\"],[0.1111111111111111,\"#46039f\"],[0.2222222222222222,\"#7201a8\"],[0.3333333333333333,\"#9c179e\"],[0.4444444444444444,\"#bd3786\"],[0.5555555555555556,\"#d8576b\"],[0.6666666666666666,\"#ed7953\"],[0.7777777777777778,\"#fb9f3a\"],[0.8888888888888888,\"#fdca26\"],[1.0,\"#f0f921\"]]}],\"contourcarpet\":[{\"type\":\"contourcarpet\",\"colorbar\":{\"outlinewidth\":0,\"ticks\":\"\"}}],\"contour\":[{\"type\":\"contour\",\"colorbar\":{\"outlinewidth\":0,\"ticks\":\"\"},\"colorscale\":[[0.0,\"#0d0887\"],[0.1111111111111111,\"#46039f\"],[0.2222222222222222,\"#7201a8\"],[0.3333333333333333,\"#9c179e\"],[0.4444444444444444,\"#bd3786\"],[0.5555555555555556,\"#d8576b\"],[0.6666666666666666,\"#ed7953\"],[0.7777777777777778,\"#fb9f3a\"],[0.8888888888888888,\"#fdca26\"],[1.0,\"#f0f921\"]]}],\"surface\":[{\"type\":\"surface\",\"colorbar\":{\"outlinewidth\":0,\"ticks\":\"\"},\"colorscale\":[[0.0,\"#0d0887\"],[0.1111111111111111,\"#46039f\"],[0.2222222222222222,\"#7201a8\"],[0.3333333333333333,\"#9c179e\"],[0.4444444444444444,\"#bd3786\"],[0.5555555555555556,\"#d8576b\"],[0.6666666666666666,\"#ed7953\"],[0.7777777777777778,\"#fb9f3a\"],[0.8888888888888888,\"#fdca26\"],[1.0,\"#f0f921\"]]}],\"mesh3d\":[{\"type\":\"mesh3d\",\"colorbar\":{\"outlinewidth\":0,\"ticks\":\"\"}}],\"scatter\":[{\"fillpattern\":{\"fillmode\":\"overlay\",\"size\":10,\"solidity\":0.2},\"type\":\"scatter\"}],\"parcoords\":[{\"type\":\"parcoords\",\"line\":{\"colorbar\":{\"outlinewidth\":0,\"ticks\":\"\"}}}],\"scatterpolargl\":[{\"type\":\"scatterpolargl\",\"marker\":{\"colorbar\":{\"outlinewidth\":0,\"ticks\":\"\"}}}],\"bar\":[{\"error_x\":{\"color\":\"#2a3f5f\"},\"error_y\":{\"color\":\"#2a3f5f\"},\"marker\":{\"line\":{\"color\":\"#E5ECF6\",\"width\":0.5},\"pattern\":{\"fillmode\":\"overlay\",\"size\":10,\"solidity\":0.2}},\"type\":\"bar\"}],\"scattergeo\":[{\"type\":\"scattergeo\",\"marker\":{\"colorbar\":{\"outlinewidth\":0,\"ticks\":\"\"}}}],\"scatterpolar\":[{\"type\":\"scatterpolar\",\"marker\":{\"colorbar\":{\"outlinewidth\":0,\"ticks\":\"\"}}}],\"histogram\":[{\"marker\":{\"pattern\":{\"fillmode\":\"overlay\",\"size\":10,\"solidity\":0.2}},\"type\":\"histogram\"}],\"scattergl\":[{\"type\":\"scattergl\",\"marker\":{\"colorbar\":{\"outlinewidth\":0,\"ticks\":\"\"}}}],\"scatter3d\":[{\"type\":\"scatter3d\",\"line\":{\"colorbar\":{\"outlinewidth\":0,\"ticks\":\"\"}},\"marker\":{\"colorbar\":{\"outlinewidth\":0,\"ticks\":\"\"}}}],\"scattermapbox\":[{\"type\":\"scattermapbox\",\"marker\":{\"colorbar\":{\"outlinewidth\":0,\"ticks\":\"\"}}}],\"scatterternary\":[{\"type\":\"scatterternary\",\"marker\":{\"colorbar\":{\"outlinewidth\":0,\"ticks\":\"\"}}}],\"scattercarpet\":[{\"type\":\"scattercarpet\",\"marker\":{\"colorbar\":{\"outlinewidth\":0,\"ticks\":\"\"}}}],\"carpet\":[{\"aaxis\":{\"endlinecolor\":\"#2a3f5f\",\"gridcolor\":\"white\",\"linecolor\":\"white\",\"minorgridcolor\":\"white\",\"startlinecolor\":\"#2a3f5f\"},\"baxis\":{\"endlinecolor\":\"#2a3f5f\",\"gridcolor\":\"white\",\"linecolor\":\"white\",\"minorgridcolor\":\"white\",\"startlinecolor\":\"#2a3f5f\"},\"type\":\"carpet\"}],\"table\":[{\"cells\":{\"fill\":{\"color\":\"#EBF0F8\"},\"line\":{\"color\":\"white\"}},\"header\":{\"fill\":{\"color\":\"#C8D4E3\"},\"line\":{\"color\":\"white\"}},\"type\":\"table\"}],\"barpolar\":[{\"marker\":{\"line\":{\"color\":\"#E5ECF6\",\"width\":0.5},\"pattern\":{\"fillmode\":\"overlay\",\"size\":10,\"solidity\":0.2}},\"type\":\"barpolar\"}],\"pie\":[{\"automargin\":true,\"type\":\"pie\"}]},\"layout\":{\"autotypenumbers\":\"strict\",\"colorway\":[\"#636efa\",\"#EF553B\",\"#00cc96\",\"#ab63fa\",\"#FFA15A\",\"#19d3f3\",\"#FF6692\",\"#B6E880\",\"#FF97FF\",\"#FECB52\"],\"font\":{\"color\":\"#2a3f5f\"},\"hovermode\":\"closest\",\"hoverlabel\":{\"align\":\"left\"},\"paper_bgcolor\":\"white\",\"plot_bgcolor\":\"#E5ECF6\",\"polar\":{\"bgcolor\":\"#E5ECF6\",\"angularaxis\":{\"gridcolor\":\"white\",\"linecolor\":\"white\",\"ticks\":\"\"},\"radialaxis\":{\"gridcolor\":\"white\",\"linecolor\":\"white\",\"ticks\":\"\"}},\"ternary\":{\"bgcolor\":\"#E5ECF6\",\"aaxis\":{\"gridcolor\":\"white\",\"linecolor\":\"white\",\"ticks\":\"\"},\"baxis\":{\"gridcolor\":\"white\",\"linecolor\":\"white\",\"ticks\":\"\"},\"caxis\":{\"gridcolor\":\"white\",\"linecolor\":\"white\",\"ticks\":\"\"}},\"coloraxis\":{\"colorbar\":{\"outlinewidth\":0,\"ticks\":\"\"}},\"colorscale\":{\"sequential\":[[0.0,\"#0d0887\"],[0.1111111111111111,\"#46039f\"],[0.2222222222222222,\"#7201a8\"],[0.3333333333333333,\"#9c179e\"],[0.4444444444444444,\"#bd3786\"],[0.5555555555555556,\"#d8576b\"],[0.6666666666666666,\"#ed7953\"],[0.7777777777777778,\"#fb9f3a\"],[0.8888888888888888,\"#fdca26\"],[1.0,\"#f0f921\"]],\"sequentialminus\":[[0.0,\"#0d0887\"],[0.1111111111111111,\"#46039f\"],[0.2222222222222222,\"#7201a8\"],[0.3333333333333333,\"#9c179e\"],[0.4444444444444444,\"#bd3786\"],[0.5555555555555556,\"#d8576b\"],[0.6666666666666666,\"#ed7953\"],[0.7777777777777778,\"#fb9f3a\"],[0.8888888888888888,\"#fdca26\"],[1.0,\"#f0f921\"]],\"diverging\":[[0,\"#8e0152\"],[0.1,\"#c51b7d\"],[0.2,\"#de77ae\"],[0.3,\"#f1b6da\"],[0.4,\"#fde0ef\"],[0.5,\"#f7f7f7\"],[0.6,\"#e6f5d0\"],[0.7,\"#b8e186\"],[0.8,\"#7fbc41\"],[0.9,\"#4d9221\"],[1,\"#276419\"]]},\"xaxis\":{\"gridcolor\":\"white\",\"linecolor\":\"white\",\"ticks\":\"\",\"title\":{\"standoff\":15},\"zerolinecolor\":\"white\",\"automargin\":true,\"zerolinewidth\":2},\"yaxis\":{\"gridcolor\":\"white\",\"linecolor\":\"white\",\"ticks\":\"\",\"title\":{\"standoff\":15},\"zerolinecolor\":\"white\",\"automargin\":true,\"zerolinewidth\":2},\"scene\":{\"xaxis\":{\"backgroundcolor\":\"#E5ECF6\",\"gridcolor\":\"white\",\"linecolor\":\"white\",\"showbackground\":true,\"ticks\":\"\",\"zerolinecolor\":\"white\",\"gridwidth\":2},\"yaxis\":{\"backgroundcolor\":\"#E5ECF6\",\"gridcolor\":\"white\",\"linecolor\":\"white\",\"showbackground\":true,\"ticks\":\"\",\"zerolinecolor\":\"white\",\"gridwidth\":2},\"zaxis\":{\"backgroundcolor\":\"#E5ECF6\",\"gridcolor\":\"white\",\"linecolor\":\"white\",\"showbackground\":true,\"ticks\":\"\",\"zerolinecolor\":\"white\",\"gridwidth\":2}},\"shapedefaults\":{\"line\":{\"color\":\"#2a3f5f\"}},\"annotationdefaults\":{\"arrowcolor\":\"#2a3f5f\",\"arrowhead\":0,\"arrowwidth\":1},\"geo\":{\"bgcolor\":\"white\",\"landcolor\":\"#E5ECF6\",\"subunitcolor\":\"white\",\"showland\":true,\"showlakes\":true,\"lakecolor\":\"white\"},\"title\":{\"x\":0.05},\"mapbox\":{\"style\":\"light\"}}},\"title\":{\"text\":\"Box plots of hourly temperature data from the whole year as well as from each individual cluster\",\"x\":0.5,\"y\":0.95},\"yaxis\":{\"title\":{\"text\":\"Temperature (C)\"}},\"margin\":{\"l\":50,\"r\":50,\"b\":50,\"t\":75},\"autosize\":false,\"width\":1000,\"height\":400},                        {\"responsive\": true}                    ).then(function(){\n",
              "                            \n",
              "var gd = document.getElementById('63edf3b4-47ba-43dc-9fbc-6d8dbf635b0d');\n",
              "var x = new MutationObserver(function (mutations, observer) {{\n",
              "        var display = window.getComputedStyle(gd).display;\n",
              "        if (!display || display === 'none') {{\n",
              "            console.log([gd, 'removed!']);\n",
              "            Plotly.purge(gd);\n",
              "            observer.disconnect();\n",
              "        }}\n",
              "}});\n",
              "\n",
              "// Listen for the removal of the full notebook cells\n",
              "var notebookContainer = gd.closest('#notebook-container');\n",
              "if (notebookContainer) {{\n",
              "    x.observe(notebookContainer, {childList: true});\n",
              "}}\n",
              "\n",
              "// Listen for the clearing of the current output cell\n",
              "var outputEl = gd.closest('.output');\n",
              "if (outputEl) {{\n",
              "    x.observe(outputEl, {childList: true});\n",
              "}}\n",
              "\n",
              "                        })                };                            </script>        </div>\n",
              "</body>\n",
              "</html>"
            ]
          },
          "metadata": {}
        }
      ]
    },
    {
      "cell_type": "markdown",
      "source": [
        "The above plots show that the individual cluster each have much lower variance than the variance in the whole dataset. This difference will be even more apparent if daily average temperature data is used because the variance of the individual day is then removed. From either way the conclusion is that clustering of data can help segregate the data into groups which have much lower variance than the original data."
      ],
      "metadata": {
        "id": "yZU5uPx36PLK"
      }
    },
    {
      "cell_type": "markdown",
      "source": [
        "## Hierarchical Clustering\n",
        "\n",
        "To check what the difference in between the two clustering techniques in terms of the results, hierarchal clustering is conducted on the same pivoted dataset. Hierarchical clustering is typically a bottom up approach wherein a **dissimilarity** metric is computed among different data point and similar data points are hierarchically clustered together."
      ],
      "metadata": {
        "id": "cgP4jYGeESTS"
      }
    },
    {
      "cell_type": "code",
      "source": [
        "HClust = AgglomerativeClustering(distance_threshold=0,n_clusters=None,linkage='complete')\n",
        "hc_comp = HClust.fit_predict(df_pivoted.iloc[:,:-2])\n",
        "linkage_comp = linkage(df_pivoted.iloc[:,:-2],method=\"complete\")  #Using complete linkage\n",
        "cut_labels = cut_tree(linkage_comp, n_clusters=4).flatten()   # Like above 4 clusters were chosen\n",
        "\n",
        "# Assign the cluster labels back to the DataFrame\n",
        "df_pivoted['HCluster'] = cut_labels"
      ],
      "metadata": {
        "id": "AZGcXVVvyjUt"
      },
      "execution_count": null,
      "outputs": []
    },
    {
      "cell_type": "markdown",
      "source": [
        "Like K-means clustering, the daily average temperature across the days of the year can be plotted and segregated into different clusters based on hierarchical clustering."
      ],
      "metadata": {
        "id": "3YoM6oFW9Yew"
      }
    },
    {
      "cell_type": "code",
      "source": [
        "fig = go.Figure()\n",
        "colors = ['rgb(31, 119, 180)', 'rgb(255, 127, 14)', 'rgb(44, 160, 44)', 'rgb(214, 39, 40)']\n",
        "\n",
        "for class_label in {0,1,2,3}:\n",
        "    df_class = df_pivoted[df_pivoted['HCluster'] == class_label]\n",
        "    fig.add_trace(go.Scatter(x=df_class.index, y=df_class['DailyAvgTemp'],\n",
        "                             mode='markers',\n",
        "                             marker=dict(size=10,color=colors[class_label]),\n",
        "                             name=f'Cluster {class_label}'))\n",
        "fig.update_layout(title='Daily average temperature across the year segregated by cluster', xaxis_title='Day of the year', yaxis_title='Temperature (C)')\n",
        "\n",
        "fig.update_layout(\n",
        "    margin=dict(l=50, r=50, b=50, t=75),  # Adjust margins to make the plot tighter\n",
        "    autosize=False,  # Disable autosizing\n",
        "    width=1000,       # Set the width of the plot\n",
        "    height=400,       # Set the height of the plot\n",
        "    title_x=0.5,\n",
        "    title_y=0.95\n",
        ")\n",
        "fig.show()"
      ],
      "metadata": {
        "colab": {
          "base_uri": "https://localhost:8080/",
          "height": 417
        },
        "id": "7EF6eW9j7zTP",
        "outputId": "4fb18325-468b-4e98-afa4-3630385464ff"
      },
      "execution_count": null,
      "outputs": [
        {
          "output_type": "display_data",
          "data": {
            "text/html": [
              "<html>\n",
              "<head><meta charset=\"utf-8\" /></head>\n",
              "<body>\n",
              "    <div>            <script src=\"https://cdnjs.cloudflare.com/ajax/libs/mathjax/2.7.5/MathJax.js?config=TeX-AMS-MML_SVG\"></script><script type=\"text/javascript\">if (window.MathJax && window.MathJax.Hub && window.MathJax.Hub.Config) {window.MathJax.Hub.Config({SVG: {font: \"STIX-Web\"}});}</script>                <script type=\"text/javascript\">window.PlotlyConfig = {MathJaxConfig: 'local'};</script>\n",
              "        <script charset=\"utf-8\" src=\"https://cdn.plot.ly/plotly-2.24.1.min.js\"></script>                <div id=\"c880b25e-cc79-4201-8949-96afb60ccc88\" class=\"plotly-graph-div\" style=\"height:400px; width:1000px;\"></div>            <script type=\"text/javascript\">                                    window.PLOTLYENV=window.PLOTLYENV || {};                                    if (document.getElementById(\"c880b25e-cc79-4201-8949-96afb60ccc88\")) {                    Plotly.newPlot(                        \"c880b25e-cc79-4201-8949-96afb60ccc88\",                        [{\"marker\":{\"color\":\"rgb(31, 119, 180)\",\"size\":10},\"mode\":\"markers\",\"name\":\"Cluster 0\",\"x\":[1,2,24,28,29,34,35,36,40,42,44,50,51,56,315,316,340,361,362,363,365],\"y\":[-13.375,-6.1499999999999995,-3.75,-3.1125000000000003,-6.625,-4.291666666666667,-9.583333333333334,-9.041666666666666,-1.9124999999999999,-5.875,-5.791666666666667,-5.083333333333333,-6.625,-2.8333333333333335,-2.5416666666666665,-4.25,-4.541666666666667,-3.2916666666666665,-6.625,-5.483333333333333,-6.75],\"type\":\"scatter\"},{\"marker\":{\"color\":\"rgb(255, 127, 14)\",\"size\":10},\"mode\":\"markers\",\"name\":\"Cluster 1\",\"x\":[3,4,5,6,7,8,9,10,11,12,13,14,15,16,17,18,19,20,21,22,23,25,26,27,30,31,32,37,38,39,41,43,45,46,47,48,49,52,53,54,55,57,58,59,60,64,65,66,67,69,70,71,72,75,77,78,79,85,86,87,88,90,91,93,96,97,99,103,104,108,110,111,114,123,138,139,271,300,304,305,307,308,309,310,311,312,313,314,317,318,319,320,321,322,323,324,325,326,327,328,329,330,331,332,333,334,335,336,337,338,339,341,342,343,344,345,346,347,348,349,350,351,352,353,354,355,356,357,358,359,360,364],\"y\":[0.19999999999999996,4.879166666666667,5.429166666666667,4.404166666666667,5.133333333333333,0.7000000000000001,0.8458333333333333,4.75,0.6416666666666667,0.6541666666666667,-0.5875,-0.2625,0.9041666666666667,2.0833333333333335,4.666666666666667,0.7708333333333334,0.9833333333333334,5.154166666666667,2.1708333333333334,-1.5416666666666667,0.0958333333333334,-3.6374999999999997,1.3416666666666668,5.225,-2.3625000000000003,2.0708333333333333,5.887499999999999,-1.1458333333333333,-1.9583333333333333,-0.40833333333333327,-4.833333333333333,-1.0833333333333333,-1.1958333333333335,0.8125000000000001,1.3125,0.7958333333333333,-2.375,-0.4666666666666666,5.599999999999999,2.0833333333333335,1.0708333333333333,-3.1625,3.566666666666667,5.583333333333333,2.9375,0.30833333333333335,1.3166666666666667,1.3083333333333333,4.916666666666667,3.545833333333333,1.8041666666666665,3.858333333333334,4.483333333333333,4.075,3.1666666666666665,1.8375000000000001,2.966666666666667,2.591666666666667,1.8500000000000003,1.8708333333333336,0.65,4.283333333333333,2.5708333333333333,3.725,-0.22083333333333335,2.1625,4.379166666666666,2.341666666666667,5.108333333333333,5.470833333333334,4.7250000000000005,1.1166666666666665,1.5958333333333332,5.541666666666667,1.1083333333333332,1.3208333333333333,6.429166666666667,5.870833333333334,5.166666666666667,5.070833333333333,5.395833333333333,4.145833333333333,5.1875,3.529166666666667,0.31250000000000006,-0.45416666666666666,-1.6541666666666666,4.304166666666666,-0.7625000000000001,4.554166666666666,6.5874999999999995,3.441666666666667,-1.6125,-1.7583333333333335,0.8666666666666667,2.2291666666666665,3.558333333333333,3.7916666666666665,4.504166666666666,2.4625,0.9416666666666668,-0.10416666666666659,3.683333333333333,6.416666666666667,3.1625,0.22916666666666666,-0.375,-0.9583333333333334,-2.0416666666666665,-0.625,-1.7291666666666667,-2.2541666666666664,-0.4625000000000001,-0.08333333333333333,0.85,3.6166666666666667,2.1125000000000003,-0.029166666666666674,1.6708333333333334,3.7083333333333335,4.270833333333333,3.5041666666666664,3.920833333333333,3.658333333333333,0.425,3.9666666666666663,0.5958333333333333,-0.7708333333333334,1.2916666666666667,-0.1708333333333333,-1.1916666666666667,2.6833333333333336],\"type\":\"scatter\"},{\"marker\":{\"color\":\"rgb(44, 160, 44)\",\"size\":10},\"mode\":\"markers\",\"name\":\"Cluster 2\",\"x\":[33,61,62,63,68,73,74,76,80,81,82,83,84,89,92,94,95,98,100,101,102,105,106,107,109,112,113,115,116,117,118,119,120,121,122,124,125,127,128,129,130,131,132,134,135,136,137,140,141,142,143,144,145,146,147,148,149,150,151,152,153,174,175,176,181,209,210,248,249,250,264,268,269,270,272,273,274,275,276,277,278,279,280,281,282,283,284,285,286,287,288,289,290,291,292,293,294,295,296,297,298,299,301,302,303,306],\"y\":[6.670833333333334,8.833333333333334,9.012500000000001,6.4375,7.854166666666667,8.166666666666666,6.125,6.133333333333333,6.045833333333334,9.433333333333332,9.654166666666667,7.7250000000000005,6.358333333333334,6.104166666666667,10.008333333333333,6.116666666666667,9.154166666666667,8.995833333333334,10.4625,14.129166666666668,10.995833333333332,7.895833333333333,9.658333333333333,9.058333333333334,7.4375,8.191666666666666,10.183333333333334,7.708333333333333,7.466666666666668,11.891666666666666,11.799999999999999,16.070833333333333,11.179166666666667,8.237499999999999,6.462500000000001,11.262500000000001,14.345833333333331,14.950000000000001,11.933333333333332,11.879166666666668,9.004166666666668,10.766666666666666,14.5,15.008333333333335,15.091666666666667,11.620833333333332,10.554166666666667,6.804166666666667,8.829166666666667,8.566666666666666,7.979166666666667,14.975,13.991666666666665,10.604166666666666,8.345833333333333,10.429166666666667,11.75,14.35,15.745833333333332,15.970833333333333,15.166666666666666,12.725,15.729166666666666,15.608333333333334,14.775,17.291666666666668,17.541666666666668,15.183333333333332,15.566666666666668,15.5375,14.883333333333333,10.695833333333333,11.5,14.591666666666669,14.674999999999999,8.758333333333335,7.933333333333334,9.329166666666666,6.395833333333333,11.104166666666666,13.295833333333334,14.366666666666667,15.170833333333333,13.604166666666666,10.258333333333333,9.429166666666665,10.983333333333333,7.7749999999999995,6.183333333333334,10.475,11.462499999999999,13.170833333333334,8.654166666666667,9.725,12.612499999999999,12.029166666666669,12.695833333333335,11.429166666666665,11.258333333333335,14.291666666666666,12.825000000000001,14.487499999999999,5.766666666666666,8.645833333333334,7.920833333333333,8.883333333333335],\"type\":\"scatter\"},{\"marker\":{\"color\":\"rgb(214, 39, 40)\",\"size\":10},\"mode\":\"markers\",\"name\":\"Cluster 3\",\"x\":[126,133,154,155,156,157,158,159,160,161,162,163,164,165,166,167,168,169,170,171,172,173,177,178,179,180,182,183,184,185,186,187,188,189,190,191,192,193,194,195,196,197,198,199,200,201,202,203,204,205,206,207,208,211,212,213,214,215,216,217,218,219,220,221,222,223,224,225,226,227,228,229,230,231,232,233,234,235,236,237,238,239,240,241,242,243,244,245,246,247,251,252,253,254,255,256,257,258,259,260,261,262,263,265,266,267],\"y\":[16.620833333333334,17.27916666666667,16.633333333333333,17.633333333333333,17.2625,17.420833333333334,18.462500000000002,18.650000000000002,23.025000000000002,23.229166666666668,18.59166666666667,20.625,17.099999999999998,19.429166666666664,19.916666666666668,22.337500000000002,18.883333333333333,19.641666666666666,20.8125,24.03333333333333,26.4375,22.5125,20.570833333333333,23.508333333333336,21.47083333333333,18.97083333333333,18.900000000000002,20.433333333333334,20.754166666666666,22.962499999999995,23.075,23.85833333333333,22.241666666666664,24.258333333333336,25.458333333333332,23.1375,24.645833333333332,22.316666666666663,21.179166666666667,20.491666666666667,20.404166666666665,20.704166666666666,22.620833333333334,23.358333333333334,21.662499999999998,21.358333333333334,21.441666666666666,24.679166666666664,23.329166666666666,22.400000000000002,18.904166666666665,19.991666666666667,18.333333333333332,20.808333333333334,22.17083333333333,21.55,22.458333333333332,24.75,23.787499999999998,22.658333333333335,24.100000000000005,22.77916666666667,20.875,23.587500000000002,21.941666666666666,20.650000000000002,22.049999999999997,21.5625,21.683333333333334,23.85833333333333,20.287499999999998,21.175,19.3875,23.641666666666666,24.791666666666668,20.091666666666665,20.770833333333332,20.7375,19.7,25.145833333333332,19.55,17.304166666666667,20.941666666666666,21.537500000000005,19.620833333333334,21.24166666666667,18.979166666666668,18.054166666666664,19.020833333333332,18.349999999999998,17.120833333333334,20.070833333333333,20.0875,19.71666666666667,21.4375,22.391666666666666,21.845833333333335,21.204166666666666,21.941666666666666,21.78333333333333,20.941666666666666,18.991666666666667,19.116666666666667,17.966666666666665,18.408333333333335,17.3875],\"type\":\"scatter\"}],                        {\"template\":{\"data\":{\"histogram2dcontour\":[{\"type\":\"histogram2dcontour\",\"colorbar\":{\"outlinewidth\":0,\"ticks\":\"\"},\"colorscale\":[[0.0,\"#0d0887\"],[0.1111111111111111,\"#46039f\"],[0.2222222222222222,\"#7201a8\"],[0.3333333333333333,\"#9c179e\"],[0.4444444444444444,\"#bd3786\"],[0.5555555555555556,\"#d8576b\"],[0.6666666666666666,\"#ed7953\"],[0.7777777777777778,\"#fb9f3a\"],[0.8888888888888888,\"#fdca26\"],[1.0,\"#f0f921\"]]}],\"choropleth\":[{\"type\":\"choropleth\",\"colorbar\":{\"outlinewidth\":0,\"ticks\":\"\"}}],\"histogram2d\":[{\"type\":\"histogram2d\",\"colorbar\":{\"outlinewidth\":0,\"ticks\":\"\"},\"colorscale\":[[0.0,\"#0d0887\"],[0.1111111111111111,\"#46039f\"],[0.2222222222222222,\"#7201a8\"],[0.3333333333333333,\"#9c179e\"],[0.4444444444444444,\"#bd3786\"],[0.5555555555555556,\"#d8576b\"],[0.6666666666666666,\"#ed7953\"],[0.7777777777777778,\"#fb9f3a\"],[0.8888888888888888,\"#fdca26\"],[1.0,\"#f0f921\"]]}],\"heatmap\":[{\"type\":\"heatmap\",\"colorbar\":{\"outlinewidth\":0,\"ticks\":\"\"},\"colorscale\":[[0.0,\"#0d0887\"],[0.1111111111111111,\"#46039f\"],[0.2222222222222222,\"#7201a8\"],[0.3333333333333333,\"#9c179e\"],[0.4444444444444444,\"#bd3786\"],[0.5555555555555556,\"#d8576b\"],[0.6666666666666666,\"#ed7953\"],[0.7777777777777778,\"#fb9f3a\"],[0.8888888888888888,\"#fdca26\"],[1.0,\"#f0f921\"]]}],\"heatmapgl\":[{\"type\":\"heatmapgl\",\"colorbar\":{\"outlinewidth\":0,\"ticks\":\"\"},\"colorscale\":[[0.0,\"#0d0887\"],[0.1111111111111111,\"#46039f\"],[0.2222222222222222,\"#7201a8\"],[0.3333333333333333,\"#9c179e\"],[0.4444444444444444,\"#bd3786\"],[0.5555555555555556,\"#d8576b\"],[0.6666666666666666,\"#ed7953\"],[0.7777777777777778,\"#fb9f3a\"],[0.8888888888888888,\"#fdca26\"],[1.0,\"#f0f921\"]]}],\"contourcarpet\":[{\"type\":\"contourcarpet\",\"colorbar\":{\"outlinewidth\":0,\"ticks\":\"\"}}],\"contour\":[{\"type\":\"contour\",\"colorbar\":{\"outlinewidth\":0,\"ticks\":\"\"},\"colorscale\":[[0.0,\"#0d0887\"],[0.1111111111111111,\"#46039f\"],[0.2222222222222222,\"#7201a8\"],[0.3333333333333333,\"#9c179e\"],[0.4444444444444444,\"#bd3786\"],[0.5555555555555556,\"#d8576b\"],[0.6666666666666666,\"#ed7953\"],[0.7777777777777778,\"#fb9f3a\"],[0.8888888888888888,\"#fdca26\"],[1.0,\"#f0f921\"]]}],\"surface\":[{\"type\":\"surface\",\"colorbar\":{\"outlinewidth\":0,\"ticks\":\"\"},\"colorscale\":[[0.0,\"#0d0887\"],[0.1111111111111111,\"#46039f\"],[0.2222222222222222,\"#7201a8\"],[0.3333333333333333,\"#9c179e\"],[0.4444444444444444,\"#bd3786\"],[0.5555555555555556,\"#d8576b\"],[0.6666666666666666,\"#ed7953\"],[0.7777777777777778,\"#fb9f3a\"],[0.8888888888888888,\"#fdca26\"],[1.0,\"#f0f921\"]]}],\"mesh3d\":[{\"type\":\"mesh3d\",\"colorbar\":{\"outlinewidth\":0,\"ticks\":\"\"}}],\"scatter\":[{\"fillpattern\":{\"fillmode\":\"overlay\",\"size\":10,\"solidity\":0.2},\"type\":\"scatter\"}],\"parcoords\":[{\"type\":\"parcoords\",\"line\":{\"colorbar\":{\"outlinewidth\":0,\"ticks\":\"\"}}}],\"scatterpolargl\":[{\"type\":\"scatterpolargl\",\"marker\":{\"colorbar\":{\"outlinewidth\":0,\"ticks\":\"\"}}}],\"bar\":[{\"error_x\":{\"color\":\"#2a3f5f\"},\"error_y\":{\"color\":\"#2a3f5f\"},\"marker\":{\"line\":{\"color\":\"#E5ECF6\",\"width\":0.5},\"pattern\":{\"fillmode\":\"overlay\",\"size\":10,\"solidity\":0.2}},\"type\":\"bar\"}],\"scattergeo\":[{\"type\":\"scattergeo\",\"marker\":{\"colorbar\":{\"outlinewidth\":0,\"ticks\":\"\"}}}],\"scatterpolar\":[{\"type\":\"scatterpolar\",\"marker\":{\"colorbar\":{\"outlinewidth\":0,\"ticks\":\"\"}}}],\"histogram\":[{\"marker\":{\"pattern\":{\"fillmode\":\"overlay\",\"size\":10,\"solidity\":0.2}},\"type\":\"histogram\"}],\"scattergl\":[{\"type\":\"scattergl\",\"marker\":{\"colorbar\":{\"outlinewidth\":0,\"ticks\":\"\"}}}],\"scatter3d\":[{\"type\":\"scatter3d\",\"line\":{\"colorbar\":{\"outlinewidth\":0,\"ticks\":\"\"}},\"marker\":{\"colorbar\":{\"outlinewidth\":0,\"ticks\":\"\"}}}],\"scattermapbox\":[{\"type\":\"scattermapbox\",\"marker\":{\"colorbar\":{\"outlinewidth\":0,\"ticks\":\"\"}}}],\"scatterternary\":[{\"type\":\"scatterternary\",\"marker\":{\"colorbar\":{\"outlinewidth\":0,\"ticks\":\"\"}}}],\"scattercarpet\":[{\"type\":\"scattercarpet\",\"marker\":{\"colorbar\":{\"outlinewidth\":0,\"ticks\":\"\"}}}],\"carpet\":[{\"aaxis\":{\"endlinecolor\":\"#2a3f5f\",\"gridcolor\":\"white\",\"linecolor\":\"white\",\"minorgridcolor\":\"white\",\"startlinecolor\":\"#2a3f5f\"},\"baxis\":{\"endlinecolor\":\"#2a3f5f\",\"gridcolor\":\"white\",\"linecolor\":\"white\",\"minorgridcolor\":\"white\",\"startlinecolor\":\"#2a3f5f\"},\"type\":\"carpet\"}],\"table\":[{\"cells\":{\"fill\":{\"color\":\"#EBF0F8\"},\"line\":{\"color\":\"white\"}},\"header\":{\"fill\":{\"color\":\"#C8D4E3\"},\"line\":{\"color\":\"white\"}},\"type\":\"table\"}],\"barpolar\":[{\"marker\":{\"line\":{\"color\":\"#E5ECF6\",\"width\":0.5},\"pattern\":{\"fillmode\":\"overlay\",\"size\":10,\"solidity\":0.2}},\"type\":\"barpolar\"}],\"pie\":[{\"automargin\":true,\"type\":\"pie\"}]},\"layout\":{\"autotypenumbers\":\"strict\",\"colorway\":[\"#636efa\",\"#EF553B\",\"#00cc96\",\"#ab63fa\",\"#FFA15A\",\"#19d3f3\",\"#FF6692\",\"#B6E880\",\"#FF97FF\",\"#FECB52\"],\"font\":{\"color\":\"#2a3f5f\"},\"hovermode\":\"closest\",\"hoverlabel\":{\"align\":\"left\"},\"paper_bgcolor\":\"white\",\"plot_bgcolor\":\"#E5ECF6\",\"polar\":{\"bgcolor\":\"#E5ECF6\",\"angularaxis\":{\"gridcolor\":\"white\",\"linecolor\":\"white\",\"ticks\":\"\"},\"radialaxis\":{\"gridcolor\":\"white\",\"linecolor\":\"white\",\"ticks\":\"\"}},\"ternary\":{\"bgcolor\":\"#E5ECF6\",\"aaxis\":{\"gridcolor\":\"white\",\"linecolor\":\"white\",\"ticks\":\"\"},\"baxis\":{\"gridcolor\":\"white\",\"linecolor\":\"white\",\"ticks\":\"\"},\"caxis\":{\"gridcolor\":\"white\",\"linecolor\":\"white\",\"ticks\":\"\"}},\"coloraxis\":{\"colorbar\":{\"outlinewidth\":0,\"ticks\":\"\"}},\"colorscale\":{\"sequential\":[[0.0,\"#0d0887\"],[0.1111111111111111,\"#46039f\"],[0.2222222222222222,\"#7201a8\"],[0.3333333333333333,\"#9c179e\"],[0.4444444444444444,\"#bd3786\"],[0.5555555555555556,\"#d8576b\"],[0.6666666666666666,\"#ed7953\"],[0.7777777777777778,\"#fb9f3a\"],[0.8888888888888888,\"#fdca26\"],[1.0,\"#f0f921\"]],\"sequentialminus\":[[0.0,\"#0d0887\"],[0.1111111111111111,\"#46039f\"],[0.2222222222222222,\"#7201a8\"],[0.3333333333333333,\"#9c179e\"],[0.4444444444444444,\"#bd3786\"],[0.5555555555555556,\"#d8576b\"],[0.6666666666666666,\"#ed7953\"],[0.7777777777777778,\"#fb9f3a\"],[0.8888888888888888,\"#fdca26\"],[1.0,\"#f0f921\"]],\"diverging\":[[0,\"#8e0152\"],[0.1,\"#c51b7d\"],[0.2,\"#de77ae\"],[0.3,\"#f1b6da\"],[0.4,\"#fde0ef\"],[0.5,\"#f7f7f7\"],[0.6,\"#e6f5d0\"],[0.7,\"#b8e186\"],[0.8,\"#7fbc41\"],[0.9,\"#4d9221\"],[1,\"#276419\"]]},\"xaxis\":{\"gridcolor\":\"white\",\"linecolor\":\"white\",\"ticks\":\"\",\"title\":{\"standoff\":15},\"zerolinecolor\":\"white\",\"automargin\":true,\"zerolinewidth\":2},\"yaxis\":{\"gridcolor\":\"white\",\"linecolor\":\"white\",\"ticks\":\"\",\"title\":{\"standoff\":15},\"zerolinecolor\":\"white\",\"automargin\":true,\"zerolinewidth\":2},\"scene\":{\"xaxis\":{\"backgroundcolor\":\"#E5ECF6\",\"gridcolor\":\"white\",\"linecolor\":\"white\",\"showbackground\":true,\"ticks\":\"\",\"zerolinecolor\":\"white\",\"gridwidth\":2},\"yaxis\":{\"backgroundcolor\":\"#E5ECF6\",\"gridcolor\":\"white\",\"linecolor\":\"white\",\"showbackground\":true,\"ticks\":\"\",\"zerolinecolor\":\"white\",\"gridwidth\":2},\"zaxis\":{\"backgroundcolor\":\"#E5ECF6\",\"gridcolor\":\"white\",\"linecolor\":\"white\",\"showbackground\":true,\"ticks\":\"\",\"zerolinecolor\":\"white\",\"gridwidth\":2}},\"shapedefaults\":{\"line\":{\"color\":\"#2a3f5f\"}},\"annotationdefaults\":{\"arrowcolor\":\"#2a3f5f\",\"arrowhead\":0,\"arrowwidth\":1},\"geo\":{\"bgcolor\":\"white\",\"landcolor\":\"#E5ECF6\",\"subunitcolor\":\"white\",\"showland\":true,\"showlakes\":true,\"lakecolor\":\"white\"},\"title\":{\"x\":0.05},\"mapbox\":{\"style\":\"light\"}}},\"title\":{\"text\":\"Daily average temperature across the year segregated by cluster\",\"x\":0.5,\"y\":0.95},\"xaxis\":{\"title\":{\"text\":\"Day of the year\"}},\"yaxis\":{\"title\":{\"text\":\"Temperature (C)\"}},\"margin\":{\"l\":50,\"r\":50,\"b\":50,\"t\":75},\"autosize\":false,\"width\":1000,\"height\":400},                        {\"responsive\": true}                    ).then(function(){\n",
              "                            \n",
              "var gd = document.getElementById('c880b25e-cc79-4201-8949-96afb60ccc88');\n",
              "var x = new MutationObserver(function (mutations, observer) {{\n",
              "        var display = window.getComputedStyle(gd).display;\n",
              "        if (!display || display === 'none') {{\n",
              "            console.log([gd, 'removed!']);\n",
              "            Plotly.purge(gd);\n",
              "            observer.disconnect();\n",
              "        }}\n",
              "}});\n",
              "\n",
              "// Listen for the removal of the full notebook cells\n",
              "var notebookContainer = gd.closest('#notebook-container');\n",
              "if (notebookContainer) {{\n",
              "    x.observe(notebookContainer, {childList: true});\n",
              "}}\n",
              "\n",
              "// Listen for the clearing of the current output cell\n",
              "var outputEl = gd.closest('.output');\n",
              "if (outputEl) {{\n",
              "    x.observe(outputEl, {childList: true});\n",
              "}}\n",
              "\n",
              "                        })                };                            </script>        </div>\n",
              "</body>\n",
              "</html>"
            ]
          },
          "metadata": {}
        }
      ]
    },
    {
      "cell_type": "markdown",
      "source": [
        "The plot above indicates that there is indeed a difference in between how each of the two methods clusters different data points. In order to visualize the differences, the same plot is made showing data points showing differences in between cluster assigned."
      ],
      "metadata": {
        "id": "iQOsGQhy9s02"
      }
    },
    {
      "cell_type": "code",
      "source": [
        "# First both clusters need to be set in the same order.\n",
        "df_pivoted[\"HClustNew\"] = df_pivoted[\"HCluster\"]\n",
        "df_pivoted.HClustNew.mask(df_pivoted.HCluster==0,other=3,inplace=True)\n",
        "df_pivoted.HClustNew.mask(df_pivoted.HCluster==3,other=0,inplace=True)\n",
        "df_pivoted = df_pivoted.drop(columns={\"HCluster\"})\n",
        "#Plot differences"
      ],
      "metadata": {
        "id": "pX8XJZnE_oI9"
      },
      "execution_count": null,
      "outputs": []
    },
    {
      "cell_type": "code",
      "source": [
        "fig = go.Figure()\n",
        "df_same = df_pivoted[df_pivoted['HClustNew'] == df_pivoted['KCluster']]\n",
        "colors = ['rgb(31, 119, 180)', 'rgb(255, 127, 14)', 'rgb(44, 160, 44)', 'rgb(214, 39, 40)']\n",
        "for class_label in {0,1,2,3}:\n",
        "    df_class = df_same[df_same['HClustNew'] == class_label]\n",
        "    fig.add_trace(go.Scatter(x=df_class.index, y=df_class['DailyAvgTemp'],\n",
        "                             mode='markers',\n",
        "                             marker=dict(size=10,color=colors[class_label],symbol=\"circle\"),\n",
        "                             name=f'Same Cluster: {class_label}'))\n",
        "\n",
        "df_diff = df_pivoted[df_pivoted['HClustNew'] != df_pivoted['KCluster']]\n",
        "fig.add_trace(go.Scatter(x=df_diff.index, y=df_diff['DailyAvgTemp'],\n",
        "                             mode='markers',\n",
        "                             marker=dict(size=10,symbol=\"star\",color=\"black\"),\n",
        "                             name=f'Different clusters'))\n",
        "\n",
        "fig.update_layout(title='Difference in cluster assigned to each day by K-means and Hierarchical clustering', xaxis_title='Day of the year', yaxis_title='Daily Average Temperature (C)')\n",
        "\n",
        "fig.update_layout(\n",
        "    margin=dict(l=50, r=50, b=50, t=75),  # Adjust margins to make the plot tighter\n",
        "    autosize=False,  # Disable autosizing\n",
        "    width=1000,       # Set the width of the plot\n",
        "    height=400,       # Set the height of the plot\n",
        "    title_x=0.5,\n",
        "    title_y=0.95\n",
        ")\n",
        "fig.show()"
      ],
      "metadata": {
        "colab": {
          "base_uri": "https://localhost:8080/",
          "height": 417
        },
        "id": "7LK4IcEg-Ffa",
        "outputId": "73484ff3-44ea-4e95-b8a2-cdaf57f9fcfd"
      },
      "execution_count": null,
      "outputs": [
        {
          "output_type": "display_data",
          "data": {
            "text/html": [
              "<html>\n",
              "<head><meta charset=\"utf-8\" /></head>\n",
              "<body>\n",
              "    <div>            <script src=\"https://cdnjs.cloudflare.com/ajax/libs/mathjax/2.7.5/MathJax.js?config=TeX-AMS-MML_SVG\"></script><script type=\"text/javascript\">if (window.MathJax && window.MathJax.Hub && window.MathJax.Hub.Config) {window.MathJax.Hub.Config({SVG: {font: \"STIX-Web\"}});}</script>                <script type=\"text/javascript\">window.PlotlyConfig = {MathJaxConfig: 'local'};</script>\n",
              "        <script charset=\"utf-8\" src=\"https://cdn.plot.ly/plotly-2.24.1.min.js\"></script>                <div id=\"966589cd-11df-444c-b3ac-ea8d9be46b9c\" class=\"plotly-graph-div\" style=\"height:400px; width:1000px;\"></div>            <script type=\"text/javascript\">                                    window.PLOTLYENV=window.PLOTLYENV || {};                                    if (document.getElementById(\"966589cd-11df-444c-b3ac-ea8d9be46b9c\")) {                    Plotly.newPlot(                        \"966589cd-11df-444c-b3ac-ea8d9be46b9c\",                        [{\"marker\":{\"color\":\"rgb(31, 119, 180)\",\"size\":10,\"symbol\":\"circle\"},\"mode\":\"markers\",\"name\":\"Same Cluster: 0\",\"x\":[133,155,156,157,158,159,160,161,162,163,164,165,166,167,168,169,170,171,172,173,177,178,179,180,182,183,184,185,186,187,188,189,190,191,192,193,194,195,196,197,198,199,200,201,202,203,204,205,206,207,208,211,212,213,214,215,216,217,218,219,220,221,222,223,224,225,226,227,228,229,230,231,232,233,234,235,236,237,238,239,240,241,242,243,244,245,246,247,251,252,253,254,255,256,257,258,259,260,261,262,263,265,266,267],\"y\":[17.27916666666667,17.633333333333333,17.2625,17.420833333333334,18.462500000000002,18.650000000000002,23.025000000000002,23.229166666666668,18.59166666666667,20.625,17.099999999999998,19.429166666666664,19.916666666666668,22.337500000000002,18.883333333333333,19.641666666666666,20.8125,24.03333333333333,26.4375,22.5125,20.570833333333333,23.508333333333336,21.47083333333333,18.97083333333333,18.900000000000002,20.433333333333334,20.754166666666666,22.962499999999995,23.075,23.85833333333333,22.241666666666664,24.258333333333336,25.458333333333332,23.1375,24.645833333333332,22.316666666666663,21.179166666666667,20.491666666666667,20.404166666666665,20.704166666666666,22.620833333333334,23.358333333333334,21.662499999999998,21.358333333333334,21.441666666666666,24.679166666666664,23.329166666666666,22.400000000000002,18.904166666666665,19.991666666666667,18.333333333333332,20.808333333333334,22.17083333333333,21.55,22.458333333333332,24.75,23.787499999999998,22.658333333333335,24.100000000000005,22.77916666666667,20.875,23.587500000000002,21.941666666666666,20.650000000000002,22.049999999999997,21.5625,21.683333333333334,23.85833333333333,20.287499999999998,21.175,19.3875,23.641666666666666,24.791666666666668,20.091666666666665,20.770833333333332,20.7375,19.7,25.145833333333332,19.55,17.304166666666667,20.941666666666666,21.537500000000005,19.620833333333334,21.24166666666667,18.979166666666668,18.054166666666664,19.020833333333332,18.349999999999998,17.120833333333334,20.070833333333333,20.0875,19.71666666666667,21.4375,22.391666666666666,21.845833333333335,21.204166666666666,21.941666666666666,21.78333333333333,20.941666666666666,18.991666666666667,19.116666666666667,17.966666666666665,18.408333333333335,17.3875],\"type\":\"scatter\"},{\"marker\":{\"color\":\"rgb(255, 127, 14)\",\"size\":10,\"symbol\":\"circle\"},\"mode\":\"markers\",\"name\":\"Same Cluster: 1\",\"x\":[4,5,6,7,10,17,20,21,27,32,53,58,59,60,67,69,71,72,75,77,79,85,90,91,93,97,99,104,108,110,123,271,300,304,305,307,308,309,310,314,318,319,320,324,325,326,327,331,332,333,345,349,350,351,352,353,355,364],\"y\":[4.879166666666667,5.429166666666667,4.404166666666667,5.133333333333333,4.75,4.666666666666667,5.154166666666667,2.1708333333333334,5.225,5.887499999999999,5.599999999999999,3.566666666666667,5.583333333333333,2.9375,4.916666666666667,3.545833333333333,3.858333333333334,4.483333333333333,4.075,3.1666666666666665,2.966666666666667,2.591666666666667,4.283333333333333,2.5708333333333333,3.725,2.1625,4.379166666666666,5.108333333333333,5.470833333333334,4.7250000000000005,5.541666666666667,6.429166666666667,5.870833333333334,5.166666666666667,5.070833333333333,5.395833333333333,4.145833333333333,5.1875,3.529166666666667,4.304166666666666,4.554166666666666,6.5874999999999995,3.441666666666667,2.2291666666666665,3.558333333333333,3.7916666666666665,4.504166666666666,3.683333333333333,6.416666666666667,3.1625,3.6166666666666667,3.7083333333333335,4.270833333333333,3.5041666666666664,3.920833333333333,3.658333333333333,3.9666666666666663,2.6833333333333336],\"type\":\"scatter\"},{\"marker\":{\"color\":\"rgb(44, 160, 44)\",\"size\":10,\"symbol\":\"circle\"},\"mode\":\"markers\",\"name\":\"Same Cluster: 2\",\"x\":[81,92,95,100,101,102,106,113,117,118,119,120,124,125,127,128,129,131,132,134,135,136,137,144,145,146,148,149,150,151,152,153,174,175,176,181,248,249,250,264,268,269,270,272,275,277,278,279,280,281,284,287,288,289,291,292,293,294,295,296,297,298,299,302],\"y\":[9.433333333333332,10.008333333333333,9.154166666666667,10.4625,14.129166666666668,10.995833333333332,9.658333333333333,10.183333333333334,11.891666666666666,11.799999999999999,16.070833333333333,11.179166666666667,11.262500000000001,14.345833333333331,14.950000000000001,11.933333333333332,11.879166666666668,10.766666666666666,14.5,15.008333333333335,15.091666666666667,11.620833333333332,10.554166666666667,14.975,13.991666666666665,10.604166666666666,10.429166666666667,11.75,14.35,15.745833333333332,15.970833333333333,15.166666666666666,12.725,15.729166666666666,15.608333333333334,14.775,15.183333333333332,15.566666666666668,15.5375,14.883333333333333,10.695833333333333,11.5,14.591666666666669,14.674999999999999,9.329166666666666,11.104166666666666,13.295833333333334,14.366666666666667,15.170833333333333,13.604166666666666,10.983333333333333,10.475,11.462499999999999,13.170833333333334,9.725,12.612499999999999,12.029166666666669,12.695833333333335,11.429166666666665,11.258333333333335,14.291666666666666,12.825000000000001,14.487499999999999,8.645833333333334],\"type\":\"scatter\"},{\"marker\":{\"color\":\"rgb(214, 39, 40)\",\"size\":10,\"symbol\":\"circle\"},\"mode\":\"markers\",\"name\":\"Same Cluster: 3\",\"x\":[1,2,24,28,29,34,35,36,40,42,44,50,51,56,315,316,340,361,362,363,365],\"y\":[-13.375,-6.1499999999999995,-3.75,-3.1125000000000003,-6.625,-4.291666666666667,-9.583333333333334,-9.041666666666666,-1.9124999999999999,-5.875,-5.791666666666667,-5.083333333333333,-6.625,-2.8333333333333335,-2.5416666666666665,-4.25,-4.541666666666667,-3.2916666666666665,-6.625,-5.483333333333333,-6.75],\"type\":\"scatter\"},{\"marker\":{\"color\":\"black\",\"size\":10,\"symbol\":\"star\"},\"mode\":\"markers\",\"name\":\"Different clusters\",\"x\":[3,8,9,11,12,13,14,15,16,18,19,22,23,25,26,30,31,33,37,38,39,41,43,45,46,47,48,49,52,54,55,57,61,62,63,64,65,66,68,70,73,74,76,78,80,82,83,84,86,87,88,89,94,96,98,103,105,107,109,111,112,114,115,116,121,122,126,130,138,139,140,141,142,143,147,154,209,210,273,274,276,282,283,285,286,290,301,303,306,311,312,313,317,321,322,323,328,329,330,334,335,336,337,338,339,341,342,343,344,346,347,348,354,356,357,358,359,360],\"y\":[0.19999999999999996,0.7000000000000001,0.8458333333333333,0.6416666666666667,0.6541666666666667,-0.5875,-0.2625,0.9041666666666667,2.0833333333333335,0.7708333333333334,0.9833333333333334,-1.5416666666666667,0.0958333333333334,-3.6374999999999997,1.3416666666666668,-2.3625000000000003,2.0708333333333333,6.670833333333334,-1.1458333333333333,-1.9583333333333333,-0.40833333333333327,-4.833333333333333,-1.0833333333333333,-1.1958333333333335,0.8125000000000001,1.3125,0.7958333333333333,-2.375,-0.4666666666666666,2.0833333333333335,1.0708333333333333,-3.1625,8.833333333333334,9.012500000000001,6.4375,0.30833333333333335,1.3166666666666667,1.3083333333333333,7.854166666666667,1.8041666666666665,8.166666666666666,6.125,6.133333333333333,1.8375000000000001,6.045833333333334,9.654166666666667,7.7250000000000005,6.358333333333334,1.8500000000000003,1.8708333333333336,0.65,6.104166666666667,6.116666666666667,-0.22083333333333335,8.995833333333334,2.341666666666667,7.895833333333333,9.058333333333334,7.4375,1.1166666666666665,8.191666666666666,1.5958333333333332,7.708333333333333,7.466666666666668,8.237499999999999,6.462500000000001,16.620833333333334,9.004166666666668,1.1083333333333332,1.3208333333333333,6.804166666666667,8.829166666666667,8.566666666666666,7.979166666666667,8.345833333333333,16.633333333333333,17.291666666666668,17.541666666666668,8.758333333333335,7.933333333333334,6.395833333333333,10.258333333333333,9.429166666666665,7.7749999999999995,6.183333333333334,8.654166666666667,5.766666666666666,7.920833333333333,8.883333333333335,0.31250000000000006,-0.45416666666666666,-1.6541666666666666,-0.7625000000000001,-1.6125,-1.7583333333333335,0.8666666666666667,2.4625,0.9416666666666668,-0.10416666666666659,0.22916666666666666,-0.375,-0.9583333333333334,-2.0416666666666665,-0.625,-1.7291666666666667,-2.2541666666666664,-0.4625000000000001,-0.08333333333333333,0.85,2.1125000000000003,-0.029166666666666674,1.6708333333333334,0.425,0.5958333333333333,-0.7708333333333334,1.2916666666666667,-0.1708333333333333,-1.1916666666666667],\"type\":\"scatter\"}],                        {\"template\":{\"data\":{\"histogram2dcontour\":[{\"type\":\"histogram2dcontour\",\"colorbar\":{\"outlinewidth\":0,\"ticks\":\"\"},\"colorscale\":[[0.0,\"#0d0887\"],[0.1111111111111111,\"#46039f\"],[0.2222222222222222,\"#7201a8\"],[0.3333333333333333,\"#9c179e\"],[0.4444444444444444,\"#bd3786\"],[0.5555555555555556,\"#d8576b\"],[0.6666666666666666,\"#ed7953\"],[0.7777777777777778,\"#fb9f3a\"],[0.8888888888888888,\"#fdca26\"],[1.0,\"#f0f921\"]]}],\"choropleth\":[{\"type\":\"choropleth\",\"colorbar\":{\"outlinewidth\":0,\"ticks\":\"\"}}],\"histogram2d\":[{\"type\":\"histogram2d\",\"colorbar\":{\"outlinewidth\":0,\"ticks\":\"\"},\"colorscale\":[[0.0,\"#0d0887\"],[0.1111111111111111,\"#46039f\"],[0.2222222222222222,\"#7201a8\"],[0.3333333333333333,\"#9c179e\"],[0.4444444444444444,\"#bd3786\"],[0.5555555555555556,\"#d8576b\"],[0.6666666666666666,\"#ed7953\"],[0.7777777777777778,\"#fb9f3a\"],[0.8888888888888888,\"#fdca26\"],[1.0,\"#f0f921\"]]}],\"heatmap\":[{\"type\":\"heatmap\",\"colorbar\":{\"outlinewidth\":0,\"ticks\":\"\"},\"colorscale\":[[0.0,\"#0d0887\"],[0.1111111111111111,\"#46039f\"],[0.2222222222222222,\"#7201a8\"],[0.3333333333333333,\"#9c179e\"],[0.4444444444444444,\"#bd3786\"],[0.5555555555555556,\"#d8576b\"],[0.6666666666666666,\"#ed7953\"],[0.7777777777777778,\"#fb9f3a\"],[0.8888888888888888,\"#fdca26\"],[1.0,\"#f0f921\"]]}],\"heatmapgl\":[{\"type\":\"heatmapgl\",\"colorbar\":{\"outlinewidth\":0,\"ticks\":\"\"},\"colorscale\":[[0.0,\"#0d0887\"],[0.1111111111111111,\"#46039f\"],[0.2222222222222222,\"#7201a8\"],[0.3333333333333333,\"#9c179e\"],[0.4444444444444444,\"#bd3786\"],[0.5555555555555556,\"#d8576b\"],[0.6666666666666666,\"#ed7953\"],[0.7777777777777778,\"#fb9f3a\"],[0.8888888888888888,\"#fdca26\"],[1.0,\"#f0f921\"]]}],\"contourcarpet\":[{\"type\":\"contourcarpet\",\"colorbar\":{\"outlinewidth\":0,\"ticks\":\"\"}}],\"contour\":[{\"type\":\"contour\",\"colorbar\":{\"outlinewidth\":0,\"ticks\":\"\"},\"colorscale\":[[0.0,\"#0d0887\"],[0.1111111111111111,\"#46039f\"],[0.2222222222222222,\"#7201a8\"],[0.3333333333333333,\"#9c179e\"],[0.4444444444444444,\"#bd3786\"],[0.5555555555555556,\"#d8576b\"],[0.6666666666666666,\"#ed7953\"],[0.7777777777777778,\"#fb9f3a\"],[0.8888888888888888,\"#fdca26\"],[1.0,\"#f0f921\"]]}],\"surface\":[{\"type\":\"surface\",\"colorbar\":{\"outlinewidth\":0,\"ticks\":\"\"},\"colorscale\":[[0.0,\"#0d0887\"],[0.1111111111111111,\"#46039f\"],[0.2222222222222222,\"#7201a8\"],[0.3333333333333333,\"#9c179e\"],[0.4444444444444444,\"#bd3786\"],[0.5555555555555556,\"#d8576b\"],[0.6666666666666666,\"#ed7953\"],[0.7777777777777778,\"#fb9f3a\"],[0.8888888888888888,\"#fdca26\"],[1.0,\"#f0f921\"]]}],\"mesh3d\":[{\"type\":\"mesh3d\",\"colorbar\":{\"outlinewidth\":0,\"ticks\":\"\"}}],\"scatter\":[{\"fillpattern\":{\"fillmode\":\"overlay\",\"size\":10,\"solidity\":0.2},\"type\":\"scatter\"}],\"parcoords\":[{\"type\":\"parcoords\",\"line\":{\"colorbar\":{\"outlinewidth\":0,\"ticks\":\"\"}}}],\"scatterpolargl\":[{\"type\":\"scatterpolargl\",\"marker\":{\"colorbar\":{\"outlinewidth\":0,\"ticks\":\"\"}}}],\"bar\":[{\"error_x\":{\"color\":\"#2a3f5f\"},\"error_y\":{\"color\":\"#2a3f5f\"},\"marker\":{\"line\":{\"color\":\"#E5ECF6\",\"width\":0.5},\"pattern\":{\"fillmode\":\"overlay\",\"size\":10,\"solidity\":0.2}},\"type\":\"bar\"}],\"scattergeo\":[{\"type\":\"scattergeo\",\"marker\":{\"colorbar\":{\"outlinewidth\":0,\"ticks\":\"\"}}}],\"scatterpolar\":[{\"type\":\"scatterpolar\",\"marker\":{\"colorbar\":{\"outlinewidth\":0,\"ticks\":\"\"}}}],\"histogram\":[{\"marker\":{\"pattern\":{\"fillmode\":\"overlay\",\"size\":10,\"solidity\":0.2}},\"type\":\"histogram\"}],\"scattergl\":[{\"type\":\"scattergl\",\"marker\":{\"colorbar\":{\"outlinewidth\":0,\"ticks\":\"\"}}}],\"scatter3d\":[{\"type\":\"scatter3d\",\"line\":{\"colorbar\":{\"outlinewidth\":0,\"ticks\":\"\"}},\"marker\":{\"colorbar\":{\"outlinewidth\":0,\"ticks\":\"\"}}}],\"scattermapbox\":[{\"type\":\"scattermapbox\",\"marker\":{\"colorbar\":{\"outlinewidth\":0,\"ticks\":\"\"}}}],\"scatterternary\":[{\"type\":\"scatterternary\",\"marker\":{\"colorbar\":{\"outlinewidth\":0,\"ticks\":\"\"}}}],\"scattercarpet\":[{\"type\":\"scattercarpet\",\"marker\":{\"colorbar\":{\"outlinewidth\":0,\"ticks\":\"\"}}}],\"carpet\":[{\"aaxis\":{\"endlinecolor\":\"#2a3f5f\",\"gridcolor\":\"white\",\"linecolor\":\"white\",\"minorgridcolor\":\"white\",\"startlinecolor\":\"#2a3f5f\"},\"baxis\":{\"endlinecolor\":\"#2a3f5f\",\"gridcolor\":\"white\",\"linecolor\":\"white\",\"minorgridcolor\":\"white\",\"startlinecolor\":\"#2a3f5f\"},\"type\":\"carpet\"}],\"table\":[{\"cells\":{\"fill\":{\"color\":\"#EBF0F8\"},\"line\":{\"color\":\"white\"}},\"header\":{\"fill\":{\"color\":\"#C8D4E3\"},\"line\":{\"color\":\"white\"}},\"type\":\"table\"}],\"barpolar\":[{\"marker\":{\"line\":{\"color\":\"#E5ECF6\",\"width\":0.5},\"pattern\":{\"fillmode\":\"overlay\",\"size\":10,\"solidity\":0.2}},\"type\":\"barpolar\"}],\"pie\":[{\"automargin\":true,\"type\":\"pie\"}]},\"layout\":{\"autotypenumbers\":\"strict\",\"colorway\":[\"#636efa\",\"#EF553B\",\"#00cc96\",\"#ab63fa\",\"#FFA15A\",\"#19d3f3\",\"#FF6692\",\"#B6E880\",\"#FF97FF\",\"#FECB52\"],\"font\":{\"color\":\"#2a3f5f\"},\"hovermode\":\"closest\",\"hoverlabel\":{\"align\":\"left\"},\"paper_bgcolor\":\"white\",\"plot_bgcolor\":\"#E5ECF6\",\"polar\":{\"bgcolor\":\"#E5ECF6\",\"angularaxis\":{\"gridcolor\":\"white\",\"linecolor\":\"white\",\"ticks\":\"\"},\"radialaxis\":{\"gridcolor\":\"white\",\"linecolor\":\"white\",\"ticks\":\"\"}},\"ternary\":{\"bgcolor\":\"#E5ECF6\",\"aaxis\":{\"gridcolor\":\"white\",\"linecolor\":\"white\",\"ticks\":\"\"},\"baxis\":{\"gridcolor\":\"white\",\"linecolor\":\"white\",\"ticks\":\"\"},\"caxis\":{\"gridcolor\":\"white\",\"linecolor\":\"white\",\"ticks\":\"\"}},\"coloraxis\":{\"colorbar\":{\"outlinewidth\":0,\"ticks\":\"\"}},\"colorscale\":{\"sequential\":[[0.0,\"#0d0887\"],[0.1111111111111111,\"#46039f\"],[0.2222222222222222,\"#7201a8\"],[0.3333333333333333,\"#9c179e\"],[0.4444444444444444,\"#bd3786\"],[0.5555555555555556,\"#d8576b\"],[0.6666666666666666,\"#ed7953\"],[0.7777777777777778,\"#fb9f3a\"],[0.8888888888888888,\"#fdca26\"],[1.0,\"#f0f921\"]],\"sequentialminus\":[[0.0,\"#0d0887\"],[0.1111111111111111,\"#46039f\"],[0.2222222222222222,\"#7201a8\"],[0.3333333333333333,\"#9c179e\"],[0.4444444444444444,\"#bd3786\"],[0.5555555555555556,\"#d8576b\"],[0.6666666666666666,\"#ed7953\"],[0.7777777777777778,\"#fb9f3a\"],[0.8888888888888888,\"#fdca26\"],[1.0,\"#f0f921\"]],\"diverging\":[[0,\"#8e0152\"],[0.1,\"#c51b7d\"],[0.2,\"#de77ae\"],[0.3,\"#f1b6da\"],[0.4,\"#fde0ef\"],[0.5,\"#f7f7f7\"],[0.6,\"#e6f5d0\"],[0.7,\"#b8e186\"],[0.8,\"#7fbc41\"],[0.9,\"#4d9221\"],[1,\"#276419\"]]},\"xaxis\":{\"gridcolor\":\"white\",\"linecolor\":\"white\",\"ticks\":\"\",\"title\":{\"standoff\":15},\"zerolinecolor\":\"white\",\"automargin\":true,\"zerolinewidth\":2},\"yaxis\":{\"gridcolor\":\"white\",\"linecolor\":\"white\",\"ticks\":\"\",\"title\":{\"standoff\":15},\"zerolinecolor\":\"white\",\"automargin\":true,\"zerolinewidth\":2},\"scene\":{\"xaxis\":{\"backgroundcolor\":\"#E5ECF6\",\"gridcolor\":\"white\",\"linecolor\":\"white\",\"showbackground\":true,\"ticks\":\"\",\"zerolinecolor\":\"white\",\"gridwidth\":2},\"yaxis\":{\"backgroundcolor\":\"#E5ECF6\",\"gridcolor\":\"white\",\"linecolor\":\"white\",\"showbackground\":true,\"ticks\":\"\",\"zerolinecolor\":\"white\",\"gridwidth\":2},\"zaxis\":{\"backgroundcolor\":\"#E5ECF6\",\"gridcolor\":\"white\",\"linecolor\":\"white\",\"showbackground\":true,\"ticks\":\"\",\"zerolinecolor\":\"white\",\"gridwidth\":2}},\"shapedefaults\":{\"line\":{\"color\":\"#2a3f5f\"}},\"annotationdefaults\":{\"arrowcolor\":\"#2a3f5f\",\"arrowhead\":0,\"arrowwidth\":1},\"geo\":{\"bgcolor\":\"white\",\"landcolor\":\"#E5ECF6\",\"subunitcolor\":\"white\",\"showland\":true,\"showlakes\":true,\"lakecolor\":\"white\"},\"title\":{\"x\":0.05},\"mapbox\":{\"style\":\"light\"}}},\"title\":{\"text\":\"Difference in cluster assigned to each day by K-means and Hierarchical clustering\",\"x\":0.5,\"y\":0.95},\"xaxis\":{\"title\":{\"text\":\"Day of the year\"}},\"yaxis\":{\"title\":{\"text\":\"Daily Average Temperature (C)\"}},\"margin\":{\"l\":50,\"r\":50,\"b\":50,\"t\":75},\"autosize\":false,\"width\":1000,\"height\":400},                        {\"responsive\": true}                    ).then(function(){\n",
              "                            \n",
              "var gd = document.getElementById('966589cd-11df-444c-b3ac-ea8d9be46b9c');\n",
              "var x = new MutationObserver(function (mutations, observer) {{\n",
              "        var display = window.getComputedStyle(gd).display;\n",
              "        if (!display || display === 'none') {{\n",
              "            console.log([gd, 'removed!']);\n",
              "            Plotly.purge(gd);\n",
              "            observer.disconnect();\n",
              "        }}\n",
              "}});\n",
              "\n",
              "// Listen for the removal of the full notebook cells\n",
              "var notebookContainer = gd.closest('#notebook-container');\n",
              "if (notebookContainer) {{\n",
              "    x.observe(notebookContainer, {childList: true});\n",
              "}}\n",
              "\n",
              "// Listen for the clearing of the current output cell\n",
              "var outputEl = gd.closest('.output');\n",
              "if (outputEl) {{\n",
              "    x.observe(outputEl, {childList: true});\n",
              "}}\n",
              "\n",
              "                        })                };                            </script>        </div>\n",
              "</body>\n",
              "</html>"
            ]
          },
          "metadata": {}
        }
      ]
    },
    {
      "cell_type": "markdown",
      "source": [
        "While most of the points are assigned the same cluster, the boundary regions of clusters 1,2 and 2,3 have the most differences."
      ],
      "metadata": {
        "id": "YJXtmthiBn5M"
      }
    },
    {
      "cell_type": "markdown",
      "source": [
        "Like in K - Means the closest data points which correspond to the representative days of the clusters are found."
      ],
      "metadata": {
        "id": "1BJ3yOLSFJ7E"
      }
    },
    {
      "cell_type": "code",
      "source": [
        "Hcluster_centers = df_pivoted.loc[:,~df_pivoted.columns.isin([\"KCluster\",\"DailyAvgTemp\"])].groupby(\"HClustNew\").mean().values\n",
        "df_rep_hclust = pd.DataFrame()\n",
        "for i in range(0,4):\n",
        "  dfi = df_pivoted.loc[df_pivoted[\"HClustNew\"]==i].iloc[:,:-3]\n",
        "  dfi_rep = dfi.iloc[np.argmin(np.linalg.norm(dfi.values - Hcluster_centers[[i]], axis=1))]\n",
        "  df_rep_hclust = pd.concat([df_rep_hclust,dfi_rep],axis=1)\n",
        "sorted_columns = sorted(df_rep_hclust.columns, reverse=True)\n",
        "df_rep_hclust = df_rep_hclust.reindex(columns=sorted_columns) # Sort the column names which is the day of the year in descending order\n",
        "HClust_rep_days = sorted(np.unique(df.loc[df[\"day_of_year\"].isin(df_rep_hclust.columns)].index.date),reverse=True) # Find the dates of the representative days based on day of year column and sort them in descending order\n",
        "df_rep_hclust.rename(columns=dict(zip(df_rep_hclust.columns, HClust_rep_days)), inplace=True)\n",
        "df_rep_hclust = df_rep_hclust[df_rep_hclust.iloc[0].sort_values().index] # Rearrange the df in increasing order of temperature"
      ],
      "metadata": {
        "id": "JcmKFomizq6t"
      },
      "execution_count": null,
      "outputs": []
    },
    {
      "cell_type": "code",
      "source": [
        "fig = go.Figure()\n",
        "custom_colors = ['rgb(214, 39, 40)', 'rgb(255, 127, 14)', 'rgb(44, 160, 44)','rgb(31, 119, 180)' ]\n",
        "\n",
        "\n",
        "for i,column in enumerate(df_rep_hclust.columns):\n",
        "    fig.add_trace(go.Scatter(x=df_rep_hclust.index, y=df_rep_hclust[column], mode='markers+lines', name=\"Hierarchical:\" + str(column), line=dict(color=custom_colors[i])))\n",
        "for i,column in enumerate(df_rep.columns):\n",
        "    fig.add_trace(go.Scatter(x=df_rep.index, y=df_rep[column], mode='lines+markers', line=dict(dash='dash',color=custom_colors[i]), name=\"K-Means:\"+str(column)))\n",
        "\n",
        "SDD =  df.loc[df.index.date==pd.to_datetime(\"2023-07-21\").date()]\n",
        "WDD = df.loc[df.index.date == pd.to_datetime(\"2023-12-21\").date()]\n",
        "fig.add_trace(go.Scatter(x=df_rep_hclust.index, y=SDD[\"Dry Bulb Temperature {C}\"], mode='lines+markers', name=\"Summer Design Day\",marker=dict(size=10,symbol=\"star\")))\n",
        "fig.add_trace(go.Scatter(x=df_rep_hclust.index, y=WDD[\"Dry Bulb Temperature {C}\"], mode='lines+markers', name=\"Winter Design Day\",marker=dict(size=10,symbol=\"star\")))\n",
        "\n",
        "# Update layout for better readability\n",
        "fig.update_layout(title='Daily variation in outdoor temperature for 4 representative days', xaxis_title='Hour of day', yaxis_title='Temperature (C)')\n",
        "\n",
        "fig.update_layout(\n",
        "    margin=dict(l=50, r=50, b=50, t=75),  # Adjust margins to make the plot tighter\n",
        "    autosize=False,  # Disable autosizing\n",
        "    width=1200,       # Set the width of the plot\n",
        "    height=400,       # Set the height of the plot\n",
        "    title_x=0.5,\n",
        "    title_y=0.95\n",
        ")\n",
        "fig.show()"
      ],
      "metadata": {
        "colab": {
          "base_uri": "https://localhost:8080/",
          "height": 417
        },
        "id": "NMPHR_cF99NY",
        "outputId": "efc18f26-103f-4807-d7f4-bc67ba7487c0"
      },
      "execution_count": null,
      "outputs": [
        {
          "output_type": "display_data",
          "data": {
            "text/html": [
              "<html>\n",
              "<head><meta charset=\"utf-8\" /></head>\n",
              "<body>\n",
              "    <div>            <script src=\"https://cdnjs.cloudflare.com/ajax/libs/mathjax/2.7.5/MathJax.js?config=TeX-AMS-MML_SVG\"></script><script type=\"text/javascript\">if (window.MathJax && window.MathJax.Hub && window.MathJax.Hub.Config) {window.MathJax.Hub.Config({SVG: {font: \"STIX-Web\"}});}</script>                <script type=\"text/javascript\">window.PlotlyConfig = {MathJaxConfig: 'local'};</script>\n",
              "        <script charset=\"utf-8\" src=\"https://cdn.plot.ly/plotly-2.24.1.min.js\"></script>                <div id=\"5bc73235-81ee-42ae-969b-88e79290116c\" class=\"plotly-graph-div\" style=\"height:400px; width:1200px;\"></div>            <script type=\"text/javascript\">                                    window.PLOTLYENV=window.PLOTLYENV || {};                                    if (document.getElementById(\"5bc73235-81ee-42ae-969b-88e79290116c\")) {                    Plotly.newPlot(                        \"5bc73235-81ee-42ae-969b-88e79290116c\",                        [{\"line\":{\"color\":\"rgb(214, 39, 40)\"},\"mode\":\"markers+lines\",\"name\":\"Hierarchical:2023-02-13\",\"x\":[0,1,2,3,4,5,6,7,8,9,10,11,12,13,14,15,16,17,18,19,20,21,22,23],\"y\":[-5.0,-6.0,-6.0,-6.0,-6.0,-7.0,-7.0,-7.0,-7.0,-7.0,-6.0,-6.0,-5.0,-4.0,-3.0,-2.0,-2.0,-2.0,-5.0,-7.0,-7.0,-9.0,-8.0,-9.0],\"type\":\"scatter\"},{\"line\":{\"color\":\"rgb(255, 127, 14)\"},\"mode\":\"markers+lines\",\"name\":\"Hierarchical:2023-01-16\",\"x\":[0,1,2,3,4,5,6,7,8,9,10,11,12,13,14,15,16,17,18,19,20,21,22,23],\"y\":[1.0,0.0,1.0,0.0,1.0,0.0,0.0,0.0,0.0,0.0,1.0,3.0,5.0,4.0,6.4,6.1,5.9,6.0,2.7,2.2,1.9,1.1,1.1,0.6],\"type\":\"scatter\"},{\"line\":{\"color\":\"rgb(44, 160, 44)\"},\"mode\":\"markers+lines\",\"name\":\"Hierarchical:2023-05-11\",\"x\":[0,1,2,3,4,5,6,7,8,9,10,11,12,13,14,15,16,17,18,19,20,21,22,23],\"y\":[8.0,6.3,6.1,5.6,7.0,5.3,5.6,6.3,8.0,11.0,11.0,12.0,14.0,16.0,15.0,17.0,17.0,18.0,17.0,17.0,11.7,8.3,8.5,6.7],\"type\":\"scatter\"},{\"line\":{\"color\":\"rgb(31, 119, 180)\"},\"mode\":\"markers+lines\",\"name\":\"Hierarchical:2023-07-16\",\"x\":[0,1,2,3,4,5,6,7,8,9,10,11,12,13,14,15,16,17,18,19,20,21,22,23],\"y\":[18.0,16.0,15.0,15.0,11.0,13.0,11.2,12.4,18.0,20.0,21.0,23.0,25.0,26.0,27.0,28.0,29.0,30.0,28.0,26.0,25.0,18.3,21.0,20.0],\"type\":\"scatter\"},{\"line\":{\"color\":\"rgb(214, 39, 40)\",\"dash\":\"dash\"},\"mode\":\"lines+markers\",\"name\":\"K-Means:2023-12-26\",\"x\":[0,1,2,3,4,5,6,7,8,9,10,11,12,13,14,15,16,17,18,19,20,21,22,23,\"KCluster\",\"DailyAvgTemp\"],\"y\":[-1.0,-1.0,-1.0,-2.0,-2.0,-4.0,-4.0,-5.0,-5.0,-5.0,-3.0,-1.0,0.0,0.6,2.1,2.0,1.3,0.3,0.1,1.0,0.0,0.0,-1.0,-1.0,3.0,-1.1916666666666667],\"type\":\"scatter\"},{\"line\":{\"color\":\"rgb(255, 127, 14)\",\"dash\":\"dash\"},\"mode\":\"lines+markers\",\"name\":\"K-Means:2023-11-01\",\"x\":[0,1,2,3,4,5,6,7,8,9,10,11,12,13,14,15,16,17,18,19,20,21,22,23,\"KCluster\",\"DailyAvgTemp\"],\"y\":[2.9,3.8,3.1,3.3,3.1,2.3,2.8,2.0,2.0,2.4,4.6,6.7,7.3,7.7,9.1,10.0,9.4,8.8,7.6,5.5,4.2,4.1,4.4,4.6,1.0,5.070833333333333],\"type\":\"scatter\"},{\"line\":{\"color\":\"rgb(44, 160, 44)\",\"dash\":\"dash\"},\"mode\":\"lines+markers\",\"name\":\"K-Means:2023-10-08\",\"x\":[0,1,2,3,4,5,6,7,8,9,10,11,12,13,14,15,16,17,18,19,20,21,22,23,\"KCluster\",\"DailyAvgTemp\"],\"y\":[8.2,8.1,7.4,7.0,6.8,6.4,6.2,6.1,6.8,12.0,15.0,16.0,20.0,22.0,23.0,23.0,23.0,22.0,20.0,17.0,16.0,12.0,13.0,9.5,2.0,13.604166666666666],\"type\":\"scatter\"},{\"line\":{\"color\":\"rgb(31, 119, 180)\",\"dash\":\"dash\"},\"mode\":\"lines+markers\",\"name\":\"K-Means:2023-07-16\",\"x\":[0,1,2,3,4,5,6,7,8,9,10,11,12,13,14,15,16,17,18,19,20,21,22,23,\"KCluster\",\"DailyAvgTemp\"],\"y\":[18.0,16.0,15.0,15.0,11.0,13.0,11.2,12.4,18.0,20.0,21.0,23.0,25.0,26.0,27.0,28.0,29.0,30.0,28.0,26.0,25.0,18.3,21.0,20.0,0.0,20.704166666666666],\"type\":\"scatter\"},{\"marker\":{\"size\":10,\"symbol\":\"star\"},\"mode\":\"lines+markers\",\"name\":\"Summer Design Day\",\"x\":[0,1,2,3,4,5,6,7,8,9,10,11,12,13,14,15,16,17,18,19,20,21,22,23],\"y\":[15.0,18.0,12.2,12.4,15.0,15.0,15.0,16.0,18.0,21.0,21.0,22.0,24.0,26.0,27.0,28.0,30.0,31.0,31.0,30.0,28.0,20.5,19.6,18.9],\"type\":\"scatter\"},{\"marker\":{\"size\":10,\"symbol\":\"star\"},\"mode\":\"lines+markers\",\"name\":\"Winter Design Day\",\"x\":[0,1,2,3,4,5,6,7,8,9,10,11,12,13,14,15,16,17,18,19,20,21,22,23],\"y\":[0.0,-1.0,-1.0,0.0,1.0,2.0,0.1,2.0,3.0,0.9,3.8,7.1,12.0,11.1,10.9,10.6,8.6,7.4,5.4,4.7,4.3,1.4,0.2,0.7],\"type\":\"scatter\"}],                        {\"template\":{\"data\":{\"histogram2dcontour\":[{\"type\":\"histogram2dcontour\",\"colorbar\":{\"outlinewidth\":0,\"ticks\":\"\"},\"colorscale\":[[0.0,\"#0d0887\"],[0.1111111111111111,\"#46039f\"],[0.2222222222222222,\"#7201a8\"],[0.3333333333333333,\"#9c179e\"],[0.4444444444444444,\"#bd3786\"],[0.5555555555555556,\"#d8576b\"],[0.6666666666666666,\"#ed7953\"],[0.7777777777777778,\"#fb9f3a\"],[0.8888888888888888,\"#fdca26\"],[1.0,\"#f0f921\"]]}],\"choropleth\":[{\"type\":\"choropleth\",\"colorbar\":{\"outlinewidth\":0,\"ticks\":\"\"}}],\"histogram2d\":[{\"type\":\"histogram2d\",\"colorbar\":{\"outlinewidth\":0,\"ticks\":\"\"},\"colorscale\":[[0.0,\"#0d0887\"],[0.1111111111111111,\"#46039f\"],[0.2222222222222222,\"#7201a8\"],[0.3333333333333333,\"#9c179e\"],[0.4444444444444444,\"#bd3786\"],[0.5555555555555556,\"#d8576b\"],[0.6666666666666666,\"#ed7953\"],[0.7777777777777778,\"#fb9f3a\"],[0.8888888888888888,\"#fdca26\"],[1.0,\"#f0f921\"]]}],\"heatmap\":[{\"type\":\"heatmap\",\"colorbar\":{\"outlinewidth\":0,\"ticks\":\"\"},\"colorscale\":[[0.0,\"#0d0887\"],[0.1111111111111111,\"#46039f\"],[0.2222222222222222,\"#7201a8\"],[0.3333333333333333,\"#9c179e\"],[0.4444444444444444,\"#bd3786\"],[0.5555555555555556,\"#d8576b\"],[0.6666666666666666,\"#ed7953\"],[0.7777777777777778,\"#fb9f3a\"],[0.8888888888888888,\"#fdca26\"],[1.0,\"#f0f921\"]]}],\"heatmapgl\":[{\"type\":\"heatmapgl\",\"colorbar\":{\"outlinewidth\":0,\"ticks\":\"\"},\"colorscale\":[[0.0,\"#0d0887\"],[0.1111111111111111,\"#46039f\"],[0.2222222222222222,\"#7201a8\"],[0.3333333333333333,\"#9c179e\"],[0.4444444444444444,\"#bd3786\"],[0.5555555555555556,\"#d8576b\"],[0.6666666666666666,\"#ed7953\"],[0.7777777777777778,\"#fb9f3a\"],[0.8888888888888888,\"#fdca26\"],[1.0,\"#f0f921\"]]}],\"contourcarpet\":[{\"type\":\"contourcarpet\",\"colorbar\":{\"outlinewidth\":0,\"ticks\":\"\"}}],\"contour\":[{\"type\":\"contour\",\"colorbar\":{\"outlinewidth\":0,\"ticks\":\"\"},\"colorscale\":[[0.0,\"#0d0887\"],[0.1111111111111111,\"#46039f\"],[0.2222222222222222,\"#7201a8\"],[0.3333333333333333,\"#9c179e\"],[0.4444444444444444,\"#bd3786\"],[0.5555555555555556,\"#d8576b\"],[0.6666666666666666,\"#ed7953\"],[0.7777777777777778,\"#fb9f3a\"],[0.8888888888888888,\"#fdca26\"],[1.0,\"#f0f921\"]]}],\"surface\":[{\"type\":\"surface\",\"colorbar\":{\"outlinewidth\":0,\"ticks\":\"\"},\"colorscale\":[[0.0,\"#0d0887\"],[0.1111111111111111,\"#46039f\"],[0.2222222222222222,\"#7201a8\"],[0.3333333333333333,\"#9c179e\"],[0.4444444444444444,\"#bd3786\"],[0.5555555555555556,\"#d8576b\"],[0.6666666666666666,\"#ed7953\"],[0.7777777777777778,\"#fb9f3a\"],[0.8888888888888888,\"#fdca26\"],[1.0,\"#f0f921\"]]}],\"mesh3d\":[{\"type\":\"mesh3d\",\"colorbar\":{\"outlinewidth\":0,\"ticks\":\"\"}}],\"scatter\":[{\"fillpattern\":{\"fillmode\":\"overlay\",\"size\":10,\"solidity\":0.2},\"type\":\"scatter\"}],\"parcoords\":[{\"type\":\"parcoords\",\"line\":{\"colorbar\":{\"outlinewidth\":0,\"ticks\":\"\"}}}],\"scatterpolargl\":[{\"type\":\"scatterpolargl\",\"marker\":{\"colorbar\":{\"outlinewidth\":0,\"ticks\":\"\"}}}],\"bar\":[{\"error_x\":{\"color\":\"#2a3f5f\"},\"error_y\":{\"color\":\"#2a3f5f\"},\"marker\":{\"line\":{\"color\":\"#E5ECF6\",\"width\":0.5},\"pattern\":{\"fillmode\":\"overlay\",\"size\":10,\"solidity\":0.2}},\"type\":\"bar\"}],\"scattergeo\":[{\"type\":\"scattergeo\",\"marker\":{\"colorbar\":{\"outlinewidth\":0,\"ticks\":\"\"}}}],\"scatterpolar\":[{\"type\":\"scatterpolar\",\"marker\":{\"colorbar\":{\"outlinewidth\":0,\"ticks\":\"\"}}}],\"histogram\":[{\"marker\":{\"pattern\":{\"fillmode\":\"overlay\",\"size\":10,\"solidity\":0.2}},\"type\":\"histogram\"}],\"scattergl\":[{\"type\":\"scattergl\",\"marker\":{\"colorbar\":{\"outlinewidth\":0,\"ticks\":\"\"}}}],\"scatter3d\":[{\"type\":\"scatter3d\",\"line\":{\"colorbar\":{\"outlinewidth\":0,\"ticks\":\"\"}},\"marker\":{\"colorbar\":{\"outlinewidth\":0,\"ticks\":\"\"}}}],\"scattermapbox\":[{\"type\":\"scattermapbox\",\"marker\":{\"colorbar\":{\"outlinewidth\":0,\"ticks\":\"\"}}}],\"scatterternary\":[{\"type\":\"scatterternary\",\"marker\":{\"colorbar\":{\"outlinewidth\":0,\"ticks\":\"\"}}}],\"scattercarpet\":[{\"type\":\"scattercarpet\",\"marker\":{\"colorbar\":{\"outlinewidth\":0,\"ticks\":\"\"}}}],\"carpet\":[{\"aaxis\":{\"endlinecolor\":\"#2a3f5f\",\"gridcolor\":\"white\",\"linecolor\":\"white\",\"minorgridcolor\":\"white\",\"startlinecolor\":\"#2a3f5f\"},\"baxis\":{\"endlinecolor\":\"#2a3f5f\",\"gridcolor\":\"white\",\"linecolor\":\"white\",\"minorgridcolor\":\"white\",\"startlinecolor\":\"#2a3f5f\"},\"type\":\"carpet\"}],\"table\":[{\"cells\":{\"fill\":{\"color\":\"#EBF0F8\"},\"line\":{\"color\":\"white\"}},\"header\":{\"fill\":{\"color\":\"#C8D4E3\"},\"line\":{\"color\":\"white\"}},\"type\":\"table\"}],\"barpolar\":[{\"marker\":{\"line\":{\"color\":\"#E5ECF6\",\"width\":0.5},\"pattern\":{\"fillmode\":\"overlay\",\"size\":10,\"solidity\":0.2}},\"type\":\"barpolar\"}],\"pie\":[{\"automargin\":true,\"type\":\"pie\"}]},\"layout\":{\"autotypenumbers\":\"strict\",\"colorway\":[\"#636efa\",\"#EF553B\",\"#00cc96\",\"#ab63fa\",\"#FFA15A\",\"#19d3f3\",\"#FF6692\",\"#B6E880\",\"#FF97FF\",\"#FECB52\"],\"font\":{\"color\":\"#2a3f5f\"},\"hovermode\":\"closest\",\"hoverlabel\":{\"align\":\"left\"},\"paper_bgcolor\":\"white\",\"plot_bgcolor\":\"#E5ECF6\",\"polar\":{\"bgcolor\":\"#E5ECF6\",\"angularaxis\":{\"gridcolor\":\"white\",\"linecolor\":\"white\",\"ticks\":\"\"},\"radialaxis\":{\"gridcolor\":\"white\",\"linecolor\":\"white\",\"ticks\":\"\"}},\"ternary\":{\"bgcolor\":\"#E5ECF6\",\"aaxis\":{\"gridcolor\":\"white\",\"linecolor\":\"white\",\"ticks\":\"\"},\"baxis\":{\"gridcolor\":\"white\",\"linecolor\":\"white\",\"ticks\":\"\"},\"caxis\":{\"gridcolor\":\"white\",\"linecolor\":\"white\",\"ticks\":\"\"}},\"coloraxis\":{\"colorbar\":{\"outlinewidth\":0,\"ticks\":\"\"}},\"colorscale\":{\"sequential\":[[0.0,\"#0d0887\"],[0.1111111111111111,\"#46039f\"],[0.2222222222222222,\"#7201a8\"],[0.3333333333333333,\"#9c179e\"],[0.4444444444444444,\"#bd3786\"],[0.5555555555555556,\"#d8576b\"],[0.6666666666666666,\"#ed7953\"],[0.7777777777777778,\"#fb9f3a\"],[0.8888888888888888,\"#fdca26\"],[1.0,\"#f0f921\"]],\"sequentialminus\":[[0.0,\"#0d0887\"],[0.1111111111111111,\"#46039f\"],[0.2222222222222222,\"#7201a8\"],[0.3333333333333333,\"#9c179e\"],[0.4444444444444444,\"#bd3786\"],[0.5555555555555556,\"#d8576b\"],[0.6666666666666666,\"#ed7953\"],[0.7777777777777778,\"#fb9f3a\"],[0.8888888888888888,\"#fdca26\"],[1.0,\"#f0f921\"]],\"diverging\":[[0,\"#8e0152\"],[0.1,\"#c51b7d\"],[0.2,\"#de77ae\"],[0.3,\"#f1b6da\"],[0.4,\"#fde0ef\"],[0.5,\"#f7f7f7\"],[0.6,\"#e6f5d0\"],[0.7,\"#b8e186\"],[0.8,\"#7fbc41\"],[0.9,\"#4d9221\"],[1,\"#276419\"]]},\"xaxis\":{\"gridcolor\":\"white\",\"linecolor\":\"white\",\"ticks\":\"\",\"title\":{\"standoff\":15},\"zerolinecolor\":\"white\",\"automargin\":true,\"zerolinewidth\":2},\"yaxis\":{\"gridcolor\":\"white\",\"linecolor\":\"white\",\"ticks\":\"\",\"title\":{\"standoff\":15},\"zerolinecolor\":\"white\",\"automargin\":true,\"zerolinewidth\":2},\"scene\":{\"xaxis\":{\"backgroundcolor\":\"#E5ECF6\",\"gridcolor\":\"white\",\"linecolor\":\"white\",\"showbackground\":true,\"ticks\":\"\",\"zerolinecolor\":\"white\",\"gridwidth\":2},\"yaxis\":{\"backgroundcolor\":\"#E5ECF6\",\"gridcolor\":\"white\",\"linecolor\":\"white\",\"showbackground\":true,\"ticks\":\"\",\"zerolinecolor\":\"white\",\"gridwidth\":2},\"zaxis\":{\"backgroundcolor\":\"#E5ECF6\",\"gridcolor\":\"white\",\"linecolor\":\"white\",\"showbackground\":true,\"ticks\":\"\",\"zerolinecolor\":\"white\",\"gridwidth\":2}},\"shapedefaults\":{\"line\":{\"color\":\"#2a3f5f\"}},\"annotationdefaults\":{\"arrowcolor\":\"#2a3f5f\",\"arrowhead\":0,\"arrowwidth\":1},\"geo\":{\"bgcolor\":\"white\",\"landcolor\":\"#E5ECF6\",\"subunitcolor\":\"white\",\"showland\":true,\"showlakes\":true,\"lakecolor\":\"white\"},\"title\":{\"x\":0.05},\"mapbox\":{\"style\":\"light\"}}},\"title\":{\"text\":\"Daily variation in outdoor temperature for 4 representative days\",\"x\":0.5,\"y\":0.95},\"xaxis\":{\"title\":{\"text\":\"Hour of day\"}},\"yaxis\":{\"title\":{\"text\":\"Temperature (C)\"}},\"margin\":{\"l\":50,\"r\":50,\"b\":50,\"t\":75},\"autosize\":false,\"width\":1200,\"height\":400},                        {\"responsive\": true}                    ).then(function(){\n",
              "                            \n",
              "var gd = document.getElementById('5bc73235-81ee-42ae-969b-88e79290116c');\n",
              "var x = new MutationObserver(function (mutations, observer) {{\n",
              "        var display = window.getComputedStyle(gd).display;\n",
              "        if (!display || display === 'none') {{\n",
              "            console.log([gd, 'removed!']);\n",
              "            Plotly.purge(gd);\n",
              "            observer.disconnect();\n",
              "        }}\n",
              "}});\n",
              "\n",
              "// Listen for the removal of the full notebook cells\n",
              "var notebookContainer = gd.closest('#notebook-container');\n",
              "if (notebookContainer) {{\n",
              "    x.observe(notebookContainer, {childList: true});\n",
              "}}\n",
              "\n",
              "// Listen for the clearing of the current output cell\n",
              "var outputEl = gd.closest('.output');\n",
              "if (outputEl) {{\n",
              "    x.observe(outputEl, {childList: true});\n",
              "}}\n",
              "\n",
              "                        })                };                            </script>        </div>\n",
              "</body>\n",
              "</html>"
            ]
          },
          "metadata": {}
        }
      ]
    },
    {
      "cell_type": "markdown",
      "source": [
        "Except for the hottest day in which case both methods point to the same day i.e., July 16, for the rest of the days hierarchical consistently chooses days which have a lower temperature than those chosen by k-means. Typicaly summer and winter design days are July 21st and Dec 21st. The plot above shows that while July 21st is a good estimation of extreme weather, Dec 21st is not. In this case a winter design day date should be chosen more appropriately."
      ],
      "metadata": {
        "id": "pWSlq-5ENNzh"
      }
    },
    {
      "cell_type": "markdown",
      "source": [
        "#### Hierarchical clustering using correlation\n",
        "Hierarchical clustering depends on the similarity metric used to judge different clusters. The above method uses complete linkage which is the distance between the two points that farthest apart. Instead of Euclidean distance clustering using correlation coefficient may lead to better identification of similar patterned days."
      ],
      "metadata": {
        "id": "hyRFqTEns1BB"
      }
    },
    {
      "cell_type": "code",
      "source": [
        "HClust = AgglomerativeClustering(distance_threshold=0, n_clusters=None, linkage='complete', metric='correlation')\n",
        "hc_comp = HClust.fit(df_pivoted.iloc[:,:-3])\n",
        "linkage_comp = linkage(df_pivoted.iloc[:,:-3], method='complete', metric='correlation')\n",
        "cut_labels = cut_tree(linkage_comp, n_clusters=4).flatten()\n",
        "\n",
        "# Assign the cluster labels back to the DataFrame\n",
        "df_pivoted['HCluster_Corr'] = cut_labels\n",
        "# Remove the the k means label out when finding cluster center\n",
        "Hcluster_centers_corr = df_pivoted.loc[:,~df_pivoted.columns.isin([\"KCluster\",\"HClustNew\",\"DailyAvgTemp\"])].groupby(\"HCluster_Corr\").mean().values\n"
      ],
      "metadata": {
        "id": "z-f0GtfGtrMe"
      },
      "execution_count": null,
      "outputs": []
    },
    {
      "cell_type": "code",
      "source": [
        "fig = go.Figure()\n",
        "colors = ['rgb(31, 119, 180)', 'rgb(255, 127, 14)', 'rgb(44, 160, 44)', 'rgb(214, 39, 40)']\n",
        "\n",
        "for class_label in {0,1,2,3}:\n",
        "    df_class = df_pivoted[df_pivoted['HCluster_Corr'] == class_label]\n",
        "    fig.add_trace(go.Scatter(x=df_class.index, y=df_class['DailyAvgTemp'],\n",
        "                             mode='markers',\n",
        "                             marker=dict(size=10,color=colors[class_label]),\n",
        "                             name=f'Cluster {class_label}'))\n",
        "fig.update_layout(title='Daily average temperature across the year segregated by clusters <br> identified using correlation as the metric of hierarchical clustering', xaxis_title='Day of the year', yaxis_title='Temperature (C)')\n",
        "\n",
        "fig.update_layout(\n",
        "    margin=dict(l=50, r=50, b=50, t=75),  # Adjust margins to make the plot tighter\n",
        "    autosize=False,  # Disable autosizing\n",
        "    width=1000,       # Set the width of the plot\n",
        "    height=400,       # Set the height of the plot\n",
        "    title_x=0.5,\n",
        "    title_y=0.95\n",
        ")\n",
        "fig.show()"
      ],
      "metadata": {
        "colab": {
          "base_uri": "https://localhost:8080/",
          "height": 417
        },
        "id": "XsnmAjNy-vFW",
        "outputId": "2f7d17ec-998b-4efc-80ee-d6ece427e441"
      },
      "execution_count": null,
      "outputs": [
        {
          "output_type": "display_data",
          "data": {
            "text/html": [
              "<html>\n",
              "<head><meta charset=\"utf-8\" /></head>\n",
              "<body>\n",
              "    <div>            <script src=\"https://cdnjs.cloudflare.com/ajax/libs/mathjax/2.7.5/MathJax.js?config=TeX-AMS-MML_SVG\"></script><script type=\"text/javascript\">if (window.MathJax && window.MathJax.Hub && window.MathJax.Hub.Config) {window.MathJax.Hub.Config({SVG: {font: \"STIX-Web\"}});}</script>                <script type=\"text/javascript\">window.PlotlyConfig = {MathJaxConfig: 'local'};</script>\n",
              "        <script charset=\"utf-8\" src=\"https://cdn.plot.ly/plotly-2.24.1.min.js\"></script>                <div id=\"22d0c465-0478-4eb8-bb41-f0ba47d37741\" class=\"plotly-graph-div\" style=\"height:400px; width:1000px;\"></div>            <script type=\"text/javascript\">                                    window.PLOTLYENV=window.PLOTLYENV || {};                                    if (document.getElementById(\"22d0c465-0478-4eb8-bb41-f0ba47d37741\")) {                    Plotly.newPlot(                        \"22d0c465-0478-4eb8-bb41-f0ba47d37741\",                        [{\"marker\":{\"color\":\"rgb(31, 119, 180)\",\"size\":10},\"mode\":\"markers\",\"name\":\"Cluster 0\",\"x\":[1,2,3,4,5,6,7,8,9,12,13,16,17,21,25,26,27,29,30,31,32,33,36,37,38,39,41,42,45,46,47,51,52,54,57,58,59,60,61,62,65,66,67,70,72,75,76,79,80,83,86,89,91,92,93,94,97,99,100,102,103,106,108,109,111,112,114,115,118,123,129,131,132,133,135,140,144,146,154,155,159,160,162,164,169,174,175,176,177,178,179,181,182,183,184,189,192,198,202,204,209,210,215,218,226,228,230,234,236,238,240,242,248,251,258,261,263,264,268,269,271,273,275,276,279,281,284,287,291,293,295,304,305,306,308,309,312,313,317,322,323,330,331,336,337,340,341,342,344,347,348,350,354,359,360,362,363,364],\"y\":[-13.375,-6.1499999999999995,0.19999999999999996,4.879166666666667,5.429166666666667,4.404166666666667,5.133333333333333,0.7000000000000001,0.8458333333333333,0.6541666666666667,-0.5875,2.0833333333333335,4.666666666666667,2.1708333333333334,-3.6374999999999997,1.3416666666666668,5.225,-6.625,-2.3625000000000003,2.0708333333333333,5.887499999999999,6.670833333333334,-9.041666666666666,-1.1458333333333333,-1.9583333333333333,-0.40833333333333327,-4.833333333333333,-5.875,-1.1958333333333335,0.8125000000000001,1.3125,-6.625,-0.4666666666666666,2.0833333333333335,-3.1625,3.566666666666667,5.583333333333333,2.9375,8.833333333333334,9.012500000000001,1.3166666666666667,1.3083333333333333,4.916666666666667,1.8041666666666665,4.483333333333333,4.075,6.133333333333333,2.966666666666667,6.045833333333334,7.7250000000000005,1.8500000000000003,6.104166666666667,2.5708333333333333,10.008333333333333,3.725,6.116666666666667,2.1625,4.379166666666666,10.4625,10.995833333333332,2.341666666666667,9.658333333333333,5.470833333333334,7.4375,1.1166666666666665,8.191666666666666,1.5958333333333332,7.708333333333333,11.799999999999999,5.541666666666667,11.879166666666668,10.766666666666666,14.5,17.27916666666667,15.091666666666667,6.804166666666667,14.975,10.604166666666666,16.633333333333333,17.633333333333333,18.650000000000002,23.025000000000002,18.59166666666667,17.099999999999998,19.641666666666666,12.725,15.729166666666666,15.608333333333334,20.570833333333333,23.508333333333336,21.47083333333333,14.775,18.900000000000002,20.433333333333334,20.754166666666666,24.258333333333336,24.645833333333332,22.620833333333334,21.441666666666666,23.329166666666666,17.291666666666668,17.541666666666668,24.75,24.100000000000005,21.683333333333334,20.287499999999998,19.3875,20.770833333333332,19.7,19.55,20.941666666666666,19.620833333333334,15.183333333333332,17.120833333333334,21.204166666666666,20.941666666666666,19.116666666666667,14.883333333333333,10.695833333333333,11.5,6.429166666666667,8.758333333333335,9.329166666666666,6.395833333333333,14.366666666666667,13.604166666666666,10.983333333333333,10.475,9.725,12.029166666666669,11.429166666666665,5.166666666666667,5.070833333333333,8.883333333333335,4.145833333333333,5.1875,-0.45416666666666666,-1.6541666666666666,-0.7625000000000001,-1.7583333333333335,0.8666666666666667,-0.10416666666666659,3.683333333333333,-0.9583333333333334,-2.0416666666666665,-4.541666666666667,-2.2541666666666664,-0.4625000000000001,0.85,-0.029166666666666674,1.6708333333333334,4.270833333333333,0.425,-0.1708333333333333,-1.1916666666666667,-6.625,-5.483333333333333,2.6833333333333336],\"type\":\"scatter\"},{\"marker\":{\"color\":\"rgb(255, 127, 14)\",\"size\":10},\"mode\":\"markers\",\"name\":\"Cluster 1\",\"x\":[10,14,15,19,23,43,49,53,64,68,69,71,73,74,78,81,82,84,85,88,95,98,101,104,105,113,116,117,119,120,121,122,124,125,126,127,128,134,137,139,141,142,143,145,148,149,150,151,152,153,156,157,158,161,163,165,166,167,168,170,171,172,173,180,185,186,187,188,190,191,193,195,196,197,199,201,203,205,206,207,208,211,212,213,214,216,217,219,220,221,222,223,224,225,227,229,231,232,233,235,237,239,241,243,244,245,246,247,249,250,252,253,254,255,256,257,259,260,262,265,266,267,270,272,277,278,280,286,288,289,290,292,294,296,297,298,299,301,302,303,310,311,314,318,320,324,325,326,327,329,332,333,334,335,338,339,343,346,349,351,352,353,355,357,358],\"y\":[4.75,-0.2625,0.9041666666666667,0.9833333333333334,0.0958333333333334,-1.0833333333333333,-2.375,5.599999999999999,0.30833333333333335,7.854166666666667,3.545833333333333,3.858333333333334,8.166666666666666,6.125,1.8375000000000001,9.433333333333332,9.654166666666667,6.358333333333334,2.591666666666667,0.65,9.154166666666667,8.995833333333334,14.129166666666668,5.108333333333333,7.895833333333333,10.183333333333334,7.466666666666668,11.891666666666666,16.070833333333333,11.179166666666667,8.237499999999999,6.462500000000001,11.262500000000001,14.345833333333331,16.620833333333334,14.950000000000001,11.933333333333332,15.008333333333335,10.554166666666667,1.3208333333333333,8.829166666666667,8.566666666666666,7.979166666666667,13.991666666666665,10.429166666666667,11.75,14.35,15.745833333333332,15.970833333333333,15.166666666666666,17.2625,17.420833333333334,18.462500000000002,23.229166666666668,20.625,19.429166666666664,19.916666666666668,22.337500000000002,18.883333333333333,20.8125,24.03333333333333,26.4375,22.5125,18.97083333333333,22.962499999999995,23.075,23.85833333333333,22.241666666666664,25.458333333333332,23.1375,22.316666666666663,20.491666666666667,20.404166666666665,20.704166666666666,23.358333333333334,21.358333333333334,24.679166666666664,22.400000000000002,18.904166666666665,19.991666666666667,18.333333333333332,20.808333333333334,22.17083333333333,21.55,22.458333333333332,23.787499999999998,22.658333333333335,22.77916666666667,20.875,23.587500000000002,21.941666666666666,20.650000000000002,22.049999999999997,21.5625,23.85833333333333,21.175,23.641666666666666,24.791666666666668,20.091666666666665,20.7375,25.145833333333332,17.304166666666667,21.537500000000005,21.24166666666667,18.979166666666668,18.054166666666664,19.020833333333332,18.349999999999998,15.566666666666668,15.5375,20.070833333333333,20.0875,19.71666666666667,21.4375,22.391666666666666,21.845833333333335,21.941666666666666,21.78333333333333,18.991666666666667,17.966666666666665,18.408333333333335,17.3875,14.591666666666669,14.674999999999999,11.104166666666666,13.295833333333334,15.170833333333333,6.183333333333334,11.462499999999999,13.170833333333334,8.654166666666667,12.612499999999999,12.695833333333335,11.258333333333335,14.291666666666666,12.825000000000001,14.487499999999999,5.766666666666666,8.645833333333334,7.920833333333333,3.529166666666667,0.31250000000000006,4.304166666666666,4.554166666666666,3.441666666666667,2.2291666666666665,3.558333333333333,3.7916666666666665,4.504166666666666,0.9416666666666668,6.416666666666667,3.1625,0.22916666666666666,-0.375,-0.625,-1.7291666666666667,-0.08333333333333333,2.1125000000000003,3.7083333333333335,3.5041666666666664,3.920833333333333,3.658333333333333,3.9666666666666663,-0.7708333333333334,1.2916666666666667],\"type\":\"scatter\"},{\"marker\":{\"color\":\"rgb(44, 160, 44)\",\"size\":10},\"mode\":\"markers\",\"name\":\"Cluster 2\",\"x\":[11,24,28,34,40,96,138,315,319,321,365],\"y\":[0.6416666666666667,-3.75,-3.1125000000000003,-4.291666666666667,-1.9124999999999999,-0.22083333333333335,1.1083333333333332,-2.5416666666666665,6.5874999999999995,-1.6125,-6.75],\"type\":\"scatter\"},{\"marker\":{\"color\":\"rgb(214, 39, 40)\",\"size\":10},\"mode\":\"markers\",\"name\":\"Cluster 3\",\"x\":[18,20,22,35,44,48,50,55,56,63,77,87,90,107,110,130,136,147,194,200,274,282,283,285,300,307,316,328,345,356,361],\"y\":[0.7708333333333334,5.154166666666667,-1.5416666666666667,-9.583333333333334,-5.791666666666667,0.7958333333333333,-5.083333333333333,1.0708333333333333,-2.8333333333333335,6.4375,3.1666666666666665,1.8708333333333336,4.283333333333333,9.058333333333334,4.7250000000000005,9.004166666666668,11.620833333333332,8.345833333333333,21.179166666666667,21.662499999999998,7.933333333333334,10.258333333333333,9.429166666666665,7.7749999999999995,5.870833333333334,5.395833333333333,-4.25,2.4625,3.6166666666666667,0.5958333333333333,-3.2916666666666665],\"type\":\"scatter\"}],                        {\"template\":{\"data\":{\"histogram2dcontour\":[{\"type\":\"histogram2dcontour\",\"colorbar\":{\"outlinewidth\":0,\"ticks\":\"\"},\"colorscale\":[[0.0,\"#0d0887\"],[0.1111111111111111,\"#46039f\"],[0.2222222222222222,\"#7201a8\"],[0.3333333333333333,\"#9c179e\"],[0.4444444444444444,\"#bd3786\"],[0.5555555555555556,\"#d8576b\"],[0.6666666666666666,\"#ed7953\"],[0.7777777777777778,\"#fb9f3a\"],[0.8888888888888888,\"#fdca26\"],[1.0,\"#f0f921\"]]}],\"choropleth\":[{\"type\":\"choropleth\",\"colorbar\":{\"outlinewidth\":0,\"ticks\":\"\"}}],\"histogram2d\":[{\"type\":\"histogram2d\",\"colorbar\":{\"outlinewidth\":0,\"ticks\":\"\"},\"colorscale\":[[0.0,\"#0d0887\"],[0.1111111111111111,\"#46039f\"],[0.2222222222222222,\"#7201a8\"],[0.3333333333333333,\"#9c179e\"],[0.4444444444444444,\"#bd3786\"],[0.5555555555555556,\"#d8576b\"],[0.6666666666666666,\"#ed7953\"],[0.7777777777777778,\"#fb9f3a\"],[0.8888888888888888,\"#fdca26\"],[1.0,\"#f0f921\"]]}],\"heatmap\":[{\"type\":\"heatmap\",\"colorbar\":{\"outlinewidth\":0,\"ticks\":\"\"},\"colorscale\":[[0.0,\"#0d0887\"],[0.1111111111111111,\"#46039f\"],[0.2222222222222222,\"#7201a8\"],[0.3333333333333333,\"#9c179e\"],[0.4444444444444444,\"#bd3786\"],[0.5555555555555556,\"#d8576b\"],[0.6666666666666666,\"#ed7953\"],[0.7777777777777778,\"#fb9f3a\"],[0.8888888888888888,\"#fdca26\"],[1.0,\"#f0f921\"]]}],\"heatmapgl\":[{\"type\":\"heatmapgl\",\"colorbar\":{\"outlinewidth\":0,\"ticks\":\"\"},\"colorscale\":[[0.0,\"#0d0887\"],[0.1111111111111111,\"#46039f\"],[0.2222222222222222,\"#7201a8\"],[0.3333333333333333,\"#9c179e\"],[0.4444444444444444,\"#bd3786\"],[0.5555555555555556,\"#d8576b\"],[0.6666666666666666,\"#ed7953\"],[0.7777777777777778,\"#fb9f3a\"],[0.8888888888888888,\"#fdca26\"],[1.0,\"#f0f921\"]]}],\"contourcarpet\":[{\"type\":\"contourcarpet\",\"colorbar\":{\"outlinewidth\":0,\"ticks\":\"\"}}],\"contour\":[{\"type\":\"contour\",\"colorbar\":{\"outlinewidth\":0,\"ticks\":\"\"},\"colorscale\":[[0.0,\"#0d0887\"],[0.1111111111111111,\"#46039f\"],[0.2222222222222222,\"#7201a8\"],[0.3333333333333333,\"#9c179e\"],[0.4444444444444444,\"#bd3786\"],[0.5555555555555556,\"#d8576b\"],[0.6666666666666666,\"#ed7953\"],[0.7777777777777778,\"#fb9f3a\"],[0.8888888888888888,\"#fdca26\"],[1.0,\"#f0f921\"]]}],\"surface\":[{\"type\":\"surface\",\"colorbar\":{\"outlinewidth\":0,\"ticks\":\"\"},\"colorscale\":[[0.0,\"#0d0887\"],[0.1111111111111111,\"#46039f\"],[0.2222222222222222,\"#7201a8\"],[0.3333333333333333,\"#9c179e\"],[0.4444444444444444,\"#bd3786\"],[0.5555555555555556,\"#d8576b\"],[0.6666666666666666,\"#ed7953\"],[0.7777777777777778,\"#fb9f3a\"],[0.8888888888888888,\"#fdca26\"],[1.0,\"#f0f921\"]]}],\"mesh3d\":[{\"type\":\"mesh3d\",\"colorbar\":{\"outlinewidth\":0,\"ticks\":\"\"}}],\"scatter\":[{\"fillpattern\":{\"fillmode\":\"overlay\",\"size\":10,\"solidity\":0.2},\"type\":\"scatter\"}],\"parcoords\":[{\"type\":\"parcoords\",\"line\":{\"colorbar\":{\"outlinewidth\":0,\"ticks\":\"\"}}}],\"scatterpolargl\":[{\"type\":\"scatterpolargl\",\"marker\":{\"colorbar\":{\"outlinewidth\":0,\"ticks\":\"\"}}}],\"bar\":[{\"error_x\":{\"color\":\"#2a3f5f\"},\"error_y\":{\"color\":\"#2a3f5f\"},\"marker\":{\"line\":{\"color\":\"#E5ECF6\",\"width\":0.5},\"pattern\":{\"fillmode\":\"overlay\",\"size\":10,\"solidity\":0.2}},\"type\":\"bar\"}],\"scattergeo\":[{\"type\":\"scattergeo\",\"marker\":{\"colorbar\":{\"outlinewidth\":0,\"ticks\":\"\"}}}],\"scatterpolar\":[{\"type\":\"scatterpolar\",\"marker\":{\"colorbar\":{\"outlinewidth\":0,\"ticks\":\"\"}}}],\"histogram\":[{\"marker\":{\"pattern\":{\"fillmode\":\"overlay\",\"size\":10,\"solidity\":0.2}},\"type\":\"histogram\"}],\"scattergl\":[{\"type\":\"scattergl\",\"marker\":{\"colorbar\":{\"outlinewidth\":0,\"ticks\":\"\"}}}],\"scatter3d\":[{\"type\":\"scatter3d\",\"line\":{\"colorbar\":{\"outlinewidth\":0,\"ticks\":\"\"}},\"marker\":{\"colorbar\":{\"outlinewidth\":0,\"ticks\":\"\"}}}],\"scattermapbox\":[{\"type\":\"scattermapbox\",\"marker\":{\"colorbar\":{\"outlinewidth\":0,\"ticks\":\"\"}}}],\"scatterternary\":[{\"type\":\"scatterternary\",\"marker\":{\"colorbar\":{\"outlinewidth\":0,\"ticks\":\"\"}}}],\"scattercarpet\":[{\"type\":\"scattercarpet\",\"marker\":{\"colorbar\":{\"outlinewidth\":0,\"ticks\":\"\"}}}],\"carpet\":[{\"aaxis\":{\"endlinecolor\":\"#2a3f5f\",\"gridcolor\":\"white\",\"linecolor\":\"white\",\"minorgridcolor\":\"white\",\"startlinecolor\":\"#2a3f5f\"},\"baxis\":{\"endlinecolor\":\"#2a3f5f\",\"gridcolor\":\"white\",\"linecolor\":\"white\",\"minorgridcolor\":\"white\",\"startlinecolor\":\"#2a3f5f\"},\"type\":\"carpet\"}],\"table\":[{\"cells\":{\"fill\":{\"color\":\"#EBF0F8\"},\"line\":{\"color\":\"white\"}},\"header\":{\"fill\":{\"color\":\"#C8D4E3\"},\"line\":{\"color\":\"white\"}},\"type\":\"table\"}],\"barpolar\":[{\"marker\":{\"line\":{\"color\":\"#E5ECF6\",\"width\":0.5},\"pattern\":{\"fillmode\":\"overlay\",\"size\":10,\"solidity\":0.2}},\"type\":\"barpolar\"}],\"pie\":[{\"automargin\":true,\"type\":\"pie\"}]},\"layout\":{\"autotypenumbers\":\"strict\",\"colorway\":[\"#636efa\",\"#EF553B\",\"#00cc96\",\"#ab63fa\",\"#FFA15A\",\"#19d3f3\",\"#FF6692\",\"#B6E880\",\"#FF97FF\",\"#FECB52\"],\"font\":{\"color\":\"#2a3f5f\"},\"hovermode\":\"closest\",\"hoverlabel\":{\"align\":\"left\"},\"paper_bgcolor\":\"white\",\"plot_bgcolor\":\"#E5ECF6\",\"polar\":{\"bgcolor\":\"#E5ECF6\",\"angularaxis\":{\"gridcolor\":\"white\",\"linecolor\":\"white\",\"ticks\":\"\"},\"radialaxis\":{\"gridcolor\":\"white\",\"linecolor\":\"white\",\"ticks\":\"\"}},\"ternary\":{\"bgcolor\":\"#E5ECF6\",\"aaxis\":{\"gridcolor\":\"white\",\"linecolor\":\"white\",\"ticks\":\"\"},\"baxis\":{\"gridcolor\":\"white\",\"linecolor\":\"white\",\"ticks\":\"\"},\"caxis\":{\"gridcolor\":\"white\",\"linecolor\":\"white\",\"ticks\":\"\"}},\"coloraxis\":{\"colorbar\":{\"outlinewidth\":0,\"ticks\":\"\"}},\"colorscale\":{\"sequential\":[[0.0,\"#0d0887\"],[0.1111111111111111,\"#46039f\"],[0.2222222222222222,\"#7201a8\"],[0.3333333333333333,\"#9c179e\"],[0.4444444444444444,\"#bd3786\"],[0.5555555555555556,\"#d8576b\"],[0.6666666666666666,\"#ed7953\"],[0.7777777777777778,\"#fb9f3a\"],[0.8888888888888888,\"#fdca26\"],[1.0,\"#f0f921\"]],\"sequentialminus\":[[0.0,\"#0d0887\"],[0.1111111111111111,\"#46039f\"],[0.2222222222222222,\"#7201a8\"],[0.3333333333333333,\"#9c179e\"],[0.4444444444444444,\"#bd3786\"],[0.5555555555555556,\"#d8576b\"],[0.6666666666666666,\"#ed7953\"],[0.7777777777777778,\"#fb9f3a\"],[0.8888888888888888,\"#fdca26\"],[1.0,\"#f0f921\"]],\"diverging\":[[0,\"#8e0152\"],[0.1,\"#c51b7d\"],[0.2,\"#de77ae\"],[0.3,\"#f1b6da\"],[0.4,\"#fde0ef\"],[0.5,\"#f7f7f7\"],[0.6,\"#e6f5d0\"],[0.7,\"#b8e186\"],[0.8,\"#7fbc41\"],[0.9,\"#4d9221\"],[1,\"#276419\"]]},\"xaxis\":{\"gridcolor\":\"white\",\"linecolor\":\"white\",\"ticks\":\"\",\"title\":{\"standoff\":15},\"zerolinecolor\":\"white\",\"automargin\":true,\"zerolinewidth\":2},\"yaxis\":{\"gridcolor\":\"white\",\"linecolor\":\"white\",\"ticks\":\"\",\"title\":{\"standoff\":15},\"zerolinecolor\":\"white\",\"automargin\":true,\"zerolinewidth\":2},\"scene\":{\"xaxis\":{\"backgroundcolor\":\"#E5ECF6\",\"gridcolor\":\"white\",\"linecolor\":\"white\",\"showbackground\":true,\"ticks\":\"\",\"zerolinecolor\":\"white\",\"gridwidth\":2},\"yaxis\":{\"backgroundcolor\":\"#E5ECF6\",\"gridcolor\":\"white\",\"linecolor\":\"white\",\"showbackground\":true,\"ticks\":\"\",\"zerolinecolor\":\"white\",\"gridwidth\":2},\"zaxis\":{\"backgroundcolor\":\"#E5ECF6\",\"gridcolor\":\"white\",\"linecolor\":\"white\",\"showbackground\":true,\"ticks\":\"\",\"zerolinecolor\":\"white\",\"gridwidth\":2}},\"shapedefaults\":{\"line\":{\"color\":\"#2a3f5f\"}},\"annotationdefaults\":{\"arrowcolor\":\"#2a3f5f\",\"arrowhead\":0,\"arrowwidth\":1},\"geo\":{\"bgcolor\":\"white\",\"landcolor\":\"#E5ECF6\",\"subunitcolor\":\"white\",\"showland\":true,\"showlakes\":true,\"lakecolor\":\"white\"},\"title\":{\"x\":0.05},\"mapbox\":{\"style\":\"light\"}}},\"title\":{\"text\":\"Daily average temperature across the year segregated by clusters \\u003cbr\\u003e identified using correlation as the metric of hierarchical clustering\",\"x\":0.5,\"y\":0.95},\"xaxis\":{\"title\":{\"text\":\"Day of the year\"}},\"yaxis\":{\"title\":{\"text\":\"Temperature (C)\"}},\"margin\":{\"l\":50,\"r\":50,\"b\":50,\"t\":75},\"autosize\":false,\"width\":1000,\"height\":400},                        {\"responsive\": true}                    ).then(function(){\n",
              "                            \n",
              "var gd = document.getElementById('22d0c465-0478-4eb8-bb41-f0ba47d37741');\n",
              "var x = new MutationObserver(function (mutations, observer) {{\n",
              "        var display = window.getComputedStyle(gd).display;\n",
              "        if (!display || display === 'none') {{\n",
              "            console.log([gd, 'removed!']);\n",
              "            Plotly.purge(gd);\n",
              "            observer.disconnect();\n",
              "        }}\n",
              "}});\n",
              "\n",
              "// Listen for the removal of the full notebook cells\n",
              "var notebookContainer = gd.closest('#notebook-container');\n",
              "if (notebookContainer) {{\n",
              "    x.observe(notebookContainer, {childList: true});\n",
              "}}\n",
              "\n",
              "// Listen for the clearing of the current output cell\n",
              "var outputEl = gd.closest('.output');\n",
              "if (outputEl) {{\n",
              "    x.observe(outputEl, {childList: true});\n",
              "}}\n",
              "\n",
              "                        })                };                            </script>        </div>\n",
              "</body>\n",
              "</html>"
            ]
          },
          "metadata": {}
        }
      ]
    },
    {
      "cell_type": "markdown",
      "source": [
        "The plot above like before shows the variation of daily average temperature over the course of the year for different clusters identfied using correlation coefficient. In this case since all the days follows a similar profile in terms of hourly temperature variation, it is really difficult to identify four different clusters as shown above."
      ],
      "metadata": {
        "id": "4aufKkuGDDF6"
      }
    },
    {
      "cell_type": "code",
      "source": [
        "df_rep_hclust_corr = pd.DataFrame()\n",
        "for i in range(0,4):\n",
        "  dfi = df_pivoted.loc[df_pivoted[\"HCluster_Corr\"]==i].iloc[:,:-4]\n",
        "  dfi_rep = dfi.iloc[np.argmin(np.linalg.norm(dfi.values - Hcluster_centers_corr[[i]], axis=1))]\n",
        "  df_rep_hclust_corr = pd.concat([df_rep_hclust_corr,dfi_rep],axis=1)\n",
        "\n",
        "sorted_columns = sorted(df_rep_hclust_corr.columns, reverse=True)\n",
        "df_rep_hclust_corr = df_rep_hclust_corr.reindex(columns=sorted_columns) # Sort the column names which is the day of the year in descending order\n",
        "HClust_corr_rep_days = sorted(np.unique(df.loc[df[\"day_of_year\"].isin(df_rep_hclust_corr.columns)].index.date),reverse=True) # Find the dates of the representative days based on day of year column and sort them in descending order\n",
        "df_rep_hclust_corr.rename(columns=dict(zip(df_rep_hclust_corr.columns, HClust_corr_rep_days)), inplace=True)\n",
        "df_rep_hclust_corr = df_rep_hclust_corr[df_rep_hclust_corr.iloc[0].sort_values().index] # Rearrange the df in increasing order of temperature"
      ],
      "metadata": {
        "id": "QF9P734P-s7n"
      },
      "execution_count": null,
      "outputs": []
    },
    {
      "cell_type": "code",
      "source": [
        "fig = go.Figure()\n",
        "custom_colors = ['rgb(214, 39, 40)','rgb(255, 127, 14)', 'rgb(44, 160, 44)', 'rgb(31, 119, 180)']\n",
        "\n",
        "for i,column in enumerate(df_rep_hclust.columns):\n",
        "    fig.add_trace(go.Scatter(x=df_rep_hclust.index, y=df_rep_hclust[column], mode='markers+lines', name=\"Hierarchical:\" + str(column), line=dict(color=custom_colors[i])))\n",
        "for i,column in enumerate(df_rep_hclust_corr.columns):\n",
        "    fig.add_trace(go.Scatter(x=df_rep_hclust_corr.index, y=df_rep_hclust_corr[column], mode='markers+lines', line=dict(dash='dash',color=custom_colors[i]), name=\"Hierarchical (Corr):\"+str(column)))\n",
        "\n",
        "fig.update_layout(title='Daily variation in outdoor temperature for 4 representative days found using hierarchical clustering<br>with a distance and correlation based dissimilarity metrics', xaxis_title='Hour of day', yaxis_title='Temperature (C)')\n",
        "\n",
        "fig.update_layout(\n",
        "    margin=dict(l=50, r=50, b=50, t=75),  # Adjust margins to make the plot tighter\n",
        "    autosize=False,  # Disable autosizing\n",
        "    width=1200,       # Set the width of the plot\n",
        "    height=400,       # Set the height of the plot\n",
        "    title_x=0.5,\n",
        "    title_y=0.95\n",
        ")\n",
        "fig.show()"
      ],
      "metadata": {
        "colab": {
          "base_uri": "https://localhost:8080/",
          "height": 417
        },
        "id": "FVR9coMkvJFj",
        "outputId": "5c039a14-1b90-4d84-b449-a4901dbe7c61"
      },
      "execution_count": null,
      "outputs": [
        {
          "output_type": "display_data",
          "data": {
            "text/html": [
              "<html>\n",
              "<head><meta charset=\"utf-8\" /></head>\n",
              "<body>\n",
              "    <div>            <script src=\"https://cdnjs.cloudflare.com/ajax/libs/mathjax/2.7.5/MathJax.js?config=TeX-AMS-MML_SVG\"></script><script type=\"text/javascript\">if (window.MathJax && window.MathJax.Hub && window.MathJax.Hub.Config) {window.MathJax.Hub.Config({SVG: {font: \"STIX-Web\"}});}</script>                <script type=\"text/javascript\">window.PlotlyConfig = {MathJaxConfig: 'local'};</script>\n",
              "        <script charset=\"utf-8\" src=\"https://cdn.plot.ly/plotly-2.24.1.min.js\"></script>                <div id=\"c45b1c50-bdd8-492f-a085-dd36a9cddc92\" class=\"plotly-graph-div\" style=\"height:400px; width:1200px;\"></div>            <script type=\"text/javascript\">                                    window.PLOTLYENV=window.PLOTLYENV || {};                                    if (document.getElementById(\"c45b1c50-bdd8-492f-a085-dd36a9cddc92\")) {                    Plotly.newPlot(                        \"c45b1c50-bdd8-492f-a085-dd36a9cddc92\",                        [{\"line\":{\"color\":\"rgb(214, 39, 40)\"},\"mode\":\"markers+lines\",\"name\":\"Hierarchical:2023-02-13\",\"x\":[0,1,2,3,4,5,6,7,8,9,10,11,12,13,14,15,16,17,18,19,20,21,22,23],\"y\":[-5.0,-6.0,-6.0,-6.0,-6.0,-7.0,-7.0,-7.0,-7.0,-7.0,-6.0,-6.0,-5.0,-4.0,-3.0,-2.0,-2.0,-2.0,-5.0,-7.0,-7.0,-9.0,-8.0,-9.0],\"type\":\"scatter\"},{\"line\":{\"color\":\"rgb(255, 127, 14)\"},\"mode\":\"markers+lines\",\"name\":\"Hierarchical:2023-01-16\",\"x\":[0,1,2,3,4,5,6,7,8,9,10,11,12,13,14,15,16,17,18,19,20,21,22,23],\"y\":[1.0,0.0,1.0,0.0,1.0,0.0,0.0,0.0,0.0,0.0,1.0,3.0,5.0,4.0,6.4,6.1,5.9,6.0,2.7,2.2,1.9,1.1,1.1,0.6],\"type\":\"scatter\"},{\"line\":{\"color\":\"rgb(44, 160, 44)\"},\"mode\":\"markers+lines\",\"name\":\"Hierarchical:2023-05-11\",\"x\":[0,1,2,3,4,5,6,7,8,9,10,11,12,13,14,15,16,17,18,19,20,21,22,23],\"y\":[8.0,6.3,6.1,5.6,7.0,5.3,5.6,6.3,8.0,11.0,11.0,12.0,14.0,16.0,15.0,17.0,17.0,18.0,17.0,17.0,11.7,8.3,8.5,6.7],\"type\":\"scatter\"},{\"line\":{\"color\":\"rgb(31, 119, 180)\"},\"mode\":\"markers+lines\",\"name\":\"Hierarchical:2023-07-16\",\"x\":[0,1,2,3,4,5,6,7,8,9,10,11,12,13,14,15,16,17,18,19,20,21,22,23],\"y\":[18.0,16.0,15.0,15.0,11.0,13.0,11.2,12.4,18.0,20.0,21.0,23.0,25.0,26.0,27.0,28.0,29.0,30.0,28.0,26.0,25.0,18.3,21.0,20.0],\"type\":\"scatter\"},{\"line\":{\"color\":\"rgb(214, 39, 40)\",\"dash\":\"dash\"},\"mode\":\"markers+lines\",\"name\":\"Hierarchical (Corr):2023-02-09\",\"x\":[0,1,2,3,4,5,6,7,8,9,10,11,12,13,14,15,16,17,18,19,20,21,22,23],\"y\":[0.1,2.0,1.0,0.0,0.0,0.0,-1.0,-1.0,-2.0,-3.0,-3.0,-2.0,-2.0,-2.0,-2.0,-2.0,-2.0,-2.0,-3.0,-3.0,-3.0,-4.0,-5.0,-7.0],\"type\":\"scatter\"},{\"line\":{\"color\":\"rgb(255, 127, 14)\",\"dash\":\"dash\"},\"mode\":\"markers+lines\",\"name\":\"Hierarchical (Corr):2023-11-02\",\"x\":[0,1,2,3,4,5,6,7,8,9,10,11,12,13,14,15,16,17,18,19,20,21,22,23],\"y\":[5.0,6.0,3.8,3.0,4.0,4.1,4.6,5.0,4.0,7.2,9.0,11.6,12.6,13.4,13.3,15.0,13.2,15.0,13.0,15.0,10.9,8.4,7.0,9.1],\"type\":\"scatter\"},{\"line\":{\"color\":\"rgb(44, 160, 44)\",\"dash\":\"dash\"},\"mode\":\"markers+lines\",\"name\":\"Hierarchical (Corr):2023-04-20\",\"x\":[0,1,2,3,4,5,6,7,8,9,10,11,12,13,14,15,16,17,18,19,20,21,22,23],\"y\":[7.0,5.4,4.2,4.1,1.8,2.3,2.4,2.8,6.0,7.0,7.0,7.0,8.0,9.0,9.0,10.0,5.1,3.2,3.3,3.2,2.5,1.3,1.1,0.7],\"type\":\"scatter\"},{\"line\":{\"color\":\"rgb(31, 119, 180)\",\"dash\":\"dash\"},\"mode\":\"markers+lines\",\"name\":\"Hierarchical (Corr):2023-10-16\",\"x\":[0,1,2,3,4,5,6,7,8,9,10,11,12,13,14,15,16,17,18,19,20,21,22,23],\"y\":[8.9,9.0,9.4,8.3,8.8,8.5,8.5,7.3,9.1,12.4,13.0,16.0,21.0,21.0,22.0,20.0,21.0,18.0,16.0,14.0,14.0,12.0,11.0,6.9],\"type\":\"scatter\"}],                        {\"template\":{\"data\":{\"histogram2dcontour\":[{\"type\":\"histogram2dcontour\",\"colorbar\":{\"outlinewidth\":0,\"ticks\":\"\"},\"colorscale\":[[0.0,\"#0d0887\"],[0.1111111111111111,\"#46039f\"],[0.2222222222222222,\"#7201a8\"],[0.3333333333333333,\"#9c179e\"],[0.4444444444444444,\"#bd3786\"],[0.5555555555555556,\"#d8576b\"],[0.6666666666666666,\"#ed7953\"],[0.7777777777777778,\"#fb9f3a\"],[0.8888888888888888,\"#fdca26\"],[1.0,\"#f0f921\"]]}],\"choropleth\":[{\"type\":\"choropleth\",\"colorbar\":{\"outlinewidth\":0,\"ticks\":\"\"}}],\"histogram2d\":[{\"type\":\"histogram2d\",\"colorbar\":{\"outlinewidth\":0,\"ticks\":\"\"},\"colorscale\":[[0.0,\"#0d0887\"],[0.1111111111111111,\"#46039f\"],[0.2222222222222222,\"#7201a8\"],[0.3333333333333333,\"#9c179e\"],[0.4444444444444444,\"#bd3786\"],[0.5555555555555556,\"#d8576b\"],[0.6666666666666666,\"#ed7953\"],[0.7777777777777778,\"#fb9f3a\"],[0.8888888888888888,\"#fdca26\"],[1.0,\"#f0f921\"]]}],\"heatmap\":[{\"type\":\"heatmap\",\"colorbar\":{\"outlinewidth\":0,\"ticks\":\"\"},\"colorscale\":[[0.0,\"#0d0887\"],[0.1111111111111111,\"#46039f\"],[0.2222222222222222,\"#7201a8\"],[0.3333333333333333,\"#9c179e\"],[0.4444444444444444,\"#bd3786\"],[0.5555555555555556,\"#d8576b\"],[0.6666666666666666,\"#ed7953\"],[0.7777777777777778,\"#fb9f3a\"],[0.8888888888888888,\"#fdca26\"],[1.0,\"#f0f921\"]]}],\"heatmapgl\":[{\"type\":\"heatmapgl\",\"colorbar\":{\"outlinewidth\":0,\"ticks\":\"\"},\"colorscale\":[[0.0,\"#0d0887\"],[0.1111111111111111,\"#46039f\"],[0.2222222222222222,\"#7201a8\"],[0.3333333333333333,\"#9c179e\"],[0.4444444444444444,\"#bd3786\"],[0.5555555555555556,\"#d8576b\"],[0.6666666666666666,\"#ed7953\"],[0.7777777777777778,\"#fb9f3a\"],[0.8888888888888888,\"#fdca26\"],[1.0,\"#f0f921\"]]}],\"contourcarpet\":[{\"type\":\"contourcarpet\",\"colorbar\":{\"outlinewidth\":0,\"ticks\":\"\"}}],\"contour\":[{\"type\":\"contour\",\"colorbar\":{\"outlinewidth\":0,\"ticks\":\"\"},\"colorscale\":[[0.0,\"#0d0887\"],[0.1111111111111111,\"#46039f\"],[0.2222222222222222,\"#7201a8\"],[0.3333333333333333,\"#9c179e\"],[0.4444444444444444,\"#bd3786\"],[0.5555555555555556,\"#d8576b\"],[0.6666666666666666,\"#ed7953\"],[0.7777777777777778,\"#fb9f3a\"],[0.8888888888888888,\"#fdca26\"],[1.0,\"#f0f921\"]]}],\"surface\":[{\"type\":\"surface\",\"colorbar\":{\"outlinewidth\":0,\"ticks\":\"\"},\"colorscale\":[[0.0,\"#0d0887\"],[0.1111111111111111,\"#46039f\"],[0.2222222222222222,\"#7201a8\"],[0.3333333333333333,\"#9c179e\"],[0.4444444444444444,\"#bd3786\"],[0.5555555555555556,\"#d8576b\"],[0.6666666666666666,\"#ed7953\"],[0.7777777777777778,\"#fb9f3a\"],[0.8888888888888888,\"#fdca26\"],[1.0,\"#f0f921\"]]}],\"mesh3d\":[{\"type\":\"mesh3d\",\"colorbar\":{\"outlinewidth\":0,\"ticks\":\"\"}}],\"scatter\":[{\"fillpattern\":{\"fillmode\":\"overlay\",\"size\":10,\"solidity\":0.2},\"type\":\"scatter\"}],\"parcoords\":[{\"type\":\"parcoords\",\"line\":{\"colorbar\":{\"outlinewidth\":0,\"ticks\":\"\"}}}],\"scatterpolargl\":[{\"type\":\"scatterpolargl\",\"marker\":{\"colorbar\":{\"outlinewidth\":0,\"ticks\":\"\"}}}],\"bar\":[{\"error_x\":{\"color\":\"#2a3f5f\"},\"error_y\":{\"color\":\"#2a3f5f\"},\"marker\":{\"line\":{\"color\":\"#E5ECF6\",\"width\":0.5},\"pattern\":{\"fillmode\":\"overlay\",\"size\":10,\"solidity\":0.2}},\"type\":\"bar\"}],\"scattergeo\":[{\"type\":\"scattergeo\",\"marker\":{\"colorbar\":{\"outlinewidth\":0,\"ticks\":\"\"}}}],\"scatterpolar\":[{\"type\":\"scatterpolar\",\"marker\":{\"colorbar\":{\"outlinewidth\":0,\"ticks\":\"\"}}}],\"histogram\":[{\"marker\":{\"pattern\":{\"fillmode\":\"overlay\",\"size\":10,\"solidity\":0.2}},\"type\":\"histogram\"}],\"scattergl\":[{\"type\":\"scattergl\",\"marker\":{\"colorbar\":{\"outlinewidth\":0,\"ticks\":\"\"}}}],\"scatter3d\":[{\"type\":\"scatter3d\",\"line\":{\"colorbar\":{\"outlinewidth\":0,\"ticks\":\"\"}},\"marker\":{\"colorbar\":{\"outlinewidth\":0,\"ticks\":\"\"}}}],\"scattermapbox\":[{\"type\":\"scattermapbox\",\"marker\":{\"colorbar\":{\"outlinewidth\":0,\"ticks\":\"\"}}}],\"scatterternary\":[{\"type\":\"scatterternary\",\"marker\":{\"colorbar\":{\"outlinewidth\":0,\"ticks\":\"\"}}}],\"scattercarpet\":[{\"type\":\"scattercarpet\",\"marker\":{\"colorbar\":{\"outlinewidth\":0,\"ticks\":\"\"}}}],\"carpet\":[{\"aaxis\":{\"endlinecolor\":\"#2a3f5f\",\"gridcolor\":\"white\",\"linecolor\":\"white\",\"minorgridcolor\":\"white\",\"startlinecolor\":\"#2a3f5f\"},\"baxis\":{\"endlinecolor\":\"#2a3f5f\",\"gridcolor\":\"white\",\"linecolor\":\"white\",\"minorgridcolor\":\"white\",\"startlinecolor\":\"#2a3f5f\"},\"type\":\"carpet\"}],\"table\":[{\"cells\":{\"fill\":{\"color\":\"#EBF0F8\"},\"line\":{\"color\":\"white\"}},\"header\":{\"fill\":{\"color\":\"#C8D4E3\"},\"line\":{\"color\":\"white\"}},\"type\":\"table\"}],\"barpolar\":[{\"marker\":{\"line\":{\"color\":\"#E5ECF6\",\"width\":0.5},\"pattern\":{\"fillmode\":\"overlay\",\"size\":10,\"solidity\":0.2}},\"type\":\"barpolar\"}],\"pie\":[{\"automargin\":true,\"type\":\"pie\"}]},\"layout\":{\"autotypenumbers\":\"strict\",\"colorway\":[\"#636efa\",\"#EF553B\",\"#00cc96\",\"#ab63fa\",\"#FFA15A\",\"#19d3f3\",\"#FF6692\",\"#B6E880\",\"#FF97FF\",\"#FECB52\"],\"font\":{\"color\":\"#2a3f5f\"},\"hovermode\":\"closest\",\"hoverlabel\":{\"align\":\"left\"},\"paper_bgcolor\":\"white\",\"plot_bgcolor\":\"#E5ECF6\",\"polar\":{\"bgcolor\":\"#E5ECF6\",\"angularaxis\":{\"gridcolor\":\"white\",\"linecolor\":\"white\",\"ticks\":\"\"},\"radialaxis\":{\"gridcolor\":\"white\",\"linecolor\":\"white\",\"ticks\":\"\"}},\"ternary\":{\"bgcolor\":\"#E5ECF6\",\"aaxis\":{\"gridcolor\":\"white\",\"linecolor\":\"white\",\"ticks\":\"\"},\"baxis\":{\"gridcolor\":\"white\",\"linecolor\":\"white\",\"ticks\":\"\"},\"caxis\":{\"gridcolor\":\"white\",\"linecolor\":\"white\",\"ticks\":\"\"}},\"coloraxis\":{\"colorbar\":{\"outlinewidth\":0,\"ticks\":\"\"}},\"colorscale\":{\"sequential\":[[0.0,\"#0d0887\"],[0.1111111111111111,\"#46039f\"],[0.2222222222222222,\"#7201a8\"],[0.3333333333333333,\"#9c179e\"],[0.4444444444444444,\"#bd3786\"],[0.5555555555555556,\"#d8576b\"],[0.6666666666666666,\"#ed7953\"],[0.7777777777777778,\"#fb9f3a\"],[0.8888888888888888,\"#fdca26\"],[1.0,\"#f0f921\"]],\"sequentialminus\":[[0.0,\"#0d0887\"],[0.1111111111111111,\"#46039f\"],[0.2222222222222222,\"#7201a8\"],[0.3333333333333333,\"#9c179e\"],[0.4444444444444444,\"#bd3786\"],[0.5555555555555556,\"#d8576b\"],[0.6666666666666666,\"#ed7953\"],[0.7777777777777778,\"#fb9f3a\"],[0.8888888888888888,\"#fdca26\"],[1.0,\"#f0f921\"]],\"diverging\":[[0,\"#8e0152\"],[0.1,\"#c51b7d\"],[0.2,\"#de77ae\"],[0.3,\"#f1b6da\"],[0.4,\"#fde0ef\"],[0.5,\"#f7f7f7\"],[0.6,\"#e6f5d0\"],[0.7,\"#b8e186\"],[0.8,\"#7fbc41\"],[0.9,\"#4d9221\"],[1,\"#276419\"]]},\"xaxis\":{\"gridcolor\":\"white\",\"linecolor\":\"white\",\"ticks\":\"\",\"title\":{\"standoff\":15},\"zerolinecolor\":\"white\",\"automargin\":true,\"zerolinewidth\":2},\"yaxis\":{\"gridcolor\":\"white\",\"linecolor\":\"white\",\"ticks\":\"\",\"title\":{\"standoff\":15},\"zerolinecolor\":\"white\",\"automargin\":true,\"zerolinewidth\":2},\"scene\":{\"xaxis\":{\"backgroundcolor\":\"#E5ECF6\",\"gridcolor\":\"white\",\"linecolor\":\"white\",\"showbackground\":true,\"ticks\":\"\",\"zerolinecolor\":\"white\",\"gridwidth\":2},\"yaxis\":{\"backgroundcolor\":\"#E5ECF6\",\"gridcolor\":\"white\",\"linecolor\":\"white\",\"showbackground\":true,\"ticks\":\"\",\"zerolinecolor\":\"white\",\"gridwidth\":2},\"zaxis\":{\"backgroundcolor\":\"#E5ECF6\",\"gridcolor\":\"white\",\"linecolor\":\"white\",\"showbackground\":true,\"ticks\":\"\",\"zerolinecolor\":\"white\",\"gridwidth\":2}},\"shapedefaults\":{\"line\":{\"color\":\"#2a3f5f\"}},\"annotationdefaults\":{\"arrowcolor\":\"#2a3f5f\",\"arrowhead\":0,\"arrowwidth\":1},\"geo\":{\"bgcolor\":\"white\",\"landcolor\":\"#E5ECF6\",\"subunitcolor\":\"white\",\"showland\":true,\"showlakes\":true,\"lakecolor\":\"white\"},\"title\":{\"x\":0.05},\"mapbox\":{\"style\":\"light\"}}},\"title\":{\"text\":\"Daily variation in outdoor temperature for 4 representative days found using hierarchical clustering\\u003cbr\\u003ewith a distance and correlation based dissimilarity metrics\",\"x\":0.5,\"y\":0.95},\"xaxis\":{\"title\":{\"text\":\"Hour of day\"}},\"yaxis\":{\"title\":{\"text\":\"Temperature (C)\"}},\"margin\":{\"l\":50,\"r\":50,\"b\":50,\"t\":75},\"autosize\":false,\"width\":1200,\"height\":400},                        {\"responsive\": true}                    ).then(function(){\n",
              "                            \n",
              "var gd = document.getElementById('c45b1c50-bdd8-492f-a085-dd36a9cddc92');\n",
              "var x = new MutationObserver(function (mutations, observer) {{\n",
              "        var display = window.getComputedStyle(gd).display;\n",
              "        if (!display || display === 'none') {{\n",
              "            console.log([gd, 'removed!']);\n",
              "            Plotly.purge(gd);\n",
              "            observer.disconnect();\n",
              "        }}\n",
              "}});\n",
              "\n",
              "// Listen for the removal of the full notebook cells\n",
              "var notebookContainer = gd.closest('#notebook-container');\n",
              "if (notebookContainer) {{\n",
              "    x.observe(notebookContainer, {childList: true});\n",
              "}}\n",
              "\n",
              "// Listen for the clearing of the current output cell\n",
              "var outputEl = gd.closest('.output');\n",
              "if (outputEl) {{\n",
              "    x.observe(outputEl, {childList: true});\n",
              "}}\n",
              "\n",
              "                        })                };                            </script>        </div>\n",
              "</body>\n",
              "</html>"
            ]
          },
          "metadata": {}
        }
      ]
    },
    {
      "cell_type": "markdown",
      "source": [
        "When plotting the same plot and comparing hierarchical clustering with Eulcidean distance as the measure of dissimilarity and correlation as the measure of dissimilarity the former is considerably better at identfying distinct temperature profiles. The latter identfies representative days that are all very close to each other and hence not indicative of different groupings. To drive this point home even more the box plots of each cluster can be plotted and compared with the box plots of the data from the whole year."
      ],
      "metadata": {
        "id": "JRKHlHd9wenp"
      }
    },
    {
      "cell_type": "code",
      "source": [
        "fig = go.Figure()\n",
        "xlab = [1,2,3,4,5]\n",
        "fig.add_trace(go.Box(y=df[\"Dry Bulb Temperature {C}\"], name='Whole Year'))\n",
        "#fig.update_layout(title='Whole Dataset Box Plot')\n",
        "\n",
        "# Create box plots for each cluster sequentially\n",
        "colors = ['rgb(31, 119, 180)', 'rgb(255, 127, 14)', 'rgb(44, 160, 44)', 'rgb(214, 39, 40)']\n",
        "\n",
        "for i in range(4):\n",
        "    cluster_data = df_pivoted[df_pivoted['HCluster_Corr'] == i]\n",
        "    fig.add_trace(go.Box(y=cluster_data.values.flatten(),name=f\"Cluster {i}\",marker_color=colors[i]))\n",
        "\n",
        "fig.update_layout(title='Box plots of hourly temperature data from the whole year as well as from each individual cluster<br> as identfied using correlation based hirearchical clustering', yaxis_title='Temperature (C)')\n",
        "fig.update_layout(\n",
        "    margin=dict(l=50, r=50, b=50, t=75),  # Adjust margins to make the plot tighter\n",
        "    autosize=False,  # Disable autosizing\n",
        "    width=1000,       # Set the width of the plot\n",
        "    height=400,       # Set the height of the plot\n",
        "    title_x=0.5,\n",
        "    title_y=0.95\n",
        ")\n",
        "# Show plot\n",
        "fig.show()"
      ],
      "metadata": {
        "colab": {
          "base_uri": "https://localhost:8080/",
          "height": 417
        },
        "id": "osPDAzW5EBcg",
        "outputId": "00dacbbb-ee47-4633-82e9-d90c9f2be25a"
      },
      "execution_count": null,
      "outputs": [
        {
          "output_type": "display_data",
          "data": {
            "text/html": [
              "<html>\n",
              "<head><meta charset=\"utf-8\" /></head>\n",
              "<body>\n",
              "    <div>            <script src=\"https://cdnjs.cloudflare.com/ajax/libs/mathjax/2.7.5/MathJax.js?config=TeX-AMS-MML_SVG\"></script><script type=\"text/javascript\">if (window.MathJax && window.MathJax.Hub && window.MathJax.Hub.Config) {window.MathJax.Hub.Config({SVG: {font: \"STIX-Web\"}});}</script>                <script type=\"text/javascript\">window.PlotlyConfig = {MathJaxConfig: 'local'};</script>\n",
              "        <script charset=\"utf-8\" src=\"https://cdn.plot.ly/plotly-2.24.1.min.js\"></script>                <div id=\"9b58ec3d-bc47-46dd-82c4-391fb864e4f7\" class=\"plotly-graph-div\" style=\"height:400px; width:1000px;\"></div>            <script type=\"text/javascript\">                                    window.PLOTLYENV=window.PLOTLYENV || {};                                    if (document.getElementById(\"9b58ec3d-bc47-46dd-82c4-391fb864e4f7\")) {                    Plotly.newPlot(                        \"9b58ec3d-bc47-46dd-82c4-391fb864e4f7\",                        [{\"name\":\"Whole Year\",\"y\":[-13.0,-13.0,-14.0,-14.0,-15.0,-15.0,-15.0,-15.0,-16.0,-15.0,-15.0,-15.0,-12.0,-11.0,-11.0,-10.0,-10.0,-11.0,-12.0,-13.0,-13.0,-15.0,-14.0,-14.0,-15.0,-15.0,-13.0,-13.0,-12.0,-11.0,-11.0,-13.0,-10.0,-10.0,-7.0,-3.0,-2.0,0.0,1.0,0.4,1.0,1.0,-1.0,-2.0,-2.0,-4.0,-4.0,-3.0,-5.0,-6.0,-5.0,-4.0,-6.0,-6.0,-4.0,-5.0,-5.0,-3.0,0.0,0.3,3.0,3.6,5.1,6.0,5.7,3.8,1.3,6.0,8.0,3.0,4.0,4.0,6.0,8.0,10.0,5.0,1.0,0.0,0.0,-2.0,1.0,2.0,1.4,3.5,6.5,7.9,11.1,15.0,10.9,8.8,4.4,2.4,1.2,4.0,6.0,3.0,4.0,3.0,2.0,2.0,1.0,2.0,1.0,0.0,0.0,2.0,2.3,8.0,10.0,11.0,13.0,13.0,9.8,8.7,8.0,8.0,8.0,4.8,4.7,4.0,3.4,2.9,2.1,1.7,2.0,1.0,0.0,0.0,0.0,0.0,0.8,6.7,11.0,9.4,12.0,12.0,8.8,8.1,6.1,4.4,3.3,1.0,5.0,4.0,3.0,3.0,3.0,5.0,5.0,5.0,4.0,4.0,5.0,5.0,1.2,5.7,8.0,8.0,7.1,10.0,8.0,7.0,5.6,6.0,5.2,4.2,3.6,1.6,1.0,1.0,0.0,-2.0,-1.0,-2.0,-3.0,-3.0,-3.0,-2.0,-1.0,1.6,3.2,4.7,5.5,6.0,4.3,3.6,1.4,1.5,1.0,0.0,0.0,-1.0,-1.0,-1.0,-3.0,-3.0,-3.0,-2.0,-2.0,-3.0,-3.0,-2.0,0.0,1.6,2.7,5.0,6.0,7.0,5.7,4.4,4.7,3.0,1.2,0.0,1.0,1.0,0.0,1.0,0.0,0.0,2.0,2.0,2.0,2.0,0.0,0.2,4.0,8.0,10.0,12.0,12.0,12.0,11.0,7.8,10.0,8.0,4.2,2.4,1.7,1.7,1.7,2.2,1.7,1.4,1.3,0.6,0.3,0.3,0.0,0.2,0.2,0.2,1.0,1.0,0.0,0.2,2.0,0.1,0.0,0.0,0.0,0.0,1.0,0.0,0.0,0.0,1.0,1.0,1.0,0.0,0.0,0.0,0.0,0.0,1.0,2.0,0.1,0.2,0.2,0.2,3.0,3.0,1.0,0.0,0.0,1.0,1.0,0.0,-1.0,-2.0,-2.0,-2.0,-2.0,-3.0,-3.0,-3.0,-4.0,-2.0,-1.0,0.0,2.0,3.0,3.0,0.3,4.0,0.6,1.0,0.0,0.0,0.0,-1.0,-2.0,-1.0,-2.0,-3.0,-3.0,-5.0,-5.0,-4.0,-6.0,-5.0,-3.0,0.0,2.0,4.0,0.6,2.1,4.0,4.5,3.5,2.0,2.0,2.0,2.0,1.0,1.0,-2.0,-2.0,-3.0,-2.0,-3.0,-3.0,-3.0,-3.0,-3.0,-2.0,0.0,3.0,2.7,4.5,8.0,7.0,5.1,4.7,0.7,4.0,3.0,2.0,2.0,1.0,1.0,0.0,1.0,0.0,1.0,0.0,0.0,0.0,0.0,0.0,1.0,3.0,5.0,4.0,6.4,6.1,5.9,6.0,2.7,2.2,1.9,1.1,1.1,0.6,0.2,5.0,5.0,5.0,4.0,7.0,3.0,4.0,5.0,6.0,0.7,4.1,8.0,7.2,7.7,9.5,9.5,9.0,7.0,3.1,1.1,0.3,0.0,0.6,0.4,0.2,0.2,6.0,0.2,0.4,0.2,2.0,1.0,2.0,2.0,1.0,1.0,0.6,0.2,0.5,0.3,0.3,1.0,1.0,0.0,0.0,0.0,-2.0,-1.0,-1.0,0.0,0.0,-3.0,-2.0,-4.0,-1.0,2.0,2.0,3.0,0.4,1.9,2.7,3.1,4.4,3.7,3.4,1.8,1.1,0.9,0.1,0.1,5.0,5.0,7.0,7.0,5.0,6.0,4.0,5.0,5.0,3.0,2.0,3.5,5.4,6.7,9.2,9.7,8.0,6.6,7.6,8.0,4.1,0.9,3.0,1.0,1.0,1.0,0.0,0.0,0.0,-1.0,-2.0,-1.0,-3.0,-2.0,-2.0,0.2,5.3,9.3,7.8,7.0,8.9,6.1,5.8,4.0,2.4,1.3,3.0,2.0,-1.0,-1.0,-1.0,-1.0,-1.0,0.0,-1.0,-2.0,-3.0,-3.0,-3.0,-1.0,-2.0,0.0,0.0,0.0,0.0,0.0,0.0,-1.0,-2.0,-3.0,-3.0,-4.0,-5.0,-5.0,-1.0,-1.0,0.0,-6.0,-6.0,-1.0,0.0,0.0,0.0,2.0,5.0,0.2,0.9,1.2,3.5,1.9,1.5,0.9,3.0,2.1,0.1,0.0,0.0,0.0,0.0,-1.0,-2.0,-2.0,-3.0,-3.0,-3.0,-4.0,-6.0,-6.0,-6.0,-5.0,-4.0,-2.0,-1.0,-1.0,-3.0,-5.0,-6.0,-6.0,-7.0,-7.0,-7.0,-7.0,-8.0,-8.0,-10.0,-8.0,-10.0,-8.0,-10.0,-8.0,-8.0,-3.0,-1.0,0.0,2.0,3.0,0.7,2.0,1.0,0.0,-1.0,-1.0,-1.0,-1.0,-3.0,-2.0,2.0,0.0,-2.0,-3.0,-3.0,-1.0,1.0,1.0,2.0,-2.0,1.1,1.0,1.2,2.1,3.5,3.2,2.5,2.2,2.4,5.0,5.0,5.0,5.0,5.0,6.0,4.0,5.0,5.0,5.0,5.0,4.0,6.0,0.5,1.7,5.0,5.9,8.0,6.9,6.8,6.5,6.8,7.1,6.6,7.1,4.8,4.0,2.7,1.9,0.0,1.4,0.0,0.0,0.0,-1.0,-2.0,-3.0,-5.0,-5.0,-4.0,-3.0,-3.0,-4.0,-2.0,-2.0,-2.0,-4.0,-6.0,-6.0,-7.0,-8.0,-11.0,-10.0,-10.0,-11.0,-11.0,-10.0,-10.0,-11.0,-10.0,-11.0,-10.0,-8.0,-7.0,-5.0,-3.0,-1.0,0.0,0.0,-1.0,-2.0,-5.0,-5.0,-6.0,-6.0,-6.0,-6.0,-10.0,-10.0,-10.0,-10.0,-13.0,-12.0,-13.0,-11.0,-6.0,5.0,1.0,0.1,2.8,4.4,5.0,3.0,2.7,1.3,5.0,3.0,6.0,2.0,3.0,1.0,6.0,6.0,0.0,-1.0,-3.0,-3.0,-3.0,-4.0,-1.0,0.0,2.0,4.0,5.0,6.0,8.0,6.1,5.3,4.1,1.7,2.0,1.2,2.5,3.8,3.3,3.6,1.9,0.4,0.8,1.3,2.2,1.7,2.4,3.8,5.0,8.2,10.5,11.7,12.3,16.0,11.1,10.2,8.9,7.8,5.8,4.7,4.2,3.5,3.1,2.2,2.1,2.4,2.0,1.2,1.0,0.9,0.8,1.7,6.0,10.6,13.8,15.6,16.3,17.4,16.2,15.3,12.3,8.5,4.8,1.7,1.2,3.0,1.0,0.0,0.0,0.0,-1.0,-1.0,-1.0,-3.0,-3.0,-4.0,-4.0,-5.0,-6.0,-6.0,-6.0,-6.0,-6.0,-7.0,-7.0,-7.0,-7.0,-8.0,-8.0,-8.0,-8.0,-8.0,-9.0,-9.0,-10.0,-10.0,-10.0,-10.0,-10.0,-10.0,-10.0,-9.0,-8.0,-8.0,-8.0,-8.0,-8.0,-8.0,-9.0,-11.0,-11.0,-13.0,-13.0,-12.0,-12.0,-14.0,-12.0,-13.0,-16.0,-15.0,-16.0,-16.0,-16.0,-15.0,-13.0,-10.0,-7.0,-6.0,-5.0,-2.0,-2.0,-5.0,-6.0,-6.0,-3.0,-2.0,-2.0,-3.0,-4.0,-2.0,-3.0,-3.0,-3.0,-3.0,-2.0,0.0,-3.0,-2.0,-3.0,-3.0,-2.0,1.0,2.0,0.5,2.0,2.0,1.0,0.0,0.0,0.0,0.0,-3.0,-3.0,-3.0,-3.0,-2.0,-2.0,-2.0,-3.0,-3.0,-3.0,-3.0,-3.0,-2.0,-1.0,-1.0,-1.0,-1.0,-1.0,-1.0,-1.0,-2.0,-2.0,-1.0,-1.0,-2.0,-2.0,-3.0,-5.0,-5.0,-5.0,-6.0,-5.0,-6.0,-5.0,-3.0,-1.0,1.1,1.0,1.3,3.0,5.0,4.4,6.5,6.4,2.5,1.3,0.7,1.0,2.0,0.1,2.0,1.0,0.0,0.0,0.0,-1.0,-1.0,-2.0,-3.0,-3.0,-2.0,-2.0,-2.0,-2.0,-2.0,-2.0,-2.0,-3.0,-3.0,-3.0,-4.0,-5.0,-7.0,-8.0,-9.0,-10.0,-8.0,-8.0,-9.0,-9.0,-8.0,-9.0,-7.0,-6.0,-2.0,-1.0,-1.0,0.0,0.0,-1.0,0.0,-1.0,-3.0,-4.0,-4.0,-4.0,-4.0,-5.0,-5.0,-6.0,-6.0,-6.0,-7.0,-9.0,-12.0,-11.0,-9.0,-8.0,-6.0,-4.0,-3.0,-2.0,-1.0,-2.0,-2.0,-3.0,-6.0,-7.0,-7.0,-8.0,-6.0,-5.0,-5.0,-5.0,1.0,0.0,0.0,0.0,0.0,1.0,0.0,1.0,3.0,2.0,1.0,1.0,-1.0,-1.0,-1.0,-1.0,-2.0,-3.0,-3.0,-4.0,-5.0,-5.0,-6.0,-6.0,-6.0,-6.0,-7.0,-7.0,-7.0,-7.0,-7.0,-6.0,-6.0,-5.0,-4.0,-3.0,-2.0,-2.0,-2.0,-5.0,-7.0,-7.0,-9.0,-8.0,-9.0,-8.0,-10.0,-10.0,-11.0,-10.0,-10.0,-11.0,-11.0,-10.0,-7.0,-5.0,1.7,2.6,6.4,5.0,8.2,8.2,9.5,5.4,3.3,2.0,8.0,6.0,8.0,6.0,5.0,6.0,0.0,-1.0,-2.0,-3.0,-3.0,-3.0,-2.0,1.0,2.0,2.0,5.0,0.2,1.2,1.3,1.0,2.3,2.3,2.2,-1.0,-1.0,-2.0,-2.0,-3.0,-2.0,-3.0,-3.0,-2.0,-2.0,-2.0,-1.0,-1.0,0.0,1.6,4.5,5.2,5.0,6.0,6.0,5.0,7.0,5.3,2.5,1.3,1.6,1.5,1.6,1.6,1.6,0.6,0.0,0.0,0.0,0.0,-1.0,1.0,0.6,1.2,1.5,1.4,1.6,1.4,5.0,4.0,2.0,2.0,0.0,-2.0,-2.0,-3.0,-3.0,-4.0,-4.0,-3.0,-6.0,-7.0,-6.0,-8.0,-6.0,-3.0,-2.0,-1.0,0.0,1.0,1.0,1.0,2.0,1.0,-1.0,-2.0,-2.0,-1.0,-2.0,-2.0,-4.0,-5.0,-5.0,-5.0,-6.0,-7.0,-5.0,-4.0,-5.0,-4.0,-4.0,-3.0,-4.0,-3.0,-3.0,-4.0,-4.0,-5.0,-5.0,-6.0,-7.0,-7.0,-8.0,-9.0,-8.0,-8.0,-10.0,-11.0,-12.0,-12.0,-12.0,-12.0,-13.0,-12.0,-10.0,-7.0,-5.0,-3.0,0.0,1.0,0.0,0.0,-2.0,-3.0,-4.0,-5.0,-5.0,-6.0,-7.0,-7.0,-7.0,-8.0,-7.0,-8.0,-7.0,-6.0,-6.0,-2.0,2.0,3.0,1.0,2.4,7.0,8.0,8.0,8.0,7.0,2.4,3.0,2.0,0.0,0.0,0.0,0.0,0.0,0.0,1.0,10.0,11.0,10.0,10.0,11.0,1.6,4.1,8.0,7.3,6.3,5.9,7.9,9.0,9.0,5.6,4.4,3.7,5.0,3.6,3.0,3.1,3.1,3.0,1.9,2.3,1.9,1.5,1.0,1.7,1.3,1.1,1.5,1.5,2.0,2.5,2.5,2.3,3.8,4.0,2.0,2.0,1.0,0.0,0.0,0.0,0.0,0.0,3.0,0.0,0.0,0.0,5.0,5.0,3.0,2.0,4.0,2.0,0.3,0.4,1.0,1.0,0.0,0.0,0.0,-1.0,0.0,0.0,-1.0,-1.0,-1.0,-2.0,-2.0,-3.0,-3.0,-3.0,-2.0,-2.0,-3.0,-2.0,-2.0,-2.0,-2.0,-2.0,-2.0,-2.0,-3.0,-4.0,-5.0,-6.0,-6.0,-7.0,-8.0,-8.0,-9.0,-10.0,-10.0,-10.0,-11.0,-10.0,-9.0,-6.0,-4.0,-1.0,0.0,1.0,2.0,1.0,0.5,1.0,0.6,3.0,3.0,3.0,3.0,2.0,4.0,4.0,2.0,3.0,3.0,3.0,2.0,1.0,0.0,4.0,5.0,1.0,2.1,2.5,3.3,4.3,4.3,5.2,5.2,6.0,2.7,6.0,6.0,6.0,6.0,6.0,6.0,5.0,6.0,6.0,5.0,6.0,6.0,8.0,1.4,3.1,6.0,5.9,6.7,7.4,8.1,8.0,8.1,5.6,4.5,5.0,3.0,1.2,0.0,-1.0,-1.5,-1.8,-2.0,-2.5,-2.2,-3.0,-3.0,-1.0,0.0,2.0,5.0,7.0,9.0,10.0,10.0,10.0,8.0,7.0,3.5,6.0,4.0,7.0,4.0,6.0,5.0,7.0,7.0,2.0,1.0,0.0,0.0,1.5,6.1,9.0,12.5,13.6,14.8,20.0,20.0,19.0,13.6,11.9,6.0,11.0,11.0,10.0,9.0,7.0,5.0,5.0,5.0,2.0,3.0,3.0,1.0,1.0,6.3,11.0,14.0,15.0,17.0,18.0,18.0,18.0,17.0,13.0,6.2,0.8,11.0,10.0,6.0,5.0,8.0,5.0,3.0,2.0,5.0,5.0,2.0,3.4,8.0,11.0,14.0,12.9,12.8,14.0,11.3,8.5,4.9,3.8,1.9,3.0,3.0,1.0,0.0,0.0,0.0,0.0,0.0,-1.0,-1.0,-1.0,0.0,0.0,1.0,1.0,2.0,0.2,0.5,1.3,0.8,0.6,0.0,1.0,1.0,0.0,1.0,0.0,0.0,-1.0,0.0,-1.0,-1.0,-1.0,-1.0,-1.0,-1.0,1.0,2.0,0.2,1.0,2.3,3.4,4.7,5.7,5.8,5.2,3.3,3.0,2.0,0.0,-1.0,-3.0,-3.0,-3.0,-3.0,-3.0,-3.0,-6.0,-5.0,-5.0,-2.0,0.0,3.1,5.0,7.0,6.8,10.0,8.6,8.2,7.4,4.3,0.0,3.0,3.0,1.0,0.0,0.0,-1.0,-1.0,0.0,0.0,0.0,0.0,0.0,0.0,3.1,10.0,10.2,10.8,11.1,11.8,13.1,12.9,11.1,13.0,6.1,3.3,1.9,1.6,1.3,1.0,0.5,1.1,10.0,10.0,9.0,8.0,0.2,6.1,8.3,10.1,11.1,12.0,13.0,17.0,13.4,12.9,14.0,9.6,11.0,3.9,2.9,2.1,1.8,2.4,2.5,2.3,1.3,1.2,0.8,0.4,0.3,3.3,6.1,6.9,6.8,7.2,7.6,6.7,5.5,6.2,5.8,3.0,4.0,2.0,1.0,0.0,0.0,-1.0,-1.0,-1.0,-3.0,-2.0,-3.0,-3.0,-3.0,0.0,0.8,3.0,4.0,4.8,5.9,6.8,7.0,7.1,5.7,6.0,2.2,3.0,2.0,2.0,1.0,1.0,0.0,-1.0,-1.0,-2.0,-2.0,-2.0,-1.0,1.0,4.0,6.7,9.0,7.9,9.5,12.0,12.0,12.0,10.0,8.0,4.1,1.2,1.4,0.8,4.0,2.0,1.0,0.0,0.0,-1.0,-1.0,-1.0,0.0,1.0,3.0,5.0,8.0,7.6,9.1,12.0,13.0,13.0,12.0,9.0,8.0,1.5,0.9,0.5,7.0,6.0,2.0,2.0,1.0,1.0,1.0,0.0,2.0,3.3,10.0,12.0,15.0,17.0,18.0,18.0,14.6,14.4,17.0,15.0,9.5,4.4,3.8,2.0,0.4,0.1,0.3,5.0,5.0,0.2,0.4,0.2,0.7,8.0,11.0,13.0,15.0,17.0,16.0,16.0,9.6,7.6,6.3,5.7,5.0,2.3,1.3,0.9,0.2,0.2,0.7,0.8,0.5,0.7,0.5,0.2,0.4,2.4,4.4,7.2,8.0,8.1,8.0,8.4,7.8,8.0,7.7,5.3,4.3,6.0,4.0,4.0,5.0,4.0,2.0,2.0,0.0,0.0,0.0,0.0,0.0,2.1,5.0,7.0,10.0,11.0,13.0,15.0,15.0,16.0,14.0,12.0,7.2,2.9,2.2,1.8,1.9,1.4,0.3,0.2,2.0,1.0,1.0,1.0,0.0,4.5,7.0,9.0,10.0,8.6,7.6,6.0,4.4,3.9,2.4,0.4,0.4,1.0,1.0,1.0,1.0,1.0,0.0,0.0,0.0,0.0,0.0,0.0,0.0,2.0,3.0,1.5,3.2,3.1,3.8,6.0,4.2,3.9,3.4,3.0,2.0,2.0,1.0,0.0,0.0,0.0,0.0,0.0,0.0,-1.0,-1.0,-1.0,-1.0,0.7,2.2,4.3,5.4,5.7,6.4,7.1,7.3,7.0,8.0,4.7,6.0,2.4,4.0,4.0,2.0,2.0,1.0,1.0,0.0,0.0,0.0,-1.0,1.0,2.3,7.0,8.0,11.0,13.0,11.7,13.0,13.0,14.0,13.0,12.0,10.0,4.7,3.5,2.9,3.0,2.1,2.1,1.4,0.7,0.9,1.1,1.3,2.9,7.9,11.6,14.1,18.0,16.2,16.7,20.0,21.0,20.0,15.8,14.3,11.3,8.0,8.0,8.0,7.5,7.1,7.2,6.6,6.0,6.4,6.9,5.8,8.0,11.6,12.9,16.0,11.7,11.4,13.2,16.0,11.4,11.4,13.0,12.0,11.0,7.2,6.8,4.6,3.7,2.2,1.4,1.1,3.0,2.0,1.0,1.0,0.7,6.0,8.0,11.0,12.0,15.0,16.0,16.0,16.0,16.0,15.0,14.0,10.0,5.4,4.6,4.3,4.0,2.9,3.0,2.4,4.0,2.0,2.0,1.0,1.3,6.0,7.0,11.0,13.0,15.0,15.0,15.0,10.8,10.0,8.5,7.5,5.6,2.4,1.7,1.5,0.8,0.5,1.2,0.9,0.3,0.5,0.2,0.6,0.8,3.0,4.0,5.0,6.0,6.0,8.0,9.0,5.9,3.8,2.5,2.2,1.0,0.0,0.0,0.0,0.0,0.0,0.0,0.0,0.0,0.0,0.0,0.0,0.0,0.0,1.0,0.8,0.9,1.2,2.5,3.8,5.5,5.7,5.1,5.6,4.7,1.6,3.0,3.0,2.0,2.0,2.0,2.0,1.0,1.0,0.0,0.0,2.0,1.9,3.0,3.9,3.7,5.1,4.6,3.2,1.5,1.0,1.0,1.0,1.0,1.0,1.0,0.0,0.0,0.0,-2.0,-1.0,-1.0,-2.0,-3.0,-2.0,0.0,0.0,0.3,4.0,2.6,3.5,3.6,2.8,2.5,1.2,0.5,0.6,1.0,2.0,1.0,1.0,1.0,0.0,0.0,0.0,0.0,-1.0,-1.0,-1.0,0.0,2.0,3.7,6.0,7.5,10.8,15.0,16.0,16.0,16.0,12.5,10.5,9.6,8.0,7.9,7.0,6.2,5.7,4.6,3.4,0.7,0.0,1.0,0.3,1.0,2.5,4.1,6.1,7.5,10.0,12.0,13.0,10.0,9.0,6.8,0.9,0.2,-0.2,-0.8,-1.2,-1.8,-2.0,-2.0,-2.2,-2.5,-2.5,-1.8,-3.0,-2.0,0.6,2.5,4.4,5.0,5.2,6.9,9.0,9.8,8.0,10.0,9.8,5.0,2.4,1.7,1.2,0.5,0.2,0.2,2.0,1.0,0.0,1.0,0.1,5.0,9.7,10.0,13.0,20.0,21.0,17.4,22.0,22.0,21.0,16.0,14.2,10.5,11.0,13.0,9.4,5.5,3.7,0.8,5.0,2.0,1.0,0.0,0.0,1.0,3.0,1.3,3.1,4.0,4.9,5.8,7.2,7.0,7.0,6.7,4.3,3.1,5.0,4.0,4.0,2.0,0.0,0.0,-1.0,-1.0,-1.0,-1.0,-1.0,0.0,4.1,7.5,8.0,12.0,14.0,15.0,15.0,14.0,13.0,13.0,11.0,9.0,5.8,4.1,4.3,3.2,2.8,3.2,4.1,1.5,1.4,1.6,1.7,4.9,12.0,11.0,15.0,16.0,16.0,16.0,17.0,18.0,16.0,15.0,11.0,9.6,8.7,7.6,6.4,5.7,4.7,4.4,3.9,2.4,1.7,2.0,1.2,1.0,1.5,1.2,-2.0,-2.0,-2.0,-2.0,-2.0,-1.0,-3.0,-3.0,-3.0,-3.0,-4.0,-4.0,-4.0,-4.0,-4.0,-5.0,-5.0,-5.0,-5.0,-5.0,-4.0,-3.0,-1.0,0.7,2.8,4.5,5.9,7.0,8.0,8.0,9.0,9.0,8.0,8.0,7.0,7.0,8.0,7.3,6.3,5.8,6.6,4.2,4.9,5.6,5.3,5.6,11.0,11.0,10.6,14.0,11.9,15.0,16.0,13.0,13.0,12.0,9.0,7.4,6.8,8.0,5.6,3.5,1.8,0.5,5.0,0.8,1.9,1.0,0.8,0.5,2.2,3.3,7.0,8.0,8.0,10.0,8.9,9.8,9.8,8.1,6.5,4.1,1.5,1.0,1.1,1.0,0.0,4.0,4.0,3.0,3.0,5.0,2.0,3.0,8.0,10.0,12.0,16.0,18.0,20.0,21.0,20.0,20.0,20.0,19.0,18.0,10.1,7.6,6.4,5.8,5.9,6.1,6.6,5.8,5.7,5.4,5.2,8.1,14.1,20.0,20.0,22.0,23.0,23.0,24.0,25.0,25.0,23.0,22.0,20.0,9.9,7.6,5.9,5.5,5.4,5.3,3.9,3.7,3.6,3.8,4.2,8.0,10.0,10.0,12.0,15.0,18.0,17.9,23.0,19.2,23.0,21.0,17.0,15.0,7.8,6.7,4.9,3.0,3.1,2.2,0.7,0.3,0.3,0.6,0.7,1.2,2.2,3.1,3.5,4.4,4.5,4.7,4.7,3.2,3.3,2.7,1.9,1.6,0.3,3.0,1.0,1.0,1.0,2.0,1.0,1.0,1.0,0.0,1.0,0.7,3.5,7.0,7.0,7.5,8.5,10.0,14.0,13.0,10.1,9.0,7.6,4.8,5.2,4.7,2.0,1.9,2.0,2.0,2.0,0.4,0.0,1.0,1.0,3.0,7.0,10.0,11.0,13.0,14.0,15.0,16.0,15.0,15.0,15.0,14.0,9.3,6.9,9.0,6.0,4.2,3.4,3.0,1.7,2.0,2.0,1.0,3.0,3.0,8.1,11.6,11.0,13.0,15.0,18.0,18.0,18.0,18.0,17.0,16.0,15.0,9.4,9.4,11.0,11.0,8.0,7.0,7.0,6.8,6.3,6.2,5.6,10.1,18.0,20.0,20.0,20.0,17.0,10.0,8.7,6.9,5.7,5.2,5.2,3.7,1.0,5.0,3.0,3.0,0.1,4.0,4.0,3.0,2.0,2.0,2.0,0.7,4.0,5.2,6.6,7.3,8.3,9.4,13.0,13.0,10.2,9.4,8.1,7.0,2.1,0.9,6.0,0.1,3.0,3.0,1.3,0.2,0.2,0.0,1.0,3.0,5.0,7.0,8.0,10.0,12.0,13.0,15.0,15.0,15.0,15.0,14.0,13.0,7.7,9.0,8.0,7.0,5.4,4.2,4.1,1.8,2.3,2.4,2.8,6.0,7.0,7.0,7.0,8.0,9.0,9.0,10.0,5.1,3.2,3.3,3.2,2.5,1.3,1.1,0.7,0.4,0.0,0.0,1.0,1.0,1.0,0.0,0.0,0.1,1.4,1.4,1.5,0.5,0.4,0.3,1.2,3.3,3.4,3.4,3.0,2.0,0.8,0.1,0.6,2.0,1.0,0.0,2.0,0.0,0.0,0.0,1.0,1.1,6.0,9.0,12.0,14.0,12.4,17.0,17.0,17.0,17.0,17.0,16.0,14.0,8.4,7.6,5.1,4.9,3.8,3.3,2.4,1.6,1.5,1.2,1.7,5.5,10.0,13.0,15.0,16.0,18.0,16.0,18.0,22.0,20.0,15.7,18.0,14.0,8.8,8.0,6.0,5.0,3.0,3.0,2.0,1.0,0.7,0.4,0.2,0.5,1.4,1.5,1.7,1.7,1.0,2.0,3.0,2.1,2.0,2.1,1.6,1.5,0.2,0.4,0.3,0.6,0.3,2.0,1.0,0.0,0.0,0.0,1.0,2.0,5.0,7.0,10.0,12.0,14.0,16.0,17.0,18.0,19.0,19.0,17.0,10.7,5.4,4.8,3.2,2.8,2.4,2.8,4.0,5.1,4.1,3.1,3.4,5.8,7.5,10.0,11.0,12.0,10.3,10.8,12.0,15.0,15.0,12.0,10.6,12.0,4.1,2.4,1.0,0.2,6.0,6.0,5.0,5.0,3.0,4.0,0.8,6.3,12.0,16.0,18.0,19.0,20.0,21.0,21.0,21.0,21.0,21.0,20.0,17.0,8.6,7.2,6.3,4.9,4.2,3.3,2.1,1.9,1.6,1.8,2.8,9.0,11.0,13.0,16.0,18.0,19.0,19.0,21.0,22.0,21.0,22.0,21.0,14.8,12.1,11.5,10.2,9.6,9.5,10.0,12.0,6.1,6.2,6.4,7.9,12.0,17.0,22.0,24.0,24.0,25.0,26.0,26.0,25.0,24.0,23.0,22.0,16.0,11.8,11.3,8.9,7.8,6.0,4.9,4.1,5.0,5.3,5.0,6.1,9.4,15.0,16.0,16.0,17.0,18.0,18.0,20.0,19.0,20.0,19.0,11.3,8.5,6.3,5.6,5.0,4.6,4.1,3.7,3.6,3.6,3.8,5.4,3.9,4.3,9.8,11.0,11.8,11.9,13.0,13.5,18.0,12.4,12.5,11.6,12.0,8.1,6.2,5.4,3.5,1.8,1.5,2.6,1.8,2.7,2.0,2.0,2.4,3.9,8.0,8.2,9.4,9.4,10.2,10.1,10.5,10.4,10.2,12.0,12.0,8.0,5.8,5.2,5.0,4.5,3.8,3.5,3.2,1.2,2.0,1.8,1.6,3.0,4.1,4.1,5.0,6.0,5.7,7.6,11.0,13.0,13.0,13.0,12.0,7.0,3.1,2.5,1.3,0.7,5.0,5.0,4.0,3.0,3.0,3.0,1.1,5.5,11.0,15.0,17.0,18.0,18.0,20.0,20.0,21.0,21.0,21.0,21.0,14.1,9.3,8.1,5.5,5.5,4.8,4.4,2.9,3.3,3.7,4.0,5.1,13.0,16.0,19.0,21.0,22.0,23.0,25.0,25.0,25.0,25.0,25.0,23.0,15.6,12.2,10.9,9.9,8.5,7.6,6.7,5.4,5.4,5.7,6.0,7.6,15.0,17.0,20.0,23.0,26.0,28.0,30.0,27.0,28.0,22.2,25.0,23.0,21.0,15.1,13.7,12.0,11.3,10.6,9.4,8.6,9.6,9.7,9.9,11.1,13.6,20.0,17.3,22.0,23.0,25.0,25.0,25.0,20.8,16.0,17.0,16.0,12.3,9.5,8.1,8.0,7.3,7.2,7.2,6.6,6.8,6.8,6.6,8.0,13.0,17.0,17.0,18.0,20.0,19.0,18.0,16.0,10.9,12.0,13.0,12.0,12.0,11.0,11.0,10.0,11.0,11.0,10.0,10.0,10.0,10.0,10.0,10.0,8.7,12.0,13.0,11.8,12.8,12.4,12.5,16.0,15.0,13.3,13.1,12.7,15.0,13.0,13.0,8.8,9.5,12.0,8.9,8.8,6.7,6.3,6.3,7.5,10.0,11.0,11.0,11.0,10.0,11.0,11.0,11.0,8.6,10.0,10.0,9.0,7.0,6.3,6.6,6.6,8.0,6.3,6.1,5.6,7.0,5.3,5.6,6.3,8.0,11.0,11.0,12.0,14.0,16.0,15.0,17.0,17.0,18.0,17.0,17.0,11.7,8.3,8.5,6.7,6.0,5.2,4.6,4.1,4.6,4.3,4.0,5.3,11.0,13.0,17.0,18.0,21.0,22.0,25.0,25.0,26.0,26.0,25.0,23.0,21.0,13.4,12.3,11.2,10.0,8.5,7.7,6.9,6.9,6.7,6.5,7.6,15.0,17.0,20.0,23.0,25.0,27.0,28.0,28.0,27.0,28.0,28.0,23.0,23.0,15.3,14.7,11.9,10.9,11.6,10.8,9.0,8.6,7.4,7.2,8.5,15.0,16.0,17.0,18.0,18.0,20.0,21.0,22.0,22.0,21.0,20.0,20.0,18.0,13.4,13.1,11.7,10.3,9.2,8.4,6.6,6.4,6.6,6.9,7.6,12.0,14.0,15.0,18.0,21.0,22.0,24.0,24.0,24.0,22.0,23.0,21.0,20.0,14.1,13.4,12.7,11.3,9.9,9.3,7.8,6.3,6.2,6.3,6.8,13.0,16.0,18.0,20.0,21.0,19.0,15.0,15.0,13.0,12.0,9.4,9.3,11.0,7.7,9.0,6.6,8.0,6.0,5.0,4.1,4.1,3.5,3.9,5.0,11.0,16.0,17.0,18.0,20.0,20.0,17.1,20.0,18.0,15.0,11.1,9.6,7.0,4.5,4.4,5.0,4.0,4.0,3.0,3.0,0.7,0.1,0.1,2.0,1.0,0.0,0.0,0.4,0.2,0.1,1.0,1.0,1.0,1.0,1.0,0.0,1.0,0.0,1.0,1.0,1.0,1.0,1.0,1.0,1.0,1.0,1.0,1.0,0.6,1.5,1.7,2.0,1.9,1.5,1.5,1.8,1.7,1.6,1.6,1.5,1.3,1.0,1.1,1.4,0.0,2.0,0.3,1.0,1.0,0.0,1.0,3.0,1.2,6.3,7.0,10.0,8.8,10.8,11.7,15.0,15.0,16.0,12.4,14.0,9.5,6.5,5.5,5.3,4.8,3.8,2.2,0.7,2.1,1.6,1.9,3.4,6.8,12.0,15.0,16.0,13.4,13.9,17.0,14.3,13.0,13.0,13.0,12.0,10.0,9.0,6.6,6.4,6.0,5.5,5.0,3.9,3.0,2.7,2.9,3.9,7.2,13.0,11.5,17.0,18.0,17.0,14.9,17.0,14.0,9.0,7.0,7.0,7.0,4.7,4.8,3.6,2.5,1.9,1.2,0.9,0.3,0.9,1.0,2.0,3.9,8.4,9.8,14.0,11.7,15.0,16.0,15.0,16.0,16.0,13.4,12.7,9.9,7.7,5.9,5.4,4.8,3.2,2.8,1.4,2.2,2.4,3.0,4.6,8.6,13.0,16.0,21.0,25.0,26.0,27.0,27.0,28.0,28.0,28.0,26.0,22.0,14.5,13.1,11.8,10.8,10.2,10.4,9.8,10.2,10.4,9.5,10.6,14.1,20.0,18.0,18.0,21.0,17.0,18.0,20.0,17.0,19.0,17.0,15.0,12.0,11.0,8.3,8.5,10.0,8.0,8.0,8.0,6.3,7.0,7.0,8.0,7.7,10.0,11.0,11.0,11.0,13.8,13.3,12.8,14.2,13.8,14.9,15.3,13.7,10.3,9.9,9.5,8.6,8.1,7.2,7.0,6.5,5.9,5.8,7.2,9.3,11.6,10.5,9.4,9.9,9.2,8.1,9.4,9.8,10.3,10.5,10.4,9.9,6.1,5.6,4.0,3.4,2.8,2.6,2.5,2.9,2.9,2.8,3.8,8.5,13.4,14.6,15.6,16.2,16.7,17.2,17.8,17.1,17.1,16.5,15.8,13.0,10.1,9.1,7.9,6.8,7.0,7.2,5.2,4.8,4.6,4.7,6.1,10.0,15.0,17.0,18.0,19.0,17.0,17.0,16.0,18.0,18.0,17.0,17.0,12.1,8.7,8.6,7.2,6.1,5.4,4.7,3.7,5.4,5.4,5.5,7.3,14.0,16.0,17.0,20.0,21.0,22.0,22.0,23.0,22.0,23.0,23.0,22.0,20.0,12.4,11.9,11.6,10.5,9.2,7.2,4.7,5.6,5.7,5.7,7.9,16.0,18.0,20.0,22.0,23.0,24.0,25.0,26.0,26.0,25.0,20.2,19.0,17.8,15.3,13.1,11.0,9.2,8.1,7.5,7.0,7.2,9.5,12.1,8.7,16.0,17.0,20.0,21.0,23.0,25.0,24.0,23.0,21.0,18.7,24.0,23.0,21.0,13.2,12.3,11.8,10.8,9.7,9.2,8.6,8.5,9.2,9.6,10.9,17.0,20.0,20.0,21.0,22.0,22.0,22.0,19.0,18.0,16.6,21.0,20.0,17.0,11.4,10.5,10.0,9.7,9.1,8.5,7.1,7.0,9.0,7.6,8.9,13.3,20.0,20.0,21.0,22.0,23.0,23.0,23.0,24.0,23.0,25.0,23.0,21.0,18.0,17.0,16.0,16.0,10.9,10.5,8.6,7.9,7.5,7.6,8.4,16.0,18.0,20.0,21.0,23.0,24.0,25.0,26.0,27.0,27.0,27.0,25.0,22.0,16.4,14.3,14.1,16.0,12.8,11.6,10.2,10.0,9.8,9.5,11.6,18.0,20.0,22.0,25.0,23.0,22.0,24.0,20.8,23.0,19.1,19.5,19.8,22.0,14.5,17.0,13.1,15.0,15.0,15.0,14.0,10.0,9.8,11.0,13.4,14.6,21.0,21.0,21.0,23.0,22.0,21.0,23.0,23.0,18.0,17.4,22.0,19.0,18.0,13.9,17.0,18.0,16.0,15.0,15.0,12.0,13.0,13.0,11.9,17.0,19.0,21.0,22.0,23.0,24.0,22.0,25.0,18.7,20.0,20.8,25.0,22.0,16.7,17.0,16.0,15.0,11.9,11.4,13.0,11.0,12.0,11.0,11.7,16.0,18.0,19.0,21.0,23.0,25.0,25.0,26.0,25.0,25.0,25.0,23.0,22.0,21.0,16.6,20.0,18.0,16.0,12.1,11.0,13.0,12.0,13.0,16.0,19.0,23.0,26.0,30.0,32.0,31.0,32.0,32.0,32.0,33.0,32.0,31.0,28.0,24.0,18.9,17.6,16.0,14.6,14.8,13.8,13.6,16.0,16.0,20.0,24.0,28.0,30.0,31.0,32.0,31.0,31.0,32.0,32.0,29.0,27.0,26.0,25.0,23.0,17.2,14.5,12.2,11.8,11.8,15.0,15.0,16.0,13.4,18.0,17.0,17.0,20.0,20.0,21.0,23.0,23.0,24.0,24.0,25.0,23.0,23.0,22.0,21.0,15.6,14.4,14.1,14.2,13.1,11.7,12.1,12.1,13.3,14.1,20.0,21.0,23.0,24.0,26.0,26.0,28.0,30.0,30.0,28.0,28.0,31.0,23.7,19.0,17.1,15.5,13.4,12.9,13.0,9.5,8.1,7.6,7.9,10.4,12.2,18.0,18.0,20.0,20.0,22.0,24.0,26.0,25.0,25.0,23.0,24.0,22.0,20.0,14.7,13.7,13.6,12.7,10.8,10.5,9.0,9.1,9.6,10.8,14.5,22.0,24.0,26.0,27.0,28.0,28.0,30.0,30.0,30.0,30.0,22.3,24.0,17.2,13.7,13.5,10.6,10.4,10.1,9.8,9.1,8.4,8.8,11.3,21.0,22.0,23.0,25.0,28.0,30.0,30.0,29.0,29.0,29.0,27.0,26.0,25.0,23.0,17.0,15.5,15.0,13.1,11.8,10.6,9.3,9.1,9.4,11.9,23.0,27.0,28.0,30.0,28.0,30.0,30.0,32.0,33.0,33.0,31.0,32.0,28.0,19.7,19.2,22.0,16.9,16.2,15.9,15.5,14.1,14.9,14.5,15.2,20.0,22.0,22.0,21.0,23.0,24.0,26.0,25.0,21.0,20.0,20.0,18.0,18.0,17.0,17.0,16.0,16.0,12.2,11.8,10.8,11.2,11.2,10.5,11.6,14.1,20.0,21.0,21.0,23.0,25.0,26.0,27.0,28.0,28.0,28.0,27.0,25.0,23.0,21.0,19.0,18.0,17.0,16.0,16.0,15.0,15.0,10.9,12.9,18.0,20.0,21.0,23.0,25.0,26.0,27.0,28.0,28.0,28.0,28.0,27.0,24.0,18.2,21.0,16.5,20.0,14.8,13.6,13.0,11.9,15.0,15.0,14.2,21.0,24.0,27.0,30.0,33.0,34.0,36.0,35.0,33.0,32.0,34.0,32.0,29.0,21.6,19.3,18.4,24.0,18.8,21.0,19.0,16.8,16.7,15.9,17.0,21.3,30.0,31.0,32.0,33.0,36.0,33.0,35.0,36.0,36.0,32.0,30.0,31.0,29.0,20.6,19.4,18.1,17.2,18.2,17.8,16.2,16.6,16.6,17.6,25.0,30.0,32.0,32.0,30.0,30.0,27.0,25.0,23.0,23.0,23.0,22.0,22.0,21.0,19.0,18.0,18.0,14.7,14.1,12.3,11.3,10.9,10.0,10.0,10.0,11.0,11.0,11.0,11.0,12.0,12.0,13.0,15.0,15.0,16.0,16.0,15.0,13.0,13.0,10.1,12.0,12.0,12.0,10.0,9.0,10.0,10.0,11.0,13.0,14.0,15.0,17.0,18.0,19.0,21.0,22.0,23.0,22.0,23.0,21.0,20.0,15.1,14.4,14.0,13.1,12.7,11.7,9.8,13.0,12.0,9.3,9.9,15.0,15.0,16.0,16.0,16.0,17.0,18.0,19.0,21.0,21.0,21.0,21.0,19.0,17.0,14.1,17.0,11.9,12.0,11.8,12.0,12.0,13.0,13.0,14.0,17.0,18.0,21.0,23.0,25.0,26.0,28.0,29.0,30.0,30.0,29.0,27.0,26.0,24.0,21.0,20.0,18.0,14.0,17.0,16.0,14.0,13.0,15.0,16.0,18.0,20.0,21.0,23.0,31.0,35.0,33.0,35.0,35.0,35.0,33.0,32.0,30.0,23.0,22.0,15.2,12.9,12.1,11.9,11.6,10.5,11.4,11.9,17.0,19.0,23.0,25.0,26.0,27.0,27.0,30.0,30.0,31.0,31.0,28.0,28.0,26.0,23.0,22.0,20.0,15.8,15.2,13.2,11.9,10.3,10.9,10.8,12.0,15.8,22.0,23.0,26.0,27.0,28.0,27.0,26.0,27.0,25.0,26.0,23.0,21.0,14.1,12.6,11.7,11.9,13.0,9.5,9.5,9.8,9.8,13.0,10.4,13.0,13.0,15.0,16.0,18.0,18.0,18.0,21.0,22.0,22.0,23.0,16.9,14.4,12.3,12.5,12.6,12.8,12.5,11.7,11.3,11.3,13.2,15.0,12.8,18.0,18.0,19.0,20.0,22.0,23.0,26.0,25.0,26.0,25.0,25.0,25.0,22.0,21.0,20.0,18.0,17.0,13.5,16.0,11.5,11.5,10.9,12.0,16.0,18.0,19.0,21.0,23.0,25.0,26.0,27.0,27.0,28.0,28.0,27.0,26.0,24.0,22.0,21.0,20.0,15.5,13.2,12.0,11.0,9.8,9.6,9.6,12.1,20.0,21.0,24.0,26.0,27.0,28.0,30.0,31.0,30.0,31.0,30.0,27.0,23.0,23.0,18.2,16.1,15.6,14.8,15.0,14.9,13.8,14.2,14.4,14.9,23.0,26.0,29.0,30.0,31.0,32.0,32.0,32.0,27.0,26.0,27.0,26.0,26.0,20.5,24.0,22.0,21.0,20.0,20.0,19.0,15.3,15.5,20.0,20.0,22.0,25.0,25.0,27.0,30.0,28.0,28.0,28.0,28.0,25.0,24.0,24.0,23.0,22.0,22.0,22.0,18.0,18.0,18.0,21.0,16.2,16.5,16.4,16.6,20.4,26.0,28.0,31.0,31.0,33.0,33.0,29.0,28.0,28.0,28.0,27.0,26.0,18.5,22.0,23.0,16.4,16.2,15.1,14.7,12.9,13.9,14.2,15.3,22.0,22.0,25.0,27.0,28.0,30.0,30.0,32.0,24.6,27.0,30.0,29.0,26.0,19.5,22.0,21.0,16.5,15.1,15.0,15.3,14.3,14.2,17.0,19.0,22.0,23.0,26.0,28.0,32.0,35.0,34.0,31.0,33.0,32.0,32.0,32.0,31.0,27.0,18.8,19.0,17.7,16.9,21.0,17.0,14.1,13.8,14.1,16.4,26.0,27.0,31.0,32.0,34.0,34.0,35.0,34.0,32.0,34.0,32.0,30.0,27.0,26.0,23.0,23.0,21.0,21.0,20.0,19.0,13.7,14.0,17.0,15.2,21.0,23.0,24.0,25.0,27.0,27.0,30.0,31.0,33.0,33.0,25.5,31.0,28.0,19.8,19.0,17.1,20.0,15.7,15.2,14.5,12.6,12.9,12.6,14.9,22.0,23.0,26.0,28.0,31.0,33.0,35.0,37.0,37.0,37.0,35.0,32.0,30.0,22.9,25.0,19.2,18.3,17.7,17.1,16.6,16.5,16.9,17.0,17.5,23.0,26.0,28.0,31.0,32.0,33.0,31.0,21.0,20.0,23.0,24.0,22.0,22.0,21.0,21.0,20.0,20.0,21.0,21.0,20.0,15.4,19.0,15.1,15.8,21.0,23.0,26.0,28.0,29.0,29.0,25.0,22.0,22.0,21.0,19.0,20.0,20.0,19.0,19.0,18.0,18.0,17.0,17.0,17.0,17.0,17.0,15.0,17.0,20.0,22.0,24.0,22.0,22.0,22.0,25.0,26.0,26.0,25.0,25.0,25.0,23.0,16.6,16.5,16.7,16.6,20.0,19.0,18.0,18.0,18.0,18.0,19.0,20.0,21.0,22.0,24.0,19.4,23.0,22.0,23.0,22.0,23.0,23.0,24.0,22.0,16.7,20.0,18.0,18.0,16.0,15.0,15.0,11.0,13.0,11.2,12.4,18.0,20.0,21.0,23.0,25.0,26.0,27.0,28.0,29.0,30.0,28.0,26.0,25.0,18.3,21.0,20.0,18.0,17.0,17.0,16.0,11.4,11.5,15.0,17.0,18.0,20.0,22.0,24.0,26.0,27.0,29.0,30.0,31.0,31.0,31.0,30.0,28.0,26.0,25.0,22.0,17.5,21.0,21.0,16.1,19.0,18.0,17.0,20.0,23.0,25.0,27.0,29.0,31.0,33.0,26.0,28.0,23.0,25.0,26.0,24.0,23.0,22.0,23.0,23.0,22.0,21.0,20.0,20.0,19.0,15.2,19.0,16.0,17.9,26.0,21.1,26.0,27.0,27.0,27.0,27.0,20.6,26.0,25.0,25.0,23.0,17.0,16.7,15.4,18.0,18.0,14.3,16.0,11.9,12.2,12.4,17.0,21.0,22.0,25.0,27.0,27.0,31.0,30.0,31.0,29.0,29.0,28.0,22.0,20.0,20.0,15.3,15.5,15.0,18.0,12.2,12.4,15.0,15.0,15.0,16.0,18.0,21.0,21.0,22.0,24.0,26.0,27.0,28.0,30.0,31.0,31.0,30.0,28.0,20.5,19.6,18.9,17.7,17.5,20.0,18.0,18.0,14.7,18.0,15.4,18.8,25.0,27.0,28.0,30.0,32.0,33.0,34.0,34.0,34.0,33.0,32.0,29.0,21.0,20.2,22.0,16.6,16.0,15.6,14.6,14.3,15.0,19.0,15.8,22.0,23.0,25.0,26.0,27.0,29.0,31.0,31.0,32.0,32.0,31.0,29.0,26.0,25.0,23.0,21.0,21.0,21.0,21.0,20.0,19.0,15.6,18.0,18.0,21.0,22.0,24.0,25.0,26.0,27.0,26.0,26.0,26.0,26.0,25.0,26.0,25.0,23.0,19.0,17.0,16.0,16.0,15.0,16.0,15.0,15.0,15.0,16.0,16.0,18.0,21.0,23.0,25.0,24.0,23.7,17.0,20.0,22.0,21.4,20.8,20.2,19.6,19.0,19.0,18.0,14.4,13.9,17.0,12.2,11.9,11.8,12.6,18.0,20.0,22.0,23.0,25.0,26.0,26.0,26.0,26.0,27.0,28.0,27.0,21.0,18.0,18.0,17.0,16.0,16.0,15.0,15.0,14.0,13.0,12.0,15.0,17.0,18.0,21.0,22.0,23.0,23.0,22.0,22.0,23.0,23.0,22.0,20.0,18.0,17.0,17.0,16.0,16.0,15.0,16.0,16.0,15.0,16.0,15.0,15.0,15.0,15.0,16.0,17.0,17.0,17.0,17.0,18.0,21.0,22.0,22.0,21.0,20.0,18.0,18.0,17.0,16.0,16.0,15.0,16.0,15.0,15.0,15.0,15.0,16.0,16.0,17.0,17.0,18.0,18.0,18.0,18.0,20.0,22.0,22.0,22.0,21.0,18.0,18.0,17.0,13.6,17.0,16.0,16.0,9.6,9.4,9.2,9.6,18.0,21.0,23.0,25.0,28.0,29.0,30.0,31.0,30.0,29.0,28.0,26.0,21.0,21.0,21.0,18.0,18.0,18.0,16.0,14.4,12.9,15.0,16.0,13.6,20.0,22.0,25.0,27.0,27.0,30.0,32.0,32.0,32.0,31.0,28.0,22.5,21.2,20.0,19.8,18.7,17.8,17.0,16.3,16.3,16.7,18.0,19.2,18.0,20.0,22.0,25.0,26.0,28.0,26.0,27.0,25.0,24.0,25.0,26.0,25.0,24.0,16.9,20.0,18.0,18.0,18.0,17.0,18.0,17.0,16.0,16.0,18.0,20.0,23.0,25.0,27.0,28.0,29.0,30.0,29.0,23.0,28.0,27.0,25.0,23.0,23.0,22.0,19.0,21.0,20.0,18.0,18.0,13.3,13.5,15.0,18.0,21.0,22.0,25.0,27.0,30.0,32.0,33.0,33.0,35.0,35.0,32.0,32.0,29.0,27.0,20.2,24.0,17.8,17.2,17.0,17.5,18.0,18.0,18.0,20.0,23.0,25.0,27.0,30.0,31.0,28.0,30.0,31.0,30.0,28.0,29.0,28.0,28.0,20.4,19.8,19.2,19.5,18.8,17.4,20.0,15.3,15.4,19.0,15.4,22.0,23.0,26.0,28.0,30.0,28.0,31.0,25.0,26.0,28.0,25.0,25.0,23.0,22.0,21.0,20.0,20.0,17.0,15.1,17.0,12.9,12.9,13.3,14.2,21.0,23.0,26.0,28.0,31.0,33.0,33.0,32.0,32.0,35.0,32.0,30.0,27.0,26.0,24.0,23.0,21.0,17.3,17.2,16.3,14.1,18.0,17.0,15.8,22.0,23.0,24.0,26.0,27.0,28.0,29.0,31.0,30.0,28.0,28.0,27.0,26.0,20.0,20.0,21.0,19.0,18.0,18.0,18.0,18.0,18.0,18.0,18.0,20.0,21.0,23.0,25.0,26.0,25.0,25.0,26.0,23.0,21.0,22.0,21.0,21.0,19.0,19.0,19.0,18.0,15.1,15.4,18.0,17.0,17.0,16.0,18.0,20.0,22.0,25.0,28.0,30.0,32.0,32.0,34.0,33.0,32.0,31.0,29.0,21.3,23.0,18.3,21.0,17.8,17.3,16.2,14.9,15.7,15.5,15.5,15.9,23.0,23.0,23.0,27.0,27.0,28.0,29.0,28.0,28.0,27.0,26.0,25.0,25.0,18.2,23.0,17.6,20.0,18.0,15.7,18.0,19.0,18.0,17.0,18.0,18.0,20.0,22.0,25.0,25.0,24.0,23.0,24.0,25.0,25.0,21.0,25.0,23.0,16.4,20.0,15.5,18.0,13.9,12.7,12.0,12.9,13.3,13.6,17.0,16.8,23.0,24.8,26.6,28.4,30.2,32.0,32.0,33.0,31.0,30.0,28.0,25.0,18.1,21.0,15.9,14.8,13.3,13.3,16.0,11.9,11.7,11.6,12.2,20.0,22.0,25.0,27.0,29.0,31.0,29.0,29.0,31.0,31.0,30.0,26.0,24.0,22.0,21.0,15.7,15.2,17.0,17.0,16.0,12.0,12.2,14.0,15.0,17.0,19.0,22.0,24.0,26.0,27.0,30.0,30.0,30.0,31.0,29.0,28.0,25.0,22.0,22.0,20.0,15.3,13.9,17.0,13.2,15.0,15.0,14.0,12.9,16.8,28.0,28.0,29.0,32.0,32.0,34.0,34.0,34.0,33.0,33.0,32.0,28.0,25.0,17.5,20.0,15.6,18.0,14.4,13.6,17.0,14.0,15.0,16.0,17.0,19.0,21.0,22.0,24.0,25.0,26.0,26.0,26.0,30.0,22.9,26.0,25.0,18.2,18.4,16.8,16.6,16.2,15.8,15.5,13.5,16.0,16.0,13.3,18.0,22.0,26.0,30.0,25.2,30.0,30.0,27.0,26.0,24.6,29.0,23.2,25.0,18.0,16.3,15.0,14.3,13.8,13.4,13.7,10.2,9.9,10.5,10.9,15.0,16.0,17.0,20.0,22.0,25.0,26.0,29.0,30.0,30.0,28.0,27.0,25.0,23.0,18.7,16.9,15.6,14.0,12.8,11.9,11.9,11.9,11.8,12.3,17.6,27.0,30.0,33.0,33.0,35.0,36.0,36.0,35.0,34.0,33.0,30.0,28.0,21.0,19.1,17.5,15.9,15.3,14.4,17.0,14.1,14.3,14.0,18.0,21.0,25.0,30.0,32.0,35.0,36.0,36.0,36.0,36.0,36.0,25.0,27.0,26.0,25.0,23.0,23.0,20.0,16.8,16.0,14.9,12.5,12.6,12.8,13.4,20.0,21.0,21.0,24.0,26.0,26.0,26.0,26.0,26.0,24.0,23.0,22.0,22.0,18.2,20.0,18.0,17.0,14.1,17.0,13.0,11.0,11.1,11.4,11.9,17.0,18.0,22.0,23.0,26.0,28.0,28.0,28.0,29.0,31.0,29.0,27.0,24.0,22.0,20.0,20.0,16.6,16.0,16.2,15.9,15.5,17.0,18.0,18.0,19.0,22.0,23.0,25.0,27.0,26.0,28.0,30.0,29.0,23.0,22.4,25.0,18.9,16.0,15.5,14.7,17.0,12.7,11.4,10.9,10.6,9.6,9.8,10.6,16.0,18.0,20.0,23.0,25.0,27.0,29.0,30.0,31.0,30.0,27.0,27.0,24.0,21.0,16.4,15.8,18.0,17.0,16.0,16.0,16.0,15.0,17.0,14.5,17.5,29.0,31.0,32.0,33.0,34.0,35.0,36.0,35.0,35.0,35.0,32.0,30.0,20.9,19.7,18.9,18.7,22.0,21.0,21.0,12.0,12.5,11.9,12.3,14.1,20.0,21.0,21.0,22.0,23.0,23.0,24.0,25.0,25.0,24.0,23.0,21.0,15.7,18.0,18.0,14.1,13.5,16.0,11.7,14.0,10.9,10.3,10.0,12.5,17.0,18.0,20.0,21.0,22.0,23.0,23.0,23.0,24.0,23.0,22.0,20.0,14.3,17.0,15.0,15.0,14.0,10.8,10.2,9.3,9.5,9.0,9.2,16.0,19.0,23.0,26.0,31.0,31.0,33.0,33.0,33.0,33.0,32.0,29.0,25.0,21.0,16.7,13.9,13.4,13.2,12.9,12.2,11.5,11.7,12.0,11.9,17.1,30.0,30.0,30.0,30.0,30.0,31.0,31.0,30.0,28.0,26.0,25.0,22.0,20.0,20.0,18.0,17.0,16.0,16.0,15.0,14.0,15.0,14.0,13.0,16.0,17.0,19.0,20.0,21.0,24.0,25.0,27.0,27.0,27.0,28.0,26.0,20.8,17.9,17.2,18.0,18.0,13.9,17.0,12.8,12.5,12.4,15.0,15.0,18.0,20.0,22.0,25.0,28.0,29.0,29.0,31.0,31.0,31.0,30.0,23.0,21.5,20.3,18.0,16.4,13.8,11.7,11.3,11.1,11.1,11.9,14.1,10.9,14.5,20.0,23.0,23.0,25.0,26.0,25.0,27.0,26.0,26.0,26.0,24.0,23.0,16.1,18.0,17.0,17.0,12.7,15.0,13.0,9.1,9.3,9.4,9.7,16.0,18.0,21.0,21.0,22.0,23.0,25.0,26.0,25.0,26.0,23.0,22.0,20.0,15.1,18.0,17.0,15.0,12.5,12.5,12.8,15.0,15.0,15.0,12.7,17.0,19.0,21.0,21.0,22.0,25.0,25.0,26.0,27.0,27.0,25.0,22.0,21.0,19.0,14.8,14.2,16.0,11.6,10.6,10.2,9.9,13.0,13.0,12.0,16.0,18.0,22.0,23.0,25.0,26.0,26.0,27.0,26.0,25.0,23.0,22.0,21.0,15.9,14.4,13.8,14.1,13.0,15.0,14.0,14.0,13.0,11.2,13.0,13.0,15.0,16.0,17.0,18.0,19.0,18.0,17.0,17.0,16.0,16.0,16.0,16.0,15.0,16.0,12.1,15.0,14.0,13.0,12.0,12.0,12.0,11.0,11.0,13.0,14.0,16.0,18.0,20.0,21.0,20.0,18.0,17.0,20.0,20.0,18.0,16.0,16.0,15.0,11.6,10.6,9.8,8.7,7.8,8.4,8.5,8.5,8.5,11.5,17.0,18.0,20.0,21.0,22.0,23.0,23.0,23.0,23.0,22.0,21.0,18.0,13.7,13.4,12.5,15.0,11.3,10.4,9.3,8.9,11.0,8.7,8.7,12.0,12.0,17.0,19.0,22.0,23.0,25.0,26.0,26.0,24.0,25.0,22.0,21.0,21.0,16.5,16.1,13.6,14.2,14.1,12.4,12.5,12.1,11.9,11.9,16.0,21.0,22.0,26.0,29.0,30.0,30.0,28.0,30.0,28.0,28.0,25.0,22.0,16.2,14.6,13.2,12.6,12.6,11.9,11.2,10.3,9.9,9.8,10.1,12.9,20.0,23.0,25.0,27.0,28.0,31.0,32.0,32.0,30.0,28.0,26.0,23.0,21.0,21.0,13.8,11.1,11.1,11.6,11.6,12.3,13.1,12.9,13.3,16.0,21.4,26.2,28.0,28.3,28.1,28.0,28.3,27.3,27.5,25.8,23.7,20.1,16.9,15.9,14.7,13.9,12.2,11.6,11.4,10.6,10.6,11.0,10.4,14.9,23.0,26.0,31.0,32.0,32.0,33.0,33.0,33.0,33.0,32.0,27.0,24.0,18.7,15.5,14.7,13.7,13.3,13.0,13.4,13.2,13.4,12.9,12.7,14.5,27.0,29.0,31.0,31.0,32.0,33.0,33.0,33.0,34.0,32.0,27.0,25.0,17.4,17.4,15.5,13.8,13.0,12.4,11.9,11.9,11.9,13.0,11.1,14.1,23.0,28.0,30.0,31.0,31.0,33.0,33.0,33.0,32.0,31.0,26.0,23.0,22.0,16.2,19.0,14.5,12.0,10.1,9.9,9.4,9.4,10.0,9.6,16.0,20.0,25.0,27.0,29.0,30.0,31.0,32.0,32.0,32.0,31.0,28.0,25.0,23.0,23.0,20.0,19.0,16.0,14.0,11.7,10.3,10.7,10.7,11.1,18.0,23.0,26.0,28.0,29.7,31.3,33.0,32.0,33.0,32.0,30.0,28.0,25.0,22.5,16.1,15.5,15.3,13.9,13.0,12.4,11.7,12.5,12.4,12.4,18.0,24.0,28.0,28.0,32.0,31.0,31.0,32.0,32.0,28.0,28.0,28.0,25.0,22.0,17.1,15.1,14.4,12.2,11.6,11.3,11.5,11.0,11.3,11.0,14.3,22.0,25.0,26.0,27.0,29.0,30.0,30.0,30.0,31.0,30.0,26.0,24.0,22.0,22.0,20.0,20.0,16.0,13.2,11.9,12.0,11.9,15.0,11.7,14.1,22.0,23.0,25.0,25.0,25.0,27.0,26.0,26.0,22.0,21.0,20.0,19.0,16.0,16.0,17.0,16.0,16.0,16.0,16.0,16.0,15.0,15.0,15.0,16.0,17.0,18.0,21.0,25.0,26.0,28.0,28.0,28.0,27.0,26.0,23.0,17.1,13.1,11.5,9.1,9.2,9.4,12.0,8.4,7.0,7.0,6.4,6.4,8.2,13.0,16.0,17.0,19.0,21.0,22.0,23.0,23.0,23.0,22.0,20.0,19.0,17.0,17.0,11.2,10.8,9.5,8.4,6.4,7.6,8.0,9.0,8.0,12.0,16.0,21.0,26.0,28.0,30.0,30.0,30.0,30.0,30.0,27.0,24.0,20.0,14.9,13.5,11.1,10.0,8.1,7.7,7.5,8.6,8.2,8.3,8.4,12.0,22.0,27.0,28.0,29.0,30.0,29.0,28.0,28.0,28.0,27.0,24.0,21.0,15.1,13.9,13.0,13.4,13.6,13.5,17.0,12.0,12.6,12.0,14.0,15.0,17.0,20.0,22.0,25.0,20.6,21.6,23.0,22.0,23.0,22.0,21.0,17.0,14.1,13.6,12.3,13.0,12.0,12.0,7.6,5.4,4.2,3.8,3.6,5.6,8.3,12.0,13.0,11.2,12.4,17.0,17.0,17.0,17.0,16.0,14.0,12.0,7.0,7.6,8.0,6.0,5.4,5.3,4.6,3.2,2.8,2.9,2.8,4.5,10.0,12.0,15.0,17.0,18.0,20.0,21.0,22.0,21.0,20.0,16.0,15.0,14.0,9.6,7.9,7.1,6.2,6.4,6.1,6.2,6.1,6.1,5.7,8.0,17.0,19.0,21.0,22.0,25.0,26.0,24.0,23.0,25.0,22.0,18.0,16.0,14.0,10.9,9.4,11.0,7.9,6.8,5.4,3.6,3.3,3.5,4.0,5.0,7.0,7.0,8.0,8.0,8.0,9.0,8.0,8.0,8.0,8.0,8.0,5.2,4.0,4.0,3.6,4.4,4.3,4.2,5.0,3.8,4.0,4.1,4.3,5.0,11.7,18.4,21.8,20.0,26.0,28.0,28.0,29.0,28.0,25.0,21.0,17.0,15.0,14.0,10.2,8.6,10.0,8.0,7.0,6.0,6.0,6.0,6.0,7.0,7.0,8.0,10.8,12.1,10.0,11.0,13.0,12.0,12.0,12.0,8.5,7.8,7.2,7.1,7.1,7.4,7.2,7.1,6.8,6.1,6.2,6.8,5.6,6.4,9.4,10.4,12.0,12.8,12.2,15.0,13.0,7.4,9.0,6.3,5.3,5.0,4.4,4.5,4.1,3.7,3.8,4.1,3.7,3.9,3.1,3.0,3.0,3.9,6.4,8.3,13.0,15.0,16.0,16.0,18.0,17.0,17.0,15.0,13.0,13.0,10.1,8.8,5.1,6.0,2.4,0.7,0.8,0.5,0.2,2.0,2.0,0.4,2.8,6.0,8.0,10.0,11.0,13.0,15.0,15.0,14.0,13.0,10.0,9.0,4.6,4.1,3.0,3.3,3.0,2.4,2.6,2.3,2.5,3.0,3.0,4.6,10.0,12.0,15.0,17.0,20.0,21.0,22.0,21.0,20.0,21.0,20.0,13.2,10.4,9.4,7.8,8.3,7.8,6.9,6.4,5.8,5.6,5.3,4.9,6.4,11.0,14.2,20.0,22.0,22.0,23.0,23.0,23.0,22.0,20.0,18.0,18.0,9.8,8.8,6.9,6.5,6.2,6.4,6.2,5.8,5.7,5.9,5.3,7.2,11.9,14.6,17.4,23.0,26.0,26.0,26.0,24.0,23.0,22.0,20.0,21.0,12.4,11.7,10.6,9.9,9.3,8.5,7.1,7.1,7.1,6.7,6.5,8.4,13.2,21.0,23.0,25.0,25.0,26.0,26.0,26.0,23.0,21.0,18.0,16.0,11.0,10.4,8.9,8.2,8.1,7.4,7.0,6.8,6.4,6.2,6.1,6.8,12.0,15.0,16.0,20.0,22.0,23.0,23.0,23.0,22.0,20.0,17.0,16.0,12.0,13.0,9.5,12.0,10.3,10.0,9.7,9.2,8.7,9.6,10.0,12.0,11.9,11.0,11.0,10.4,10.0,9.7,12.0,12.0,11.0,10.0,10.0,10.0,10.0,7.8,7.9,7.9,7.9,10.0,9.0,9.0,9.0,9.0,7.2,7.6,10.0,8.7,11.0,10.0,10.7,14.0,13.0,13.0,13.0,13.0,8.5,7.9,5.9,5.9,5.1,4.8,4.5,4.2,3.9,3.6,3.5,3.6,3.9,5.3,10.0,12.0,15.0,20.0,18.0,21.0,22.0,20.0,18.0,18.0,15.0,11.0,9.5,8.6,8.2,8.4,8.7,9.1,9.2,9.2,9.0,8.4,7.6,8.1,9.5,10.0,8.8,12.0,10.0,7.1,7.2,7.8,7.6,6.6,6.0,5.1,4.6,3.9,2.7,1.5,1.7,1.1,1.2,0.8,0.6,0.3,0.4,1.6,5.4,6.5,10.0,9.5,12.0,13.0,15.0,15.0,15.0,12.0,10.0,6.6,3.5,3.1,2.6,2.2,1.9,2.0,1.8,2.3,2.1,2.1,3.0,3.6,7.6,12.0,15.0,19.0,22.0,23.0,23.0,23.0,22.0,20.0,15.0,10.0,8.4,6.1,4.3,3.4,2.8,2.6,2.3,2.1,2.1,2.5,2.6,4.6,12.0,16.0,19.0,20.0,21.0,21.0,21.0,22.0,21.0,23.0,15.2,11.8,9.5,8.8,8.8,8.9,9.0,9.4,8.3,8.8,8.5,8.5,7.3,9.1,12.4,13.0,16.0,21.0,21.0,22.0,20.0,21.0,18.0,16.0,14.0,14.0,12.0,11.0,6.9,7.4,6.0,5.2,3.7,2.0,2.0,2.1,2.7,3.0,9.0,11.0,12.0,13.0,15.0,15.0,16.0,16.0,15.0,13.0,11.0,10.0,6.3,6.2,5.1,4.9,4.0,3.4,3.2,3.4,2.3,2.0,2.0,3.2,9.0,12.0,13.0,16.0,17.0,18.0,20.0,20.0,18.0,16.0,14.0,12.0,7.9,6.7,5.4,5.6,4.9,4.6,4.5,4.8,5.2,5.1,5.1,6.4,12.0,17.0,21.0,23.0,23.0,22.0,23.0,23.0,22.0,18.0,16.0,15.0,7.5,7.1,6.9,6.8,6.5,5.2,4.2,3.7,3.7,3.8,3.4,4.3,10.1,15.0,18.0,20.0,21.0,22.0,22.0,23.0,21.0,19.0,17.0,13.6,9.7,8.4,7.3,6.8,6.1,6.2,5.8,5.4,5.5,5.2,5.6,7.1,12.0,17.0,20.0,21.0,22.0,23.0,21.0,22.0,16.3,15.4,14.9,13.9,11.7,10.8,10.0,9.6,9.6,11.0,8.2,6.1,6.0,5.7,5.8,6.7,10.9,13.0,13.0,18.0,18.0,16.4,18.0,18.0,18.0,17.0,16.0,10.1,6.9,6.7,5.6,5.3,4.7,4.3,3.8,3.4,3.2,3.1,3.2,4.4,11.0,15.0,19.0,20.0,20.0,21.0,22.0,23.0,17.1,15.3,13.5,11.9,9.1,8.6,8.3,8.0,7.6,7.5,8.9,8.5,8.6,9.1,9.2,9.7,11.2,18.0,22.0,25.0,26.0,21.9,28.0,22.2,20.5,22.0,19.0,12.9,6.8,5.6,4.8,4.5,4.8,4.9,5.4,3.5,3.2,3.3,2.8,4.1,10.3,20.0,22.0,24.0,25.0,26.0,26.0,26.0,19.8,22.0,17.0,13.0,7.9,6.7,5.6,5.9,6.0,6.3,6.9,8.5,8.8,9.3,9.9,10.2,15.0,20.0,18.9,24.0,25.0,25.0,25.0,25.0,24.0,20.0,14.0,11.7,9.0,9.4,9.9,9.8,7.7,6.3,6.2,4.0,4.2,4.0,3.9,6.0,8.0,6.7,7.7,8.3,8.5,8.6,7.8,6.6,5.5,4.0,3.0,2.1,6.0,3.0,3.0,3.0,1.0,0.6,1.4,0.6,1.4,2.0,2.2,2.2,6.0,8.0,9.0,11.0,12.0,12.0,14.0,13.0,12.0,10.0,8.0,4.5,2.1,1.7,0.7,0.0,4.0,2.0,2.0,1.0,2.0,0.1,0.5,1.5,7.0,13.0,14.0,18.0,15.4,16.8,21.0,15.9,14.8,17.0,14.3,12.7,6.9,4.3,3.3,3.3,3.2,2.6,1.7,1.4,2.0,2.1,1.2,2.4,7.0,12.0,14.0,15.0,16.0,16.0,16.0,12.6,11.4,9.7,11.0,10.0,7.0,7.0,5.5,5.0,2.6,1.4,0.6,4.0,2.0,1.0,1.0,1.0,3.2,5.6,7.0,8.0,10.0,11.0,12.0,12.0,11.0,9.0,5.3,3.8,2.5,2.3,2.7,2.9,3.8,3.1,3.3,3.1,2.3,2.8,2.0,2.0,2.4,4.6,6.7,7.3,7.7,9.1,10.0,9.4,8.8,7.6,5.5,4.2,4.1,4.4,4.6,5.0,6.0,3.8,3.0,4.0,4.1,4.6,5.0,4.0,7.2,9.0,11.6,12.6,13.4,13.3,15.0,13.2,15.0,13.0,15.0,10.9,8.4,7.0,9.1,8.0,7.8,8.0,6.0,3.8,3.6,3.9,5.0,3.4,6.0,6.0,7.0,7.4,8.2,8.6,9.0,6.6,5.9,7.0,4.3,2.7,0.7,0.2,0.4,2.0,2.0,1.0,1.0,-1.0,0.0,0.0,0.0,0.0,1.4,3.3,5.0,6.0,8.0,7.0,8.0,9.0,9.0,6.3,6.6,7.2,6.1,5.9,5.7,5.8,5.2,4.7,3.4,3.5,2.5,2.1,1.8,1.7,4.3,6.0,7.6,8.3,8.3,8.6,8.6,7.2,6.4,4.4,6.0,4.9,1.2,7.0,5.0,3.0,3.0,2.0,2.0,2.0,3.0,2.0,2.0,3.0,0.2,3.2,5.6,5.8,6.3,6.8,7.6,5.4,4.7,2.2,0.9,5.0,4.0,3.0,2.0,2.0,0.0,-1.0,-1.0,-2.0,-2.0,-1.0,-1.0,-1.0,-1.0,0.0,0.0,1.6,2.3,2.9,5.0,2.7,1.0,0.0,1.0,0.0,0.0,-1.0,0.0,0.0,0.0,-1.0,-2.0,-2.0,-3.0,-3.0,-3.0,-3.0,-2.0,-2.0,-1.0,0.0,0.0,3.0,0.1,3.0,3.0,1.0,1.0,2.0,0.0,-1.0,-1.0,2.0,-3.0,-3.0,-4.0,-4.0,-5.0,-5.0,-5.0,-6.0,-6.0,-4.0,-2.0,0.0,0.1,2.0,3.0,1.3,1.5,1.4,0.0,0.0,-1.0,-1.0,-2.0,-1.0,-1.0,-1.0,-1.0,4.0,6.0,6.0,8.0,6.0,11.0,7.0,2.4,4.4,4.9,8.0,8.9,6.6,5.4,4.0,5.0,1.7,4.0,2.0,2.0,0.0,0.0,-1.0,-2.0,-2.0,-2.0,-2.0,-2.0,-2.0,-2.0,-2.0,-2.0,-2.0,-2.0,-3.0,-3.0,-3.0,-4.0,-4.0,-4.0,-5.0,-5.0,-4.0,-3.0,-3.0,-4.0,-5.0,-5.0,-5.0,-5.0,-5.0,-5.0,-6.0,-6.0,-4.0,-2.0,-2.0,-2.0,-1.0,-1.0,-1.0,-3.0,-4.0,-6.0,-6.0,-7.0,-6.0,-8.0,-8.0,-7.0,-6.0,-5.0,-4.0,-3.0,-5.0,-4.0,-4.0,-3.0,1.0,0.3,1.8,2.3,2.8,4.8,4.8,3.7,0.2,3.0,2.0,2.0,1.0,1.0,0.0,0.0,1.0,0.0,1.0,1.0,0.0,1.0,3.0,8.0,1.6,4.7,7.5,7.7,12.0,13.0,7.3,6.4,4.2,1.8,1.1,8.0,9.0,10.0,10.0,10.0,8.0,10.0,11.0,10.0,7.0,4.0,3.0,0.8,4.1,5.9,6.9,9.8,10.1,10.7,8.4,7.3,3.5,1.6,6.0,5.0,2.0,3.0,2.0,1.0,0.0,0.0,0.0,0.0,0.0,2.0,5.0,10.0,2.5,5.1,5.8,5.8,6.0,7.5,5.6,4.9,4.6,2.0,0.2,7.0,5.0,0.6,0.4,0.9,3.0,2.0,2.0,2.0,1.0,1.0,1.0,0.0,-1.0,-2.0,-2.0,-3.0,-3.0,-3.0,-4.0,-4.0,-5.0,-5.0,-5.0,-5.0,-5.0,-5.0,-5.0,-5.0,-5.0,-5.0,-5.0,-6.0,-8.0,-8.0,-7.0,-5.0,-2.0,0.0,2.0,0.9,4.0,5.0,2.0,0.9,2.0,1.0,1.0,0.0,0.0,0.0,-1.0,-1.0,-2.0,-1.0,-1.0,-1.0,0.0,-3.0,-2.0,0.0,2.0,0.7,4.0,4.2,4.0,4.8,2.5,4.4,2.2,2.0,1.0,1.0,0.0,0.0,0.0,-1.0,0.0,-2.0,-2.0,-2.0,-3.0,-3.0,-2.0,0.0,3.0,2.9,4.6,6.7,11.0,12.0,8.2,6.7,1.2,0.2,5.0,3.0,2.0,2.0,2.0,1.0,1.0,1.0,0.0,-1.0,0.0,0.0,0.0,2.0,6.0,4.4,6.1,7.3,8.7,10.5,7.5,4.4,2.5,0.0,7.0,5.0,5.0,5.0,4.0,5.0,1.0,1.0,1.0,1.0,2.0,1.0,1.0,3.0,5.0,4.4,6.3,7.3,9.5,8.9,6.9,5.9,4.5,3.5,3.1,2.3,2.2,1.2,1.5,0.9,0.0,7.0,7.0,6.0,5.0,6.0,6.0,0.3,3.2,5.6,5.7,5.8,5.7,6.0,4.7,4.8,4.7,3.8,2.4,5.0,5.0,6.0,8.0,2.0,3.0,1.0,0.0,0.0,0.0,0.0,-1.0,0.5,3.0,5.6,7.1,7.3,5.1,2.3,0.2,4.0,3.0,2.0,1.0,3.0,1.0,1.0,1.0,1.0,0.0,0.0,0.0,0.0,-1.0,-2.0,-2.0,0.0,3.0,5.0,6.0,1.0,1.0,2.3,0.3,4.0,3.0,1.0,1.0,0.0,-1.0,-1.0,-2.0,-3.0,-3.0,-3.0,-5.0,-5.0,-5.0,-5.0,-5.0,-3.0,-1.0,0.0,1.3,2.6,3.9,5.3,5.2,4.2,2.0,3.0,0.0,1.0,1.0,8.0,8.0,7.0,7.0,2.0,2.0,1.0,0.0,0.0,-1.0,2.0,2.2,5.4,5.0,5.1,7.2,6.4,5.7,5.6,5.0,4.2,3.5,2.4,1.8,0.9,0.8,1.2,1.6,2.5,10.0,12.0,11.0,11.0,11.0,1.4,5.2,12.0,8.8,9.7,10.5,10.1,9.1,8.3,4.7,4.0,3.5,1.7,1.9,2.0,2.2,1.1,0.8,0.5,0.1,3.0,3.0,2.0,0.1,3.0,2.4,5.0,6.0,5.4,7.0,8.0,4.7,3.9,5.0,4.0,3.0,0.7,3.0,2.0,1.0,0.0,0.0,0.0,-1.0,-1.0,-1.0,-1.0,0.0,0.0,1.0,1.0,1.0,1.0,1.4,1.4,0.3,0.1,0.3,0.8,0.8,0.2,0.0,-0.8,-1.2,-1.8,-2.8,-3.5,-4.2,-4.5,-3.8,-5.0,-4.0,-1.0,1.0,1.3,2.2,2.8,3.4,3.4,2.0,0.5,3.0,0.2,2.0,2.0,0.0,-1.0,0.0,-1.0,0.0,-1.0,-1.0,-4.0,-5.0,-5.0,-6.0,-4.0,-1.0,1.0,2.0,2.0,3.0,2.0,1.0,0.0,0.0,0.0,0.0,-2.0,-2.0,-2.0,-3.0,-3.0,-3.0,-3.0,-3.0,-3.0,-6.0,-5.0,-4.0,-3.0,-2.0,-2.0,0.0,0.0,0.0,1.0,0.0,0.0,-1.0,-1.0,-1.0,-2.0,-3.0,-2.0,-2.0,-3.0,-5.0,-7.0,-6.0,-4.0,-2.0,-2.0,-3.0,-1.0,0.0,1.0,2.0,3.0,3.0,3.0,3.0,2.0,1.0,0.0,0.0,1.0,1.0,0.0,-4.0,-5.0,-5.0,-6.0,-7.0,-7.0,-7.0,-6.0,-6.0,-3.0,0.0,2.0,2.2,3.7,3.9,4.7,2.0,2.0,0.0,0.0,-1.0,-1.0,-2.0,-2.0,-3.0,-4.0,-5.0,-5.0,-5.0,-5.0,-5.0,-6.0,-6.0,-6.0,-5.0,-5.0,-5.0,-4.0,-4.0,-3.0,-3.0,-4.0,-5.0,-4.0,-4.0,-4.0,-4.0,-5.0,-4.0,-5.0,-6.0,-6.0,-5.0,-5.0,-6.0,-6.0,-7.0,-6.0,-3.0,0.0,1.0,0.9,2.0,2.8,3.0,2.0,0.2,0.0,-1.0,-1.0,-2.0,-3.0,-2.0,-3.0,-3.0,-6.0,-5.0,-5.0,-5.0,-5.0,-6.0,-3.0,0.0,3.0,2.1,3.9,4.1,5.7,4.1,3.8,2.2,2.0,1.0,0.0,0.0,0.0,0.0,-2.0,-2.0,-2.0,-2.0,-3.0,-3.0,-3.0,-2.0,-2.0,0.0,0.3,1.6,1.9,3.3,4.3,1.7,1.7,0.2,1.0,2.0,1.0,0.0,0.0,-1.0,-2.0,-3.0,-3.0,-4.0,-5.0,-4.0,-6.0,-5.0,-3.0,1.0,0.6,4.6,5.6,6.9,8.0,7.0,2.6,1.9,0.8,0.4,3.0,4.0,10.0,6.0,4.0,2.0,3.0,-1.0,1.0,2.0,1.0,2.0,4.0,1.8,5.5,9.2,7.8,8.2,7.4,6.2,6.1,0.6,4.0,5.0,1.0,0.0,0.0,0.0,-1.0,-1.0,-2.0,-2.0,-1.0,-1.0,-1.0,2.0,3.0,0.4,3.0,5.2,6.2,7.8,10.0,3.8,4.0,3.6,2.0,0.7,5.0,3.0,0.0,0.0,0.0,0.0,-2.0,-1.0,-3.0,-3.0,-3.0,-3.0,-2.0,0.0,2.0,4.0,6.0,1.1,1.9,1.5,0.8,2.0,0.0,0.0,0.0,-1.0,-2.0,-2.0,-2.0,-2.0,-2.0,-2.0,-3.0,-3.0,-2.0,-3.0,-1.0,2.0,3.7,6.0,6.5,7.0,8.2,7.2,5.7,4.8,4.0,3.0,2.0,1.0,1.0,0.0,0.0,0.0,0.0,0.0,0.0,1.0,8.0,10.0,0.1,1.8,6.2,7.6,8.7,9.6,10.3,7.8,6.3,2.6,1.9,0.1,2.0,2.0,3.0,2.0,1.0,1.0,2.0,3.0,2.0,-2.0,0.0,0.0,1.0,1.3,6.9,9.1,12.0,9.9,12.0,12.0,10.0,7.0,2.3,3.0,2.0,3.0,2.0,1.0,1.0,1.0,0.0,0.0,0.0,0.0,0.0,-1.0,1.0,6.0,5.4,8.5,9.2,10.4,13.0,9.1,6.9,4.7,3.0,2.0,2.3,0.4,0.2,1.6,1.9,1.5,1.4,3.0,3.0,2.0,1.0,0.0,2.0,2.5,7.0,9.0,8.7,9.5,10.0,8.0,7.5,4.3,2.1,1.5,6.0,0.2,0.4,0.8,1.8,2.9,5.9,6.2,5.2,4.7,4.9,4.5,4.6,5.8,6.4,5.8,5.6,5.3,5.5,3.3,2.8,1.6,0.2,3.0,1.0,0.0,0.0,-1.0,-1.0,-3.0,-3.0,-3.0,-3.0,-3.0,-3.0,-5.0,-2.0,0.0,1.5,3.2,4.3,7.0,8.0,5.6,3.6,3.0,1.0,1.0,0.0,0.0,-1.0,0.0,-1.0,-1.0,0.0,1.0,2.0,0.1,2.0,3.0,0.9,3.8,7.1,12.0,11.1,10.9,10.6,8.6,7.4,5.4,4.7,4.3,1.4,0.2,0.7,1.3,2.0,1.0,1.0,1.0,0.0,-1.0,0.0,0.0,0.0,0.0,1.0,2.0,2.0,5.0,4.0,4.0,1.0,-1.0,-1.0,-2.0,-3.0,-4.0,1.0,-1.0,0.0,-6.0,-6.0,-7.0,-6.0,-6.0,-6.0,-6.0,-3.0,-2.0,0.4,2.8,4.0,4.9,6.1,5.4,3.1,0.8,2.0,1.0,0.0,0.0,0.0,0.0,-1.0,-2.0,-2.0,-2.0,0.0,-1.0,0.0,0.0,0.0,2.0,2.1,3.6,4.1,4.3,4.7,3.9,3.3,2.0,3.0,4.0,1.0,1.0,0.0,-1.0,-3.0,-2.0,-2.0,-2.0,-3.0,-3.0,-3.0,-3.0,-2.0,0.0,0.9,1.6,2.0,3.3,3.6,1.9,0.6,3.0,1.0,1.0,0.0,1.0,0.0,-1.0,-1.0,-1.0,-2.0,-2.0,-4.0,-4.0,-5.0,-5.0,-5.0,-3.0,-1.0,0.0,0.6,2.1,2.0,1.3,0.3,0.1,1.0,0.0,0.0,-1.0,-1.0,-2.0,-2.0,-2.0,-3.0,-4.0,-5.0,-5.0,-5.0,-5.0,-5.0,-3.0,-2.0,0.0,-1.0,-1.0,-1.0,-1.0,-3.0,-4.0,-5.0,-5.0,-5.0,-5.0,-5.0,-5.0,-6.0,-6.0,-6.0,-7.0,-8.0,-8.0,-8.0,-8.0,-8.0,-7.0,-7.0,-7.0,-6.0,-6.0,-6.0,-6.0,-6.0,-6.0,-6.0,-6.0,-6.0,-7.0,-7.0,-7.0,-8.0,-9.0,-10.0,-10.0,-11.0,-12.0,-12.0,-12.0,-11.0,-8.0,-6.0,-4.0,-2.0,0.0,0.4,2.0,1.0,-1.0,-2.0,-1.0,-3.0,-3.0,-3.0,-4.0,-4.0,3.0,5.0,4.0,4.0,-5.0,-5.0,-3.0,-2.0,1.1,4.7,5.0,7.0,9.0,9.0,5.3,5.8,4.5,1.0,5.0,5.0,5.0,4.0,3.0,2.0,2.0,0.0,-1.0,-3.0,-2.0,-3.0,-6.0,-8.0,-9.0,-9.0,-9.0,-8.0,-8.0,-8.0,-10.0,-11.0,-12.0,-12.0,-12.0,-12.0,-13.0,-13.0],\"type\":\"box\"},{\"marker\":{\"color\":\"rgb(31, 119, 180)\"},\"name\":\"Cluster 0\",\"y\":[-13.0,-13.0,-14.0,-14.0,-15.0,-15.0,-15.0,-15.0,-16.0,-15.0,-15.0,-15.0,-12.0,-11.0,-11.0,-10.0,-10.0,-11.0,-12.0,-13.0,-13.0,-15.0,-14.0,-14.0,3.0,-13.375,3.0,0.0,-15.0,-15.0,-13.0,-13.0,-12.0,-11.0,-11.0,-13.0,-10.0,-10.0,-7.0,-3.0,-2.0,0.0,1.0,0.4,1.0,1.0,-1.0,-2.0,-2.0,-4.0,-4.0,-3.0,3.0,-6.1499999999999995,3.0,0.0,-5.0,-6.0,-5.0,-4.0,-6.0,-6.0,-4.0,-5.0,-5.0,-3.0,0.0,0.3,3.0,3.6,5.1,6.0,5.7,3.8,1.3,6.0,8.0,3.0,4.0,4.0,3.0,0.19999999999999996,1.0,0.0,6.0,8.0,10.0,5.0,1.0,0.0,0.0,-2.0,1.0,2.0,1.4,3.5,6.5,7.9,11.1,15.0,10.9,8.8,4.4,2.4,1.2,4.0,6.0,3.0,1.0,4.879166666666667,1.0,0.0,4.0,3.0,2.0,2.0,1.0,2.0,1.0,0.0,0.0,2.0,2.3,8.0,10.0,11.0,13.0,13.0,9.8,8.7,8.0,8.0,8.0,4.8,4.7,4.0,1.0,5.429166666666667,1.0,0.0,3.4,2.9,2.1,1.7,2.0,1.0,0.0,0.0,0.0,0.0,0.8,6.7,11.0,9.4,12.0,12.0,8.8,8.1,6.1,4.4,3.3,1.0,5.0,4.0,1.0,4.404166666666667,1.0,0.0,3.0,3.0,3.0,5.0,5.0,5.0,4.0,4.0,5.0,5.0,1.2,5.7,8.0,8.0,7.1,10.0,8.0,7.0,5.6,6.0,5.2,4.2,3.6,1.6,1.0,5.133333333333333,1.0,0.0,1.0,1.0,0.0,-2.0,-1.0,-2.0,-3.0,-3.0,-3.0,-2.0,-1.0,1.6,3.2,4.7,5.5,6.0,4.3,3.6,1.4,1.5,1.0,0.0,0.0,-1.0,3.0,0.7000000000000001,1.0,0.0,-1.0,-1.0,-3.0,-3.0,-3.0,-2.0,-2.0,-3.0,-3.0,-2.0,0.0,1.6,2.7,5.0,6.0,7.0,5.7,4.4,4.7,3.0,1.2,0.0,1.0,1.0,3.0,0.8458333333333333,1.0,0.0,0.0,0.0,1.0,1.0,1.0,0.0,0.0,0.0,0.0,0.0,1.0,2.0,0.1,0.2,0.2,0.2,3.0,3.0,1.0,0.0,0.0,1.0,1.0,0.0,3.0,0.6541666666666667,1.0,0.0,-1.0,-2.0,-2.0,-2.0,-2.0,-3.0,-3.0,-3.0,-4.0,-2.0,-1.0,0.0,2.0,3.0,3.0,0.3,4.0,0.6,1.0,0.0,0.0,0.0,-1.0,-2.0,3.0,-0.5875,1.0,0.0,1.0,0.0,1.0,0.0,1.0,0.0,0.0,0.0,0.0,0.0,1.0,3.0,5.0,4.0,6.4,6.1,5.9,6.0,2.7,2.2,1.9,1.1,1.1,0.6,3.0,2.0833333333333335,1.0,0.0,0.2,5.0,5.0,5.0,4.0,7.0,3.0,4.0,5.0,6.0,0.7,4.1,8.0,7.2,7.7,9.5,9.5,9.0,7.0,3.1,1.1,0.3,0.0,0.6,1.0,4.666666666666667,1.0,0.0,1.0,0.0,0.0,0.0,-1.0,-2.0,-1.0,-3.0,-2.0,-2.0,0.2,5.3,9.3,7.8,7.0,8.9,6.1,5.8,4.0,2.4,1.3,3.0,2.0,-1.0,1.0,2.1708333333333334,1.0,0.0,-7.0,-8.0,-8.0,-10.0,-8.0,-10.0,-8.0,-10.0,-8.0,-8.0,-3.0,-1.0,0.0,2.0,3.0,0.7,2.0,1.0,0.0,-1.0,-1.0,-1.0,-1.0,-3.0,3.0,-3.6374999999999997,1.0,0.0,-2.0,2.0,0.0,-2.0,-3.0,-3.0,-1.0,1.0,1.0,2.0,-2.0,1.1,1.0,1.2,2.1,3.5,3.2,2.5,2.2,2.4,5.0,5.0,5.0,5.0,3.0,1.3416666666666668,1.0,0.0,5.0,6.0,4.0,5.0,5.0,5.0,5.0,4.0,6.0,0.5,1.7,5.0,5.9,8.0,6.9,6.8,6.5,6.8,7.1,6.6,7.1,4.8,4.0,2.7,1.0,5.225,1.0,0.0,-10.0,-10.0,-11.0,-11.0,-10.0,-10.0,-11.0,-10.0,-11.0,-10.0,-8.0,-7.0,-5.0,-3.0,-1.0,0.0,0.0,-1.0,-2.0,-5.0,-5.0,-6.0,-6.0,-6.0,3.0,-6.625,3.0,0.0,-6.0,-10.0,-10.0,-10.0,-10.0,-13.0,-12.0,-13.0,-11.0,-6.0,5.0,1.0,0.1,2.8,4.4,5.0,3.0,2.7,1.3,5.0,3.0,6.0,2.0,3.0,3.0,-2.3625000000000003,1.0,0.0,1.0,6.0,6.0,0.0,-1.0,-3.0,-3.0,-3.0,-4.0,-1.0,0.0,2.0,4.0,5.0,6.0,8.0,6.1,5.3,4.1,1.7,2.0,1.2,2.5,3.8,3.0,2.0708333333333333,1.0,0.0,3.3,3.6,1.9,0.4,0.8,1.3,2.2,1.7,2.4,3.8,5.0,8.2,10.5,11.7,12.3,16.0,11.1,10.2,8.9,7.8,5.8,4.7,4.2,3.5,1.0,5.887499999999999,1.0,0.0,3.1,2.2,2.1,2.4,2.0,1.2,1.0,0.9,0.8,1.7,6.0,10.6,13.8,15.6,16.3,17.4,16.2,15.3,12.3,8.5,4.8,1.7,1.2,3.0,1.0,6.670833333333334,2.0,0.0,-12.0,-14.0,-12.0,-13.0,-16.0,-15.0,-16.0,-16.0,-16.0,-15.0,-13.0,-10.0,-7.0,-6.0,-5.0,-2.0,-2.0,-5.0,-6.0,-6.0,-3.0,-2.0,-2.0,-3.0,3.0,-9.041666666666666,3.0,0.0,-4.0,-2.0,-3.0,-3.0,-3.0,-3.0,-2.0,0.0,-3.0,-2.0,-3.0,-3.0,-2.0,1.0,2.0,0.5,2.0,2.0,1.0,0.0,0.0,0.0,0.0,-3.0,3.0,-1.1458333333333333,1.0,0.0,-3.0,-3.0,-3.0,-2.0,-2.0,-2.0,-3.0,-3.0,-3.0,-3.0,-3.0,-2.0,-1.0,-1.0,-1.0,-1.0,-1.0,-1.0,-1.0,-2.0,-2.0,-1.0,-1.0,-2.0,3.0,-1.9583333333333333,1.0,0.0,-2.0,-3.0,-5.0,-5.0,-5.0,-6.0,-5.0,-6.0,-5.0,-3.0,-1.0,1.1,1.0,1.3,3.0,5.0,4.4,6.5,6.4,2.5,1.3,0.7,1.0,2.0,3.0,-0.40833333333333327,1.0,0.0,-8.0,-9.0,-10.0,-8.0,-8.0,-9.0,-9.0,-8.0,-9.0,-7.0,-6.0,-2.0,-1.0,-1.0,0.0,0.0,-1.0,0.0,-1.0,-3.0,-4.0,-4.0,-4.0,-4.0,3.0,-4.833333333333333,1.0,0.0,-5.0,-5.0,-6.0,-6.0,-6.0,-7.0,-9.0,-12.0,-11.0,-9.0,-8.0,-6.0,-4.0,-3.0,-2.0,-1.0,-2.0,-2.0,-3.0,-6.0,-7.0,-7.0,-8.0,-6.0,3.0,-5.875,3.0,0.0,-8.0,-10.0,-10.0,-11.0,-10.0,-10.0,-11.0,-11.0,-10.0,-7.0,-5.0,1.7,2.6,6.4,5.0,8.2,8.2,9.5,5.4,3.3,2.0,8.0,6.0,8.0,3.0,-1.1958333333333335,1.0,0.0,6.0,5.0,6.0,0.0,-1.0,-2.0,-3.0,-3.0,-3.0,-2.0,1.0,2.0,2.0,5.0,0.2,1.2,1.3,1.0,2.3,2.3,2.2,-1.0,-1.0,-2.0,3.0,0.8125000000000001,1.0,0.0,-2.0,-3.0,-2.0,-3.0,-3.0,-2.0,-2.0,-2.0,-1.0,-1.0,0.0,1.6,4.5,5.2,5.0,6.0,6.0,5.0,7.0,5.3,2.5,1.3,1.6,1.5,3.0,1.3125,1.0,0.0,-8.0,-8.0,-10.0,-11.0,-12.0,-12.0,-12.0,-12.0,-13.0,-12.0,-10.0,-7.0,-5.0,-3.0,0.0,1.0,0.0,0.0,-2.0,-3.0,-4.0,-5.0,-5.0,-6.0,3.0,-6.625,3.0,0.0,-7.0,-7.0,-7.0,-8.0,-7.0,-8.0,-7.0,-6.0,-6.0,-2.0,2.0,3.0,1.0,2.4,7.0,8.0,8.0,8.0,7.0,2.4,3.0,2.0,0.0,0.0,3.0,-0.4666666666666666,1.0,0.0,3.0,3.1,3.1,3.0,1.9,2.3,1.9,1.5,1.0,1.7,1.3,1.1,1.5,1.5,2.0,2.5,2.5,2.3,3.8,4.0,2.0,2.0,1.0,0.0,3.0,2.0833333333333335,1.0,0.0,-8.0,-8.0,-9.0,-10.0,-10.0,-10.0,-11.0,-10.0,-9.0,-6.0,-4.0,-1.0,0.0,1.0,2.0,1.0,0.5,1.0,0.6,3.0,3.0,3.0,3.0,2.0,3.0,-3.1625,1.0,0.0,4.0,4.0,2.0,3.0,3.0,3.0,2.0,1.0,0.0,4.0,5.0,1.0,2.1,2.5,3.3,4.3,4.3,5.2,5.2,6.0,2.7,6.0,6.0,6.0,1.0,3.566666666666667,1.0,0.0,6.0,6.0,6.0,5.0,6.0,6.0,5.0,6.0,6.0,8.0,1.4,3.1,6.0,5.9,6.7,7.4,8.1,8.0,8.1,5.6,4.5,5.0,3.0,1.2,1.0,5.583333333333333,1.0,0.0,0.0,-1.0,-1.5,-1.8,-2.0,-2.5,-2.2,-3.0,-3.0,-1.0,0.0,2.0,5.0,7.0,9.0,10.0,10.0,10.0,8.0,7.0,3.5,6.0,4.0,7.0,1.0,2.9375,1.0,0.0,4.0,6.0,5.0,7.0,7.0,2.0,1.0,0.0,0.0,1.5,6.1,9.0,12.5,13.6,14.8,20.0,20.0,19.0,13.6,11.9,6.0,11.0,11.0,10.0,1.0,8.833333333333334,2.0,0.0,9.0,7.0,5.0,5.0,5.0,2.0,3.0,3.0,1.0,1.0,6.3,11.0,14.0,15.0,17.0,18.0,18.0,18.0,17.0,13.0,6.2,0.8,11.0,10.0,1.0,9.012500000000001,2.0,0.0,0.0,-1.0,0.0,-1.0,-1.0,-1.0,-1.0,-1.0,-1.0,1.0,2.0,0.2,1.0,2.3,3.4,4.7,5.7,5.8,5.2,3.3,3.0,2.0,0.0,-1.0,3.0,1.3166666666666667,1.0,0.0,-3.0,-3.0,-3.0,-3.0,-3.0,-3.0,-6.0,-5.0,-5.0,-2.0,0.0,3.1,5.0,7.0,6.8,10.0,8.6,8.2,7.4,4.3,0.0,3.0,3.0,1.0,3.0,1.3083333333333333,1.0,0.0,0.0,0.0,-1.0,-1.0,0.0,0.0,0.0,0.0,0.0,0.0,3.1,10.0,10.2,10.8,11.1,11.8,13.1,12.9,11.1,13.0,6.1,3.3,1.9,1.6,1.0,4.916666666666667,1.0,0.0,0.0,-1.0,-1.0,-1.0,-3.0,-2.0,-3.0,-3.0,-3.0,0.0,0.8,3.0,4.0,4.8,5.9,6.8,7.0,7.1,5.7,6.0,2.2,3.0,2.0,2.0,3.0,1.8041666666666665,1.0,0.0,4.0,2.0,1.0,0.0,0.0,-1.0,-1.0,-1.0,0.0,1.0,3.0,5.0,8.0,7.6,9.1,12.0,13.0,13.0,12.0,9.0,8.0,1.5,0.9,0.5,1.0,4.483333333333333,1.0,0.0,0.2,0.2,0.7,0.8,0.5,0.7,0.5,0.2,0.4,2.4,4.4,7.2,8.0,8.1,8.0,8.4,7.8,8.0,7.7,5.3,4.3,6.0,4.0,4.0,1.0,4.075,1.0,0.0,5.0,4.0,2.0,2.0,0.0,0.0,0.0,0.0,0.0,2.1,5.0,7.0,10.0,11.0,13.0,15.0,15.0,16.0,14.0,12.0,7.2,2.9,2.2,1.8,1.0,6.133333333333333,2.0,0.0,0.0,0.0,0.0,0.0,0.0,-1.0,-1.0,-1.0,-1.0,0.7,2.2,4.3,5.4,5.7,6.4,7.1,7.3,7.0,8.0,4.7,6.0,2.4,4.0,4.0,1.0,2.966666666666667,1.0,0.0,2.0,2.0,1.0,1.0,0.0,0.0,0.0,-1.0,1.0,2.3,7.0,8.0,11.0,13.0,11.7,13.0,13.0,14.0,13.0,12.0,10.0,4.7,3.5,2.9,1.0,6.045833333333334,2.0,0.0,3.7,2.2,1.4,1.1,3.0,2.0,1.0,1.0,0.7,6.0,8.0,11.0,12.0,15.0,16.0,16.0,16.0,16.0,15.0,14.0,10.0,5.4,4.6,4.3,1.0,7.7250000000000005,2.0,0.0,0.0,0.0,0.0,0.0,0.0,0.0,0.0,0.0,0.0,0.0,1.0,0.8,0.9,1.2,2.5,3.8,5.5,5.7,5.1,5.6,4.7,1.6,3.0,3.0,3.0,1.8500000000000003,1.0,0.0,1.0,0.0,0.0,0.0,0.0,-1.0,-1.0,-1.0,0.0,2.0,3.7,6.0,7.5,10.8,15.0,16.0,16.0,16.0,12.5,10.5,9.6,8.0,7.9,7.0,1.0,6.104166666666667,2.0,0.0,-1.8,-2.0,-2.0,-2.2,-2.5,-2.5,-1.8,-3.0,-2.0,0.6,2.5,4.4,5.0,5.2,6.9,9.0,9.8,8.0,10.0,9.8,5.0,2.4,1.7,1.2,1.0,2.5708333333333333,1.0,0.0,0.5,0.2,0.2,2.0,1.0,0.0,1.0,0.1,5.0,9.7,10.0,13.0,20.0,21.0,17.4,22.0,22.0,21.0,16.0,14.2,10.5,11.0,13.0,9.4,2.0,10.008333333333333,2.0,0.0,5.5,3.7,0.8,5.0,2.0,1.0,0.0,0.0,1.0,3.0,1.3,3.1,4.0,4.9,5.8,7.2,7.0,7.0,6.7,4.3,3.1,5.0,4.0,4.0,1.0,3.725,1.0,0.0,2.0,0.0,0.0,-1.0,-1.0,-1.0,-1.0,-1.0,0.0,4.1,7.5,8.0,12.0,14.0,15.0,15.0,14.0,13.0,13.0,11.0,9.0,5.8,4.1,4.3,1.0,6.116666666666667,2.0,0.0,-4.0,-4.0,-5.0,-5.0,-5.0,-5.0,-5.0,-4.0,-3.0,-1.0,0.7,2.8,4.5,5.9,7.0,8.0,8.0,9.0,9.0,8.0,8.0,7.0,7.0,8.0,1.0,2.1625,1.0,0.0,3.5,1.8,0.5,5.0,0.8,1.9,1.0,0.8,0.5,2.2,3.3,7.0,8.0,8.0,10.0,8.9,9.8,9.8,8.1,6.5,4.1,1.5,1.0,1.1,1.0,4.379166666666666,1.0,0.0,1.0,0.0,4.0,4.0,3.0,3.0,5.0,2.0,3.0,8.0,10.0,12.0,16.0,18.0,20.0,21.0,20.0,20.0,20.0,19.0,18.0,10.1,7.6,6.4,2.0,10.4625,2.0,0.0,5.5,5.4,5.3,3.9,3.7,3.6,3.8,4.2,8.0,10.0,10.0,12.0,15.0,18.0,17.9,23.0,19.2,23.0,21.0,17.0,15.0,7.8,6.7,4.9,2.0,10.995833333333332,2.0,0.0,3.0,3.1,2.2,0.7,0.3,0.3,0.6,0.7,1.2,2.2,3.1,3.5,4.4,4.5,4.7,4.7,3.2,3.3,2.7,1.9,1.6,0.3,3.0,1.0,3.0,2.341666666666667,1.0,0.0,4.2,3.4,3.0,1.7,2.0,2.0,1.0,3.0,3.0,8.1,11.6,11.0,13.0,15.0,18.0,18.0,18.0,18.0,17.0,16.0,15.0,9.4,9.4,11.0,2.0,9.658333333333333,2.0,0.0,3.0,0.1,4.0,4.0,3.0,2.0,2.0,2.0,0.7,4.0,5.2,6.6,7.3,8.3,9.4,13.0,13.0,10.2,9.4,8.1,7.0,2.1,0.9,6.0,1.0,5.470833333333334,1.0,0.0,0.1,3.0,3.0,1.3,0.2,0.2,0.0,1.0,3.0,5.0,7.0,8.0,10.0,12.0,13.0,15.0,15.0,15.0,15.0,14.0,13.0,7.7,9.0,8.0,1.0,7.4375,2.0,0.0,0.4,0.0,0.0,1.0,1.0,1.0,0.0,0.0,0.1,1.4,1.4,1.5,0.5,0.4,0.3,1.2,3.3,3.4,3.4,3.0,2.0,0.8,0.1,0.6,3.0,1.1166666666666665,1.0,0.0,2.0,1.0,0.0,2.0,0.0,0.0,0.0,1.0,1.1,6.0,9.0,12.0,14.0,12.4,17.0,17.0,17.0,17.0,17.0,16.0,14.0,8.4,7.6,5.1,1.0,8.191666666666666,2.0,0.0,5.0,3.0,3.0,2.0,1.0,0.7,0.4,0.2,0.5,1.4,1.5,1.7,1.7,1.0,2.0,3.0,2.1,2.0,2.1,1.6,1.5,0.2,0.4,0.3,3.0,1.5958333333333332,1.0,0.0,0.6,0.3,2.0,1.0,0.0,0.0,0.0,1.0,2.0,5.0,7.0,10.0,12.0,14.0,16.0,17.0,18.0,19.0,19.0,17.0,10.7,5.4,4.8,3.2,1.0,7.708333333333333,2.0,0.0,4.9,4.2,3.3,2.1,1.9,1.6,1.8,2.8,9.0,11.0,13.0,16.0,18.0,19.0,19.0,21.0,22.0,21.0,22.0,21.0,14.8,12.1,11.5,10.2,2.0,11.799999999999999,2.0,0.0,4.5,3.8,3.5,3.2,1.2,2.0,1.8,1.6,3.0,4.1,4.1,5.0,6.0,5.7,7.6,11.0,13.0,13.0,13.0,12.0,7.0,3.1,2.5,1.3,1.0,5.541666666666667,1.0,0.0,11.0,11.0,10.0,10.0,10.0,10.0,10.0,10.0,8.7,12.0,13.0,11.8,12.8,12.4,12.5,16.0,15.0,13.3,13.1,12.7,15.0,13.0,13.0,8.8,2.0,11.879166666666668,2.0,0.0,8.0,6.3,6.1,5.6,7.0,5.3,5.6,6.3,8.0,11.0,11.0,12.0,14.0,16.0,15.0,17.0,17.0,18.0,17.0,17.0,11.7,8.3,8.5,6.7,2.0,10.766666666666666,2.0,0.0,6.0,5.2,4.6,4.1,4.6,4.3,4.0,5.3,11.0,13.0,17.0,18.0,21.0,22.0,25.0,25.0,26.0,26.0,25.0,23.0,21.0,13.4,12.3,11.2,2.0,14.5,2.0,0.0,10.0,8.5,7.7,6.9,6.9,6.7,6.5,7.6,15.0,17.0,20.0,23.0,25.0,27.0,28.0,28.0,27.0,28.0,28.0,23.0,23.0,15.3,14.7,11.9,0.0,17.27916666666667,0.0,0.0,10.3,9.2,8.4,6.6,6.4,6.6,6.9,7.6,12.0,14.0,15.0,18.0,21.0,22.0,24.0,24.0,24.0,22.0,23.0,21.0,20.0,14.1,13.4,12.7,2.0,15.091666666666667,2.0,0.0,0.0,2.0,0.3,1.0,1.0,0.0,1.0,3.0,1.2,6.3,7.0,10.0,8.8,10.8,11.7,15.0,15.0,16.0,12.4,14.0,9.5,6.5,5.5,5.3,1.0,6.804166666666667,2.0,0.0,4.8,3.2,2.8,1.4,2.2,2.4,3.0,4.6,8.6,13.0,16.0,21.0,25.0,26.0,27.0,27.0,28.0,28.0,28.0,26.0,22.0,14.5,13.1,11.8,2.0,14.975,2.0,0.0,10.0,8.0,8.0,8.0,6.3,7.0,7.0,8.0,7.7,10.0,11.0,11.0,11.0,13.8,13.3,12.8,14.2,13.8,14.9,15.3,13.7,10.3,9.9,9.5,2.0,10.604166666666666,2.0,0.0,9.7,9.1,8.5,7.1,7.0,9.0,7.6,8.9,13.3,20.0,20.0,21.0,22.0,23.0,23.0,23.0,24.0,23.0,25.0,23.0,21.0,18.0,17.0,16.0,2.0,16.633333333333333,0.0,0.0,16.0,10.9,10.5,8.6,7.9,7.5,7.6,8.4,16.0,18.0,20.0,21.0,23.0,24.0,25.0,26.0,27.0,27.0,27.0,25.0,22.0,16.4,14.3,14.1,0.0,17.633333333333333,0.0,0.0,15.0,11.9,11.4,13.0,11.0,12.0,11.0,11.7,16.0,18.0,19.0,21.0,23.0,25.0,25.0,26.0,25.0,25.0,25.0,23.0,22.0,21.0,16.6,20.0,0.0,18.650000000000002,0.0,0.0,18.0,16.0,12.1,11.0,13.0,12.0,13.0,16.0,19.0,23.0,26.0,30.0,32.0,31.0,32.0,32.0,32.0,33.0,32.0,31.0,28.0,24.0,18.9,17.6,0.0,23.025000000000002,0.0,0.0,12.2,11.8,11.8,15.0,15.0,16.0,13.4,18.0,17.0,17.0,20.0,20.0,21.0,23.0,23.0,24.0,24.0,25.0,23.0,23.0,22.0,21.0,15.6,14.4,0.0,18.59166666666667,0.0,0.0,13.4,12.9,13.0,9.5,8.1,7.6,7.9,10.4,12.2,18.0,18.0,20.0,20.0,22.0,24.0,26.0,25.0,25.0,23.0,24.0,22.0,20.0,14.7,13.7,0.0,17.099999999999998,0.0,0.0,16.0,12.2,11.8,10.8,11.2,11.2,10.5,11.6,14.1,20.0,21.0,21.0,23.0,25.0,26.0,27.0,28.0,28.0,28.0,27.0,25.0,23.0,21.0,19.0,0.0,19.641666666666666,0.0,0.0,18.0,14.7,14.1,12.3,11.3,10.9,10.0,10.0,10.0,11.0,11.0,11.0,11.0,12.0,12.0,13.0,15.0,15.0,16.0,16.0,15.0,13.0,13.0,10.1,2.0,12.725,2.0,0.0,12.0,12.0,12.0,10.0,9.0,10.0,10.0,11.0,13.0,14.0,15.0,17.0,18.0,19.0,21.0,22.0,23.0,22.0,23.0,21.0,20.0,15.1,14.4,14.0,2.0,15.729166666666666,2.0,0.0,13.1,12.7,11.7,9.8,13.0,12.0,9.3,9.9,15.0,15.0,16.0,16.0,16.0,17.0,18.0,19.0,21.0,21.0,21.0,21.0,19.0,17.0,14.1,17.0,2.0,15.608333333333334,2.0,0.0,11.9,12.0,11.8,12.0,12.0,13.0,13.0,14.0,17.0,18.0,21.0,23.0,25.0,26.0,28.0,29.0,30.0,30.0,29.0,27.0,26.0,24.0,21.0,20.0,0.0,20.570833333333333,0.0,0.0,18.0,14.0,17.0,16.0,14.0,13.0,15.0,16.0,18.0,20.0,21.0,23.0,31.0,35.0,33.0,35.0,35.0,35.0,33.0,32.0,30.0,23.0,22.0,15.2,0.0,23.508333333333336,0.0,0.0,12.9,12.1,11.9,11.6,10.5,11.4,11.9,17.0,19.0,23.0,25.0,26.0,27.0,27.0,30.0,30.0,31.0,31.0,28.0,28.0,26.0,23.0,22.0,20.0,0.0,21.47083333333333,0.0,0.0,11.9,13.0,9.5,9.5,9.8,9.8,13.0,10.4,13.0,13.0,15.0,16.0,18.0,18.0,18.0,21.0,22.0,22.0,23.0,16.9,14.4,12.3,12.5,12.6,2.0,14.775,2.0,0.0,12.8,12.5,11.7,11.3,11.3,13.2,15.0,12.8,18.0,18.0,19.0,20.0,22.0,23.0,26.0,25.0,26.0,25.0,25.0,25.0,22.0,21.0,20.0,18.0,0.0,18.900000000000002,0.0,0.0,17.0,13.5,16.0,11.5,11.5,10.9,12.0,16.0,18.0,19.0,21.0,23.0,25.0,26.0,27.0,27.0,28.0,28.0,27.0,26.0,24.0,22.0,21.0,20.0,0.0,20.433333333333334,0.0,0.0,15.5,13.2,12.0,11.0,9.8,9.6,9.6,12.1,20.0,21.0,24.0,26.0,27.0,28.0,30.0,31.0,30.0,31.0,30.0,27.0,23.0,23.0,18.2,16.1,0.0,20.754166666666666,0.0,0.0,16.5,15.1,15.0,15.3,14.3,14.2,17.0,19.0,22.0,23.0,26.0,28.0,32.0,35.0,34.0,31.0,33.0,32.0,32.0,32.0,31.0,27.0,18.8,19.0,0.0,24.258333333333336,0.0,0.0,20.0,15.7,15.2,14.5,12.6,12.9,12.6,14.9,22.0,23.0,26.0,28.0,31.0,33.0,35.0,37.0,37.0,37.0,35.0,32.0,30.0,22.9,25.0,19.2,0.0,24.645833333333332,0.0,0.0,18.0,17.0,17.0,16.0,11.4,11.5,15.0,17.0,18.0,20.0,22.0,24.0,26.0,27.0,29.0,30.0,31.0,31.0,31.0,30.0,28.0,26.0,25.0,22.0,0.0,22.620833333333334,0.0,0.0,15.0,18.0,12.2,12.4,15.0,15.0,15.0,16.0,18.0,21.0,21.0,22.0,24.0,26.0,27.0,28.0,30.0,31.0,31.0,30.0,28.0,20.5,19.6,18.9,0.0,21.441666666666666,0.0,0.0,16.6,16.0,15.6,14.6,14.3,15.0,19.0,15.8,22.0,23.0,25.0,26.0,27.0,29.0,31.0,31.0,32.0,32.0,31.0,29.0,26.0,25.0,23.0,21.0,0.0,23.329166666666666,0.0,0.0,16.0,15.0,16.0,16.0,15.0,16.0,15.0,15.0,15.0,15.0,16.0,17.0,17.0,17.0,17.0,18.0,21.0,22.0,22.0,21.0,20.0,18.0,18.0,17.0,0.0,17.291666666666668,2.0,0.0,16.0,16.0,15.0,16.0,15.0,15.0,15.0,15.0,16.0,16.0,17.0,17.0,18.0,18.0,18.0,18.0,20.0,22.0,22.0,22.0,21.0,18.0,18.0,17.0,0.0,17.541666666666668,2.0,0.0,21.0,20.0,18.0,18.0,13.3,13.5,15.0,18.0,21.0,22.0,25.0,27.0,30.0,32.0,33.0,33.0,35.0,35.0,32.0,32.0,29.0,27.0,20.2,24.0,0.0,24.75,0.0,0.0,20.0,17.0,15.1,17.0,12.9,12.9,13.3,14.2,21.0,23.0,26.0,28.0,31.0,33.0,33.0,32.0,32.0,35.0,32.0,30.0,27.0,26.0,24.0,23.0,0.0,24.100000000000005,0.0,0.0,15.2,17.0,17.0,16.0,12.0,12.2,14.0,15.0,17.0,19.0,22.0,24.0,26.0,27.0,30.0,30.0,30.0,31.0,29.0,28.0,25.0,22.0,22.0,20.0,0.0,21.683333333333334,0.0,0.0,15.6,18.0,14.4,13.6,17.0,14.0,15.0,16.0,17.0,19.0,21.0,22.0,24.0,25.0,26.0,26.0,26.0,30.0,22.9,26.0,25.0,18.2,18.4,16.8,0.0,20.287499999999998,0.0,0.0,14.3,13.8,13.4,13.7,10.2,9.9,10.5,10.9,15.0,16.0,17.0,20.0,22.0,25.0,26.0,29.0,30.0,30.0,28.0,27.0,25.0,23.0,18.7,16.9,0.0,19.3875,0.0,0.0,17.0,14.1,17.0,13.0,11.0,11.1,11.4,11.9,17.0,18.0,22.0,23.0,26.0,28.0,28.0,28.0,29.0,31.0,29.0,27.0,24.0,22.0,20.0,20.0,0.0,20.770833333333332,0.0,0.0,17.0,12.7,11.4,10.9,10.6,9.6,9.8,10.6,16.0,18.0,20.0,23.0,25.0,27.0,29.0,30.0,31.0,30.0,27.0,27.0,24.0,21.0,16.4,15.8,0.0,19.7,0.0,0.0,18.7,22.0,21.0,21.0,12.0,12.5,11.9,12.3,14.1,20.0,21.0,21.0,22.0,23.0,23.0,24.0,25.0,25.0,24.0,23.0,21.0,15.7,18.0,18.0,0.0,19.55,0.0,0.0,15.0,14.0,10.8,10.2,9.3,9.5,9.0,9.2,16.0,19.0,23.0,26.0,31.0,31.0,33.0,33.0,33.0,33.0,32.0,29.0,25.0,21.0,16.7,13.9,0.0,20.941666666666666,0.0,0.0,17.0,16.0,16.0,15.0,14.0,15.0,14.0,13.0,16.0,17.0,19.0,20.0,21.0,24.0,25.0,27.0,27.0,27.0,28.0,26.0,20.8,17.9,17.2,18.0,0.0,19.620833333333334,0.0,0.0,14.1,13.0,15.0,14.0,14.0,13.0,11.2,13.0,13.0,15.0,16.0,17.0,18.0,19.0,18.0,17.0,17.0,16.0,16.0,16.0,16.0,15.0,16.0,12.1,2.0,15.183333333333332,2.0,0.0,15.0,11.3,10.4,9.3,8.9,11.0,8.7,8.7,12.0,12.0,17.0,19.0,22.0,23.0,25.0,26.0,26.0,24.0,25.0,22.0,21.0,21.0,16.5,16.1,0.0,17.120833333333334,0.0,0.0,14.5,12.0,10.1,9.9,9.4,9.4,10.0,9.6,16.0,20.0,25.0,27.0,29.0,30.0,31.0,32.0,32.0,32.0,31.0,28.0,25.0,23.0,23.0,20.0,0.0,21.204166666666666,0.0,0.0,14.4,12.2,11.6,11.3,11.5,11.0,11.3,11.0,14.3,22.0,25.0,26.0,27.0,29.0,30.0,30.0,30.0,31.0,30.0,26.0,24.0,22.0,22.0,20.0,0.0,20.941666666666666,0.0,0.0,16.0,16.0,16.0,16.0,16.0,15.0,15.0,15.0,16.0,17.0,18.0,21.0,25.0,26.0,28.0,28.0,28.0,27.0,26.0,23.0,17.1,13.1,11.5,9.1,0.0,19.116666666666667,0.0,0.0,9.2,9.4,12.0,8.4,7.0,7.0,6.4,6.4,8.2,13.0,16.0,17.0,19.0,21.0,22.0,23.0,23.0,23.0,22.0,20.0,19.0,17.0,17.0,11.2,2.0,14.883333333333333,2.0,0.0,13.0,12.0,12.0,7.6,5.4,4.2,3.8,3.6,5.6,8.3,12.0,13.0,11.2,12.4,17.0,17.0,17.0,17.0,16.0,14.0,12.0,7.0,7.6,8.0,2.0,10.695833333333333,2.0,0.0,6.0,5.4,5.3,4.6,3.2,2.8,2.9,2.8,4.5,10.0,12.0,15.0,17.0,18.0,20.0,21.0,22.0,21.0,20.0,16.0,15.0,14.0,9.6,7.9,2.0,11.5,2.0,0.0,11.0,7.9,6.8,5.4,3.6,3.3,3.5,4.0,5.0,7.0,7.0,8.0,8.0,8.0,9.0,8.0,8.0,8.0,8.0,8.0,5.2,4.0,4.0,3.6,1.0,6.429166666666667,1.0,0.0,8.6,10.0,8.0,7.0,6.0,6.0,6.0,6.0,7.0,7.0,8.0,10.8,12.1,10.0,11.0,13.0,12.0,12.0,12.0,8.5,7.8,7.2,7.1,7.1,1.0,8.758333333333335,2.0,0.0,3.7,3.8,4.1,3.7,3.9,3.1,3.0,3.0,3.9,6.4,8.3,13.0,15.0,16.0,16.0,18.0,17.0,17.0,15.0,13.0,13.0,10.1,8.8,5.1,2.0,9.329166666666666,2.0,0.0,6.0,2.4,0.7,0.8,0.5,0.2,2.0,2.0,0.4,2.8,6.0,8.0,10.0,11.0,13.0,15.0,15.0,14.0,13.0,10.0,9.0,4.6,4.1,3.0,1.0,6.395833333333333,2.0,0.0,6.5,6.2,6.4,6.2,5.8,5.7,5.9,5.3,7.2,11.9,14.6,17.4,23.0,26.0,26.0,26.0,24.0,23.0,22.0,20.0,21.0,12.4,11.7,10.6,2.0,14.366666666666667,2.0,0.0,8.2,8.1,7.4,7.0,6.8,6.4,6.2,6.1,6.8,12.0,15.0,16.0,20.0,22.0,23.0,23.0,23.0,22.0,20.0,17.0,16.0,12.0,13.0,9.5,2.0,13.604166666666666,2.0,0.0,4.8,4.5,4.2,3.9,3.6,3.5,3.6,3.9,5.3,10.0,12.0,15.0,20.0,18.0,21.0,22.0,20.0,18.0,18.0,15.0,11.0,9.5,8.6,8.2,2.0,10.983333333333333,2.0,0.0,2.2,1.9,2.0,1.8,2.3,2.1,2.1,3.0,3.6,7.6,12.0,15.0,19.0,22.0,23.0,23.0,23.0,22.0,20.0,15.0,10.0,8.4,6.1,4.3,2.0,10.475,2.0,0.0,4.9,4.0,3.4,3.2,3.4,2.3,2.0,2.0,3.2,9.0,12.0,13.0,16.0,17.0,18.0,20.0,20.0,18.0,16.0,14.0,12.0,7.9,6.7,5.4,2.0,9.725,2.0,0.0,6.8,6.5,5.2,4.2,3.7,3.7,3.8,3.4,4.3,10.1,15.0,18.0,20.0,21.0,22.0,22.0,23.0,21.0,19.0,17.0,13.6,9.7,8.4,7.3,2.0,12.029166666666669,2.0,0.0,9.6,9.6,11.0,8.2,6.1,6.0,5.7,5.8,6.7,10.9,13.0,13.0,18.0,18.0,16.4,18.0,18.0,18.0,17.0,16.0,10.1,6.9,6.7,5.6,2.0,11.429166666666665,2.0,0.0,5.0,2.6,1.4,0.6,4.0,2.0,1.0,1.0,1.0,3.2,5.6,7.0,8.0,10.0,11.0,12.0,12.0,11.0,9.0,5.3,3.8,2.5,2.3,2.7,1.0,5.166666666666667,1.0,0.0,2.9,3.8,3.1,3.3,3.1,2.3,2.8,2.0,2.0,2.4,4.6,6.7,7.3,7.7,9.1,10.0,9.4,8.8,7.6,5.5,4.2,4.1,4.4,4.6,1.0,5.070833333333333,1.0,0.0,5.0,6.0,3.8,3.0,4.0,4.1,4.6,5.0,4.0,7.2,9.0,11.6,12.6,13.4,13.3,15.0,13.2,15.0,13.0,15.0,10.9,8.4,7.0,9.1,1.0,8.883333333333335,2.0,0.0,2.0,2.0,1.0,1.0,-1.0,0.0,0.0,0.0,0.0,1.4,3.3,5.0,6.0,8.0,7.0,8.0,9.0,9.0,6.3,6.6,7.2,6.1,5.9,5.7,1.0,4.145833333333333,1.0,0.0,5.8,5.2,4.7,3.4,3.5,2.5,2.1,1.8,1.7,4.3,6.0,7.6,8.3,8.3,8.6,8.6,7.2,6.4,4.4,6.0,4.9,1.2,7.0,5.0,1.0,5.1875,1.0,0.0,0.0,0.0,-1.0,-2.0,-2.0,-3.0,-3.0,-3.0,-3.0,-2.0,-2.0,-1.0,0.0,0.0,3.0,0.1,3.0,3.0,1.0,1.0,2.0,0.0,-1.0,-1.0,3.0,-0.45416666666666666,1.0,0.0,2.0,-3.0,-3.0,-4.0,-4.0,-5.0,-5.0,-5.0,-6.0,-6.0,-4.0,-2.0,0.0,0.1,2.0,3.0,1.3,1.5,1.4,0.0,0.0,-1.0,-1.0,-2.0,3.0,-1.6541666666666666,1.0,0.0,-8.0,-7.0,-6.0,-5.0,-4.0,-3.0,-5.0,-4.0,-4.0,-3.0,1.0,0.3,1.8,2.3,2.8,4.8,4.8,3.7,0.2,3.0,2.0,2.0,1.0,1.0,3.0,-0.7625000000000001,1.0,0.0,-5.0,-5.0,-5.0,-5.0,-5.0,-6.0,-8.0,-8.0,-7.0,-5.0,-2.0,0.0,2.0,0.9,4.0,5.0,2.0,0.9,2.0,1.0,1.0,0.0,0.0,0.0,3.0,-1.7583333333333335,1.0,0.0,-1.0,-1.0,-2.0,-1.0,-1.0,-1.0,0.0,-3.0,-2.0,0.0,2.0,0.7,4.0,4.2,4.0,4.8,2.5,4.4,2.2,2.0,1.0,1.0,0.0,0.0,3.0,0.8666666666666667,1.0,0.0,-2.0,-3.0,-3.0,-3.0,-5.0,-5.0,-5.0,-5.0,-5.0,-3.0,-1.0,0.0,1.3,2.6,3.9,5.3,5.2,4.2,2.0,3.0,0.0,1.0,1.0,8.0,3.0,-0.10416666666666659,1.0,0.0,8.0,7.0,7.0,2.0,2.0,1.0,0.0,0.0,-1.0,2.0,2.2,5.4,5.0,5.1,7.2,6.4,5.7,5.6,5.0,4.2,3.5,2.4,1.8,0.9,1.0,3.683333333333333,1.0,0.0,0.0,-1.0,0.0,-1.0,-1.0,-4.0,-5.0,-5.0,-6.0,-4.0,-1.0,1.0,2.0,2.0,3.0,2.0,1.0,0.0,0.0,0.0,0.0,-2.0,-2.0,-2.0,3.0,-0.9583333333333334,1.0,0.0,-3.0,-3.0,-3.0,-3.0,-3.0,-3.0,-6.0,-5.0,-4.0,-3.0,-2.0,-2.0,0.0,0.0,0.0,1.0,0.0,0.0,-1.0,-1.0,-1.0,-2.0,-3.0,-2.0,3.0,-2.0416666666666665,1.0,0.0,-3.0,-4.0,-5.0,-5.0,-5.0,-5.0,-5.0,-6.0,-6.0,-6.0,-5.0,-5.0,-5.0,-4.0,-4.0,-3.0,-3.0,-4.0,-5.0,-4.0,-4.0,-4.0,-4.0,-5.0,3.0,-4.541666666666667,3.0,0.0,-4.0,-5.0,-6.0,-6.0,-5.0,-5.0,-6.0,-6.0,-7.0,-6.0,-3.0,0.0,1.0,0.9,2.0,2.8,3.0,2.0,0.2,0.0,-1.0,-1.0,-2.0,-3.0,3.0,-2.2541666666666664,1.0,0.0,-2.0,-3.0,-3.0,-6.0,-5.0,-5.0,-5.0,-5.0,-6.0,-3.0,0.0,3.0,2.1,3.9,4.1,5.7,4.1,3.8,2.2,2.0,1.0,0.0,0.0,0.0,3.0,-0.4625000000000001,1.0,0.0,-1.0,-2.0,-3.0,-3.0,-4.0,-5.0,-4.0,-6.0,-5.0,-3.0,1.0,0.6,4.6,5.6,6.9,8.0,7.0,2.6,1.9,0.8,0.4,3.0,4.0,10.0,3.0,0.85,1.0,0.0,0.0,0.0,0.0,-2.0,-1.0,-3.0,-3.0,-3.0,-3.0,-2.0,0.0,2.0,4.0,6.0,1.1,1.9,1.5,0.8,2.0,0.0,0.0,0.0,-1.0,-2.0,3.0,-0.029166666666666674,1.0,0.0,-2.0,-2.0,-2.0,-2.0,-2.0,-3.0,-3.0,-2.0,-3.0,-1.0,2.0,3.7,6.0,6.5,7.0,8.2,7.2,5.7,4.8,4.0,3.0,2.0,1.0,1.0,3.0,1.6708333333333334,1.0,0.0,2.0,1.0,1.0,2.0,3.0,2.0,-2.0,0.0,0.0,1.0,1.3,6.9,9.1,12.0,9.9,12.0,12.0,10.0,7.0,2.3,3.0,2.0,3.0,2.0,1.0,4.270833333333333,1.0,0.0,-1.0,-1.0,-3.0,-3.0,-3.0,-3.0,-3.0,-3.0,-5.0,-2.0,0.0,1.5,3.2,4.3,7.0,8.0,5.6,3.6,3.0,1.0,1.0,0.0,0.0,-1.0,3.0,0.425,1.0,0.0,-1.0,-3.0,-2.0,-2.0,-2.0,-3.0,-3.0,-3.0,-3.0,-2.0,0.0,0.9,1.6,2.0,3.3,3.6,1.9,0.6,3.0,1.0,1.0,0.0,1.0,0.0,3.0,-0.1708333333333333,1.0,0.0,-1.0,-1.0,-1.0,-2.0,-2.0,-4.0,-4.0,-5.0,-5.0,-5.0,-3.0,-1.0,0.0,0.6,2.1,2.0,1.3,0.3,0.1,1.0,0.0,0.0,-1.0,-1.0,3.0,-1.1916666666666667,1.0,0.0,-5.0,-6.0,-6.0,-6.0,-7.0,-8.0,-8.0,-8.0,-8.0,-8.0,-7.0,-7.0,-7.0,-6.0,-6.0,-6.0,-6.0,-6.0,-6.0,-6.0,-6.0,-6.0,-7.0,-7.0,3.0,-6.625,3.0,0.0,-7.0,-8.0,-9.0,-10.0,-10.0,-11.0,-12.0,-12.0,-12.0,-11.0,-8.0,-6.0,-4.0,-2.0,0.0,0.4,2.0,1.0,-1.0,-2.0,-1.0,-3.0,-3.0,-3.0,3.0,-5.483333333333333,3.0,0.0,-4.0,-4.0,3.0,5.0,4.0,4.0,-5.0,-5.0,-3.0,-2.0,1.1,4.7,5.0,7.0,9.0,9.0,5.3,5.8,4.5,1.0,5.0,5.0,5.0,4.0,1.0,2.6833333333333336,1.0,0.0],\"type\":\"box\"},{\"marker\":{\"color\":\"rgb(255, 127, 14)\"},\"name\":\"Cluster 1\",\"y\":[0.0,1.0,0.0,0.0,2.0,2.0,2.0,2.0,0.0,0.2,4.0,8.0,10.0,12.0,12.0,12.0,11.0,7.8,10.0,8.0,4.2,2.4,1.7,1.7,1.0,4.75,1.0,1.0,-1.0,-2.0,-3.0,-3.0,-5.0,-5.0,-4.0,-6.0,-5.0,-3.0,0.0,2.0,4.0,0.6,2.1,4.0,4.5,3.5,2.0,2.0,2.0,2.0,1.0,1.0,3.0,-0.2625,1.0,1.0,-2.0,-2.0,-3.0,-2.0,-3.0,-3.0,-3.0,-3.0,-3.0,-2.0,0.0,3.0,2.7,4.5,8.0,7.0,5.1,4.7,0.7,4.0,3.0,2.0,2.0,1.0,3.0,0.9041666666666667,1.0,1.0,-1.0,-1.0,0.0,0.0,-3.0,-2.0,-4.0,-1.0,2.0,2.0,3.0,0.4,1.9,2.7,3.1,4.4,3.7,3.4,1.8,1.1,0.9,0.1,0.1,5.0,3.0,0.9833333333333334,1.0,1.0,-5.0,-1.0,-1.0,0.0,-6.0,-6.0,-1.0,0.0,0.0,0.0,2.0,5.0,0.2,0.9,1.2,3.5,1.9,1.5,0.9,3.0,2.1,0.1,0.0,0.0,3.0,0.0958333333333334,1.0,1.0,-5.0,-5.0,-5.0,1.0,0.0,0.0,0.0,0.0,1.0,0.0,1.0,3.0,2.0,1.0,1.0,-1.0,-1.0,-1.0,-1.0,-2.0,-3.0,-3.0,-4.0,-5.0,3.0,-1.0833333333333333,1.0,1.0,-3.0,-4.0,-4.0,-3.0,-6.0,-7.0,-6.0,-8.0,-6.0,-3.0,-2.0,-1.0,0.0,1.0,1.0,1.0,2.0,1.0,-1.0,-2.0,-2.0,-1.0,-2.0,-2.0,3.0,-2.375,1.0,1.0,0.0,0.0,0.0,0.0,1.0,10.0,11.0,10.0,10.0,11.0,1.6,4.1,8.0,7.3,6.3,5.9,7.9,9.0,9.0,5.6,4.4,3.7,5.0,3.6,1.0,5.599999999999999,1.0,1.0,0.0,0.0,0.0,0.0,0.0,-1.0,-1.0,-1.0,0.0,0.0,1.0,1.0,2.0,0.2,0.5,1.3,0.8,0.6,0.0,1.0,1.0,0.0,1.0,0.0,3.0,0.30833333333333335,1.0,1.0,1.3,1.0,0.5,1.1,10.0,10.0,9.0,8.0,0.2,6.1,8.3,10.1,11.1,12.0,13.0,17.0,13.4,12.9,14.0,9.6,11.0,3.9,2.9,2.1,1.0,7.854166666666667,2.0,1.0,1.8,2.4,2.5,2.3,1.3,1.2,0.8,0.4,0.3,3.3,6.1,6.9,6.8,7.2,7.6,6.7,5.5,6.2,5.8,3.0,4.0,2.0,1.0,0.0,1.0,3.545833333333333,1.0,1.0,1.0,1.0,0.0,-1.0,-1.0,-2.0,-2.0,-2.0,-1.0,1.0,4.0,6.7,9.0,7.9,9.5,12.0,12.0,12.0,10.0,8.0,4.1,1.2,1.4,0.8,1.0,3.858333333333334,1.0,1.0,7.0,6.0,2.0,2.0,1.0,1.0,1.0,0.0,2.0,3.3,10.0,12.0,15.0,17.0,18.0,18.0,14.6,14.4,17.0,15.0,9.5,4.4,3.8,2.0,1.0,8.166666666666666,2.0,1.0,0.4,0.1,0.3,5.0,5.0,0.2,0.4,0.2,0.7,8.0,11.0,13.0,15.0,17.0,16.0,16.0,9.6,7.6,6.3,5.7,5.0,2.3,1.3,0.9,1.0,6.125,2.0,1.0,1.0,1.0,0.0,0.0,0.0,0.0,0.0,0.0,0.0,2.0,3.0,1.5,3.2,3.1,3.8,6.0,4.2,3.9,3.4,3.0,2.0,2.0,1.0,0.0,3.0,1.8375000000000001,1.0,1.0,3.0,2.1,2.1,1.4,0.7,0.9,1.1,1.3,2.9,7.9,11.6,14.1,18.0,16.2,16.7,20.0,21.0,20.0,15.8,14.3,11.3,8.0,8.0,8.0,2.0,9.433333333333332,2.0,1.0,7.5,7.1,7.2,6.6,6.0,6.4,6.9,5.8,8.0,11.6,12.9,16.0,11.7,11.4,13.2,16.0,11.4,11.4,13.0,12.0,11.0,7.2,6.8,4.6,1.0,9.654166666666667,2.0,1.0,4.0,2.9,3.0,2.4,4.0,2.0,2.0,1.0,1.3,6.0,7.0,11.0,13.0,15.0,15.0,15.0,10.8,10.0,8.5,7.5,5.6,2.4,1.7,1.5,1.0,6.358333333333334,2.0,1.0,0.8,0.5,1.2,0.9,0.3,0.5,0.2,0.6,0.8,3.0,4.0,5.0,6.0,6.0,8.0,9.0,5.9,3.8,2.5,2.2,1.0,0.0,0.0,0.0,1.0,2.591666666666667,1.0,1.0,0.0,0.0,-2.0,-1.0,-1.0,-2.0,-3.0,-2.0,0.0,0.0,0.3,4.0,2.6,3.5,3.6,2.8,2.5,1.2,0.5,0.6,1.0,2.0,1.0,1.0,3.0,0.65,1.0,1.0,3.2,2.8,3.2,4.1,1.5,1.4,1.6,1.7,4.9,12.0,11.0,15.0,16.0,16.0,16.0,17.0,18.0,16.0,15.0,11.0,9.6,8.7,7.6,6.4,2.0,9.154166666666667,2.0,1.0,7.3,6.3,5.8,6.6,4.2,4.9,5.6,5.3,5.6,11.0,11.0,10.6,14.0,11.9,15.0,16.0,13.0,13.0,12.0,9.0,7.4,6.8,8.0,5.6,1.0,8.995833333333334,2.0,1.0,5.8,5.9,6.1,6.6,5.8,5.7,5.4,5.2,8.1,14.1,20.0,20.0,22.0,23.0,23.0,24.0,25.0,25.0,23.0,22.0,20.0,9.9,7.6,5.9,2.0,14.129166666666668,2.0,1.0,1.0,1.0,2.0,1.0,1.0,1.0,0.0,1.0,0.7,3.5,7.0,7.0,7.5,8.5,10.0,14.0,13.0,10.1,9.0,7.6,4.8,5.2,4.7,2.0,1.0,5.108333333333333,1.0,1.0,1.9,2.0,2.0,2.0,0.4,0.0,1.0,1.0,3.0,7.0,10.0,11.0,13.0,14.0,15.0,16.0,15.0,15.0,15.0,14.0,9.3,6.9,9.0,6.0,1.0,7.895833333333333,2.0,1.0,4.9,3.8,3.3,2.4,1.6,1.5,1.2,1.7,5.5,10.0,13.0,15.0,16.0,18.0,16.0,18.0,22.0,20.0,15.7,18.0,14.0,8.8,8.0,6.0,2.0,10.183333333333334,2.0,1.0,2.8,2.4,2.8,4.0,5.1,4.1,3.1,3.4,5.8,7.5,10.0,11.0,12.0,10.3,10.8,12.0,15.0,15.0,12.0,10.6,12.0,4.1,2.4,1.0,1.0,7.466666666666668,2.0,1.0,0.2,6.0,6.0,5.0,5.0,3.0,4.0,0.8,6.3,12.0,16.0,18.0,19.0,20.0,21.0,21.0,21.0,21.0,21.0,20.0,17.0,8.6,7.2,6.3,2.0,11.891666666666666,2.0,1.0,9.6,9.5,10.0,12.0,6.1,6.2,6.4,7.9,12.0,17.0,22.0,24.0,24.0,25.0,26.0,26.0,25.0,24.0,23.0,22.0,16.0,11.8,11.3,8.9,2.0,16.070833333333333,2.0,1.0,7.8,6.0,4.9,4.1,5.0,5.3,5.0,6.1,9.4,15.0,16.0,16.0,17.0,18.0,18.0,20.0,19.0,20.0,19.0,11.3,8.5,6.3,5.6,5.0,2.0,11.179166666666667,2.0,1.0,4.6,4.1,3.7,3.6,3.6,3.8,5.4,3.9,4.3,9.8,11.0,11.8,11.9,13.0,13.5,18.0,12.4,12.5,11.6,12.0,8.1,6.2,5.4,3.5,1.0,8.237499999999999,2.0,1.0,1.8,1.5,2.6,1.8,2.7,2.0,2.0,2.4,3.9,8.0,8.2,9.4,9.4,10.2,10.1,10.5,10.4,10.2,12.0,12.0,8.0,5.8,5.2,5.0,1.0,6.462500000000001,2.0,1.0,0.7,5.0,5.0,4.0,3.0,3.0,3.0,1.1,5.5,11.0,15.0,17.0,18.0,18.0,20.0,20.0,21.0,21.0,21.0,21.0,14.1,9.3,8.1,5.5,2.0,11.262500000000001,2.0,1.0,5.5,4.8,4.4,2.9,3.3,3.7,4.0,5.1,13.0,16.0,19.0,21.0,22.0,23.0,25.0,25.0,25.0,25.0,25.0,23.0,15.6,12.2,10.9,9.9,2.0,14.345833333333331,2.0,1.0,8.5,7.6,6.7,5.4,5.4,5.7,6.0,7.6,15.0,17.0,20.0,23.0,26.0,28.0,30.0,27.0,28.0,22.2,25.0,23.0,21.0,15.1,13.7,12.0,2.0,16.620833333333334,0.0,1.0,11.3,10.6,9.4,8.6,9.6,9.7,9.9,11.1,13.6,20.0,17.3,22.0,23.0,25.0,25.0,25.0,20.8,16.0,17.0,16.0,12.3,9.5,8.1,8.0,2.0,14.950000000000001,2.0,1.0,7.3,7.2,7.2,6.6,6.8,6.8,6.6,8.0,13.0,17.0,17.0,18.0,20.0,19.0,18.0,16.0,10.9,12.0,13.0,12.0,12.0,11.0,11.0,10.0,2.0,11.933333333333332,2.0,1.0,10.9,11.6,10.8,9.0,8.6,7.4,7.2,8.5,15.0,16.0,17.0,18.0,18.0,20.0,21.0,22.0,22.0,21.0,20.0,20.0,18.0,13.4,13.1,11.7,2.0,15.008333333333335,2.0,1.0,8.0,6.0,5.0,4.1,4.1,3.5,3.9,5.0,11.0,16.0,17.0,18.0,20.0,20.0,17.1,20.0,18.0,15.0,11.1,9.6,7.0,4.5,4.4,5.0,2.0,10.554166666666667,2.0,1.0,1.0,1.0,1.0,1.0,1.0,1.0,1.0,1.0,0.6,1.5,1.7,2.0,1.9,1.5,1.5,1.8,1.7,1.6,1.6,1.5,1.3,1.0,1.1,1.4,3.0,1.3208333333333333,1.0,1.0,4.8,3.8,2.2,0.7,2.1,1.6,1.9,3.4,6.8,12.0,15.0,16.0,13.4,13.9,17.0,14.3,13.0,13.0,13.0,12.0,10.0,9.0,6.6,6.4,1.0,8.829166666666667,2.0,1.0,6.0,5.5,5.0,3.9,3.0,2.7,2.9,3.9,7.2,13.0,11.5,17.0,18.0,17.0,14.9,17.0,14.0,9.0,7.0,7.0,7.0,4.7,4.8,3.6,1.0,8.566666666666666,2.0,1.0,2.5,1.9,1.2,0.9,0.3,0.9,1.0,2.0,3.9,8.4,9.8,14.0,11.7,15.0,16.0,15.0,16.0,16.0,13.4,12.7,9.9,7.7,5.9,5.4,1.0,7.979166666666667,2.0,1.0,10.8,10.2,10.4,9.8,10.2,10.4,9.5,10.6,14.1,20.0,18.0,18.0,21.0,17.0,18.0,20.0,17.0,19.0,17.0,15.0,12.0,11.0,8.3,8.5,2.0,13.991666666666665,2.0,1.0,3.4,2.8,2.6,2.5,2.9,2.9,2.8,3.8,8.5,13.4,14.6,15.6,16.2,16.7,17.2,17.8,17.1,17.1,16.5,15.8,13.0,10.1,9.1,7.9,2.0,10.429166666666667,2.0,1.0,6.8,7.0,7.2,5.2,4.8,4.6,4.7,6.1,10.0,15.0,17.0,18.0,19.0,17.0,17.0,16.0,18.0,18.0,17.0,17.0,12.1,8.7,8.6,7.2,2.0,11.75,2.0,1.0,6.1,5.4,4.7,3.7,5.4,5.4,5.5,7.3,14.0,16.0,17.0,20.0,21.0,22.0,22.0,23.0,22.0,23.0,23.0,22.0,20.0,12.4,11.9,11.6,2.0,14.35,2.0,1.0,10.5,9.2,7.2,4.7,5.6,5.7,5.7,7.9,16.0,18.0,20.0,22.0,23.0,24.0,25.0,26.0,26.0,25.0,20.2,19.0,17.8,15.3,13.1,11.0,2.0,15.745833333333332,2.0,1.0,9.2,8.1,7.5,7.0,7.2,9.5,12.1,8.7,16.0,17.0,20.0,21.0,23.0,25.0,24.0,23.0,21.0,18.7,24.0,23.0,21.0,13.2,12.3,11.8,2.0,15.970833333333333,2.0,1.0,10.8,9.7,9.2,8.6,8.5,9.2,9.6,10.9,17.0,20.0,20.0,21.0,22.0,22.0,22.0,19.0,18.0,16.6,21.0,20.0,17.0,11.4,10.5,10.0,2.0,15.166666666666666,2.0,1.0,16.0,12.8,11.6,10.2,10.0,9.8,9.5,11.6,18.0,20.0,22.0,25.0,23.0,22.0,24.0,20.8,23.0,19.1,19.5,19.8,22.0,14.5,17.0,13.1,0.0,17.2625,0.0,1.0,15.0,15.0,15.0,14.0,10.0,9.8,11.0,13.4,14.6,21.0,21.0,21.0,23.0,22.0,21.0,23.0,23.0,18.0,17.4,22.0,19.0,18.0,13.9,17.0,0.0,17.420833333333334,0.0,1.0,18.0,16.0,15.0,15.0,12.0,13.0,13.0,11.9,17.0,19.0,21.0,22.0,23.0,24.0,22.0,25.0,18.7,20.0,20.8,25.0,22.0,16.7,17.0,16.0,0.0,18.462500000000002,0.0,1.0,16.0,14.6,14.8,13.8,13.6,16.0,16.0,20.0,24.0,28.0,30.0,31.0,32.0,31.0,31.0,32.0,32.0,29.0,27.0,26.0,25.0,23.0,17.2,14.5,0.0,23.229166666666668,0.0,1.0,14.1,14.2,13.1,11.7,12.1,12.1,13.3,14.1,20.0,21.0,23.0,24.0,26.0,26.0,28.0,30.0,30.0,28.0,28.0,31.0,23.7,19.0,17.1,15.5,0.0,20.625,0.0,1.0,13.6,12.7,10.8,10.5,9.0,9.1,9.6,10.8,14.5,22.0,24.0,26.0,27.0,28.0,28.0,30.0,30.0,30.0,30.0,22.3,24.0,17.2,13.7,13.5,0.0,19.429166666666664,0.0,1.0,10.6,10.4,10.1,9.8,9.1,8.4,8.8,11.3,21.0,22.0,23.0,25.0,28.0,30.0,30.0,29.0,29.0,29.0,27.0,26.0,25.0,23.0,17.0,15.5,0.0,19.916666666666668,0.0,1.0,15.0,13.1,11.8,10.6,9.3,9.1,9.4,11.9,23.0,27.0,28.0,30.0,28.0,30.0,30.0,32.0,33.0,33.0,31.0,32.0,28.0,19.7,19.2,22.0,0.0,22.337500000000002,0.0,1.0,16.9,16.2,15.9,15.5,14.1,14.9,14.5,15.2,20.0,22.0,22.0,21.0,23.0,24.0,26.0,25.0,21.0,20.0,20.0,18.0,18.0,17.0,17.0,16.0,0.0,18.883333333333333,0.0,1.0,18.0,17.0,16.0,16.0,15.0,15.0,10.9,12.9,18.0,20.0,21.0,23.0,25.0,26.0,27.0,28.0,28.0,28.0,28.0,27.0,24.0,18.2,21.0,16.5,0.0,20.8125,0.0,1.0,20.0,14.8,13.6,13.0,11.9,15.0,15.0,14.2,21.0,24.0,27.0,30.0,33.0,34.0,36.0,35.0,33.0,32.0,34.0,32.0,29.0,21.6,19.3,18.4,0.0,24.03333333333333,0.0,1.0,24.0,18.8,21.0,19.0,16.8,16.7,15.9,17.0,21.3,30.0,31.0,32.0,33.0,36.0,33.0,35.0,36.0,36.0,32.0,30.0,31.0,29.0,20.6,19.4,0.0,26.4375,0.0,1.0,18.1,17.2,18.2,17.8,16.2,16.6,16.6,17.6,25.0,30.0,32.0,32.0,30.0,30.0,27.0,25.0,23.0,23.0,23.0,22.0,22.0,21.0,19.0,18.0,0.0,22.5125,0.0,1.0,15.8,15.2,13.2,11.9,10.3,10.9,10.8,12.0,15.8,22.0,23.0,26.0,27.0,28.0,27.0,26.0,27.0,25.0,26.0,23.0,21.0,14.1,12.6,11.7,0.0,18.97083333333333,0.0,1.0,15.6,14.8,15.0,14.9,13.8,14.2,14.4,14.9,23.0,26.0,29.0,30.0,31.0,32.0,32.0,32.0,27.0,26.0,27.0,26.0,26.0,20.5,24.0,22.0,0.0,22.962499999999995,0.0,1.0,21.0,20.0,20.0,19.0,15.3,15.5,20.0,20.0,22.0,25.0,25.0,27.0,30.0,28.0,28.0,28.0,28.0,25.0,24.0,24.0,23.0,22.0,22.0,22.0,0.0,23.075,0.0,1.0,18.0,18.0,18.0,21.0,16.2,16.5,16.4,16.6,20.4,26.0,28.0,31.0,31.0,33.0,33.0,29.0,28.0,28.0,28.0,27.0,26.0,18.5,22.0,23.0,0.0,23.85833333333333,0.0,1.0,16.4,16.2,15.1,14.7,12.9,13.9,14.2,15.3,22.0,22.0,25.0,27.0,28.0,30.0,30.0,32.0,24.6,27.0,30.0,29.0,26.0,19.5,22.0,21.0,0.0,22.241666666666664,0.0,1.0,17.7,16.9,21.0,17.0,14.1,13.8,14.1,16.4,26.0,27.0,31.0,32.0,34.0,34.0,35.0,34.0,32.0,34.0,32.0,30.0,27.0,26.0,23.0,23.0,0.0,25.458333333333332,0.0,1.0,21.0,21.0,20.0,19.0,13.7,14.0,17.0,15.2,21.0,23.0,24.0,25.0,27.0,27.0,30.0,31.0,33.0,33.0,25.5,31.0,28.0,19.8,19.0,17.1,0.0,23.1375,0.0,1.0,18.3,17.7,17.1,16.6,16.5,16.9,17.0,17.5,23.0,26.0,28.0,31.0,32.0,33.0,31.0,21.0,20.0,23.0,24.0,22.0,22.0,21.0,21.0,20.0,0.0,22.316666666666663,0.0,1.0,18.0,17.0,17.0,17.0,17.0,17.0,15.0,17.0,20.0,22.0,24.0,22.0,22.0,22.0,25.0,26.0,26.0,25.0,25.0,25.0,23.0,16.6,16.5,16.7,0.0,20.491666666666667,0.0,1.0,16.6,20.0,19.0,18.0,18.0,18.0,18.0,19.0,20.0,21.0,22.0,24.0,19.4,23.0,22.0,23.0,22.0,23.0,23.0,24.0,22.0,16.7,20.0,18.0,0.0,20.404166666666665,0.0,1.0,18.0,16.0,15.0,15.0,11.0,13.0,11.2,12.4,18.0,20.0,21.0,23.0,25.0,26.0,27.0,28.0,29.0,30.0,28.0,26.0,25.0,18.3,21.0,20.0,0.0,20.704166666666666,0.0,1.0,17.5,21.0,21.0,16.1,19.0,18.0,17.0,20.0,23.0,25.0,27.0,29.0,31.0,33.0,26.0,28.0,23.0,25.0,26.0,24.0,23.0,22.0,23.0,23.0,0.0,23.358333333333334,0.0,1.0,18.0,18.0,14.3,16.0,11.9,12.2,12.4,17.0,21.0,22.0,25.0,27.0,27.0,31.0,30.0,31.0,29.0,29.0,28.0,22.0,20.0,20.0,15.3,15.5,0.0,21.358333333333334,0.0,1.0,17.7,17.5,20.0,18.0,18.0,14.7,18.0,15.4,18.8,25.0,27.0,28.0,30.0,32.0,33.0,34.0,34.0,34.0,33.0,32.0,29.0,21.0,20.2,22.0,0.0,24.679166666666664,0.0,1.0,21.0,21.0,21.0,20.0,19.0,15.6,18.0,18.0,21.0,22.0,24.0,25.0,26.0,27.0,26.0,26.0,26.0,26.0,25.0,26.0,25.0,23.0,19.0,17.0,0.0,22.400000000000002,0.0,1.0,16.0,16.0,15.0,16.0,15.0,15.0,15.0,16.0,16.0,18.0,21.0,23.0,25.0,24.0,23.7,17.0,20.0,22.0,21.4,20.8,20.2,19.6,19.0,19.0,0.0,18.904166666666665,0.0,1.0,18.0,14.4,13.9,17.0,12.2,11.9,11.8,12.6,18.0,20.0,22.0,23.0,25.0,26.0,26.0,26.0,26.0,27.0,28.0,27.0,21.0,18.0,18.0,17.0,0.0,19.991666666666667,0.0,1.0,16.0,16.0,15.0,15.0,14.0,13.0,12.0,15.0,17.0,18.0,21.0,22.0,23.0,23.0,22.0,22.0,23.0,23.0,22.0,20.0,18.0,17.0,17.0,16.0,0.0,18.333333333333332,0.0,1.0,13.6,17.0,16.0,16.0,9.6,9.4,9.2,9.6,18.0,21.0,23.0,25.0,28.0,29.0,30.0,31.0,30.0,29.0,28.0,26.0,21.0,21.0,21.0,18.0,0.0,20.808333333333334,0.0,1.0,18.0,18.0,16.0,14.4,12.9,15.0,16.0,13.6,20.0,22.0,25.0,27.0,27.0,30.0,32.0,32.0,32.0,31.0,28.0,22.5,21.2,20.0,19.8,18.7,0.0,22.17083333333333,0.0,1.0,17.8,17.0,16.3,16.3,16.7,18.0,19.2,18.0,20.0,22.0,25.0,26.0,28.0,26.0,27.0,25.0,24.0,25.0,26.0,25.0,24.0,16.9,20.0,18.0,0.0,21.55,0.0,1.0,18.0,18.0,17.0,18.0,17.0,16.0,16.0,18.0,20.0,23.0,25.0,27.0,28.0,29.0,30.0,29.0,23.0,28.0,27.0,25.0,23.0,23.0,22.0,19.0,0.0,22.458333333333332,0.0,1.0,17.8,17.2,17.0,17.5,18.0,18.0,18.0,20.0,23.0,25.0,27.0,30.0,31.0,28.0,30.0,31.0,30.0,28.0,29.0,28.0,28.0,20.4,19.8,19.2,0.0,23.787499999999998,0.0,1.0,19.5,18.8,17.4,20.0,15.3,15.4,19.0,15.4,22.0,23.0,26.0,28.0,30.0,28.0,31.0,25.0,26.0,28.0,25.0,25.0,23.0,22.0,21.0,20.0,0.0,22.658333333333335,0.0,1.0,21.0,17.3,17.2,16.3,14.1,18.0,17.0,15.8,22.0,23.0,24.0,26.0,27.0,28.0,29.0,31.0,30.0,28.0,28.0,27.0,26.0,20.0,20.0,21.0,0.0,22.77916666666667,0.0,1.0,19.0,18.0,18.0,18.0,18.0,18.0,18.0,18.0,20.0,21.0,23.0,25.0,26.0,25.0,25.0,26.0,23.0,21.0,22.0,21.0,21.0,19.0,19.0,19.0,0.0,20.875,0.0,1.0,18.0,15.1,15.4,18.0,17.0,17.0,16.0,18.0,20.0,22.0,25.0,28.0,30.0,32.0,32.0,34.0,33.0,32.0,31.0,29.0,21.3,23.0,18.3,21.0,0.0,23.587500000000002,0.0,1.0,17.8,17.3,16.2,14.9,15.7,15.5,15.5,15.9,23.0,23.0,23.0,27.0,27.0,28.0,29.0,28.0,28.0,27.0,26.0,25.0,25.0,18.2,23.0,17.6,0.0,21.941666666666666,0.0,1.0,20.0,18.0,15.7,18.0,19.0,18.0,17.0,18.0,18.0,20.0,22.0,25.0,25.0,24.0,23.0,24.0,25.0,25.0,21.0,25.0,23.0,16.4,20.0,15.5,0.0,20.650000000000002,0.0,1.0,18.0,13.9,12.7,12.0,12.9,13.3,13.6,17.0,16.8,23.0,24.8,26.6,28.4,30.2,32.0,32.0,33.0,31.0,30.0,28.0,25.0,18.1,21.0,15.9,0.0,22.049999999999997,0.0,1.0,14.8,13.3,13.3,16.0,11.9,11.7,11.6,12.2,20.0,22.0,25.0,27.0,29.0,31.0,29.0,29.0,31.0,31.0,30.0,26.0,24.0,22.0,21.0,15.7,0.0,21.5625,0.0,1.0,15.3,13.9,17.0,13.2,15.0,15.0,14.0,12.9,16.8,28.0,28.0,29.0,32.0,32.0,34.0,34.0,34.0,33.0,33.0,32.0,28.0,25.0,17.5,20.0,0.0,23.85833333333333,0.0,1.0,16.6,16.2,15.8,15.5,13.5,16.0,16.0,13.3,18.0,22.0,26.0,30.0,25.2,30.0,30.0,27.0,26.0,24.6,29.0,23.2,25.0,18.0,16.3,15.0,0.0,21.175,0.0,1.0,15.6,14.0,12.8,11.9,11.9,11.9,11.8,12.3,17.6,27.0,30.0,33.0,33.0,35.0,36.0,36.0,35.0,34.0,33.0,30.0,28.0,21.0,19.1,17.5,0.0,23.641666666666666,0.0,1.0,15.9,15.3,14.4,17.0,14.1,14.3,14.0,18.0,21.0,25.0,30.0,32.0,35.0,36.0,36.0,36.0,36.0,36.0,25.0,27.0,26.0,25.0,23.0,23.0,0.0,24.791666666666668,0.0,1.0,20.0,16.8,16.0,14.9,12.5,12.6,12.8,13.4,20.0,21.0,21.0,24.0,26.0,26.0,26.0,26.0,26.0,24.0,23.0,22.0,22.0,18.2,20.0,18.0,0.0,20.091666666666665,0.0,1.0,16.6,16.0,16.2,15.9,15.5,17.0,18.0,18.0,19.0,22.0,23.0,25.0,27.0,26.0,28.0,30.0,29.0,23.0,22.4,25.0,18.9,16.0,15.5,14.7,0.0,20.7375,0.0,1.0,18.0,17.0,16.0,16.0,16.0,15.0,17.0,14.5,17.5,29.0,31.0,32.0,33.0,34.0,35.0,36.0,35.0,35.0,35.0,32.0,30.0,20.9,19.7,18.9,0.0,25.145833333333332,0.0,1.0,14.1,13.5,16.0,11.7,14.0,10.9,10.3,10.0,12.5,17.0,18.0,20.0,21.0,22.0,23.0,23.0,23.0,24.0,23.0,22.0,20.0,14.3,17.0,15.0,0.0,17.304166666666667,0.0,1.0,13.4,13.2,12.9,12.2,11.5,11.7,12.0,11.9,17.1,30.0,30.0,30.0,30.0,30.0,31.0,31.0,30.0,28.0,26.0,25.0,22.0,20.0,20.0,18.0,0.0,21.537500000000005,0.0,1.0,18.0,13.9,17.0,12.8,12.5,12.4,15.0,15.0,18.0,20.0,22.0,25.0,28.0,29.0,29.0,31.0,31.0,31.0,30.0,23.0,21.5,20.3,18.0,16.4,0.0,21.24166666666667,0.0,1.0,13.8,11.7,11.3,11.1,11.1,11.9,14.1,10.9,14.5,20.0,23.0,23.0,25.0,26.0,25.0,27.0,26.0,26.0,26.0,24.0,23.0,16.1,18.0,17.0,0.0,18.979166666666668,0.0,1.0,17.0,12.7,15.0,13.0,9.1,9.3,9.4,9.7,16.0,18.0,21.0,21.0,22.0,23.0,25.0,26.0,25.0,26.0,23.0,22.0,20.0,15.1,18.0,17.0,0.0,18.054166666666664,0.0,1.0,15.0,12.5,12.5,12.8,15.0,15.0,15.0,12.7,17.0,19.0,21.0,21.0,22.0,25.0,25.0,26.0,27.0,27.0,25.0,22.0,21.0,19.0,14.8,14.2,0.0,19.020833333333332,0.0,1.0,16.0,11.6,10.6,10.2,9.9,13.0,13.0,12.0,16.0,18.0,22.0,23.0,25.0,26.0,26.0,27.0,26.0,25.0,23.0,22.0,21.0,15.9,14.4,13.8,0.0,18.349999999999998,0.0,1.0,15.0,14.0,13.0,12.0,12.0,12.0,11.0,11.0,13.0,14.0,16.0,18.0,20.0,21.0,20.0,18.0,17.0,20.0,20.0,18.0,16.0,16.0,15.0,11.6,2.0,15.566666666666668,2.0,1.0,10.6,9.8,8.7,7.8,8.4,8.5,8.5,8.5,11.5,17.0,18.0,20.0,21.0,22.0,23.0,23.0,23.0,23.0,22.0,21.0,18.0,13.7,13.4,12.5,2.0,15.5375,2.0,1.0,13.6,14.2,14.1,12.4,12.5,12.1,11.9,11.9,16.0,21.0,22.0,26.0,29.0,30.0,30.0,28.0,30.0,28.0,28.0,25.0,22.0,16.2,14.6,13.2,0.0,20.070833333333333,0.0,1.0,12.6,12.6,11.9,11.2,10.3,9.9,9.8,10.1,12.9,20.0,23.0,25.0,27.0,28.0,31.0,32.0,32.0,30.0,28.0,26.0,23.0,21.0,21.0,13.8,0.0,20.0875,0.0,1.0,11.1,11.1,11.6,11.6,12.3,13.1,12.9,13.3,16.0,21.4,26.2,28.0,28.3,28.1,28.0,28.3,27.3,27.5,25.8,23.7,20.1,16.9,15.9,14.7,0.0,19.71666666666667,0.0,1.0,13.9,12.2,11.6,11.4,10.6,10.6,11.0,10.4,14.9,23.0,26.0,31.0,32.0,32.0,33.0,33.0,33.0,33.0,32.0,27.0,24.0,18.7,15.5,14.7,0.0,21.4375,0.0,1.0,13.7,13.3,13.0,13.4,13.2,13.4,12.9,12.7,14.5,27.0,29.0,31.0,31.0,32.0,33.0,33.0,33.0,34.0,32.0,27.0,25.0,17.4,17.4,15.5,0.0,22.391666666666666,0.0,1.0,13.8,13.0,12.4,11.9,11.9,11.9,13.0,11.1,14.1,23.0,28.0,30.0,31.0,31.0,33.0,33.0,33.0,32.0,31.0,26.0,23.0,22.0,16.2,19.0,0.0,21.845833333333335,0.0,1.0,19.0,16.0,14.0,11.7,10.3,10.7,10.7,11.1,18.0,23.0,26.0,28.0,29.7,31.3,33.0,32.0,33.0,32.0,30.0,28.0,25.0,22.5,16.1,15.5,0.0,21.941666666666666,0.0,1.0,15.3,13.9,13.0,12.4,11.7,12.5,12.4,12.4,18.0,24.0,28.0,28.0,32.0,31.0,31.0,32.0,32.0,28.0,28.0,28.0,25.0,22.0,17.1,15.1,0.0,21.78333333333333,0.0,1.0,20.0,16.0,13.2,11.9,12.0,11.9,15.0,11.7,14.1,22.0,23.0,25.0,25.0,25.0,27.0,26.0,26.0,22.0,21.0,20.0,19.0,16.0,16.0,17.0,0.0,18.991666666666667,0.0,1.0,10.8,9.5,8.4,6.4,7.6,8.0,9.0,8.0,12.0,16.0,21.0,26.0,28.0,30.0,30.0,30.0,30.0,30.0,27.0,24.0,20.0,14.9,13.5,11.1,0.0,17.966666666666665,0.0,1.0,10.0,8.1,7.7,7.5,8.6,8.2,8.3,8.4,12.0,22.0,27.0,28.0,29.0,30.0,29.0,28.0,28.0,28.0,27.0,24.0,21.0,15.1,13.9,13.0,0.0,18.408333333333335,0.0,1.0,13.4,13.6,13.5,17.0,12.0,12.6,12.0,14.0,15.0,17.0,20.0,22.0,25.0,20.6,21.6,23.0,22.0,23.0,22.0,21.0,17.0,14.1,13.6,12.3,0.0,17.3875,0.0,1.0,7.1,6.2,6.4,6.1,6.2,6.1,6.1,5.7,8.0,17.0,19.0,21.0,22.0,25.0,26.0,24.0,23.0,25.0,22.0,18.0,16.0,14.0,10.9,9.4,2.0,14.591666666666669,2.0,1.0,4.4,4.3,4.2,5.0,3.8,4.0,4.1,4.3,5.0,11.7,18.4,21.8,20.0,26.0,28.0,28.0,29.0,28.0,25.0,21.0,17.0,15.0,14.0,10.2,2.0,14.674999999999999,2.0,1.0,3.3,3.0,2.4,2.6,2.3,2.5,3.0,3.0,4.6,10.0,12.0,15.0,17.0,20.0,21.0,22.0,21.0,20.0,21.0,20.0,13.2,10.4,9.4,7.8,2.0,11.104166666666666,2.0,1.0,8.3,7.8,6.9,6.4,5.8,5.6,5.3,4.9,6.4,11.0,14.2,20.0,22.0,22.0,23.0,23.0,23.0,22.0,20.0,18.0,18.0,9.8,8.8,6.9,2.0,13.295833333333334,2.0,1.0,9.9,9.3,8.5,7.1,7.1,7.1,6.7,6.5,8.4,13.2,21.0,23.0,25.0,25.0,26.0,26.0,26.0,23.0,21.0,18.0,16.0,11.0,10.4,8.9,2.0,15.170833333333333,2.0,1.0,1.5,1.7,1.1,1.2,0.8,0.6,0.3,0.4,1.6,5.4,6.5,10.0,9.5,12.0,13.0,15.0,15.0,15.0,12.0,10.0,6.6,3.5,3.1,2.6,1.0,6.183333333333334,2.0,1.0,3.4,2.8,2.6,2.3,2.1,2.1,2.5,2.6,4.6,12.0,16.0,19.0,20.0,21.0,21.0,21.0,22.0,21.0,23.0,15.2,11.8,9.5,8.8,8.8,2.0,11.462499999999999,2.0,1.0,8.9,9.0,9.4,8.3,8.8,8.5,8.5,7.3,9.1,12.4,13.0,16.0,21.0,21.0,22.0,20.0,21.0,18.0,16.0,14.0,14.0,12.0,11.0,6.9,2.0,13.170833333333334,2.0,1.0,7.4,6.0,5.2,3.7,2.0,2.0,2.1,2.7,3.0,9.0,11.0,12.0,13.0,15.0,15.0,16.0,16.0,15.0,13.0,11.0,10.0,6.3,6.2,5.1,1.0,8.654166666666667,2.0,1.0,5.6,4.9,4.6,4.5,4.8,5.2,5.1,5.1,6.4,12.0,17.0,21.0,23.0,23.0,22.0,23.0,23.0,22.0,18.0,16.0,15.0,7.5,7.1,6.9,2.0,12.612499999999999,2.0,1.0,6.8,6.1,6.2,5.8,5.4,5.5,5.2,5.6,7.1,12.0,17.0,20.0,21.0,22.0,23.0,21.0,22.0,16.3,15.4,14.9,13.9,11.7,10.8,10.0,2.0,12.695833333333335,2.0,1.0,5.3,4.7,4.3,3.8,3.4,3.2,3.1,3.2,4.4,11.0,15.0,19.0,20.0,20.0,21.0,22.0,23.0,17.1,15.3,13.5,11.9,9.1,8.6,8.3,2.0,11.258333333333335,2.0,1.0,8.0,7.6,7.5,8.9,8.5,8.6,9.1,9.2,9.7,11.2,18.0,22.0,25.0,26.0,21.9,28.0,22.2,20.5,22.0,19.0,12.9,6.8,5.6,4.8,2.0,14.291666666666666,2.0,1.0,4.5,4.8,4.9,5.4,3.5,3.2,3.3,2.8,4.1,10.3,20.0,22.0,24.0,25.0,26.0,26.0,26.0,19.8,22.0,17.0,13.0,7.9,6.7,5.6,2.0,12.825000000000001,2.0,1.0,5.9,6.0,6.3,6.9,8.5,8.8,9.3,9.9,10.2,15.0,20.0,18.9,24.0,25.0,25.0,25.0,25.0,24.0,20.0,14.0,11.7,9.0,9.4,9.9,2.0,14.487499999999999,2.0,1.0,3.0,1.0,0.6,1.4,0.6,1.4,2.0,2.2,2.2,6.0,8.0,9.0,11.0,12.0,12.0,14.0,13.0,12.0,10.0,8.0,4.5,2.1,1.7,0.7,1.0,5.766666666666666,2.0,1.0,0.0,4.0,2.0,2.0,1.0,2.0,0.1,0.5,1.5,7.0,13.0,14.0,18.0,15.4,16.8,21.0,15.9,14.8,17.0,14.3,12.7,6.9,4.3,3.3,2.0,8.645833333333334,2.0,1.0,3.3,3.2,2.6,1.7,1.4,2.0,2.1,1.2,2.4,7.0,12.0,14.0,15.0,16.0,16.0,16.0,12.6,11.4,9.7,11.0,10.0,7.0,7.0,5.5,1.0,7.920833333333333,2.0,1.0,3.0,3.0,2.0,2.0,2.0,3.0,2.0,2.0,3.0,0.2,3.2,5.6,5.8,6.3,6.8,7.6,5.4,4.7,2.2,0.9,5.0,4.0,3.0,2.0,1.0,3.529166666666667,1.0,1.0,2.0,0.0,-1.0,-1.0,-2.0,-2.0,-1.0,-1.0,-1.0,-1.0,0.0,0.0,1.6,2.3,2.9,5.0,2.7,1.0,0.0,1.0,0.0,0.0,-1.0,0.0,3.0,0.31250000000000006,1.0,1.0,-1.0,-1.0,-1.0,-1.0,4.0,6.0,6.0,8.0,6.0,11.0,7.0,2.4,4.4,4.9,8.0,8.9,6.6,5.4,4.0,5.0,1.7,4.0,2.0,2.0,1.0,4.304166666666666,1.0,1.0,0.0,0.0,1.0,0.0,1.0,1.0,0.0,1.0,3.0,8.0,1.6,4.7,7.5,7.7,12.0,13.0,7.3,6.4,4.2,1.8,1.1,8.0,9.0,10.0,1.0,4.554166666666666,1.0,1.0,2.0,1.0,0.0,0.0,0.0,0.0,0.0,2.0,5.0,10.0,2.5,5.1,5.8,5.8,6.0,7.5,5.6,4.9,4.6,2.0,0.2,7.0,5.0,0.6,1.0,3.441666666666667,1.0,1.0,0.0,-1.0,0.0,-2.0,-2.0,-2.0,-3.0,-3.0,-2.0,0.0,3.0,2.9,4.6,6.7,11.0,12.0,8.2,6.7,1.2,0.2,5.0,3.0,2.0,2.0,1.0,2.2291666666666665,1.0,1.0,2.0,1.0,1.0,1.0,0.0,-1.0,0.0,0.0,0.0,2.0,6.0,4.4,6.1,7.3,8.7,10.5,7.5,4.4,2.5,0.0,7.0,5.0,5.0,5.0,1.0,3.558333333333333,1.0,1.0,4.0,5.0,1.0,1.0,1.0,1.0,2.0,1.0,1.0,3.0,5.0,4.4,6.3,7.3,9.5,8.9,6.9,5.9,4.5,3.5,3.1,2.3,2.2,1.2,1.0,3.7916666666666665,1.0,1.0,1.5,0.9,0.0,7.0,7.0,6.0,5.0,6.0,6.0,0.3,3.2,5.6,5.7,5.8,5.7,6.0,4.7,4.8,4.7,3.8,2.4,5.0,5.0,6.0,1.0,4.504166666666666,1.0,1.0,1.0,1.0,0.0,0.0,0.0,0.0,-1.0,-2.0,-2.0,0.0,3.0,5.0,6.0,1.0,1.0,2.3,0.3,4.0,3.0,1.0,1.0,0.0,-1.0,-1.0,3.0,0.9416666666666668,1.0,1.0,0.8,1.2,1.6,2.5,10.0,12.0,11.0,11.0,11.0,1.4,5.2,12.0,8.8,9.7,10.5,10.1,9.1,8.3,4.7,4.0,3.5,1.7,1.9,2.0,1.0,6.416666666666667,1.0,1.0,2.2,1.1,0.8,0.5,0.1,3.0,3.0,2.0,0.1,3.0,2.4,5.0,6.0,5.4,7.0,8.0,4.7,3.9,5.0,4.0,3.0,0.7,3.0,2.0,1.0,3.1625,1.0,1.0,1.0,0.0,0.0,0.0,-1.0,-1.0,-1.0,-1.0,0.0,0.0,1.0,1.0,1.0,1.0,1.4,1.4,0.3,0.1,0.3,0.8,0.8,0.2,0.0,-0.8,3.0,0.22916666666666666,1.0,1.0,-1.2,-1.8,-2.8,-3.5,-4.2,-4.5,-3.8,-5.0,-4.0,-1.0,1.0,1.3,2.2,2.8,3.4,3.4,2.0,0.5,3.0,0.2,2.0,2.0,0.0,-1.0,3.0,-0.375,1.0,1.0,-2.0,-3.0,-5.0,-7.0,-6.0,-4.0,-2.0,-2.0,-3.0,-1.0,0.0,1.0,2.0,3.0,3.0,3.0,3.0,2.0,1.0,0.0,0.0,1.0,1.0,0.0,3.0,-0.625,1.0,1.0,-4.0,-5.0,-5.0,-6.0,-7.0,-7.0,-7.0,-6.0,-6.0,-3.0,0.0,2.0,2.2,3.7,3.9,4.7,2.0,2.0,0.0,0.0,-1.0,-1.0,-2.0,-2.0,3.0,-1.7291666666666667,1.0,1.0,0.0,-2.0,-2.0,-2.0,-2.0,-3.0,-3.0,-3.0,-2.0,-2.0,0.0,0.3,1.6,1.9,3.3,4.3,1.7,1.7,0.2,1.0,2.0,1.0,0.0,0.0,3.0,-0.08333333333333333,1.0,1.0,0.0,-1.0,-1.0,-2.0,-2.0,-1.0,-1.0,-1.0,2.0,3.0,0.4,3.0,5.2,6.2,7.8,10.0,3.8,4.0,3.6,2.0,0.7,5.0,3.0,0.0,3.0,2.1125000000000003,1.0,1.0,0.0,0.0,0.0,0.0,0.0,0.0,1.0,8.0,10.0,0.1,1.8,6.2,7.6,8.7,9.6,10.3,7.8,6.3,2.6,1.9,0.1,2.0,2.0,3.0,1.0,3.7083333333333335,1.0,1.0,1.0,1.0,1.0,0.0,0.0,0.0,0.0,0.0,-1.0,1.0,6.0,5.4,8.5,9.2,10.4,13.0,9.1,6.9,4.7,3.0,2.0,2.3,0.4,0.2,1.0,3.5041666666666664,1.0,1.0,1.6,1.9,1.5,1.4,3.0,3.0,2.0,1.0,0.0,2.0,2.5,7.0,9.0,8.7,9.5,10.0,8.0,7.5,4.3,2.1,1.5,6.0,0.2,0.4,1.0,3.920833333333333,1.0,1.0,0.8,1.8,2.9,5.9,6.2,5.2,4.7,4.9,4.5,4.6,5.8,6.4,5.8,5.6,5.3,5.5,3.3,2.8,1.6,0.2,3.0,1.0,0.0,0.0,1.0,3.658333333333333,1.0,1.0,0.0,-1.0,-1.0,0.0,1.0,2.0,0.1,2.0,3.0,0.9,3.8,7.1,12.0,11.1,10.9,10.6,8.6,7.4,5.4,4.7,4.3,1.4,0.2,0.7,1.0,3.9666666666666663,1.0,1.0,-1.0,0.0,-6.0,-6.0,-7.0,-6.0,-6.0,-6.0,-6.0,-3.0,-2.0,0.4,2.8,4.0,4.9,6.1,5.4,3.1,0.8,2.0,1.0,0.0,0.0,0.0,3.0,-0.7708333333333334,1.0,1.0,0.0,-1.0,-2.0,-2.0,-2.0,0.0,-1.0,0.0,0.0,0.0,2.0,2.1,3.6,4.1,4.3,4.7,3.9,3.3,2.0,3.0,4.0,1.0,1.0,0.0,3.0,1.2916666666666667,1.0,1.0],\"type\":\"box\"},{\"marker\":{\"color\":\"rgb(44, 160, 44)\"},\"name\":\"Cluster 2\",\"y\":[1.7,2.2,1.7,1.4,1.3,0.6,0.3,0.3,0.0,0.2,0.2,0.2,1.0,1.0,0.0,0.2,2.0,0.1,0.0,0.0,0.0,0.0,1.0,0.0,3.0,0.6416666666666667,1.0,2.0,0.0,0.0,-1.0,-2.0,-2.0,-3.0,-3.0,-3.0,-4.0,-6.0,-6.0,-6.0,-5.0,-4.0,-2.0,-1.0,-1.0,-3.0,-5.0,-6.0,-6.0,-7.0,-7.0,-7.0,3.0,-3.75,3.0,2.0,1.9,0.0,1.4,0.0,0.0,0.0,-1.0,-2.0,-3.0,-5.0,-5.0,-4.0,-3.0,-3.0,-4.0,-2.0,-2.0,-2.0,-4.0,-6.0,-6.0,-7.0,-8.0,-11.0,3.0,-3.1125000000000003,3.0,2.0,1.0,0.0,0.0,0.0,-1.0,-1.0,-1.0,-3.0,-3.0,-4.0,-4.0,-5.0,-6.0,-6.0,-6.0,-6.0,-6.0,-7.0,-7.0,-7.0,-7.0,-8.0,-8.0,-8.0,3.0,-4.291666666666667,3.0,2.0,0.1,2.0,1.0,0.0,0.0,0.0,-1.0,-1.0,-2.0,-3.0,-3.0,-2.0,-2.0,-2.0,-2.0,-2.0,-2.0,-2.0,-3.0,-3.0,-3.0,-4.0,-5.0,-7.0,3.0,-1.9124999999999999,3.0,2.0,5.7,4.7,4.4,3.9,2.4,1.7,2.0,1.2,1.0,1.5,1.2,-2.0,-2.0,-2.0,-2.0,-2.0,-1.0,-3.0,-3.0,-3.0,-3.0,-4.0,-4.0,-4.0,3.0,-0.22083333333333335,1.0,2.0,4.0,4.0,3.0,3.0,0.7,0.1,0.1,2.0,1.0,0.0,0.0,0.4,0.2,0.1,1.0,1.0,1.0,1.0,1.0,0.0,1.0,0.0,1.0,1.0,3.0,1.1083333333333332,1.0,2.0,0.0,0.0,-1.0,-2.0,-2.0,-2.0,-2.0,-2.0,-2.0,-2.0,-2.0,-2.0,-2.0,-2.0,-3.0,-3.0,-3.0,-4.0,-4.0,-4.0,-5.0,-5.0,-4.0,-3.0,3.0,-2.5416666666666665,3.0,2.0,10.0,10.0,8.0,10.0,11.0,10.0,7.0,4.0,3.0,0.8,4.1,5.9,6.9,9.8,10.1,10.7,8.4,7.3,3.5,1.6,6.0,5.0,2.0,3.0,1.0,6.5874999999999995,1.0,2.0,0.4,0.9,3.0,2.0,2.0,2.0,1.0,1.0,1.0,0.0,-1.0,-2.0,-2.0,-3.0,-3.0,-3.0,-4.0,-4.0,-5.0,-5.0,-5.0,-5.0,-5.0,-5.0,3.0,-1.6125,1.0,2.0,3.0,2.0,2.0,0.0,-1.0,-3.0,-2.0,-3.0,-6.0,-8.0,-9.0,-9.0,-9.0,-8.0,-8.0,-8.0,-10.0,-11.0,-12.0,-12.0,-12.0,-12.0,-13.0,-13.0,3.0,-6.75,3.0,2.0],\"type\":\"box\"},{\"marker\":{\"color\":\"rgb(214, 39, 40)\"},\"name\":\"Cluster 3\",\"y\":[0.4,0.2,0.2,6.0,0.2,0.4,0.2,2.0,1.0,2.0,2.0,1.0,1.0,0.6,0.2,0.5,0.3,0.3,1.0,1.0,0.0,0.0,0.0,-2.0,3.0,0.7708333333333334,1.0,3.0,5.0,7.0,7.0,5.0,6.0,4.0,5.0,5.0,3.0,2.0,3.5,5.4,6.7,9.2,9.7,8.0,6.6,7.6,8.0,4.1,0.9,3.0,1.0,1.0,1.0,5.154166666666667,1.0,3.0,-1.0,-1.0,-1.0,-1.0,0.0,-1.0,-2.0,-3.0,-3.0,-3.0,-1.0,-2.0,0.0,0.0,0.0,0.0,0.0,0.0,-1.0,-2.0,-3.0,-3.0,-4.0,-5.0,3.0,-1.5416666666666667,1.0,3.0,-8.0,-8.0,-9.0,-9.0,-10.0,-10.0,-10.0,-10.0,-10.0,-10.0,-10.0,-9.0,-8.0,-8.0,-8.0,-8.0,-8.0,-8.0,-9.0,-11.0,-11.0,-13.0,-13.0,-12.0,3.0,-9.583333333333334,3.0,3.0,-5.0,-6.0,-6.0,-6.0,-6.0,-7.0,-7.0,-7.0,-7.0,-7.0,-6.0,-6.0,-5.0,-4.0,-3.0,-2.0,-2.0,-2.0,-5.0,-7.0,-7.0,-9.0,-8.0,-9.0,3.0,-5.791666666666667,3.0,3.0,1.6,1.6,1.6,0.6,0.0,0.0,0.0,0.0,-1.0,1.0,0.6,1.2,1.5,1.4,1.6,1.4,5.0,4.0,2.0,2.0,0.0,-2.0,-2.0,-3.0,3.0,0.7958333333333333,1.0,3.0,-4.0,-5.0,-5.0,-5.0,-6.0,-7.0,-5.0,-4.0,-5.0,-4.0,-4.0,-3.0,-4.0,-3.0,-3.0,-4.0,-4.0,-5.0,-5.0,-6.0,-7.0,-7.0,-8.0,-9.0,3.0,-5.083333333333333,3.0,3.0,0.0,0.0,0.0,0.0,3.0,0.0,0.0,0.0,5.0,5.0,3.0,2.0,4.0,2.0,0.3,0.4,1.0,1.0,0.0,0.0,0.0,-1.0,0.0,0.0,3.0,1.0708333333333333,1.0,3.0,-1.0,-1.0,-1.0,-2.0,-2.0,-3.0,-3.0,-3.0,-2.0,-2.0,-3.0,-2.0,-2.0,-2.0,-2.0,-2.0,-2.0,-2.0,-3.0,-4.0,-5.0,-6.0,-6.0,-7.0,3.0,-2.8333333333333335,3.0,3.0,6.0,5.0,8.0,5.0,3.0,2.0,5.0,5.0,2.0,3.4,8.0,11.0,14.0,12.9,12.8,14.0,11.3,8.5,4.9,3.8,1.9,3.0,3.0,1.0,1.0,6.4375,2.0,3.0,1.9,1.4,0.3,0.2,2.0,1.0,1.0,1.0,0.0,4.5,7.0,9.0,10.0,8.6,7.6,6.0,4.4,3.9,2.4,0.4,0.4,1.0,1.0,1.0,1.0,3.1666666666666665,1.0,3.0,2.0,2.0,2.0,2.0,1.0,1.0,0.0,0.0,2.0,1.9,3.0,3.9,3.7,5.1,4.6,3.2,1.5,1.0,1.0,1.0,1.0,1.0,1.0,0.0,3.0,1.8708333333333336,1.0,3.0,6.2,5.7,4.6,3.4,0.7,0.0,1.0,0.3,1.0,2.5,4.1,6.1,7.5,10.0,12.0,13.0,10.0,9.0,6.8,0.9,0.2,-0.2,-0.8,-1.2,1.0,4.283333333333333,1.0,3.0,11.0,8.0,7.0,7.0,6.8,6.3,6.2,5.6,10.1,18.0,20.0,20.0,20.0,17.0,10.0,8.7,6.9,5.7,5.2,5.2,3.7,1.0,5.0,3.0,1.0,9.058333333333334,2.0,3.0,7.0,5.4,4.2,4.1,1.8,2.3,2.4,2.8,6.0,7.0,7.0,7.0,8.0,9.0,9.0,10.0,5.1,3.2,3.3,3.2,2.5,1.3,1.1,0.7,1.0,4.7250000000000005,1.0,3.0,9.5,12.0,8.9,8.8,6.7,6.3,6.3,7.5,10.0,11.0,11.0,11.0,10.0,11.0,11.0,11.0,8.6,10.0,10.0,9.0,7.0,6.3,6.6,6.6,1.0,9.004166666666668,2.0,3.0,11.3,9.9,9.3,7.8,6.3,6.2,6.3,6.8,13.0,16.0,18.0,20.0,21.0,19.0,15.0,15.0,13.0,12.0,9.4,9.3,11.0,7.7,9.0,6.6,2.0,11.620833333333332,2.0,3.0,8.6,8.1,7.2,7.0,6.5,5.9,5.8,7.2,9.3,11.6,10.5,9.4,9.9,9.2,8.1,9.4,9.8,10.3,10.5,10.4,9.9,6.1,5.6,4.0,1.0,8.345833333333333,2.0,3.0,20.0,21.0,21.0,20.0,15.4,19.0,15.1,15.8,21.0,23.0,26.0,28.0,29.0,29.0,25.0,22.0,22.0,21.0,19.0,20.0,20.0,19.0,19.0,18.0,0.0,21.179166666666667,0.0,3.0,22.0,21.0,20.0,20.0,19.0,15.2,19.0,16.0,17.9,26.0,21.1,26.0,27.0,27.0,27.0,27.0,20.6,26.0,25.0,25.0,23.0,17.0,16.7,15.4,0.0,21.662499999999998,0.0,3.0,7.4,7.2,7.1,6.8,6.1,6.2,6.8,5.6,6.4,9.4,10.4,12.0,12.8,12.2,15.0,13.0,7.4,9.0,6.3,5.3,5.0,4.4,4.5,4.1,1.0,7.933333333333334,2.0,3.0,12.0,10.3,10.0,9.7,9.2,8.7,9.6,10.0,12.0,11.9,11.0,11.0,10.4,10.0,9.7,12.0,12.0,11.0,10.0,10.0,10.0,10.0,7.8,7.9,1.0,10.258333333333333,2.0,3.0,7.9,7.9,10.0,9.0,9.0,9.0,9.0,7.2,7.6,10.0,8.7,11.0,10.0,10.7,14.0,13.0,13.0,13.0,13.0,8.5,7.9,5.9,5.9,5.1,1.0,9.429166666666665,2.0,3.0,8.4,8.7,9.1,9.2,9.2,9.0,8.4,7.6,8.1,9.5,10.0,8.8,12.0,10.0,7.1,7.2,7.8,7.6,6.6,6.0,5.1,4.6,3.9,2.7,1.0,7.7749999999999995,2.0,3.0,9.8,7.7,6.3,6.2,4.0,4.2,4.0,3.9,6.0,8.0,6.7,7.7,8.3,8.5,8.6,7.8,6.6,5.5,4.0,3.0,2.1,6.0,3.0,3.0,1.0,5.870833333333334,1.0,3.0,8.0,7.8,8.0,6.0,3.8,3.6,3.9,5.0,3.4,6.0,6.0,7.0,7.4,8.2,8.6,9.0,6.6,5.9,7.0,4.3,2.7,0.7,0.2,0.4,1.0,5.395833333333333,1.0,3.0,-3.0,-4.0,-5.0,-5.0,-5.0,-5.0,-5.0,-5.0,-6.0,-6.0,-4.0,-2.0,-2.0,-2.0,-1.0,-1.0,-1.0,-3.0,-4.0,-6.0,-6.0,-7.0,-6.0,-8.0,3.0,-4.25,3.0,3.0,8.0,2.0,3.0,1.0,0.0,0.0,0.0,0.0,-1.0,0.5,3.0,5.6,7.1,7.3,5.1,2.3,0.2,4.0,3.0,2.0,1.0,3.0,1.0,1.0,3.0,2.4625,1.0,3.0,6.0,4.0,2.0,3.0,-1.0,1.0,2.0,1.0,2.0,4.0,1.8,5.5,9.2,7.8,8.2,7.4,6.2,6.1,0.6,4.0,5.0,1.0,0.0,0.0,1.0,3.6166666666666667,1.0,3.0,1.3,2.0,1.0,1.0,1.0,0.0,-1.0,0.0,0.0,0.0,0.0,1.0,2.0,2.0,5.0,4.0,4.0,1.0,-1.0,-1.0,-2.0,-3.0,-4.0,1.0,3.0,0.5958333333333333,1.0,3.0,-2.0,-2.0,-2.0,-3.0,-4.0,-5.0,-5.0,-5.0,-5.0,-5.0,-3.0,-2.0,0.0,-1.0,-1.0,-1.0,-1.0,-3.0,-4.0,-5.0,-5.0,-5.0,-5.0,-5.0,3.0,-3.2916666666666665,3.0,3.0],\"type\":\"box\"}],                        {\"template\":{\"data\":{\"histogram2dcontour\":[{\"type\":\"histogram2dcontour\",\"colorbar\":{\"outlinewidth\":0,\"ticks\":\"\"},\"colorscale\":[[0.0,\"#0d0887\"],[0.1111111111111111,\"#46039f\"],[0.2222222222222222,\"#7201a8\"],[0.3333333333333333,\"#9c179e\"],[0.4444444444444444,\"#bd3786\"],[0.5555555555555556,\"#d8576b\"],[0.6666666666666666,\"#ed7953\"],[0.7777777777777778,\"#fb9f3a\"],[0.8888888888888888,\"#fdca26\"],[1.0,\"#f0f921\"]]}],\"choropleth\":[{\"type\":\"choropleth\",\"colorbar\":{\"outlinewidth\":0,\"ticks\":\"\"}}],\"histogram2d\":[{\"type\":\"histogram2d\",\"colorbar\":{\"outlinewidth\":0,\"ticks\":\"\"},\"colorscale\":[[0.0,\"#0d0887\"],[0.1111111111111111,\"#46039f\"],[0.2222222222222222,\"#7201a8\"],[0.3333333333333333,\"#9c179e\"],[0.4444444444444444,\"#bd3786\"],[0.5555555555555556,\"#d8576b\"],[0.6666666666666666,\"#ed7953\"],[0.7777777777777778,\"#fb9f3a\"],[0.8888888888888888,\"#fdca26\"],[1.0,\"#f0f921\"]]}],\"heatmap\":[{\"type\":\"heatmap\",\"colorbar\":{\"outlinewidth\":0,\"ticks\":\"\"},\"colorscale\":[[0.0,\"#0d0887\"],[0.1111111111111111,\"#46039f\"],[0.2222222222222222,\"#7201a8\"],[0.3333333333333333,\"#9c179e\"],[0.4444444444444444,\"#bd3786\"],[0.5555555555555556,\"#d8576b\"],[0.6666666666666666,\"#ed7953\"],[0.7777777777777778,\"#fb9f3a\"],[0.8888888888888888,\"#fdca26\"],[1.0,\"#f0f921\"]]}],\"heatmapgl\":[{\"type\":\"heatmapgl\",\"colorbar\":{\"outlinewidth\":0,\"ticks\":\"\"},\"colorscale\":[[0.0,\"#0d0887\"],[0.1111111111111111,\"#46039f\"],[0.2222222222222222,\"#7201a8\"],[0.3333333333333333,\"#9c179e\"],[0.4444444444444444,\"#bd3786\"],[0.5555555555555556,\"#d8576b\"],[0.6666666666666666,\"#ed7953\"],[0.7777777777777778,\"#fb9f3a\"],[0.8888888888888888,\"#fdca26\"],[1.0,\"#f0f921\"]]}],\"contourcarpet\":[{\"type\":\"contourcarpet\",\"colorbar\":{\"outlinewidth\":0,\"ticks\":\"\"}}],\"contour\":[{\"type\":\"contour\",\"colorbar\":{\"outlinewidth\":0,\"ticks\":\"\"},\"colorscale\":[[0.0,\"#0d0887\"],[0.1111111111111111,\"#46039f\"],[0.2222222222222222,\"#7201a8\"],[0.3333333333333333,\"#9c179e\"],[0.4444444444444444,\"#bd3786\"],[0.5555555555555556,\"#d8576b\"],[0.6666666666666666,\"#ed7953\"],[0.7777777777777778,\"#fb9f3a\"],[0.8888888888888888,\"#fdca26\"],[1.0,\"#f0f921\"]]}],\"surface\":[{\"type\":\"surface\",\"colorbar\":{\"outlinewidth\":0,\"ticks\":\"\"},\"colorscale\":[[0.0,\"#0d0887\"],[0.1111111111111111,\"#46039f\"],[0.2222222222222222,\"#7201a8\"],[0.3333333333333333,\"#9c179e\"],[0.4444444444444444,\"#bd3786\"],[0.5555555555555556,\"#d8576b\"],[0.6666666666666666,\"#ed7953\"],[0.7777777777777778,\"#fb9f3a\"],[0.8888888888888888,\"#fdca26\"],[1.0,\"#f0f921\"]]}],\"mesh3d\":[{\"type\":\"mesh3d\",\"colorbar\":{\"outlinewidth\":0,\"ticks\":\"\"}}],\"scatter\":[{\"fillpattern\":{\"fillmode\":\"overlay\",\"size\":10,\"solidity\":0.2},\"type\":\"scatter\"}],\"parcoords\":[{\"type\":\"parcoords\",\"line\":{\"colorbar\":{\"outlinewidth\":0,\"ticks\":\"\"}}}],\"scatterpolargl\":[{\"type\":\"scatterpolargl\",\"marker\":{\"colorbar\":{\"outlinewidth\":0,\"ticks\":\"\"}}}],\"bar\":[{\"error_x\":{\"color\":\"#2a3f5f\"},\"error_y\":{\"color\":\"#2a3f5f\"},\"marker\":{\"line\":{\"color\":\"#E5ECF6\",\"width\":0.5},\"pattern\":{\"fillmode\":\"overlay\",\"size\":10,\"solidity\":0.2}},\"type\":\"bar\"}],\"scattergeo\":[{\"type\":\"scattergeo\",\"marker\":{\"colorbar\":{\"outlinewidth\":0,\"ticks\":\"\"}}}],\"scatterpolar\":[{\"type\":\"scatterpolar\",\"marker\":{\"colorbar\":{\"outlinewidth\":0,\"ticks\":\"\"}}}],\"histogram\":[{\"marker\":{\"pattern\":{\"fillmode\":\"overlay\",\"size\":10,\"solidity\":0.2}},\"type\":\"histogram\"}],\"scattergl\":[{\"type\":\"scattergl\",\"marker\":{\"colorbar\":{\"outlinewidth\":0,\"ticks\":\"\"}}}],\"scatter3d\":[{\"type\":\"scatter3d\",\"line\":{\"colorbar\":{\"outlinewidth\":0,\"ticks\":\"\"}},\"marker\":{\"colorbar\":{\"outlinewidth\":0,\"ticks\":\"\"}}}],\"scattermapbox\":[{\"type\":\"scattermapbox\",\"marker\":{\"colorbar\":{\"outlinewidth\":0,\"ticks\":\"\"}}}],\"scatterternary\":[{\"type\":\"scatterternary\",\"marker\":{\"colorbar\":{\"outlinewidth\":0,\"ticks\":\"\"}}}],\"scattercarpet\":[{\"type\":\"scattercarpet\",\"marker\":{\"colorbar\":{\"outlinewidth\":0,\"ticks\":\"\"}}}],\"carpet\":[{\"aaxis\":{\"endlinecolor\":\"#2a3f5f\",\"gridcolor\":\"white\",\"linecolor\":\"white\",\"minorgridcolor\":\"white\",\"startlinecolor\":\"#2a3f5f\"},\"baxis\":{\"endlinecolor\":\"#2a3f5f\",\"gridcolor\":\"white\",\"linecolor\":\"white\",\"minorgridcolor\":\"white\",\"startlinecolor\":\"#2a3f5f\"},\"type\":\"carpet\"}],\"table\":[{\"cells\":{\"fill\":{\"color\":\"#EBF0F8\"},\"line\":{\"color\":\"white\"}},\"header\":{\"fill\":{\"color\":\"#C8D4E3\"},\"line\":{\"color\":\"white\"}},\"type\":\"table\"}],\"barpolar\":[{\"marker\":{\"line\":{\"color\":\"#E5ECF6\",\"width\":0.5},\"pattern\":{\"fillmode\":\"overlay\",\"size\":10,\"solidity\":0.2}},\"type\":\"barpolar\"}],\"pie\":[{\"automargin\":true,\"type\":\"pie\"}]},\"layout\":{\"autotypenumbers\":\"strict\",\"colorway\":[\"#636efa\",\"#EF553B\",\"#00cc96\",\"#ab63fa\",\"#FFA15A\",\"#19d3f3\",\"#FF6692\",\"#B6E880\",\"#FF97FF\",\"#FECB52\"],\"font\":{\"color\":\"#2a3f5f\"},\"hovermode\":\"closest\",\"hoverlabel\":{\"align\":\"left\"},\"paper_bgcolor\":\"white\",\"plot_bgcolor\":\"#E5ECF6\",\"polar\":{\"bgcolor\":\"#E5ECF6\",\"angularaxis\":{\"gridcolor\":\"white\",\"linecolor\":\"white\",\"ticks\":\"\"},\"radialaxis\":{\"gridcolor\":\"white\",\"linecolor\":\"white\",\"ticks\":\"\"}},\"ternary\":{\"bgcolor\":\"#E5ECF6\",\"aaxis\":{\"gridcolor\":\"white\",\"linecolor\":\"white\",\"ticks\":\"\"},\"baxis\":{\"gridcolor\":\"white\",\"linecolor\":\"white\",\"ticks\":\"\"},\"caxis\":{\"gridcolor\":\"white\",\"linecolor\":\"white\",\"ticks\":\"\"}},\"coloraxis\":{\"colorbar\":{\"outlinewidth\":0,\"ticks\":\"\"}},\"colorscale\":{\"sequential\":[[0.0,\"#0d0887\"],[0.1111111111111111,\"#46039f\"],[0.2222222222222222,\"#7201a8\"],[0.3333333333333333,\"#9c179e\"],[0.4444444444444444,\"#bd3786\"],[0.5555555555555556,\"#d8576b\"],[0.6666666666666666,\"#ed7953\"],[0.7777777777777778,\"#fb9f3a\"],[0.8888888888888888,\"#fdca26\"],[1.0,\"#f0f921\"]],\"sequentialminus\":[[0.0,\"#0d0887\"],[0.1111111111111111,\"#46039f\"],[0.2222222222222222,\"#7201a8\"],[0.3333333333333333,\"#9c179e\"],[0.4444444444444444,\"#bd3786\"],[0.5555555555555556,\"#d8576b\"],[0.6666666666666666,\"#ed7953\"],[0.7777777777777778,\"#fb9f3a\"],[0.8888888888888888,\"#fdca26\"],[1.0,\"#f0f921\"]],\"diverging\":[[0,\"#8e0152\"],[0.1,\"#c51b7d\"],[0.2,\"#de77ae\"],[0.3,\"#f1b6da\"],[0.4,\"#fde0ef\"],[0.5,\"#f7f7f7\"],[0.6,\"#e6f5d0\"],[0.7,\"#b8e186\"],[0.8,\"#7fbc41\"],[0.9,\"#4d9221\"],[1,\"#276419\"]]},\"xaxis\":{\"gridcolor\":\"white\",\"linecolor\":\"white\",\"ticks\":\"\",\"title\":{\"standoff\":15},\"zerolinecolor\":\"white\",\"automargin\":true,\"zerolinewidth\":2},\"yaxis\":{\"gridcolor\":\"white\",\"linecolor\":\"white\",\"ticks\":\"\",\"title\":{\"standoff\":15},\"zerolinecolor\":\"white\",\"automargin\":true,\"zerolinewidth\":2},\"scene\":{\"xaxis\":{\"backgroundcolor\":\"#E5ECF6\",\"gridcolor\":\"white\",\"linecolor\":\"white\",\"showbackground\":true,\"ticks\":\"\",\"zerolinecolor\":\"white\",\"gridwidth\":2},\"yaxis\":{\"backgroundcolor\":\"#E5ECF6\",\"gridcolor\":\"white\",\"linecolor\":\"white\",\"showbackground\":true,\"ticks\":\"\",\"zerolinecolor\":\"white\",\"gridwidth\":2},\"zaxis\":{\"backgroundcolor\":\"#E5ECF6\",\"gridcolor\":\"white\",\"linecolor\":\"white\",\"showbackground\":true,\"ticks\":\"\",\"zerolinecolor\":\"white\",\"gridwidth\":2}},\"shapedefaults\":{\"line\":{\"color\":\"#2a3f5f\"}},\"annotationdefaults\":{\"arrowcolor\":\"#2a3f5f\",\"arrowhead\":0,\"arrowwidth\":1},\"geo\":{\"bgcolor\":\"white\",\"landcolor\":\"#E5ECF6\",\"subunitcolor\":\"white\",\"showland\":true,\"showlakes\":true,\"lakecolor\":\"white\"},\"title\":{\"x\":0.05},\"mapbox\":{\"style\":\"light\"}}},\"title\":{\"text\":\"Box plots of hourly temperature data from the whole year as well as from each individual cluster\\u003cbr\\u003e as identfied using correlation based hirearchical clustering\",\"x\":0.5,\"y\":0.95},\"yaxis\":{\"title\":{\"text\":\"Temperature (C)\"}},\"margin\":{\"l\":50,\"r\":50,\"b\":50,\"t\":75},\"autosize\":false,\"width\":1000,\"height\":400},                        {\"responsive\": true}                    ).then(function(){\n",
              "                            \n",
              "var gd = document.getElementById('9b58ec3d-bc47-46dd-82c4-391fb864e4f7');\n",
              "var x = new MutationObserver(function (mutations, observer) {{\n",
              "        var display = window.getComputedStyle(gd).display;\n",
              "        if (!display || display === 'none') {{\n",
              "            console.log([gd, 'removed!']);\n",
              "            Plotly.purge(gd);\n",
              "            observer.disconnect();\n",
              "        }}\n",
              "}});\n",
              "\n",
              "// Listen for the removal of the full notebook cells\n",
              "var notebookContainer = gd.closest('#notebook-container');\n",
              "if (notebookContainer) {{\n",
              "    x.observe(notebookContainer, {childList: true});\n",
              "}}\n",
              "\n",
              "// Listen for the clearing of the current output cell\n",
              "var outputEl = gd.closest('.output');\n",
              "if (outputEl) {{\n",
              "    x.observe(outputEl, {childList: true});\n",
              "}}\n",
              "\n",
              "                        })                };                            </script>        </div>\n",
              "</body>\n",
              "</html>"
            ]
          },
          "metadata": {}
        }
      ]
    },
    {
      "cell_type": "markdown",
      "source": [
        "The box plots clearly show that correlation based hierarchical clustering is not good at reducing the variance in the data unlike the methods considered previously."
      ],
      "metadata": {
        "id": "5AxepUXpEbJC"
      }
    },
    {
      "cell_type": "markdown",
      "source": [
        "## Principal Component Analysis\n",
        "In the above anaylsis only dry bulb temperature data was used to identify representative days. However, the weather is dependent on many factors not just the temperature as indicated by the various fileds of the weather data file. There are in total 30 predictors in the original weather data file. So, a principal component analysis can now be done to find the directions with the greatest variability."
      ],
      "metadata": {
        "id": "XCB2HusfYAEJ"
      }
    },
    {
      "cell_type": "code",
      "source": [
        "df = df.loc[:,~df.columns.isin([\"day_of_year\",\"hour\"])]\n",
        "print(df.columns)"
      ],
      "metadata": {
        "colab": {
          "base_uri": "https://localhost:8080/"
        },
        "id": "nJBOc-SbY3mC",
        "outputId": "22da96de-ba40-4303-a582-dbb67e53d8b3"
      },
      "execution_count": null,
      "outputs": [
        {
          "output_type": "stream",
          "name": "stdout",
          "text": [
            "Index(['Dry Bulb Temperature {C}', 'Dew Point Temperature {C}',\n",
            "       'Relative Humidity {%}', 'Atmospheric Pressure {Pa}',\n",
            "       'Extraterrestrial Horizontal Radiation {Wh/m2}',\n",
            "       'Extraterrestrial Direct Normal Radiation {Wh/m2}',\n",
            "       'Horizontal Infrared Radiation Intensity from Sky {Wh/m2}',\n",
            "       'Global Horizontal Radiation {Wh/m2}',\n",
            "       'Direct Normal Radiation {Wh/m2}',\n",
            "       'Diffuse Horizontal Radiation {Wh/m2}',\n",
            "       'Global Horizontal Illuminance {lux}',\n",
            "       'Direct Normal Illuminance {lux}',\n",
            "       'Diffuse Horizontal Illuminance {lux}', 'Zenith Luminance {Cd/m2}',\n",
            "       'Wind Direction {deg}', 'Wind Speed {m/s}', 'Total Sky Cover {.1}',\n",
            "       'Opaque Sky Cover {.1}', 'Visibility {km}', 'Ceiling Height {m}',\n",
            "       'Present Weather Observation', 'Precipitable Water {mm}',\n",
            "       'Aerosol Optical Depth {.001}', 'Snow Depth {cm}',\n",
            "       'Days Since Last Snow', 'Albedo {.01}',\n",
            "       'Liquid Precipitation Depth {mm}',\n",
            "       'Liquid Precipitation Quantity {hr}'],\n",
            "      dtype='object')\n"
          ]
        }
      ]
    },
    {
      "cell_type": "markdown",
      "source": [
        "Let us look at the standard deviation of the various columns of the weather data."
      ],
      "metadata": {
        "id": "xXzOxDtOFCfa"
      }
    },
    {
      "cell_type": "code",
      "source": [
        "print(df.std())"
      ],
      "metadata": {
        "colab": {
          "base_uri": "https://localhost:8080/"
        },
        "id": "KIwY3FIIcYlr",
        "outputId": "b68f7d94-eac0-45b3-89d9-b4770f800a50"
      },
      "execution_count": null,
      "outputs": [
        {
          "output_type": "stream",
          "name": "stdout",
          "text": [
            "Dry Bulb Temperature {C}                                       10.279289\n",
            "Dew Point Temperature {C}                                       7.393292\n",
            "Relative Humidity {%}                                          21.765141\n",
            "Atmospheric Pressure {Pa}                                     571.850298\n",
            "Extraterrestrial Horizontal Radiation {Wh/m2}                 413.133716\n",
            "Extraterrestrial Direct Normal Radiation {Wh/m2}              660.697684\n",
            "Horizontal Infrared Radiation Intensity from Sky {Wh/m2}       49.079165\n",
            "Global Horizontal Radiation {Wh/m2}                           286.348478\n",
            "Direct Normal Radiation {Wh/m2}                               352.139673\n",
            "Diffuse Horizontal Radiation {Wh/m2}                           77.711478\n",
            "Global Horizontal Illuminance {lux}                         30409.993874\n",
            "Direct Normal Illuminance {lux}                             34590.554206\n",
            "Diffuse Horizontal Illuminance {lux}                         9878.988499\n",
            "Zenith Luminance {Cd/m2}                                     3320.553853\n",
            "Wind Direction {deg}                                           99.109822\n",
            "Wind Speed {m/s}                                                2.194376\n",
            "Total Sky Cover {.1}                                            3.909073\n",
            "Opaque Sky Cover {.1}                                           3.913523\n",
            "Visibility {km}                                              2099.931506\n",
            "Ceiling Height {m}                                          30984.891061\n",
            "Present Weather Observation                                     3.769230\n",
            "Precipitable Water {mm}                                         9.675573\n",
            "Aerosol Optical Depth {.001}                                    0.049204\n",
            "Snow Depth {cm}                                                 8.832017\n",
            "Days Since Last Snow                                            0.000000\n",
            "Albedo {.01}                                                    0.186452\n",
            "Liquid Precipitation Depth {mm}                                 0.274730\n",
            "Liquid Precipitation Quantity {hr}                              0.000000\n",
            "dtype: float64\n"
          ]
        }
      ]
    },
    {
      "cell_type": "markdown",
      "source": [
        "To make the data more uniform, it can be scaled with respect to the respective column mean and standard deviation."
      ],
      "metadata": {
        "id": "qzn0xfjWFH0O"
      }
    },
    {
      "cell_type": "code",
      "source": [
        "scaler = StandardScaler(with_std=True,with_mean=True)\n",
        "df_scaled = scaler.fit_transform(df)"
      ],
      "metadata": {
        "id": "0be1RGnsdLSM"
      },
      "execution_count": null,
      "outputs": []
    },
    {
      "cell_type": "markdown",
      "source": [
        "The Principal Components of the scaled weather data which has 30 columns and 8760 data points can now be identified."
      ],
      "metadata": {
        "id": "Ol2j1URmFQNc"
      }
    },
    {
      "cell_type": "code",
      "source": [
        "pca_weather = PCA()\n",
        "pca_weather.fit(df_scaled)"
      ],
      "metadata": {
        "colab": {
          "base_uri": "https://localhost:8080/",
          "height": 74
        },
        "id": "KitB6SVNfWUT",
        "outputId": "5ebc5eba-d22b-448e-9178-42cdd44f42f8"
      },
      "execution_count": null,
      "outputs": [
        {
          "output_type": "execute_result",
          "data": {
            "text/plain": [
              "PCA()"
            ],
            "text/html": [
              "<style>#sk-container-id-1 {color: black;background-color: white;}#sk-container-id-1 pre{padding: 0;}#sk-container-id-1 div.sk-toggleable {background-color: white;}#sk-container-id-1 label.sk-toggleable__label {cursor: pointer;display: block;width: 100%;margin-bottom: 0;padding: 0.3em;box-sizing: border-box;text-align: center;}#sk-container-id-1 label.sk-toggleable__label-arrow:before {content: \"▸\";float: left;margin-right: 0.25em;color: #696969;}#sk-container-id-1 label.sk-toggleable__label-arrow:hover:before {color: black;}#sk-container-id-1 div.sk-estimator:hover label.sk-toggleable__label-arrow:before {color: black;}#sk-container-id-1 div.sk-toggleable__content {max-height: 0;max-width: 0;overflow: hidden;text-align: left;background-color: #f0f8ff;}#sk-container-id-1 div.sk-toggleable__content pre {margin: 0.2em;color: black;border-radius: 0.25em;background-color: #f0f8ff;}#sk-container-id-1 input.sk-toggleable__control:checked~div.sk-toggleable__content {max-height: 200px;max-width: 100%;overflow: auto;}#sk-container-id-1 input.sk-toggleable__control:checked~label.sk-toggleable__label-arrow:before {content: \"▾\";}#sk-container-id-1 div.sk-estimator input.sk-toggleable__control:checked~label.sk-toggleable__label {background-color: #d4ebff;}#sk-container-id-1 div.sk-label input.sk-toggleable__control:checked~label.sk-toggleable__label {background-color: #d4ebff;}#sk-container-id-1 input.sk-hidden--visually {border: 0;clip: rect(1px 1px 1px 1px);clip: rect(1px, 1px, 1px, 1px);height: 1px;margin: -1px;overflow: hidden;padding: 0;position: absolute;width: 1px;}#sk-container-id-1 div.sk-estimator {font-family: monospace;background-color: #f0f8ff;border: 1px dotted black;border-radius: 0.25em;box-sizing: border-box;margin-bottom: 0.5em;}#sk-container-id-1 div.sk-estimator:hover {background-color: #d4ebff;}#sk-container-id-1 div.sk-parallel-item::after {content: \"\";width: 100%;border-bottom: 1px solid gray;flex-grow: 1;}#sk-container-id-1 div.sk-label:hover label.sk-toggleable__label {background-color: #d4ebff;}#sk-container-id-1 div.sk-serial::before {content: \"\";position: absolute;border-left: 1px solid gray;box-sizing: border-box;top: 0;bottom: 0;left: 50%;z-index: 0;}#sk-container-id-1 div.sk-serial {display: flex;flex-direction: column;align-items: center;background-color: white;padding-right: 0.2em;padding-left: 0.2em;position: relative;}#sk-container-id-1 div.sk-item {position: relative;z-index: 1;}#sk-container-id-1 div.sk-parallel {display: flex;align-items: stretch;justify-content: center;background-color: white;position: relative;}#sk-container-id-1 div.sk-item::before, #sk-container-id-1 div.sk-parallel-item::before {content: \"\";position: absolute;border-left: 1px solid gray;box-sizing: border-box;top: 0;bottom: 0;left: 50%;z-index: -1;}#sk-container-id-1 div.sk-parallel-item {display: flex;flex-direction: column;z-index: 1;position: relative;background-color: white;}#sk-container-id-1 div.sk-parallel-item:first-child::after {align-self: flex-end;width: 50%;}#sk-container-id-1 div.sk-parallel-item:last-child::after {align-self: flex-start;width: 50%;}#sk-container-id-1 div.sk-parallel-item:only-child::after {width: 0;}#sk-container-id-1 div.sk-dashed-wrapped {border: 1px dashed gray;margin: 0 0.4em 0.5em 0.4em;box-sizing: border-box;padding-bottom: 0.4em;background-color: white;}#sk-container-id-1 div.sk-label label {font-family: monospace;font-weight: bold;display: inline-block;line-height: 1.2em;}#sk-container-id-1 div.sk-label-container {text-align: center;}#sk-container-id-1 div.sk-container {/* jupyter's `normalize.less` sets `[hidden] { display: none; }` but bootstrap.min.css set `[hidden] { display: none !important; }` so we also need the `!important` here to be able to override the default hidden behavior on the sphinx rendered scikit-learn.org. See: https://github.com/scikit-learn/scikit-learn/issues/21755 */display: inline-block !important;position: relative;}#sk-container-id-1 div.sk-text-repr-fallback {display: none;}</style><div id=\"sk-container-id-1\" class=\"sk-top-container\"><div class=\"sk-text-repr-fallback\"><pre>PCA()</pre><b>In a Jupyter environment, please rerun this cell to show the HTML representation or trust the notebook. <br />On GitHub, the HTML representation is unable to render, please try loading this page with nbviewer.org.</b></div><div class=\"sk-container\" hidden><div class=\"sk-item\"><div class=\"sk-estimator sk-toggleable\"><input class=\"sk-toggleable__control sk-hidden--visually\" id=\"sk-estimator-id-1\" type=\"checkbox\" checked><label for=\"sk-estimator-id-1\" class=\"sk-toggleable__label sk-toggleable__label-arrow\">PCA</label><div class=\"sk-toggleable__content\"><pre>PCA()</pre></div></div></div></div></div>"
            ]
          },
          "metadata": {},
          "execution_count": 90
        }
      ]
    },
    {
      "cell_type": "markdown",
      "source": [
        "To see how the amount of variance explained"
      ],
      "metadata": {
        "id": "YU0wJY_5Fk76"
      }
    },
    {
      "cell_type": "code",
      "source": [
        "# Get explained variance ratio\n",
        "explained_variance_ratio = pca_weather.explained_variance_ratio_\n",
        "\n",
        "# Calculate cumulative explained variance ratio\n",
        "cumulative_variance_ratio = explained_variance_ratio.cumsum()\n",
        "# Plot proportion of variance explained\n",
        "fig = sp.make_subplots(rows=1, cols=2)\n",
        "\n",
        "\n",
        "# Create trace for the elbow plot\n",
        "fig.add_trace(go.Scatter(\n",
        "    x=list(range(1, len(explained_variance_ratio) + 1)),\n",
        "    y=explained_variance_ratio,\n",
        "    mode='lines+markers',\n",
        "    marker=dict(color='blue'),\n",
        "    name='Explained<br>Variance Ratio'\n",
        "), row=1, col=1)\n",
        "\n",
        "fig.add_trace(go.Scatter(\n",
        "    x=list(range(1, len(cumulative_variance_ratio) + 1)),\n",
        "    y=cumulative_variance_ratio,\n",
        "    mode='lines+markers',\n",
        "    marker=dict(color='red'),\n",
        "    name='Cumulative<br>Explained Variance Ratio'\n",
        "), row=1, col=2)\n",
        "\n",
        "fig.update_layout(title='Proportion of variance explained by different PCs')\n",
        "# Update layout for the first subplot\n",
        "fig.update_xaxes(title_text='Number of Components', row=1, col=1)\n",
        "fig.update_yaxes(title_text='Explained Variance Ratio', row=1, col=1)\n",
        "\n",
        "# Update layout for the second subplot\n",
        "fig.update_xaxes(title_text='Number of Components', row=1, col=2)\n",
        "fig.update_yaxes(title_text='Cumulative Explained Variance Ratio', row=1, col=2)\n",
        "\n",
        "fig.update_layout(\n",
        "    margin=dict(l=50, r=50, b=50, t=75),  # Adjust margins to make the plot tighter\n",
        "    autosize=False,  # Disable autosizing\n",
        "    width=1200,       # Set the width of the plot\n",
        "    height=400,       # Set the height of the plot\n",
        "    title_x=0.5,\n",
        "    title_y=0.95\n",
        ")\n",
        "fig.show()"
      ],
      "metadata": {
        "colab": {
          "base_uri": "https://localhost:8080/",
          "height": 417
        },
        "id": "ln1y7UImgAEm",
        "outputId": "3a5a16fe-6823-40ec-f220-7703fd25633b"
      },
      "execution_count": null,
      "outputs": [
        {
          "output_type": "display_data",
          "data": {
            "text/html": [
              "<html>\n",
              "<head><meta charset=\"utf-8\" /></head>\n",
              "<body>\n",
              "    <div>            <script src=\"https://cdnjs.cloudflare.com/ajax/libs/mathjax/2.7.5/MathJax.js?config=TeX-AMS-MML_SVG\"></script><script type=\"text/javascript\">if (window.MathJax && window.MathJax.Hub && window.MathJax.Hub.Config) {window.MathJax.Hub.Config({SVG: {font: \"STIX-Web\"}});}</script>                <script type=\"text/javascript\">window.PlotlyConfig = {MathJaxConfig: 'local'};</script>\n",
              "        <script charset=\"utf-8\" src=\"https://cdn.plot.ly/plotly-2.24.1.min.js\"></script>                <div id=\"0450a5de-2f9b-4f8b-ade6-e636e9c4ac3c\" class=\"plotly-graph-div\" style=\"height:400px; width:1200px;\"></div>            <script type=\"text/javascript\">                                    window.PLOTLYENV=window.PLOTLYENV || {};                                    if (document.getElementById(\"0450a5de-2f9b-4f8b-ade6-e636e9c4ac3c\")) {                    Plotly.newPlot(                        \"0450a5de-2f9b-4f8b-ade6-e636e9c4ac3c\",                        [{\"marker\":{\"color\":\"blue\"},\"mode\":\"lines+markers\",\"name\":\"Explained\\u003cbr\\u003eVariance Ratio\",\"x\":[1,2,3,4,5,6,7,8,9,10,11,12,13,14,15,16,17,18,19,20,21,22,23,24,25,26,27,28],\"y\":[0.3420044675472105,0.19587607304566113,0.14788628727779204,0.04671663731327228,0.04317227861800714,0.03740505106772408,0.030610802022876485,0.02978788969896761,0.027317216808626005,0.024520357392149864,0.018860756232399953,0.01708607027850787,0.010403481234284756,0.00743454080434172,0.00487076872062488,0.004699960964955528,0.0033792304591133615,0.0027824870057929093,0.0015561068642255703,0.0010423118296048874,0.000790724302016807,0.000674954367404033,0.0005483288115286408,0.00029479042499798707,0.00020340722054199486,7.501968737193519e-05,2.2555801424319786e-33,2.2555801424319786e-33],\"type\":\"scatter\",\"xaxis\":\"x\",\"yaxis\":\"y\"},{\"marker\":{\"color\":\"red\"},\"mode\":\"lines+markers\",\"name\":\"Cumulative\\u003cbr\\u003eExplained Variance Ratio\",\"x\":[1,2,3,4,5,6,7,8,9,10,11,12,13,14,15,16,17,18,19,20,21,22,23,24,25,26,27,28],\"y\":[0.3420044675472105,0.5378805405928716,0.6857668278706637,0.7324834651839359,0.775655743801943,0.8130607948696671,0.8436715968925436,0.8734594865915112,0.9007767034001372,0.925297060792287,0.9441578170246869,0.9612438873031948,0.9716473685374796,0.9790819093418213,0.9839526780624461,0.9886526390274016,0.992031869486515,0.9948143564923079,0.9963704633565335,0.9974127751861384,0.9982034994881551,0.9988784538555592,0.9994267826670878,0.9997215730920859,0.9999249803126279,0.9999999999999998,0.9999999999999998,0.9999999999999998],\"type\":\"scatter\",\"xaxis\":\"x2\",\"yaxis\":\"y2\"}],                        {\"template\":{\"data\":{\"histogram2dcontour\":[{\"type\":\"histogram2dcontour\",\"colorbar\":{\"outlinewidth\":0,\"ticks\":\"\"},\"colorscale\":[[0.0,\"#0d0887\"],[0.1111111111111111,\"#46039f\"],[0.2222222222222222,\"#7201a8\"],[0.3333333333333333,\"#9c179e\"],[0.4444444444444444,\"#bd3786\"],[0.5555555555555556,\"#d8576b\"],[0.6666666666666666,\"#ed7953\"],[0.7777777777777778,\"#fb9f3a\"],[0.8888888888888888,\"#fdca26\"],[1.0,\"#f0f921\"]]}],\"choropleth\":[{\"type\":\"choropleth\",\"colorbar\":{\"outlinewidth\":0,\"ticks\":\"\"}}],\"histogram2d\":[{\"type\":\"histogram2d\",\"colorbar\":{\"outlinewidth\":0,\"ticks\":\"\"},\"colorscale\":[[0.0,\"#0d0887\"],[0.1111111111111111,\"#46039f\"],[0.2222222222222222,\"#7201a8\"],[0.3333333333333333,\"#9c179e\"],[0.4444444444444444,\"#bd3786\"],[0.5555555555555556,\"#d8576b\"],[0.6666666666666666,\"#ed7953\"],[0.7777777777777778,\"#fb9f3a\"],[0.8888888888888888,\"#fdca26\"],[1.0,\"#f0f921\"]]}],\"heatmap\":[{\"type\":\"heatmap\",\"colorbar\":{\"outlinewidth\":0,\"ticks\":\"\"},\"colorscale\":[[0.0,\"#0d0887\"],[0.1111111111111111,\"#46039f\"],[0.2222222222222222,\"#7201a8\"],[0.3333333333333333,\"#9c179e\"],[0.4444444444444444,\"#bd3786\"],[0.5555555555555556,\"#d8576b\"],[0.6666666666666666,\"#ed7953\"],[0.7777777777777778,\"#fb9f3a\"],[0.8888888888888888,\"#fdca26\"],[1.0,\"#f0f921\"]]}],\"heatmapgl\":[{\"type\":\"heatmapgl\",\"colorbar\":{\"outlinewidth\":0,\"ticks\":\"\"},\"colorscale\":[[0.0,\"#0d0887\"],[0.1111111111111111,\"#46039f\"],[0.2222222222222222,\"#7201a8\"],[0.3333333333333333,\"#9c179e\"],[0.4444444444444444,\"#bd3786\"],[0.5555555555555556,\"#d8576b\"],[0.6666666666666666,\"#ed7953\"],[0.7777777777777778,\"#fb9f3a\"],[0.8888888888888888,\"#fdca26\"],[1.0,\"#f0f921\"]]}],\"contourcarpet\":[{\"type\":\"contourcarpet\",\"colorbar\":{\"outlinewidth\":0,\"ticks\":\"\"}}],\"contour\":[{\"type\":\"contour\",\"colorbar\":{\"outlinewidth\":0,\"ticks\":\"\"},\"colorscale\":[[0.0,\"#0d0887\"],[0.1111111111111111,\"#46039f\"],[0.2222222222222222,\"#7201a8\"],[0.3333333333333333,\"#9c179e\"],[0.4444444444444444,\"#bd3786\"],[0.5555555555555556,\"#d8576b\"],[0.6666666666666666,\"#ed7953\"],[0.7777777777777778,\"#fb9f3a\"],[0.8888888888888888,\"#fdca26\"],[1.0,\"#f0f921\"]]}],\"surface\":[{\"type\":\"surface\",\"colorbar\":{\"outlinewidth\":0,\"ticks\":\"\"},\"colorscale\":[[0.0,\"#0d0887\"],[0.1111111111111111,\"#46039f\"],[0.2222222222222222,\"#7201a8\"],[0.3333333333333333,\"#9c179e\"],[0.4444444444444444,\"#bd3786\"],[0.5555555555555556,\"#d8576b\"],[0.6666666666666666,\"#ed7953\"],[0.7777777777777778,\"#fb9f3a\"],[0.8888888888888888,\"#fdca26\"],[1.0,\"#f0f921\"]]}],\"mesh3d\":[{\"type\":\"mesh3d\",\"colorbar\":{\"outlinewidth\":0,\"ticks\":\"\"}}],\"scatter\":[{\"fillpattern\":{\"fillmode\":\"overlay\",\"size\":10,\"solidity\":0.2},\"type\":\"scatter\"}],\"parcoords\":[{\"type\":\"parcoords\",\"line\":{\"colorbar\":{\"outlinewidth\":0,\"ticks\":\"\"}}}],\"scatterpolargl\":[{\"type\":\"scatterpolargl\",\"marker\":{\"colorbar\":{\"outlinewidth\":0,\"ticks\":\"\"}}}],\"bar\":[{\"error_x\":{\"color\":\"#2a3f5f\"},\"error_y\":{\"color\":\"#2a3f5f\"},\"marker\":{\"line\":{\"color\":\"#E5ECF6\",\"width\":0.5},\"pattern\":{\"fillmode\":\"overlay\",\"size\":10,\"solidity\":0.2}},\"type\":\"bar\"}],\"scattergeo\":[{\"type\":\"scattergeo\",\"marker\":{\"colorbar\":{\"outlinewidth\":0,\"ticks\":\"\"}}}],\"scatterpolar\":[{\"type\":\"scatterpolar\",\"marker\":{\"colorbar\":{\"outlinewidth\":0,\"ticks\":\"\"}}}],\"histogram\":[{\"marker\":{\"pattern\":{\"fillmode\":\"overlay\",\"size\":10,\"solidity\":0.2}},\"type\":\"histogram\"}],\"scattergl\":[{\"type\":\"scattergl\",\"marker\":{\"colorbar\":{\"outlinewidth\":0,\"ticks\":\"\"}}}],\"scatter3d\":[{\"type\":\"scatter3d\",\"line\":{\"colorbar\":{\"outlinewidth\":0,\"ticks\":\"\"}},\"marker\":{\"colorbar\":{\"outlinewidth\":0,\"ticks\":\"\"}}}],\"scattermapbox\":[{\"type\":\"scattermapbox\",\"marker\":{\"colorbar\":{\"outlinewidth\":0,\"ticks\":\"\"}}}],\"scatterternary\":[{\"type\":\"scatterternary\",\"marker\":{\"colorbar\":{\"outlinewidth\":0,\"ticks\":\"\"}}}],\"scattercarpet\":[{\"type\":\"scattercarpet\",\"marker\":{\"colorbar\":{\"outlinewidth\":0,\"ticks\":\"\"}}}],\"carpet\":[{\"aaxis\":{\"endlinecolor\":\"#2a3f5f\",\"gridcolor\":\"white\",\"linecolor\":\"white\",\"minorgridcolor\":\"white\",\"startlinecolor\":\"#2a3f5f\"},\"baxis\":{\"endlinecolor\":\"#2a3f5f\",\"gridcolor\":\"white\",\"linecolor\":\"white\",\"minorgridcolor\":\"white\",\"startlinecolor\":\"#2a3f5f\"},\"type\":\"carpet\"}],\"table\":[{\"cells\":{\"fill\":{\"color\":\"#EBF0F8\"},\"line\":{\"color\":\"white\"}},\"header\":{\"fill\":{\"color\":\"#C8D4E3\"},\"line\":{\"color\":\"white\"}},\"type\":\"table\"}],\"barpolar\":[{\"marker\":{\"line\":{\"color\":\"#E5ECF6\",\"width\":0.5},\"pattern\":{\"fillmode\":\"overlay\",\"size\":10,\"solidity\":0.2}},\"type\":\"barpolar\"}],\"pie\":[{\"automargin\":true,\"type\":\"pie\"}]},\"layout\":{\"autotypenumbers\":\"strict\",\"colorway\":[\"#636efa\",\"#EF553B\",\"#00cc96\",\"#ab63fa\",\"#FFA15A\",\"#19d3f3\",\"#FF6692\",\"#B6E880\",\"#FF97FF\",\"#FECB52\"],\"font\":{\"color\":\"#2a3f5f\"},\"hovermode\":\"closest\",\"hoverlabel\":{\"align\":\"left\"},\"paper_bgcolor\":\"white\",\"plot_bgcolor\":\"#E5ECF6\",\"polar\":{\"bgcolor\":\"#E5ECF6\",\"angularaxis\":{\"gridcolor\":\"white\",\"linecolor\":\"white\",\"ticks\":\"\"},\"radialaxis\":{\"gridcolor\":\"white\",\"linecolor\":\"white\",\"ticks\":\"\"}},\"ternary\":{\"bgcolor\":\"#E5ECF6\",\"aaxis\":{\"gridcolor\":\"white\",\"linecolor\":\"white\",\"ticks\":\"\"},\"baxis\":{\"gridcolor\":\"white\",\"linecolor\":\"white\",\"ticks\":\"\"},\"caxis\":{\"gridcolor\":\"white\",\"linecolor\":\"white\",\"ticks\":\"\"}},\"coloraxis\":{\"colorbar\":{\"outlinewidth\":0,\"ticks\":\"\"}},\"colorscale\":{\"sequential\":[[0.0,\"#0d0887\"],[0.1111111111111111,\"#46039f\"],[0.2222222222222222,\"#7201a8\"],[0.3333333333333333,\"#9c179e\"],[0.4444444444444444,\"#bd3786\"],[0.5555555555555556,\"#d8576b\"],[0.6666666666666666,\"#ed7953\"],[0.7777777777777778,\"#fb9f3a\"],[0.8888888888888888,\"#fdca26\"],[1.0,\"#f0f921\"]],\"sequentialminus\":[[0.0,\"#0d0887\"],[0.1111111111111111,\"#46039f\"],[0.2222222222222222,\"#7201a8\"],[0.3333333333333333,\"#9c179e\"],[0.4444444444444444,\"#bd3786\"],[0.5555555555555556,\"#d8576b\"],[0.6666666666666666,\"#ed7953\"],[0.7777777777777778,\"#fb9f3a\"],[0.8888888888888888,\"#fdca26\"],[1.0,\"#f0f921\"]],\"diverging\":[[0,\"#8e0152\"],[0.1,\"#c51b7d\"],[0.2,\"#de77ae\"],[0.3,\"#f1b6da\"],[0.4,\"#fde0ef\"],[0.5,\"#f7f7f7\"],[0.6,\"#e6f5d0\"],[0.7,\"#b8e186\"],[0.8,\"#7fbc41\"],[0.9,\"#4d9221\"],[1,\"#276419\"]]},\"xaxis\":{\"gridcolor\":\"white\",\"linecolor\":\"white\",\"ticks\":\"\",\"title\":{\"standoff\":15},\"zerolinecolor\":\"white\",\"automargin\":true,\"zerolinewidth\":2},\"yaxis\":{\"gridcolor\":\"white\",\"linecolor\":\"white\",\"ticks\":\"\",\"title\":{\"standoff\":15},\"zerolinecolor\":\"white\",\"automargin\":true,\"zerolinewidth\":2},\"scene\":{\"xaxis\":{\"backgroundcolor\":\"#E5ECF6\",\"gridcolor\":\"white\",\"linecolor\":\"white\",\"showbackground\":true,\"ticks\":\"\",\"zerolinecolor\":\"white\",\"gridwidth\":2},\"yaxis\":{\"backgroundcolor\":\"#E5ECF6\",\"gridcolor\":\"white\",\"linecolor\":\"white\",\"showbackground\":true,\"ticks\":\"\",\"zerolinecolor\":\"white\",\"gridwidth\":2},\"zaxis\":{\"backgroundcolor\":\"#E5ECF6\",\"gridcolor\":\"white\",\"linecolor\":\"white\",\"showbackground\":true,\"ticks\":\"\",\"zerolinecolor\":\"white\",\"gridwidth\":2}},\"shapedefaults\":{\"line\":{\"color\":\"#2a3f5f\"}},\"annotationdefaults\":{\"arrowcolor\":\"#2a3f5f\",\"arrowhead\":0,\"arrowwidth\":1},\"geo\":{\"bgcolor\":\"white\",\"landcolor\":\"#E5ECF6\",\"subunitcolor\":\"white\",\"showland\":true,\"showlakes\":true,\"lakecolor\":\"white\"},\"title\":{\"x\":0.05},\"mapbox\":{\"style\":\"light\"}}},\"xaxis\":{\"anchor\":\"y\",\"domain\":[0.0,0.45],\"title\":{\"text\":\"Number of Components\"}},\"yaxis\":{\"anchor\":\"x\",\"domain\":[0.0,1.0],\"title\":{\"text\":\"Explained Variance Ratio\"}},\"xaxis2\":{\"anchor\":\"y2\",\"domain\":[0.55,1.0],\"title\":{\"text\":\"Number of Components\"}},\"yaxis2\":{\"anchor\":\"x2\",\"domain\":[0.0,1.0],\"title\":{\"text\":\"Cumulative Explained Variance Ratio\"}},\"title\":{\"text\":\"Proportion of variance explained by different PCs\",\"x\":0.5,\"y\":0.95},\"margin\":{\"l\":50,\"r\":50,\"b\":50,\"t\":75},\"autosize\":false,\"width\":1200,\"height\":400},                        {\"responsive\": true}                    ).then(function(){\n",
              "                            \n",
              "var gd = document.getElementById('0450a5de-2f9b-4f8b-ade6-e636e9c4ac3c');\n",
              "var x = new MutationObserver(function (mutations, observer) {{\n",
              "        var display = window.getComputedStyle(gd).display;\n",
              "        if (!display || display === 'none') {{\n",
              "            console.log([gd, 'removed!']);\n",
              "            Plotly.purge(gd);\n",
              "            observer.disconnect();\n",
              "        }}\n",
              "}});\n",
              "\n",
              "// Listen for the removal of the full notebook cells\n",
              "var notebookContainer = gd.closest('#notebook-container');\n",
              "if (notebookContainer) {{\n",
              "    x.observe(notebookContainer, {childList: true});\n",
              "}}\n",
              "\n",
              "// Listen for the clearing of the current output cell\n",
              "var outputEl = gd.closest('.output');\n",
              "if (outputEl) {{\n",
              "    x.observe(outputEl, {childList: true});\n",
              "}}\n",
              "\n",
              "                        })                };                            </script>        </div>\n",
              "</body>\n",
              "</html>"
            ]
          },
          "metadata": {}
        }
      ]
    },
    {
      "cell_type": "markdown",
      "source": [
        "The above figure shows two subplots. The first one is the elbow plot which shows how the proportion of variance explained changes with PCs. A clear \"elbow\" can be noted at the 4th PC. A cumulative distribution of proportion of variance explained by various principal components is shown in the second subplot. To explain at least 95% of the variance we'd need to have at least 12 components."
      ],
      "metadata": {
        "id": "lUXrWnPTLDnD"
      }
    },
    {
      "cell_type": "code",
      "source": [
        "# Create a heatmap for loadings\n",
        "loadings = pca_weather.components_\n",
        "\n",
        "loadings_df = pd.DataFrame(loadings.T, columns=[f'PC{i}' for i in range(1, len(loadings) + 1)], index=df.columns)\n",
        "\n",
        "fig = go.Figure(data=go.Heatmap(z=loadings_df.values, x=loadings_df.columns, y=loadings_df.index, colorscale='Viridis'))\n",
        "\n",
        "fig.update_layout(title='Principal Component Loadings',\n",
        "                  xaxis_title='Principal Component',\n",
        "                  yaxis_title='Original Features')\n",
        "\n",
        "fig.show()"
      ],
      "metadata": {
        "colab": {
          "base_uri": "https://localhost:8080/",
          "height": 542
        },
        "id": "nXi1fi8hMbfC",
        "outputId": "db94110a-4963-4dac-9a4b-dada4d1d1fb5"
      },
      "execution_count": null,
      "outputs": [
        {
          "output_type": "display_data",
          "data": {
            "text/html": [
              "<html>\n",
              "<head><meta charset=\"utf-8\" /></head>\n",
              "<body>\n",
              "    <div>            <script src=\"https://cdnjs.cloudflare.com/ajax/libs/mathjax/2.7.5/MathJax.js?config=TeX-AMS-MML_SVG\"></script><script type=\"text/javascript\">if (window.MathJax && window.MathJax.Hub && window.MathJax.Hub.Config) {window.MathJax.Hub.Config({SVG: {font: \"STIX-Web\"}});}</script>                <script type=\"text/javascript\">window.PlotlyConfig = {MathJaxConfig: 'local'};</script>\n",
              "        <script charset=\"utf-8\" src=\"https://cdn.plot.ly/plotly-2.24.1.min.js\"></script>                <div id=\"d2254921-bdf8-4504-8138-cb00c4e22057\" class=\"plotly-graph-div\" style=\"height:525px; width:100%;\"></div>            <script type=\"text/javascript\">                                    window.PLOTLYENV=window.PLOTLYENV || {};                                    if (document.getElementById(\"d2254921-bdf8-4504-8138-cb00c4e22057\")) {                    Plotly.newPlot(                        \"d2254921-bdf8-4504-8138-cb00c4e22057\",                        [{\"colorscale\":[[0.0,\"#440154\"],[0.1111111111111111,\"#482878\"],[0.2222222222222222,\"#3e4989\"],[0.3333333333333333,\"#31688e\"],[0.4444444444444444,\"#26828e\"],[0.5555555555555556,\"#1f9e89\"],[0.6666666666666666,\"#35b779\"],[0.7777777777777778,\"#6ece58\"],[0.8888888888888888,\"#b5de2b\"],[1.0,\"#fde725\"]],\"x\":[\"PC1\",\"PC2\",\"PC3\",\"PC4\",\"PC5\",\"PC6\",\"PC7\",\"PC8\",\"PC9\",\"PC10\",\"PC11\",\"PC12\",\"PC13\",\"PC14\",\"PC15\",\"PC16\",\"PC17\",\"PC18\",\"PC19\",\"PC20\",\"PC21\",\"PC22\",\"PC23\",\"PC24\",\"PC25\",\"PC26\",\"PC27\",\"PC28\"],\"y\":[\"Dry Bulb Temperature {C}\",\"Dew Point Temperature {C}\",\"Relative Humidity {%}\",\"Atmospheric Pressure {Pa}\",\"Extraterrestrial Horizontal Radiation {Wh\\u002fm2}\",\"Extraterrestrial Direct Normal Radiation {Wh\\u002fm2}\",\"Horizontal Infrared Radiation Intensity from Sky {Wh\\u002fm2}\",\"Global Horizontal Radiation {Wh\\u002fm2}\",\"Direct Normal Radiation {Wh\\u002fm2}\",\"Diffuse Horizontal Radiation {Wh\\u002fm2}\",\"Global Horizontal Illuminance {lux}\",\"Direct Normal Illuminance {lux}\",\"Diffuse Horizontal Illuminance {lux}\",\"Zenith Luminance {Cd\\u002fm2}\",\"Wind Direction {deg}\",\"Wind Speed {m\\u002fs}\",\"Total Sky Cover {.1}\",\"Opaque Sky Cover {.1}\",\"Visibility {km}\",\"Ceiling Height {m}\",\"Present Weather Observation\",\"Precipitable Water {mm}\",\"Aerosol Optical Depth {.001}\",\"Snow Depth {cm}\",\"Days Since Last Snow\",\"Albedo {.01}\",\"Liquid Precipitation Depth {mm}\",\"Liquid Precipitation Quantity {hr}\"],\"z\":[[0.25869384723417704,-0.24008332955560405,-0.04031414456007181,0.09039231581392919,0.0577592936435412,-0.11700417632010406,0.034690371953336394,-0.09121295500558933,-0.08103612918967758,0.14897943068689892,-0.2471198483511799,0.023704442753838262,0.0008261032394533396,0.11302627384334664,-0.08730791308479047,-0.03167777679479061,0.12803235185541104,0.19751638040682545,0.20771293041904726,-0.32858093790194776,0.20109766881407048,0.6918160436267337,5.134103287956456e-05,0.007757166091337636,0.003852342606713061,-0.040727193755070536,0.0,0.0],[0.14813603665628178,-0.34316566126423625,0.13344466197189342,-0.186644688854305,0.12568078235954105,-0.006033186994493505,0.014231607835114889,-0.10346895852287752,-0.15989589955019196,0.07774384949870075,0.1694548614660923,-0.09020444343148012,0.0006495880373461924,0.1328589100837055,-0.08972177345763574,-0.1356895422133455,0.0767650837846302,0.35992537982320566,0.01613654150707522,-0.5095165867771325,-0.10918262637992977,-0.509302910170154,-0.004044553333115819,-0.011114593962421076,0.01952657980665414,0.034562538040260084,-6.872157017701528e-18,0.0],[-0.20519435842545516,-0.04215616142645191,0.2502285343839288,-0.3652620144409983,0.07106618435342106,0.12439127120991234,-0.05651198076052811,0.06274689258994495,-0.09036097283645336,-0.1308957197041923,0.5169153395726884,-0.11989113113079829,0.0260931620713587,-0.08153574646728158,-0.2119267188165745,-0.4120230923000575,-0.06545028923895298,0.11899427975510139,0.10971133157399104,0.2125565062522058,0.12648023804345482,0.3332728994122612,0.007973033286640738,0.007799526040760058,-0.022678321041170773,-0.013676959983932672,1.4629623029280425e-17,0.0],[0.24303124001624585,-0.26309454152569434,-0.055315796198953535,0.14011457999176233,0.06252041389337662,-0.10545745592944719,0.014507099047581863,-0.08210954639131438,-0.0714336361384798,0.11676728159018798,-0.19795968590595595,-0.005155914559402715,-0.024487756354704446,0.03139531498025919,-0.13075534213244785,-0.17698550122797618,0.08547823868644319,0.4236702071135372,-0.15394498913958457,0.6993359775801766,-0.07965822008304328,-0.10805801247191482,0.0062523491122723675,0.018804980048185437,-0.030942703174150394,-0.011812272204394018,1.0715446313847202e-17,0.0],[0.2932047105790899,0.14896590543680216,0.031411219923888234,-0.12851125073358136,-0.044473685229264405,0.03367558813801092,-0.1079296480947513,0.09886752940259401,-0.012963482222512665,0.017555255263519032,0.20063218577481223,0.2627387512208111,0.0221343539985775,-0.048533362883728934,-0.2580342993558515,0.28276006362271056,0.04311793317753352,0.07143914320201769,-0.10735817111509303,-0.024507363755400417,-0.5219582526881394,0.18615510203491203,-0.08203159481170551,0.4559319868957805,0.0021372079770014324,0.2233165986520691,-1.7212477020627527e-16,0.0],[0.2635889195923903,0.18080816447961637,0.02040575379281631,-0.05993784835326854,0.03462306861973867,0.0948890017597776,-0.022047132275253237,-0.03031862737159082,0.10360244188053619,-0.003474778561671927,0.024907295020136114,-0.5401264068232642,0.018919256459352284,-0.2365389696492121,-0.40070535870357443,0.44474916787911717,0.13787055321805383,0.048948089596024445,0.22256833080112917,0.07625217303134171,0.24560982779580653,-0.11200598776055651,-0.0519127408311928,-0.0902725722696697,-0.000804500578688225,-0.06296974876039092,-1.0079181116588554e-16,0.0],[0.1914137899808226,-0.2846892583268275,0.19623136076349834,0.05256257241562633,0.10485503300479784,-0.03049266653039907,0.07255412248079683,-0.0969357119937566,-0.010811955620182364,0.03546358390325709,-0.140073116321989,0.05861502574971953,0.0453658693705969,-0.006141776665391929,-0.5081595027922527,-0.20143718024851087,-0.187640941328958,-0.6558342759803798,-0.13725890551314535,-0.005575326705573466,-0.0033796967086919885,-0.06730919980124883,-0.0005368080275907272,-0.011150891804981775,0.012520424145929274,0.010319098090838627,-3.3791985410623495e-19,0.0],[0.29896860720241925,0.1525135730379558,-0.032527805059531144,-0.06061869060298046,-0.06303305516810506,-0.04376436624315072,-0.08482852020277806,0.0869003185006361,-0.08940970232532612,0.0572072601804476,0.009683268997188363,0.25259919059217023,-0.004525385436633701,0.10073438662287248,0.08924736218844175,-0.16917161896214863,-0.008923517921560865,-0.11242538478681716,0.5943336291947199,0.13360369127672286,0.19610149216481243,-0.18658626398664713,0.0062043938380630095,-0.07736782380007966,-0.00022054584248237417,0.5262829134368715,1.4124236599924354e-17,0.0],[0.2698906310535534,0.17147657688261422,-0.11424640448329039,-0.12363181523854963,-0.11016587988466295,-0.061255981002963825,-0.18840235856176818,0.151623297174497,-0.12184926650988033,0.1317098899319777,-0.04359880523852569,-0.2345067167659127,-0.0014690148418018687,0.048757089271120005,0.17251973650141994,-0.2746204261228159,-0.0953575045967169,-0.09166213412344063,-0.16233233890760101,-0.041947225094078895,0.024591311925936585,0.002630945094078796,-0.7228174946658709,0.040695834296294725,0.0016360605997861395,-0.16749346009276278,-1.4294400567010204e-15,0.0],[0.25983980042899446,0.17462721823142718,0.12965596556589504,0.052440550433720784,0.13870859250689566,0.14121969403411277,0.15439598929917409,-0.21020691779394132,0.16221189176163597,-0.14980234637096446,0.11386100740419823,0.2585967944291353,-0.010365781726646374,0.05266060705620008,0.10769277360102283,-0.03652189061636833,-0.0035356646289518485,0.06660240908320146,-0.2192001674840424,-0.01585122292102521,0.5699406181913992,-0.11159331319544188,0.00841718053184295,0.4714021046939959,-0.008038134039107966,-0.13575126738518936,4.703703146663442e-18,0.0],[0.2975355290962267,0.1541766025862878,-0.029731573626542794,-0.10913490100755141,-0.07855319372766512,-0.034409154319441214,-0.12474060166553466,0.10196483291110045,-0.08973440570627793,0.0555101213777209,0.08644883446326804,0.24783581386157746,0.002470424579334897,0.04934310368439331,-0.0051271789990551785,-0.04840661657704336,-0.022271203823043418,-0.05866229876549446,0.24979401321585507,0.036488483321917085,-0.14762533311876283,-0.07184987208173024,0.31116353371893196,-0.12930455975928098,-0.0014337754718748304,-0.7406688510767439,6.176000686127651e-16,0.0],[0.2629604482089103,0.17399592513941314,-0.1236623674046911,-0.14151888734545265,-0.11613949515694814,-0.052449962028165605,-0.2052332704577249,0.15286142938528713,-0.10667367911595611,0.13104917006677413,-0.02310668328676456,-0.3023467739818173,0.005095998778014809,-0.00728129095689686,0.09475335488149804,-0.15920477207287362,-0.08188674686324375,-0.032296698404613466,-0.44563977467692456,-0.09213861020238123,0.11238528286968988,0.0677990061205432,0.5829114721252362,-0.026076221618303995,-0.002065978428255001,0.2368470617199858,1.1525745721684677e-15,0.0],[0.27194296130106965,0.17549157569958743,0.11678159166791324,-0.0016685296634152225,0.10228386614044613,0.1297989996239936,0.09497017412195705,-0.1642208480324254,0.12545821200241872,-0.12486967712978322,0.16829302402240845,0.2672021657116884,-0.008002943022131477,0.034932178438776953,-0.0036570067494756707,0.07465777360880485,0.00418177670077846,0.10666166831313123,-0.30611536042917187,-0.026464476618626234,-0.047125010287609556,0.11996323201221534,-0.1417144324767491,-0.7236366849586489,0.0054733051593825474,0.11921453109079605,-2.627400307116304e-16,0.0],[0.2115296484227505,0.19229358538097208,0.11385863835558506,0.1290537105073986,0.20966557754046278,0.16624613192008061,0.23668259975222203,-0.31697794997421697,0.23338633513236792,-0.1468654825502937,-0.07448003338387173,-0.376734760402996,-0.016044681097451337,0.008408042493060238,0.26082386776445116,-0.3035024153255515,-0.07744970412638098,-0.0497990258377614,0.22082001983293595,-0.010783729718494155,-0.43590140560493157,0.08091114987920583,0.10426322958466423,0.10731592274375512,-0.0009797496348690898,0.01677449202695583,2.0388973452367286e-16,0.0],[-0.10048469025896566,-0.0504991172018249,-0.09602420207007453,0.09374600635581457,0.4072358836920885,0.4624933777456325,-0.710655950340272,-0.14847106481824468,0.12042243381149693,0.18566766076049326,-0.0775316123146183,0.0722016078101845,0.029411455954850337,0.017687292039005608,0.008432839015735976,-0.008552907694741914,-0.007982236862586797,-0.015639070525781507,0.025555134467601326,-0.003764577198382378,0.005055528582359603,-0.0007942779197829958,0.0013069491818572668,-0.0014939185842081915,-0.0009183115327046312,-0.0002605060275122986,2.579534350750587e-18,0.0],[0.06406951113370601,0.0676288805650233,-0.005451947411971943,0.6795335440870767,0.2612084612248604,-0.009775730066492452,-0.005637808517111404,0.24375180298581495,-0.5112208069868635,-0.1736377453315163,0.31230712185143555,-0.08423920238343766,0.017129181916628225,-0.050128079992287196,-0.0022811615400344883,0.004122180899474975,2.662891083334202e-05,-0.024631076429825566,-0.003473600045921297,-0.046170272236393264,0.003607922475710211,0.004490683797823185,0.0023773383828633115,-0.002662555445819012,-0.00012332666989865813,-0.0003720701351140562,4.761749123001727e-18,0.0],[-0.03875233781525227,0.0767332439054132,0.4488778248311875,0.15685549080885863,-0.23332426248191127,-0.036461376500015664,-0.14663987357938668,-0.11046466911046672,-0.03803486842936915,0.18829221094107118,-0.013512327012811938,-0.015178063419216452,-0.3663738051138109,-0.02172373827093728,0.024272015074378105,0.020809257225831372,0.017065584288873246,0.010975335696920056,0.0005921300946866983,-0.030461174541676406,-0.0051657268705138405,-0.003701212684740697,-0.0013707381634456245,-0.0026673269801251263,-0.7089457263654811,0.0030376748443958486,-2.8503552664235586e-17,0.0],[-0.03949242529053462,0.0752933747121025,0.4483338372167604,0.1569198051025149,-0.23366551653583656,-0.03603743250995672,-0.1506862289946245,-0.11026113025750113,-0.03645101048647186,0.18712990320204886,-0.0038982068241521584,-0.017634420545442044,-0.37432830976998493,-0.038026698843937966,0.02995004278253578,0.007140834288150017,0.012261622997652225,0.03391214091345643,-0.00028206760267589226,0.02269034126549159,0.00594485883470143,0.011411363199385495,0.004666760394935504,0.007944271520752267,0.7036501866440787,-0.002138087070869555,3.470234767110886e-17,0.0],[0.031838703180359085,-0.08635780499851671,-0.08559130740405067,0.004593337457339594,-0.39789663521554647,0.7888772219680171,0.27568564751587377,0.036357880148511205,-0.3082512215826092,0.08384171288304651,-0.12137183369544881,0.023475904146956255,0.0064767873579509765,-0.02715704661730476,-0.018373895349532574,-0.03889625852020139,0.07706778510610594,-0.009959648589086767,-0.0095697693410658,0.0054467922126869624,-0.003906831336873253,0.007114529052131873,0.002859073948450496,0.0007611456757770073,0.0011861288322828852,-0.0034340251450179905,5.677196608186819e-18,0.0],[0.03209569328366829,-0.07313694858623263,-0.42001057372505335,-0.12165234311015007,0.21050023574323612,0.04021837261476891,0.11403340721189968,0.07040046076043129,0.02880495034218062,-0.09405739502388717,0.06445634466590107,0.029676436681013763,-0.8389525341704716,-0.09098012617238577,-0.07422422279401343,-0.03770553950896546,-0.014926960621175052,-0.06155006348357299,0.0016388358204651714,-0.026046109372404588,-0.0008249756831889676,0.00508923226197143,-0.001460658509017723,0.004026485345231588,-0.00432842854734929,0.002736017364048795,-3.1315016429211672e-18,0.0],[-0.019765040410047938,-0.04282539594465021,-0.32737054487018447,0.22100422845902007,-0.1477378294423423,-0.062305066668643355,0.15365918458670214,-0.2767388465156179,0.20685821757384093,0.614125049322662,0.5251002368297991,-0.018126967646415398,0.08478139207883334,-0.04769872459933867,-0.009709043455375224,-0.041629449791475016,-0.02607859688165336,-0.08478377054491198,0.015481712898703922,0.009931227278339191,0.013893484368151635,0.012142775036752759,-0.002503226376770773,3.393053537505624e-05,-0.0027912834240261656,0.00260051299376712,-5.06112945136894e-18,0.0],[0.1268058239181813,-0.3157750347342573,0.14420289492548113,-0.24577912105566133,0.1788021859572405,0.03005911419477897,0.04994853754103876,-0.08406772830856564,-0.23783527823327508,0.0871225982564451,0.18738163035137623,-0.15275635778023117,-0.050024077474011476,0.3671980316204045,0.4084748511760801,0.447322962008311,-0.06212411434673582,-0.255519727573404,-0.008579029604866362,0.23537155706019797,0.010740057684783227,0.09297305782352144,0.009386565097808792,0.013503792426263973,-0.0007227464931055731,-0.005141464800787254,1.815915761170783e-17,0.0],[0.18228818341522976,-0.3180444086005467,0.07508428582630106,-0.07662482831936152,0.01602629182900647,-0.04697008017485361,-0.058162064813766005,-0.018313232766641725,-0.023591286276888696,-0.031170873441505684,0.028399177405738166,0.1050360729725654,0.0708352840883395,-0.813809966901841,0.35894950521203156,-0.006051180577880822,0.16622341574751137,-0.10108107420771628,-0.0011007711749316373,-0.013006113977122188,-0.0013958546326747687,0.00863377402781701,-0.00798222585464851,-0.010790305081637273,-0.008096014486990669,0.0059532142588327695,-1.5809179884405427e-17,0.0],[-0.13359479180347295,0.2839042691923081,0.012003053716712524,-0.17858559674608984,0.27766075282475783,-0.047596679123215684,0.18580308546475158,-0.22166622037698827,-0.4009987648524528,0.2932279667405086,-0.20378706421830517,0.09993515415343547,0.0318520250153594,-0.26532883807519236,-0.04374497337070845,0.09981426480072579,-0.5458240484499598,0.16037349846093496,0.02884369643448502,-0.011892989740476381,0.013132854889466056,-0.0038156883923439744,-0.007373852768716608,0.0027266233990173136,-0.002637445455763024,0.005675961030525421,-1.473808564802154e-17,0.0],[0.0,-3.503246160812043e-46,8.96831017167883e-44,-0.0,0.0,0.0,0.0,-0.0,0.0,0.0,0.0,-0.0,-0.0,0.0,0.0,0.0,-0.0,-0.0,0.0,-0.0,0.0,-0.0,-1.9376861226660935e-15,-0.0,-1.1102230246251565e-16,0.0,1.0,0.0],[-0.15675990270576956,0.3128353970639149,0.02575869074350344,-0.16935521923074778,0.26457572077321145,-0.07827740549821251,0.12269997467133846,-0.14196244741334996,-0.25971984488521355,0.20946952419352136,-0.08137648752602426,0.03894794806837059,0.013968237948244849,0.028583989653390526,-0.03541452230230164,-0.12190391188734809,0.7421454574653175,-0.19678784886136164,-0.08906240974746713,0.032848951943203634,-0.03632479299992317,-0.018608292078618555,0.004043162906401925,0.006057881374026566,0.006008639712520289,-0.0031760598747603425,8.089009449456062e-18,0.0],[0.018324414331766348,-0.0061070963657406585,0.26719551787757523,0.02170912896176078,0.31845759248115196,0.1364813704146113,0.2668263429268843,0.6699973261261917,0.31960381859365217,0.4152044507647494,-0.06377110467639727,0.019505725579431244,-0.004246960899792164,-0.01217570783737563,0.06483998456994249,-0.014836935807259418,-0.010216479587182836,0.056551536085670755,-0.005055449792487969,-0.0068671248783676725,0.007349057653918255,-0.009208350061145475,0.007045151178359207,-0.01966843350939354,0.00011609666113689387,-0.009869120079761436,1.4377507644502192e-17,0.0],[0.0,0.0,-0.0,-0.0,0.0,0.0,0.0,-0.0,0.0,0.0,0.0,-0.0,-0.0,0.0,0.0,0.0,-0.0,-0.0,0.0,-0.0,0.0,-0.0,-0.0,-0.0,-0.0,0.0,0.0,1.0]],\"type\":\"heatmap\"}],                        {\"template\":{\"data\":{\"histogram2dcontour\":[{\"type\":\"histogram2dcontour\",\"colorbar\":{\"outlinewidth\":0,\"ticks\":\"\"},\"colorscale\":[[0.0,\"#0d0887\"],[0.1111111111111111,\"#46039f\"],[0.2222222222222222,\"#7201a8\"],[0.3333333333333333,\"#9c179e\"],[0.4444444444444444,\"#bd3786\"],[0.5555555555555556,\"#d8576b\"],[0.6666666666666666,\"#ed7953\"],[0.7777777777777778,\"#fb9f3a\"],[0.8888888888888888,\"#fdca26\"],[1.0,\"#f0f921\"]]}],\"choropleth\":[{\"type\":\"choropleth\",\"colorbar\":{\"outlinewidth\":0,\"ticks\":\"\"}}],\"histogram2d\":[{\"type\":\"histogram2d\",\"colorbar\":{\"outlinewidth\":0,\"ticks\":\"\"},\"colorscale\":[[0.0,\"#0d0887\"],[0.1111111111111111,\"#46039f\"],[0.2222222222222222,\"#7201a8\"],[0.3333333333333333,\"#9c179e\"],[0.4444444444444444,\"#bd3786\"],[0.5555555555555556,\"#d8576b\"],[0.6666666666666666,\"#ed7953\"],[0.7777777777777778,\"#fb9f3a\"],[0.8888888888888888,\"#fdca26\"],[1.0,\"#f0f921\"]]}],\"heatmap\":[{\"type\":\"heatmap\",\"colorbar\":{\"outlinewidth\":0,\"ticks\":\"\"},\"colorscale\":[[0.0,\"#0d0887\"],[0.1111111111111111,\"#46039f\"],[0.2222222222222222,\"#7201a8\"],[0.3333333333333333,\"#9c179e\"],[0.4444444444444444,\"#bd3786\"],[0.5555555555555556,\"#d8576b\"],[0.6666666666666666,\"#ed7953\"],[0.7777777777777778,\"#fb9f3a\"],[0.8888888888888888,\"#fdca26\"],[1.0,\"#f0f921\"]]}],\"heatmapgl\":[{\"type\":\"heatmapgl\",\"colorbar\":{\"outlinewidth\":0,\"ticks\":\"\"},\"colorscale\":[[0.0,\"#0d0887\"],[0.1111111111111111,\"#46039f\"],[0.2222222222222222,\"#7201a8\"],[0.3333333333333333,\"#9c179e\"],[0.4444444444444444,\"#bd3786\"],[0.5555555555555556,\"#d8576b\"],[0.6666666666666666,\"#ed7953\"],[0.7777777777777778,\"#fb9f3a\"],[0.8888888888888888,\"#fdca26\"],[1.0,\"#f0f921\"]]}],\"contourcarpet\":[{\"type\":\"contourcarpet\",\"colorbar\":{\"outlinewidth\":0,\"ticks\":\"\"}}],\"contour\":[{\"type\":\"contour\",\"colorbar\":{\"outlinewidth\":0,\"ticks\":\"\"},\"colorscale\":[[0.0,\"#0d0887\"],[0.1111111111111111,\"#46039f\"],[0.2222222222222222,\"#7201a8\"],[0.3333333333333333,\"#9c179e\"],[0.4444444444444444,\"#bd3786\"],[0.5555555555555556,\"#d8576b\"],[0.6666666666666666,\"#ed7953\"],[0.7777777777777778,\"#fb9f3a\"],[0.8888888888888888,\"#fdca26\"],[1.0,\"#f0f921\"]]}],\"surface\":[{\"type\":\"surface\",\"colorbar\":{\"outlinewidth\":0,\"ticks\":\"\"},\"colorscale\":[[0.0,\"#0d0887\"],[0.1111111111111111,\"#46039f\"],[0.2222222222222222,\"#7201a8\"],[0.3333333333333333,\"#9c179e\"],[0.4444444444444444,\"#bd3786\"],[0.5555555555555556,\"#d8576b\"],[0.6666666666666666,\"#ed7953\"],[0.7777777777777778,\"#fb9f3a\"],[0.8888888888888888,\"#fdca26\"],[1.0,\"#f0f921\"]]}],\"mesh3d\":[{\"type\":\"mesh3d\",\"colorbar\":{\"outlinewidth\":0,\"ticks\":\"\"}}],\"scatter\":[{\"fillpattern\":{\"fillmode\":\"overlay\",\"size\":10,\"solidity\":0.2},\"type\":\"scatter\"}],\"parcoords\":[{\"type\":\"parcoords\",\"line\":{\"colorbar\":{\"outlinewidth\":0,\"ticks\":\"\"}}}],\"scatterpolargl\":[{\"type\":\"scatterpolargl\",\"marker\":{\"colorbar\":{\"outlinewidth\":0,\"ticks\":\"\"}}}],\"bar\":[{\"error_x\":{\"color\":\"#2a3f5f\"},\"error_y\":{\"color\":\"#2a3f5f\"},\"marker\":{\"line\":{\"color\":\"#E5ECF6\",\"width\":0.5},\"pattern\":{\"fillmode\":\"overlay\",\"size\":10,\"solidity\":0.2}},\"type\":\"bar\"}],\"scattergeo\":[{\"type\":\"scattergeo\",\"marker\":{\"colorbar\":{\"outlinewidth\":0,\"ticks\":\"\"}}}],\"scatterpolar\":[{\"type\":\"scatterpolar\",\"marker\":{\"colorbar\":{\"outlinewidth\":0,\"ticks\":\"\"}}}],\"histogram\":[{\"marker\":{\"pattern\":{\"fillmode\":\"overlay\",\"size\":10,\"solidity\":0.2}},\"type\":\"histogram\"}],\"scattergl\":[{\"type\":\"scattergl\",\"marker\":{\"colorbar\":{\"outlinewidth\":0,\"ticks\":\"\"}}}],\"scatter3d\":[{\"type\":\"scatter3d\",\"line\":{\"colorbar\":{\"outlinewidth\":0,\"ticks\":\"\"}},\"marker\":{\"colorbar\":{\"outlinewidth\":0,\"ticks\":\"\"}}}],\"scattermapbox\":[{\"type\":\"scattermapbox\",\"marker\":{\"colorbar\":{\"outlinewidth\":0,\"ticks\":\"\"}}}],\"scatterternary\":[{\"type\":\"scatterternary\",\"marker\":{\"colorbar\":{\"outlinewidth\":0,\"ticks\":\"\"}}}],\"scattercarpet\":[{\"type\":\"scattercarpet\",\"marker\":{\"colorbar\":{\"outlinewidth\":0,\"ticks\":\"\"}}}],\"carpet\":[{\"aaxis\":{\"endlinecolor\":\"#2a3f5f\",\"gridcolor\":\"white\",\"linecolor\":\"white\",\"minorgridcolor\":\"white\",\"startlinecolor\":\"#2a3f5f\"},\"baxis\":{\"endlinecolor\":\"#2a3f5f\",\"gridcolor\":\"white\",\"linecolor\":\"white\",\"minorgridcolor\":\"white\",\"startlinecolor\":\"#2a3f5f\"},\"type\":\"carpet\"}],\"table\":[{\"cells\":{\"fill\":{\"color\":\"#EBF0F8\"},\"line\":{\"color\":\"white\"}},\"header\":{\"fill\":{\"color\":\"#C8D4E3\"},\"line\":{\"color\":\"white\"}},\"type\":\"table\"}],\"barpolar\":[{\"marker\":{\"line\":{\"color\":\"#E5ECF6\",\"width\":0.5},\"pattern\":{\"fillmode\":\"overlay\",\"size\":10,\"solidity\":0.2}},\"type\":\"barpolar\"}],\"pie\":[{\"automargin\":true,\"type\":\"pie\"}]},\"layout\":{\"autotypenumbers\":\"strict\",\"colorway\":[\"#636efa\",\"#EF553B\",\"#00cc96\",\"#ab63fa\",\"#FFA15A\",\"#19d3f3\",\"#FF6692\",\"#B6E880\",\"#FF97FF\",\"#FECB52\"],\"font\":{\"color\":\"#2a3f5f\"},\"hovermode\":\"closest\",\"hoverlabel\":{\"align\":\"left\"},\"paper_bgcolor\":\"white\",\"plot_bgcolor\":\"#E5ECF6\",\"polar\":{\"bgcolor\":\"#E5ECF6\",\"angularaxis\":{\"gridcolor\":\"white\",\"linecolor\":\"white\",\"ticks\":\"\"},\"radialaxis\":{\"gridcolor\":\"white\",\"linecolor\":\"white\",\"ticks\":\"\"}},\"ternary\":{\"bgcolor\":\"#E5ECF6\",\"aaxis\":{\"gridcolor\":\"white\",\"linecolor\":\"white\",\"ticks\":\"\"},\"baxis\":{\"gridcolor\":\"white\",\"linecolor\":\"white\",\"ticks\":\"\"},\"caxis\":{\"gridcolor\":\"white\",\"linecolor\":\"white\",\"ticks\":\"\"}},\"coloraxis\":{\"colorbar\":{\"outlinewidth\":0,\"ticks\":\"\"}},\"colorscale\":{\"sequential\":[[0.0,\"#0d0887\"],[0.1111111111111111,\"#46039f\"],[0.2222222222222222,\"#7201a8\"],[0.3333333333333333,\"#9c179e\"],[0.4444444444444444,\"#bd3786\"],[0.5555555555555556,\"#d8576b\"],[0.6666666666666666,\"#ed7953\"],[0.7777777777777778,\"#fb9f3a\"],[0.8888888888888888,\"#fdca26\"],[1.0,\"#f0f921\"]],\"sequentialminus\":[[0.0,\"#0d0887\"],[0.1111111111111111,\"#46039f\"],[0.2222222222222222,\"#7201a8\"],[0.3333333333333333,\"#9c179e\"],[0.4444444444444444,\"#bd3786\"],[0.5555555555555556,\"#d8576b\"],[0.6666666666666666,\"#ed7953\"],[0.7777777777777778,\"#fb9f3a\"],[0.8888888888888888,\"#fdca26\"],[1.0,\"#f0f921\"]],\"diverging\":[[0,\"#8e0152\"],[0.1,\"#c51b7d\"],[0.2,\"#de77ae\"],[0.3,\"#f1b6da\"],[0.4,\"#fde0ef\"],[0.5,\"#f7f7f7\"],[0.6,\"#e6f5d0\"],[0.7,\"#b8e186\"],[0.8,\"#7fbc41\"],[0.9,\"#4d9221\"],[1,\"#276419\"]]},\"xaxis\":{\"gridcolor\":\"white\",\"linecolor\":\"white\",\"ticks\":\"\",\"title\":{\"standoff\":15},\"zerolinecolor\":\"white\",\"automargin\":true,\"zerolinewidth\":2},\"yaxis\":{\"gridcolor\":\"white\",\"linecolor\":\"white\",\"ticks\":\"\",\"title\":{\"standoff\":15},\"zerolinecolor\":\"white\",\"automargin\":true,\"zerolinewidth\":2},\"scene\":{\"xaxis\":{\"backgroundcolor\":\"#E5ECF6\",\"gridcolor\":\"white\",\"linecolor\":\"white\",\"showbackground\":true,\"ticks\":\"\",\"zerolinecolor\":\"white\",\"gridwidth\":2},\"yaxis\":{\"backgroundcolor\":\"#E5ECF6\",\"gridcolor\":\"white\",\"linecolor\":\"white\",\"showbackground\":true,\"ticks\":\"\",\"zerolinecolor\":\"white\",\"gridwidth\":2},\"zaxis\":{\"backgroundcolor\":\"#E5ECF6\",\"gridcolor\":\"white\",\"linecolor\":\"white\",\"showbackground\":true,\"ticks\":\"\",\"zerolinecolor\":\"white\",\"gridwidth\":2}},\"shapedefaults\":{\"line\":{\"color\":\"#2a3f5f\"}},\"annotationdefaults\":{\"arrowcolor\":\"#2a3f5f\",\"arrowhead\":0,\"arrowwidth\":1},\"geo\":{\"bgcolor\":\"white\",\"landcolor\":\"#E5ECF6\",\"subunitcolor\":\"white\",\"showland\":true,\"showlakes\":true,\"lakecolor\":\"white\"},\"title\":{\"x\":0.05},\"mapbox\":{\"style\":\"light\"}}},\"title\":{\"text\":\"Principal Component Loadings\"},\"xaxis\":{\"title\":{\"text\":\"Principal Component\"}},\"yaxis\":{\"title\":{\"text\":\"Original Features\"}}},                        {\"responsive\": true}                    ).then(function(){\n",
              "                            \n",
              "var gd = document.getElementById('d2254921-bdf8-4504-8138-cb00c4e22057');\n",
              "var x = new MutationObserver(function (mutations, observer) {{\n",
              "        var display = window.getComputedStyle(gd).display;\n",
              "        if (!display || display === 'none') {{\n",
              "            console.log([gd, 'removed!']);\n",
              "            Plotly.purge(gd);\n",
              "            observer.disconnect();\n",
              "        }}\n",
              "}});\n",
              "\n",
              "// Listen for the removal of the full notebook cells\n",
              "var notebookContainer = gd.closest('#notebook-container');\n",
              "if (notebookContainer) {{\n",
              "    x.observe(notebookContainer, {childList: true});\n",
              "}}\n",
              "\n",
              "// Listen for the clearing of the current output cell\n",
              "var outputEl = gd.closest('.output');\n",
              "if (outputEl) {{\n",
              "    x.observe(outputEl, {childList: true});\n",
              "}}\n",
              "\n",
              "                        })                };                            </script>        </div>\n",
              "</body>\n",
              "</html>"
            ]
          },
          "metadata": {}
        }
      ]
    },
    {
      "cell_type": "markdown",
      "source": [
        "Now we calculate the Principal Component scores for each of the 8760 hours using the first 12 principal components only."
      ],
      "metadata": {
        "id": "Y2KrLTy7TSUI"
      }
    },
    {
      "cell_type": "code",
      "source": [
        "n_components = 12  # Choose the number of principal components\n",
        "pca = PCA(n_components=n_components)\n",
        "pca_result = pca.fit_transform(df_scaled)\n",
        "df_pca = pd.DataFrame(data=pca_result,index=df.index)"
      ],
      "metadata": {
        "id": "um4_RPkKTiTy"
      },
      "execution_count": null,
      "outputs": []
    },
    {
      "cell_type": "markdown",
      "source": [
        "Therefore, we were able to successfully reduce the data with 30 predictors into a small dataset with only 12 predictors that can capture about 95% of the variation in the original dataset. This smaller dimension dataframe can now be used for analysis instead of the large one."
      ],
      "metadata": {
        "id": "b6cuX3s0TzG7"
      }
    },
    {
      "cell_type": "markdown",
      "source": [
        "## Conclusion\n",
        "Here we used the weather data from Boulder to identify different representative days so instead of running building energy simulation protocols for all the days the four days could be used. It seems K-means and hierarchical clustering were both good at identifying such representative days with the K-means having on average a higher temperature. Changing the dissimilarity metric for hierarchical clustering from distance to correlation did not help identify distinct clusters or reduce the variance and hence should not be used when clustering weather data. Using all the predictors in the data and doing a Principal Component Analysis can help reduce the dimension of the data from 30 to 12 while still capturing 95% of all the original variation."
      ],
      "metadata": {
        "id": "OeecwXyVxI6q"
      }
    }
  ]
}