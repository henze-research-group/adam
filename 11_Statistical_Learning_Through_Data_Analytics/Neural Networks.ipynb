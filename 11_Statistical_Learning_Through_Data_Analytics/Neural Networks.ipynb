{
  "nbformat": 4,
  "nbformat_minor": 0,
  "metadata": {
    "colab": {
      "provenance": [],
      "collapsed_sections": [
        "WS6I4fZRzlT0"
      ]
    },
    "kernelspec": {
      "name": "python3",
      "display_name": "Python 3"
    },
    "language_info": {
      "name": "python"
    },
    "widgets": {
      "application/vnd.jupyter.widget-state+json": {
        "1a265b2645084711afd17fe0a635f425": {
          "model_module": "@jupyter-widgets/controls",
          "model_name": "HBoxModel",
          "model_module_version": "1.5.0",
          "state": {
            "_dom_classes": [],
            "_model_module": "@jupyter-widgets/controls",
            "_model_module_version": "1.5.0",
            "_model_name": "HBoxModel",
            "_view_count": null,
            "_view_module": "@jupyter-widgets/controls",
            "_view_module_version": "1.5.0",
            "_view_name": "HBoxView",
            "box_style": "",
            "children": [
              "IPY_MODEL_ddbb610ff6a94d1c9f9bb2012a2ff387",
              "IPY_MODEL_ebf437cd52194951bf3a98c9f2cdeaef",
              "IPY_MODEL_dcdbd58298514d6fb302ea859eaf73e7"
            ],
            "layout": "IPY_MODEL_1da75aadbbad4b56a850e89eb65c46c0"
          }
        },
        "ddbb610ff6a94d1c9f9bb2012a2ff387": {
          "model_module": "@jupyter-widgets/controls",
          "model_name": "HTMLModel",
          "model_module_version": "1.5.0",
          "state": {
            "_dom_classes": [],
            "_model_module": "@jupyter-widgets/controls",
            "_model_module_version": "1.5.0",
            "_model_name": "HTMLModel",
            "_view_count": null,
            "_view_module": "@jupyter-widgets/controls",
            "_view_module_version": "1.5.0",
            "_view_name": "HTMLView",
            "description": "",
            "description_tooltip": null,
            "layout": "IPY_MODEL_9965f1981e4642599306c03b8d85e8fc",
            "placeholder": "​",
            "style": "IPY_MODEL_e3c515c425dc4150833cbcfdc0481e68",
            "value": "Epoch 99: 100%"
          }
        },
        "ebf437cd52194951bf3a98c9f2cdeaef": {
          "model_module": "@jupyter-widgets/controls",
          "model_name": "FloatProgressModel",
          "model_module_version": "1.5.0",
          "state": {
            "_dom_classes": [],
            "_model_module": "@jupyter-widgets/controls",
            "_model_module_version": "1.5.0",
            "_model_name": "FloatProgressModel",
            "_view_count": null,
            "_view_module": "@jupyter-widgets/controls",
            "_view_module_version": "1.5.0",
            "_view_name": "ProgressView",
            "bar_style": "success",
            "description": "",
            "description_tooltip": null,
            "layout": "IPY_MODEL_ebdbbda5f6984763bc17d5b66586641d",
            "max": 653,
            "min": 0,
            "orientation": "horizontal",
            "style": "IPY_MODEL_b2debcc632654932b99f61cc12c7487d",
            "value": 653
          }
        },
        "dcdbd58298514d6fb302ea859eaf73e7": {
          "model_module": "@jupyter-widgets/controls",
          "model_name": "HTMLModel",
          "model_module_version": "1.5.0",
          "state": {
            "_dom_classes": [],
            "_model_module": "@jupyter-widgets/controls",
            "_model_module_version": "1.5.0",
            "_model_name": "HTMLModel",
            "_view_count": null,
            "_view_module": "@jupyter-widgets/controls",
            "_view_module_version": "1.5.0",
            "_view_name": "HTMLView",
            "description": "",
            "description_tooltip": null,
            "layout": "IPY_MODEL_2065bca797294bcca071a6fe31d80363",
            "placeholder": "​",
            "style": "IPY_MODEL_e01fba9a15db493ca4fa2a777810eab0",
            "value": " 653/653 [00:08&lt;00:00, 79.11it/s, v_num=7]"
          }
        },
        "1da75aadbbad4b56a850e89eb65c46c0": {
          "model_module": "@jupyter-widgets/base",
          "model_name": "LayoutModel",
          "model_module_version": "1.2.0",
          "state": {
            "_model_module": "@jupyter-widgets/base",
            "_model_module_version": "1.2.0",
            "_model_name": "LayoutModel",
            "_view_count": null,
            "_view_module": "@jupyter-widgets/base",
            "_view_module_version": "1.2.0",
            "_view_name": "LayoutView",
            "align_content": null,
            "align_items": null,
            "align_self": null,
            "border": null,
            "bottom": null,
            "display": "inline-flex",
            "flex": null,
            "flex_flow": "row wrap",
            "grid_area": null,
            "grid_auto_columns": null,
            "grid_auto_flow": null,
            "grid_auto_rows": null,
            "grid_column": null,
            "grid_gap": null,
            "grid_row": null,
            "grid_template_areas": null,
            "grid_template_columns": null,
            "grid_template_rows": null,
            "height": null,
            "justify_content": null,
            "justify_items": null,
            "left": null,
            "margin": null,
            "max_height": null,
            "max_width": null,
            "min_height": null,
            "min_width": null,
            "object_fit": null,
            "object_position": null,
            "order": null,
            "overflow": null,
            "overflow_x": null,
            "overflow_y": null,
            "padding": null,
            "right": null,
            "top": null,
            "visibility": null,
            "width": "100%"
          }
        },
        "9965f1981e4642599306c03b8d85e8fc": {
          "model_module": "@jupyter-widgets/base",
          "model_name": "LayoutModel",
          "model_module_version": "1.2.0",
          "state": {
            "_model_module": "@jupyter-widgets/base",
            "_model_module_version": "1.2.0",
            "_model_name": "LayoutModel",
            "_view_count": null,
            "_view_module": "@jupyter-widgets/base",
            "_view_module_version": "1.2.0",
            "_view_name": "LayoutView",
            "align_content": null,
            "align_items": null,
            "align_self": null,
            "border": null,
            "bottom": null,
            "display": null,
            "flex": null,
            "flex_flow": null,
            "grid_area": null,
            "grid_auto_columns": null,
            "grid_auto_flow": null,
            "grid_auto_rows": null,
            "grid_column": null,
            "grid_gap": null,
            "grid_row": null,
            "grid_template_areas": null,
            "grid_template_columns": null,
            "grid_template_rows": null,
            "height": null,
            "justify_content": null,
            "justify_items": null,
            "left": null,
            "margin": null,
            "max_height": null,
            "max_width": null,
            "min_height": null,
            "min_width": null,
            "object_fit": null,
            "object_position": null,
            "order": null,
            "overflow": null,
            "overflow_x": null,
            "overflow_y": null,
            "padding": null,
            "right": null,
            "top": null,
            "visibility": null,
            "width": null
          }
        },
        "e3c515c425dc4150833cbcfdc0481e68": {
          "model_module": "@jupyter-widgets/controls",
          "model_name": "DescriptionStyleModel",
          "model_module_version": "1.5.0",
          "state": {
            "_model_module": "@jupyter-widgets/controls",
            "_model_module_version": "1.5.0",
            "_model_name": "DescriptionStyleModel",
            "_view_count": null,
            "_view_module": "@jupyter-widgets/base",
            "_view_module_version": "1.2.0",
            "_view_name": "StyleView",
            "description_width": ""
          }
        },
        "ebdbbda5f6984763bc17d5b66586641d": {
          "model_module": "@jupyter-widgets/base",
          "model_name": "LayoutModel",
          "model_module_version": "1.2.0",
          "state": {
            "_model_module": "@jupyter-widgets/base",
            "_model_module_version": "1.2.0",
            "_model_name": "LayoutModel",
            "_view_count": null,
            "_view_module": "@jupyter-widgets/base",
            "_view_module_version": "1.2.0",
            "_view_name": "LayoutView",
            "align_content": null,
            "align_items": null,
            "align_self": null,
            "border": null,
            "bottom": null,
            "display": null,
            "flex": "2",
            "flex_flow": null,
            "grid_area": null,
            "grid_auto_columns": null,
            "grid_auto_flow": null,
            "grid_auto_rows": null,
            "grid_column": null,
            "grid_gap": null,
            "grid_row": null,
            "grid_template_areas": null,
            "grid_template_columns": null,
            "grid_template_rows": null,
            "height": null,
            "justify_content": null,
            "justify_items": null,
            "left": null,
            "margin": null,
            "max_height": null,
            "max_width": null,
            "min_height": null,
            "min_width": null,
            "object_fit": null,
            "object_position": null,
            "order": null,
            "overflow": null,
            "overflow_x": null,
            "overflow_y": null,
            "padding": null,
            "right": null,
            "top": null,
            "visibility": null,
            "width": null
          }
        },
        "b2debcc632654932b99f61cc12c7487d": {
          "model_module": "@jupyter-widgets/controls",
          "model_name": "ProgressStyleModel",
          "model_module_version": "1.5.0",
          "state": {
            "_model_module": "@jupyter-widgets/controls",
            "_model_module_version": "1.5.0",
            "_model_name": "ProgressStyleModel",
            "_view_count": null,
            "_view_module": "@jupyter-widgets/base",
            "_view_module_version": "1.2.0",
            "_view_name": "StyleView",
            "bar_color": null,
            "description_width": ""
          }
        },
        "2065bca797294bcca071a6fe31d80363": {
          "model_module": "@jupyter-widgets/base",
          "model_name": "LayoutModel",
          "model_module_version": "1.2.0",
          "state": {
            "_model_module": "@jupyter-widgets/base",
            "_model_module_version": "1.2.0",
            "_model_name": "LayoutModel",
            "_view_count": null,
            "_view_module": "@jupyter-widgets/base",
            "_view_module_version": "1.2.0",
            "_view_name": "LayoutView",
            "align_content": null,
            "align_items": null,
            "align_self": null,
            "border": null,
            "bottom": null,
            "display": null,
            "flex": null,
            "flex_flow": null,
            "grid_area": null,
            "grid_auto_columns": null,
            "grid_auto_flow": null,
            "grid_auto_rows": null,
            "grid_column": null,
            "grid_gap": null,
            "grid_row": null,
            "grid_template_areas": null,
            "grid_template_columns": null,
            "grid_template_rows": null,
            "height": null,
            "justify_content": null,
            "justify_items": null,
            "left": null,
            "margin": null,
            "max_height": null,
            "max_width": null,
            "min_height": null,
            "min_width": null,
            "object_fit": null,
            "object_position": null,
            "order": null,
            "overflow": null,
            "overflow_x": null,
            "overflow_y": null,
            "padding": null,
            "right": null,
            "top": null,
            "visibility": null,
            "width": null
          }
        },
        "e01fba9a15db493ca4fa2a777810eab0": {
          "model_module": "@jupyter-widgets/controls",
          "model_name": "DescriptionStyleModel",
          "model_module_version": "1.5.0",
          "state": {
            "_model_module": "@jupyter-widgets/controls",
            "_model_module_version": "1.5.0",
            "_model_name": "DescriptionStyleModel",
            "_view_count": null,
            "_view_module": "@jupyter-widgets/base",
            "_view_module_version": "1.2.0",
            "_view_name": "StyleView",
            "description_width": ""
          }
        }
      }
    }
  },
  "cells": [
    {
      "cell_type": "markdown",
      "source": [
        "# **Power Price Forecasting**\n",
        "## *Author*: Phani Arvind Vadali\n",
        "The objective of this study is to construct a black box model to forecast the hourly electricity demand one day ahead. The country of consideration here is Spain the data for whom can be obtained from ENTSOE [1].Three years worth of data from Jan, 2020 to Dec, 2022 will be used. To keep the problem simple electricity generation by different sources has been summed up to identify one value for the total net electricity generated by all sources. Similarly, import of electricity from neighbouring countries has also been aggregated into one value.\n",
        "\n",
        "The objective of the study here is to construct a model to predict thee prive for all 24 hours a day in advance, Therefore, there are 24 outputs which are each the forecasted value of demand for the next day. The inputs to the problem are all the values of demand, generation and import till the start of the next 24 hours. The appropriate amount of time lag has to be identified. The problem looks like the following:\n",
        "$$\\textbf{DF} = f(\\textbf{D},\\textbf{NG},\\textbf{Imp})$$\n",
        "\n",
        "Here **DF** is the vector containing 24 outputs which are the value of forecasted demand for the next 24 hours. The inputs are the demand (**D**), generation (**NG**) and the import (**Imp**) for a yet undecided number of hours prior.\n",
        "\n",
        "All value of inputs *L* days prior are used to predict the 24 hour demand. The inputs of each day i.e., the demand, generation and import values will be flattened and taken as one 24x3 sized vector. By stacking data from several days on top of each other an input matrix can now be constructed. Therefore each in put matrix will be of size *L* by 72. Each input matrix will be used to predict the values of demand for the forthcoming 24 hours. A key fact to keep in mind is that logging of input can only start L days after the beginning of the data and has to end 1 day before the end of the dataset."
      ],
      "metadata": {
        "id": "eq3gnDFNkPdg"
      }
    },
    {
      "cell_type": "markdown",
      "source": [
        "## Mount the drive"
      ],
      "metadata": {
        "id": "n-x2UdRYy7B7"
      }
    },
    {
      "cell_type": "code",
      "execution_count": null,
      "metadata": {
        "colab": {
          "base_uri": "https://localhost:8080/"
        },
        "id": "xnWoY6nIkNmx",
        "outputId": "6399a973-a0b0-4c41-f8d8-42613c41f93b"
      },
      "outputs": [
        {
          "output_type": "stream",
          "name": "stdout",
          "text": [
            "Mounted at /content/drive\n"
          ]
        }
      ],
      "source": [
        "from google.colab import drive  # The google colab module to access folders on GDrive\n",
        "import os  # the python module for all things related to the OS.\n",
        "\n",
        "# we mount our gDrive drive at the startpoint\n",
        "drive.mount('/content/drive')\n",
        "\n",
        "# change that into the path you want to change into (as if you were starting in your current root folder in drive)\n",
        "my_folder_path = \"AREN5030/HOMEWORKS/ADAM Repo\"\n",
        "# we navigate to the target folder\n",
        "os.chdir(\"drive/My Drive/\" + my_folder_path)"
      ]
    },
    {
      "cell_type": "markdown",
      "source": [
        "## Load the packages"
      ],
      "metadata": {
        "id": "zOkFzrk1zHRj"
      }
    },
    {
      "cell_type": "code",
      "source": [
        "import pandas as pd\n",
        "import numpy as np\n",
        "import plotly.graph_objects as go\n",
        "import plotly.express as px\n",
        "import plotly.subplots as sp\n",
        "import statsmodels.api as sm\n",
        "import random\n",
        "import itertools\n",
        "\n",
        "from sklearn.preprocessing import StandardScaler\n",
        "from sklearn.decomposition import PCA\n",
        "from sklearn.model_selection import GridSearchCV\n",
        "from sklearn.model_selection import train_test_split, cross_val_score"
      ],
      "metadata": {
        "id": "ladKj1wDzNd5"
      },
      "execution_count": null,
      "outputs": []
    },
    {
      "cell_type": "markdown",
      "source": [
        "RNN specfic packages to be imported."
      ],
      "metadata": {
        "id": "2OIXLX40c30c"
      }
    },
    {
      "cell_type": "code",
      "source": [
        "import torch\n",
        "from torch import nn\n",
        "from torch.optim import RMSprop\n",
        "from torch.utils.data import DataLoader,TensorDataset"
      ],
      "metadata": {
        "id": "rVEn5Fd1XkOl"
      },
      "execution_count": null,
      "outputs": []
    },
    {
      "cell_type": "markdown",
      "source": [
        "Use pip install any missing packages."
      ],
      "metadata": {
        "id": "SNtFvpDXc72S"
      }
    },
    {
      "cell_type": "code",
      "source": [
        "%pip install torchmetrics\n",
        "%pip install torchinfo\n",
        "%pip install pytorch_lightning\n",
        "%pip install torchvision"
      ],
      "metadata": {
        "id": "sQULg5wGSfKH",
        "colab": {
          "base_uri": "https://localhost:8080/"
        },
        "outputId": "9e237a84-4d66-4f85-a39e-3aa0b2ddce18"
      },
      "execution_count": null,
      "outputs": [
        {
          "output_type": "stream",
          "name": "stdout",
          "text": [
            "Collecting torchmetrics\n",
            "  Downloading torchmetrics-1.3.1-py3-none-any.whl (840 kB)\n",
            "\u001b[2K     \u001b[90m━━━━━━━━━━━━━━━━━━━━━━━━━━━━━━━━━━━━━━━━\u001b[0m \u001b[32m840.4/840.4 kB\u001b[0m \u001b[31m4.9 MB/s\u001b[0m eta \u001b[36m0:00:00\u001b[0m\n",
            "\u001b[?25hRequirement already satisfied: numpy>1.20.0 in /usr/local/lib/python3.10/dist-packages (from torchmetrics) (1.25.2)\n",
            "Requirement already satisfied: packaging>17.1 in /usr/local/lib/python3.10/dist-packages (from torchmetrics) (23.2)\n",
            "Requirement already satisfied: torch>=1.10.0 in /usr/local/lib/python3.10/dist-packages (from torchmetrics) (2.1.0+cu121)\n",
            "Collecting lightning-utilities>=0.8.0 (from torchmetrics)\n",
            "  Downloading lightning_utilities-0.10.1-py3-none-any.whl (24 kB)\n",
            "Requirement already satisfied: setuptools in /usr/local/lib/python3.10/dist-packages (from lightning-utilities>=0.8.0->torchmetrics) (67.7.2)\n",
            "Requirement already satisfied: typing-extensions in /usr/local/lib/python3.10/dist-packages (from lightning-utilities>=0.8.0->torchmetrics) (4.9.0)\n",
            "Requirement already satisfied: filelock in /usr/local/lib/python3.10/dist-packages (from torch>=1.10.0->torchmetrics) (3.13.1)\n",
            "Requirement already satisfied: sympy in /usr/local/lib/python3.10/dist-packages (from torch>=1.10.0->torchmetrics) (1.12)\n",
            "Requirement already satisfied: networkx in /usr/local/lib/python3.10/dist-packages (from torch>=1.10.0->torchmetrics) (3.2.1)\n",
            "Requirement already satisfied: jinja2 in /usr/local/lib/python3.10/dist-packages (from torch>=1.10.0->torchmetrics) (3.1.3)\n",
            "Requirement already satisfied: fsspec in /usr/local/lib/python3.10/dist-packages (from torch>=1.10.0->torchmetrics) (2023.6.0)\n",
            "Requirement already satisfied: triton==2.1.0 in /usr/local/lib/python3.10/dist-packages (from torch>=1.10.0->torchmetrics) (2.1.0)\n",
            "Requirement already satisfied: MarkupSafe>=2.0 in /usr/local/lib/python3.10/dist-packages (from jinja2->torch>=1.10.0->torchmetrics) (2.1.5)\n",
            "Requirement already satisfied: mpmath>=0.19 in /usr/local/lib/python3.10/dist-packages (from sympy->torch>=1.10.0->torchmetrics) (1.3.0)\n",
            "Installing collected packages: lightning-utilities, torchmetrics\n",
            "Successfully installed lightning-utilities-0.10.1 torchmetrics-1.3.1\n",
            "Collecting torchinfo\n",
            "  Downloading torchinfo-1.8.0-py3-none-any.whl (23 kB)\n",
            "Installing collected packages: torchinfo\n",
            "Successfully installed torchinfo-1.8.0\n",
            "Collecting pytorch_lightning\n",
            "  Downloading pytorch_lightning-2.2.0.post0-py3-none-any.whl (800 kB)\n",
            "\u001b[2K     \u001b[90m━━━━━━━━━━━━━━━━━━━━━━━━━━━━━━━━━━━━━━━━\u001b[0m \u001b[32m800.9/800.9 kB\u001b[0m \u001b[31m5.0 MB/s\u001b[0m eta \u001b[36m0:00:00\u001b[0m\n",
            "\u001b[?25hRequirement already satisfied: numpy>=1.17.2 in /usr/local/lib/python3.10/dist-packages (from pytorch_lightning) (1.25.2)\n",
            "Requirement already satisfied: torch>=1.13.0 in /usr/local/lib/python3.10/dist-packages (from pytorch_lightning) (2.1.0+cu121)\n",
            "Requirement already satisfied: tqdm>=4.57.0 in /usr/local/lib/python3.10/dist-packages (from pytorch_lightning) (4.66.1)\n",
            "Requirement already satisfied: PyYAML>=5.4 in /usr/local/lib/python3.10/dist-packages (from pytorch_lightning) (6.0.1)\n",
            "Requirement already satisfied: fsspec[http]>=2022.5.0 in /usr/local/lib/python3.10/dist-packages (from pytorch_lightning) (2023.6.0)\n",
            "Requirement already satisfied: torchmetrics>=0.7.0 in /usr/local/lib/python3.10/dist-packages (from pytorch_lightning) (1.3.1)\n",
            "Requirement already satisfied: packaging>=20.0 in /usr/local/lib/python3.10/dist-packages (from pytorch_lightning) (23.2)\n",
            "Requirement already satisfied: typing-extensions>=4.4.0 in /usr/local/lib/python3.10/dist-packages (from pytorch_lightning) (4.9.0)\n",
            "Requirement already satisfied: lightning-utilities>=0.8.0 in /usr/local/lib/python3.10/dist-packages (from pytorch_lightning) (0.10.1)\n",
            "Requirement already satisfied: requests in /usr/local/lib/python3.10/dist-packages (from fsspec[http]>=2022.5.0->pytorch_lightning) (2.31.0)\n",
            "Requirement already satisfied: aiohttp!=4.0.0a0,!=4.0.0a1 in /usr/local/lib/python3.10/dist-packages (from fsspec[http]>=2022.5.0->pytorch_lightning) (3.9.3)\n",
            "Requirement already satisfied: setuptools in /usr/local/lib/python3.10/dist-packages (from lightning-utilities>=0.8.0->pytorch_lightning) (67.7.2)\n",
            "Requirement already satisfied: filelock in /usr/local/lib/python3.10/dist-packages (from torch>=1.13.0->pytorch_lightning) (3.13.1)\n",
            "Requirement already satisfied: sympy in /usr/local/lib/python3.10/dist-packages (from torch>=1.13.0->pytorch_lightning) (1.12)\n",
            "Requirement already satisfied: networkx in /usr/local/lib/python3.10/dist-packages (from torch>=1.13.0->pytorch_lightning) (3.2.1)\n",
            "Requirement already satisfied: jinja2 in /usr/local/lib/python3.10/dist-packages (from torch>=1.13.0->pytorch_lightning) (3.1.3)\n",
            "Requirement already satisfied: triton==2.1.0 in /usr/local/lib/python3.10/dist-packages (from torch>=1.13.0->pytorch_lightning) (2.1.0)\n",
            "Requirement already satisfied: aiosignal>=1.1.2 in /usr/local/lib/python3.10/dist-packages (from aiohttp!=4.0.0a0,!=4.0.0a1->fsspec[http]>=2022.5.0->pytorch_lightning) (1.3.1)\n",
            "Requirement already satisfied: attrs>=17.3.0 in /usr/local/lib/python3.10/dist-packages (from aiohttp!=4.0.0a0,!=4.0.0a1->fsspec[http]>=2022.5.0->pytorch_lightning) (23.2.0)\n",
            "Requirement already satisfied: frozenlist>=1.1.1 in /usr/local/lib/python3.10/dist-packages (from aiohttp!=4.0.0a0,!=4.0.0a1->fsspec[http]>=2022.5.0->pytorch_lightning) (1.4.1)\n",
            "Requirement already satisfied: multidict<7.0,>=4.5 in /usr/local/lib/python3.10/dist-packages (from aiohttp!=4.0.0a0,!=4.0.0a1->fsspec[http]>=2022.5.0->pytorch_lightning) (6.0.5)\n",
            "Requirement already satisfied: yarl<2.0,>=1.0 in /usr/local/lib/python3.10/dist-packages (from aiohttp!=4.0.0a0,!=4.0.0a1->fsspec[http]>=2022.5.0->pytorch_lightning) (1.9.4)\n",
            "Requirement already satisfied: async-timeout<5.0,>=4.0 in /usr/local/lib/python3.10/dist-packages (from aiohttp!=4.0.0a0,!=4.0.0a1->fsspec[http]>=2022.5.0->pytorch_lightning) (4.0.3)\n",
            "Requirement already satisfied: MarkupSafe>=2.0 in /usr/local/lib/python3.10/dist-packages (from jinja2->torch>=1.13.0->pytorch_lightning) (2.1.5)\n",
            "Requirement already satisfied: charset-normalizer<4,>=2 in /usr/local/lib/python3.10/dist-packages (from requests->fsspec[http]>=2022.5.0->pytorch_lightning) (3.3.2)\n",
            "Requirement already satisfied: idna<4,>=2.5 in /usr/local/lib/python3.10/dist-packages (from requests->fsspec[http]>=2022.5.0->pytorch_lightning) (3.6)\n",
            "Requirement already satisfied: urllib3<3,>=1.21.1 in /usr/local/lib/python3.10/dist-packages (from requests->fsspec[http]>=2022.5.0->pytorch_lightning) (2.0.7)\n",
            "Requirement already satisfied: certifi>=2017.4.17 in /usr/local/lib/python3.10/dist-packages (from requests->fsspec[http]>=2022.5.0->pytorch_lightning) (2024.2.2)\n",
            "Requirement already satisfied: mpmath>=0.19 in /usr/local/lib/python3.10/dist-packages (from sympy->torch>=1.13.0->pytorch_lightning) (1.3.0)\n",
            "Installing collected packages: pytorch_lightning\n",
            "Successfully installed pytorch_lightning-2.2.0.post0\n",
            "Requirement already satisfied: torchvision in /usr/local/lib/python3.10/dist-packages (0.16.0+cu121)\n",
            "Requirement already satisfied: numpy in /usr/local/lib/python3.10/dist-packages (from torchvision) (1.25.2)\n",
            "Requirement already satisfied: requests in /usr/local/lib/python3.10/dist-packages (from torchvision) (2.31.0)\n",
            "Requirement already satisfied: torch==2.1.0 in /usr/local/lib/python3.10/dist-packages (from torchvision) (2.1.0+cu121)\n",
            "Requirement already satisfied: pillow!=8.3.*,>=5.3.0 in /usr/local/lib/python3.10/dist-packages (from torchvision) (9.4.0)\n",
            "Requirement already satisfied: filelock in /usr/local/lib/python3.10/dist-packages (from torch==2.1.0->torchvision) (3.13.1)\n",
            "Requirement already satisfied: typing-extensions in /usr/local/lib/python3.10/dist-packages (from torch==2.1.0->torchvision) (4.9.0)\n",
            "Requirement already satisfied: sympy in /usr/local/lib/python3.10/dist-packages (from torch==2.1.0->torchvision) (1.12)\n",
            "Requirement already satisfied: networkx in /usr/local/lib/python3.10/dist-packages (from torch==2.1.0->torchvision) (3.2.1)\n",
            "Requirement already satisfied: jinja2 in /usr/local/lib/python3.10/dist-packages (from torch==2.1.0->torchvision) (3.1.3)\n",
            "Requirement already satisfied: fsspec in /usr/local/lib/python3.10/dist-packages (from torch==2.1.0->torchvision) (2023.6.0)\n",
            "Requirement already satisfied: triton==2.1.0 in /usr/local/lib/python3.10/dist-packages (from torch==2.1.0->torchvision) (2.1.0)\n",
            "Requirement already satisfied: charset-normalizer<4,>=2 in /usr/local/lib/python3.10/dist-packages (from requests->torchvision) (3.3.2)\n",
            "Requirement already satisfied: idna<4,>=2.5 in /usr/local/lib/python3.10/dist-packages (from requests->torchvision) (3.6)\n",
            "Requirement already satisfied: urllib3<3,>=1.21.1 in /usr/local/lib/python3.10/dist-packages (from requests->torchvision) (2.0.7)\n",
            "Requirement already satisfied: certifi>=2017.4.17 in /usr/local/lib/python3.10/dist-packages (from requests->torchvision) (2024.2.2)\n",
            "Requirement already satisfied: MarkupSafe>=2.0 in /usr/local/lib/python3.10/dist-packages (from jinja2->torch==2.1.0->torchvision) (2.1.5)\n",
            "Requirement already satisfied: mpmath>=0.19 in /usr/local/lib/python3.10/dist-packages (from sympy->torch==2.1.0->torchvision) (1.3.0)\n"
          ]
        }
      ]
    },
    {
      "cell_type": "code",
      "source": [
        "from torchmetrics import MeanAbsoluteError, R2Score\n",
        "import pytorch_lightning as pl\n",
        "from torchinfo import summary\n",
        "from pytorch_lightning import Trainer\n",
        "from pytorch_lightning.loggers import CSVLogger\n",
        "pl.seed_everything(0, workers=True)\n",
        "torch.use_deterministic_algorithms(True, warn_only=True)\n",
        "from torchvision.transforms import (Resize,Normalize,CenterCrop,ToTensor)"
      ],
      "metadata": {
        "colab": {
          "base_uri": "https://localhost:8080/"
        },
        "id": "FHfx0bT6Saak",
        "outputId": "9f05c3f8-0fbe-4f1e-b750-f5d1efe15e67"
      },
      "execution_count": null,
      "outputs": [
        {
          "output_type": "stream",
          "name": "stderr",
          "text": [
            "INFO:lightning_fabric.utilities.seed:Seed set to 0\n"
          ]
        }
      ]
    },
    {
      "cell_type": "markdown",
      "source": [
        "## Data Cleaning and Aggregation\n",
        "Data for Spain from 2020 to 2023 was extracted into csv files from ENTSOE [1], cleaned, and aggregated. For the sake of brevity detailed information on various procedures undertaken is not provided here."
      ],
      "metadata": {
        "id": "WS6I4fZRzlT0"
      }
    },
    {
      "cell_type": "code",
      "source": [
        "ActGen2020 = pd.read_csv(\"SpainData/Actual Generation per Production Type_202001010000-202101010000.csv\")\n",
        "ActGen2021 = pd.read_csv(\"SpainData/Actual Generation per Production Type_202101010000-202201010000.csv\")\n",
        "ActGen2022 = pd.read_csv(\"SpainData/Actual Generation per Production Type_202201010000-202301010000.csv\")\n",
        "\n",
        "TotLoad2020 = pd.read_csv(\"SpainData/Total Load - Day Ahead _ Actual_202001010000-202101010000.csv\")\n",
        "TotLoad2021 = pd.read_csv(\"SpainData/Total Load - Day Ahead _ Actual_202101010000-202201010000.csv\")\n",
        "TotLoad2022 = pd.read_csv(\"SpainData/Total Load - Day Ahead _ Actual_202201010000-202301010000.csv\")\n",
        "df2020 = pd.concat([ActGen2020,TotLoad2020],axis=1)\n",
        "df2021 = pd.concat([ActGen2021,TotLoad2021],axis=1)\n",
        "df2022 = pd.concat([ActGen2022,TotLoad2022],axis=1)\n"
      ],
      "metadata": {
        "id": "reBfMv7mgt_7"
      },
      "execution_count": null,
      "outputs": []
    },
    {
      "cell_type": "code",
      "source": [
        "start_date_2020_1 = \"2020-01-01\"\n",
        "end_date_2020_1 = \"2020-10-25 02:00:00\"\n",
        "date_range_2020_1 = pd.date_range(start=start_date_2020_1, end=end_date_2020_1, freq='H')\n",
        "start_date_2020_2 = \"2020-10-25 02:00:00\"\n",
        "end_date_2020_2 = \"2020-12-31 23:00:00\"\n",
        "date_range_2020_2 = pd.date_range(start=start_date_2020_2, end=end_date_2020_2, freq='H')\n",
        "\n",
        "df2020_1 = df2020.iloc[:7155,:]\n",
        "df2020_2 = df2020.iloc[7155:,:]\n",
        "df2020_1.set_index(date_range_2020_1,inplace=True)\n",
        "df2020_2.set_index(date_range_2020_2,inplace=True)\n",
        "df2020 = pd.concat([df2020_1,df2020_2])\n",
        "\n",
        "start_date_2021_1 = \"2021-01-01\"\n",
        "end_date_2021_1 = \"2021-10-31 02:00:00\"\n",
        "date_range_2021_1 = pd.date_range(start=start_date_2021_1, end=end_date_2021_1, freq='H')\n",
        "start_date_2021_2 = \"2021-10-31 02:00:00\"\n",
        "end_date_2021_2 = \"2021-12-31 23:00:00\"\n",
        "date_range_2021_2 = pd.date_range(start=start_date_2021_2, end=end_date_2021_2, freq='H')\n",
        "\n",
        "df2021_1 = df2021.iloc[:7275,:]\n",
        "df2021_2 = df2021.iloc[7275:,:]\n",
        "df2021_1.set_index(date_range_2021_1,inplace=True)\n",
        "df2021_2.set_index(date_range_2021_2,inplace=True)\n",
        "df2021 = pd.concat([df2021_1,df2021_2])\n",
        "\n",
        "start_date_2022_1 = \"2022-01-01\"\n",
        "end_date_2022_1 = \"2022-05-23 01:00:00\"\n",
        "date_range_2022_1 = pd.date_range(start=start_date_2022_1, end=end_date_2022_1, freq='H')\n",
        "start_date_2022_2 = \"2022-05-23 02:00:00\"\n",
        "end_date_2022_2 = \"2022-10-30 02:45:00\"\n",
        "date_range_2022_2 = pd.date_range(start=start_date_2022_2, end=end_date_2022_2, freq='15T')\n",
        "start_date_2022_3 = \"2022-10-30 02:00:00\"\n",
        "end_date_2022_3 = \"2022-12-31 23:45:00\"\n",
        "date_range_2022_3 = pd.date_range(start=start_date_2022_3, end=end_date_2022_3, freq='15T')\n",
        "\n",
        "df2022_1 = df2022.iloc[:3410,:]\n",
        "df2022_2 = df2022.iloc[3410:18774,:]\n",
        "df2022_3 = df2022.iloc[18774:,:]\n",
        "\n",
        "df2022_1.set_index(date_range_2022_1,inplace=True)\n",
        "df2022_2.set_index(date_range_2022_2,inplace=True)\n",
        "df2022_2 = df2022_2.resample(\"1H\").mean(numeric_only=True)\n",
        "df2022_3.set_index(date_range_2022_3,inplace=True)\n",
        "df2022_3 = df2022_3.resample(\"1H\").mean(numeric_only=True)\n",
        "df2022_2 = pd.concat([df2022_1,df2022_2])\n",
        "df2022 = pd.concat([df2022_2,df2022_3])\n"
      ],
      "metadata": {
        "id": "uzd0OeupG6MU"
      },
      "execution_count": null,
      "outputs": []
    },
    {
      "cell_type": "code",
      "source": [
        "\n",
        "DayAheadPrice2020 = pd.read_csv(\"SpainData/Day-ahead Prices_202001010000-202101010000.csv\").set_index(df2020.index)\n",
        "DayAheadPrice2021 = pd.read_csv(\"SpainData/Day-ahead Prices_202101010000-202201010000.csv\").set_index(df2021.index)\n",
        "DayAheadPrice2022 = pd.read_csv(\"SpainData/Day-ahead Prices_202201010000-202301010000.csv\").set_index(df2022.index)\n",
        "df2020 = pd.concat([df2020,DayAheadPrice2020],axis=1)\n",
        "df2021 = pd.concat([df2021,DayAheadPrice2021],axis=1)\n",
        "df2022 = pd.concat([df2022,DayAheadPrice2022],axis=1)\n",
        "\n",
        "CrossBorderFR2020 = pd.read_csv(\"SpainData/Cross-Border Physical Flow_202001010000-202101010000.csv\").set_index(df2020.index)\n",
        "CrossBorderFR2021 = pd.read_csv(\"SpainData/Cross-Border Physical Flow_202101010000-202201010000.csv\").set_index(df2021.index)\n",
        "CrossBorderFR2022 = pd.read_csv(\"SpainData/Cross-Border Physical Flow_202201010000-202301010000.csv\").set_index(df2022.index)\n",
        "df2020 = pd.concat([df2020,CrossBorderFR2020],axis=1)\n",
        "df2021 = pd.concat([df2021,CrossBorderFR2021],axis=1)\n",
        "df2022 = pd.concat([df2022,CrossBorderFR2022],axis=1)\n",
        "\n",
        "CrossBorderPT2020 = pd.read_csv(\"SpainData/Cross-Border Physical Flow_202001010000-202101010000-Portugal.csv\").set_index(df2020.index)\n",
        "CrossBorderPT2021 = pd.read_csv(\"SpainData/Cross-Border Physical Flow_202101010000-202201010000-Portugal.csv\").set_index(df2021.index)\n",
        "CrossBorderPT2022 = pd.read_csv(\"SpainData/Cross-Border Physical Flow_202201010000-202301010000-Portugal.csv\").set_index(df2022.index)\n",
        "df2020 = pd.concat([df2020,CrossBorderPT2020],axis=1)\n",
        "df2021 = pd.concat([df2021,CrossBorderPT2021],axis=1)\n",
        "df2022 = pd.concat([df2022,CrossBorderPT2022],axis=1)"
      ],
      "metadata": {
        "id": "zooMf7k9G5-S"
      },
      "execution_count": null,
      "outputs": []
    },
    {
      "cell_type": "code",
      "source": [
        "# Not sure what to do about biomass and other sources\n",
        "RenewableSources = ['Geothermal  - Actual Aggregated [MW]','Hydro Pumped Storage  - Actual Aggregated [MW]',\n",
        "       'Hydro Pumped Storage  - Actual Consumption [MW]',\n",
        "       'Hydro Run-of-river and poundage  - Actual Aggregated [MW]',\n",
        "       'Hydro Water Reservoir  - Actual Aggregated [MW]',\n",
        "       'Marine  - Actual Aggregated [MW]', 'Nuclear  - Actual Aggregated [MW]','Other renewable  - Actual Aggregated [MW]',\n",
        "       'Solar  - Actual Aggregated [MW]',\n",
        "       'Wind Offshore  - Actual Aggregated [MW]',\n",
        "       'Wind Onshore  - Actual Aggregated [MW]']\n",
        "RenSourceDict = {'Geothermal  - Actual Aggregated [MW]':\"Geo\",'Hydro Pumped Storage  - Actual Aggregated [MW]':\"Hydro-pumped-agg\",\n",
        "       'Hydro Pumped Storage  - Actual Consumption [MW]':\"Hydro-pumped\",\n",
        "       'Hydro Run-of-river and poundage  - Actual Aggregated [MW]':\"Hydro Run-of-river\",\n",
        "       'Hydro Water Reservoir  - Actual Aggregated [MW]':\"Hydro water reservoir\",\n",
        "       'Marine  - Actual Aggregated [MW]':\"Marine\", 'Nuclear  - Actual Aggregated [MW]':\"Nuclear\",'Other renewable  - Actual Aggregated [MW]':\"Other renewable\",\n",
        "       'Solar  - Actual Aggregated [MW]':\"Solar\",\n",
        "       'Wind Offshore  - Actual Aggregated [MW]':\"Wind offshore\",\n",
        "       'Wind Onshore  - Actual Aggregated [MW]':\"Wind onshore\"}\n",
        "NonRenewableSources = ['Fossil Brown coal/Lignite  - Actual Aggregated [MW]',\n",
        "       'Fossil Coal-derived gas  - Actual Aggregated [MW]',\n",
        "       'Fossil Gas  - Actual Aggregated [MW]',\n",
        "       'Fossil Hard coal  - Actual Aggregated [MW]',\n",
        "       'Fossil Oil  - Actual Aggregated [MW]',\n",
        "       'Fossil Oil shale  - Actual Aggregated [MW]',\n",
        "       'Fossil Peat  - Actual Aggregated [MW]']\n",
        "NonRenSourceDict = {'Fossil Brown coal/Lignite  - Actual Aggregated [MW]':\"Brown Coal\",\n",
        "       'Fossil Coal-derived gas  - Actual Aggregated [MW]':\"Coal-dervied Gas\",\n",
        "       'Fossil Gas  - Actual Aggregated [MW]':\"Gas\",\n",
        "       'Fossil Hard coal  - Actual Aggregated [MW]':\"Hard Coal\",\n",
        "       'Fossil Oil  - Actual Aggregated [MW]':\"Oil\",\n",
        "       'Fossil Oil shale  - Actual Aggregated [MW]':\"Oil shale\",\n",
        "       'Fossil Peat  - Actual Aggregated [MW]':\"Peat\"}\n",
        "\n",
        "\n",
        "# Energy coming in to Spain is negative and energy going out is positive\n",
        "df2020[\"TIFR\"] = -df2020['France (FR) > Spain (ES) [MW]'] + df2020['Spain (ES) > France (FR) [MW]']\n",
        "df2021[\"TIFR\"] = -df2021['France (FR) > Spain (ES) [MW]'] + df2021['Spain (ES) > France (FR) [MW]']\n",
        "df2022[\"TIFR\"] = -df2022['France (FR) > Spain (ES) [MW]'] + df2022['Spain (ES) > France (FR) [MW]']\n",
        "\n",
        "df2020[\"TIPT\"] = -df2020['Portugal (PT) > Spain (ES) [MW]'] + df2020['Spain (ES) > Portugal (PT) [MW]']\n",
        "df2021[\"TIPT\"] = -df2021['Portugal (PT) > Spain (ES) [MW]'] + df2021['Spain (ES) > Portugal (PT) [MW]']\n",
        "df2022[\"TIPT\"] = -df2022['Portugal (PT) > Spain (ES) [MW]'] + df2022['Spain (ES) > Portugal (PT) [MW]']\n",
        "\n"
      ],
      "metadata": {
        "id": "Tw5qig3uUOS1"
      },
      "execution_count": null,
      "outputs": []
    },
    {
      "cell_type": "code",
      "source": [
        "df2020 = df2020.rename(columns={'Day-ahead Total Load Forecast [MW] - Spain (ES)':\"DF\",'Actual Total Load [MW] - Spain (ES)':\"D\",'Day-ahead Price [EUR/MWh]':\"Price\"})\n",
        "df2021 = df2021.rename(columns={'Day-ahead Total Load Forecast [MW] - Spain (ES)':\"DF\",'Actual Total Load [MW] - Spain (ES)':\"D\",'Day-ahead Price [EUR/MWh]':\"Price\"})\n",
        "df2022 = df2022.rename(columns={'Day-ahead Total Load Forecast [MW] - Spain (ES)':\"DF\",'Actual Total Load [MW] - Spain (ES)':\"D\",'Day-ahead Price [EUR/MWh]':\"Price\"})\n",
        "\n",
        "ReqColumns=[]\n",
        "ReqColumns.append(RenewableSources)\n",
        "ReqColumns.append(NonRenewableSources)\n",
        "ReqColumns.append([\"TIFR\",\"TIPT\",\"DF\",\"D\",\"Price\"])\n",
        "ReqColumns = [item for sublist in ReqColumns for item in sublist]\n",
        "\n",
        "df2020 = df2020.loc[:,df2020.columns.isin(ReqColumns)]\n",
        "df2021 = df2021.loc[:,df2021.columns.isin(ReqColumns)]\n",
        "df2022 = df2022.loc[:,df2022.columns.isin(ReqColumns)]\n"
      ],
      "metadata": {
        "id": "RGXZ7zE31Mu5"
      },
      "execution_count": null,
      "outputs": []
    },
    {
      "cell_type": "code",
      "source": [
        "df2020 = df2020.fillna(0)\n",
        "df2021 = df2021.fillna(0)\n",
        "df2022 = df2022.fillna(0)"
      ],
      "metadata": {
        "id": "b222jA0xcAz0"
      },
      "execution_count": null,
      "outputs": []
    },
    {
      "cell_type": "code",
      "source": [
        "df2020[\"NetGen\"] = df2020.loc[:,\"Fossil Brown coal/Lignite  - Actual Aggregated [MW]\":\"Wind Onshore  - Actual Aggregated [MW]\"].sum(axis=1)\n",
        "df2021[\"NetGen\"] = df2021.loc[:,\"Fossil Brown coal/Lignite  - Actual Aggregated [MW]\":\"Wind Onshore  - Actual Aggregated [MW]\"].sum(axis=1)\n",
        "df2022[\"NetGen\"] = df2022.loc[:,\"Fossil Brown coal/Lignite  - Actual Aggregated [MW]\":\"Wind Onshore  - Actual Aggregated [MW]\"].sum(axis=1)\n",
        "df = pd.concat([df2020,df2021])\n",
        "df = pd.concat([df,df2022])"
      ],
      "metadata": {
        "id": "cHm4RqSjr9Rt"
      },
      "execution_count": null,
      "outputs": []
    },
    {
      "cell_type": "markdown",
      "source": [
        "## Data Preparation\n",
        "Just the demand, import, generation and forecast are separated from the full dataset."
      ],
      "metadata": {
        "id": "1VQJxJI21dOl"
      }
    },
    {
      "cell_type": "code",
      "source": [
        "df[\"TI\"] = df[[\"TIFR\",\"TIPT\"]].sum(axis=1)\n",
        "df = df[[\"D\",\"TI\",\"NetGen\",\"DF\"]].astype(float)\n",
        "df_D_mean = df[[\"D\"]].mean()\n",
        "df_D_std = df[[\"D\"]].std()\n",
        "df_DF_mean = df[[\"DF\"]].mean()\n",
        "df_DF_std = df[[\"DF\"]].std()"
      ],
      "metadata": {
        "id": "fm-5E71I1gRe"
      },
      "execution_count": null,
      "outputs": []
    },
    {
      "cell_type": "markdown",
      "source": [
        "Standardize each column with respect to its respective mean and std."
      ],
      "metadata": {
        "id": "ljCPIrKAWflA"
      }
    },
    {
      "cell_type": "code",
      "source": [
        "df = pd.DataFrame(StandardScaler(with_mean=True,with_std=True).fit_transform(df),columns=df.columns,index=df.index)\n",
        "df1 = df[[\"D\",\"TI\",\"NetGen\"]]"
      ],
      "metadata": {
        "id": "7qvpVY-qWeqh"
      },
      "execution_count": null,
      "outputs": []
    },
    {
      "cell_type": "markdown",
      "source": [
        "## Recurrent Neural Network Model Construction\n",
        "Here an RNN model is constructed to predict the 24 hour demand forecast based on the values of demand, generation and import for few days prior. The number of lag days and the number of hidden nodes and epochs are determined using a sensitivity analysis in a later section."
      ],
      "metadata": {
        "id": "Hxeb7JtxC-ij"
      }
    },
    {
      "cell_type": "markdown",
      "source": [
        "The number of training days is a variable of our choice. That means that we choose how many days worth of data will be used to predict the demand in the next 24 hours. The input matrix **X** represents the value of demand, generation and import for the *L* lag days. Each input matrix will be of size L by 72. Here L is the number of lag days. Each row contains hourly values of demand, import and generation laid next to each other. Since there are 24 values each in each day the final row will have 72 elements. So the 72 input nodes will be used along with a chosen number of hidden nodes to finally output 24 values each of which are the forecast of the hourly demand in the following 24 hour period."
      ],
      "metadata": {
        "id": "ISm5epjU2mbR"
      }
    },
    {
      "cell_type": "code",
      "source": [
        "L = 8 # Training horizon in days\n",
        "Lh = L*24 # Training horizon in hours\n",
        "P = 24  # Prediction horizon of 24 hours\n",
        "n = df1.shape[0] - Lh - P # Total number of data presentations\n",
        "# Input matrix X is a collection of n, L by 72 sized matrices\n",
        "X = np.zeros((n,L,P*3))\n",
        "# Outmatrix is a collection of n, P sized vectors\n",
        "Y = np.zeros((P,n))\n",
        "for j in range(0,n):\n",
        "  for i in range(0,L):\n",
        "    X[j,i,:] = df1.iloc[j+P*i:j+P+P*i,:].values.flatten(order=\"F\")\n",
        "  Y[:,j] = df1[\"D\"].iloc[j+Lh:j+Lh+P]\n"
      ],
      "metadata": {
        "id": "BoJF9awq25b0"
      },
      "execution_count": null,
      "outputs": []
    },
    {
      "cell_type": "code",
      "source": [
        "X_train, X_test, y_train, y_test = train_test_split(X, Y.T, test_size=0.2, random_state=42)\n",
        "X_train_rnn = torch.tensor(X_train.astype(np.float32))\n",
        "y_train_rnn = torch.tensor(y_train.astype(np.float32))\n",
        "X_test_rnn = torch.tensor(X_test.astype(np.float32))\n",
        "y_test_rnn = torch.tensor(y_test.astype(np.float32))\n",
        "DFTensorTrain = TensorDataset(X_train_rnn,y_train_rnn)\n",
        "DFTensorTest = TensorDataset(X_test_rnn,y_test_rnn)"
      ],
      "metadata": {
        "id": "ixT5yERvQQL2"
      },
      "execution_count": null,
      "outputs": []
    },
    {
      "cell_type": "code",
      "source": [
        "class DemandForecastModel(pl.LightningModule):\n",
        "  def __init__(self):\n",
        "    super(DemandForecastModel, self).__init__()\n",
        "    # Input units are 72 and hidden units are 256\n",
        "    self.rnn = nn.RNN(3*24,256,batch_first=True)\n",
        "    # Eventually we need 1 day's worth of hourly demand\n",
        "    self.dense = nn.Linear(256, 24)\n",
        "    # Assumed dropout rate of 10% which means that 10% of nodes are dropped out every ouptut calculation step\n",
        "    self.dropout = nn.Dropout(0.005)\n",
        "    self.criterion = nn.MSELoss()\n",
        "\n",
        "  def forward(self, x):\n",
        "    val, h_n = self.rnn(x)\n",
        "    val = self.dense(self.dropout(val[:,-1]))\n",
        "    return val\n",
        "\n",
        "  def training_step(self, batch, batch_idx):\n",
        "        x, y = batch\n",
        "        predictions = self(x)\n",
        "        loss = self.criterion(predictions, y)\n",
        "        return loss\n",
        "\n",
        "  def configure_optimizers(self):\n",
        "      return torch.optim.Adam(self.parameters(), lr=0.001)  # Assumed learning rate of 0.001\n",
        "\n",
        "DFModel = DemandForecastModel()"
      ],
      "metadata": {
        "id": "NxRAVKKUGPZR"
      },
      "execution_count": null,
      "outputs": []
    },
    {
      "cell_type": "code",
      "source": [
        "# To view the final shape of the RNN\n",
        "# 8 lag days with 72 elements are used to finally output 24 values\n",
        "summary(DFModel, input_data=X_train_rnn, col_names=['input_size','output_size','num_params'])"
      ],
      "metadata": {
        "colab": {
          "base_uri": "https://localhost:8080/"
        },
        "id": "H7Ovrja9RgVG",
        "outputId": "cc8b209b-f09b-4d5e-ebd6-5fe69905c789"
      },
      "execution_count": null,
      "outputs": [
        {
          "output_type": "execute_result",
          "data": {
            "text/plain": [
              "===================================================================================================================\n",
              "Layer (type:depth-idx)                   Input Shape               Output Shape              Param #\n",
              "===================================================================================================================\n",
              "DemandForecastModel                      [20872, 8, 72]            [20872, 24]               --\n",
              "├─RNN: 1-1                               [20872, 8, 72]            [20872, 8, 256]           84,480\n",
              "├─Dropout: 1-2                           [20872, 256]              [20872, 256]              --\n",
              "├─Linear: 1-3                            [20872, 256]              [20872, 24]               6,168\n",
              "===================================================================================================================\n",
              "Total params: 90,648\n",
              "Trainable params: 90,648\n",
              "Non-trainable params: 0\n",
              "Total mult-adds (G): 14.23\n",
              "===================================================================================================================\n",
              "Input size (MB): 48.09\n",
              "Forward/backward pass size (MB): 345.97\n",
              "Params size (MB): 0.36\n",
              "Estimated Total Size (MB): 394.43\n",
              "==================================================================================================================="
            ]
          },
          "metadata": {},
          "execution_count": 19
        }
      ]
    },
    {
      "cell_type": "code",
      "source": [
        "# Fit the model and find the weigths.\n",
        "# This step will take time. Approx 11 min.\n",
        "# The SGD uses a batch size of 32\n",
        "DFDataLoader = DataLoader(DFTensorTrain, batch_size=32, shuffle=True,num_workers=2)\n",
        "DF_trainer = pl.Trainer(deterministic=True, max_epochs=100)\n",
        "DF_trainer.fit(DFModel, DFDataLoader)"
      ],
      "metadata": {
        "colab": {
          "base_uri": "https://localhost:8080/",
          "height": 360,
          "referenced_widgets": [
            "1a265b2645084711afd17fe0a635f425",
            "ddbb610ff6a94d1c9f9bb2012a2ff387",
            "ebf437cd52194951bf3a98c9f2cdeaef",
            "dcdbd58298514d6fb302ea859eaf73e7",
            "1da75aadbbad4b56a850e89eb65c46c0",
            "9965f1981e4642599306c03b8d85e8fc",
            "e3c515c425dc4150833cbcfdc0481e68",
            "ebdbbda5f6984763bc17d5b66586641d",
            "b2debcc632654932b99f61cc12c7487d",
            "2065bca797294bcca071a6fe31d80363",
            "e01fba9a15db493ca4fa2a777810eab0"
          ]
        },
        "id": "DFfL4wQHc66m",
        "outputId": "376a8d14-2338-4c62-fee4-66aea11fb757"
      },
      "execution_count": null,
      "outputs": [
        {
          "output_type": "stream",
          "name": "stderr",
          "text": [
            "INFO:pytorch_lightning.utilities.rank_zero:GPU available: False, used: False\n",
            "INFO:pytorch_lightning.utilities.rank_zero:TPU available: False, using: 0 TPU cores\n",
            "INFO:pytorch_lightning.utilities.rank_zero:IPU available: False, using: 0 IPUs\n",
            "INFO:pytorch_lightning.utilities.rank_zero:HPU available: False, using: 0 HPUs\n",
            "INFO:pytorch_lightning.callbacks.model_summary:\n",
            "  | Name      | Type    | Params\n",
            "--------------------------------------\n",
            "0 | rnn       | RNN     | 84.5 K\n",
            "1 | dense     | Linear  | 6.2 K \n",
            "2 | dropout   | Dropout | 0     \n",
            "3 | criterion | MSELoss | 0     \n",
            "--------------------------------------\n",
            "90.6 K    Trainable params\n",
            "0         Non-trainable params\n",
            "90.6 K    Total params\n",
            "0.363     Total estimated model params size (MB)\n"
          ]
        },
        {
          "output_type": "display_data",
          "data": {
            "text/plain": [
              "Training: |          | 0/? [00:00<?, ?it/s]"
            ],
            "application/vnd.jupyter.widget-view+json": {
              "version_major": 2,
              "version_minor": 0,
              "model_id": "1a265b2645084711afd17fe0a635f425"
            }
          },
          "metadata": {}
        },
        {
          "output_type": "stream",
          "name": "stderr",
          "text": [
            "INFO:pytorch_lightning.utilities.rank_zero:`Trainer.fit` stopped: `max_epochs=100` reached.\n"
          ]
        }
      ]
    },
    {
      "cell_type": "markdown",
      "source": [
        "## Tuning of hyperparameters\n",
        "Here a series of sensitivity analyses are conducted to find the appropriate value of the various hyperparameters used in the model. The comparison metrics are the mean absolute error and the R-squared value both calculated based on the scaled dataset."
      ],
      "metadata": {
        "id": "j1vNn99qCI3j"
      }
    },
    {
      "cell_type": "code",
      "source": [
        "# Set the model to evaluation mode\n",
        "DFModel.eval()\n",
        "\n",
        "# Make predictions on the test set\n",
        "with torch.no_grad():\n",
        "    y_pred = DFModel(X_test_rnn)\n",
        "y_test_hat = y_pred.numpy()\n",
        "\n",
        "mae = np.mean(np.abs(y_test_hat - y_test))  # Mean absolute error for the whole matrix of testing data\n",
        "rmse = np.sum((y_test_hat - y_test)**2)\n",
        "tss = np.sum((y_test - y_test.mean())**2)\n",
        "R2 = 1 - rmse/tss\n",
        "# Calculate the evaluation metrics (you can use any relevant metrics for your task)\n",
        "#mae = MeanAbsoluteError()(predictions, y_test_rnn)\n",
        "\n",
        "print(f\"Mean Absolute Error on Test Set: {mae}\")\n",
        "print(f\"R2 value on Test Set: {R2}\")\n",
        "\n"
      ],
      "metadata": {
        "colab": {
          "base_uri": "https://localhost:8080/"
        },
        "id": "gl0P2tBRqhXe",
        "outputId": "d7848253-83c9-4847-8ae3-a39e8dbf5151"
      },
      "execution_count": null,
      "outputs": [
        {
          "output_type": "stream",
          "name": "stdout",
          "text": [
            "Mean Absolute Error on Test Set: 0.09628978207483771\n",
            "R2 value on Test Set: 0.9820485959427607\n"
          ]
        }
      ]
    },
    {
      "cell_type": "markdown",
      "source": [
        "Results with various tests to check sensitivity to epochs and lag days:\n",
        "    \n",
        "    LagDays     Epochs   Dropout    HiddenNodes    LearningRate   MAE     R-squraed\n",
        "           \n",
        "      5           10       10%          128             0.001     0.159    0.9472\n",
        "      8           10       10%          128             0.001     0.1489   0.9529\n",
        "      10          10       10%          128             0.001     0.1473   0.9557\n",
        "      3           50       10%          128             0.001     0.165    0.94\n",
        "      5           50       10%          128             0.001     0.1417   0.9593\n",
        "      8           50       10%          128             0.001     0.128    0.9672\n",
        "      10          50       10%          128             0.001     0.1306   0.9653\n",
        "      5          200       10%          128             0.001     0.141    0.9592\n",
        "      8          200       10%          128             0.001     0.1272   0.9676\n",
        "\n",
        "          "
      ],
      "metadata": {
        "id": "9lTkA6HeXiAs"
      }
    },
    {
      "cell_type": "markdown",
      "source": [
        "There does not seem to be a significant improvement with changing the number of epochs. However, increasing the lag days does have some effect. When the last 10 days are used are the performance decreases from when only last 8 days are used. Keeping in mind that the demand will probably cycle periodically on a weekly basis, using 7 days might lead to better results. Furthermore, increased number of hidden nodes are also checked."
      ],
      "metadata": {
        "id": "pGWMp3sGQ84x"
      }
    },
    {
      "cell_type": "markdown",
      "source": [
        "Results from tests with 7 lag days:\n",
        "\n",
        "    LagDays     Epochs   Dropout    HiddenNodes    LearningRate   MAE     R-squared\n",
        "      7           10       10%          128             0.001     0.15    0.95\n",
        "      7           50       10%          128             0.001     0.135   0.9635"
      ],
      "metadata": {
        "id": "0VKCV_64Rgjv"
      }
    },
    {
      "cell_type": "markdown",
      "source": [
        "It seems 8 days model performed better than the 7 days one, so we shall go back to that. Now we can try increasing the number of hidden nodes to check for improvements."
      ],
      "metadata": {
        "id": "scEMXfs-o58w"
      }
    },
    {
      "cell_type": "markdown",
      "source": [
        "Sensitivity to number of hidden nodes and lag days:\n",
        "\n",
        "    LagDays     Epochs   Dropout    HiddenNodes    LearningRate   MAE     R-squared\n",
        "      5           10       10%          128             0.001     0.159    0.9472\n",
        "      8           10       10%          128             0.001     0.1489   0.9529\n",
        "      8           50       10%          256             0.001     0.111    0.9763\n",
        "      5           50       10%          256             0.001     0.118    0.9728"
      ],
      "metadata": {
        "id": "cI1gwR8xsucN"
      }
    },
    {
      "cell_type": "markdown",
      "source": [
        "The model that uses 8 days of information with 256 hidden nodes has the best observed mean absolute error of 0.111 and an R-squared value of 0.9763. Increasing the number of hidden nodes does help increase the model performance. Finally, the number of epochs and the dropout rate can also be increased along with the number of hidden nodes.\n",
        "\n",
        "    LagDays     Epochs   Dropout    HiddenNodes    LearningRate   MAE     R-squared\n",
        "      8           50       10%          256             0.001     0.111    0.9763\n",
        "      8          200       10%          256             0.001     0.113    0.9754\n",
        "      8           50       10%          256             0.01      0.478    0.6239\n",
        "      8           50        5%          256             0.001     0.1019   0.9799\n",
        "      8           50        1%          256             0.001     0.0988   0.9811\n",
        "      8           50      0.5%          256             0.001     0.0963   0.9822\n",
        "      8          100      0.5%          256             0.001     0.095    0.9825\n"
      ],
      "metadata": {
        "id": "_PJt6GSayEKE"
      }
    },
    {
      "cell_type": "markdown",
      "source": [
        "The above senitivity analysis, indicates that increasing the learning rate has a negative effect on model performance. Further, reducing the dropout rate and increasing the number of epochs can improve model performance considerably. Starting with 128 hidden nodes and 5 lag days tuning the hyperparameters carefully helped increase the R-squared value of the final prediction from 94.72% to 98.25%. Thereby highlighting the importance of choosing the right hyperparameters in order to get the best performance out of the Deep Learning model."
      ],
      "metadata": {
        "id": "skQgnNQEfFPb"
      }
    },
    {
      "cell_type": "markdown",
      "source": [
        "## Comparison with demand forecast from data\n",
        "The data obtained from the original source also provides a value for demand forecast for every hour. This data has been provided to ENTSOE [1] directly by the Transmission System Operators (TSOs). The demand forecast data which is a day-ahead forecast is updated regularly with every 10% change in data prediction until 2 hours before the gate closure time for the day ahead market. Although the exact model is unclear, it is based on historic load profile on similar days while also taking into account variables that affect electricity demand, such as weather, climate and socioeconomic factors [2].\n",
        "\n",
        "This provides a yardstick to compare the performance of our model with a model used by the TSOs to decide the actual day-ahead prices. So, like the output matrix constructed in the analysis above with 24 hour demand as the columns a similar matrix can be constructed but with demand forecast as the columns. So a matrix of the same size the testing output with demand forecast value for every hour as obtained from the original source was constructed."
      ],
      "metadata": {
        "id": "JKhNQbEm7o2m"
      }
    },
    {
      "cell_type": "code",
      "source": [
        "DF = np.zeros((P,n))\n",
        "for j in range(0,n):\n",
        "  DF[:,j] = df[\"DF\"].iloc[j+Lh:j+Lh+P]\n",
        "\n",
        "\n",
        "DFtr,DFte = train_test_split(DF.T,test_size=0.2,random_state=42)  #Use the same seed to split. Don't forget to take transpose!\n",
        "mae_dat = np.mean(np.abs(DFte - y_test))\n",
        "rmse_dat = np.sum((DFte - y_test)**2)\n",
        "tss = np.sum((y_test - y_test.mean())**2)\n",
        "R2_dat = 1 - rmse_dat/tss\n",
        "print(f\"Mean Absolute Error of forecasted demand from given data on the test set: {mae_dat}\")\n",
        "print(f\"R2 value of forecasted demand from given data on the test set: {R2_dat}\")"
      ],
      "metadata": {
        "colab": {
          "base_uri": "https://localhost:8080/"
        },
        "id": "414uCmM6ywYm",
        "outputId": "79d28596-22e0-4553-ffaf-e7540d859929"
      },
      "execution_count": null,
      "outputs": [
        {
          "output_type": "stream",
          "name": "stdout",
          "text": [
            "Mean Absolute Error of forecasted demand from given data on the test set: 0.06913218112956536\n",
            "R2 value of forecasted demand from given data on the test set: 0.99003860881042\n"
          ]
        }
      ]
    },
    {
      "cell_type": "markdown",
      "source": [
        "On comparing the values demand forecast with the value of demand as provided in the original dataset a mean absolute error of about 0.0691 was observed with an R-squared value of 0.99. The fit of the demand forecast value in the original data is clost to 0.75% better than the fit of the model constructed in this study."
      ],
      "metadata": {
        "id": "XRJvPu0B8Tp4"
      }
    },
    {
      "cell_type": "markdown",
      "source": [
        "## Comparison plots\n",
        "Now the standardized value are converted back into its original value and 24 hour forecasts can be compared."
      ],
      "metadata": {
        "id": "ixTlrAp-8t1s"
      }
    },
    {
      "cell_type": "code",
      "source": [
        "DF_hat = df_D_std.values*y_test_hat + np.full((y_test_hat.shape[0],y_test_hat.shape[1]),df_D_mean.values)\n",
        "D = df_D_std.values*y_test + np.full((y_test_hat.shape[0],y_test_hat.shape[1]),df_D_mean.values)\n",
        "DF = df_DF_std.values*DFte + np.full((y_test_hat.shape[0],y_test_hat.shape[1]),df_DF_mean.values)"
      ],
      "metadata": {
        "id": "7j0FNo996-0f"
      },
      "execution_count": null,
      "outputs": []
    },
    {
      "cell_type": "markdown",
      "source": [
        "You can choose which 24 period of the testing data you wish to plot and a comparison plot of the actual values, the values forecasted by the RNN model constructed above and the demand forecast values provided in the original data is developed.\n",
        "\n",
        "Note: Since the testing data is being plotted each 24 hour period is a randomly chosen 24 hour period from the three years of data used in this study."
      ],
      "metadata": {
        "id": "YIypybHp_fUo"
      }
    },
    {
      "cell_type": "code",
      "source": [
        "row_index_to_plot = 0  # You can choose any row index to plot\n",
        "\n",
        "y_df_test_row = D[row_index_to_plot,:]\n",
        "y_df_hat_row = DF_hat[row_index_to_plot,:]\n",
        "y_df_dat = DF[row_index_to_plot,:]\n",
        "\n",
        "# Plot the selected row using Plotly\n",
        "fig = go.Figure()\n",
        "\n",
        "\n",
        "fig.add_trace(go.Scatter(x=list(range(len(y_df_test_row))), y=y_df_test_row, mode='lines', name='Actual'))\n",
        "fig.add_trace(go.Scatter(x=list(range(len(y_df_hat_row))), y=y_df_hat_row, mode='lines', name='Forecast from RNN model'))\n",
        "fig.add_trace(go.Scatter(x=list(range(len(y_df_dat))), y=y_df_dat, mode='lines', name='Forecast from data source'))\n",
        "\n",
        "fig.update_layout(title=f'Comparison of actual demand with forecasted demand for row {row_index_to_plot}',\n",
        "                  xaxis_title='Hourly Time Steps',\n",
        "                  yaxis_title='Hourly Electricity Demand (MW)')\n",
        "fig.update_layout(\n",
        "    margin=dict(l=50, r=50, b=50, t=75),  # Adjust margins to make the plot tighter\n",
        "    autosize=False,  # Disable autosizing\n",
        "    width=1200,       # Set the width of the plot\n",
        "    height=400,       # Set the height of the plot\n",
        "    title_x=0.5,\n",
        "    title_y=0.95\n",
        ")\n",
        "fig.show()"
      ],
      "metadata": {
        "colab": {
          "base_uri": "https://localhost:8080/",
          "height": 417
        },
        "id": "dpJ0_V1troGi",
        "outputId": "d48d06ec-ef81-46de-96f2-ad5030b74fe5"
      },
      "execution_count": null,
      "outputs": [
        {
          "output_type": "display_data",
          "data": {
            "text/html": [
              "<html>\n",
              "<head><meta charset=\"utf-8\" /></head>\n",
              "<body>\n",
              "    <div>            <script src=\"https://cdnjs.cloudflare.com/ajax/libs/mathjax/2.7.5/MathJax.js?config=TeX-AMS-MML_SVG\"></script><script type=\"text/javascript\">if (window.MathJax && window.MathJax.Hub && window.MathJax.Hub.Config) {window.MathJax.Hub.Config({SVG: {font: \"STIX-Web\"}});}</script>                <script type=\"text/javascript\">window.PlotlyConfig = {MathJaxConfig: 'local'};</script>\n",
              "        <script charset=\"utf-8\" src=\"https://cdn.plot.ly/plotly-2.24.1.min.js\"></script>                <div id=\"54df73be-1734-495d-bfdf-b0bc3ed7ac12\" class=\"plotly-graph-div\" style=\"height:400px; width:1200px;\"></div>            <script type=\"text/javascript\">                                    window.PLOTLYENV=window.PLOTLYENV || {};                                    if (document.getElementById(\"54df73be-1734-495d-bfdf-b0bc3ed7ac12\")) {                    Plotly.newPlot(                        \"54df73be-1734-495d-bfdf-b0bc3ed7ac12\",                        [{\"mode\":\"lines\",\"name\":\"Actual\",\"x\":[0,1,2,3,4,5,6,7,8,9,10,11,12,13,14,15,16,17,18,19,20,21,22,23],\"y\":[30330.0577450054,28639.025604354414,26629.987419512403,25734.970408345856,24491.946782781586,23406.92616030594,22768.914033910118,22317.90546180273,22002.899474632377,22277.904701527128,22508.909092118716,23145.921199507648,24664.950070973555,26093.977231819365,26924.993026544955,27612.006084278382,28332.019769239185,28400.021061707703,27870.010988056005,27483.003632389573,27369.001465604113,27447.002948141533,27435.002720058856,27438.002777079524],\"type\":\"scatter\"},{\"mode\":\"lines\",\"name\":\"Forecast from RNN model\",\"x\":[0,1,2,3,4,5,6,7,8,9,10,11,12,13,14,15,16,17,18,19,20,21,22,23],\"y\":[29770.613517928647,28192.069492845792,26760.102578611786,25567.772238225323,24491.70914333262,23276.6661429222,22237.43501917364,21661.109694738345,21755.08337954841,22092.00313236727,22604.75400654171,23246.805496171175,24798.983368168596,26706.92392076897,27978.514290160532,27789.063395890385,28829.779195034156,29411.156647009524,28597.48875576185,27626.041496539445,27633.622291155727,27423.315157787383,26823.331118684342,27263.426156170226],\"type\":\"scatter\"},{\"mode\":\"lines\",\"name\":\"Forecast from data source\",\"x\":[0,1,2,3,4,5,6,7,8,9,10,11,12,13,14,15,16,17,18,19,20,21,22,23],\"y\":[30377.308615582486,28650.52579543518,26771.240076737147,25640.468584696282,24493.9467932969,23372.175472318042,22575.660333330154,22126.1517897331,21918.397841051705,22258.15429864258,22682.912371819108,23203.922274408797,24655.19985815791,25990.225232356057,26693.738603703172,27282.49979400966,27878.011112612654,27958.512642667298,27528.004460201155,27187.24798360339,26962.993721308303,27009.244600376966,26952.993531239405,27123.746776665874],\"type\":\"scatter\"}],                        {\"template\":{\"data\":{\"histogram2dcontour\":[{\"type\":\"histogram2dcontour\",\"colorbar\":{\"outlinewidth\":0,\"ticks\":\"\"},\"colorscale\":[[0.0,\"#0d0887\"],[0.1111111111111111,\"#46039f\"],[0.2222222222222222,\"#7201a8\"],[0.3333333333333333,\"#9c179e\"],[0.4444444444444444,\"#bd3786\"],[0.5555555555555556,\"#d8576b\"],[0.6666666666666666,\"#ed7953\"],[0.7777777777777778,\"#fb9f3a\"],[0.8888888888888888,\"#fdca26\"],[1.0,\"#f0f921\"]]}],\"choropleth\":[{\"type\":\"choropleth\",\"colorbar\":{\"outlinewidth\":0,\"ticks\":\"\"}}],\"histogram2d\":[{\"type\":\"histogram2d\",\"colorbar\":{\"outlinewidth\":0,\"ticks\":\"\"},\"colorscale\":[[0.0,\"#0d0887\"],[0.1111111111111111,\"#46039f\"],[0.2222222222222222,\"#7201a8\"],[0.3333333333333333,\"#9c179e\"],[0.4444444444444444,\"#bd3786\"],[0.5555555555555556,\"#d8576b\"],[0.6666666666666666,\"#ed7953\"],[0.7777777777777778,\"#fb9f3a\"],[0.8888888888888888,\"#fdca26\"],[1.0,\"#f0f921\"]]}],\"heatmap\":[{\"type\":\"heatmap\",\"colorbar\":{\"outlinewidth\":0,\"ticks\":\"\"},\"colorscale\":[[0.0,\"#0d0887\"],[0.1111111111111111,\"#46039f\"],[0.2222222222222222,\"#7201a8\"],[0.3333333333333333,\"#9c179e\"],[0.4444444444444444,\"#bd3786\"],[0.5555555555555556,\"#d8576b\"],[0.6666666666666666,\"#ed7953\"],[0.7777777777777778,\"#fb9f3a\"],[0.8888888888888888,\"#fdca26\"],[1.0,\"#f0f921\"]]}],\"heatmapgl\":[{\"type\":\"heatmapgl\",\"colorbar\":{\"outlinewidth\":0,\"ticks\":\"\"},\"colorscale\":[[0.0,\"#0d0887\"],[0.1111111111111111,\"#46039f\"],[0.2222222222222222,\"#7201a8\"],[0.3333333333333333,\"#9c179e\"],[0.4444444444444444,\"#bd3786\"],[0.5555555555555556,\"#d8576b\"],[0.6666666666666666,\"#ed7953\"],[0.7777777777777778,\"#fb9f3a\"],[0.8888888888888888,\"#fdca26\"],[1.0,\"#f0f921\"]]}],\"contourcarpet\":[{\"type\":\"contourcarpet\",\"colorbar\":{\"outlinewidth\":0,\"ticks\":\"\"}}],\"contour\":[{\"type\":\"contour\",\"colorbar\":{\"outlinewidth\":0,\"ticks\":\"\"},\"colorscale\":[[0.0,\"#0d0887\"],[0.1111111111111111,\"#46039f\"],[0.2222222222222222,\"#7201a8\"],[0.3333333333333333,\"#9c179e\"],[0.4444444444444444,\"#bd3786\"],[0.5555555555555556,\"#d8576b\"],[0.6666666666666666,\"#ed7953\"],[0.7777777777777778,\"#fb9f3a\"],[0.8888888888888888,\"#fdca26\"],[1.0,\"#f0f921\"]]}],\"surface\":[{\"type\":\"surface\",\"colorbar\":{\"outlinewidth\":0,\"ticks\":\"\"},\"colorscale\":[[0.0,\"#0d0887\"],[0.1111111111111111,\"#46039f\"],[0.2222222222222222,\"#7201a8\"],[0.3333333333333333,\"#9c179e\"],[0.4444444444444444,\"#bd3786\"],[0.5555555555555556,\"#d8576b\"],[0.6666666666666666,\"#ed7953\"],[0.7777777777777778,\"#fb9f3a\"],[0.8888888888888888,\"#fdca26\"],[1.0,\"#f0f921\"]]}],\"mesh3d\":[{\"type\":\"mesh3d\",\"colorbar\":{\"outlinewidth\":0,\"ticks\":\"\"}}],\"scatter\":[{\"fillpattern\":{\"fillmode\":\"overlay\",\"size\":10,\"solidity\":0.2},\"type\":\"scatter\"}],\"parcoords\":[{\"type\":\"parcoords\",\"line\":{\"colorbar\":{\"outlinewidth\":0,\"ticks\":\"\"}}}],\"scatterpolargl\":[{\"type\":\"scatterpolargl\",\"marker\":{\"colorbar\":{\"outlinewidth\":0,\"ticks\":\"\"}}}],\"bar\":[{\"error_x\":{\"color\":\"#2a3f5f\"},\"error_y\":{\"color\":\"#2a3f5f\"},\"marker\":{\"line\":{\"color\":\"#E5ECF6\",\"width\":0.5},\"pattern\":{\"fillmode\":\"overlay\",\"size\":10,\"solidity\":0.2}},\"type\":\"bar\"}],\"scattergeo\":[{\"type\":\"scattergeo\",\"marker\":{\"colorbar\":{\"outlinewidth\":0,\"ticks\":\"\"}}}],\"scatterpolar\":[{\"type\":\"scatterpolar\",\"marker\":{\"colorbar\":{\"outlinewidth\":0,\"ticks\":\"\"}}}],\"histogram\":[{\"marker\":{\"pattern\":{\"fillmode\":\"overlay\",\"size\":10,\"solidity\":0.2}},\"type\":\"histogram\"}],\"scattergl\":[{\"type\":\"scattergl\",\"marker\":{\"colorbar\":{\"outlinewidth\":0,\"ticks\":\"\"}}}],\"scatter3d\":[{\"type\":\"scatter3d\",\"line\":{\"colorbar\":{\"outlinewidth\":0,\"ticks\":\"\"}},\"marker\":{\"colorbar\":{\"outlinewidth\":0,\"ticks\":\"\"}}}],\"scattermapbox\":[{\"type\":\"scattermapbox\",\"marker\":{\"colorbar\":{\"outlinewidth\":0,\"ticks\":\"\"}}}],\"scatterternary\":[{\"type\":\"scatterternary\",\"marker\":{\"colorbar\":{\"outlinewidth\":0,\"ticks\":\"\"}}}],\"scattercarpet\":[{\"type\":\"scattercarpet\",\"marker\":{\"colorbar\":{\"outlinewidth\":0,\"ticks\":\"\"}}}],\"carpet\":[{\"aaxis\":{\"endlinecolor\":\"#2a3f5f\",\"gridcolor\":\"white\",\"linecolor\":\"white\",\"minorgridcolor\":\"white\",\"startlinecolor\":\"#2a3f5f\"},\"baxis\":{\"endlinecolor\":\"#2a3f5f\",\"gridcolor\":\"white\",\"linecolor\":\"white\",\"minorgridcolor\":\"white\",\"startlinecolor\":\"#2a3f5f\"},\"type\":\"carpet\"}],\"table\":[{\"cells\":{\"fill\":{\"color\":\"#EBF0F8\"},\"line\":{\"color\":\"white\"}},\"header\":{\"fill\":{\"color\":\"#C8D4E3\"},\"line\":{\"color\":\"white\"}},\"type\":\"table\"}],\"barpolar\":[{\"marker\":{\"line\":{\"color\":\"#E5ECF6\",\"width\":0.5},\"pattern\":{\"fillmode\":\"overlay\",\"size\":10,\"solidity\":0.2}},\"type\":\"barpolar\"}],\"pie\":[{\"automargin\":true,\"type\":\"pie\"}]},\"layout\":{\"autotypenumbers\":\"strict\",\"colorway\":[\"#636efa\",\"#EF553B\",\"#00cc96\",\"#ab63fa\",\"#FFA15A\",\"#19d3f3\",\"#FF6692\",\"#B6E880\",\"#FF97FF\",\"#FECB52\"],\"font\":{\"color\":\"#2a3f5f\"},\"hovermode\":\"closest\",\"hoverlabel\":{\"align\":\"left\"},\"paper_bgcolor\":\"white\",\"plot_bgcolor\":\"#E5ECF6\",\"polar\":{\"bgcolor\":\"#E5ECF6\",\"angularaxis\":{\"gridcolor\":\"white\",\"linecolor\":\"white\",\"ticks\":\"\"},\"radialaxis\":{\"gridcolor\":\"white\",\"linecolor\":\"white\",\"ticks\":\"\"}},\"ternary\":{\"bgcolor\":\"#E5ECF6\",\"aaxis\":{\"gridcolor\":\"white\",\"linecolor\":\"white\",\"ticks\":\"\"},\"baxis\":{\"gridcolor\":\"white\",\"linecolor\":\"white\",\"ticks\":\"\"},\"caxis\":{\"gridcolor\":\"white\",\"linecolor\":\"white\",\"ticks\":\"\"}},\"coloraxis\":{\"colorbar\":{\"outlinewidth\":0,\"ticks\":\"\"}},\"colorscale\":{\"sequential\":[[0.0,\"#0d0887\"],[0.1111111111111111,\"#46039f\"],[0.2222222222222222,\"#7201a8\"],[0.3333333333333333,\"#9c179e\"],[0.4444444444444444,\"#bd3786\"],[0.5555555555555556,\"#d8576b\"],[0.6666666666666666,\"#ed7953\"],[0.7777777777777778,\"#fb9f3a\"],[0.8888888888888888,\"#fdca26\"],[1.0,\"#f0f921\"]],\"sequentialminus\":[[0.0,\"#0d0887\"],[0.1111111111111111,\"#46039f\"],[0.2222222222222222,\"#7201a8\"],[0.3333333333333333,\"#9c179e\"],[0.4444444444444444,\"#bd3786\"],[0.5555555555555556,\"#d8576b\"],[0.6666666666666666,\"#ed7953\"],[0.7777777777777778,\"#fb9f3a\"],[0.8888888888888888,\"#fdca26\"],[1.0,\"#f0f921\"]],\"diverging\":[[0,\"#8e0152\"],[0.1,\"#c51b7d\"],[0.2,\"#de77ae\"],[0.3,\"#f1b6da\"],[0.4,\"#fde0ef\"],[0.5,\"#f7f7f7\"],[0.6,\"#e6f5d0\"],[0.7,\"#b8e186\"],[0.8,\"#7fbc41\"],[0.9,\"#4d9221\"],[1,\"#276419\"]]},\"xaxis\":{\"gridcolor\":\"white\",\"linecolor\":\"white\",\"ticks\":\"\",\"title\":{\"standoff\":15},\"zerolinecolor\":\"white\",\"automargin\":true,\"zerolinewidth\":2},\"yaxis\":{\"gridcolor\":\"white\",\"linecolor\":\"white\",\"ticks\":\"\",\"title\":{\"standoff\":15},\"zerolinecolor\":\"white\",\"automargin\":true,\"zerolinewidth\":2},\"scene\":{\"xaxis\":{\"backgroundcolor\":\"#E5ECF6\",\"gridcolor\":\"white\",\"linecolor\":\"white\",\"showbackground\":true,\"ticks\":\"\",\"zerolinecolor\":\"white\",\"gridwidth\":2},\"yaxis\":{\"backgroundcolor\":\"#E5ECF6\",\"gridcolor\":\"white\",\"linecolor\":\"white\",\"showbackground\":true,\"ticks\":\"\",\"zerolinecolor\":\"white\",\"gridwidth\":2},\"zaxis\":{\"backgroundcolor\":\"#E5ECF6\",\"gridcolor\":\"white\",\"linecolor\":\"white\",\"showbackground\":true,\"ticks\":\"\",\"zerolinecolor\":\"white\",\"gridwidth\":2}},\"shapedefaults\":{\"line\":{\"color\":\"#2a3f5f\"}},\"annotationdefaults\":{\"arrowcolor\":\"#2a3f5f\",\"arrowhead\":0,\"arrowwidth\":1},\"geo\":{\"bgcolor\":\"white\",\"landcolor\":\"#E5ECF6\",\"subunitcolor\":\"white\",\"showland\":true,\"showlakes\":true,\"lakecolor\":\"white\"},\"title\":{\"x\":0.05},\"mapbox\":{\"style\":\"light\"}}},\"title\":{\"text\":\"Comparison of actual demand with forecasted demand for row 0\",\"x\":0.5,\"y\":0.95},\"xaxis\":{\"title\":{\"text\":\"Hourly Time Steps\"}},\"yaxis\":{\"title\":{\"text\":\"Hourly Electricity Demand (MW)\"}},\"margin\":{\"l\":50,\"r\":50,\"b\":50,\"t\":75},\"autosize\":false,\"width\":1200,\"height\":400},                        {\"responsive\": true}                    ).then(function(){\n",
              "                            \n",
              "var gd = document.getElementById('54df73be-1734-495d-bfdf-b0bc3ed7ac12');\n",
              "var x = new MutationObserver(function (mutations, observer) {{\n",
              "        var display = window.getComputedStyle(gd).display;\n",
              "        if (!display || display === 'none') {{\n",
              "            console.log([gd, 'removed!']);\n",
              "            Plotly.purge(gd);\n",
              "            observer.disconnect();\n",
              "        }}\n",
              "}});\n",
              "\n",
              "// Listen for the removal of the full notebook cells\n",
              "var notebookContainer = gd.closest('#notebook-container');\n",
              "if (notebookContainer) {{\n",
              "    x.observe(notebookContainer, {childList: true});\n",
              "}}\n",
              "\n",
              "// Listen for the clearing of the current output cell\n",
              "var outputEl = gd.closest('.output');\n",
              "if (outputEl) {{\n",
              "    x.observe(outputEl, {childList: true});\n",
              "}}\n",
              "\n",
              "                        })                };                            </script>        </div>\n",
              "</body>\n",
              "</html>"
            ]
          },
          "metadata": {}
        }
      ]
    },
    {
      "cell_type": "markdown",
      "source": [
        "## Conclusion\n",
        "In this study the electricity data from Spain was aggregated into hourly values of demand, demand forecast, generation from all sources and total import from neighbouring countries. A Recurrent Neural Network (RNN) model was developed to forecast the demand in a 24 hour period using demand, generation and import data from few days before. A sensitivity analysis based on the results of the model on testing data yielded 8 days as appropriate amount of lag with the RNN using 256 hidden units. The final model had a mean absolute error (MAE) as calculated from scaled data of about 0.095 and an R-square of 0.9825. On comparison of the results of the model with the demand forecast value provided in the original data for each of the same 24 hour periods as in the testing data of the constructed model, the values in the original data had a corresponding MAE of 0.069 and R-squared value of 0.99.  Therefore, the constructed model performs 0.75% worse than the model used by the original data to forecast the demand with the key difference is that it only uses energy demand, generation and import data not accounting for other environmental and socio-economic factors unlike the forecast provided by the transmission operator."
      ],
      "metadata": {
        "id": "rlp7mz8dARVW"
      }
    },
    {
      "cell_type": "markdown",
      "source": [
        "## References\n",
        "[1] https://transparency.entsoe.eu/dashboard/show\n",
        "\n",
        "[2] https://www.entsoe.eu/fileadmin/user_upload/_library/resources/Transparency/MoP%20Ref02%20-%20EMFIP-Detailed%20Data%20Descriptions%20V1R4-2014-02-24.pdf"
      ],
      "metadata": {
        "id": "QubeJxTzT5Th"
      }
    }
  ]
}