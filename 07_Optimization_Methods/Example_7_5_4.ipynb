{
  "nbformat": 4,
  "nbformat_minor": 0,
  "metadata": {
    "colab": {
      "provenance": [],
      "toc_visible": true
    },
    "kernelspec": {
      "name": "python3",
      "display_name": "Python 3"
    },
    "language_info": {
      "name": "python"
    }
  },
  "cells": [
    {
      "cell_type": "markdown",
      "source": [
        "\n",
        "# *Advanced Data Analysis and Modelling*\n",
        "\n",
        "## *7.5.4 Example of maximizing Flow in a Transportation Network*\n",
        "\n",
        "Authors: Tim Diller and Gregor Henze\n",
        "\n",
        "Created: March 20, 2024"
      ],
      "metadata": {
        "id": "o68mB86wzfnQ"
      }
    },
    {
      "cell_type": "markdown",
      "source": [
        "7.5.4 Example of Maximizing Flow\n",
        "in a Transportation Network\n",
        "This example is taken from Vugrin et al. (2014) to illustrate\n",
        "how to analyze transportation networks. Figure 7.20\n",
        "represents a simple network with 7 nodes and 12 links\n",
        "where the objective is to maximize flow from one starting\n",
        "node 1 to another specified end node 7. The limiting\n",
        "capacities of various links are specified (and indicated in\n",
        "the figure). A fictitious return link (shown dotted) with infi-\n",
        "nite capacity needs to be introduced to complete the circuit.\n",
        "The optimization model for this flow problem can be\n",
        "framed as:\n",
        "\n",
        "*Maximise the flow in edge 7_1 without exceeding any of the flow limits of any of the edges, and without adding any sources or sinks to the network.*\n",
        "\n",
        "\n",
        "For the uninterrupted case, i.e., when no links are broken,\n",
        "the maximum flow is 14 units. The same\n",
        "equations can be modified to analyze the situation when\n",
        "one or more of the links breaks. Such analyses can be\n",
        "performed assuming different scenarios of one or more link\n",
        "breakages. Such types of evaluations are usually done in the\n",
        "framework of reliability analyses during the design of the\n",
        "networks"
      ],
      "metadata": {
        "id": "SrcjQCe7EkyP"
      }
    },
    {
      "cell_type": "markdown",
      "source": [
        "To simulate and visualize such a problem in Python, we need to first import the relevant packages.\n",
        "Note that pulp is not standard in Colab, so we need to download both pulp and the open source glpk solver."
      ],
      "metadata": {
        "id": "s3r1ktalulbr"
      }
    },
    {
      "cell_type": "code",
      "source": [
        "# import required packages\n",
        "!pip install pulp\n",
        "!apt-get install -y -qq glpk-utils\n",
        "import pulp as pl\n",
        "import numpy as np\n",
        "import plotly.graph_objects as go"
      ],
      "metadata": {
        "id": "tHY7plJHE2ce",
        "colab": {
          "base_uri": "https://localhost:8080/"
        },
        "outputId": "29740413-8ac8-4aa6-d227-9cee2c252bf5"
      },
      "execution_count": null,
      "outputs": [
        {
          "output_type": "stream",
          "name": "stdout",
          "text": [
            "Requirement already satisfied: pulp in /usr/local/lib/python3.10/dist-packages (2.8.0)\n"
          ]
        }
      ]
    },
    {
      "cell_type": "markdown",
      "source": [
        "The first step in pulp is to create a linear problem object."
      ],
      "metadata": {
        "id": "x8mXBErjE5H7"
      }
    },
    {
      "cell_type": "code",
      "source": [
        "# defining the network\n",
        "network_model = pl.LpProblem(\"shift_model\", pl.LpMaximize)"
      ],
      "metadata": {
        "id": "vlunOJy_FBpi"
      },
      "execution_count": null,
      "outputs": []
    },
    {
      "cell_type": "markdown",
      "source": [
        "Then we create the individual variables (in this case the edges), and adjust their capacity constraints."
      ],
      "metadata": {
        "id": "ZF2v9HtpFA3J"
      }
    },
    {
      "cell_type": "code",
      "source": [
        "# defining the variables\n",
        "edge_12 = pl.LpVariable(\"edge_12\", cat=\"Continuous\", lowBound=0,upBound=5)\n",
        "edge_13 = pl.LpVariable(\"edge_13\", cat=\"Continuous\", lowBound=0,upBound=7)\n",
        "edge_14 = pl.LpVariable(\"edge_14\", cat=\"Continuous\", lowBound=0,upBound=4)\n",
        "edge_23 = pl.LpVariable(\"edge_23\", cat=\"Continuous\", lowBound=0,upBound=1)\n",
        "edge_34 = pl.LpVariable(\"edge_34\", cat=\"Continuous\", lowBound=0,upBound=2)\n",
        "edge_25 = pl.LpVariable(\"edge_25\", cat=\"Continuous\", lowBound=0,upBound=3)\n",
        "edge_35 = pl.LpVariable(\"edge_35\", cat=\"Continuous\", lowBound=0,upBound=4)\n",
        "edge_36 = pl.LpVariable(\"edge_36\", cat=\"Continuous\", lowBound=0,upBound=5)\n",
        "edge_46 = pl.LpVariable(\"edge_46\", cat=\"Continuous\", lowBound=0,upBound=4)\n",
        "edge_65 = pl.LpVariable(\"edge_65\", cat=\"Continuous\", lowBound=0,upBound=1)\n",
        "edge_57 = pl.LpVariable(\"edge_57\", cat=\"Continuous\", lowBound=0,upBound=9)\n",
        "edge_67 = pl.LpVariable(\"edge_67\", cat=\"Continuous\", lowBound=0,upBound=6)\n",
        "edge_71 = pl.LpVariable(\"edge_71\", cat=\"Continuous\", lowBound=0)  # no upper bound, we want to maximise edge71\n",
        "\n",
        "# package into a list of easier reference\n",
        "listofedges = [edge_12, edge_13, edge_14, edge_23, edge_34, edge_25, edge_35, edge_36, edge_46, edge_65, edge_57, edge_67]"
      ],
      "metadata": {
        "id": "DhOsArWbFGO6"
      },
      "execution_count": null,
      "outputs": []
    },
    {
      "cell_type": "markdown",
      "source": [
        "\n",
        "Then we specify the constraints. Kirchhoffs law needs to apply to all nodes, so no node can have a source or a sink.\n"
      ],
      "metadata": {
        "id": "Zpp1LJpwFF5c"
      }
    },
    {
      "cell_type": "code",
      "source": [
        "# kirchhoffs law around all nodes of the network\n",
        "network_model += edge_71 - edge_12 -edge_13 - edge_14 == 0  # node 1\n",
        "network_model += edge_12 - edge_23 - edge_25 == 0  # node 2\n",
        "network_model += edge_13 + edge_23 - edge_35 - edge_36 - edge_34 == 0  # node 3\n",
        "network_model += edge_14 + edge_34 - edge_46 == 0  # node 4\n",
        "network_model += edge_25 + edge_35 + edge_65 - edge_57  == 0  # node 5\n",
        "network_model += edge_46 + edge_36 - edge_65 - edge_67 == 0  # node 6\n",
        "network_model += edge_57 + edge_67 - edge_71 == 0  # node 7"
      ],
      "metadata": {
        "id": "32hClhMwFP-B"
      },
      "execution_count": null,
      "outputs": []
    },
    {
      "cell_type": "markdown",
      "source": [
        "Finally, the objective function is to maximise the flow through the edge 7_1.\n",
        "\n",
        "This is an optimization trick: In generating an additional imaginary 'back-flow edge', we can avoid adding any sinks or sources to the network, which would then need the additional constraint of being of equal size."
      ],
      "metadata": {
        "id": "OL-7S4WbFUk1"
      }
    },
    {
      "cell_type": "code",
      "source": [
        "# add the objective function\n",
        "network_model += edge_71"
      ],
      "metadata": {
        "id": "Y5Pw_H39FbCh"
      },
      "execution_count": null,
      "outputs": []
    },
    {
      "cell_type": "markdown",
      "source": [
        "Now we can solve the problem, and print the values of the individual variables"
      ],
      "metadata": {
        "id": "VyIjH9I1FbcC"
      }
    },
    {
      "cell_type": "code",
      "source": [
        "# solve the model, and print the maximum flow\n",
        "network_model.solve(pl.GLPK(options=[]))\n",
        "print(\"max flow: \", edge_71.value())\n",
        "\n"
      ],
      "metadata": {
        "id": "YVIAjkv9FdWA",
        "colab": {
          "base_uri": "https://localhost:8080/"
        },
        "outputId": "817333c4-3c22-423a-e34f-50a19158e2c9"
      },
      "execution_count": null,
      "outputs": [
        {
          "output_type": "stream",
          "name": "stdout",
          "text": [
            "max flow:  14.0\n"
          ]
        }
      ]
    },
    {
      "cell_type": "code",
      "source": [
        "network_model += edge_13 == 0"
      ],
      "metadata": {
        "id": "iEH0go_eWbDp"
      },
      "execution_count": null,
      "outputs": []
    },
    {
      "cell_type": "markdown",
      "source": [
        "Now we can define a function that visualizes the network, and the flow that it has based on our optimization"
      ],
      "metadata": {
        "id": "GfhP5jTVFjpZ"
      }
    },
    {
      "cell_type": "code",
      "source": [
        "def visualize_network(listofedges):\n",
        "\n",
        "    def plot_line(fig, start_index, end_index, width, color, name):\n",
        "        start_point = points[start_index]\n",
        "        end_point = points[end_index]\n",
        "\n",
        "        x_start, y_start = start_point\n",
        "        x_end, y_end = end_point\n",
        "\n",
        "        fig.add_trace(go.Scatter(\n",
        "            x=[x_start, x_end],\n",
        "            y=[y_start, y_end],\n",
        "            mode='lines',\n",
        "            line=dict(color=color, width=width),  # Set line color and width\n",
        "            name=name,  # Set name for legend\n",
        "        ))\n",
        "\n",
        "\n",
        "\n",
        "    points = [[0, 5],\n",
        "                [3, 8],\n",
        "                [4, 5],\n",
        "                [5, 2],\n",
        "                [8, 7],\n",
        "                [7, 3],\n",
        "                [11, 5]]\n",
        "\n",
        "    edges = [[1, 2],\n",
        "            [1, 3],\n",
        "            [1, 4],\n",
        "            [2, 3],\n",
        "            [3, 4],\n",
        "            [2, 5],\n",
        "            [3, 5],\n",
        "            [3, 6],\n",
        "            [4, 6],\n",
        "            [6, 5],\n",
        "            [5, 7],\n",
        "            [6, 7],\n",
        "            [7, 1],\n",
        "    ]\n",
        "\n",
        "    capacities = [5, 7, 4, 1, 2, 3, 4, 5, 4, 1, 9, 6]\n",
        "\n",
        "    x_coords = [point[0] for point in points]\n",
        "    y_coords = [point[1] for point in points]\n",
        "\n",
        "    # Create a scatter plot with points\n",
        "    # fig = go.Figure(data=go.Scatter(x=x_coords, y=y_coords, mode='markers', marker=dict(size=10, color='darkblue', line=dict(color='black', width=1), opacity=0.7)))\n",
        "    fig = go.Figure()\n",
        "\n",
        "    for edge, capacity in zip(edges, capacities):\n",
        "        plot_line(fig, edge[0] - 1, edge[1] - 1, capacity * 3, \"grey\", \"pipe_\" + str(edge[0]) + str(edge[1]))\n",
        "\n",
        "    for edge, flow in zip(edges, listofedges):\n",
        "        plot_line(fig, edge[0] - 1, edge[1] - 1, flow.value() * 3, \"red\", \"flow_\" + str(edge[0]) + str(edge[1]))\n",
        "\n",
        "    for i, point in enumerate(points):\n",
        "        x, y = point\n",
        "        fig.add_trace(go.Scatter(\n",
        "            x=[x],\n",
        "            y=[y],\n",
        "            mode='markers',\n",
        "            marker=dict(size=50, color='darkblue', line=dict(color='black', width=1), opacity=0.9),  # Adjust marker size, border color, and opacity\n",
        "            name=f'Node {i+1}',  # Set name for legend\n",
        "            text=[f'{i+1}'],  # Text for annotation\n",
        "            textposition=\"middle center\",  # Position of annotation\n",
        "        ))\n",
        "\n",
        "\n",
        "    fig.update_layout(\n",
        "        width=8.27*100,  # Convert A4 width from inches to pixels (1 inch = 100 pixels)\n",
        "        height=8.27*100/1.41,  # Set height to maintain A4 aspect ratio\n",
        "        xaxis=dict(showgrid=False),  # Remove grid from x-axis\n",
        "        yaxis=dict(showgrid=False),  # Remove grid from y-axis\n",
        "        plot_bgcolor='rgba(0,0,0,0)'  # Make plot background transparent\n",
        "    )\n",
        "\n",
        "    fig.show()\n",
        "\n"
      ],
      "metadata": {
        "id": "T3MNhXORF06A"
      },
      "execution_count": null,
      "outputs": []
    },
    {
      "cell_type": "markdown",
      "source": [
        "We visualize the solution, where the capacity of each node is shown in grey, and the actual flow is shown in red."
      ],
      "metadata": {
        "id": "QzixLX15F13B"
      }
    },
    {
      "cell_type": "code",
      "source": [
        "visualize_network(listofedges)"
      ],
      "metadata": {
        "id": "8AZYp136F5Du",
        "colab": {
          "base_uri": "https://localhost:8080/",
          "height": 604
        },
        "outputId": "a1b9f515-fe9b-41ba-8136-6bccec51001f"
      },
      "execution_count": null,
      "outputs": [
        {
          "output_type": "display_data",
          "data": {
            "text/html": [
              "<html>\n",
              "<head><meta charset=\"utf-8\" /></head>\n",
              "<body>\n",
              "    <div>            <script src=\"https://cdnjs.cloudflare.com/ajax/libs/mathjax/2.7.5/MathJax.js?config=TeX-AMS-MML_SVG\"></script><script type=\"text/javascript\">if (window.MathJax && window.MathJax.Hub && window.MathJax.Hub.Config) {window.MathJax.Hub.Config({SVG: {font: \"STIX-Web\"}});}</script>                <script type=\"text/javascript\">window.PlotlyConfig = {MathJaxConfig: 'local'};</script>\n",
              "        <script charset=\"utf-8\" src=\"https://cdn.plot.ly/plotly-2.24.1.min.js\"></script>                <div id=\"c9005f67-cd92-4650-9426-9f0684b0ff32\" class=\"plotly-graph-div\" style=\"height:586.5248226950355px; width:827.0px;\"></div>            <script type=\"text/javascript\">                                    window.PLOTLYENV=window.PLOTLYENV || {};                                    if (document.getElementById(\"c9005f67-cd92-4650-9426-9f0684b0ff32\")) {                    Plotly.newPlot(                        \"c9005f67-cd92-4650-9426-9f0684b0ff32\",                        [{\"line\":{\"color\":\"grey\",\"width\":15},\"mode\":\"lines\",\"name\":\"pipe_12\",\"x\":[0,3],\"y\":[5,8],\"type\":\"scatter\"},{\"line\":{\"color\":\"grey\",\"width\":21},\"mode\":\"lines\",\"name\":\"pipe_13\",\"x\":[0,4],\"y\":[5,5],\"type\":\"scatter\"},{\"line\":{\"color\":\"grey\",\"width\":12},\"mode\":\"lines\",\"name\":\"pipe_14\",\"x\":[0,5],\"y\":[5,2],\"type\":\"scatter\"},{\"line\":{\"color\":\"grey\",\"width\":3},\"mode\":\"lines\",\"name\":\"pipe_23\",\"x\":[3,4],\"y\":[8,5],\"type\":\"scatter\"},{\"line\":{\"color\":\"grey\",\"width\":6},\"mode\":\"lines\",\"name\":\"pipe_34\",\"x\":[4,5],\"y\":[5,2],\"type\":\"scatter\"},{\"line\":{\"color\":\"grey\",\"width\":9},\"mode\":\"lines\",\"name\":\"pipe_25\",\"x\":[3,8],\"y\":[8,7],\"type\":\"scatter\"},{\"line\":{\"color\":\"grey\",\"width\":12},\"mode\":\"lines\",\"name\":\"pipe_35\",\"x\":[4,8],\"y\":[5,7],\"type\":\"scatter\"},{\"line\":{\"color\":\"grey\",\"width\":15},\"mode\":\"lines\",\"name\":\"pipe_36\",\"x\":[4,7],\"y\":[5,3],\"type\":\"scatter\"},{\"line\":{\"color\":\"grey\",\"width\":12},\"mode\":\"lines\",\"name\":\"pipe_46\",\"x\":[5,7],\"y\":[2,3],\"type\":\"scatter\"},{\"line\":{\"color\":\"grey\",\"width\":3},\"mode\":\"lines\",\"name\":\"pipe_65\",\"x\":[7,8],\"y\":[3,7],\"type\":\"scatter\"},{\"line\":{\"color\":\"grey\",\"width\":27},\"mode\":\"lines\",\"name\":\"pipe_57\",\"x\":[8,11],\"y\":[7,5],\"type\":\"scatter\"},{\"line\":{\"color\":\"grey\",\"width\":18},\"mode\":\"lines\",\"name\":\"pipe_67\",\"x\":[7,11],\"y\":[3,5],\"type\":\"scatter\"},{\"line\":{\"color\":\"red\",\"width\":9.0},\"mode\":\"lines\",\"name\":\"flow_12\",\"x\":[0,3],\"y\":[5,8],\"type\":\"scatter\"},{\"line\":{\"color\":\"red\",\"width\":21.0},\"mode\":\"lines\",\"name\":\"flow_13\",\"x\":[0,4],\"y\":[5,5],\"type\":\"scatter\"},{\"line\":{\"color\":\"red\",\"width\":12.0},\"mode\":\"lines\",\"name\":\"flow_14\",\"x\":[0,5],\"y\":[5,2],\"type\":\"scatter\"},{\"line\":{\"color\":\"red\",\"width\":0.0},\"mode\":\"lines\",\"name\":\"flow_23\",\"x\":[3,4],\"y\":[8,5],\"type\":\"scatter\"},{\"line\":{\"color\":\"red\",\"width\":0.0},\"mode\":\"lines\",\"name\":\"flow_34\",\"x\":[4,5],\"y\":[5,2],\"type\":\"scatter\"},{\"line\":{\"color\":\"red\",\"width\":9.0},\"mode\":\"lines\",\"name\":\"flow_25\",\"x\":[3,8],\"y\":[8,7],\"type\":\"scatter\"},{\"line\":{\"color\":\"red\",\"width\":12.0},\"mode\":\"lines\",\"name\":\"flow_35\",\"x\":[4,8],\"y\":[5,7],\"type\":\"scatter\"},{\"line\":{\"color\":\"red\",\"width\":9.0},\"mode\":\"lines\",\"name\":\"flow_36\",\"x\":[4,7],\"y\":[5,3],\"type\":\"scatter\"},{\"line\":{\"color\":\"red\",\"width\":12.0},\"mode\":\"lines\",\"name\":\"flow_46\",\"x\":[5,7],\"y\":[2,3],\"type\":\"scatter\"},{\"line\":{\"color\":\"red\",\"width\":3.0},\"mode\":\"lines\",\"name\":\"flow_65\",\"x\":[7,8],\"y\":[3,7],\"type\":\"scatter\"},{\"line\":{\"color\":\"red\",\"width\":24.0},\"mode\":\"lines\",\"name\":\"flow_57\",\"x\":[8,11],\"y\":[7,5],\"type\":\"scatter\"},{\"line\":{\"color\":\"red\",\"width\":18.0},\"mode\":\"lines\",\"name\":\"flow_67\",\"x\":[7,11],\"y\":[3,5],\"type\":\"scatter\"},{\"marker\":{\"color\":\"darkblue\",\"line\":{\"color\":\"black\",\"width\":1},\"opacity\":0.9,\"size\":50},\"mode\":\"markers\",\"name\":\"Node 1\",\"text\":[\"1\"],\"textposition\":\"middle center\",\"x\":[0],\"y\":[5],\"type\":\"scatter\"},{\"marker\":{\"color\":\"darkblue\",\"line\":{\"color\":\"black\",\"width\":1},\"opacity\":0.9,\"size\":50},\"mode\":\"markers\",\"name\":\"Node 2\",\"text\":[\"2\"],\"textposition\":\"middle center\",\"x\":[3],\"y\":[8],\"type\":\"scatter\"},{\"marker\":{\"color\":\"darkblue\",\"line\":{\"color\":\"black\",\"width\":1},\"opacity\":0.9,\"size\":50},\"mode\":\"markers\",\"name\":\"Node 3\",\"text\":[\"3\"],\"textposition\":\"middle center\",\"x\":[4],\"y\":[5],\"type\":\"scatter\"},{\"marker\":{\"color\":\"darkblue\",\"line\":{\"color\":\"black\",\"width\":1},\"opacity\":0.9,\"size\":50},\"mode\":\"markers\",\"name\":\"Node 4\",\"text\":[\"4\"],\"textposition\":\"middle center\",\"x\":[5],\"y\":[2],\"type\":\"scatter\"},{\"marker\":{\"color\":\"darkblue\",\"line\":{\"color\":\"black\",\"width\":1},\"opacity\":0.9,\"size\":50},\"mode\":\"markers\",\"name\":\"Node 5\",\"text\":[\"5\"],\"textposition\":\"middle center\",\"x\":[8],\"y\":[7],\"type\":\"scatter\"},{\"marker\":{\"color\":\"darkblue\",\"line\":{\"color\":\"black\",\"width\":1},\"opacity\":0.9,\"size\":50},\"mode\":\"markers\",\"name\":\"Node 6\",\"text\":[\"6\"],\"textposition\":\"middle center\",\"x\":[7],\"y\":[3],\"type\":\"scatter\"},{\"marker\":{\"color\":\"darkblue\",\"line\":{\"color\":\"black\",\"width\":1},\"opacity\":0.9,\"size\":50},\"mode\":\"markers\",\"name\":\"Node 7\",\"text\":[\"7\"],\"textposition\":\"middle center\",\"x\":[11],\"y\":[5],\"type\":\"scatter\"}],                        {\"template\":{\"data\":{\"histogram2dcontour\":[{\"type\":\"histogram2dcontour\",\"colorbar\":{\"outlinewidth\":0,\"ticks\":\"\"},\"colorscale\":[[0.0,\"#0d0887\"],[0.1111111111111111,\"#46039f\"],[0.2222222222222222,\"#7201a8\"],[0.3333333333333333,\"#9c179e\"],[0.4444444444444444,\"#bd3786\"],[0.5555555555555556,\"#d8576b\"],[0.6666666666666666,\"#ed7953\"],[0.7777777777777778,\"#fb9f3a\"],[0.8888888888888888,\"#fdca26\"],[1.0,\"#f0f921\"]]}],\"choropleth\":[{\"type\":\"choropleth\",\"colorbar\":{\"outlinewidth\":0,\"ticks\":\"\"}}],\"histogram2d\":[{\"type\":\"histogram2d\",\"colorbar\":{\"outlinewidth\":0,\"ticks\":\"\"},\"colorscale\":[[0.0,\"#0d0887\"],[0.1111111111111111,\"#46039f\"],[0.2222222222222222,\"#7201a8\"],[0.3333333333333333,\"#9c179e\"],[0.4444444444444444,\"#bd3786\"],[0.5555555555555556,\"#d8576b\"],[0.6666666666666666,\"#ed7953\"],[0.7777777777777778,\"#fb9f3a\"],[0.8888888888888888,\"#fdca26\"],[1.0,\"#f0f921\"]]}],\"heatmap\":[{\"type\":\"heatmap\",\"colorbar\":{\"outlinewidth\":0,\"ticks\":\"\"},\"colorscale\":[[0.0,\"#0d0887\"],[0.1111111111111111,\"#46039f\"],[0.2222222222222222,\"#7201a8\"],[0.3333333333333333,\"#9c179e\"],[0.4444444444444444,\"#bd3786\"],[0.5555555555555556,\"#d8576b\"],[0.6666666666666666,\"#ed7953\"],[0.7777777777777778,\"#fb9f3a\"],[0.8888888888888888,\"#fdca26\"],[1.0,\"#f0f921\"]]}],\"heatmapgl\":[{\"type\":\"heatmapgl\",\"colorbar\":{\"outlinewidth\":0,\"ticks\":\"\"},\"colorscale\":[[0.0,\"#0d0887\"],[0.1111111111111111,\"#46039f\"],[0.2222222222222222,\"#7201a8\"],[0.3333333333333333,\"#9c179e\"],[0.4444444444444444,\"#bd3786\"],[0.5555555555555556,\"#d8576b\"],[0.6666666666666666,\"#ed7953\"],[0.7777777777777778,\"#fb9f3a\"],[0.8888888888888888,\"#fdca26\"],[1.0,\"#f0f921\"]]}],\"contourcarpet\":[{\"type\":\"contourcarpet\",\"colorbar\":{\"outlinewidth\":0,\"ticks\":\"\"}}],\"contour\":[{\"type\":\"contour\",\"colorbar\":{\"outlinewidth\":0,\"ticks\":\"\"},\"colorscale\":[[0.0,\"#0d0887\"],[0.1111111111111111,\"#46039f\"],[0.2222222222222222,\"#7201a8\"],[0.3333333333333333,\"#9c179e\"],[0.4444444444444444,\"#bd3786\"],[0.5555555555555556,\"#d8576b\"],[0.6666666666666666,\"#ed7953\"],[0.7777777777777778,\"#fb9f3a\"],[0.8888888888888888,\"#fdca26\"],[1.0,\"#f0f921\"]]}],\"surface\":[{\"type\":\"surface\",\"colorbar\":{\"outlinewidth\":0,\"ticks\":\"\"},\"colorscale\":[[0.0,\"#0d0887\"],[0.1111111111111111,\"#46039f\"],[0.2222222222222222,\"#7201a8\"],[0.3333333333333333,\"#9c179e\"],[0.4444444444444444,\"#bd3786\"],[0.5555555555555556,\"#d8576b\"],[0.6666666666666666,\"#ed7953\"],[0.7777777777777778,\"#fb9f3a\"],[0.8888888888888888,\"#fdca26\"],[1.0,\"#f0f921\"]]}],\"mesh3d\":[{\"type\":\"mesh3d\",\"colorbar\":{\"outlinewidth\":0,\"ticks\":\"\"}}],\"scatter\":[{\"fillpattern\":{\"fillmode\":\"overlay\",\"size\":10,\"solidity\":0.2},\"type\":\"scatter\"}],\"parcoords\":[{\"type\":\"parcoords\",\"line\":{\"colorbar\":{\"outlinewidth\":0,\"ticks\":\"\"}}}],\"scatterpolargl\":[{\"type\":\"scatterpolargl\",\"marker\":{\"colorbar\":{\"outlinewidth\":0,\"ticks\":\"\"}}}],\"bar\":[{\"error_x\":{\"color\":\"#2a3f5f\"},\"error_y\":{\"color\":\"#2a3f5f\"},\"marker\":{\"line\":{\"color\":\"#E5ECF6\",\"width\":0.5},\"pattern\":{\"fillmode\":\"overlay\",\"size\":10,\"solidity\":0.2}},\"type\":\"bar\"}],\"scattergeo\":[{\"type\":\"scattergeo\",\"marker\":{\"colorbar\":{\"outlinewidth\":0,\"ticks\":\"\"}}}],\"scatterpolar\":[{\"type\":\"scatterpolar\",\"marker\":{\"colorbar\":{\"outlinewidth\":0,\"ticks\":\"\"}}}],\"histogram\":[{\"marker\":{\"pattern\":{\"fillmode\":\"overlay\",\"size\":10,\"solidity\":0.2}},\"type\":\"histogram\"}],\"scattergl\":[{\"type\":\"scattergl\",\"marker\":{\"colorbar\":{\"outlinewidth\":0,\"ticks\":\"\"}}}],\"scatter3d\":[{\"type\":\"scatter3d\",\"line\":{\"colorbar\":{\"outlinewidth\":0,\"ticks\":\"\"}},\"marker\":{\"colorbar\":{\"outlinewidth\":0,\"ticks\":\"\"}}}],\"scattermapbox\":[{\"type\":\"scattermapbox\",\"marker\":{\"colorbar\":{\"outlinewidth\":0,\"ticks\":\"\"}}}],\"scatterternary\":[{\"type\":\"scatterternary\",\"marker\":{\"colorbar\":{\"outlinewidth\":0,\"ticks\":\"\"}}}],\"scattercarpet\":[{\"type\":\"scattercarpet\",\"marker\":{\"colorbar\":{\"outlinewidth\":0,\"ticks\":\"\"}}}],\"carpet\":[{\"aaxis\":{\"endlinecolor\":\"#2a3f5f\",\"gridcolor\":\"white\",\"linecolor\":\"white\",\"minorgridcolor\":\"white\",\"startlinecolor\":\"#2a3f5f\"},\"baxis\":{\"endlinecolor\":\"#2a3f5f\",\"gridcolor\":\"white\",\"linecolor\":\"white\",\"minorgridcolor\":\"white\",\"startlinecolor\":\"#2a3f5f\"},\"type\":\"carpet\"}],\"table\":[{\"cells\":{\"fill\":{\"color\":\"#EBF0F8\"},\"line\":{\"color\":\"white\"}},\"header\":{\"fill\":{\"color\":\"#C8D4E3\"},\"line\":{\"color\":\"white\"}},\"type\":\"table\"}],\"barpolar\":[{\"marker\":{\"line\":{\"color\":\"#E5ECF6\",\"width\":0.5},\"pattern\":{\"fillmode\":\"overlay\",\"size\":10,\"solidity\":0.2}},\"type\":\"barpolar\"}],\"pie\":[{\"automargin\":true,\"type\":\"pie\"}]},\"layout\":{\"autotypenumbers\":\"strict\",\"colorway\":[\"#636efa\",\"#EF553B\",\"#00cc96\",\"#ab63fa\",\"#FFA15A\",\"#19d3f3\",\"#FF6692\",\"#B6E880\",\"#FF97FF\",\"#FECB52\"],\"font\":{\"color\":\"#2a3f5f\"},\"hovermode\":\"closest\",\"hoverlabel\":{\"align\":\"left\"},\"paper_bgcolor\":\"white\",\"plot_bgcolor\":\"#E5ECF6\",\"polar\":{\"bgcolor\":\"#E5ECF6\",\"angularaxis\":{\"gridcolor\":\"white\",\"linecolor\":\"white\",\"ticks\":\"\"},\"radialaxis\":{\"gridcolor\":\"white\",\"linecolor\":\"white\",\"ticks\":\"\"}},\"ternary\":{\"bgcolor\":\"#E5ECF6\",\"aaxis\":{\"gridcolor\":\"white\",\"linecolor\":\"white\",\"ticks\":\"\"},\"baxis\":{\"gridcolor\":\"white\",\"linecolor\":\"white\",\"ticks\":\"\"},\"caxis\":{\"gridcolor\":\"white\",\"linecolor\":\"white\",\"ticks\":\"\"}},\"coloraxis\":{\"colorbar\":{\"outlinewidth\":0,\"ticks\":\"\"}},\"colorscale\":{\"sequential\":[[0.0,\"#0d0887\"],[0.1111111111111111,\"#46039f\"],[0.2222222222222222,\"#7201a8\"],[0.3333333333333333,\"#9c179e\"],[0.4444444444444444,\"#bd3786\"],[0.5555555555555556,\"#d8576b\"],[0.6666666666666666,\"#ed7953\"],[0.7777777777777778,\"#fb9f3a\"],[0.8888888888888888,\"#fdca26\"],[1.0,\"#f0f921\"]],\"sequentialminus\":[[0.0,\"#0d0887\"],[0.1111111111111111,\"#46039f\"],[0.2222222222222222,\"#7201a8\"],[0.3333333333333333,\"#9c179e\"],[0.4444444444444444,\"#bd3786\"],[0.5555555555555556,\"#d8576b\"],[0.6666666666666666,\"#ed7953\"],[0.7777777777777778,\"#fb9f3a\"],[0.8888888888888888,\"#fdca26\"],[1.0,\"#f0f921\"]],\"diverging\":[[0,\"#8e0152\"],[0.1,\"#c51b7d\"],[0.2,\"#de77ae\"],[0.3,\"#f1b6da\"],[0.4,\"#fde0ef\"],[0.5,\"#f7f7f7\"],[0.6,\"#e6f5d0\"],[0.7,\"#b8e186\"],[0.8,\"#7fbc41\"],[0.9,\"#4d9221\"],[1,\"#276419\"]]},\"xaxis\":{\"gridcolor\":\"white\",\"linecolor\":\"white\",\"ticks\":\"\",\"title\":{\"standoff\":15},\"zerolinecolor\":\"white\",\"automargin\":true,\"zerolinewidth\":2},\"yaxis\":{\"gridcolor\":\"white\",\"linecolor\":\"white\",\"ticks\":\"\",\"title\":{\"standoff\":15},\"zerolinecolor\":\"white\",\"automargin\":true,\"zerolinewidth\":2},\"scene\":{\"xaxis\":{\"backgroundcolor\":\"#E5ECF6\",\"gridcolor\":\"white\",\"linecolor\":\"white\",\"showbackground\":true,\"ticks\":\"\",\"zerolinecolor\":\"white\",\"gridwidth\":2},\"yaxis\":{\"backgroundcolor\":\"#E5ECF6\",\"gridcolor\":\"white\",\"linecolor\":\"white\",\"showbackground\":true,\"ticks\":\"\",\"zerolinecolor\":\"white\",\"gridwidth\":2},\"zaxis\":{\"backgroundcolor\":\"#E5ECF6\",\"gridcolor\":\"white\",\"linecolor\":\"white\",\"showbackground\":true,\"ticks\":\"\",\"zerolinecolor\":\"white\",\"gridwidth\":2}},\"shapedefaults\":{\"line\":{\"color\":\"#2a3f5f\"}},\"annotationdefaults\":{\"arrowcolor\":\"#2a3f5f\",\"arrowhead\":0,\"arrowwidth\":1},\"geo\":{\"bgcolor\":\"white\",\"landcolor\":\"#E5ECF6\",\"subunitcolor\":\"white\",\"showland\":true,\"showlakes\":true,\"lakecolor\":\"white\"},\"title\":{\"x\":0.05},\"mapbox\":{\"style\":\"light\"}}},\"xaxis\":{\"showgrid\":false},\"yaxis\":{\"showgrid\":false},\"width\":827.0,\"height\":586.5248226950355,\"plot_bgcolor\":\"rgba(0,0,0,0)\"},                        {\"responsive\": true}                    ).then(function(){\n",
              "                            \n",
              "var gd = document.getElementById('c9005f67-cd92-4650-9426-9f0684b0ff32');\n",
              "var x = new MutationObserver(function (mutations, observer) {{\n",
              "        var display = window.getComputedStyle(gd).display;\n",
              "        if (!display || display === 'none') {{\n",
              "            console.log([gd, 'removed!']);\n",
              "            Plotly.purge(gd);\n",
              "            observer.disconnect();\n",
              "        }}\n",
              "}});\n",
              "\n",
              "// Listen for the removal of the full notebook cells\n",
              "var notebookContainer = gd.closest('#notebook-container');\n",
              "if (notebookContainer) {{\n",
              "    x.observe(notebookContainer, {childList: true});\n",
              "}}\n",
              "\n",
              "// Listen for the clearing of the current output cell\n",
              "var outputEl = gd.closest('.output');\n",
              "if (outputEl) {{\n",
              "    x.observe(outputEl, {childList: true});\n",
              "}}\n",
              "\n",
              "                        })                };                            </script>        </div>\n",
              "</body>\n",
              "</html>"
            ]
          },
          "metadata": {}
        }
      ]
    },
    {
      "cell_type": "markdown",
      "source": [
        "Now we can simulate one of the edges failing (by setting its flow to zero) and see how the network reacts"
      ],
      "metadata": {
        "id": "-6wEnjOKX-Jp"
      }
    },
    {
      "cell_type": "code",
      "source": [
        "network_model += edge_13 == 0  # replace with any edge or list of edges you want to take out"
      ],
      "metadata": {
        "id": "aztbQOMJYHZx"
      },
      "execution_count": null,
      "outputs": []
    },
    {
      "cell_type": "code",
      "source": [
        "# solve the model, and print the maximum flow\n",
        "network_model.solve(pl.GLPK(options=[]))\n",
        "print(\"max flow: \", edge_71.value())\n",
        "visualize_network(listofedges)"
      ],
      "metadata": {
        "colab": {
          "base_uri": "https://localhost:8080/",
          "height": 621
        },
        "id": "tPiy6kXOYLf9",
        "outputId": "a10ec5ac-3035-4dd4-c0c8-115f2d8e6cf0"
      },
      "execution_count": null,
      "outputs": [
        {
          "output_type": "stream",
          "name": "stdout",
          "text": [
            "max flow:  8.0\n"
          ]
        },
        {
          "output_type": "display_data",
          "data": {
            "text/html": [
              "<html>\n",
              "<head><meta charset=\"utf-8\" /></head>\n",
              "<body>\n",
              "    <div>            <script src=\"https://cdnjs.cloudflare.com/ajax/libs/mathjax/2.7.5/MathJax.js?config=TeX-AMS-MML_SVG\"></script><script type=\"text/javascript\">if (window.MathJax && window.MathJax.Hub && window.MathJax.Hub.Config) {window.MathJax.Hub.Config({SVG: {font: \"STIX-Web\"}});}</script>                <script type=\"text/javascript\">window.PlotlyConfig = {MathJaxConfig: 'local'};</script>\n",
              "        <script charset=\"utf-8\" src=\"https://cdn.plot.ly/plotly-2.24.1.min.js\"></script>                <div id=\"59cbed1c-ab4f-415a-a0ee-e58a0a02d737\" class=\"plotly-graph-div\" style=\"height:586.5248226950355px; width:827.0px;\"></div>            <script type=\"text/javascript\">                                    window.PLOTLYENV=window.PLOTLYENV || {};                                    if (document.getElementById(\"59cbed1c-ab4f-415a-a0ee-e58a0a02d737\")) {                    Plotly.newPlot(                        \"59cbed1c-ab4f-415a-a0ee-e58a0a02d737\",                        [{\"line\":{\"color\":\"grey\",\"width\":15},\"mode\":\"lines\",\"name\":\"pipe_12\",\"x\":[0,3],\"y\":[5,8],\"type\":\"scatter\"},{\"line\":{\"color\":\"grey\",\"width\":21},\"mode\":\"lines\",\"name\":\"pipe_13\",\"x\":[0,4],\"y\":[5,5],\"type\":\"scatter\"},{\"line\":{\"color\":\"grey\",\"width\":12},\"mode\":\"lines\",\"name\":\"pipe_14\",\"x\":[0,5],\"y\":[5,2],\"type\":\"scatter\"},{\"line\":{\"color\":\"grey\",\"width\":3},\"mode\":\"lines\",\"name\":\"pipe_23\",\"x\":[3,4],\"y\":[8,5],\"type\":\"scatter\"},{\"line\":{\"color\":\"grey\",\"width\":6},\"mode\":\"lines\",\"name\":\"pipe_34\",\"x\":[4,5],\"y\":[5,2],\"type\":\"scatter\"},{\"line\":{\"color\":\"grey\",\"width\":9},\"mode\":\"lines\",\"name\":\"pipe_25\",\"x\":[3,8],\"y\":[8,7],\"type\":\"scatter\"},{\"line\":{\"color\":\"grey\",\"width\":12},\"mode\":\"lines\",\"name\":\"pipe_35\",\"x\":[4,8],\"y\":[5,7],\"type\":\"scatter\"},{\"line\":{\"color\":\"grey\",\"width\":15},\"mode\":\"lines\",\"name\":\"pipe_36\",\"x\":[4,7],\"y\":[5,3],\"type\":\"scatter\"},{\"line\":{\"color\":\"grey\",\"width\":12},\"mode\":\"lines\",\"name\":\"pipe_46\",\"x\":[5,7],\"y\":[2,3],\"type\":\"scatter\"},{\"line\":{\"color\":\"grey\",\"width\":3},\"mode\":\"lines\",\"name\":\"pipe_65\",\"x\":[7,8],\"y\":[3,7],\"type\":\"scatter\"},{\"line\":{\"color\":\"grey\",\"width\":27},\"mode\":\"lines\",\"name\":\"pipe_57\",\"x\":[8,11],\"y\":[7,5],\"type\":\"scatter\"},{\"line\":{\"color\":\"grey\",\"width\":18},\"mode\":\"lines\",\"name\":\"pipe_67\",\"x\":[7,11],\"y\":[3,5],\"type\":\"scatter\"},{\"line\":{\"color\":\"red\",\"width\":12.0},\"mode\":\"lines\",\"name\":\"flow_12\",\"x\":[0,3],\"y\":[5,8],\"type\":\"scatter\"},{\"line\":{\"color\":\"red\",\"width\":0.0},\"mode\":\"lines\",\"name\":\"flow_13\",\"x\":[0,4],\"y\":[5,5],\"type\":\"scatter\"},{\"line\":{\"color\":\"red\",\"width\":12.0},\"mode\":\"lines\",\"name\":\"flow_14\",\"x\":[0,5],\"y\":[5,2],\"type\":\"scatter\"},{\"line\":{\"color\":\"red\",\"width\":3.0},\"mode\":\"lines\",\"name\":\"flow_23\",\"x\":[3,4],\"y\":[8,5],\"type\":\"scatter\"},{\"line\":{\"color\":\"red\",\"width\":0.0},\"mode\":\"lines\",\"name\":\"flow_34\",\"x\":[4,5],\"y\":[5,2],\"type\":\"scatter\"},{\"line\":{\"color\":\"red\",\"width\":9.0},\"mode\":\"lines\",\"name\":\"flow_25\",\"x\":[3,8],\"y\":[8,7],\"type\":\"scatter\"},{\"line\":{\"color\":\"red\",\"width\":0.0},\"mode\":\"lines\",\"name\":\"flow_35\",\"x\":[4,8],\"y\":[5,7],\"type\":\"scatter\"},{\"line\":{\"color\":\"red\",\"width\":3.0},\"mode\":\"lines\",\"name\":\"flow_36\",\"x\":[4,7],\"y\":[5,3],\"type\":\"scatter\"},{\"line\":{\"color\":\"red\",\"width\":12.0},\"mode\":\"lines\",\"name\":\"flow_46\",\"x\":[5,7],\"y\":[2,3],\"type\":\"scatter\"},{\"line\":{\"color\":\"red\",\"width\":0.0},\"mode\":\"lines\",\"name\":\"flow_65\",\"x\":[7,8],\"y\":[3,7],\"type\":\"scatter\"},{\"line\":{\"color\":\"red\",\"width\":9.0},\"mode\":\"lines\",\"name\":\"flow_57\",\"x\":[8,11],\"y\":[7,5],\"type\":\"scatter\"},{\"line\":{\"color\":\"red\",\"width\":15.0},\"mode\":\"lines\",\"name\":\"flow_67\",\"x\":[7,11],\"y\":[3,5],\"type\":\"scatter\"},{\"marker\":{\"color\":\"darkblue\",\"line\":{\"color\":\"black\",\"width\":1},\"opacity\":0.9,\"size\":50},\"mode\":\"markers\",\"name\":\"Node 1\",\"text\":[\"1\"],\"textposition\":\"middle center\",\"x\":[0],\"y\":[5],\"type\":\"scatter\"},{\"marker\":{\"color\":\"darkblue\",\"line\":{\"color\":\"black\",\"width\":1},\"opacity\":0.9,\"size\":50},\"mode\":\"markers\",\"name\":\"Node 2\",\"text\":[\"2\"],\"textposition\":\"middle center\",\"x\":[3],\"y\":[8],\"type\":\"scatter\"},{\"marker\":{\"color\":\"darkblue\",\"line\":{\"color\":\"black\",\"width\":1},\"opacity\":0.9,\"size\":50},\"mode\":\"markers\",\"name\":\"Node 3\",\"text\":[\"3\"],\"textposition\":\"middle center\",\"x\":[4],\"y\":[5],\"type\":\"scatter\"},{\"marker\":{\"color\":\"darkblue\",\"line\":{\"color\":\"black\",\"width\":1},\"opacity\":0.9,\"size\":50},\"mode\":\"markers\",\"name\":\"Node 4\",\"text\":[\"4\"],\"textposition\":\"middle center\",\"x\":[5],\"y\":[2],\"type\":\"scatter\"},{\"marker\":{\"color\":\"darkblue\",\"line\":{\"color\":\"black\",\"width\":1},\"opacity\":0.9,\"size\":50},\"mode\":\"markers\",\"name\":\"Node 5\",\"text\":[\"5\"],\"textposition\":\"middle center\",\"x\":[8],\"y\":[7],\"type\":\"scatter\"},{\"marker\":{\"color\":\"darkblue\",\"line\":{\"color\":\"black\",\"width\":1},\"opacity\":0.9,\"size\":50},\"mode\":\"markers\",\"name\":\"Node 6\",\"text\":[\"6\"],\"textposition\":\"middle center\",\"x\":[7],\"y\":[3],\"type\":\"scatter\"},{\"marker\":{\"color\":\"darkblue\",\"line\":{\"color\":\"black\",\"width\":1},\"opacity\":0.9,\"size\":50},\"mode\":\"markers\",\"name\":\"Node 7\",\"text\":[\"7\"],\"textposition\":\"middle center\",\"x\":[11],\"y\":[5],\"type\":\"scatter\"}],                        {\"template\":{\"data\":{\"histogram2dcontour\":[{\"type\":\"histogram2dcontour\",\"colorbar\":{\"outlinewidth\":0,\"ticks\":\"\"},\"colorscale\":[[0.0,\"#0d0887\"],[0.1111111111111111,\"#46039f\"],[0.2222222222222222,\"#7201a8\"],[0.3333333333333333,\"#9c179e\"],[0.4444444444444444,\"#bd3786\"],[0.5555555555555556,\"#d8576b\"],[0.6666666666666666,\"#ed7953\"],[0.7777777777777778,\"#fb9f3a\"],[0.8888888888888888,\"#fdca26\"],[1.0,\"#f0f921\"]]}],\"choropleth\":[{\"type\":\"choropleth\",\"colorbar\":{\"outlinewidth\":0,\"ticks\":\"\"}}],\"histogram2d\":[{\"type\":\"histogram2d\",\"colorbar\":{\"outlinewidth\":0,\"ticks\":\"\"},\"colorscale\":[[0.0,\"#0d0887\"],[0.1111111111111111,\"#46039f\"],[0.2222222222222222,\"#7201a8\"],[0.3333333333333333,\"#9c179e\"],[0.4444444444444444,\"#bd3786\"],[0.5555555555555556,\"#d8576b\"],[0.6666666666666666,\"#ed7953\"],[0.7777777777777778,\"#fb9f3a\"],[0.8888888888888888,\"#fdca26\"],[1.0,\"#f0f921\"]]}],\"heatmap\":[{\"type\":\"heatmap\",\"colorbar\":{\"outlinewidth\":0,\"ticks\":\"\"},\"colorscale\":[[0.0,\"#0d0887\"],[0.1111111111111111,\"#46039f\"],[0.2222222222222222,\"#7201a8\"],[0.3333333333333333,\"#9c179e\"],[0.4444444444444444,\"#bd3786\"],[0.5555555555555556,\"#d8576b\"],[0.6666666666666666,\"#ed7953\"],[0.7777777777777778,\"#fb9f3a\"],[0.8888888888888888,\"#fdca26\"],[1.0,\"#f0f921\"]]}],\"heatmapgl\":[{\"type\":\"heatmapgl\",\"colorbar\":{\"outlinewidth\":0,\"ticks\":\"\"},\"colorscale\":[[0.0,\"#0d0887\"],[0.1111111111111111,\"#46039f\"],[0.2222222222222222,\"#7201a8\"],[0.3333333333333333,\"#9c179e\"],[0.4444444444444444,\"#bd3786\"],[0.5555555555555556,\"#d8576b\"],[0.6666666666666666,\"#ed7953\"],[0.7777777777777778,\"#fb9f3a\"],[0.8888888888888888,\"#fdca26\"],[1.0,\"#f0f921\"]]}],\"contourcarpet\":[{\"type\":\"contourcarpet\",\"colorbar\":{\"outlinewidth\":0,\"ticks\":\"\"}}],\"contour\":[{\"type\":\"contour\",\"colorbar\":{\"outlinewidth\":0,\"ticks\":\"\"},\"colorscale\":[[0.0,\"#0d0887\"],[0.1111111111111111,\"#46039f\"],[0.2222222222222222,\"#7201a8\"],[0.3333333333333333,\"#9c179e\"],[0.4444444444444444,\"#bd3786\"],[0.5555555555555556,\"#d8576b\"],[0.6666666666666666,\"#ed7953\"],[0.7777777777777778,\"#fb9f3a\"],[0.8888888888888888,\"#fdca26\"],[1.0,\"#f0f921\"]]}],\"surface\":[{\"type\":\"surface\",\"colorbar\":{\"outlinewidth\":0,\"ticks\":\"\"},\"colorscale\":[[0.0,\"#0d0887\"],[0.1111111111111111,\"#46039f\"],[0.2222222222222222,\"#7201a8\"],[0.3333333333333333,\"#9c179e\"],[0.4444444444444444,\"#bd3786\"],[0.5555555555555556,\"#d8576b\"],[0.6666666666666666,\"#ed7953\"],[0.7777777777777778,\"#fb9f3a\"],[0.8888888888888888,\"#fdca26\"],[1.0,\"#f0f921\"]]}],\"mesh3d\":[{\"type\":\"mesh3d\",\"colorbar\":{\"outlinewidth\":0,\"ticks\":\"\"}}],\"scatter\":[{\"fillpattern\":{\"fillmode\":\"overlay\",\"size\":10,\"solidity\":0.2},\"type\":\"scatter\"}],\"parcoords\":[{\"type\":\"parcoords\",\"line\":{\"colorbar\":{\"outlinewidth\":0,\"ticks\":\"\"}}}],\"scatterpolargl\":[{\"type\":\"scatterpolargl\",\"marker\":{\"colorbar\":{\"outlinewidth\":0,\"ticks\":\"\"}}}],\"bar\":[{\"error_x\":{\"color\":\"#2a3f5f\"},\"error_y\":{\"color\":\"#2a3f5f\"},\"marker\":{\"line\":{\"color\":\"#E5ECF6\",\"width\":0.5},\"pattern\":{\"fillmode\":\"overlay\",\"size\":10,\"solidity\":0.2}},\"type\":\"bar\"}],\"scattergeo\":[{\"type\":\"scattergeo\",\"marker\":{\"colorbar\":{\"outlinewidth\":0,\"ticks\":\"\"}}}],\"scatterpolar\":[{\"type\":\"scatterpolar\",\"marker\":{\"colorbar\":{\"outlinewidth\":0,\"ticks\":\"\"}}}],\"histogram\":[{\"marker\":{\"pattern\":{\"fillmode\":\"overlay\",\"size\":10,\"solidity\":0.2}},\"type\":\"histogram\"}],\"scattergl\":[{\"type\":\"scattergl\",\"marker\":{\"colorbar\":{\"outlinewidth\":0,\"ticks\":\"\"}}}],\"scatter3d\":[{\"type\":\"scatter3d\",\"line\":{\"colorbar\":{\"outlinewidth\":0,\"ticks\":\"\"}},\"marker\":{\"colorbar\":{\"outlinewidth\":0,\"ticks\":\"\"}}}],\"scattermapbox\":[{\"type\":\"scattermapbox\",\"marker\":{\"colorbar\":{\"outlinewidth\":0,\"ticks\":\"\"}}}],\"scatterternary\":[{\"type\":\"scatterternary\",\"marker\":{\"colorbar\":{\"outlinewidth\":0,\"ticks\":\"\"}}}],\"scattercarpet\":[{\"type\":\"scattercarpet\",\"marker\":{\"colorbar\":{\"outlinewidth\":0,\"ticks\":\"\"}}}],\"carpet\":[{\"aaxis\":{\"endlinecolor\":\"#2a3f5f\",\"gridcolor\":\"white\",\"linecolor\":\"white\",\"minorgridcolor\":\"white\",\"startlinecolor\":\"#2a3f5f\"},\"baxis\":{\"endlinecolor\":\"#2a3f5f\",\"gridcolor\":\"white\",\"linecolor\":\"white\",\"minorgridcolor\":\"white\",\"startlinecolor\":\"#2a3f5f\"},\"type\":\"carpet\"}],\"table\":[{\"cells\":{\"fill\":{\"color\":\"#EBF0F8\"},\"line\":{\"color\":\"white\"}},\"header\":{\"fill\":{\"color\":\"#C8D4E3\"},\"line\":{\"color\":\"white\"}},\"type\":\"table\"}],\"barpolar\":[{\"marker\":{\"line\":{\"color\":\"#E5ECF6\",\"width\":0.5},\"pattern\":{\"fillmode\":\"overlay\",\"size\":10,\"solidity\":0.2}},\"type\":\"barpolar\"}],\"pie\":[{\"automargin\":true,\"type\":\"pie\"}]},\"layout\":{\"autotypenumbers\":\"strict\",\"colorway\":[\"#636efa\",\"#EF553B\",\"#00cc96\",\"#ab63fa\",\"#FFA15A\",\"#19d3f3\",\"#FF6692\",\"#B6E880\",\"#FF97FF\",\"#FECB52\"],\"font\":{\"color\":\"#2a3f5f\"},\"hovermode\":\"closest\",\"hoverlabel\":{\"align\":\"left\"},\"paper_bgcolor\":\"white\",\"plot_bgcolor\":\"#E5ECF6\",\"polar\":{\"bgcolor\":\"#E5ECF6\",\"angularaxis\":{\"gridcolor\":\"white\",\"linecolor\":\"white\",\"ticks\":\"\"},\"radialaxis\":{\"gridcolor\":\"white\",\"linecolor\":\"white\",\"ticks\":\"\"}},\"ternary\":{\"bgcolor\":\"#E5ECF6\",\"aaxis\":{\"gridcolor\":\"white\",\"linecolor\":\"white\",\"ticks\":\"\"},\"baxis\":{\"gridcolor\":\"white\",\"linecolor\":\"white\",\"ticks\":\"\"},\"caxis\":{\"gridcolor\":\"white\",\"linecolor\":\"white\",\"ticks\":\"\"}},\"coloraxis\":{\"colorbar\":{\"outlinewidth\":0,\"ticks\":\"\"}},\"colorscale\":{\"sequential\":[[0.0,\"#0d0887\"],[0.1111111111111111,\"#46039f\"],[0.2222222222222222,\"#7201a8\"],[0.3333333333333333,\"#9c179e\"],[0.4444444444444444,\"#bd3786\"],[0.5555555555555556,\"#d8576b\"],[0.6666666666666666,\"#ed7953\"],[0.7777777777777778,\"#fb9f3a\"],[0.8888888888888888,\"#fdca26\"],[1.0,\"#f0f921\"]],\"sequentialminus\":[[0.0,\"#0d0887\"],[0.1111111111111111,\"#46039f\"],[0.2222222222222222,\"#7201a8\"],[0.3333333333333333,\"#9c179e\"],[0.4444444444444444,\"#bd3786\"],[0.5555555555555556,\"#d8576b\"],[0.6666666666666666,\"#ed7953\"],[0.7777777777777778,\"#fb9f3a\"],[0.8888888888888888,\"#fdca26\"],[1.0,\"#f0f921\"]],\"diverging\":[[0,\"#8e0152\"],[0.1,\"#c51b7d\"],[0.2,\"#de77ae\"],[0.3,\"#f1b6da\"],[0.4,\"#fde0ef\"],[0.5,\"#f7f7f7\"],[0.6,\"#e6f5d0\"],[0.7,\"#b8e186\"],[0.8,\"#7fbc41\"],[0.9,\"#4d9221\"],[1,\"#276419\"]]},\"xaxis\":{\"gridcolor\":\"white\",\"linecolor\":\"white\",\"ticks\":\"\",\"title\":{\"standoff\":15},\"zerolinecolor\":\"white\",\"automargin\":true,\"zerolinewidth\":2},\"yaxis\":{\"gridcolor\":\"white\",\"linecolor\":\"white\",\"ticks\":\"\",\"title\":{\"standoff\":15},\"zerolinecolor\":\"white\",\"automargin\":true,\"zerolinewidth\":2},\"scene\":{\"xaxis\":{\"backgroundcolor\":\"#E5ECF6\",\"gridcolor\":\"white\",\"linecolor\":\"white\",\"showbackground\":true,\"ticks\":\"\",\"zerolinecolor\":\"white\",\"gridwidth\":2},\"yaxis\":{\"backgroundcolor\":\"#E5ECF6\",\"gridcolor\":\"white\",\"linecolor\":\"white\",\"showbackground\":true,\"ticks\":\"\",\"zerolinecolor\":\"white\",\"gridwidth\":2},\"zaxis\":{\"backgroundcolor\":\"#E5ECF6\",\"gridcolor\":\"white\",\"linecolor\":\"white\",\"showbackground\":true,\"ticks\":\"\",\"zerolinecolor\":\"white\",\"gridwidth\":2}},\"shapedefaults\":{\"line\":{\"color\":\"#2a3f5f\"}},\"annotationdefaults\":{\"arrowcolor\":\"#2a3f5f\",\"arrowhead\":0,\"arrowwidth\":1},\"geo\":{\"bgcolor\":\"white\",\"landcolor\":\"#E5ECF6\",\"subunitcolor\":\"white\",\"showland\":true,\"showlakes\":true,\"lakecolor\":\"white\"},\"title\":{\"x\":0.05},\"mapbox\":{\"style\":\"light\"}}},\"xaxis\":{\"showgrid\":false},\"yaxis\":{\"showgrid\":false},\"width\":827.0,\"height\":586.5248226950355,\"plot_bgcolor\":\"rgba(0,0,0,0)\"},                        {\"responsive\": true}                    ).then(function(){\n",
              "                            \n",
              "var gd = document.getElementById('59cbed1c-ab4f-415a-a0ee-e58a0a02d737');\n",
              "var x = new MutationObserver(function (mutations, observer) {{\n",
              "        var display = window.getComputedStyle(gd).display;\n",
              "        if (!display || display === 'none') {{\n",
              "            console.log([gd, 'removed!']);\n",
              "            Plotly.purge(gd);\n",
              "            observer.disconnect();\n",
              "        }}\n",
              "}});\n",
              "\n",
              "// Listen for the removal of the full notebook cells\n",
              "var notebookContainer = gd.closest('#notebook-container');\n",
              "if (notebookContainer) {{\n",
              "    x.observe(notebookContainer, {childList: true});\n",
              "}}\n",
              "\n",
              "// Listen for the clearing of the current output cell\n",
              "var outputEl = gd.closest('.output');\n",
              "if (outputEl) {{\n",
              "    x.observe(outputEl, {childList: true});\n",
              "}}\n",
              "\n",
              "                        })                };                            </script>        </div>\n",
              "</body>\n",
              "</html>"
            ]
          },
          "metadata": {}
        }
      ]
    },
    {
      "cell_type": "markdown",
      "source": [
        "#### Note about PuLP ####\n",
        "\n",
        "Please note that PuLP does not support the deletion of constraints once they are added. So, in order to examine the effect of different individual edges breaking, the model needs to be reinitialized.\n",
        "\n",
        "This can be done by rerunning the blocks [creating the problem](https://colab.research.google.com/drive/1w_xFhBpK1HeYenBcykgXuOELTVCzxMjH#scrollTo=vlunOJy_FBpi&line=1&uniqifier=1), the [variables](https://colab.research.google.com/drive/1w_xFhBpK1HeYenBcykgXuOELTVCzxMjH#scrollTo=DhOsArWbFGO6&line=4&uniqifier=1), [the constraints](https://colab.research.google.com/drive/1w_xFhBpK1HeYenBcykgXuOELTVCzxMjH#scrollTo=32hClhMwFP-B&line=3&uniqifier=1), and the [objective function](https://colab.research.google.com/drive/1w_xFhBpK1HeYenBcykgXuOELTVCzxMjH#scrollTo=Y5Pw_H39FbCh&line=2&uniqifier=1), and then adding the [individual constraint](https://colab.research.google.com/drive/1w_xFhBpK1HeYenBcykgXuOELTVCzxMjH#scrollTo=iEH0go_eWbDp&line=1&uniqifier=1) that should be updated.\n"
      ],
      "metadata": {
        "id": "BDOa7aVhvfx3"
      }
    },
    {
      "cell_type": "markdown",
      "source": [
        "## Conclusion ##\n",
        "\n",
        "This notebook shows how to create a simple LP optimization problem within the python pulp package, and solve it using the GLPK solver.\n",
        "\n",
        "It also visualizes the solution, and shows how failure of individual edges affects the overall performance of the network.\n",
        "\n",
        "\n"
      ],
      "metadata": {
        "id": "i8g3hlq9tUog"
      }
    }
  ]
}