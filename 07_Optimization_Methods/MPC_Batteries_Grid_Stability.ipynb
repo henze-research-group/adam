{
  "nbformat": 4,
  "nbformat_minor": 0,
  "metadata": {
    "colab": {
      "provenance": [],
      "toc_visible": true
    },
    "kernelspec": {
      "name": "python3",
      "display_name": "Python 3"
    },
    "language_info": {
      "name": "python"
    }
  },
  "cells": [
    {
      "cell_type": "markdown",
      "source": [
        "# Optimizing battery storage during power outages with MPC\n",
        "\n",
        "### *Authors: Kiera Fullick, Tim Diller, Gregor Henze*\n",
        "\n",
        "\n"
      ],
      "metadata": {
        "id": "rRLPwKrCpwsR"
      }
    },
    {
      "cell_type": "markdown",
      "source": [
        "# Intro Information\n",
        "As climate change intensifies, severe weather events increasingly\n",
        "disrupt power grids, resulting in economic losses, social inequities, and critical service failures. Enhancing grid resilience is essential to mitigate these impacts, and Model Predictive Control (MPC) can be used with future weather predictions to prepare for likely outages through the use of battery storage systems. This code implements MPC with battery storage systems to reduce\n",
        "unmet loads and optimize costs during outages caused by severe weather, informed by utility data, time-of-use pricing, and battery specifications. It can also be used to explore the effects and benefits of different forecast horizons.\n",
        "\n",
        "This workbook goes through all required steps, from loading the sample data, via the scenario and parameter selection to the model formulation and plotting routine.\n",
        "\n",
        "The reader is invited to change the parameters and observe the changes in the ability of the battery system to mitigate the effects of power outages known with various lead times."
      ],
      "metadata": {
        "id": "XqQFD4Q4t3me"
      }
    },
    {
      "cell_type": "markdown",
      "source": [
        "# Load Data\n",
        "The load data is in a CSV file on GDrive, so mounting the Google Drive is necessary to use the files."
      ],
      "metadata": {
        "id": "wiWk4fxYznmW"
      }
    },
    {
      "cell_type": "code",
      "source": [
        "from google.colab import drive  # The google colab module to access folders on GDrive\n",
        "import os  # the python module for all things related to the OS.\n",
        "\n",
        "# we mount our gDrive drive at the startpoint\n",
        "drive.mount('/content/drive')\n",
        "\n",
        "# change that into the path you want to change into (as if you were starting in your current root folder in drive)\n",
        "my_folder_path = \"AREN5090\"\n",
        "\n",
        "# we navigate to the target folder\n",
        "os.chdir(\"drive/My Drive/\" + my_folder_path)"
      ],
      "metadata": {
        "id": "Z0DU8jOIp3m4",
        "colab": {
          "base_uri": "https://localhost:8080/"
        },
        "outputId": "b648e254-9b1d-433c-85a7-bcea96ca657c"
      },
      "execution_count": null,
      "outputs": [
        {
          "output_type": "stream",
          "name": "stdout",
          "text": [
            "Mounted at /content/drive\n"
          ]
        }
      ]
    },
    {
      "cell_type": "markdown",
      "source": [
        "# Import Modules\n",
        "Import the modules needed to run the code and plot the graphs."
      ],
      "metadata": {
        "id": "6SVo1SqUp81O"
      }
    },
    {
      "cell_type": "code",
      "source": [
        "import cvxpy as cp\n",
        "import pandas as pd\n",
        "import numpy as np\n",
        "import plotly.graph_objects as go\n",
        "from plotly.subplots import make_subplots\n",
        "import random\n",
        "import math\n",
        "from matplotlib.pyplot import step # Needed to plot the battery dynamics as a step function"
      ],
      "metadata": {
        "id": "UWI_8gKlZWva"
      },
      "execution_count": null,
      "outputs": []
    },
    {
      "cell_type": "markdown",
      "source": [
        "# Cost Data\n",
        "This block is responsible for loading the correct load and cost data."
      ],
      "metadata": {
        "id": "0WsOZL0im1E_"
      }
    },
    {
      "cell_type": "code",
      "source": [
        "# Load required load data from CSV\n",
        "winter_csv_file = \"January_Hourly_Load_Data.csv\"  # Replace with your CSV file path\n",
        "winter_load = pd.read_csv(winter_csv_file)\n",
        "summer_csv_file = \"July_Hourly_Load_Data.csv\"  # Replace with your CSV file path\n",
        "summer_load = pd.read_csv(summer_csv_file)\n",
        "\n",
        "# Get the proper columns\n",
        "winter_load_data = winter_load['Scaled Load (kW)']\n",
        "summer_load_data = summer_load['Scaled Load (kW)']\n",
        "\n",
        "# Define cost schedule for a single day (e.g., hourly costs for 24 hours)\n",
        "cost_schedule_winter = [\n",
        "    0.0233, 0.0233, 0.0233, 0.0233, 0.0233, 0.0233, 0.0233, 0.0233,  # Midnight to 8 AM\n",
        "    0.1223, 0.1223, 0.1223, 0.1223, 0.1223, 0.1223, 0.1223, 0.1223,  # 8 AM to 4 PM\n",
        "    0.1223, 0.1223, 0.1223, 0.1223, 0.1223, 0.1223, 0.1223, 0.1223   # 4 PM to Midnight\n",
        "]\n",
        "\n",
        "cost_schedule_summer = [\n",
        "    0.0233, 0.0233, 0.0233, 0.0233, 0.0233, 0.0233, 0.0233, 0.0233,  # Midnight to 8 AM\n",
        "    0.3305, 0.3305, 0.3305, 0.3305, 0.3305, 0.3305, 0.3305, 0.3305,  # 8 AM to 4 PM\n",
        "    0.3305, 0.3305, 0.3305, 0.3305, 0.3305, 0.3305, 0.3305, 0.3305   # 4 PM to Midnight\n",
        "]"
      ],
      "metadata": {
        "colab": {
          "base_uri": "https://localhost:8080/"
        },
        "id": "1zmkbJtam00D",
        "outputId": "f59ee63a-f40f-4f63-e8b8-fee1b88ca302"
      },
      "execution_count": null,
      "outputs": [
        {
          "output_type": "stream",
          "name": "stderr",
          "text": [
            "<ipython-input-3-2501c70f07b4>:3: DtypeWarning: Columns (0,1) have mixed types. Specify dtype option on import or set low_memory=False.\n",
            "  winter_load = pd.read_csv(winter_csv_file)\n",
            "<ipython-input-3-2501c70f07b4>:5: DtypeWarning: Columns (0,1) have mixed types. Specify dtype option on import or set low_memory=False.\n",
            "  summer_load = pd.read_csv(summer_csv_file)\n"
          ]
        }
      ]
    },
    {
      "cell_type": "markdown",
      "source": [
        "# Variables\n",
        "All the variables that can be changed are found in this block."
      ],
      "metadata": {
        "id": "O3q5vmKmna1I"
      }
    },
    {
      "cell_type": "code",
      "source": [
        "# Choose the scenario to consider\n",
        "scenario = \"summer\"  # Set to \"summer\" or \"winter\"\n",
        "\n",
        "# Scaling Parameters\n",
        "percentage_scaled = 0.0004 # Based on definition of an outage for NYC\n",
        "\n",
        "# Day and Timestep Parameters\n",
        "N_steps = 24  # Total number of timesteps in a day (1-hour intervals)\n",
        "days_considered = 1 # Total number of days considered\n",
        "\n",
        "# Choose horizon lengths to consider\n",
        "horizons = [3,6,12]  # MPC horizons in hours\n",
        "\n",
        "# Outage Parameters\n",
        "max_duration=17 # Maximum length in hours of a power outage\n",
        "min_duration=3 # Minimum length in hours of a power outage\n",
        "ran_outages = \"set\" # Set to \"random\" for random number of outages or \"Set\" for a defined number of outages\n",
        "set_outages = 1 # Number of outages if a set number of outages is desired\n",
        "min_outages = 1 # Minimum number of outages if random\n",
        "max_outages = 3 # Maximum number of outages if random\n",
        "\n",
        "# Battery Parameters\n",
        "battery_capacity_hours = 6  # Hours of the battery should meet peak load\n",
        "initial_battery_energy = 0  # Initial Battery State kWh\n",
        "VOLL = 11  # Value of Load Lost ($/kW)\n",
        "efficiency = .9 # Battery efficiency\n",
        "average_charging_rate = 5 # kW per hour\n",
        "average_battery_capacity = 13.5 # kWh\n",
        "\n"
      ],
      "metadata": {
        "id": "TZg070pbnbKO"
      },
      "execution_count": null,
      "outputs": []
    },
    {
      "cell_type": "markdown",
      "source": [
        "# Choose Scenario\n",
        "This block is used to choose a given scenario either winter or summer and modifies the load accordingly."
      ],
      "metadata": {
        "id": "OJqKkLoDmL5b"
      }
    },
    {
      "cell_type": "code",
      "source": [
        "# Choose either summer or winter month to analyze\n",
        "if scenario == \"summer\":\n",
        "  load = summer_load_data\n",
        "  cost_schedule = cost_schedule_summer\n",
        "  print(\"Summer Scenario Selected\")\n",
        "else:\n",
        "  load = winter_load_data\n",
        "  cost_schedule = cost_schedule_winter\n",
        "  print(\"Winter Scenario Selected\")\n",
        "\n",
        "# Ensure load data is limited to the considered days\n",
        "load = percentage_scaled * load[:N_steps * days_considered]\n",
        "total_load = load.sum()\n",
        "print(f\"Total Load: {total_load} kW\")\n",
        "\n",
        "#Calculate and scale the average by same amount the load is scaled by\n",
        "average_load_scaled = ((winter_load_data + summer_load_data) / 2)[:N_steps* days_considered]*percentage_scaled"
      ],
      "metadata": {
        "id": "jyGue0emmIub",
        "colab": {
          "base_uri": "https://localhost:8080/"
        },
        "outputId": "32efeafa-78d5-49ee-fce9-38ebc6e2091e"
      },
      "execution_count": null,
      "outputs": [
        {
          "output_type": "stream",
          "name": "stdout",
          "text": [
            "Summer Scenario Selected\n",
            "Total Load: 65455.7214132 kW\n"
          ]
        }
      ]
    },
    {
      "cell_type": "markdown",
      "source": [
        "# Battery Calculations\n",
        "The following code determines the charging rate of all the batteries and the numbers of batteries necessary based off of the battery parameters used."
      ],
      "metadata": {
        "id": "ZuLSUyefLoPb"
      }
    },
    {
      "cell_type": "code",
      "source": [
        "# Use peak load to determine capacity\n",
        "battery_capacity = battery_capacity_hours * average_load_scaled.max() # kWh\n",
        "# Find Charging Rate\n",
        "number_batteries = math.ceil(battery_capacity/average_battery_capacity)\n",
        "charge_rate = average_charging_rate * number_batteries # kW per hour\n",
        "print(f\"Charging Rate: {charge_rate} kW\")\n",
        "print(f\"Battery Capacity: {battery_capacity} kWh\")\n",
        "print(f\"Number of Batteries: {number_batteries}\")"
      ],
      "metadata": {
        "id": "wir596h3LioF",
        "colab": {
          "base_uri": "https://localhost:8080/"
        },
        "outputId": "705f122e-a246-4b29-ff6b-4a4bcec5bfd3"
      },
      "execution_count": null,
      "outputs": [
        {
          "output_type": "stream",
          "name": "stdout",
          "text": [
            "Charging Rate: 6145 kW\n",
            "Battery Capacity: 16584.4023912 kWh\n",
            "Number of Batteries: 1229\n"
          ]
        }
      ]
    },
    {
      "cell_type": "markdown",
      "source": [
        "# Generate Outages\n",
        "The following code is used to generate outages with random lengths, initial start time, and total occurence number. The constraints can be modified to update the outages as needed. The number of days considered is defined in this section and establishes the period over which the optimization is performed."
      ],
      "metadata": {
        "id": "RkmIUJU8zyrP"
      }
    },
    {
      "cell_type": "code",
      "source": [
        "# Get the correct number of timesteps based on the defined steps and days considered.\n",
        "timesteps = np.arange(N_steps * days_considered)\n",
        "\n",
        "# Function to generate a random number of outages with random durations and start times\n",
        "def generate_random_outages(num_outages, timesteps, max_duration, min_duration):\n",
        "    outages = []\n",
        "    for _ in range(num_outages):\n",
        "        while True:\n",
        "            # Randomly select outage start time and duration\n",
        "            outage_start = random.choice(timesteps)\n",
        "            outage_duration = random.randint(min_duration, max_duration)\n",
        "            outage_end = min(outage_start + outage_duration, N_steps * days_considered)\n",
        "\n",
        "            # Check if this new outage overlaps with any existing ones\n",
        "            overlap = False\n",
        "            for existing_outage_start, existing_outage_end in outages:\n",
        "                if (outage_start < existing_outage_end) and (outage_end > existing_outage_start):\n",
        "                    overlap = True\n",
        "                    break\n",
        "\n",
        "            # If no overlap, add this outage to the list\n",
        "            if not overlap:\n",
        "                outages.append((outage_start, outage_end))\n",
        "                break\n",
        "    return outages\n",
        "\n",
        "# Generate a random number of outages (e.g., between 1 and 3)\n",
        "if ran_outages == \"random\":\n",
        "  num_outages = random.randint(min_outages,max_outages)\n",
        "else:\n",
        "  num_outages = set_outages\n",
        "\n",
        "outages = generate_random_outages(num_outages, timesteps, max_duration, min_duration)\n",
        "\n",
        "# Display the generated outages for debugging\n",
        "print(f\"Generated outages: {outages}\")"
      ],
      "metadata": {
        "colab": {
          "base_uri": "https://localhost:8080/"
        },
        "id": "fnr1yxrnJ9FF",
        "outputId": "f82f04d2-49c2-44dd-b94c-6c9dde69eb2a"
      },
      "execution_count": null,
      "outputs": [
        {
          "output_type": "stream",
          "name": "stdout",
          "text": [
            "Generated outages: [(np.int64(6), np.int64(19))]\n"
          ]
        }
      ]
    },
    {
      "cell_type": "markdown",
      "source": [
        "# Modify Cost Data\n",
        "The following code snippet repeats the cost schedule for one more day than the days considered parameter to ensure the horizons can work properly."
      ],
      "metadata": {
        "id": "Djq3wwsuLOe9"
      }
    },
    {
      "cell_type": "code",
      "source": [
        "# Repeat cost data for the number of days considered\n",
        "def generate_cost_data(cost_schedule, num_days, time_interval_minutes=60):\n",
        "    # Validate that cost_schedule has correct intervals for a day\n",
        "    if len(cost_schedule) != 24 * 60 // time_interval_minutes:\n",
        "        raise ValueError(\"The cost_schedule must have a length equal to the number of intervals in a day.\")\n",
        "\n",
        "    # Repeat the cost schedule for the specified number of days\n",
        "    cost_data = np.tile(cost_schedule, num_days)\n",
        "    return cost_data\n",
        "\n",
        "num_days = days_considered+1  # Number of days to repeat the schedule\n",
        "\n",
        "# Generate cost data\n",
        "cost_data = generate_cost_data(cost_schedule, num_days)"
      ],
      "metadata": {
        "id": "9m-P8fmLLLNp"
      },
      "execution_count": null,
      "outputs": []
    },
    {
      "cell_type": "markdown",
      "source": [
        "# Cost Calculations\n",
        "The following code will calculate the total cost during the outage if there is no battery used and also defines a variable that keeps track of the total unmet load during the outages."
      ],
      "metadata": {
        "id": "k-gxVkzFlPpS"
      }
    },
    {
      "cell_type": "code",
      "source": [
        "# Calculate the total cost of the system during an outage with no battery\n",
        "total_cost_no_battery = 0\n",
        "total_unmet_load_no_battery = 0  # To store the total unmet load during outages\n",
        "\n",
        "for t in range(N_steps * days_considered):\n",
        "    # Check if this timestep is within an outage\n",
        "    outage_in_effect = any(outage_start <= t < outage_end for outage_start, outage_end in outages)\n",
        "\n",
        "    if outage_in_effect:\n",
        "        # During an outage, add the cost of unmet load multiplied by VOLL\n",
        "        total_cost_no_battery += load[t] * VOLL\n",
        "    else:\n",
        "        # Otherwise, add the cost of grid power based on TOU price\n",
        "        total_cost_no_battery += load[t] * cost_data[t]\n",
        "\n",
        "# Print the results\n",
        "print(f\"Total Cost of the System During Outage with No Battery: ${total_cost_no_battery:.2f}\")"
      ],
      "metadata": {
        "id": "tkI7_069QkBg",
        "colab": {
          "base_uri": "https://localhost:8080/"
        },
        "outputId": "d22cf141-a08d-4845-8347-7053ec7c827b"
      },
      "execution_count": null,
      "outputs": [
        {
          "output_type": "stream",
          "name": "stdout",
          "text": [
            "Total Cost of the System During Outage with No Battery: $421258.41\n"
          ]
        }
      ]
    },
    {
      "cell_type": "markdown",
      "source": [
        "# Plotting Costs\n",
        "This block is a function called from within and code for plotting used to plot the price of grid power and when it changes."
      ],
      "metadata": {
        "id": "O_De3mrg0hNG"
      }
    },
    {
      "cell_type": "code",
      "source": [
        "# Helper function for plotting costs\n",
        "def plot_cost_blocks(fig, cost_data, days_considered, N_steps):\n",
        "    \"\"\"Helper function to plot cost blocks above the plot using Plotly.\"\"\"\n",
        "    cost_data_subset = cost_data[:days_considered * N_steps]\n",
        "\n",
        "    block_start = 0\n",
        "    for i in range(1, len(cost_data_subset)):\n",
        "        if cost_data_subset[i] != cost_data_subset[i - 1]:\n",
        "            fig.add_shape(\n",
        "                type=\"rect\", xref=\"x\", yref=\"paper\", x0=block_start, y0=0.95, x1=i,\n",
        "                y1=1,\n",
        "                fillcolor=\"gray\" if cost_data_subset[i-1] == min(cost_data_subset) else \"blue\",\n",
        "                opacity=0.3,\n",
        "                line_width=0,\n",
        "                layer=\"below\",\n",
        "            )\n",
        "            fig.add_annotation(\n",
        "                x=(block_start + i) / 2, y=1,  # Adjust the y-position as needed\n",
        "                text=f\"<b>${cost_data_subset[i-1]:.2f}/kWh</b>\",  # Make text bold using HTML tags\n",
        "                showarrow=False,\n",
        "                font=dict(size=11, color=\"black\", family=\"Arial\"),\n",
        "                xref=\"x\", yref=\"paper\"  # Use \"paper\" for relative positioning\n",
        "            )\n",
        "            block_start = i\n",
        "\n",
        "      # Add the last cost block\n",
        "    fig.add_shape(\n",
        "        type=\"rect\", xref=\"x\", yref=\"paper\", x0=block_start, y0=0.95,\n",
        "        x1=len(cost_data_subset),  # Extend to the end\n",
        "        y1=1,\n",
        "        fillcolor=\"gray\" if cost_data_subset[-1] == min(cost_data_subset) else \"blue\",\n",
        "        opacity=0.3,\n",
        "        line_width=0,\n",
        "        layer=\"below\",\n",
        "    )\n",
        "    fig.add_annotation(\n",
        "        x=(block_start + len(cost_data_subset)) / 2, y=1,\n",
        "        text=f\"<b>${cost_data_subset[-1]:.2f}/kWh</b>\", showarrow=False, # Make text bold using HTML tags\n",
        "        font=dict(size=11, color=\"black\", family=\"Arial\"),\n",
        "        xref=\"x\", yref=\"paper\"\n",
        "    )"
      ],
      "metadata": {
        "id": "QQe5l2EM3meV"
      },
      "execution_count": null,
      "outputs": []
    },
    {
      "cell_type": "markdown",
      "source": [
        "# Plot Results\n",
        "The following code is a separate function used for plotting the graphs. The labels on the x axis will change from hours to days depending on the number of days considered initially. If only one day is considered, the x axis will be displayed in hours and if more than one day is considered the axis will be in days instead. The battery charge rate is positive if charging and negative if discharging."
      ],
      "metadata": {
        "id": "Kx3DNf5QLcAX"
      }
    },
    {
      "cell_type": "code",
      "source": [
        "# Helper function for plotting with x-axis in days\n",
        "def plot_results(load, battery_energy, grid_power, curtailed_power, net_battery_power, title, outages, days_considered, cost_data):\n",
        "    # Create figure with secondary y-axis\n",
        "    fig = make_subplots(specs=[[{\"secondary_y\": True}]])\n",
        "\n",
        "    # Add traces\n",
        "    fig.add_trace(\n",
        "        go.Scatter(x=timesteps, y=load, name=\"Load (kW)\", mode='lines',line=dict(shape='hv')),\n",
        "        secondary_y=False,\n",
        "    )\n",
        "\n",
        "    fig.add_trace(\n",
        "        go.Scatter(x=timesteps, y=grid_power, name=\"Grid Power (kW)\", mode='lines',line=dict(shape='hv', color = 'green')),\n",
        "        secondary_y=False,\n",
        "    )\n",
        "\n",
        "    fig.add_trace(\n",
        "        go.Scatter(x=timesteps, y=curtailed_power, name=\"Unmet Load (kW)\", mode='lines', line=dict(shape='hv',dash='dash', color='red')),\n",
        "        secondary_y=False,\n",
        "    )\n",
        "\n",
        "    #fig.add_trace(\n",
        "        # go.Scatter(x=timesteps, y=battery_discharge, name=\"Battery Discharge (kW)\", mode='lines', line=dict(shape='hv',dash='dot', color='purple')),\n",
        "        # secondary_y=False,\n",
        "    # )\n",
        "\n",
        "    # fig.add_trace(\n",
        "        # go.Scatter(x=timesteps, y=battery_charge, name=\"Battery Charge (kW)\", mode='lines', line=dict(shape='hv',dash='dot',color='green')),\n",
        "        # secondary_y=False,\n",
        "    # )\n",
        "\n",
        "    fig.add_trace(\n",
        "           go.Scatter(x=timesteps, y=net_battery_power, name=\"Net Battery Charge (kW)\", mode='lines+markers', line=dict(shape='hv', color='purple')),  # Net battery power on primary y-axis\n",
        "           secondary_y=False,\n",
        "       )\n",
        "\n",
        "    # fig.add_trace(\n",
        "         # go.Scatter(x=timesteps, y=battery_energy[:len(timesteps)], name=\"Battery State of Charge (kWh)\", mode='lines', line=dict(shape='hv',color='black')),\n",
        "         # secondary_y=True,\n",
        "    # )\n",
        "\n",
        "    # Add cost blocks\n",
        "    plot_cost_blocks(fig, cost_data, days_considered, N_steps)\n",
        "\n",
        "    # Plot outages as shaded areas\n",
        "    for outage_start, outage_end in outages:\n",
        "        fig.add_shape(\n",
        "            type=\"rect\", xref=\"x\", yref=\"paper\", x0=outage_start, y0=0, x1=outage_end,\n",
        "            y1=0.95, fillcolor=\"red\", opacity=0.3, line_width=0, layer=\"below\",\n",
        "        )\n",
        "\n",
        "    # Update xaxis properties\n",
        "    if days_considered > 1:\n",
        "        x_ticks = np.arange(0, N_steps * days_considered, N_steps)\n",
        "        x_tick_labels = [f\"Day {i + 1}\" for i in range(days_considered)]\n",
        "        fig.update_xaxes(title_text=\"Time (Days)\", tickvals=x_ticks, ticktext=x_tick_labels,\n",
        "                         minor_ticks=\"outside\", minor_dtick=1) # Added minor ticks\n",
        "    else:\n",
        "        x_ticks = np.arange(0, N_steps * days_considered, 1)\n",
        "        x_tick_labels = [f\"{i}\" for i in range(N_steps * days_considered)]\n",
        "        fig.update_xaxes(title_text=\"Time (Hours)\", tickvals=x_ticks, ticktext=x_tick_labels)\n",
        "\n",
        "    # Update yaxis properties\n",
        "    fig.update_yaxes(title_text=\"Power (kW)\", secondary_y=False)\n",
        "    fig.update_yaxes(title_text=\"Energy (kWh)\", secondary_y=True)\n",
        "\n",
        "    # Update layout properties\n",
        "    fig.update_layout(\n",
        "           title_text=title,\n",
        "           title_x=0.5,\n",
        "           legend=dict(x=0.5, y=-0.2, orientation=\"h\", xanchor=\"center\"),\n",
        "           yaxis=dict(rangemode='tozero'),  # Align primary y-axis to zero\n",
        "           yaxis2=dict(rangemode='tozero', anchor='y', overlaying='y', side='right')  # Align secondary y-axis, anchor to y, and position on right\n",
        "       )\n",
        "\n",
        "    # Show plot\n",
        "    fig.show()"
      ],
      "metadata": {
        "id": "5XhUeTzz3Hyj"
      },
      "execution_count": null,
      "outputs": []
    },
    {
      "cell_type": "markdown",
      "source": [
        "# Optimization Loop\n",
        "The following block defines the optimization problem by minimizing the total cost of power during the outage as subject to power balance, battery, and grid constraints."
      ],
      "metadata": {
        "id": "IDO1smibl6FE"
      }
    },
    {
      "cell_type": "code",
      "source": [
        "# Optimization loop for each horizon\n",
        "for horizon in horizons:\n",
        "    battery_energy = [initial_battery_energy]  # Battery energy state for all timesteps\n",
        "    grid_power = []  # Power from the grid for all timesteps\n",
        "    unmet_power = []\n",
        "    battery_discharge = []\n",
        "    battery_charge = []\n",
        "\n",
        "    for t in range(N_steps * days_considered):\n",
        "\n",
        "        horizon_len = horizon\n",
        "\n",
        "        P_g = cp.Variable(horizon)  # Grid power\n",
        "        P_u = cp.Variable(horizon)  # Unmet power (curtailed)\n",
        "        P_b_c = cp.Variable(horizon)  # Battery power charge\n",
        "        P_b_d = cp.Variable(horizon)  # Battery power discharge\n",
        "        E_b = cp.Variable(horizon + 1)  # Battery energy\n",
        "\n",
        "        # Introduce binary variables for charging and discharging\n",
        "        b_c = cp.Variable(horizon, boolean=True)  # Binary variable for charging\n",
        "        b_d = cp.Variable(horizon, boolean=True)  # Binary variable for discharging\n",
        "\n",
        "        # Constraints for the current horizon\n",
        "        constraints = [E_b[0] == battery_energy[-1]]  # Start with current battery state\n",
        "        for i in range(horizon_len):\n",
        "            constraints += [\n",
        "                load[t] + P_b_c[i] - P_b_d[i] - P_u[i] == P_g[i],  # Power balance\n",
        "                E_b[i + 1] == E_b[i] + ((P_b_c[i]*efficiency) - (P_b_d[i]/efficiency)),  # Battery energy update\n",
        "                0 <= E_b[i + 1],  # Battery energy cannot be negative\n",
        "                E_b[i + 1] <= battery_capacity,  # Battery energy cannot exceed capacity\n",
        "                P_b_c[i] <= charge_rate, #* b_c[i],  # Charging rate constraint with binary variable\n",
        "                P_b_d[i] <= charge_rate, #* b_d[i],  # Discharging rate constraint with binary variable\n",
        "                P_u[i] >= 0,  # Unmet power should not be negative\n",
        "                #b_c[i] + b_d[i] <= 1,  # Ensure charging and discharging cannot happen at the same time\n",
        "                P_g[i] >= 0,  # Grid power should not be negative\n",
        "                P_b_c[i] >= 0,  # Charging power should not be negative\n",
        "                P_b_d[i] >= 0,  # Discharging power should not be negative\n",
        "            ]\n",
        "\n",
        "            # Handle outages: no grid power during an outage\n",
        "            outage_in_effect = any(outage_start <= t+i < outage_end for outage_start, outage_end in outages)\n",
        "            if outage_in_effect:\n",
        "                constraints += [\n",
        "                     P_g[i] == 0,  # No grid power\n",
        "                     ]\n",
        "\n",
        "        # Cost function to minimize\n",
        "        cost_horizon = cp.sum(cp.multiply(cost_data[t:horizon+t], P_g) + (VOLL * P_u))\n",
        "\n",
        "        # Solve the optimization problem\n",
        "        problem = cp.Problem(cp.Minimize(cost_horizon), constraints)\n",
        "        problem.solve()\n",
        "\n",
        "        # Check if the problem was solved successfully\n",
        "        if problem.status == cp.OPTIMAL:\n",
        "          battery_energy.append(E_b.value[1])  # First value in the next timestep\n",
        "          grid_power.append(P_g.value[0])\n",
        "          battery_discharge.append(P_b_d.value[0])  # Track battery discharge\n",
        "          battery_charge.append(P_b_c.value[0])  # Track battery discharge\n",
        "          unmet_power.append(P_u.value[0]) # Store unmet power\n",
        "        else:\n",
        "          print(f\"Optimization failed at timestep {t}, Status: {problem.status}\")\n",
        "          grid_power.append(0)\n",
        "          battery_energy.append(battery_energy[-1])  # Keep previous energy level\n",
        "          unmet_power.append(0)  # No unmet power if the optimization fails\n",
        "          grid_power.append(0)\n",
        "          battery_discharge.append(0)  # Track battery discharge\n",
        "          battery_charge.append(0)  # Track battery discharge\n",
        "\n",
        "    # Calculate the total cost of power drawn from the grid\n",
        "    total_grid_cost = sum(np.array(grid_power) * cost_data[:len(grid_power)])\n",
        "    total_unmet_cost = sum(np.array(unmet_power) * VOLL)\n",
        "\n",
        "    # Calculate the total energy cost of the system\n",
        "    total_system_cost = total_grid_cost + total_unmet_cost\n",
        "    print(f\"Total Cost of the System with Battery: ${total_system_cost:.2f}\")\n",
        "\n",
        "    # Print the result\n",
        "    print(f\"Total Cost of Power Drawn from the Grid: ${total_grid_cost:.2f}\")\n",
        "\n",
        "\n",
        "    # Calculate unmet load without battery during outage hours\n",
        "    total_unmet_load_no_battery = 0\n",
        "    for outage_start, outage_end in outages:\n",
        "        total_unmet_load_no_battery += load[outage_start:outage_end].sum()\n",
        "\n",
        "    print(f\"Total Unmet Load without Battery during Outages: {total_unmet_load_no_battery:.2f} kW\")\n",
        "    print(f\"Total Unmet Load with Battery: {sum(unmet_power)} kW\")\n",
        "\n",
        "    percent_unmet_saved = ((sum(unmet_power)-total_unmet_load_no_battery) / total_unmet_load_no_battery) * 100\n",
        "    print(f\"Percent Unmet Load Change: {percent_unmet_saved:.2f}%\")\n",
        "\n",
        "    # Calculate the percentage difference\n",
        "    percent_difference = ((total_system_cost-total_cost_no_battery) / total_cost_no_battery) * 100\n",
        "\n",
        "    # Battery State of Charge\n",
        "    net_battery_charge = np.array(battery_charge) - np.array(battery_discharge)\n",
        "\n",
        "    # Print the results\n",
        "    print(f\"Percentage Difference in Cost: {percent_difference:.2f}%\")\n",
        "\n",
        "    # Plot the results for the current horizon\n",
        "    plot_results(load, battery_energy, grid_power, unmet_power, net_battery_charge, f\"MPC with Horizon {horizon} Hours\", outages, days_considered, cost_data)\n"
      ],
      "metadata": {
        "colab": {
          "base_uri": "https://localhost:8080/",
          "height": 1000
        },
        "id": "tcW_85vBlOm-",
        "outputId": "503faa21-ce58-4b83-8b9b-378d920bf60d"
      },
      "execution_count": null,
      "outputs": [
        {
          "output_type": "stream",
          "name": "stdout",
          "text": [
            "Total Cost of the System with Battery: $372790.58\n",
            "Total Cost of Power Drawn from the Grid: $5099.45\n",
            "Total Unmet Load without Battery during Outages: 37844.18 kW\n",
            "Total Unmet Load with Battery: 33426.46562931882 kW\n",
            "Percent Unmet Load Change: -11.67%\n",
            "Percentage Difference in Cost: -11.51%\n"
          ]
        },
        {
          "output_type": "display_data",
          "data": {
            "text/html": [
              "<html>\n",
              "<head><meta charset=\"utf-8\" /></head>\n",
              "<body>\n",
              "    <div>            <script src=\"https://cdnjs.cloudflare.com/ajax/libs/mathjax/2.7.5/MathJax.js?config=TeX-AMS-MML_SVG\"></script><script type=\"text/javascript\">if (window.MathJax && window.MathJax.Hub && window.MathJax.Hub.Config) {window.MathJax.Hub.Config({SVG: {font: \"STIX-Web\"}});}</script>                <script type=\"text/javascript\">window.PlotlyConfig = {MathJaxConfig: 'local'};</script>\n",
              "        <script charset=\"utf-8\" src=\"https://cdn.plot.ly/plotly-2.35.2.min.js\"></script>                <div id=\"ef184598-07d8-436c-b035-8299fc774bfe\" class=\"plotly-graph-div\" style=\"height:525px; width:100%;\"></div>            <script type=\"text/javascript\">                                    window.PLOTLYENV=window.PLOTLYENV || {};                                    if (document.getElementById(\"ef184598-07d8-436c-b035-8299fc774bfe\")) {                    Plotly.newPlot(                        \"ef184598-07d8-436c-b035-8299fc774bfe\",                        [{\"line\":{\"shape\":\"hv\"},\"mode\":\"lines\",\"name\":\"Load (kW)\",\"x\":[0,1,2,3,4,5,6,7,8,9,10,11,12,13,14,15,16,17,18,19,20,21,22,23],\"y\":[2319.2920116,2380.4081100000003,2261.0461464000005,2187.0069048,2163.0366215999998,2208.8594160000002,2359.0861632,2549.2478652,2713.1845608,2829.8846664000002,2892.6761976000003,2932.5245472,2976.736644,3004.6746456,3052.9829052000005,3106.1002248,3153.9091104,3170.924316,3102.2526132000003,3009.9430620000003,2905.4190996,2849.984964,2741.1421968,2585.3984208],\"type\":\"scatter\",\"xaxis\":\"x\",\"yaxis\":\"y\"},{\"line\":{\"color\":\"green\",\"shape\":\"hv\"},\"mode\":\"lines\",\"name\":\"Grid Power (kW)\",\"x\":[0,1,2,3,4,5,6,7,8,9,10,11,12,13,14,15,16,17,18,19,20,21,22,23],\"y\":[2319.2920328098235,2380.40810474201,2261.046142948305,2187.0069026250285,4027.3890520736145,5798.480847574409,1.7796617221077996e-15,1.4715264279512268e-15,1.8232050087010033e-15,2.108466391177134e-15,2.3680763053432905e-15,2.610734589454152e-15,2.8236718713646844e-15,3.0332831170518127e-15,3.234792767663064e-15,3.5196687326605893e-15,3.824692723090357e-15,9.133570934240353e-15,1.657032901149335e-13,3009.94306257703,2905.4191000740802,2849.9849643992393,2741.1421994063835,2585.3984185344266],\"type\":\"scatter\",\"xaxis\":\"x\",\"yaxis\":\"y\"},{\"line\":{\"color\":\"red\",\"dash\":\"dash\",\"shape\":\"hv\"},\"mode\":\"lines\",\"name\":\"Unmet Load (kW)\",\"x\":[0,1,2,3,4,5,6,7,8,9,10,11,12,13,14,15,16,17,18,19,20,21,22,23],\"y\":[3.6224209716404753e-9,1.045443042735231e-9,8.321249821929351e-10,5.988671004608546e-10,1.4645606022307195e-10,1.077531854805007e-10,1393.568731021896,2139.836406226772,2464.6062568646144,2652.3253099096396,2752.3111882144517,2815.2527366646573,2875.790256753742,2914.9571691391366,2972.038146934055,3031.583153730077,3083.9033798145074,2715.7267701466476,1614.5661238761033,1.1830712494140405e-9,1.6590935716582129e-9,1.9644828318516428e-9,8.46671820158641e-9,2.8939662215396575e-9],\"type\":\"scatter\",\"xaxis\":\"x\",\"yaxis\":\"y\"},{\"line\":{\"color\":\"purple\",\"shape\":\"hv\"},\"mode\":\"lines+markers\",\"name\":\"Net Battery Charge (kW)\",\"x\":[0,1,2,3,4,5,6,7,8,9,10,11,12,13,14,15,16,17,18,19,20,21,22,23],\"y\":[0.00002121344605876825,-5.256945158002788e-6,-3.4508632320419687e-6,-2.1743728901318525e-6,1864.3524304737612,3589.6214315745165,-965.5174321781044,-409.41145897322804,-248.57830393538623,-177.55935649036095,-140.36500938554835,-117.27181053534284,-100.94638724625807,-89.71747646086362,-80.94475826594572,-74.51707106992268,-70.00573058549291,-455.19754585335255,-1487.6864893238962,5.782128833012448e-7,4.7573953044630186e-7,4.0120369829979454e-7,2.6148505238700485e-6,-2.26267931000496e-6],\"type\":\"scatter\",\"xaxis\":\"x\",\"yaxis\":\"y\"}],                        {\"template\":{\"data\":{\"histogram2dcontour\":[{\"type\":\"histogram2dcontour\",\"colorbar\":{\"outlinewidth\":0,\"ticks\":\"\"},\"colorscale\":[[0.0,\"#0d0887\"],[0.1111111111111111,\"#46039f\"],[0.2222222222222222,\"#7201a8\"],[0.3333333333333333,\"#9c179e\"],[0.4444444444444444,\"#bd3786\"],[0.5555555555555556,\"#d8576b\"],[0.6666666666666666,\"#ed7953\"],[0.7777777777777778,\"#fb9f3a\"],[0.8888888888888888,\"#fdca26\"],[1.0,\"#f0f921\"]]}],\"choropleth\":[{\"type\":\"choropleth\",\"colorbar\":{\"outlinewidth\":0,\"ticks\":\"\"}}],\"histogram2d\":[{\"type\":\"histogram2d\",\"colorbar\":{\"outlinewidth\":0,\"ticks\":\"\"},\"colorscale\":[[0.0,\"#0d0887\"],[0.1111111111111111,\"#46039f\"],[0.2222222222222222,\"#7201a8\"],[0.3333333333333333,\"#9c179e\"],[0.4444444444444444,\"#bd3786\"],[0.5555555555555556,\"#d8576b\"],[0.6666666666666666,\"#ed7953\"],[0.7777777777777778,\"#fb9f3a\"],[0.8888888888888888,\"#fdca26\"],[1.0,\"#f0f921\"]]}],\"heatmap\":[{\"type\":\"heatmap\",\"colorbar\":{\"outlinewidth\":0,\"ticks\":\"\"},\"colorscale\":[[0.0,\"#0d0887\"],[0.1111111111111111,\"#46039f\"],[0.2222222222222222,\"#7201a8\"],[0.3333333333333333,\"#9c179e\"],[0.4444444444444444,\"#bd3786\"],[0.5555555555555556,\"#d8576b\"],[0.6666666666666666,\"#ed7953\"],[0.7777777777777778,\"#fb9f3a\"],[0.8888888888888888,\"#fdca26\"],[1.0,\"#f0f921\"]]}],\"heatmapgl\":[{\"type\":\"heatmapgl\",\"colorbar\":{\"outlinewidth\":0,\"ticks\":\"\"},\"colorscale\":[[0.0,\"#0d0887\"],[0.1111111111111111,\"#46039f\"],[0.2222222222222222,\"#7201a8\"],[0.3333333333333333,\"#9c179e\"],[0.4444444444444444,\"#bd3786\"],[0.5555555555555556,\"#d8576b\"],[0.6666666666666666,\"#ed7953\"],[0.7777777777777778,\"#fb9f3a\"],[0.8888888888888888,\"#fdca26\"],[1.0,\"#f0f921\"]]}],\"contourcarpet\":[{\"type\":\"contourcarpet\",\"colorbar\":{\"outlinewidth\":0,\"ticks\":\"\"}}],\"contour\":[{\"type\":\"contour\",\"colorbar\":{\"outlinewidth\":0,\"ticks\":\"\"},\"colorscale\":[[0.0,\"#0d0887\"],[0.1111111111111111,\"#46039f\"],[0.2222222222222222,\"#7201a8\"],[0.3333333333333333,\"#9c179e\"],[0.4444444444444444,\"#bd3786\"],[0.5555555555555556,\"#d8576b\"],[0.6666666666666666,\"#ed7953\"],[0.7777777777777778,\"#fb9f3a\"],[0.8888888888888888,\"#fdca26\"],[1.0,\"#f0f921\"]]}],\"surface\":[{\"type\":\"surface\",\"colorbar\":{\"outlinewidth\":0,\"ticks\":\"\"},\"colorscale\":[[0.0,\"#0d0887\"],[0.1111111111111111,\"#46039f\"],[0.2222222222222222,\"#7201a8\"],[0.3333333333333333,\"#9c179e\"],[0.4444444444444444,\"#bd3786\"],[0.5555555555555556,\"#d8576b\"],[0.6666666666666666,\"#ed7953\"],[0.7777777777777778,\"#fb9f3a\"],[0.8888888888888888,\"#fdca26\"],[1.0,\"#f0f921\"]]}],\"mesh3d\":[{\"type\":\"mesh3d\",\"colorbar\":{\"outlinewidth\":0,\"ticks\":\"\"}}],\"scatter\":[{\"fillpattern\":{\"fillmode\":\"overlay\",\"size\":10,\"solidity\":0.2},\"type\":\"scatter\"}],\"parcoords\":[{\"type\":\"parcoords\",\"line\":{\"colorbar\":{\"outlinewidth\":0,\"ticks\":\"\"}}}],\"scatterpolargl\":[{\"type\":\"scatterpolargl\",\"marker\":{\"colorbar\":{\"outlinewidth\":0,\"ticks\":\"\"}}}],\"bar\":[{\"error_x\":{\"color\":\"#2a3f5f\"},\"error_y\":{\"color\":\"#2a3f5f\"},\"marker\":{\"line\":{\"color\":\"#E5ECF6\",\"width\":0.5},\"pattern\":{\"fillmode\":\"overlay\",\"size\":10,\"solidity\":0.2}},\"type\":\"bar\"}],\"scattergeo\":[{\"type\":\"scattergeo\",\"marker\":{\"colorbar\":{\"outlinewidth\":0,\"ticks\":\"\"}}}],\"scatterpolar\":[{\"type\":\"scatterpolar\",\"marker\":{\"colorbar\":{\"outlinewidth\":0,\"ticks\":\"\"}}}],\"histogram\":[{\"marker\":{\"pattern\":{\"fillmode\":\"overlay\",\"size\":10,\"solidity\":0.2}},\"type\":\"histogram\"}],\"scattergl\":[{\"type\":\"scattergl\",\"marker\":{\"colorbar\":{\"outlinewidth\":0,\"ticks\":\"\"}}}],\"scatter3d\":[{\"type\":\"scatter3d\",\"line\":{\"colorbar\":{\"outlinewidth\":0,\"ticks\":\"\"}},\"marker\":{\"colorbar\":{\"outlinewidth\":0,\"ticks\":\"\"}}}],\"scattermapbox\":[{\"type\":\"scattermapbox\",\"marker\":{\"colorbar\":{\"outlinewidth\":0,\"ticks\":\"\"}}}],\"scatterternary\":[{\"type\":\"scatterternary\",\"marker\":{\"colorbar\":{\"outlinewidth\":0,\"ticks\":\"\"}}}],\"scattercarpet\":[{\"type\":\"scattercarpet\",\"marker\":{\"colorbar\":{\"outlinewidth\":0,\"ticks\":\"\"}}}],\"carpet\":[{\"aaxis\":{\"endlinecolor\":\"#2a3f5f\",\"gridcolor\":\"white\",\"linecolor\":\"white\",\"minorgridcolor\":\"white\",\"startlinecolor\":\"#2a3f5f\"},\"baxis\":{\"endlinecolor\":\"#2a3f5f\",\"gridcolor\":\"white\",\"linecolor\":\"white\",\"minorgridcolor\":\"white\",\"startlinecolor\":\"#2a3f5f\"},\"type\":\"carpet\"}],\"table\":[{\"cells\":{\"fill\":{\"color\":\"#EBF0F8\"},\"line\":{\"color\":\"white\"}},\"header\":{\"fill\":{\"color\":\"#C8D4E3\"},\"line\":{\"color\":\"white\"}},\"type\":\"table\"}],\"barpolar\":[{\"marker\":{\"line\":{\"color\":\"#E5ECF6\",\"width\":0.5},\"pattern\":{\"fillmode\":\"overlay\",\"size\":10,\"solidity\":0.2}},\"type\":\"barpolar\"}],\"pie\":[{\"automargin\":true,\"type\":\"pie\"}]},\"layout\":{\"autotypenumbers\":\"strict\",\"colorway\":[\"#636efa\",\"#EF553B\",\"#00cc96\",\"#ab63fa\",\"#FFA15A\",\"#19d3f3\",\"#FF6692\",\"#B6E880\",\"#FF97FF\",\"#FECB52\"],\"font\":{\"color\":\"#2a3f5f\"},\"hovermode\":\"closest\",\"hoverlabel\":{\"align\":\"left\"},\"paper_bgcolor\":\"white\",\"plot_bgcolor\":\"#E5ECF6\",\"polar\":{\"bgcolor\":\"#E5ECF6\",\"angularaxis\":{\"gridcolor\":\"white\",\"linecolor\":\"white\",\"ticks\":\"\"},\"radialaxis\":{\"gridcolor\":\"white\",\"linecolor\":\"white\",\"ticks\":\"\"}},\"ternary\":{\"bgcolor\":\"#E5ECF6\",\"aaxis\":{\"gridcolor\":\"white\",\"linecolor\":\"white\",\"ticks\":\"\"},\"baxis\":{\"gridcolor\":\"white\",\"linecolor\":\"white\",\"ticks\":\"\"},\"caxis\":{\"gridcolor\":\"white\",\"linecolor\":\"white\",\"ticks\":\"\"}},\"coloraxis\":{\"colorbar\":{\"outlinewidth\":0,\"ticks\":\"\"}},\"colorscale\":{\"sequential\":[[0.0,\"#0d0887\"],[0.1111111111111111,\"#46039f\"],[0.2222222222222222,\"#7201a8\"],[0.3333333333333333,\"#9c179e\"],[0.4444444444444444,\"#bd3786\"],[0.5555555555555556,\"#d8576b\"],[0.6666666666666666,\"#ed7953\"],[0.7777777777777778,\"#fb9f3a\"],[0.8888888888888888,\"#fdca26\"],[1.0,\"#f0f921\"]],\"sequentialminus\":[[0.0,\"#0d0887\"],[0.1111111111111111,\"#46039f\"],[0.2222222222222222,\"#7201a8\"],[0.3333333333333333,\"#9c179e\"],[0.4444444444444444,\"#bd3786\"],[0.5555555555555556,\"#d8576b\"],[0.6666666666666666,\"#ed7953\"],[0.7777777777777778,\"#fb9f3a\"],[0.8888888888888888,\"#fdca26\"],[1.0,\"#f0f921\"]],\"diverging\":[[0,\"#8e0152\"],[0.1,\"#c51b7d\"],[0.2,\"#de77ae\"],[0.3,\"#f1b6da\"],[0.4,\"#fde0ef\"],[0.5,\"#f7f7f7\"],[0.6,\"#e6f5d0\"],[0.7,\"#b8e186\"],[0.8,\"#7fbc41\"],[0.9,\"#4d9221\"],[1,\"#276419\"]]},\"xaxis\":{\"gridcolor\":\"white\",\"linecolor\":\"white\",\"ticks\":\"\",\"title\":{\"standoff\":15},\"zerolinecolor\":\"white\",\"automargin\":true,\"zerolinewidth\":2},\"yaxis\":{\"gridcolor\":\"white\",\"linecolor\":\"white\",\"ticks\":\"\",\"title\":{\"standoff\":15},\"zerolinecolor\":\"white\",\"automargin\":true,\"zerolinewidth\":2},\"scene\":{\"xaxis\":{\"backgroundcolor\":\"#E5ECF6\",\"gridcolor\":\"white\",\"linecolor\":\"white\",\"showbackground\":true,\"ticks\":\"\",\"zerolinecolor\":\"white\",\"gridwidth\":2},\"yaxis\":{\"backgroundcolor\":\"#E5ECF6\",\"gridcolor\":\"white\",\"linecolor\":\"white\",\"showbackground\":true,\"ticks\":\"\",\"zerolinecolor\":\"white\",\"gridwidth\":2},\"zaxis\":{\"backgroundcolor\":\"#E5ECF6\",\"gridcolor\":\"white\",\"linecolor\":\"white\",\"showbackground\":true,\"ticks\":\"\",\"zerolinecolor\":\"white\",\"gridwidth\":2}},\"shapedefaults\":{\"line\":{\"color\":\"#2a3f5f\"}},\"annotationdefaults\":{\"arrowcolor\":\"#2a3f5f\",\"arrowhead\":0,\"arrowwidth\":1},\"geo\":{\"bgcolor\":\"white\",\"landcolor\":\"#E5ECF6\",\"subunitcolor\":\"white\",\"showland\":true,\"showlakes\":true,\"lakecolor\":\"white\"},\"title\":{\"x\":0.05},\"mapbox\":{\"style\":\"light\"}}},\"xaxis\":{\"anchor\":\"y\",\"domain\":[0.0,0.94],\"title\":{\"text\":\"Time (Hours)\"},\"tickvals\":[0,1,2,3,4,5,6,7,8,9,10,11,12,13,14,15,16,17,18,19,20,21,22,23],\"ticktext\":[\"0\",\"1\",\"2\",\"3\",\"4\",\"5\",\"6\",\"7\",\"8\",\"9\",\"10\",\"11\",\"12\",\"13\",\"14\",\"15\",\"16\",\"17\",\"18\",\"19\",\"20\",\"21\",\"22\",\"23\"]},\"yaxis\":{\"anchor\":\"x\",\"domain\":[0.0,1.0],\"title\":{\"text\":\"Power (kW)\"},\"rangemode\":\"tozero\"},\"yaxis2\":{\"anchor\":\"y\",\"overlaying\":\"y\",\"side\":\"right\",\"title\":{\"text\":\"Energy (kWh)\"},\"rangemode\":\"tozero\"},\"shapes\":[{\"fillcolor\":\"gray\",\"layer\":\"below\",\"line\":{\"width\":0},\"opacity\":0.3,\"type\":\"rect\",\"x0\":0,\"x1\":8,\"xref\":\"x\",\"y0\":0.95,\"y1\":1,\"yref\":\"paper\"},{\"fillcolor\":\"blue\",\"layer\":\"below\",\"line\":{\"width\":0},\"opacity\":0.3,\"type\":\"rect\",\"x0\":8,\"x1\":24,\"xref\":\"x\",\"y0\":0.95,\"y1\":1,\"yref\":\"paper\"},{\"fillcolor\":\"red\",\"layer\":\"below\",\"line\":{\"width\":0},\"opacity\":0.3,\"type\":\"rect\",\"x0\":6,\"x1\":19,\"xref\":\"x\",\"y0\":0,\"y1\":0.95,\"yref\":\"paper\"}],\"annotations\":[{\"font\":{\"color\":\"black\",\"family\":\"Arial\",\"size\":11},\"showarrow\":false,\"text\":\"\\u003cb\\u003e$0.02\\u002fkWh\\u003c\\u002fb\\u003e\",\"x\":4.0,\"xref\":\"x\",\"y\":1,\"yref\":\"paper\"},{\"font\":{\"color\":\"black\",\"family\":\"Arial\",\"size\":11},\"showarrow\":false,\"text\":\"\\u003cb\\u003e$0.33\\u002fkWh\\u003c\\u002fb\\u003e\",\"x\":16.0,\"xref\":\"x\",\"y\":1,\"yref\":\"paper\"}],\"title\":{\"text\":\"MPC with Horizon 3 Hours\",\"x\":0.5},\"legend\":{\"x\":0.5,\"y\":-0.2,\"orientation\":\"h\",\"xanchor\":\"center\"}},                        {\"responsive\": true}                    ).then(function(){\n",
              "                            \n",
              "var gd = document.getElementById('ef184598-07d8-436c-b035-8299fc774bfe');\n",
              "var x = new MutationObserver(function (mutations, observer) {{\n",
              "        var display = window.getComputedStyle(gd).display;\n",
              "        if (!display || display === 'none') {{\n",
              "            console.log([gd, 'removed!']);\n",
              "            Plotly.purge(gd);\n",
              "            observer.disconnect();\n",
              "        }}\n",
              "}});\n",
              "\n",
              "// Listen for the removal of the full notebook cells\n",
              "var notebookContainer = gd.closest('#notebook-container');\n",
              "if (notebookContainer) {{\n",
              "    x.observe(notebookContainer, {childList: true});\n",
              "}}\n",
              "\n",
              "// Listen for the clearing of the current output cell\n",
              "var outputEl = gd.closest('.output');\n",
              "if (outputEl) {{\n",
              "    x.observe(outputEl, {childList: true});\n",
              "}}\n",
              "\n",
              "                        })                };                            </script>        </div>\n",
              "</body>\n",
              "</html>"
            ]
          },
          "metadata": {}
        },
        {
          "output_type": "stream",
          "name": "stdout",
          "text": [
            "Total Cost of the System with Battery: $300088.83\n",
            "Total Cost of Power Drawn from the Grid: $5290.07\n",
            "Total Unmet Load without Battery during Outages: 37844.18 kW\n",
            "Total Unmet Load with Battery: 26799.887380534707 kW\n",
            "Percent Unmet Load Change: -29.18%\n",
            "Percentage Difference in Cost: -28.76%\n"
          ]
        },
        {
          "output_type": "display_data",
          "data": {
            "text/html": [
              "<html>\n",
              "<head><meta charset=\"utf-8\" /></head>\n",
              "<body>\n",
              "    <div>            <script src=\"https://cdnjs.cloudflare.com/ajax/libs/mathjax/2.7.5/MathJax.js?config=TeX-AMS-MML_SVG\"></script><script type=\"text/javascript\">if (window.MathJax && window.MathJax.Hub && window.MathJax.Hub.Config) {window.MathJax.Hub.Config({SVG: {font: \"STIX-Web\"}});}</script>                <script type=\"text/javascript\">window.PlotlyConfig = {MathJaxConfig: 'local'};</script>\n",
              "        <script charset=\"utf-8\" src=\"https://cdn.plot.ly/plotly-2.35.2.min.js\"></script>                <div id=\"19f49231-33f3-4460-aba1-1063175e2ddf\" class=\"plotly-graph-div\" style=\"height:525px; width:100%;\"></div>            <script type=\"text/javascript\">                                    window.PLOTLYENV=window.PLOTLYENV || {};                                    if (document.getElementById(\"19f49231-33f3-4460-aba1-1063175e2ddf\")) {                    Plotly.newPlot(                        \"19f49231-33f3-4460-aba1-1063175e2ddf\",                        [{\"line\":{\"shape\":\"hv\"},\"mode\":\"lines\",\"name\":\"Load (kW)\",\"x\":[0,1,2,3,4,5,6,7,8,9,10,11,12,13,14,15,16,17,18,19,20,21,22,23],\"y\":[2319.2920116,2380.4081100000003,2261.0461464000005,2187.0069048,2163.0366215999998,2208.8594160000002,2359.0861632,2549.2478652,2713.1845608,2829.8846664000002,2892.6761976000003,2932.5245472,2976.736644,3004.6746456,3052.9829052000005,3106.1002248,3153.9091104,3170.924316,3102.2526132000003,3009.9430620000003,2905.4190996,2849.984964,2741.1421968,2585.3984208],\"type\":\"scatter\",\"xaxis\":\"x\",\"yaxis\":\"y\"},{\"line\":{\"color\":\"green\",\"shape\":\"hv\"},\"mode\":\"lines\",\"name\":\"Grid Power (kW)\",\"x\":[0,1,2,3,4,5,6,7,8,9,10,11,12,13,14,15,16,17,18,19,20,21,22,23],\"y\":[2319.2920142138146,3956.8585634366086,3879.8331546264717,4216.390240268957,5064.13949480643,7718.070414414312,1.7226717383118378e-15,1.8869727970378796e-15,1.5742686808510427e-14,1.0628576310901974e-15,6.673193666377333e-16,7.025662846854359e-16,8.837732413784824e-16,1.1582244201021483e-15,3.182374381004049e-15,3.708327113898578e-14,3.6951071865212726e-14,3.6205291297532345e-14,2.9475002782842005e-14,3009.943065928332,2905.419100091481,2849.984967966686,2741.142205731354,2585.3984085862444],\"type\":\"scatter\",\"xaxis\":\"x\",\"yaxis\":\"y\"},{\"line\":{\"color\":\"red\",\"dash\":\"dash\",\"shape\":\"hv\"},\"mode\":\"lines\",\"name\":\"Unmet Load (kW)\",\"x\":[0,1,2,3,4,5,6,7,8,9,10,11,12,13,14,15,16,17,18,19,20,21,22,23],\"y\":[1.3972953052129369e-10,3.7702271363673113e-10,3.4292023796766253e-9,2.0773030965089976e-9,7.222265217904575e-10,1.2443066161346237e-9,272.26400978999794,1157.9231390317238,1870.0386356417332,2248.225318705746,2449.627079334303,2574.724788007574,2676.9416302029663,2746.2925696631355,2642.318625571634,2620.5712195783462,2485.6009315754395,2004.1331542023972,1051.2262791822009,4.4673223575864065e-9,3.7681717690678916e-9,7.709835987804042e-9,2.17724344180615e-8,1.8045669672304602e-9],\"type\":\"scatter\",\"xaxis\":\"x\",\"yaxis\":\"y\"},{\"line\":{\"color\":\"purple\",\"shape\":\"hv\"},\"mode\":\"lines+markers\",\"name\":\"Net Battery Charge (kW)\",\"x\":[0,1,2,3,4,5,6,7,8,9,10,11,12,13,14,15,16,17,18,19,20,21,22,23],\"y\":[2.613954181394056e-6,1576.4504534369848,1618.7870082299003,2029.3833354710353,2901.1028732071513,5509.210998415558,-2086.8221534100026,-1391.3247261682761,-843.1459251582666,-581.6593476942551,-443.049118265697,-357.799759192426,-299.7950137970339,-258.38207593686417,-410.66427962836656,-485.52900522165356,-668.3081788245605,-1166.7911617976026,-2051.0263340177994,3.932799055405172e-6,4.952489907731473e-7,3.974395773156921e-6,8.953126541347337e-6,-0.00001221195111126204],\"type\":\"scatter\",\"xaxis\":\"x\",\"yaxis\":\"y\"}],                        {\"template\":{\"data\":{\"histogram2dcontour\":[{\"type\":\"histogram2dcontour\",\"colorbar\":{\"outlinewidth\":0,\"ticks\":\"\"},\"colorscale\":[[0.0,\"#0d0887\"],[0.1111111111111111,\"#46039f\"],[0.2222222222222222,\"#7201a8\"],[0.3333333333333333,\"#9c179e\"],[0.4444444444444444,\"#bd3786\"],[0.5555555555555556,\"#d8576b\"],[0.6666666666666666,\"#ed7953\"],[0.7777777777777778,\"#fb9f3a\"],[0.8888888888888888,\"#fdca26\"],[1.0,\"#f0f921\"]]}],\"choropleth\":[{\"type\":\"choropleth\",\"colorbar\":{\"outlinewidth\":0,\"ticks\":\"\"}}],\"histogram2d\":[{\"type\":\"histogram2d\",\"colorbar\":{\"outlinewidth\":0,\"ticks\":\"\"},\"colorscale\":[[0.0,\"#0d0887\"],[0.1111111111111111,\"#46039f\"],[0.2222222222222222,\"#7201a8\"],[0.3333333333333333,\"#9c179e\"],[0.4444444444444444,\"#bd3786\"],[0.5555555555555556,\"#d8576b\"],[0.6666666666666666,\"#ed7953\"],[0.7777777777777778,\"#fb9f3a\"],[0.8888888888888888,\"#fdca26\"],[1.0,\"#f0f921\"]]}],\"heatmap\":[{\"type\":\"heatmap\",\"colorbar\":{\"outlinewidth\":0,\"ticks\":\"\"},\"colorscale\":[[0.0,\"#0d0887\"],[0.1111111111111111,\"#46039f\"],[0.2222222222222222,\"#7201a8\"],[0.3333333333333333,\"#9c179e\"],[0.4444444444444444,\"#bd3786\"],[0.5555555555555556,\"#d8576b\"],[0.6666666666666666,\"#ed7953\"],[0.7777777777777778,\"#fb9f3a\"],[0.8888888888888888,\"#fdca26\"],[1.0,\"#f0f921\"]]}],\"heatmapgl\":[{\"type\":\"heatmapgl\",\"colorbar\":{\"outlinewidth\":0,\"ticks\":\"\"},\"colorscale\":[[0.0,\"#0d0887\"],[0.1111111111111111,\"#46039f\"],[0.2222222222222222,\"#7201a8\"],[0.3333333333333333,\"#9c179e\"],[0.4444444444444444,\"#bd3786\"],[0.5555555555555556,\"#d8576b\"],[0.6666666666666666,\"#ed7953\"],[0.7777777777777778,\"#fb9f3a\"],[0.8888888888888888,\"#fdca26\"],[1.0,\"#f0f921\"]]}],\"contourcarpet\":[{\"type\":\"contourcarpet\",\"colorbar\":{\"outlinewidth\":0,\"ticks\":\"\"}}],\"contour\":[{\"type\":\"contour\",\"colorbar\":{\"outlinewidth\":0,\"ticks\":\"\"},\"colorscale\":[[0.0,\"#0d0887\"],[0.1111111111111111,\"#46039f\"],[0.2222222222222222,\"#7201a8\"],[0.3333333333333333,\"#9c179e\"],[0.4444444444444444,\"#bd3786\"],[0.5555555555555556,\"#d8576b\"],[0.6666666666666666,\"#ed7953\"],[0.7777777777777778,\"#fb9f3a\"],[0.8888888888888888,\"#fdca26\"],[1.0,\"#f0f921\"]]}],\"surface\":[{\"type\":\"surface\",\"colorbar\":{\"outlinewidth\":0,\"ticks\":\"\"},\"colorscale\":[[0.0,\"#0d0887\"],[0.1111111111111111,\"#46039f\"],[0.2222222222222222,\"#7201a8\"],[0.3333333333333333,\"#9c179e\"],[0.4444444444444444,\"#bd3786\"],[0.5555555555555556,\"#d8576b\"],[0.6666666666666666,\"#ed7953\"],[0.7777777777777778,\"#fb9f3a\"],[0.8888888888888888,\"#fdca26\"],[1.0,\"#f0f921\"]]}],\"mesh3d\":[{\"type\":\"mesh3d\",\"colorbar\":{\"outlinewidth\":0,\"ticks\":\"\"}}],\"scatter\":[{\"fillpattern\":{\"fillmode\":\"overlay\",\"size\":10,\"solidity\":0.2},\"type\":\"scatter\"}],\"parcoords\":[{\"type\":\"parcoords\",\"line\":{\"colorbar\":{\"outlinewidth\":0,\"ticks\":\"\"}}}],\"scatterpolargl\":[{\"type\":\"scatterpolargl\",\"marker\":{\"colorbar\":{\"outlinewidth\":0,\"ticks\":\"\"}}}],\"bar\":[{\"error_x\":{\"color\":\"#2a3f5f\"},\"error_y\":{\"color\":\"#2a3f5f\"},\"marker\":{\"line\":{\"color\":\"#E5ECF6\",\"width\":0.5},\"pattern\":{\"fillmode\":\"overlay\",\"size\":10,\"solidity\":0.2}},\"type\":\"bar\"}],\"scattergeo\":[{\"type\":\"scattergeo\",\"marker\":{\"colorbar\":{\"outlinewidth\":0,\"ticks\":\"\"}}}],\"scatterpolar\":[{\"type\":\"scatterpolar\",\"marker\":{\"colorbar\":{\"outlinewidth\":0,\"ticks\":\"\"}}}],\"histogram\":[{\"marker\":{\"pattern\":{\"fillmode\":\"overlay\",\"size\":10,\"solidity\":0.2}},\"type\":\"histogram\"}],\"scattergl\":[{\"type\":\"scattergl\",\"marker\":{\"colorbar\":{\"outlinewidth\":0,\"ticks\":\"\"}}}],\"scatter3d\":[{\"type\":\"scatter3d\",\"line\":{\"colorbar\":{\"outlinewidth\":0,\"ticks\":\"\"}},\"marker\":{\"colorbar\":{\"outlinewidth\":0,\"ticks\":\"\"}}}],\"scattermapbox\":[{\"type\":\"scattermapbox\",\"marker\":{\"colorbar\":{\"outlinewidth\":0,\"ticks\":\"\"}}}],\"scatterternary\":[{\"type\":\"scatterternary\",\"marker\":{\"colorbar\":{\"outlinewidth\":0,\"ticks\":\"\"}}}],\"scattercarpet\":[{\"type\":\"scattercarpet\",\"marker\":{\"colorbar\":{\"outlinewidth\":0,\"ticks\":\"\"}}}],\"carpet\":[{\"aaxis\":{\"endlinecolor\":\"#2a3f5f\",\"gridcolor\":\"white\",\"linecolor\":\"white\",\"minorgridcolor\":\"white\",\"startlinecolor\":\"#2a3f5f\"},\"baxis\":{\"endlinecolor\":\"#2a3f5f\",\"gridcolor\":\"white\",\"linecolor\":\"white\",\"minorgridcolor\":\"white\",\"startlinecolor\":\"#2a3f5f\"},\"type\":\"carpet\"}],\"table\":[{\"cells\":{\"fill\":{\"color\":\"#EBF0F8\"},\"line\":{\"color\":\"white\"}},\"header\":{\"fill\":{\"color\":\"#C8D4E3\"},\"line\":{\"color\":\"white\"}},\"type\":\"table\"}],\"barpolar\":[{\"marker\":{\"line\":{\"color\":\"#E5ECF6\",\"width\":0.5},\"pattern\":{\"fillmode\":\"overlay\",\"size\":10,\"solidity\":0.2}},\"type\":\"barpolar\"}],\"pie\":[{\"automargin\":true,\"type\":\"pie\"}]},\"layout\":{\"autotypenumbers\":\"strict\",\"colorway\":[\"#636efa\",\"#EF553B\",\"#00cc96\",\"#ab63fa\",\"#FFA15A\",\"#19d3f3\",\"#FF6692\",\"#B6E880\",\"#FF97FF\",\"#FECB52\"],\"font\":{\"color\":\"#2a3f5f\"},\"hovermode\":\"closest\",\"hoverlabel\":{\"align\":\"left\"},\"paper_bgcolor\":\"white\",\"plot_bgcolor\":\"#E5ECF6\",\"polar\":{\"bgcolor\":\"#E5ECF6\",\"angularaxis\":{\"gridcolor\":\"white\",\"linecolor\":\"white\",\"ticks\":\"\"},\"radialaxis\":{\"gridcolor\":\"white\",\"linecolor\":\"white\",\"ticks\":\"\"}},\"ternary\":{\"bgcolor\":\"#E5ECF6\",\"aaxis\":{\"gridcolor\":\"white\",\"linecolor\":\"white\",\"ticks\":\"\"},\"baxis\":{\"gridcolor\":\"white\",\"linecolor\":\"white\",\"ticks\":\"\"},\"caxis\":{\"gridcolor\":\"white\",\"linecolor\":\"white\",\"ticks\":\"\"}},\"coloraxis\":{\"colorbar\":{\"outlinewidth\":0,\"ticks\":\"\"}},\"colorscale\":{\"sequential\":[[0.0,\"#0d0887\"],[0.1111111111111111,\"#46039f\"],[0.2222222222222222,\"#7201a8\"],[0.3333333333333333,\"#9c179e\"],[0.4444444444444444,\"#bd3786\"],[0.5555555555555556,\"#d8576b\"],[0.6666666666666666,\"#ed7953\"],[0.7777777777777778,\"#fb9f3a\"],[0.8888888888888888,\"#fdca26\"],[1.0,\"#f0f921\"]],\"sequentialminus\":[[0.0,\"#0d0887\"],[0.1111111111111111,\"#46039f\"],[0.2222222222222222,\"#7201a8\"],[0.3333333333333333,\"#9c179e\"],[0.4444444444444444,\"#bd3786\"],[0.5555555555555556,\"#d8576b\"],[0.6666666666666666,\"#ed7953\"],[0.7777777777777778,\"#fb9f3a\"],[0.8888888888888888,\"#fdca26\"],[1.0,\"#f0f921\"]],\"diverging\":[[0,\"#8e0152\"],[0.1,\"#c51b7d\"],[0.2,\"#de77ae\"],[0.3,\"#f1b6da\"],[0.4,\"#fde0ef\"],[0.5,\"#f7f7f7\"],[0.6,\"#e6f5d0\"],[0.7,\"#b8e186\"],[0.8,\"#7fbc41\"],[0.9,\"#4d9221\"],[1,\"#276419\"]]},\"xaxis\":{\"gridcolor\":\"white\",\"linecolor\":\"white\",\"ticks\":\"\",\"title\":{\"standoff\":15},\"zerolinecolor\":\"white\",\"automargin\":true,\"zerolinewidth\":2},\"yaxis\":{\"gridcolor\":\"white\",\"linecolor\":\"white\",\"ticks\":\"\",\"title\":{\"standoff\":15},\"zerolinecolor\":\"white\",\"automargin\":true,\"zerolinewidth\":2},\"scene\":{\"xaxis\":{\"backgroundcolor\":\"#E5ECF6\",\"gridcolor\":\"white\",\"linecolor\":\"white\",\"showbackground\":true,\"ticks\":\"\",\"zerolinecolor\":\"white\",\"gridwidth\":2},\"yaxis\":{\"backgroundcolor\":\"#E5ECF6\",\"gridcolor\":\"white\",\"linecolor\":\"white\",\"showbackground\":true,\"ticks\":\"\",\"zerolinecolor\":\"white\",\"gridwidth\":2},\"zaxis\":{\"backgroundcolor\":\"#E5ECF6\",\"gridcolor\":\"white\",\"linecolor\":\"white\",\"showbackground\":true,\"ticks\":\"\",\"zerolinecolor\":\"white\",\"gridwidth\":2}},\"shapedefaults\":{\"line\":{\"color\":\"#2a3f5f\"}},\"annotationdefaults\":{\"arrowcolor\":\"#2a3f5f\",\"arrowhead\":0,\"arrowwidth\":1},\"geo\":{\"bgcolor\":\"white\",\"landcolor\":\"#E5ECF6\",\"subunitcolor\":\"white\",\"showland\":true,\"showlakes\":true,\"lakecolor\":\"white\"},\"title\":{\"x\":0.05},\"mapbox\":{\"style\":\"light\"}}},\"xaxis\":{\"anchor\":\"y\",\"domain\":[0.0,0.94],\"title\":{\"text\":\"Time (Hours)\"},\"tickvals\":[0,1,2,3,4,5,6,7,8,9,10,11,12,13,14,15,16,17,18,19,20,21,22,23],\"ticktext\":[\"0\",\"1\",\"2\",\"3\",\"4\",\"5\",\"6\",\"7\",\"8\",\"9\",\"10\",\"11\",\"12\",\"13\",\"14\",\"15\",\"16\",\"17\",\"18\",\"19\",\"20\",\"21\",\"22\",\"23\"]},\"yaxis\":{\"anchor\":\"x\",\"domain\":[0.0,1.0],\"title\":{\"text\":\"Power (kW)\"},\"rangemode\":\"tozero\"},\"yaxis2\":{\"anchor\":\"y\",\"overlaying\":\"y\",\"side\":\"right\",\"title\":{\"text\":\"Energy (kWh)\"},\"rangemode\":\"tozero\"},\"shapes\":[{\"fillcolor\":\"gray\",\"layer\":\"below\",\"line\":{\"width\":0},\"opacity\":0.3,\"type\":\"rect\",\"x0\":0,\"x1\":8,\"xref\":\"x\",\"y0\":0.95,\"y1\":1,\"yref\":\"paper\"},{\"fillcolor\":\"blue\",\"layer\":\"below\",\"line\":{\"width\":0},\"opacity\":0.3,\"type\":\"rect\",\"x0\":8,\"x1\":24,\"xref\":\"x\",\"y0\":0.95,\"y1\":1,\"yref\":\"paper\"},{\"fillcolor\":\"red\",\"layer\":\"below\",\"line\":{\"width\":0},\"opacity\":0.3,\"type\":\"rect\",\"x0\":6,\"x1\":19,\"xref\":\"x\",\"y0\":0,\"y1\":0.95,\"yref\":\"paper\"}],\"annotations\":[{\"font\":{\"color\":\"black\",\"family\":\"Arial\",\"size\":11},\"showarrow\":false,\"text\":\"\\u003cb\\u003e$0.02\\u002fkWh\\u003c\\u002fb\\u003e\",\"x\":4.0,\"xref\":\"x\",\"y\":1,\"yref\":\"paper\"},{\"font\":{\"color\":\"black\",\"family\":\"Arial\",\"size\":11},\"showarrow\":false,\"text\":\"\\u003cb\\u003e$0.33\\u002fkWh\\u003c\\u002fb\\u003e\",\"x\":16.0,\"xref\":\"x\",\"y\":1,\"yref\":\"paper\"}],\"title\":{\"text\":\"MPC with Horizon 6 Hours\",\"x\":0.5},\"legend\":{\"x\":0.5,\"y\":-0.2,\"orientation\":\"h\",\"xanchor\":\"center\"}},                        {\"responsive\": true}                    ).then(function(){\n",
              "                            \n",
              "var gd = document.getElementById('19f49231-33f3-4460-aba1-1063175e2ddf');\n",
              "var x = new MutationObserver(function (mutations, observer) {{\n",
              "        var display = window.getComputedStyle(gd).display;\n",
              "        if (!display || display === 'none') {{\n",
              "            console.log([gd, 'removed!']);\n",
              "            Plotly.purge(gd);\n",
              "            observer.disconnect();\n",
              "        }}\n",
              "}});\n",
              "\n",
              "// Listen for the removal of the full notebook cells\n",
              "var notebookContainer = gd.closest('#notebook-container');\n",
              "if (notebookContainer) {{\n",
              "    x.observe(notebookContainer, {childList: true});\n",
              "}}\n",
              "\n",
              "// Listen for the clearing of the current output cell\n",
              "var outputEl = gd.closest('.output');\n",
              "if (outputEl) {{\n",
              "    x.observe(outputEl, {childList: true});\n",
              "}}\n",
              "\n",
              "                        })                };                            </script>        </div>\n",
              "</body>\n",
              "</html>"
            ]
          },
          "metadata": {}
        },
        {
          "output_type": "stream",
          "name": "stdout",
          "text": [
            "Total Cost of the System with Battery: $257502.17\n",
            "Total Cost of Power Drawn from the Grid: $5401.73\n",
            "Total Unmet Load without Battery during Outages: 37844.18 kW\n",
            "Total Unmet Load with Battery: 22918.222312113325 kW\n",
            "Percent Unmet Load Change: -39.44%\n",
            "Percentage Difference in Cost: -38.87%\n"
          ]
        },
        {
          "output_type": "display_data",
          "data": {
            "text/html": [
              "<html>\n",
              "<head><meta charset=\"utf-8\" /></head>\n",
              "<body>\n",
              "    <div>            <script src=\"https://cdnjs.cloudflare.com/ajax/libs/mathjax/2.7.5/MathJax.js?config=TeX-AMS-MML_SVG\"></script><script type=\"text/javascript\">if (window.MathJax && window.MathJax.Hub && window.MathJax.Hub.Config) {window.MathJax.Hub.Config({SVG: {font: \"STIX-Web\"}});}</script>                <script type=\"text/javascript\">window.PlotlyConfig = {MathJaxConfig: 'local'};</script>\n",
              "        <script charset=\"utf-8\" src=\"https://cdn.plot.ly/plotly-2.35.2.min.js\"></script>                <div id=\"593e856b-a636-49c3-8075-37d7cb4b1502\" class=\"plotly-graph-div\" style=\"height:525px; width:100%;\"></div>            <script type=\"text/javascript\">                                    window.PLOTLYENV=window.PLOTLYENV || {};                                    if (document.getElementById(\"593e856b-a636-49c3-8075-37d7cb4b1502\")) {                    Plotly.newPlot(                        \"593e856b-a636-49c3-8075-37d7cb4b1502\",                        [{\"line\":{\"shape\":\"hv\"},\"mode\":\"lines\",\"name\":\"Load (kW)\",\"x\":[0,1,2,3,4,5,6,7,8,9,10,11,12,13,14,15,16,17,18,19,20,21,22,23],\"y\":[2319.2920116,2380.4081100000003,2261.0461464000005,2187.0069048,2163.0366215999998,2208.8594160000002,2359.0861632,2549.2478652,2713.1845608,2829.8846664000002,2892.6761976000003,2932.5245472,2976.736644,3004.6746456,3052.9829052000005,3106.1002248,3153.9091104,3170.924316,3102.2526132000003,3009.9430620000003,2905.4190996,2849.984964,2741.1421968,2585.3984208],\"type\":\"scatter\",\"xaxis\":\"x\",\"yaxis\":\"y\"},{\"line\":{\"color\":\"green\",\"shape\":\"hv\"},\"mode\":\"lines\",\"name\":\"Grid Power (kW)\",\"x\":[0,1,2,3,4,5,6,7,8,9,10,11,12,13,14,15,16,17,18,19,20,21,22,23],\"y\":[6476.442908825401,5334.142209345994,4815.77765237858,4583.188264049296,4713.405978057308,6023.806121047343,2.3467364056301336e-15,7.874854826132115e-16,2.2815413136954664e-15,1.262110837212896e-14,1.045980986938524e-14,8.101214679818517e-15,6.630987041671996e-15,1.20995012162839e-16,4.385192978332586e-13,2.448554884656453e-16,7.436936202439286e-13,1.207952414837357e-12,1.5570160582265104e-12,3009.943082588209,2905.419116608041,2849.9849585973197,2741.142193520993,2585.398403063341],\"type\":\"scatter\",\"xaxis\":\"x\",\"yaxis\":\"y\"},{\"line\":{\"color\":\"red\",\"dash\":\"dash\",\"shape\":\"hv\"},\"mode\":\"lines\",\"name\":\"Unmet Load (kW)\",\"x\":[0,1,2,3,4,5,6,7,8,9,10,11,12,13,14,15,16,17,18,19,20,21,22,23],\"y\":[3.073158611533341e-10,2.953161519212629e-8,2.2490212013280828e-8,2.2060988338994015e-8,2.1827899948508612e-8,6.634914940994927e-7,378.3282368542825,511.6610077890857,1450.9126431099808,1937.5543221169714,2151.480704727937,2252.7513884106584,2321.395685165072,2329.1412888958826,2341.757254785496,2313.5055682856605,2185.6061173892,1764.344711993483,979.7833817544068,1.5633469420473504e-8,2.6232323053699765e-8,2.050432879164499e-8,8.442337959797013e-9,4.687166612314624e-9],\"type\":\"scatter\",\"xaxis\":\"x\",\"yaxis\":\"y\"},{\"line\":{\"color\":\"purple\",\"shape\":\"hv\"},\"mode\":\"lines+markers\",\"name\":\"Net Battery Charge (kW)\",\"x\":[0,1,2,3,4,5,6,7,8,9,10,11,12,13,14,15,16,17,18,19,20,21,22,23],\"y\":[4157.150897225709,2953.734099375526,2554.731506001069,2396.1813592713565,2550.369356479136,3814.946705710834,-1980.7579263457174,-2037.5868574109143,-1262.2719176900189,-892.3303442830284,-741.1954928720638,-679.773158789342,-655.3409588349281,-675.5333567041173,-711.2256504145045,-792.5946565143394,-968.3029930107997,-1406.5796040065159,-2122.4692314455915,0.000020603842222314154,0.00001703427329425244,-5.382175949532044e-6,-3.2705646657565865e-6,-0.00001773197199454247],\"type\":\"scatter\",\"xaxis\":\"x\",\"yaxis\":\"y\"}],                        {\"template\":{\"data\":{\"histogram2dcontour\":[{\"type\":\"histogram2dcontour\",\"colorbar\":{\"outlinewidth\":0,\"ticks\":\"\"},\"colorscale\":[[0.0,\"#0d0887\"],[0.1111111111111111,\"#46039f\"],[0.2222222222222222,\"#7201a8\"],[0.3333333333333333,\"#9c179e\"],[0.4444444444444444,\"#bd3786\"],[0.5555555555555556,\"#d8576b\"],[0.6666666666666666,\"#ed7953\"],[0.7777777777777778,\"#fb9f3a\"],[0.8888888888888888,\"#fdca26\"],[1.0,\"#f0f921\"]]}],\"choropleth\":[{\"type\":\"choropleth\",\"colorbar\":{\"outlinewidth\":0,\"ticks\":\"\"}}],\"histogram2d\":[{\"type\":\"histogram2d\",\"colorbar\":{\"outlinewidth\":0,\"ticks\":\"\"},\"colorscale\":[[0.0,\"#0d0887\"],[0.1111111111111111,\"#46039f\"],[0.2222222222222222,\"#7201a8\"],[0.3333333333333333,\"#9c179e\"],[0.4444444444444444,\"#bd3786\"],[0.5555555555555556,\"#d8576b\"],[0.6666666666666666,\"#ed7953\"],[0.7777777777777778,\"#fb9f3a\"],[0.8888888888888888,\"#fdca26\"],[1.0,\"#f0f921\"]]}],\"heatmap\":[{\"type\":\"heatmap\",\"colorbar\":{\"outlinewidth\":0,\"ticks\":\"\"},\"colorscale\":[[0.0,\"#0d0887\"],[0.1111111111111111,\"#46039f\"],[0.2222222222222222,\"#7201a8\"],[0.3333333333333333,\"#9c179e\"],[0.4444444444444444,\"#bd3786\"],[0.5555555555555556,\"#d8576b\"],[0.6666666666666666,\"#ed7953\"],[0.7777777777777778,\"#fb9f3a\"],[0.8888888888888888,\"#fdca26\"],[1.0,\"#f0f921\"]]}],\"heatmapgl\":[{\"type\":\"heatmapgl\",\"colorbar\":{\"outlinewidth\":0,\"ticks\":\"\"},\"colorscale\":[[0.0,\"#0d0887\"],[0.1111111111111111,\"#46039f\"],[0.2222222222222222,\"#7201a8\"],[0.3333333333333333,\"#9c179e\"],[0.4444444444444444,\"#bd3786\"],[0.5555555555555556,\"#d8576b\"],[0.6666666666666666,\"#ed7953\"],[0.7777777777777778,\"#fb9f3a\"],[0.8888888888888888,\"#fdca26\"],[1.0,\"#f0f921\"]]}],\"contourcarpet\":[{\"type\":\"contourcarpet\",\"colorbar\":{\"outlinewidth\":0,\"ticks\":\"\"}}],\"contour\":[{\"type\":\"contour\",\"colorbar\":{\"outlinewidth\":0,\"ticks\":\"\"},\"colorscale\":[[0.0,\"#0d0887\"],[0.1111111111111111,\"#46039f\"],[0.2222222222222222,\"#7201a8\"],[0.3333333333333333,\"#9c179e\"],[0.4444444444444444,\"#bd3786\"],[0.5555555555555556,\"#d8576b\"],[0.6666666666666666,\"#ed7953\"],[0.7777777777777778,\"#fb9f3a\"],[0.8888888888888888,\"#fdca26\"],[1.0,\"#f0f921\"]]}],\"surface\":[{\"type\":\"surface\",\"colorbar\":{\"outlinewidth\":0,\"ticks\":\"\"},\"colorscale\":[[0.0,\"#0d0887\"],[0.1111111111111111,\"#46039f\"],[0.2222222222222222,\"#7201a8\"],[0.3333333333333333,\"#9c179e\"],[0.4444444444444444,\"#bd3786\"],[0.5555555555555556,\"#d8576b\"],[0.6666666666666666,\"#ed7953\"],[0.7777777777777778,\"#fb9f3a\"],[0.8888888888888888,\"#fdca26\"],[1.0,\"#f0f921\"]]}],\"mesh3d\":[{\"type\":\"mesh3d\",\"colorbar\":{\"outlinewidth\":0,\"ticks\":\"\"}}],\"scatter\":[{\"fillpattern\":{\"fillmode\":\"overlay\",\"size\":10,\"solidity\":0.2},\"type\":\"scatter\"}],\"parcoords\":[{\"type\":\"parcoords\",\"line\":{\"colorbar\":{\"outlinewidth\":0,\"ticks\":\"\"}}}],\"scatterpolargl\":[{\"type\":\"scatterpolargl\",\"marker\":{\"colorbar\":{\"outlinewidth\":0,\"ticks\":\"\"}}}],\"bar\":[{\"error_x\":{\"color\":\"#2a3f5f\"},\"error_y\":{\"color\":\"#2a3f5f\"},\"marker\":{\"line\":{\"color\":\"#E5ECF6\",\"width\":0.5},\"pattern\":{\"fillmode\":\"overlay\",\"size\":10,\"solidity\":0.2}},\"type\":\"bar\"}],\"scattergeo\":[{\"type\":\"scattergeo\",\"marker\":{\"colorbar\":{\"outlinewidth\":0,\"ticks\":\"\"}}}],\"scatterpolar\":[{\"type\":\"scatterpolar\",\"marker\":{\"colorbar\":{\"outlinewidth\":0,\"ticks\":\"\"}}}],\"histogram\":[{\"marker\":{\"pattern\":{\"fillmode\":\"overlay\",\"size\":10,\"solidity\":0.2}},\"type\":\"histogram\"}],\"scattergl\":[{\"type\":\"scattergl\",\"marker\":{\"colorbar\":{\"outlinewidth\":0,\"ticks\":\"\"}}}],\"scatter3d\":[{\"type\":\"scatter3d\",\"line\":{\"colorbar\":{\"outlinewidth\":0,\"ticks\":\"\"}},\"marker\":{\"colorbar\":{\"outlinewidth\":0,\"ticks\":\"\"}}}],\"scattermapbox\":[{\"type\":\"scattermapbox\",\"marker\":{\"colorbar\":{\"outlinewidth\":0,\"ticks\":\"\"}}}],\"scatterternary\":[{\"type\":\"scatterternary\",\"marker\":{\"colorbar\":{\"outlinewidth\":0,\"ticks\":\"\"}}}],\"scattercarpet\":[{\"type\":\"scattercarpet\",\"marker\":{\"colorbar\":{\"outlinewidth\":0,\"ticks\":\"\"}}}],\"carpet\":[{\"aaxis\":{\"endlinecolor\":\"#2a3f5f\",\"gridcolor\":\"white\",\"linecolor\":\"white\",\"minorgridcolor\":\"white\",\"startlinecolor\":\"#2a3f5f\"},\"baxis\":{\"endlinecolor\":\"#2a3f5f\",\"gridcolor\":\"white\",\"linecolor\":\"white\",\"minorgridcolor\":\"white\",\"startlinecolor\":\"#2a3f5f\"},\"type\":\"carpet\"}],\"table\":[{\"cells\":{\"fill\":{\"color\":\"#EBF0F8\"},\"line\":{\"color\":\"white\"}},\"header\":{\"fill\":{\"color\":\"#C8D4E3\"},\"line\":{\"color\":\"white\"}},\"type\":\"table\"}],\"barpolar\":[{\"marker\":{\"line\":{\"color\":\"#E5ECF6\",\"width\":0.5},\"pattern\":{\"fillmode\":\"overlay\",\"size\":10,\"solidity\":0.2}},\"type\":\"barpolar\"}],\"pie\":[{\"automargin\":true,\"type\":\"pie\"}]},\"layout\":{\"autotypenumbers\":\"strict\",\"colorway\":[\"#636efa\",\"#EF553B\",\"#00cc96\",\"#ab63fa\",\"#FFA15A\",\"#19d3f3\",\"#FF6692\",\"#B6E880\",\"#FF97FF\",\"#FECB52\"],\"font\":{\"color\":\"#2a3f5f\"},\"hovermode\":\"closest\",\"hoverlabel\":{\"align\":\"left\"},\"paper_bgcolor\":\"white\",\"plot_bgcolor\":\"#E5ECF6\",\"polar\":{\"bgcolor\":\"#E5ECF6\",\"angularaxis\":{\"gridcolor\":\"white\",\"linecolor\":\"white\",\"ticks\":\"\"},\"radialaxis\":{\"gridcolor\":\"white\",\"linecolor\":\"white\",\"ticks\":\"\"}},\"ternary\":{\"bgcolor\":\"#E5ECF6\",\"aaxis\":{\"gridcolor\":\"white\",\"linecolor\":\"white\",\"ticks\":\"\"},\"baxis\":{\"gridcolor\":\"white\",\"linecolor\":\"white\",\"ticks\":\"\"},\"caxis\":{\"gridcolor\":\"white\",\"linecolor\":\"white\",\"ticks\":\"\"}},\"coloraxis\":{\"colorbar\":{\"outlinewidth\":0,\"ticks\":\"\"}},\"colorscale\":{\"sequential\":[[0.0,\"#0d0887\"],[0.1111111111111111,\"#46039f\"],[0.2222222222222222,\"#7201a8\"],[0.3333333333333333,\"#9c179e\"],[0.4444444444444444,\"#bd3786\"],[0.5555555555555556,\"#d8576b\"],[0.6666666666666666,\"#ed7953\"],[0.7777777777777778,\"#fb9f3a\"],[0.8888888888888888,\"#fdca26\"],[1.0,\"#f0f921\"]],\"sequentialminus\":[[0.0,\"#0d0887\"],[0.1111111111111111,\"#46039f\"],[0.2222222222222222,\"#7201a8\"],[0.3333333333333333,\"#9c179e\"],[0.4444444444444444,\"#bd3786\"],[0.5555555555555556,\"#d8576b\"],[0.6666666666666666,\"#ed7953\"],[0.7777777777777778,\"#fb9f3a\"],[0.8888888888888888,\"#fdca26\"],[1.0,\"#f0f921\"]],\"diverging\":[[0,\"#8e0152\"],[0.1,\"#c51b7d\"],[0.2,\"#de77ae\"],[0.3,\"#f1b6da\"],[0.4,\"#fde0ef\"],[0.5,\"#f7f7f7\"],[0.6,\"#e6f5d0\"],[0.7,\"#b8e186\"],[0.8,\"#7fbc41\"],[0.9,\"#4d9221\"],[1,\"#276419\"]]},\"xaxis\":{\"gridcolor\":\"white\",\"linecolor\":\"white\",\"ticks\":\"\",\"title\":{\"standoff\":15},\"zerolinecolor\":\"white\",\"automargin\":true,\"zerolinewidth\":2},\"yaxis\":{\"gridcolor\":\"white\",\"linecolor\":\"white\",\"ticks\":\"\",\"title\":{\"standoff\":15},\"zerolinecolor\":\"white\",\"automargin\":true,\"zerolinewidth\":2},\"scene\":{\"xaxis\":{\"backgroundcolor\":\"#E5ECF6\",\"gridcolor\":\"white\",\"linecolor\":\"white\",\"showbackground\":true,\"ticks\":\"\",\"zerolinecolor\":\"white\",\"gridwidth\":2},\"yaxis\":{\"backgroundcolor\":\"#E5ECF6\",\"gridcolor\":\"white\",\"linecolor\":\"white\",\"showbackground\":true,\"ticks\":\"\",\"zerolinecolor\":\"white\",\"gridwidth\":2},\"zaxis\":{\"backgroundcolor\":\"#E5ECF6\",\"gridcolor\":\"white\",\"linecolor\":\"white\",\"showbackground\":true,\"ticks\":\"\",\"zerolinecolor\":\"white\",\"gridwidth\":2}},\"shapedefaults\":{\"line\":{\"color\":\"#2a3f5f\"}},\"annotationdefaults\":{\"arrowcolor\":\"#2a3f5f\",\"arrowhead\":0,\"arrowwidth\":1},\"geo\":{\"bgcolor\":\"white\",\"landcolor\":\"#E5ECF6\",\"subunitcolor\":\"white\",\"showland\":true,\"showlakes\":true,\"lakecolor\":\"white\"},\"title\":{\"x\":0.05},\"mapbox\":{\"style\":\"light\"}}},\"xaxis\":{\"anchor\":\"y\",\"domain\":[0.0,0.94],\"title\":{\"text\":\"Time (Hours)\"},\"tickvals\":[0,1,2,3,4,5,6,7,8,9,10,11,12,13,14,15,16,17,18,19,20,21,22,23],\"ticktext\":[\"0\",\"1\",\"2\",\"3\",\"4\",\"5\",\"6\",\"7\",\"8\",\"9\",\"10\",\"11\",\"12\",\"13\",\"14\",\"15\",\"16\",\"17\",\"18\",\"19\",\"20\",\"21\",\"22\",\"23\"]},\"yaxis\":{\"anchor\":\"x\",\"domain\":[0.0,1.0],\"title\":{\"text\":\"Power (kW)\"},\"rangemode\":\"tozero\"},\"yaxis2\":{\"anchor\":\"y\",\"overlaying\":\"y\",\"side\":\"right\",\"title\":{\"text\":\"Energy (kWh)\"},\"rangemode\":\"tozero\"},\"shapes\":[{\"fillcolor\":\"gray\",\"layer\":\"below\",\"line\":{\"width\":0},\"opacity\":0.3,\"type\":\"rect\",\"x0\":0,\"x1\":8,\"xref\":\"x\",\"y0\":0.95,\"y1\":1,\"yref\":\"paper\"},{\"fillcolor\":\"blue\",\"layer\":\"below\",\"line\":{\"width\":0},\"opacity\":0.3,\"type\":\"rect\",\"x0\":8,\"x1\":24,\"xref\":\"x\",\"y0\":0.95,\"y1\":1,\"yref\":\"paper\"},{\"fillcolor\":\"red\",\"layer\":\"below\",\"line\":{\"width\":0},\"opacity\":0.3,\"type\":\"rect\",\"x0\":6,\"x1\":19,\"xref\":\"x\",\"y0\":0,\"y1\":0.95,\"yref\":\"paper\"}],\"annotations\":[{\"font\":{\"color\":\"black\",\"family\":\"Arial\",\"size\":11},\"showarrow\":false,\"text\":\"\\u003cb\\u003e$0.02\\u002fkWh\\u003c\\u002fb\\u003e\",\"x\":4.0,\"xref\":\"x\",\"y\":1,\"yref\":\"paper\"},{\"font\":{\"color\":\"black\",\"family\":\"Arial\",\"size\":11},\"showarrow\":false,\"text\":\"\\u003cb\\u003e$0.33\\u002fkWh\\u003c\\u002fb\\u003e\",\"x\":16.0,\"xref\":\"x\",\"y\":1,\"yref\":\"paper\"}],\"title\":{\"text\":\"MPC with Horizon 12 Hours\",\"x\":0.5},\"legend\":{\"x\":0.5,\"y\":-0.2,\"orientation\":\"h\",\"xanchor\":\"center\"}},                        {\"responsive\": true}                    ).then(function(){\n",
              "                            \n",
              "var gd = document.getElementById('593e856b-a636-49c3-8075-37d7cb4b1502');\n",
              "var x = new MutationObserver(function (mutations, observer) {{\n",
              "        var display = window.getComputedStyle(gd).display;\n",
              "        if (!display || display === 'none') {{\n",
              "            console.log([gd, 'removed!']);\n",
              "            Plotly.purge(gd);\n",
              "            observer.disconnect();\n",
              "        }}\n",
              "}});\n",
              "\n",
              "// Listen for the removal of the full notebook cells\n",
              "var notebookContainer = gd.closest('#notebook-container');\n",
              "if (notebookContainer) {{\n",
              "    x.observe(notebookContainer, {childList: true});\n",
              "}}\n",
              "\n",
              "// Listen for the clearing of the current output cell\n",
              "var outputEl = gd.closest('.output');\n",
              "if (outputEl) {{\n",
              "    x.observe(outputEl, {childList: true});\n",
              "}}\n",
              "\n",
              "                        })                };                            </script>        </div>\n",
              "</body>\n",
              "</html>"
            ]
          },
          "metadata": {}
        }
      ]
    },
    {
      "cell_type": "markdown",
      "source": [
        "# Battery Dynamics Plot\n",
        "To create plots of just the battery dynamics, the following code was used. The previous section of code needs to be run first in order to collect the data."
      ],
      "metadata": {
        "id": "JsgZFYsZQuWL"
      }
    },
    {
      "cell_type": "code",
      "source": [
        "def plot_battery_details(battery_energy, net_battery_charge, cost_data, outages, days_considered):\n",
        "    # Create figure with secondary y-axis\n",
        "    fig = make_subplots(specs=[[{\"secondary_y\": True}]])\n",
        "\n",
        "    # Add traces\n",
        "    fig.add_trace(\n",
        "        go.Scatter(x=timesteps, y=battery_energy[:len(timesteps)], name=\"Battery State of Charge (kWh)\", mode='lines', line=dict(shape = 'hv',color='black')),\n",
        "        secondary_y=False,  # Battery energy on primary y-axis\n",
        "    )\n",
        "\n",
        "    fig.add_trace(\n",
        "           go.Scatter(x=timesteps, y=net_battery_charge, name=\"Net Battery Charge (kW)\", mode='lines+markers', line=dict(shape='hv', color='purple')),  # Net battery power on primary y-axis\n",
        "           secondary_y=True,\n",
        "       )\n",
        "\n",
        "    # fig.add_trace(\n",
        "        # go.Scatter(x=timesteps, y=battery_charge, name=\"Battery Charge (kW)\", mode='lines', line=dict(color='green',shape='hv')),  # Battery charge on secondary y-axis\n",
        "        # secondary_y=True,\n",
        "    # )\n",
        "\n",
        "    # fig.add_trace(\n",
        "        # go.Scatter(x=timesteps, y=battery_discharge, name=\"Battery Discharge (kW)\", mode='lines', line=dict(color='purple',shape='hv')),  # Battery discharge on secondary y-axis\n",
        "        # secondary_y=True,\n",
        "    # )\n",
        "\n",
        "    # Add cost blocks using the existing plot_cost_blocks2 function\n",
        "    plot_cost_blocks(fig, cost_data, days_considered, N_steps)\n",
        "\n",
        "    # Plot outages as shaded areas\n",
        "    for outage_start, outage_end in outages:\n",
        "        fig.add_shape(\n",
        "            type=\"rect\", xref=\"x\", yref=\"paper\", x0=outage_start, y0=0, x1=outage_end,\n",
        "            y1=0.95, fillcolor=\"red\", opacity=0.3, line_width=0, layer=\"below\",\n",
        "        )\n",
        "\n",
        "    # Update xaxis properties\n",
        "    if days_considered > 1:\n",
        "        x_ticks = np.arange(0, N_steps * days_considered, N_steps)\n",
        "        x_tick_labels = [f\"Day {i + 1}\" for i in range(days_considered)]\n",
        "        fig.update_xaxes(title_text=\"Time (Days)\", tickvals=x_ticks, ticktext=x_tick_labels,\n",
        "                         minor_ticks=\"outside\", minor_dtick=1) # Added minor ticks\n",
        "    else:\n",
        "        x_ticks = np.arange(0, N_steps * days_considered, 1)\n",
        "        x_tick_labels = [f\"{i}\" for i in range(N_steps * days_considered)]\n",
        "        fig.update_xaxes(title_text=\"Time (Hours)\", tickvals=x_ticks, ticktext=x_tick_labels)\n",
        "\n",
        "    # Update yaxis properties\n",
        "    fig.update_yaxes(title_text=\"Energy (kWh)\", secondary_y=False)  # Primary y-axis for energy\n",
        "    fig.update_yaxes(title_text=\"Power (kW)\", secondary_y=True)  # Secondary y-axis for power\n",
        "\n",
        "    # Update layout properties\n",
        "    fig.update_layout(\n",
        "           title_text=\"Battery Dynamics\",\n",
        "           title_x=0.5,\n",
        "           legend=dict(x=0.5, y=-0.2, orientation=\"h\", xanchor=\"center\"),\n",
        "           yaxis=dict(rangemode='tozero'),  # Align primary y-axis to zero\n",
        "           yaxis2=dict(rangemode='tozero')  # Align secondary y-axis to zero\n",
        "       )\n",
        "\n",
        "    # Show plot\n",
        "    fig.show()\n",
        "\n",
        "# Call this function after your optimization loop, passing the required data\n",
        "plot_battery_details(battery_energy, net_battery_charge, cost_data, outages, days_considered)"
      ],
      "metadata": {
        "colab": {
          "base_uri": "https://localhost:8080/",
          "height": 542
        },
        "id": "jLiCvnG29G8j",
        "outputId": "2bda8742-98d6-4687-b24a-5b2c48f70e1e"
      },
      "execution_count": null,
      "outputs": [
        {
          "output_type": "display_data",
          "data": {
            "text/html": [
              "<html>\n",
              "<head><meta charset=\"utf-8\" /></head>\n",
              "<body>\n",
              "    <div>            <script src=\"https://cdnjs.cloudflare.com/ajax/libs/mathjax/2.7.5/MathJax.js?config=TeX-AMS-MML_SVG\"></script><script type=\"text/javascript\">if (window.MathJax && window.MathJax.Hub && window.MathJax.Hub.Config) {window.MathJax.Hub.Config({SVG: {font: \"STIX-Web\"}});}</script>                <script type=\"text/javascript\">window.PlotlyConfig = {MathJaxConfig: 'local'};</script>\n",
              "        <script charset=\"utf-8\" src=\"https://cdn.plot.ly/plotly-2.35.2.min.js\"></script>                <div id=\"a0702594-f537-40f2-b112-81ba0520dfb9\" class=\"plotly-graph-div\" style=\"height:525px; width:100%;\"></div>            <script type=\"text/javascript\">                                    window.PLOTLYENV=window.PLOTLYENV || {};                                    if (document.getElementById(\"a0702594-f537-40f2-b112-81ba0520dfb9\")) {                    Plotly.newPlot(                        \"a0702594-f537-40f2-b112-81ba0520dfb9\",                        [{\"line\":{\"color\":\"black\",\"shape\":\"hv\"},\"mode\":\"lines\",\"name\":\"Battery State of Charge (kWh)\",\"x\":[0,1,2,3,4,5,6,7,8,9,10,11,12,13,14,15,16,17,18,19,20,21,22,23],\"y\":[0,3741.4358072654627,6399.7964904003375,8699.05484285442,10855.618064074477,13150.950482798069,16584.402389504197,14383.560249101805,12119.57485197055,10717.050498745431,9725.57233836484,8902.021790572879,8146.718280524867,7418.561659209725,6667.9690398171815,5877.718317054309,4997.057587226152,3921.165372761125,2358.2991460756566,1.2170780620893965e-8,0.00001784520938383936,0.00003184611986656193,0.000025512745991234957,0.00002048533583601121],\"type\":\"scatter\",\"xaxis\":\"x\",\"yaxis\":\"y\"},{\"line\":{\"color\":\"purple\",\"shape\":\"hv\"},\"mode\":\"lines+markers\",\"name\":\"Net Battery Charge (kW)\",\"x\":[0,1,2,3,4,5,6,7,8,9,10,11,12,13,14,15,16,17,18,19,20,21,22,23],\"y\":[4157.150897225709,2953.734099375526,2554.731506001069,2396.1813592713565,2550.369356479136,3814.946705710834,-1980.7579263457174,-2037.5868574109143,-1262.2719176900189,-892.3303442830284,-741.1954928720638,-679.773158789342,-655.3409588349281,-675.5333567041173,-711.2256504145045,-792.5946565143394,-968.3029930107997,-1406.5796040065159,-2122.4692314455915,0.000020603842222314154,0.00001703427329425244,-5.382175949532044e-6,-3.2705646657565865e-6,-0.00001773197199454247],\"type\":\"scatter\",\"xaxis\":\"x\",\"yaxis\":\"y2\"}],                        {\"template\":{\"data\":{\"histogram2dcontour\":[{\"type\":\"histogram2dcontour\",\"colorbar\":{\"outlinewidth\":0,\"ticks\":\"\"},\"colorscale\":[[0.0,\"#0d0887\"],[0.1111111111111111,\"#46039f\"],[0.2222222222222222,\"#7201a8\"],[0.3333333333333333,\"#9c179e\"],[0.4444444444444444,\"#bd3786\"],[0.5555555555555556,\"#d8576b\"],[0.6666666666666666,\"#ed7953\"],[0.7777777777777778,\"#fb9f3a\"],[0.8888888888888888,\"#fdca26\"],[1.0,\"#f0f921\"]]}],\"choropleth\":[{\"type\":\"choropleth\",\"colorbar\":{\"outlinewidth\":0,\"ticks\":\"\"}}],\"histogram2d\":[{\"type\":\"histogram2d\",\"colorbar\":{\"outlinewidth\":0,\"ticks\":\"\"},\"colorscale\":[[0.0,\"#0d0887\"],[0.1111111111111111,\"#46039f\"],[0.2222222222222222,\"#7201a8\"],[0.3333333333333333,\"#9c179e\"],[0.4444444444444444,\"#bd3786\"],[0.5555555555555556,\"#d8576b\"],[0.6666666666666666,\"#ed7953\"],[0.7777777777777778,\"#fb9f3a\"],[0.8888888888888888,\"#fdca26\"],[1.0,\"#f0f921\"]]}],\"heatmap\":[{\"type\":\"heatmap\",\"colorbar\":{\"outlinewidth\":0,\"ticks\":\"\"},\"colorscale\":[[0.0,\"#0d0887\"],[0.1111111111111111,\"#46039f\"],[0.2222222222222222,\"#7201a8\"],[0.3333333333333333,\"#9c179e\"],[0.4444444444444444,\"#bd3786\"],[0.5555555555555556,\"#d8576b\"],[0.6666666666666666,\"#ed7953\"],[0.7777777777777778,\"#fb9f3a\"],[0.8888888888888888,\"#fdca26\"],[1.0,\"#f0f921\"]]}],\"heatmapgl\":[{\"type\":\"heatmapgl\",\"colorbar\":{\"outlinewidth\":0,\"ticks\":\"\"},\"colorscale\":[[0.0,\"#0d0887\"],[0.1111111111111111,\"#46039f\"],[0.2222222222222222,\"#7201a8\"],[0.3333333333333333,\"#9c179e\"],[0.4444444444444444,\"#bd3786\"],[0.5555555555555556,\"#d8576b\"],[0.6666666666666666,\"#ed7953\"],[0.7777777777777778,\"#fb9f3a\"],[0.8888888888888888,\"#fdca26\"],[1.0,\"#f0f921\"]]}],\"contourcarpet\":[{\"type\":\"contourcarpet\",\"colorbar\":{\"outlinewidth\":0,\"ticks\":\"\"}}],\"contour\":[{\"type\":\"contour\",\"colorbar\":{\"outlinewidth\":0,\"ticks\":\"\"},\"colorscale\":[[0.0,\"#0d0887\"],[0.1111111111111111,\"#46039f\"],[0.2222222222222222,\"#7201a8\"],[0.3333333333333333,\"#9c179e\"],[0.4444444444444444,\"#bd3786\"],[0.5555555555555556,\"#d8576b\"],[0.6666666666666666,\"#ed7953\"],[0.7777777777777778,\"#fb9f3a\"],[0.8888888888888888,\"#fdca26\"],[1.0,\"#f0f921\"]]}],\"surface\":[{\"type\":\"surface\",\"colorbar\":{\"outlinewidth\":0,\"ticks\":\"\"},\"colorscale\":[[0.0,\"#0d0887\"],[0.1111111111111111,\"#46039f\"],[0.2222222222222222,\"#7201a8\"],[0.3333333333333333,\"#9c179e\"],[0.4444444444444444,\"#bd3786\"],[0.5555555555555556,\"#d8576b\"],[0.6666666666666666,\"#ed7953\"],[0.7777777777777778,\"#fb9f3a\"],[0.8888888888888888,\"#fdca26\"],[1.0,\"#f0f921\"]]}],\"mesh3d\":[{\"type\":\"mesh3d\",\"colorbar\":{\"outlinewidth\":0,\"ticks\":\"\"}}],\"scatter\":[{\"fillpattern\":{\"fillmode\":\"overlay\",\"size\":10,\"solidity\":0.2},\"type\":\"scatter\"}],\"parcoords\":[{\"type\":\"parcoords\",\"line\":{\"colorbar\":{\"outlinewidth\":0,\"ticks\":\"\"}}}],\"scatterpolargl\":[{\"type\":\"scatterpolargl\",\"marker\":{\"colorbar\":{\"outlinewidth\":0,\"ticks\":\"\"}}}],\"bar\":[{\"error_x\":{\"color\":\"#2a3f5f\"},\"error_y\":{\"color\":\"#2a3f5f\"},\"marker\":{\"line\":{\"color\":\"#E5ECF6\",\"width\":0.5},\"pattern\":{\"fillmode\":\"overlay\",\"size\":10,\"solidity\":0.2}},\"type\":\"bar\"}],\"scattergeo\":[{\"type\":\"scattergeo\",\"marker\":{\"colorbar\":{\"outlinewidth\":0,\"ticks\":\"\"}}}],\"scatterpolar\":[{\"type\":\"scatterpolar\",\"marker\":{\"colorbar\":{\"outlinewidth\":0,\"ticks\":\"\"}}}],\"histogram\":[{\"marker\":{\"pattern\":{\"fillmode\":\"overlay\",\"size\":10,\"solidity\":0.2}},\"type\":\"histogram\"}],\"scattergl\":[{\"type\":\"scattergl\",\"marker\":{\"colorbar\":{\"outlinewidth\":0,\"ticks\":\"\"}}}],\"scatter3d\":[{\"type\":\"scatter3d\",\"line\":{\"colorbar\":{\"outlinewidth\":0,\"ticks\":\"\"}},\"marker\":{\"colorbar\":{\"outlinewidth\":0,\"ticks\":\"\"}}}],\"scattermapbox\":[{\"type\":\"scattermapbox\",\"marker\":{\"colorbar\":{\"outlinewidth\":0,\"ticks\":\"\"}}}],\"scatterternary\":[{\"type\":\"scatterternary\",\"marker\":{\"colorbar\":{\"outlinewidth\":0,\"ticks\":\"\"}}}],\"scattercarpet\":[{\"type\":\"scattercarpet\",\"marker\":{\"colorbar\":{\"outlinewidth\":0,\"ticks\":\"\"}}}],\"carpet\":[{\"aaxis\":{\"endlinecolor\":\"#2a3f5f\",\"gridcolor\":\"white\",\"linecolor\":\"white\",\"minorgridcolor\":\"white\",\"startlinecolor\":\"#2a3f5f\"},\"baxis\":{\"endlinecolor\":\"#2a3f5f\",\"gridcolor\":\"white\",\"linecolor\":\"white\",\"minorgridcolor\":\"white\",\"startlinecolor\":\"#2a3f5f\"},\"type\":\"carpet\"}],\"table\":[{\"cells\":{\"fill\":{\"color\":\"#EBF0F8\"},\"line\":{\"color\":\"white\"}},\"header\":{\"fill\":{\"color\":\"#C8D4E3\"},\"line\":{\"color\":\"white\"}},\"type\":\"table\"}],\"barpolar\":[{\"marker\":{\"line\":{\"color\":\"#E5ECF6\",\"width\":0.5},\"pattern\":{\"fillmode\":\"overlay\",\"size\":10,\"solidity\":0.2}},\"type\":\"barpolar\"}],\"pie\":[{\"automargin\":true,\"type\":\"pie\"}]},\"layout\":{\"autotypenumbers\":\"strict\",\"colorway\":[\"#636efa\",\"#EF553B\",\"#00cc96\",\"#ab63fa\",\"#FFA15A\",\"#19d3f3\",\"#FF6692\",\"#B6E880\",\"#FF97FF\",\"#FECB52\"],\"font\":{\"color\":\"#2a3f5f\"},\"hovermode\":\"closest\",\"hoverlabel\":{\"align\":\"left\"},\"paper_bgcolor\":\"white\",\"plot_bgcolor\":\"#E5ECF6\",\"polar\":{\"bgcolor\":\"#E5ECF6\",\"angularaxis\":{\"gridcolor\":\"white\",\"linecolor\":\"white\",\"ticks\":\"\"},\"radialaxis\":{\"gridcolor\":\"white\",\"linecolor\":\"white\",\"ticks\":\"\"}},\"ternary\":{\"bgcolor\":\"#E5ECF6\",\"aaxis\":{\"gridcolor\":\"white\",\"linecolor\":\"white\",\"ticks\":\"\"},\"baxis\":{\"gridcolor\":\"white\",\"linecolor\":\"white\",\"ticks\":\"\"},\"caxis\":{\"gridcolor\":\"white\",\"linecolor\":\"white\",\"ticks\":\"\"}},\"coloraxis\":{\"colorbar\":{\"outlinewidth\":0,\"ticks\":\"\"}},\"colorscale\":{\"sequential\":[[0.0,\"#0d0887\"],[0.1111111111111111,\"#46039f\"],[0.2222222222222222,\"#7201a8\"],[0.3333333333333333,\"#9c179e\"],[0.4444444444444444,\"#bd3786\"],[0.5555555555555556,\"#d8576b\"],[0.6666666666666666,\"#ed7953\"],[0.7777777777777778,\"#fb9f3a\"],[0.8888888888888888,\"#fdca26\"],[1.0,\"#f0f921\"]],\"sequentialminus\":[[0.0,\"#0d0887\"],[0.1111111111111111,\"#46039f\"],[0.2222222222222222,\"#7201a8\"],[0.3333333333333333,\"#9c179e\"],[0.4444444444444444,\"#bd3786\"],[0.5555555555555556,\"#d8576b\"],[0.6666666666666666,\"#ed7953\"],[0.7777777777777778,\"#fb9f3a\"],[0.8888888888888888,\"#fdca26\"],[1.0,\"#f0f921\"]],\"diverging\":[[0,\"#8e0152\"],[0.1,\"#c51b7d\"],[0.2,\"#de77ae\"],[0.3,\"#f1b6da\"],[0.4,\"#fde0ef\"],[0.5,\"#f7f7f7\"],[0.6,\"#e6f5d0\"],[0.7,\"#b8e186\"],[0.8,\"#7fbc41\"],[0.9,\"#4d9221\"],[1,\"#276419\"]]},\"xaxis\":{\"gridcolor\":\"white\",\"linecolor\":\"white\",\"ticks\":\"\",\"title\":{\"standoff\":15},\"zerolinecolor\":\"white\",\"automargin\":true,\"zerolinewidth\":2},\"yaxis\":{\"gridcolor\":\"white\",\"linecolor\":\"white\",\"ticks\":\"\",\"title\":{\"standoff\":15},\"zerolinecolor\":\"white\",\"automargin\":true,\"zerolinewidth\":2},\"scene\":{\"xaxis\":{\"backgroundcolor\":\"#E5ECF6\",\"gridcolor\":\"white\",\"linecolor\":\"white\",\"showbackground\":true,\"ticks\":\"\",\"zerolinecolor\":\"white\",\"gridwidth\":2},\"yaxis\":{\"backgroundcolor\":\"#E5ECF6\",\"gridcolor\":\"white\",\"linecolor\":\"white\",\"showbackground\":true,\"ticks\":\"\",\"zerolinecolor\":\"white\",\"gridwidth\":2},\"zaxis\":{\"backgroundcolor\":\"#E5ECF6\",\"gridcolor\":\"white\",\"linecolor\":\"white\",\"showbackground\":true,\"ticks\":\"\",\"zerolinecolor\":\"white\",\"gridwidth\":2}},\"shapedefaults\":{\"line\":{\"color\":\"#2a3f5f\"}},\"annotationdefaults\":{\"arrowcolor\":\"#2a3f5f\",\"arrowhead\":0,\"arrowwidth\":1},\"geo\":{\"bgcolor\":\"white\",\"landcolor\":\"#E5ECF6\",\"subunitcolor\":\"white\",\"showland\":true,\"showlakes\":true,\"lakecolor\":\"white\"},\"title\":{\"x\":0.05},\"mapbox\":{\"style\":\"light\"}}},\"xaxis\":{\"anchor\":\"y\",\"domain\":[0.0,0.94],\"title\":{\"text\":\"Time (Hours)\"},\"tickvals\":[0,1,2,3,4,5,6,7,8,9,10,11,12,13,14,15,16,17,18,19,20,21,22,23],\"ticktext\":[\"0\",\"1\",\"2\",\"3\",\"4\",\"5\",\"6\",\"7\",\"8\",\"9\",\"10\",\"11\",\"12\",\"13\",\"14\",\"15\",\"16\",\"17\",\"18\",\"19\",\"20\",\"21\",\"22\",\"23\"]},\"yaxis\":{\"anchor\":\"x\",\"domain\":[0.0,1.0],\"title\":{\"text\":\"Energy (kWh)\"},\"rangemode\":\"tozero\"},\"yaxis2\":{\"anchor\":\"x\",\"overlaying\":\"y\",\"side\":\"right\",\"title\":{\"text\":\"Power (kW)\"},\"rangemode\":\"tozero\"},\"shapes\":[{\"fillcolor\":\"gray\",\"layer\":\"below\",\"line\":{\"width\":0},\"opacity\":0.3,\"type\":\"rect\",\"x0\":0,\"x1\":8,\"xref\":\"x\",\"y0\":0.95,\"y1\":1,\"yref\":\"paper\"},{\"fillcolor\":\"blue\",\"layer\":\"below\",\"line\":{\"width\":0},\"opacity\":0.3,\"type\":\"rect\",\"x0\":8,\"x1\":24,\"xref\":\"x\",\"y0\":0.95,\"y1\":1,\"yref\":\"paper\"},{\"fillcolor\":\"red\",\"layer\":\"below\",\"line\":{\"width\":0},\"opacity\":0.3,\"type\":\"rect\",\"x0\":6,\"x1\":19,\"xref\":\"x\",\"y0\":0,\"y1\":0.95,\"yref\":\"paper\"}],\"annotations\":[{\"font\":{\"color\":\"black\",\"family\":\"Arial\",\"size\":11},\"showarrow\":false,\"text\":\"\\u003cb\\u003e$0.02\\u002fkWh\\u003c\\u002fb\\u003e\",\"x\":4.0,\"xref\":\"x\",\"y\":1,\"yref\":\"paper\"},{\"font\":{\"color\":\"black\",\"family\":\"Arial\",\"size\":11},\"showarrow\":false,\"text\":\"\\u003cb\\u003e$0.33\\u002fkWh\\u003c\\u002fb\\u003e\",\"x\":16.0,\"xref\":\"x\",\"y\":1,\"yref\":\"paper\"}],\"title\":{\"text\":\"Battery Dynamics\",\"x\":0.5},\"legend\":{\"x\":0.5,\"y\":-0.2,\"orientation\":\"h\",\"xanchor\":\"center\"}},                        {\"responsive\": true}                    ).then(function(){\n",
              "                            \n",
              "var gd = document.getElementById('a0702594-f537-40f2-b112-81ba0520dfb9');\n",
              "var x = new MutationObserver(function (mutations, observer) {{\n",
              "        var display = window.getComputedStyle(gd).display;\n",
              "        if (!display || display === 'none') {{\n",
              "            console.log([gd, 'removed!']);\n",
              "            Plotly.purge(gd);\n",
              "            observer.disconnect();\n",
              "        }}\n",
              "}});\n",
              "\n",
              "// Listen for the removal of the full notebook cells\n",
              "var notebookContainer = gd.closest('#notebook-container');\n",
              "if (notebookContainer) {{\n",
              "    x.observe(notebookContainer, {childList: true});\n",
              "}}\n",
              "\n",
              "// Listen for the clearing of the current output cell\n",
              "var outputEl = gd.closest('.output');\n",
              "if (outputEl) {{\n",
              "    x.observe(outputEl, {childList: true});\n",
              "}}\n",
              "\n",
              "                        })                };                            </script>        </div>\n",
              "</body>\n",
              "</html>"
            ]
          },
          "metadata": {}
        }
      ]
    }
  ]
}